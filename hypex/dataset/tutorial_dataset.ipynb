{
 "cells": [
  {
   "cell_type": "code",
   "id": "initial_id",
   "metadata": {
    "collapsed": true,
    "ExecuteTime": {
     "end_time": "2024-02-13T08:26:40.109711Z",
     "start_time": "2024-02-13T08:26:37.648895Z"
    }
   },
   "source": [
    "\n",
    "import pandas as pd\n",
    "\n",
    "from hypex.dataset.dataset import Dataset\n",
    "from hypex.dataset.roles import *"
   ],
   "outputs": [],
   "execution_count": 1
  },
  {
   "metadata": {
    "ExecuteTime": {
     "end_time": "2024-02-13T08:26:40.126434Z",
     "start_time": "2024-02-13T08:26:40.112537Z"
    }
   },
   "cell_type": "code",
   "id": "522c2e109efc0c17",
   "source": [
    "df = pd.DataFrame({'a': [1, 2, 3], 'b': [4, 5, 6]})\n",
    "ds = Dataset(df, roles={TargetRole(np.float32): 'a', PreTargetRole(np.float32): 'b'})"
   ],
   "outputs": [],
   "execution_count": 2
  },
  {
   "metadata": {
    "ExecuteTime": {
     "end_time": "2024-02-13T08:26:40.155778Z",
     "start_time": "2024-02-13T08:26:40.129470Z"
    }
   },
   "cell_type": "code",
   "id": "d73240739d0a51ff",
   "source": "ds",
   "outputs": [
    {
     "data": {
      "text/plain": [
       "   a  b\n",
       "0  1  4\n",
       "1  2  5\n",
       "2  3  6"
      ]
     },
     "execution_count": 3,
     "metadata": {},
     "output_type": "execute_result"
    }
   ],
   "execution_count": 3
  },
  {
   "metadata": {
    "ExecuteTime": {
     "end_time": "2024-02-13T08:26:40.171820Z",
     "start_time": "2024-02-13T08:26:40.161803Z"
    }
   },
   "cell_type": "code",
   "id": "37b558e38a543a26",
   "source": "ds.roles",
   "outputs": [
    {
     "data": {
      "text/plain": [
       "{'a': <hypex.dataset.roles.TargetRole at 0x1c8b0f7e800>,\n",
       " 'b': <hypex.dataset.roles.PreTargetRole at 0x1c8b0f7e230>}"
      ]
     },
     "execution_count": 4,
     "metadata": {},
     "output_type": "execute_result"
    }
   ],
   "execution_count": 4
  },
  {
   "metadata": {
    "ExecuteTime": {
     "end_time": "2024-02-13T08:26:40.203823Z",
     "start_time": "2024-02-13T08:26:40.179554Z"
    }
   },
   "cell_type": "code",
   "id": "7f22c159be791753",
   "source": "ds['a']",
   "outputs": [
    {
     "data": {
      "text/plain": [
       "0    1\n",
       "1    2\n",
       "2    3\n",
       "Name: a, dtype: int64"
      ]
     },
     "execution_count": 5,
     "metadata": {},
     "output_type": "execute_result"
    }
   ],
   "execution_count": 5
  },
  {
   "metadata": {
    "ExecuteTime": {
     "end_time": "2024-02-13T08:26:40.234202Z",
     "start_time": "2024-02-13T08:26:40.209300Z"
    }
   },
   "cell_type": "code",
   "id": "86544b832e1c6601",
   "source": "ds[1]",
   "outputs": [
    {
     "data": {
      "text/plain": [
       "a    2\n",
       "b    5\n",
       "Name: 1, dtype: int64"
      ]
     },
     "execution_count": 6,
     "metadata": {},
     "output_type": "execute_result"
    }
   ],
   "execution_count": 6
  },
  {
   "metadata": {
    "ExecuteTime": {
     "end_time": "2024-02-13T08:26:40.248951Z",
     "start_time": "2024-02-13T08:26:40.236466Z"
    }
   },
   "cell_type": "code",
   "id": "6e6fcf0c4100061",
   "source": "ds['a'][1]",
   "outputs": [
    {
     "data": {
      "text/plain": [
       "2"
      ]
     },
     "execution_count": 7,
     "metadata": {},
     "output_type": "execute_result"
    }
   ],
   "execution_count": 7
  },
  {
   "metadata": {
    "ExecuteTime": {
     "end_time": "2024-02-13T08:26:40.280003Z",
     "start_time": "2024-02-13T08:26:40.253362Z"
    }
   },
   "cell_type": "code",
   "id": "590afcac173455fc",
   "source": [
    "ds['c'] = ['a', 'b', 'a']\n",
    "ds"
   ],
   "outputs": [
    {
     "data": {
      "text/plain": [
       "   a  b  c\n",
       "0  1  4  a\n",
       "1  2  5  b\n",
       "2  3  6  a"
      ]
     },
     "execution_count": 8,
     "metadata": {},
     "output_type": "execute_result"
    }
   ],
   "execution_count": 8
  },
  {
   "metadata": {
    "ExecuteTime": {
     "end_time": "2024-02-13T08:26:40.311352Z",
     "start_time": "2024-02-13T08:26:40.284547Z"
    }
   },
   "cell_type": "code",
   "id": "ce6e3c0f29eae380",
   "source": "ds['c'].unique()",
   "outputs": [
    {
     "data": {
      "text/plain": [
       "array(['a', 'b'], dtype=object)"
      ]
     },
     "execution_count": 9,
     "metadata": {},
     "output_type": "execute_result"
    }
   ],
   "execution_count": 9
  },
  {
   "metadata": {
    "ExecuteTime": {
     "end_time": "2024-02-13T08:26:40.344567Z",
     "start_time": "2024-02-13T08:26:40.314553Z"
    }
   },
   "cell_type": "code",
   "id": "e8b0add5ddaa7988",
   "source": "ds.get_columns_by_roles(PreTargetRole)",
   "outputs": [
    {
     "data": {
      "text/plain": [
       "['b']"
      ]
     },
     "execution_count": 10,
     "metadata": {},
     "output_type": "execute_result"
    }
   ],
   "execution_count": 10
  },
  {
   "metadata": {
    "ExecuteTime": {
     "end_time": "2024-02-13T08:27:17.920874Z",
     "start_time": "2024-02-13T08:27:17.897979Z"
    }
   },
   "cell_type": "code",
   "id": "4ed7adc529caeaf9",
   "source": "ds.index",
   "outputs": [
    {
     "data": {
      "text/plain": [
       "RangeIndex(start=0, stop=3, step=1)"
      ]
     },
     "execution_count": 13,
     "metadata": {},
     "output_type": "execute_result"
    }
   ],
   "execution_count": 13
  },
  {
   "metadata": {
    "ExecuteTime": {
     "end_time": "2024-02-13T08:26:40.392571Z",
     "start_time": "2024-02-13T08:26:40.379172Z"
    }
   },
   "cell_type": "code",
   "id": "d9bc3436d97df5e6",
   "outputs": [],
   "execution_count": 11
  }
 ],
 "metadata": {
  "kernelspec": {
   "display_name": "Python 3",
   "language": "python",
   "name": "python3"
  },
  "language_info": {
   "codemirror_mode": {
    "name": "ipython",
    "version": 2
   },
   "file_extension": ".py",
   "mimetype": "text/x-python",
   "name": "python",
   "nbconvert_exporter": "python",
   "pygments_lexer": "ipython2",
   "version": "2.7.6"
  }
 },
 "nbformat": 4,
 "nbformat_minor": 5
}
