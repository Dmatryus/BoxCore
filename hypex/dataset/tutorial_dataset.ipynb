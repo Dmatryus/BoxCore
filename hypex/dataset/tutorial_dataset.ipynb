{
 "cells": [
  {
   "cell_type": "code",
   "id": "initial_id",
   "metadata": {
    "collapsed": true,
    "ExecuteTime": {
     "end_time": "2024-02-13T07:11:16.018379Z",
     "start_time": "2024-02-13T07:11:15.988254Z"
    }
   },
   "source": [
    "\n",
    "import pandas as pd\n",
    "\n",
    "from hypex.dataset.dataset import Dataset\n",
    "from hypex.dataset.roles import *"
   ],
   "outputs": [],
   "execution_count": 5
  },
  {
   "metadata": {
    "ExecuteTime": {
     "end_time": "2024-02-13T07:11:42.327687Z",
     "start_time": "2024-02-13T07:11:42.315651Z"
    }
   },
   "cell_type": "code",
   "id": "522c2e109efc0c17",
   "source": [
    "df = pd.DataFrame({'a': [1, 2, 3], 'b': [4, 5, 6]})\n",
    "ds = Dataset(df, roles={TargetRole(np.float32): 'a', PreTargetRole(np.float32): 'b'})"
   ],
   "outputs": [],
   "execution_count": 7
  },
  {
   "metadata": {
    "ExecuteTime": {
     "end_time": "2024-02-13T07:11:48.204008Z",
     "start_time": "2024-02-13T07:11:48.176477Z"
    }
   },
   "cell_type": "code",
   "id": "d73240739d0a51ff",
   "source": "ds",
   "outputs": [
    {
     "data": {
      "text/plain": [
       "   a  b\n",
       "0  1  4\n",
       "1  2  5\n",
       "2  3  6"
      ]
     },
     "execution_count": 8,
     "metadata": {},
     "output_type": "execute_result"
    }
   ],
   "execution_count": 8
  },
  {
   "metadata": {
    "ExecuteTime": {
     "end_time": "2024-02-13T07:11:56.505958Z",
     "start_time": "2024-02-13T07:11:56.484858Z"
    }
   },
   "cell_type": "code",
   "id": "37b558e38a543a26",
   "source": "ds.roles",
   "outputs": [
    {
     "data": {
      "text/plain": [
       "{'a': <hypex.dataset.roles.TargetRole at 0x1895d22d3f0>,\n",
       " 'b': <hypex.dataset.roles.PreTargetRole at 0x1895d3130d0>}"
      ]
     },
     "execution_count": 9,
     "metadata": {},
     "output_type": "execute_result"
    }
   ],
   "execution_count": 9
  },
  {
   "metadata": {
    "ExecuteTime": {
     "end_time": "2024-02-13T07:12:25.735803Z",
     "start_time": "2024-02-13T07:12:25.714339Z"
    }
   },
   "cell_type": "code",
   "id": "7f22c159be791753",
   "source": "ds['a']",
   "outputs": [
    {
     "data": {
      "text/plain": [
       "0    1\n",
       "1    2\n",
       "2    3\n",
       "Name: a, dtype: int64"
      ]
     },
     "execution_count": 10,
     "metadata": {},
     "output_type": "execute_result"
    }
   ],
   "execution_count": 10
  },
  {
   "metadata": {
    "ExecuteTime": {
     "end_time": "2024-02-13T07:12:51.217169Z",
     "start_time": "2024-02-13T07:12:51.196784Z"
    }
   },
   "cell_type": "code",
   "id": "86544b832e1c6601",
   "source": "ds[1]",
   "outputs": [
    {
     "data": {
      "text/plain": [
       "a    2\n",
       "b    5\n",
       "Name: 1, dtype: int64"
      ]
     },
     "execution_count": 11,
     "metadata": {},
     "output_type": "execute_result"
    }
   ],
   "execution_count": 11
  },
  {
   "metadata": {
    "ExecuteTime": {
     "end_time": "2024-02-13T07:13:42.036086Z",
     "start_time": "2024-02-13T07:13:42.007546Z"
    }
   },
   "cell_type": "code",
   "id": "6e6fcf0c4100061",
   "source": "ds['a'][1]",
   "outputs": [
    {
     "data": {
      "text/plain": [
       "2"
      ]
     },
     "execution_count": 15,
     "metadata": {},
     "output_type": "execute_result"
    }
   ],
   "execution_count": 15
  },
  {
   "metadata": {
    "ExecuteTime": {
     "end_time": "2024-02-13T07:14:46.773607Z",
     "start_time": "2024-02-13T07:14:46.753492Z"
    }
   },
   "cell_type": "code",
   "id": "590afcac173455fc",
   "source": [
    "ds['c'] = [7, 8, 9]\n",
    "ds"
   ],
   "outputs": [
    {
     "data": {
      "text/plain": [
       "   a  b  c\n",
       "0  1  4  7\n",
       "1  2  5  8\n",
       "2  3  6  9"
      ]
     },
     "execution_count": 16,
     "metadata": {},
     "output_type": "execute_result"
    }
   ],
   "execution_count": 16
  },
  {
   "metadata": {},
   "cell_type": "code",
   "outputs": [],
   "id": "ce6e3c0f29eae380"
  }
 ],
 "metadata": {
  "kernelspec": {
   "display_name": "Python 3",
   "language": "python",
   "name": "python3"
  },
  "language_info": {
   "codemirror_mode": {
    "name": "ipython",
    "version": 2
   },
   "file_extension": ".py",
   "mimetype": "text/x-python",
   "name": "python",
   "nbconvert_exporter": "python",
   "pygments_lexer": "ipython2",
   "version": "2.7.6"
  }
 },
 "nbformat": 4,
 "nbformat_minor": 5
}
