{
 "cells": [
  {
   "cell_type": "code",
   "execution_count": 2,
   "id": "initial_id",
   "metadata": {
    "collapsed": true,
    "ExecuteTime": {
     "end_time": "2024-03-27T14:07:52.752544900Z",
     "start_time": "2024-03-27T14:07:51.488221200Z"
    }
   },
   "outputs": [],
   "source": [
    "import pandas as pd\n",
    "\n",
    "from hypex.dataset.dataset import Dataset, ExperimentData\n",
    "from hypex.dataset.roles import *"
   ]
  },
  {
   "cell_type": "markdown",
   "id": "17fbe750",
   "metadata": {},
   "source": [
    "# Dataset\n",
    "\n"
   ]
  },
  {
   "cell_type": "code",
   "execution_count": 3,
   "id": "522c2e109efc0c17",
   "metadata": {
    "ExecuteTime": {
     "end_time": "2024-03-27T14:07:59.300808400Z",
     "start_time": "2024-03-27T14:07:59.262522400Z"
    }
   },
   "outputs": [
    {
     "data": {
      "text/plain": "   a  b\n0  1  4\n1  2  5\n2  3  6"
     },
     "execution_count": 3,
     "metadata": {},
     "output_type": "execute_result"
    }
   ],
   "source": [
    "df = pd.DataFrame({'a': [1, 2, 3], 'b': [4, 5, 6]})\n",
    "\n",
    "ds = Dataset(df, roles={'a': TargetRole(), 'b': PreTargetRole()})\n",
    "ds"
   ]
  },
  {
   "cell_type": "code",
   "execution_count": 4,
   "id": "37b558e38a543a26",
   "metadata": {
    "ExecuteTime": {
     "end_time": "2024-03-27T14:08:00.254267Z",
     "start_time": "2024-03-27T14:08:00.218428300Z"
    }
   },
   "outputs": [
    {
     "name": "stderr",
     "output_type": "stream",
     "text": [
      "C:\\Users\\User\\PycharmProjects\\HypEx1\\hypex\\dataset\\dataset.py:50: UserWarning: Didn't add roles for experiment estimation. This fact can lead to incorrect operation of the pipeline. \n",
      "  warnings.warn(\n"
     ]
    },
    {
     "data": {
      "text/plain": "   a\n0  1\n1  2\n2  3"
     },
     "execution_count": 4,
     "metadata": {},
     "output_type": "execute_result"
    }
   ],
   "source": [
    "ExperimentData(None).from_dict({'a': [1, 2, 3]})"
   ]
  },
  {
   "cell_type": "code",
   "outputs": [
    {
     "data": {
      "text/plain": "{'a': <hypex.dataset.roles.TargetRole at 0x183b6eee560>,\n 'b': <hypex.dataset.roles.PreTargetRole at 0x183b6eed300>}"
     },
     "execution_count": 5,
     "metadata": {},
     "output_type": "execute_result"
    }
   ],
   "source": [
    "ds.roles"
   ],
   "metadata": {
    "collapsed": false,
    "ExecuteTime": {
     "end_time": "2024-03-27T14:08:25.101318200Z",
     "start_time": "2024-03-27T14:08:25.051195Z"
    }
   },
   "id": "97e2c6fb26889ad5",
   "execution_count": 5
  },
  {
   "cell_type": "code",
   "execution_count": 6,
   "id": "7f22c159be791753",
   "metadata": {
    "ExecuteTime": {
     "end_time": "2024-03-27T14:08:25.759916400Z",
     "start_time": "2024-03-27T14:08:25.733986400Z"
    }
   },
   "outputs": [
    {
     "data": {
      "text/plain": "   a\n0  1\n1  2\n2  3"
     },
     "execution_count": 6,
     "metadata": {},
     "output_type": "execute_result"
    }
   ],
   "source": [
    "ds['a']"
   ]
  },
  {
   "cell_type": "code",
   "execution_count": 7,
   "id": "86544b832e1c6601",
   "metadata": {
    "ExecuteTime": {
     "end_time": "2024-03-27T14:08:26.017052Z",
     "start_time": "2024-03-27T14:08:25.858550600Z"
    }
   },
   "outputs": [
    {
     "data": {
      "text/plain": "   1\na  2\nb  5"
     },
     "execution_count": 7,
     "metadata": {},
     "output_type": "execute_result"
    }
   ],
   "source": [
    "ds[1]"
   ]
  },
  {
   "cell_type": "code",
   "execution_count": 8,
   "id": "6e6fcf0c4100061",
   "metadata": {
    "ExecuteTime": {
     "end_time": "2024-03-27T14:08:26.104452Z",
     "start_time": "2024-03-27T14:08:26.030239500Z"
    }
   },
   "outputs": [
    {
     "data": {
      "text/plain": "   1\na  2"
     },
     "execution_count": 8,
     "metadata": {},
     "output_type": "execute_result"
    }
   ],
   "source": [
    "ds['a'][1]"
   ]
  },
  {
   "cell_type": "code",
   "execution_count": 9,
   "id": "b4e3ecac3488ded9",
   "metadata": {
    "ExecuteTime": {
     "end_time": "2024-03-27T14:08:26.244834800Z",
     "start_time": "2024-03-27T14:08:26.202305Z"
    }
   },
   "outputs": [
    {
     "data": {
      "text/plain": "   a  b  c\n0  1  4  7\n1  2  5  8\n2  3  6  9"
     },
     "execution_count": 9,
     "metadata": {},
     "output_type": "execute_result"
    }
   ],
   "source": [
    "ds.add_column([7, 8, 9], 'c', TargetRole)\n",
    "ds"
   ]
  },
  {
   "cell_type": "code",
   "execution_count": 10,
   "id": "28f69e19ab4ca672",
   "metadata": {
    "collapsed": false,
    "ExecuteTime": {
     "end_time": "2024-03-27T14:08:26.414074900Z",
     "start_time": "2024-03-27T14:08:26.363562600Z"
    }
   },
   "outputs": [
    {
     "name": "stderr",
     "output_type": "stream",
     "text": [
      "C:\\Users\\User\\PycharmProjects\\HypEx1\\hypex\\dataset\\dataset.py:50: UserWarning: Didn't add roles for experiment estimation. This fact can lead to incorrect operation of the pipeline. \n",
      "  warnings.warn(\n"
     ]
    },
    {
     "data": {
      "text/plain": "    0\n0  15\n1  17\n2  19"
     },
     "execution_count": 10,
     "metadata": {},
     "output_type": "execute_result"
    }
   ],
   "source": [
    "ds.apply(func=lambda x: x['a'] + x['c'] + 7, axis=1)"
   ]
  },
  {
   "cell_type": "code",
   "execution_count": 11,
   "id": "ce6e3c0f29eae380",
   "metadata": {
    "ExecuteTime": {
     "end_time": "2024-03-27T14:13:07.772701600Z",
     "start_time": "2024-03-27T14:13:07.746446500Z"
    }
   },
   "outputs": [
    {
     "name": "stderr",
     "output_type": "stream",
     "text": [
      "C:\\Users\\User\\PycharmProjects\\HypEx1\\hypex\\dataset\\dataset.py:50: UserWarning: Didn't add roles for experiment estimation. This fact can lead to incorrect operation of the pipeline. \n",
      "  warnings.warn(\n"
     ]
    },
    {
     "data": {
      "text/plain": "   a  b  c   d\n0  1  4  7  15\n1  2  5  8  17\n2  3  6  9  19"
     },
     "execution_count": 11,
     "metadata": {},
     "output_type": "execute_result"
    }
   ],
   "source": [
    "ds.add_column(ds.apply(func=lambda x: x['a'] + x['c'] + 7, axis=1), 'd', TargetRole)\n",
    "ds"
   ]
  },
  {
   "cell_type": "code",
   "execution_count": 12,
   "id": "f1ebfad1376904a7",
   "metadata": {
    "ExecuteTime": {
     "end_time": "2024-03-27T14:13:09.380972200Z",
     "start_time": "2024-03-27T14:13:09.361778600Z"
    }
   },
   "outputs": [
    {
     "data": {
      "text/plain": "{'a': <hypex.dataset.roles.TargetRole at 0x183b6eee560>,\n 'b': <hypex.dataset.roles.PreTargetRole at 0x183b6eed300>,\n 'c': hypex.dataset.roles.TargetRole,\n 'd': hypex.dataset.roles.TargetRole}"
     },
     "execution_count": 12,
     "metadata": {},
     "output_type": "execute_result"
    }
   ],
   "source": [
    "ds.roles"
   ]
  },
  {
   "cell_type": "code",
   "execution_count": 13,
   "id": "a22f4987813bf7b0",
   "metadata": {
    "collapsed": false,
    "ExecuteTime": {
     "end_time": "2024-03-27T14:13:10.263337600Z",
     "start_time": "2024-03-27T14:13:10.192934Z"
    }
   },
   "outputs": [
    {
     "name": "stderr",
     "output_type": "stream",
     "text": [
      "C:\\Users\\User\\PycharmProjects\\HypEx1\\hypex\\dataset\\backends\\pandas_backend.py:73: SettingWithCopyWarning: \n",
      "A value is trying to be set on a copy of a slice from a DataFrame\n",
      "\n",
      "See the caveats in the documentation: https://pandas.pydata.org/pandas-docs/stable/user_guide/indexing.html#returning-a-view-versus-a-copy\n",
      "  self.data[name][i] = value\n",
      "C:\\Users\\User\\PycharmProjects\\HypEx1\\hypex\\dataset\\backends\\pandas_backend.py:73: SettingWithCopyWarning: \n",
      "A value is trying to be set on a copy of a slice from a DataFrame\n",
      "\n",
      "See the caveats in the documentation: https://pandas.pydata.org/pandas-docs/stable/user_guide/indexing.html#returning-a-view-versus-a-copy\n",
      "  self.data[name][i] = value\n",
      "C:\\Users\\User\\PycharmProjects\\HypEx1\\hypex\\dataset\\backends\\pandas_backend.py:73: SettingWithCopyWarning: \n",
      "A value is trying to be set on a copy of a slice from a DataFrame\n",
      "\n",
      "See the caveats in the documentation: https://pandas.pydata.org/pandas-docs/stable/user_guide/indexing.html#returning-a-view-versus-a-copy\n",
      "  self.data[name][i] = value\n"
     ]
    }
   ],
   "source": [
    "ds.add_column([7, 8, 9], 'f', TargetRole, index=[2, 0, 1])"
   ]
  },
  {
   "cell_type": "code",
   "execution_count": 14,
   "id": "4dd88fe071abde38",
   "metadata": {
    "ExecuteTime": {
     "end_time": "2024-03-27T14:13:11.451111100Z",
     "start_time": "2024-03-27T14:13:11.413045100Z"
    }
   },
   "outputs": [
    {
     "name": "stderr",
     "output_type": "stream",
     "text": [
      "C:\\Users\\User\\PycharmProjects\\HypEx1\\hypex\\dataset\\dataset.py:50: UserWarning: Didn't add roles for experiment estimation. This fact can lead to incorrect operation of the pipeline. \n",
      "  warnings.warn(\n"
     ]
    },
    {
     "data": {
      "text/plain": "   c\n0  7\n1  8\n2  9"
     },
     "execution_count": 14,
     "metadata": {},
     "output_type": "execute_result"
    }
   ],
   "source": [
    "ds.loc[:, 'c']"
   ]
  },
  {
   "cell_type": "code",
   "execution_count": 15,
   "id": "a6b555189acdfdaf",
   "metadata": {
    "ExecuteTime": {
     "end_time": "2024-03-27T14:14:23.020863900Z",
     "start_time": "2024-03-27T14:14:22.528504700Z"
    }
   },
   "outputs": [
    {
     "name": "stderr",
     "output_type": "stream",
     "text": [
      "C:\\Users\\User\\PycharmProjects\\HypEx1\\hypex\\dataset\\dataset.py:117: Warning: Column must be added by add_column\n",
      "  warnings.warn(\"Column must be added by add_column\", category=Warning)\n"
     ]
    },
    {
     "data": {
      "text/plain": "   a  b  c   d  f  e\n0  1  4  7  15  8  1\n1  2  5  8  17  9  2\n2  3  6  9  19  7  3"
     },
     "execution_count": 15,
     "metadata": {},
     "output_type": "execute_result"
    }
   ],
   "source": [
    "ds['e'] = [1, 2, 3]\n",
    "ds"
   ]
  },
  {
   "cell_type": "code",
   "execution_count": 16,
   "id": "ef012ccdb88a118e",
   "metadata": {
    "ExecuteTime": {
     "end_time": "2024-03-27T14:14:24.793252500Z",
     "start_time": "2024-03-27T14:14:23.673988500Z"
    }
   },
   "outputs": [
    {
     "data": {
      "text/plain": "   a  b  c   d  f  e\n0  1  4  7  15  8  1\n1  2  5  8  17  9  2\n2  3  6  9  19  7  3"
     },
     "execution_count": 16,
     "metadata": {},
     "output_type": "execute_result"
    }
   ],
   "source": [
    "ds['a'][1] = 1\n",
    "ds"
   ]
  },
  {
   "cell_type": "code",
   "execution_count": 17,
   "id": "dc5f73bd0b785b4",
   "metadata": {
    "ExecuteTime": {
     "end_time": "2024-03-27T14:14:26.887720300Z",
     "start_time": "2024-03-27T14:14:25.838098800Z"
    }
   },
   "outputs": [
    {
     "name": "stderr",
     "output_type": "stream",
     "text": [
      "C:\\Users\\User\\PycharmProjects\\HypEx1\\hypex\\dataset\\dataset.py:50: UserWarning: Didn't add roles for experiment estimation. This fact can lead to incorrect operation of the pipeline. \n",
      "  warnings.warn(\n"
     ]
    },
    {
     "data": {
      "text/plain": "       a      b      c      d      f      e\n0  False  False  False  False   True  False\n1  False  False   True  False  False  False\n2   True  False  False  False  False   True"
     },
     "execution_count": 17,
     "metadata": {},
     "output_type": "execute_result"
    }
   ],
   "source": [
    "ds.isin([3, 8])"
   ]
  },
  {
   "cell_type": "code",
   "execution_count": 18,
   "id": "539f5315331754d0",
   "metadata": {
    "ExecuteTime": {
     "end_time": "2024-03-27T14:14:29.933210700Z",
     "start_time": "2024-03-27T14:14:29.013414300Z"
    }
   },
   "outputs": [
    {
     "name": "stdout",
     "output_type": "stream",
     "text": [
      "(1,       0\n",
      "a   1.0\n",
      "b   4.0\n",
      "c   7.0\n",
      "d  15.0\n",
      "f   8.0\n",
      "e   1.0)\n"
     ]
    },
    {
     "name": "stderr",
     "output_type": "stream",
     "text": [
      "C:\\Users\\User\\PycharmProjects\\HypEx1\\hypex\\dataset\\backends\\pandas_backend.py:119: FutureWarning: The 'axis' keyword in DataFrame.groupby is deprecated and will be removed in a future version.\n",
      "  groups = self.data.groupby(by, axis, **kwargs)\n",
      "C:\\Users\\User\\PycharmProjects\\HypEx1\\hypex\\dataset\\dataset.py:50: UserWarning: Didn't add roles for experiment estimation. This fact can lead to incorrect operation of the pipeline. \n",
      "  warnings.warn(\n",
      "C:\\Users\\User\\PycharmProjects\\HypEx1\\hypex\\dataset\\dataset.py:50: UserWarning: Didn't add roles for experiment estimation. This fact can lead to incorrect operation of the pipeline. \n",
      "  warnings.warn(\n",
      "C:\\Users\\User\\PycharmProjects\\HypEx1\\hypex\\dataset\\dataset.py:50: UserWarning: Didn't add roles for experiment estimation. This fact can lead to incorrect operation of the pipeline. \n",
      "  warnings.warn(\n",
      "C:\\Users\\User\\PycharmProjects\\HypEx1\\hypex\\dataset\\dataset.py:50: UserWarning: Didn't add roles for experiment estimation. This fact can lead to incorrect operation of the pipeline. \n",
      "  warnings.warn(\n"
     ]
    }
   ],
   "source": [
    "groups_func = ds.groupby('a', func='mean')\n",
    "print(next(groups_func))"
   ]
  },
  {
   "cell_type": "code",
   "execution_count": 19,
   "id": "e13b37bee73a9816",
   "metadata": {
    "collapsed": false,
    "ExecuteTime": {
     "end_time": "2024-03-27T14:14:33.727919300Z",
     "start_time": "2024-03-27T14:14:33.708860300Z"
    }
   },
   "outputs": [
    {
     "name": "stdout",
     "output_type": "stream",
     "text": [
      "(1,    a  b  c   d  f  e\n",
      "0  1  4  7  15  8  1)\n"
     ]
    },
    {
     "name": "stderr",
     "output_type": "stream",
     "text": [
      "C:\\Users\\User\\PycharmProjects\\HypEx1\\hypex\\dataset\\backends\\pandas_backend.py:119: FutureWarning: The 'axis' keyword in DataFrame.groupby is deprecated and will be removed in a future version.\n",
      "  groups = self.data.groupby(by, axis, **kwargs)\n",
      "C:\\Users\\User\\PycharmProjects\\HypEx1\\hypex\\dataset\\dataset.py:50: UserWarning: Didn't add roles for experiment estimation. This fact can lead to incorrect operation of the pipeline. \n",
      "  warnings.warn(\n"
     ]
    }
   ],
   "source": [
    "groups = ds.groupby('a')\n",
    "print(next(groups))"
   ]
  },
  {
   "cell_type": "code",
   "execution_count": 20,
   "id": "d2167ce799f4cf7c",
   "metadata": {
    "collapsed": false,
    "ExecuteTime": {
     "end_time": "2024-03-27T14:31:55.356955Z",
     "start_time": "2024-03-27T14:31:55.167109800Z"
    }
   },
   "outputs": [
    {
     "name": "stdout",
     "output_type": "stream",
     "text": [
      "(1,     0\n",
      "d  15\n",
      "e   1)\n"
     ]
    },
    {
     "name": "stderr",
     "output_type": "stream",
     "text": [
      "C:\\Users\\User\\PycharmProjects\\HypEx1\\hypex\\dataset\\backends\\pandas_backend.py:119: FutureWarning: The 'axis' keyword in DataFrame.groupby is deprecated and will be removed in a future version.\n",
      "  groups = self.data.groupby(by, axis, **kwargs)\n",
      "C:\\Users\\User\\PycharmProjects\\HypEx1\\hypex\\dataset\\dataset.py:50: UserWarning: Didn't add roles for experiment estimation. This fact can lead to incorrect operation of the pipeline. \n",
      "  warnings.warn(\n",
      "C:\\Users\\User\\PycharmProjects\\HypEx1\\hypex\\dataset\\dataset.py:50: UserWarning: Didn't add roles for experiment estimation. This fact can lead to incorrect operation of the pipeline. \n",
      "  warnings.warn(\n",
      "C:\\Users\\User\\PycharmProjects\\HypEx1\\hypex\\dataset\\dataset.py:50: UserWarning: Didn't add roles for experiment estimation. This fact can lead to incorrect operation of the pipeline. \n",
      "  warnings.warn(\n",
      "C:\\Users\\User\\PycharmProjects\\HypEx1\\hypex\\dataset\\dataset.py:50: UserWarning: Didn't add roles for experiment estimation. This fact can lead to incorrect operation of the pipeline. \n",
      "  warnings.warn(\n"
     ]
    }
   ],
   "source": [
    "groups_func_fields = ds.groupby('a', func='sum', fields_list=['d', 'e'])\n",
    "print(next(groups_func_fields))"
   ]
  },
  {
   "cell_type": "code",
   "outputs": [
    {
     "name": "stderr",
     "output_type": "stream",
     "text": [
      "C:\\Users\\User\\PycharmProjects\\HypEx1\\hypex\\dataset\\dataset.py:50: UserWarning: Didn't add roles for experiment estimation. This fact can lead to incorrect operation of the pipeline. \n",
      "  warnings.warn(\n"
     ]
    },
    {
     "data": {
      "text/plain": "      0\na   2.0\nb   5.0\nc   8.0\nd  17.0\nf   8.0\ne   2.0"
     },
     "execution_count": 21,
     "metadata": {},
     "output_type": "execute_result"
    }
   ],
   "source": [
    "ds.mean()"
   ],
   "metadata": {
    "collapsed": false,
    "ExecuteTime": {
     "end_time": "2024-03-27T14:31:57.452188400Z",
     "start_time": "2024-03-27T14:31:56.105176100Z"
    }
   },
   "id": "913ffb6b45c2bf54",
   "execution_count": 21
  },
  {
   "cell_type": "code",
   "execution_count": 22,
   "id": "74673754fb2b25f5",
   "metadata": {
    "ExecuteTime": {
     "end_time": "2024-03-27T14:31:58.325002100Z",
     "start_time": "2024-03-27T14:31:58.287498300Z"
    }
   },
   "outputs": [
    {
     "name": "stderr",
     "output_type": "stream",
     "text": [
      "C:\\Users\\User\\PycharmProjects\\HypEx1\\hypex\\dataset\\dataset.py:50: UserWarning: Didn't add roles for experiment estimation. This fact can lead to incorrect operation of the pipeline. \n",
      "  warnings.warn(\n"
     ]
    }
   ],
   "source": [
    "ds_empty = Dataset(pd.DataFrame())._create_empty()"
   ]
  },
  {
   "cell_type": "code",
   "execution_count": 23,
   "id": "9836511a43bb9b96",
   "metadata": {
    "ExecuteTime": {
     "end_time": "2024-03-27T14:31:59.552065100Z",
     "start_time": "2024-03-27T14:31:59.531100Z"
    }
   },
   "outputs": [
    {
     "data": {
      "text/plain": "Index([], dtype='object')"
     },
     "execution_count": 23,
     "metadata": {},
     "output_type": "execute_result"
    }
   ],
   "source": [
    "ds_empty.columns"
   ]
  },
  {
   "cell_type": "code",
   "execution_count": 24,
   "id": "c334f2ba6922c0d4",
   "metadata": {
    "ExecuteTime": {
     "end_time": "2024-03-27T14:32:00.527280800Z",
     "start_time": "2024-03-27T14:32:00.464879500Z"
    }
   },
   "outputs": [
    {
     "data": {
      "text/plain": "Empty DataFrame\nColumns: []\nIndex: []"
     },
     "execution_count": 24,
     "metadata": {},
     "output_type": "execute_result"
    }
   ],
   "source": [
    "ds_empty._backend"
   ]
  },
  {
   "cell_type": "code",
   "execution_count": 25,
   "id": "5acaaaab52b869b0",
   "metadata": {
    "collapsed": false,
    "ExecuteTime": {
     "end_time": "2024-03-27T14:32:01.162916400Z",
     "start_time": "2024-03-27T14:32:01.123016700Z"
    }
   },
   "outputs": [
    {
     "name": "stderr",
     "output_type": "stream",
     "text": [
      "C:\\Users\\User\\PycharmProjects\\HypEx1\\hypex\\dataset\\dataset.py:50: UserWarning: Didn't add roles for experiment estimation. This fact can lead to incorrect operation of the pipeline. \n",
      "  warnings.warn(\n"
     ]
    }
   ],
   "source": [
    "# you can add backend as data like this: dataset._backend\n",
    "ds_from_dict = Dataset().from_dict({'a': [1, 2], 'b': [3, 4]})"
   ]
  },
  {
   "cell_type": "code",
   "execution_count": 26,
   "id": "eae3f64879a8c7d6",
   "metadata": {
    "collapsed": false,
    "ExecuteTime": {
     "end_time": "2024-03-27T14:32:04.291265200Z",
     "start_time": "2024-03-27T14:32:04.253681200Z"
    }
   },
   "outputs": [
    {
     "data": {
      "text/plain": "   a  b\n0  1  3\n1  2  4"
     },
     "execution_count": 26,
     "metadata": {},
     "output_type": "execute_result"
    }
   ],
   "source": [
    "ds_from_dict"
   ]
  },
  {
   "cell_type": "code",
   "execution_count": 27,
   "id": "eb6e481cb8ab3fe1",
   "metadata": {
    "collapsed": false,
    "ExecuteTime": {
     "end_time": "2024-03-27T14:32:05.638608300Z",
     "start_time": "2024-03-27T14:32:05.579847Z"
    }
   },
   "outputs": [
    {
     "name": "stderr",
     "output_type": "stream",
     "text": [
      "C:\\Users\\User\\PycharmProjects\\HypEx1\\hypex\\dataset\\dataset.py:50: UserWarning: Didn't add roles for experiment estimation. This fact can lead to incorrect operation of the pipeline. \n",
      "  warnings.warn(\n"
     ]
    },
    {
     "data": {
      "text/plain": "   a  b    c     d    f    e\n0  1  3  NaN   NaN  NaN  NaN\n1  2  4  NaN   NaN  NaN  NaN\n0  1  4  7.0  15.0    8  1.0\n1  2  5  8.0  17.0    9  2.0\n2  3  6  9.0  19.0    7  3.0"
     },
     "execution_count": 27,
     "metadata": {},
     "output_type": "execute_result"
    }
   ],
   "source": [
    "ds_from_dict.append(ds)"
   ]
  },
  {
   "cell_type": "markdown",
   "id": "8dc6f4a6",
   "metadata": {},
   "source": [
    "# Eperiment Data"
   ]
  },
  {
   "cell_type": "code",
   "execution_count": 28,
   "id": "cb60089a",
   "metadata": {
    "ExecuteTime": {
     "end_time": "2024-03-27T14:32:10.163439400Z",
     "start_time": "2024-03-27T14:32:10.025865Z"
    }
   },
   "outputs": [
    {
     "name": "stderr",
     "output_type": "stream",
     "text": [
      "C:\\Users\\User\\PycharmProjects\\HypEx1\\hypex\\dataset\\dataset.py:50: UserWarning: Didn't add roles for experiment estimation. This fact can lead to incorrect operation of the pipeline. \n",
      "  warnings.warn(\n"
     ]
    }
   ],
   "source": [
    "ed = ExperimentData(pd.DataFrame())._create_empty()"
   ]
  },
  {
   "cell_type": "code",
   "execution_count": 29,
   "id": "5dd578e1cc35b41f",
   "metadata": {
    "ExecuteTime": {
     "end_time": "2024-03-27T14:32:11.095693800Z",
     "start_time": "2024-03-27T14:32:11.055190100Z"
    }
   },
   "outputs": [
    {
     "data": {
      "text/plain": "Empty DataFrame\nColumns: []\nIndex: []"
     },
     "execution_count": 29,
     "metadata": {},
     "output_type": "execute_result"
    }
   ],
   "source": [
    "ed.additional_fields"
   ]
  },
  {
   "cell_type": "code",
   "execution_count": 30,
   "id": "bfc0cb3f4c632654",
   "metadata": {
    "ExecuteTime": {
     "end_time": "2024-03-27T14:32:13.352066700Z",
     "start_time": "2024-03-27T14:32:13.327459400Z"
    }
   },
   "outputs": [
    {
     "name": "stderr",
     "output_type": "stream",
     "text": [
      "C:\\Users\\User\\PycharmProjects\\HypEx1\\hypex\\dataset\\dataset.py:50: UserWarning: Didn't add roles for experiment estimation. This fact can lead to incorrect operation of the pipeline. \n",
      "  warnings.warn(\n"
     ]
    },
    {
     "data": {
      "text/plain": "Empty DataFrame\nColumns: []\nIndex: []"
     },
     "execution_count": 30,
     "metadata": {},
     "output_type": "execute_result"
    }
   ],
   "source": [
    "ed.additional_fields.loc[:, :]"
   ]
  }
 ],
 "metadata": {
  "hide_input": false,
  "kernelspec": {
   "display_name": "Python 3 (ipykernel)",
   "language": "python",
   "name": "python3"
  },
  "language_info": {
   "codemirror_mode": {
    "name": "ipython",
    "version": 3
   },
   "file_extension": ".py",
   "mimetype": "text/x-python",
   "name": "python",
   "nbconvert_exporter": "python",
   "pygments_lexer": "ipython3",
   "version": "3.10.11"
  },
  "nbTranslate": {
   "displayLangs": [
    "*"
   ],
   "hotkey": "alt-t",
   "langInMainMenu": true,
   "sourceLang": "en",
   "targetLang": "fr",
   "useGoogleTranslate": true
  },
  "toc": {
   "base_numbering": 1,
   "nav_menu": {},
   "number_sections": true,
   "sideBar": true,
   "skip_h1_title": false,
   "title_cell": "Table of Contents",
   "title_sidebar": "Contents",
   "toc_cell": false,
   "toc_position": {},
   "toc_section_display": true,
   "toc_window_display": false
  },
  "varInspector": {
   "cols": {
    "lenName": 16,
    "lenType": 16,
    "lenVar": 40
   },
   "kernels_config": {
    "python": {
     "delete_cmd_postfix": "",
     "delete_cmd_prefix": "del ",
     "library": "var_list.py",
     "varRefreshCmd": "print(var_dic_list())"
    },
    "r": {
     "delete_cmd_postfix": ") ",
     "delete_cmd_prefix": "rm(",
     "library": "var_list.r",
     "varRefreshCmd": "cat(var_dic_list()) "
    }
   },
   "types_to_exclude": [
    "module",
    "function",
    "builtin_function_or_method",
    "instance",
    "_Feature"
   ],
   "window_display": false
  }
 },
 "nbformat": 4,
 "nbformat_minor": 5
}
