{
 "cells": [
  {
   "cell_type": "code",
   "execution_count": 1,
   "id": "initial_id",
   "metadata": {
    "collapsed": true,
    "ExecuteTime": {
     "end_time": "2024-03-29T11:20:35.230030400Z",
     "start_time": "2024-03-29T11:20:33.882066900Z"
    }
   },
   "outputs": [],
   "source": [
    "import pandas as pd\n",
    "\n",
    "from hypex.dataset.dataset import Dataset, ExperimentData\n",
    "from hypex.dataset.roles import *"
   ]
  },
  {
   "cell_type": "markdown",
   "id": "17fbe750",
   "metadata": {},
   "source": [
    "# Dataset\n",
    "\n"
   ]
  },
  {
   "cell_type": "code",
   "execution_count": 2,
   "id": "522c2e109efc0c17",
   "metadata": {
    "ExecuteTime": {
     "end_time": "2024-03-29T11:20:35.288572300Z",
     "start_time": "2024-03-29T11:20:35.236443700Z"
    }
   },
   "outputs": [
    {
     "data": {
      "text/plain": "   a  b\n0  1  4\n1  2  5\n2  3  6"
     },
     "execution_count": 2,
     "metadata": {},
     "output_type": "execute_result"
    }
   ],
   "source": [
    "df = pd.DataFrame({'a': [1, 2, 3], 'b': [4, 5, 6]})\n",
    "\n",
    "ds = Dataset({'a': TargetRole(), 'b': PreTargetRole()}, data=df)\n",
    "ds"
   ]
  },
  {
   "cell_type": "code",
   "execution_count": 3,
   "id": "37b558e38a543a26",
   "metadata": {
    "ExecuteTime": {
     "end_time": "2024-03-29T11:20:35.403689600Z",
     "start_time": "2024-03-29T11:20:35.286370800Z"
    }
   },
   "outputs": [
    {
     "data": {
      "text/plain": "   a\n0  1\n1  2\n2  3"
     },
     "execution_count": 3,
     "metadata": {},
     "output_type": "execute_result"
    }
   ],
   "source": [
    "ExperimentData.from_dict({'a': [1, 2, 3]}, {'a': TargetRole()}, 'pandas')"
   ]
  },
  {
   "cell_type": "code",
   "outputs": [
    {
     "data": {
      "text/plain": "{'a': Target, 'b': PreTarget}"
     },
     "execution_count": 4,
     "metadata": {},
     "output_type": "execute_result"
    }
   ],
   "source": [
    "ds.roles"
   ],
   "metadata": {
    "collapsed": false,
    "ExecuteTime": {
     "end_time": "2024-03-29T11:20:35.495425400Z",
     "start_time": "2024-03-29T11:20:35.410215700Z"
    }
   },
   "id": "97e2c6fb26889ad5",
   "execution_count": 4
  },
  {
   "cell_type": "code",
   "execution_count": 5,
   "id": "7f22c159be791753",
   "metadata": {
    "ExecuteTime": {
     "end_time": "2024-03-29T11:20:35.624447Z",
     "start_time": "2024-03-29T11:20:35.486174500Z"
    }
   },
   "outputs": [
    {
     "data": {
      "text/plain": "   a\n0  1\n1  2\n2  3"
     },
     "execution_count": 5,
     "metadata": {},
     "output_type": "execute_result"
    }
   ],
   "source": [
    "ds['a']"
   ]
  },
  {
   "cell_type": "code",
   "execution_count": 6,
   "id": "86544b832e1c6601",
   "metadata": {
    "ExecuteTime": {
     "end_time": "2024-03-29T11:20:35.701174500Z",
     "start_time": "2024-03-29T11:20:35.588761800Z"
    }
   },
   "outputs": [
    {
     "data": {
      "text/plain": "   1\na  2\nb  5"
     },
     "execution_count": 6,
     "metadata": {},
     "output_type": "execute_result"
    }
   ],
   "source": [
    "ds[1]"
   ]
  },
  {
   "cell_type": "code",
   "execution_count": 7,
   "id": "6e6fcf0c4100061",
   "metadata": {
    "ExecuteTime": {
     "end_time": "2024-03-29T11:20:35.786748700Z",
     "start_time": "2024-03-29T11:20:35.682942600Z"
    }
   },
   "outputs": [
    {
     "data": {
      "text/plain": "   1\na  2"
     },
     "execution_count": 7,
     "metadata": {},
     "output_type": "execute_result"
    }
   ],
   "source": [
    "ds['a'][1]"
   ]
  },
  {
   "cell_type": "code",
   "execution_count": 8,
   "id": "b4e3ecac3488ded9",
   "metadata": {
    "ExecuteTime": {
     "end_time": "2024-03-29T11:21:24.323371500Z",
     "start_time": "2024-03-29T11:21:24.260000300Z"
    }
   },
   "outputs": [
    {
     "data": {
      "text/plain": "   a  b  c\n0  1  4  7\n1  2  5  8\n2  3  6  9"
     },
     "execution_count": 8,
     "metadata": {},
     "output_type": "execute_result"
    }
   ],
   "source": [
    "ds.add_column([7, 8, 9], 'c', TargetRole())\n",
    "ds"
   ]
  },
  {
   "cell_type": "code",
   "execution_count": 9,
   "id": "28f69e19ab4ca672",
   "metadata": {
    "collapsed": false,
    "ExecuteTime": {
     "end_time": "2024-03-29T11:21:25.182033100Z",
     "start_time": "2024-03-29T11:21:25.142390900Z"
    }
   },
   "outputs": [
    {
     "data": {
      "text/plain": "    0\n0  15\n1  17\n2  19"
     },
     "execution_count": 9,
     "metadata": {},
     "output_type": "execute_result"
    }
   ],
   "source": [
    "ds.apply(func=lambda x: x['a'] + x['c'] + 7, role=InfoRole(), axis=1)"
   ]
  },
  {
   "cell_type": "code",
   "execution_count": 10,
   "id": "ce6e3c0f29eae380",
   "metadata": {
    "ExecuteTime": {
     "end_time": "2024-03-29T11:21:27.182537700Z",
     "start_time": "2024-03-29T11:21:27.132244Z"
    }
   },
   "outputs": [
    {
     "data": {
      "text/plain": "   a  b  c   d\n0  1  4  7  15\n1  2  5  8  17\n2  3  6  9  19"
     },
     "execution_count": 10,
     "metadata": {},
     "output_type": "execute_result"
    }
   ],
   "source": [
    "ds.add_column(ds.apply(func=lambda x: x['a'] + x['c'] + 7, role=InfoRole(), axis=1), 'd', TargetRole())\n",
    "ds"
   ]
  },
  {
   "cell_type": "code",
   "execution_count": 11,
   "id": "f1ebfad1376904a7",
   "metadata": {
    "ExecuteTime": {
     "end_time": "2024-03-29T11:21:44.001339200Z",
     "start_time": "2024-03-29T11:21:43.965645100Z"
    }
   },
   "outputs": [
    {
     "data": {
      "text/plain": "{'a': Target, 'b': PreTarget, 'c': Target, 'd': Target}"
     },
     "execution_count": 11,
     "metadata": {},
     "output_type": "execute_result"
    }
   ],
   "source": [
    "ds.roles"
   ]
  },
  {
   "cell_type": "code",
   "execution_count": 12,
   "id": "a22f4987813bf7b0",
   "metadata": {
    "collapsed": false,
    "ExecuteTime": {
     "end_time": "2024-03-29T11:21:45.682959900Z",
     "start_time": "2024-03-29T11:21:45.653950400Z"
    }
   },
   "outputs": [
    {
     "name": "stderr",
     "output_type": "stream",
     "text": [
      "C:\\Users\\User\\PycharmProjects\\HypEx1\\hypex\\dataset\\backends\\pandas_backend.py:75: SettingWithCopyWarning: \n",
      "A value is trying to be set on a copy of a slice from a DataFrame\n",
      "\n",
      "See the caveats in the documentation: https://pandas.pydata.org/pandas-docs/stable/user_guide/indexing.html#returning-a-view-versus-a-copy\n",
      "  self.data[name][i] = value\n",
      "C:\\Users\\User\\PycharmProjects\\HypEx1\\hypex\\dataset\\backends\\pandas_backend.py:75: SettingWithCopyWarning: \n",
      "A value is trying to be set on a copy of a slice from a DataFrame\n",
      "\n",
      "See the caveats in the documentation: https://pandas.pydata.org/pandas-docs/stable/user_guide/indexing.html#returning-a-view-versus-a-copy\n",
      "  self.data[name][i] = value\n",
      "C:\\Users\\User\\PycharmProjects\\HypEx1\\hypex\\dataset\\backends\\pandas_backend.py:75: SettingWithCopyWarning: \n",
      "A value is trying to be set on a copy of a slice from a DataFrame\n",
      "\n",
      "See the caveats in the documentation: https://pandas.pydata.org/pandas-docs/stable/user_guide/indexing.html#returning-a-view-versus-a-copy\n",
      "  self.data[name][i] = value\n"
     ]
    }
   ],
   "source": [
    "ds.add_column([7, 8, 9], 'f', TargetRole(), index=[2, 0, 1])"
   ]
  },
  {
   "cell_type": "code",
   "execution_count": 13,
   "id": "4dd88fe071abde38",
   "metadata": {
    "ExecuteTime": {
     "end_time": "2024-03-29T11:21:46.738099Z",
     "start_time": "2024-03-29T11:21:46.713251Z"
    }
   },
   "outputs": [
    {
     "data": {
      "text/plain": "   c\n0  7\n1  8\n2  9"
     },
     "execution_count": 13,
     "metadata": {},
     "output_type": "execute_result"
    }
   ],
   "source": [
    "ds.loc[:, 'c']"
   ]
  },
  {
   "cell_type": "code",
   "execution_count": 14,
   "id": "a6b555189acdfdaf",
   "metadata": {
    "ExecuteTime": {
     "end_time": "2024-03-29T11:21:47.485095300Z",
     "start_time": "2024-03-29T11:21:47.446001800Z"
    }
   },
   "outputs": [
    {
     "name": "stderr",
     "output_type": "stream",
     "text": [
      "C:\\Users\\User\\PycharmProjects\\HypEx1\\hypex\\dataset\\dataset.py:117: Warning: Column must be added by add_column\n",
      "  warnings.warn(\"Column must be added by add_column\", category=Warning)\n"
     ]
    },
    {
     "data": {
      "text/plain": "   a  b  c   d  f  e\n0  1  4  7  15  8  1\n1  2  5  8  17  9  2\n2  3  6  9  19  7  3"
     },
     "execution_count": 14,
     "metadata": {},
     "output_type": "execute_result"
    }
   ],
   "source": [
    "ds['e'] = [1, 2, 3]\n",
    "ds"
   ]
  },
  {
   "cell_type": "code",
   "execution_count": 15,
   "id": "ef012ccdb88a118e",
   "metadata": {
    "ExecuteTime": {
     "end_time": "2024-03-29T11:21:48.339844700Z",
     "start_time": "2024-03-29T11:21:48.314232600Z"
    }
   },
   "outputs": [
    {
     "data": {
      "text/plain": "   a  b  c   d  f  e\n0  1  4  7  15  8  1\n1  2  5  8  17  9  2\n2  3  6  9  19  7  3"
     },
     "execution_count": 15,
     "metadata": {},
     "output_type": "execute_result"
    }
   ],
   "source": [
    "ds['a'][1] = 1\n",
    "ds"
   ]
  },
  {
   "cell_type": "code",
   "execution_count": 16,
   "id": "dc5f73bd0b785b4",
   "metadata": {
    "ExecuteTime": {
     "end_time": "2024-03-29T11:21:49.206602600Z",
     "start_time": "2024-03-29T11:21:49.180942800Z"
    }
   },
   "outputs": [
    {
     "data": {
      "text/plain": "       a      b      c      d      f      e\n0  False  False  False  False   True  False\n1  False  False   True  False  False  False\n2   True  False  False  False  False   True"
     },
     "execution_count": 16,
     "metadata": {},
     "output_type": "execute_result"
    }
   ],
   "source": [
    "ds.isin([3, 8])"
   ]
  },
  {
   "cell_type": "code",
   "execution_count": 17,
   "id": "539f5315331754d0",
   "metadata": {
    "ExecuteTime": {
     "end_time": "2024-03-29T11:21:52.737486100Z",
     "start_time": "2024-03-29T11:21:52.370122200Z"
    }
   },
   "outputs": [
    {
     "name": "stderr",
     "output_type": "stream",
     "text": [
      "C:\\Users\\User\\PycharmProjects\\HypEx1\\hypex\\dataset\\backends\\pandas_backend.py:121: FutureWarning: The 'axis' keyword in DataFrame.groupby is deprecated and will be removed in a future version.\n",
      "  groups = self.data.groupby(by, axis, **kwargs)\n"
     ]
    },
    {
     "ename": "RoleColumnError",
     "evalue": "Check your roles. All of them must be names of data columns. \nNow roles have ['a', 'b', 'c', 'd', 'f', 'e'] values and columns have RangeIndex(start=0, stop=1, step=1) values",
     "output_type": "error",
     "traceback": [
      "\u001B[1;31m---------------------------------------------------------------------------\u001B[0m",
      "\u001B[1;31mRoleColumnError\u001B[0m                           Traceback (most recent call last)",
      "Cell \u001B[1;32mIn[17], line 1\u001B[0m\n\u001B[1;32m----> 1\u001B[0m groups_func \u001B[38;5;241m=\u001B[39m \u001B[43mds\u001B[49m\u001B[38;5;241;43m.\u001B[39;49m\u001B[43mgroupby\u001B[49m\u001B[43m(\u001B[49m\u001B[38;5;124;43m'\u001B[39;49m\u001B[38;5;124;43ma\u001B[39;49m\u001B[38;5;124;43m'\u001B[39;49m\u001B[43m,\u001B[49m\u001B[43m \u001B[49m\u001B[43mfunc\u001B[49m\u001B[38;5;241;43m=\u001B[39;49m\u001B[38;5;124;43m'\u001B[39;49m\u001B[38;5;124;43mmean\u001B[39;49m\u001B[38;5;124;43m'\u001B[39;49m\u001B[43m)\u001B[49m\n\u001B[0;32m      2\u001B[0m \u001B[38;5;28mprint\u001B[39m(\u001B[38;5;28mnext\u001B[39m(groups_func))\n",
      "File \u001B[1;32m~\\PycharmProjects\\HypEx1\\hypex\\dataset\\dataset.py:238\u001B[0m, in \u001B[0;36mDataset.groupby\u001B[1;34m(self, by, axis, level, func, fields_list)\u001B[0m\n\u001B[0;32m    225\u001B[0m         datasets \u001B[38;5;241m=\u001B[39m [\n\u001B[0;32m    226\u001B[0m             (\n\u001B[0;32m    227\u001B[0m                 i,\n\u001B[1;32m   (...)\u001B[0m\n\u001B[0;32m    235\u001B[0m             \u001B[38;5;28;01mfor\u001B[39;00m i, data \u001B[38;5;129;01min\u001B[39;00m datasets\n\u001B[0;32m    236\u001B[0m         ]\n\u001B[0;32m    237\u001B[0m     \u001B[38;5;28;01melse\u001B[39;00m:\n\u001B[1;32m--> 238\u001B[0m         datasets \u001B[38;5;241m=\u001B[39m [\n\u001B[0;32m    239\u001B[0m             (i, Dataset(roles\u001B[38;5;241m=\u001B[39m\u001B[38;5;28mself\u001B[39m\u001B[38;5;241m.\u001B[39mroles, data\u001B[38;5;241m=\u001B[39mdata\u001B[38;5;241m.\u001B[39mloc[:, :]\u001B[38;5;241m.\u001B[39magg(func)\u001B[38;5;241m.\u001B[39mdata))\n\u001B[0;32m    240\u001B[0m             \u001B[38;5;28;01mfor\u001B[39;00m i, data \u001B[38;5;129;01min\u001B[39;00m datasets\n\u001B[0;32m    241\u001B[0m         ]\n\u001B[0;32m    242\u001B[0m \u001B[38;5;28;01mreturn\u001B[39;00m \u001B[38;5;28miter\u001B[39m(datasets)\n",
      "File \u001B[1;32m~\\PycharmProjects\\HypEx1\\hypex\\dataset\\dataset.py:239\u001B[0m, in \u001B[0;36m<listcomp>\u001B[1;34m(.0)\u001B[0m\n\u001B[0;32m    225\u001B[0m         datasets \u001B[38;5;241m=\u001B[39m [\n\u001B[0;32m    226\u001B[0m             (\n\u001B[0;32m    227\u001B[0m                 i,\n\u001B[1;32m   (...)\u001B[0m\n\u001B[0;32m    235\u001B[0m             \u001B[38;5;28;01mfor\u001B[39;00m i, data \u001B[38;5;129;01min\u001B[39;00m datasets\n\u001B[0;32m    236\u001B[0m         ]\n\u001B[0;32m    237\u001B[0m     \u001B[38;5;28;01melse\u001B[39;00m:\n\u001B[0;32m    238\u001B[0m         datasets \u001B[38;5;241m=\u001B[39m [\n\u001B[1;32m--> 239\u001B[0m             (i, Dataset(roles\u001B[38;5;241m=\u001B[39m\u001B[38;5;28mself\u001B[39m\u001B[38;5;241m.\u001B[39mroles, data\u001B[38;5;241m=\u001B[39m\u001B[43mdata\u001B[49m\u001B[38;5;241;43m.\u001B[39;49m\u001B[43mloc\u001B[49m\u001B[43m[\u001B[49m\u001B[43m:\u001B[49m\u001B[43m,\u001B[49m\u001B[43m \u001B[49m\u001B[43m:\u001B[49m\u001B[43m]\u001B[49m\u001B[38;5;241;43m.\u001B[39;49m\u001B[43magg\u001B[49m\u001B[43m(\u001B[49m\u001B[43mfunc\u001B[49m\u001B[43m)\u001B[49m\u001B[38;5;241m.\u001B[39mdata))\n\u001B[0;32m    240\u001B[0m             \u001B[38;5;28;01mfor\u001B[39;00m i, data \u001B[38;5;129;01min\u001B[39;00m datasets\n\u001B[0;32m    241\u001B[0m         ]\n\u001B[0;32m    242\u001B[0m \u001B[38;5;28;01mreturn\u001B[39;00m \u001B[38;5;28miter\u001B[39m(datasets)\n",
      "File \u001B[1;32m~\\PycharmProjects\\HypEx1\\hypex\\dataset\\dataset.py:260\u001B[0m, in \u001B[0;36mDataset.agg\u001B[1;34m(self, func)\u001B[0m\n\u001B[0;32m    259\u001B[0m \u001B[38;5;28;01mdef\u001B[39;00m \u001B[38;5;21magg\u001B[39m(\u001B[38;5;28mself\u001B[39m, func: Union[\u001B[38;5;28mstr\u001B[39m, List]):\n\u001B[1;32m--> 260\u001B[0m     \u001B[38;5;28;01mreturn\u001B[39;00m \u001B[43mDataset\u001B[49m\u001B[43m(\u001B[49m\u001B[43mroles\u001B[49m\u001B[38;5;241;43m=\u001B[39;49m\u001B[38;5;28;43mself\u001B[39;49m\u001B[38;5;241;43m.\u001B[39;49m\u001B[43mroles\u001B[49m\u001B[43m,\u001B[49m\u001B[43m \u001B[49m\u001B[43mdata\u001B[49m\u001B[38;5;241;43m=\u001B[39;49m\u001B[38;5;28;43mself\u001B[39;49m\u001B[38;5;241;43m.\u001B[39;49m\u001B[43m_backend\u001B[49m\u001B[38;5;241;43m.\u001B[39;49m\u001B[43magg\u001B[49m\u001B[43m(\u001B[49m\u001B[43mfunc\u001B[49m\u001B[43m)\u001B[49m\u001B[43m)\u001B[49m\n",
      "File \u001B[1;32m~\\PycharmProjects\\HypEx1\\hypex\\dataset\\dataset.py:96\u001B[0m, in \u001B[0;36mDataset.__init__\u001B[1;34m(self, roles, data, backend)\u001B[0m\n\u001B[0;32m     94\u001B[0m \u001B[38;5;28mself\u001B[39m\u001B[38;5;241m.\u001B[39mloc \u001B[38;5;241m=\u001B[39m \u001B[38;5;28;01mNone\u001B[39;00m\n\u001B[0;32m     95\u001B[0m \u001B[38;5;28mself\u001B[39m\u001B[38;5;241m.\u001B[39miloc \u001B[38;5;241m=\u001B[39m \u001B[38;5;28;01mNone\u001B[39;00m\n\u001B[1;32m---> 96\u001B[0m \u001B[38;5;28;43mself\u001B[39;49m\u001B[38;5;241;43m.\u001B[39;49m\u001B[43mset_data\u001B[49m\u001B[43m(\u001B[49m\u001B[43mroles\u001B[49m\u001B[43m,\u001B[49m\u001B[43m \u001B[49m\u001B[43mdata\u001B[49m\u001B[43m,\u001B[49m\u001B[43m \u001B[49m\u001B[43mbackend\u001B[49m\u001B[43m)\u001B[49m\n",
      "File \u001B[1;32m~\\PycharmProjects\\HypEx1\\hypex\\dataset\\dataset.py:66\u001B[0m, in \u001B[0;36mDataset.set_data\u001B[1;34m(self, roles, data, backend)\u001B[0m\n\u001B[0;32m     58\u001B[0m roles \u001B[38;5;241m=\u001B[39m (\n\u001B[0;32m     59\u001B[0m     parse_roles(roles)\n\u001B[0;32m     60\u001B[0m     \u001B[38;5;28;01mif\u001B[39;00m \u001B[38;5;28many\u001B[39m(\u001B[38;5;28misinstance\u001B[39m(role, \u001B[38;5;28mtype\u001B[39m) \u001B[38;5;28;01mfor\u001B[39;00m role \u001B[38;5;129;01min\u001B[39;00m roles\u001B[38;5;241m.\u001B[39mkeys())\n\u001B[0;32m     61\u001B[0m     \u001B[38;5;28;01melse\u001B[39;00m roles\n\u001B[0;32m     62\u001B[0m )\n\u001B[0;32m     63\u001B[0m \u001B[38;5;28;01mif\u001B[39;00m data \u001B[38;5;129;01mis\u001B[39;00m \u001B[38;5;129;01mnot\u001B[39;00m \u001B[38;5;28;01mNone\u001B[39;00m \u001B[38;5;129;01mand\u001B[39;00m \u001B[38;5;28many\u001B[39m(\n\u001B[0;32m     64\u001B[0m     i \u001B[38;5;129;01mnot\u001B[39;00m \u001B[38;5;129;01min\u001B[39;00m \u001B[38;5;28mself\u001B[39m\u001B[38;5;241m.\u001B[39m_backend\u001B[38;5;241m.\u001B[39mcolumns \u001B[38;5;28;01mfor\u001B[39;00m i \u001B[38;5;129;01min\u001B[39;00m \u001B[38;5;28mlist\u001B[39m(roles\u001B[38;5;241m.\u001B[39mkeys())\n\u001B[0;32m     65\u001B[0m ):\n\u001B[1;32m---> 66\u001B[0m     \u001B[38;5;28;01mraise\u001B[39;00m RoleColumnError(\u001B[38;5;28mlist\u001B[39m(roles\u001B[38;5;241m.\u001B[39mkeys()), \u001B[38;5;28mself\u001B[39m\u001B[38;5;241m.\u001B[39m_backend\u001B[38;5;241m.\u001B[39mcolumns)\n\u001B[0;32m     67\u001B[0m \u001B[38;5;28mself\u001B[39m\u001B[38;5;241m.\u001B[39mroles \u001B[38;5;241m=\u001B[39m roles\n\u001B[0;32m     68\u001B[0m \u001B[38;5;28mself\u001B[39m\u001B[38;5;241m.\u001B[39mdata \u001B[38;5;241m=\u001B[39m \u001B[38;5;28mself\u001B[39m\u001B[38;5;241m.\u001B[39m_backend\u001B[38;5;241m.\u001B[39mdata\n",
      "\u001B[1;31mRoleColumnError\u001B[0m: Check your roles. All of them must be names of data columns. \nNow roles have ['a', 'b', 'c', 'd', 'f', 'e'] values and columns have RangeIndex(start=0, stop=1, step=1) values"
     ]
    }
   ],
   "source": [
    "groups_func = ds.groupby('a', func='mean')\n",
    "print(next(groups_func))"
   ]
  },
  {
   "cell_type": "code",
   "execution_count": 18,
   "id": "e13b37bee73a9816",
   "metadata": {
    "collapsed": false,
    "ExecuteTime": {
     "end_time": "2024-03-29T11:22:49.321957Z",
     "start_time": "2024-03-29T11:22:49.299321500Z"
    }
   },
   "outputs": [
    {
     "name": "stdout",
     "output_type": "stream",
     "text": [
      "(1,    a  b  c   d  f  e\n",
      "0  1  4  7  15  8  1)\n"
     ]
    },
    {
     "name": "stderr",
     "output_type": "stream",
     "text": [
      "C:\\Users\\User\\PycharmProjects\\HypEx1\\hypex\\dataset\\backends\\pandas_backend.py:121: FutureWarning: The 'axis' keyword in DataFrame.groupby is deprecated and will be removed in a future version.\n",
      "  groups = self.data.groupby(by, axis, **kwargs)\n"
     ]
    }
   ],
   "source": [
    "groups = ds.groupby('a')\n",
    "print(next(groups))"
   ]
  },
  {
   "cell_type": "code",
   "execution_count": 19,
   "id": "d2167ce799f4cf7c",
   "metadata": {
    "collapsed": false,
    "ExecuteTime": {
     "end_time": "2024-03-29T11:22:51.825424400Z",
     "start_time": "2024-03-29T11:22:51.681013200Z"
    }
   },
   "outputs": [
    {
     "name": "stderr",
     "output_type": "stream",
     "text": [
      "C:\\Users\\User\\PycharmProjects\\HypEx1\\hypex\\dataset\\backends\\pandas_backend.py:121: FutureWarning: The 'axis' keyword in DataFrame.groupby is deprecated and will be removed in a future version.\n",
      "  groups = self.data.groupby(by, axis, **kwargs)\n"
     ]
    },
    {
     "ename": "RoleColumnError",
     "evalue": "Check your roles. All of them must be names of data columns. \nNow roles have ['d', 'e'] values and columns have RangeIndex(start=0, stop=1, step=1) values",
     "output_type": "error",
     "traceback": [
      "\u001B[1;31m---------------------------------------------------------------------------\u001B[0m",
      "\u001B[1;31mRoleColumnError\u001B[0m                           Traceback (most recent call last)",
      "Cell \u001B[1;32mIn[19], line 1\u001B[0m\n\u001B[1;32m----> 1\u001B[0m groups_func_fields \u001B[38;5;241m=\u001B[39m \u001B[43mds\u001B[49m\u001B[38;5;241;43m.\u001B[39;49m\u001B[43mgroupby\u001B[49m\u001B[43m(\u001B[49m\u001B[38;5;124;43m'\u001B[39;49m\u001B[38;5;124;43ma\u001B[39;49m\u001B[38;5;124;43m'\u001B[39;49m\u001B[43m,\u001B[49m\u001B[43m \u001B[49m\u001B[43mfunc\u001B[49m\u001B[38;5;241;43m=\u001B[39;49m\u001B[38;5;124;43m'\u001B[39;49m\u001B[38;5;124;43msum\u001B[39;49m\u001B[38;5;124;43m'\u001B[39;49m\u001B[43m,\u001B[49m\u001B[43m \u001B[49m\u001B[43mfields_list\u001B[49m\u001B[38;5;241;43m=\u001B[39;49m\u001B[43m[\u001B[49m\u001B[38;5;124;43m'\u001B[39;49m\u001B[38;5;124;43md\u001B[39;49m\u001B[38;5;124;43m'\u001B[39;49m\u001B[43m,\u001B[49m\u001B[43m \u001B[49m\u001B[38;5;124;43m'\u001B[39;49m\u001B[38;5;124;43me\u001B[39;49m\u001B[38;5;124;43m'\u001B[39;49m\u001B[43m]\u001B[49m\u001B[43m)\u001B[49m\n\u001B[0;32m      2\u001B[0m \u001B[38;5;28mprint\u001B[39m(\u001B[38;5;28mnext\u001B[39m(groups_func_fields))\n",
      "File \u001B[1;32m~\\PycharmProjects\\HypEx1\\hypex\\dataset\\dataset.py:225\u001B[0m, in \u001B[0;36mDataset.groupby\u001B[1;34m(self, by, axis, level, func, fields_list)\u001B[0m\n\u001B[0;32m    221\u001B[0m \u001B[38;5;28;01mif\u001B[39;00m fields_list:\n\u001B[0;32m    222\u001B[0m     fields_list \u001B[38;5;241m=\u001B[39m (\n\u001B[0;32m    223\u001B[0m         fields_list \u001B[38;5;28;01mif\u001B[39;00m \u001B[38;5;28misinstance\u001B[39m(fields_list, Iterable) \u001B[38;5;28;01melse\u001B[39;00m [fields_list]\n\u001B[0;32m    224\u001B[0m     )\n\u001B[1;32m--> 225\u001B[0m     datasets \u001B[38;5;241m=\u001B[39m [\n\u001B[0;32m    226\u001B[0m         (\n\u001B[0;32m    227\u001B[0m             i,\n\u001B[0;32m    228\u001B[0m             Dataset(\n\u001B[0;32m    229\u001B[0m                 roles\u001B[38;5;241m=\u001B[39m{\n\u001B[0;32m    230\u001B[0m                     k: v \u001B[38;5;28;01mfor\u001B[39;00m k, v \u001B[38;5;129;01min\u001B[39;00m \u001B[38;5;28mself\u001B[39m\u001B[38;5;241m.\u001B[39mroles\u001B[38;5;241m.\u001B[39mitems() \u001B[38;5;28;01mif\u001B[39;00m k \u001B[38;5;129;01min\u001B[39;00m fields_list\n\u001B[0;32m    231\u001B[0m                 },\n\u001B[0;32m    232\u001B[0m                 data\u001B[38;5;241m=\u001B[39mdata[fields_list]\u001B[38;5;241m.\u001B[39magg(func)\u001B[38;5;241m.\u001B[39mdata,\n\u001B[0;32m    233\u001B[0m             ),\n\u001B[0;32m    234\u001B[0m         )\n\u001B[0;32m    235\u001B[0m         \u001B[38;5;28;01mfor\u001B[39;00m i, data \u001B[38;5;129;01min\u001B[39;00m datasets\n\u001B[0;32m    236\u001B[0m     ]\n\u001B[0;32m    237\u001B[0m \u001B[38;5;28;01melse\u001B[39;00m:\n\u001B[0;32m    238\u001B[0m     datasets \u001B[38;5;241m=\u001B[39m [\n\u001B[0;32m    239\u001B[0m         (i, Dataset(roles\u001B[38;5;241m=\u001B[39m\u001B[38;5;28mself\u001B[39m\u001B[38;5;241m.\u001B[39mroles, data\u001B[38;5;241m=\u001B[39mdata\u001B[38;5;241m.\u001B[39mloc[:, :]\u001B[38;5;241m.\u001B[39magg(func)\u001B[38;5;241m.\u001B[39mdata))\n\u001B[0;32m    240\u001B[0m         \u001B[38;5;28;01mfor\u001B[39;00m i, data \u001B[38;5;129;01min\u001B[39;00m datasets\n\u001B[0;32m    241\u001B[0m     ]\n",
      "File \u001B[1;32m~\\PycharmProjects\\HypEx1\\hypex\\dataset\\dataset.py:232\u001B[0m, in \u001B[0;36m<listcomp>\u001B[1;34m(.0)\u001B[0m\n\u001B[0;32m    221\u001B[0m \u001B[38;5;28;01mif\u001B[39;00m fields_list:\n\u001B[0;32m    222\u001B[0m     fields_list \u001B[38;5;241m=\u001B[39m (\n\u001B[0;32m    223\u001B[0m         fields_list \u001B[38;5;28;01mif\u001B[39;00m \u001B[38;5;28misinstance\u001B[39m(fields_list, Iterable) \u001B[38;5;28;01melse\u001B[39;00m [fields_list]\n\u001B[0;32m    224\u001B[0m     )\n\u001B[0;32m    225\u001B[0m     datasets \u001B[38;5;241m=\u001B[39m [\n\u001B[0;32m    226\u001B[0m         (\n\u001B[0;32m    227\u001B[0m             i,\n\u001B[0;32m    228\u001B[0m             Dataset(\n\u001B[0;32m    229\u001B[0m                 roles\u001B[38;5;241m=\u001B[39m{\n\u001B[0;32m    230\u001B[0m                     k: v \u001B[38;5;28;01mfor\u001B[39;00m k, v \u001B[38;5;129;01min\u001B[39;00m \u001B[38;5;28mself\u001B[39m\u001B[38;5;241m.\u001B[39mroles\u001B[38;5;241m.\u001B[39mitems() \u001B[38;5;28;01mif\u001B[39;00m k \u001B[38;5;129;01min\u001B[39;00m fields_list\n\u001B[0;32m    231\u001B[0m                 },\n\u001B[1;32m--> 232\u001B[0m                 data\u001B[38;5;241m=\u001B[39m\u001B[43mdata\u001B[49m\u001B[43m[\u001B[49m\u001B[43mfields_list\u001B[49m\u001B[43m]\u001B[49m\u001B[38;5;241;43m.\u001B[39;49m\u001B[43magg\u001B[49m\u001B[43m(\u001B[49m\u001B[43mfunc\u001B[49m\u001B[43m)\u001B[49m\u001B[38;5;241m.\u001B[39mdata,\n\u001B[0;32m    233\u001B[0m             ),\n\u001B[0;32m    234\u001B[0m         )\n\u001B[0;32m    235\u001B[0m         \u001B[38;5;28;01mfor\u001B[39;00m i, data \u001B[38;5;129;01min\u001B[39;00m datasets\n\u001B[0;32m    236\u001B[0m     ]\n\u001B[0;32m    237\u001B[0m \u001B[38;5;28;01melse\u001B[39;00m:\n\u001B[0;32m    238\u001B[0m     datasets \u001B[38;5;241m=\u001B[39m [\n\u001B[0;32m    239\u001B[0m         (i, Dataset(roles\u001B[38;5;241m=\u001B[39m\u001B[38;5;28mself\u001B[39m\u001B[38;5;241m.\u001B[39mroles, data\u001B[38;5;241m=\u001B[39mdata\u001B[38;5;241m.\u001B[39mloc[:, :]\u001B[38;5;241m.\u001B[39magg(func)\u001B[38;5;241m.\u001B[39mdata))\n\u001B[0;32m    240\u001B[0m         \u001B[38;5;28;01mfor\u001B[39;00m i, data \u001B[38;5;129;01min\u001B[39;00m datasets\n\u001B[0;32m    241\u001B[0m     ]\n",
      "File \u001B[1;32m~\\PycharmProjects\\HypEx1\\hypex\\dataset\\dataset.py:260\u001B[0m, in \u001B[0;36mDataset.agg\u001B[1;34m(self, func)\u001B[0m\n\u001B[0;32m    259\u001B[0m \u001B[38;5;28;01mdef\u001B[39;00m \u001B[38;5;21magg\u001B[39m(\u001B[38;5;28mself\u001B[39m, func: Union[\u001B[38;5;28mstr\u001B[39m, List]):\n\u001B[1;32m--> 260\u001B[0m     \u001B[38;5;28;01mreturn\u001B[39;00m \u001B[43mDataset\u001B[49m\u001B[43m(\u001B[49m\u001B[43mroles\u001B[49m\u001B[38;5;241;43m=\u001B[39;49m\u001B[38;5;28;43mself\u001B[39;49m\u001B[38;5;241;43m.\u001B[39;49m\u001B[43mroles\u001B[49m\u001B[43m,\u001B[49m\u001B[43m \u001B[49m\u001B[43mdata\u001B[49m\u001B[38;5;241;43m=\u001B[39;49m\u001B[38;5;28;43mself\u001B[39;49m\u001B[38;5;241;43m.\u001B[39;49m\u001B[43m_backend\u001B[49m\u001B[38;5;241;43m.\u001B[39;49m\u001B[43magg\u001B[49m\u001B[43m(\u001B[49m\u001B[43mfunc\u001B[49m\u001B[43m)\u001B[49m\u001B[43m)\u001B[49m\n",
      "File \u001B[1;32m~\\PycharmProjects\\HypEx1\\hypex\\dataset\\dataset.py:96\u001B[0m, in \u001B[0;36mDataset.__init__\u001B[1;34m(self, roles, data, backend)\u001B[0m\n\u001B[0;32m     94\u001B[0m \u001B[38;5;28mself\u001B[39m\u001B[38;5;241m.\u001B[39mloc \u001B[38;5;241m=\u001B[39m \u001B[38;5;28;01mNone\u001B[39;00m\n\u001B[0;32m     95\u001B[0m \u001B[38;5;28mself\u001B[39m\u001B[38;5;241m.\u001B[39miloc \u001B[38;5;241m=\u001B[39m \u001B[38;5;28;01mNone\u001B[39;00m\n\u001B[1;32m---> 96\u001B[0m \u001B[38;5;28;43mself\u001B[39;49m\u001B[38;5;241;43m.\u001B[39;49m\u001B[43mset_data\u001B[49m\u001B[43m(\u001B[49m\u001B[43mroles\u001B[49m\u001B[43m,\u001B[49m\u001B[43m \u001B[49m\u001B[43mdata\u001B[49m\u001B[43m,\u001B[49m\u001B[43m \u001B[49m\u001B[43mbackend\u001B[49m\u001B[43m)\u001B[49m\n",
      "File \u001B[1;32m~\\PycharmProjects\\HypEx1\\hypex\\dataset\\dataset.py:66\u001B[0m, in \u001B[0;36mDataset.set_data\u001B[1;34m(self, roles, data, backend)\u001B[0m\n\u001B[0;32m     58\u001B[0m roles \u001B[38;5;241m=\u001B[39m (\n\u001B[0;32m     59\u001B[0m     parse_roles(roles)\n\u001B[0;32m     60\u001B[0m     \u001B[38;5;28;01mif\u001B[39;00m \u001B[38;5;28many\u001B[39m(\u001B[38;5;28misinstance\u001B[39m(role, \u001B[38;5;28mtype\u001B[39m) \u001B[38;5;28;01mfor\u001B[39;00m role \u001B[38;5;129;01min\u001B[39;00m roles\u001B[38;5;241m.\u001B[39mkeys())\n\u001B[0;32m     61\u001B[0m     \u001B[38;5;28;01melse\u001B[39;00m roles\n\u001B[0;32m     62\u001B[0m )\n\u001B[0;32m     63\u001B[0m \u001B[38;5;28;01mif\u001B[39;00m data \u001B[38;5;129;01mis\u001B[39;00m \u001B[38;5;129;01mnot\u001B[39;00m \u001B[38;5;28;01mNone\u001B[39;00m \u001B[38;5;129;01mand\u001B[39;00m \u001B[38;5;28many\u001B[39m(\n\u001B[0;32m     64\u001B[0m     i \u001B[38;5;129;01mnot\u001B[39;00m \u001B[38;5;129;01min\u001B[39;00m \u001B[38;5;28mself\u001B[39m\u001B[38;5;241m.\u001B[39m_backend\u001B[38;5;241m.\u001B[39mcolumns \u001B[38;5;28;01mfor\u001B[39;00m i \u001B[38;5;129;01min\u001B[39;00m \u001B[38;5;28mlist\u001B[39m(roles\u001B[38;5;241m.\u001B[39mkeys())\n\u001B[0;32m     65\u001B[0m ):\n\u001B[1;32m---> 66\u001B[0m     \u001B[38;5;28;01mraise\u001B[39;00m RoleColumnError(\u001B[38;5;28mlist\u001B[39m(roles\u001B[38;5;241m.\u001B[39mkeys()), \u001B[38;5;28mself\u001B[39m\u001B[38;5;241m.\u001B[39m_backend\u001B[38;5;241m.\u001B[39mcolumns)\n\u001B[0;32m     67\u001B[0m \u001B[38;5;28mself\u001B[39m\u001B[38;5;241m.\u001B[39mroles \u001B[38;5;241m=\u001B[39m roles\n\u001B[0;32m     68\u001B[0m \u001B[38;5;28mself\u001B[39m\u001B[38;5;241m.\u001B[39mdata \u001B[38;5;241m=\u001B[39m \u001B[38;5;28mself\u001B[39m\u001B[38;5;241m.\u001B[39m_backend\u001B[38;5;241m.\u001B[39mdata\n",
      "\u001B[1;31mRoleColumnError\u001B[0m: Check your roles. All of them must be names of data columns. \nNow roles have ['d', 'e'] values and columns have RangeIndex(start=0, stop=1, step=1) values"
     ]
    }
   ],
   "source": [
    "groups_func_fields = ds.groupby('a', func='sum', fields_list=['d', 'e'])\n",
    "print(next(groups_func_fields))"
   ]
  },
  {
   "cell_type": "code",
   "outputs": [
    {
     "ename": "RoleColumnError",
     "evalue": "Check your roles. All of them must be names of data columns. \nNow roles have ['a', 'b', 'c', 'd', 'f', 'e'] values and columns have RangeIndex(start=0, stop=1, step=1) values",
     "output_type": "error",
     "traceback": [
      "\u001B[1;31m---------------------------------------------------------------------------\u001B[0m",
      "\u001B[1;31mRoleColumnError\u001B[0m                           Traceback (most recent call last)",
      "Cell \u001B[1;32mIn[20], line 1\u001B[0m\n\u001B[1;32m----> 1\u001B[0m \u001B[43mds\u001B[49m\u001B[38;5;241;43m.\u001B[39;49m\u001B[43mmean\u001B[49m\u001B[43m(\u001B[49m\u001B[43m)\u001B[49m\n",
      "File \u001B[1;32m~\\PycharmProjects\\HypEx1\\hypex\\dataset\\dataset.py:245\u001B[0m, in \u001B[0;36mDataset.mean\u001B[1;34m(self)\u001B[0m\n\u001B[0;32m    244\u001B[0m \u001B[38;5;28;01mdef\u001B[39;00m \u001B[38;5;21mmean\u001B[39m(\u001B[38;5;28mself\u001B[39m):\n\u001B[1;32m--> 245\u001B[0m     \u001B[38;5;28;01mreturn\u001B[39;00m \u001B[43mDataset\u001B[49m\u001B[43m(\u001B[49m\u001B[43mroles\u001B[49m\u001B[38;5;241;43m=\u001B[39;49m\u001B[38;5;28;43mself\u001B[39;49m\u001B[38;5;241;43m.\u001B[39;49m\u001B[43mroles\u001B[49m\u001B[43m,\u001B[49m\u001B[43m \u001B[49m\u001B[43mdata\u001B[49m\u001B[38;5;241;43m=\u001B[39;49m\u001B[38;5;28;43mself\u001B[39;49m\u001B[38;5;241;43m.\u001B[39;49m\u001B[43m_backend\u001B[49m\u001B[38;5;241;43m.\u001B[39;49m\u001B[43mmean\u001B[49m\u001B[43m(\u001B[49m\u001B[43m)\u001B[49m\u001B[43m)\u001B[49m\n",
      "File \u001B[1;32m~\\PycharmProjects\\HypEx1\\hypex\\dataset\\dataset.py:96\u001B[0m, in \u001B[0;36mDataset.__init__\u001B[1;34m(self, roles, data, backend)\u001B[0m\n\u001B[0;32m     94\u001B[0m \u001B[38;5;28mself\u001B[39m\u001B[38;5;241m.\u001B[39mloc \u001B[38;5;241m=\u001B[39m \u001B[38;5;28;01mNone\u001B[39;00m\n\u001B[0;32m     95\u001B[0m \u001B[38;5;28mself\u001B[39m\u001B[38;5;241m.\u001B[39miloc \u001B[38;5;241m=\u001B[39m \u001B[38;5;28;01mNone\u001B[39;00m\n\u001B[1;32m---> 96\u001B[0m \u001B[38;5;28;43mself\u001B[39;49m\u001B[38;5;241;43m.\u001B[39;49m\u001B[43mset_data\u001B[49m\u001B[43m(\u001B[49m\u001B[43mroles\u001B[49m\u001B[43m,\u001B[49m\u001B[43m \u001B[49m\u001B[43mdata\u001B[49m\u001B[43m,\u001B[49m\u001B[43m \u001B[49m\u001B[43mbackend\u001B[49m\u001B[43m)\u001B[49m\n",
      "File \u001B[1;32m~\\PycharmProjects\\HypEx1\\hypex\\dataset\\dataset.py:66\u001B[0m, in \u001B[0;36mDataset.set_data\u001B[1;34m(self, roles, data, backend)\u001B[0m\n\u001B[0;32m     58\u001B[0m roles \u001B[38;5;241m=\u001B[39m (\n\u001B[0;32m     59\u001B[0m     parse_roles(roles)\n\u001B[0;32m     60\u001B[0m     \u001B[38;5;28;01mif\u001B[39;00m \u001B[38;5;28many\u001B[39m(\u001B[38;5;28misinstance\u001B[39m(role, \u001B[38;5;28mtype\u001B[39m) \u001B[38;5;28;01mfor\u001B[39;00m role \u001B[38;5;129;01min\u001B[39;00m roles\u001B[38;5;241m.\u001B[39mkeys())\n\u001B[0;32m     61\u001B[0m     \u001B[38;5;28;01melse\u001B[39;00m roles\n\u001B[0;32m     62\u001B[0m )\n\u001B[0;32m     63\u001B[0m \u001B[38;5;28;01mif\u001B[39;00m data \u001B[38;5;129;01mis\u001B[39;00m \u001B[38;5;129;01mnot\u001B[39;00m \u001B[38;5;28;01mNone\u001B[39;00m \u001B[38;5;129;01mand\u001B[39;00m \u001B[38;5;28many\u001B[39m(\n\u001B[0;32m     64\u001B[0m     i \u001B[38;5;129;01mnot\u001B[39;00m \u001B[38;5;129;01min\u001B[39;00m \u001B[38;5;28mself\u001B[39m\u001B[38;5;241m.\u001B[39m_backend\u001B[38;5;241m.\u001B[39mcolumns \u001B[38;5;28;01mfor\u001B[39;00m i \u001B[38;5;129;01min\u001B[39;00m \u001B[38;5;28mlist\u001B[39m(roles\u001B[38;5;241m.\u001B[39mkeys())\n\u001B[0;32m     65\u001B[0m ):\n\u001B[1;32m---> 66\u001B[0m     \u001B[38;5;28;01mraise\u001B[39;00m RoleColumnError(\u001B[38;5;28mlist\u001B[39m(roles\u001B[38;5;241m.\u001B[39mkeys()), \u001B[38;5;28mself\u001B[39m\u001B[38;5;241m.\u001B[39m_backend\u001B[38;5;241m.\u001B[39mcolumns)\n\u001B[0;32m     67\u001B[0m \u001B[38;5;28mself\u001B[39m\u001B[38;5;241m.\u001B[39mroles \u001B[38;5;241m=\u001B[39m roles\n\u001B[0;32m     68\u001B[0m \u001B[38;5;28mself\u001B[39m\u001B[38;5;241m.\u001B[39mdata \u001B[38;5;241m=\u001B[39m \u001B[38;5;28mself\u001B[39m\u001B[38;5;241m.\u001B[39m_backend\u001B[38;5;241m.\u001B[39mdata\n",
      "\u001B[1;31mRoleColumnError\u001B[0m: Check your roles. All of them must be names of data columns. \nNow roles have ['a', 'b', 'c', 'd', 'f', 'e'] values and columns have RangeIndex(start=0, stop=1, step=1) values"
     ]
    }
   ],
   "source": [
    "ds.mean()"
   ],
   "metadata": {
    "collapsed": false,
    "ExecuteTime": {
     "end_time": "2024-03-29T11:22:53.277633600Z",
     "start_time": "2024-03-29T11:22:53.140053200Z"
    }
   },
   "id": "913ffb6b45c2bf54",
   "execution_count": 20
  },
  {
   "cell_type": "code",
   "execution_count": 21,
   "id": "74673754fb2b25f5",
   "metadata": {
    "ExecuteTime": {
     "end_time": "2024-03-29T11:23:06.888381700Z",
     "start_time": "2024-03-29T11:23:06.855072900Z"
    }
   },
   "outputs": [],
   "source": [
    "ds_empty = Dataset(pd.DataFrame())._create_empty()"
   ]
  },
  {
   "cell_type": "code",
   "execution_count": 22,
   "id": "9836511a43bb9b96",
   "metadata": {
    "ExecuteTime": {
     "end_time": "2024-03-29T11:23:08.084947500Z",
     "start_time": "2024-03-29T11:23:08.036668400Z"
    }
   },
   "outputs": [
    {
     "data": {
      "text/plain": "Index([], dtype='object')"
     },
     "execution_count": 22,
     "metadata": {},
     "output_type": "execute_result"
    }
   ],
   "source": [
    "ds_empty.columns"
   ]
  },
  {
   "cell_type": "code",
   "execution_count": 23,
   "id": "c334f2ba6922c0d4",
   "metadata": {
    "ExecuteTime": {
     "end_time": "2024-03-29T11:23:09.126984700Z",
     "start_time": "2024-03-29T11:23:09.072207300Z"
    }
   },
   "outputs": [
    {
     "data": {
      "text/plain": "Empty DataFrame\nColumns: []\nIndex: []"
     },
     "execution_count": 23,
     "metadata": {},
     "output_type": "execute_result"
    }
   ],
   "source": [
    "ds_empty._backend"
   ]
  },
  {
   "cell_type": "code",
   "execution_count": 24,
   "id": "5acaaaab52b869b0",
   "metadata": {
    "collapsed": false,
    "ExecuteTime": {
     "end_time": "2024-03-29T11:23:12.952205300Z",
     "start_time": "2024-03-29T11:23:12.921575400Z"
    }
   },
   "outputs": [],
   "source": [
    "# you can add backend as data like this: dataset._backend\n",
    "ds_from_dict = Dataset.from_dict({'a': [1, 2], 'b': [3, 4]}, {'a': TargetRole(), 'b': InfoRole()}, 'pandas')"
   ]
  },
  {
   "cell_type": "code",
   "execution_count": 25,
   "id": "eae3f64879a8c7d6",
   "metadata": {
    "collapsed": false,
    "ExecuteTime": {
     "end_time": "2024-03-29T11:23:13.789577200Z",
     "start_time": "2024-03-29T11:23:13.765179800Z"
    }
   },
   "outputs": [
    {
     "data": {
      "text/plain": "   a  b\n0  1  3\n1  2  4"
     },
     "execution_count": 25,
     "metadata": {},
     "output_type": "execute_result"
    }
   ],
   "source": [
    "ds_from_dict"
   ]
  },
  {
   "cell_type": "code",
   "execution_count": 26,
   "id": "eb6e481cb8ab3fe1",
   "metadata": {
    "collapsed": false,
    "ExecuteTime": {
     "end_time": "2024-03-29T11:23:15.040875Z",
     "start_time": "2024-03-29T11:23:14.967509500Z"
    }
   },
   "outputs": [
    {
     "ename": "TypeError",
     "evalue": "Dataset.__init__() missing 1 required positional argument: 'roles'",
     "output_type": "error",
     "traceback": [
      "\u001B[1;31m---------------------------------------------------------------------------\u001B[0m",
      "\u001B[1;31mTypeError\u001B[0m                                 Traceback (most recent call last)",
      "Cell \u001B[1;32mIn[26], line 1\u001B[0m\n\u001B[1;32m----> 1\u001B[0m \u001B[43mds_from_dict\u001B[49m\u001B[38;5;241;43m.\u001B[39;49m\u001B[43mappend\u001B[49m\u001B[43m(\u001B[49m\u001B[43mds\u001B[49m\u001B[43m)\u001B[49m\n",
      "File \u001B[1;32m~\\PycharmProjects\\HypEx1\\hypex\\dataset\\dataset.py:157\u001B[0m, in \u001B[0;36mDataset.append\u001B[1;34m(self, other, index)\u001B[0m\n\u001B[0;32m    155\u001B[0m \u001B[38;5;28;01mif\u001B[39;00m \u001B[38;5;28mtype\u001B[39m(other\u001B[38;5;241m.\u001B[39m_backend) \u001B[38;5;241m!=\u001B[39m \u001B[38;5;28mtype\u001B[39m(\u001B[38;5;28mself\u001B[39m\u001B[38;5;241m.\u001B[39m_backend):\n\u001B[0;32m    156\u001B[0m     \u001B[38;5;28;01mraise\u001B[39;00m ConcatBackendError(\u001B[38;5;28mtype\u001B[39m(other\u001B[38;5;241m.\u001B[39m_backend), \u001B[38;5;28mtype\u001B[39m(\u001B[38;5;28mself\u001B[39m\u001B[38;5;241m.\u001B[39m_backend))\n\u001B[1;32m--> 157\u001B[0m \u001B[38;5;28;01mreturn\u001B[39;00m \u001B[43mDataset\u001B[49m\u001B[43m(\u001B[49m\u001B[43mdata\u001B[49m\u001B[38;5;241;43m=\u001B[39;49m\u001B[38;5;28;43mself\u001B[39;49m\u001B[38;5;241;43m.\u001B[39;49m\u001B[43m_backend\u001B[49m\u001B[38;5;241;43m.\u001B[39;49m\u001B[43mappend\u001B[49m\u001B[43m(\u001B[49m\u001B[43mother\u001B[49m\u001B[38;5;241;43m.\u001B[39;49m\u001B[43m_backend\u001B[49m\u001B[43m,\u001B[49m\u001B[43m \u001B[49m\u001B[43mindex\u001B[49m\u001B[43m)\u001B[49m\u001B[43m)\u001B[49m\n",
      "\u001B[1;31mTypeError\u001B[0m: Dataset.__init__() missing 1 required positional argument: 'roles'"
     ]
    }
   ],
   "source": [
    "ds_from_dict.append(ds)"
   ]
  },
  {
   "cell_type": "markdown",
   "id": "8dc6f4a6",
   "metadata": {},
   "source": [
    "# Eperiment Data"
   ]
  },
  {
   "cell_type": "code",
   "execution_count": 24,
   "id": "cb60089a",
   "metadata": {
    "ExecuteTime": {
     "end_time": "2024-03-29T11:04:39.031992500Z",
     "start_time": "2024-03-29T11:04:38.867160800Z"
    }
   },
   "outputs": [
    {
     "ename": "AttributeError",
     "evalue": "'DataFrame' object has no attribute 'data'",
     "output_type": "error",
     "traceback": [
      "\u001B[1;31m---------------------------------------------------------------------------\u001B[0m",
      "\u001B[1;31mAttributeError\u001B[0m                            Traceback (most recent call last)",
      "Cell \u001B[1;32mIn[24], line 1\u001B[0m\n\u001B[1;32m----> 1\u001B[0m ed \u001B[38;5;241m=\u001B[39m \u001B[43mExperimentData\u001B[49m\u001B[43m(\u001B[49m\u001B[43mpd\u001B[49m\u001B[38;5;241;43m.\u001B[39;49m\u001B[43mDataFrame\u001B[49m\u001B[43m(\u001B[49m\u001B[43m)\u001B[49m\u001B[43m)\u001B[49m\u001B[38;5;241m.\u001B[39m_create_empty()\n",
      "File \u001B[1;32m~\\PycharmProjects\\HypEx1\\hypex\\dataset\\dataset.py:275\u001B[0m, in \u001B[0;36mExperimentData.__init__\u001B[1;34m(self, data)\u001B[0m\n\u001B[0;32m    273\u001B[0m \u001B[38;5;28;01mdef\u001B[39;00m \u001B[38;5;21m__init__\u001B[39m(\u001B[38;5;28mself\u001B[39m, data: Dataset):\n\u001B[1;32m--> 275\u001B[0m     \u001B[38;5;28mself\u001B[39m\u001B[38;5;241m.\u001B[39madditional_fields \u001B[38;5;241m=\u001B[39m Dataset(\u001B[43mdata\u001B[49m\u001B[38;5;241;43m.\u001B[39;49m\u001B[43mdata\u001B[49m)\u001B[38;5;241m.\u001B[39m_create_empty(index\u001B[38;5;241m=\u001B[39mdata\u001B[38;5;241m.\u001B[39mindex)\n\u001B[0;32m    276\u001B[0m     \u001B[38;5;28mself\u001B[39m\u001B[38;5;241m.\u001B[39mstats_fields \u001B[38;5;241m=\u001B[39m Dataset(data\u001B[38;5;241m.\u001B[39mdata)\u001B[38;5;241m.\u001B[39m_create_empty(index\u001B[38;5;241m=\u001B[39mdata\u001B[38;5;241m.\u001B[39mcolumns)\n\u001B[0;32m    277\u001B[0m     \u001B[38;5;28mself\u001B[39m\u001B[38;5;241m.\u001B[39madditional_fields \u001B[38;5;241m=\u001B[39m Dataset(data\u001B[38;5;241m.\u001B[39mdata)\u001B[38;5;241m.\u001B[39m_create_empty(index\u001B[38;5;241m=\u001B[39mdata\u001B[38;5;241m.\u001B[39mindex)\n",
      "File \u001B[1;32m~\\AppData\\Local\\Programs\\Python\\Python310\\lib\\site-packages\\pandas\\core\\generic.py:6204\u001B[0m, in \u001B[0;36mNDFrame.__getattr__\u001B[1;34m(self, name)\u001B[0m\n\u001B[0;32m   6197\u001B[0m \u001B[38;5;28;01mif\u001B[39;00m (\n\u001B[0;32m   6198\u001B[0m     name \u001B[38;5;129;01mnot\u001B[39;00m \u001B[38;5;129;01min\u001B[39;00m \u001B[38;5;28mself\u001B[39m\u001B[38;5;241m.\u001B[39m_internal_names_set\n\u001B[0;32m   6199\u001B[0m     \u001B[38;5;129;01mand\u001B[39;00m name \u001B[38;5;129;01mnot\u001B[39;00m \u001B[38;5;129;01min\u001B[39;00m \u001B[38;5;28mself\u001B[39m\u001B[38;5;241m.\u001B[39m_metadata\n\u001B[0;32m   6200\u001B[0m     \u001B[38;5;129;01mand\u001B[39;00m name \u001B[38;5;129;01mnot\u001B[39;00m \u001B[38;5;129;01min\u001B[39;00m \u001B[38;5;28mself\u001B[39m\u001B[38;5;241m.\u001B[39m_accessors\n\u001B[0;32m   6201\u001B[0m     \u001B[38;5;129;01mand\u001B[39;00m \u001B[38;5;28mself\u001B[39m\u001B[38;5;241m.\u001B[39m_info_axis\u001B[38;5;241m.\u001B[39m_can_hold_identifiers_and_holds_name(name)\n\u001B[0;32m   6202\u001B[0m ):\n\u001B[0;32m   6203\u001B[0m     \u001B[38;5;28;01mreturn\u001B[39;00m \u001B[38;5;28mself\u001B[39m[name]\n\u001B[1;32m-> 6204\u001B[0m \u001B[38;5;28;01mreturn\u001B[39;00m \u001B[38;5;28;43mobject\u001B[39;49m\u001B[38;5;241;43m.\u001B[39;49m\u001B[38;5;21;43m__getattribute__\u001B[39;49m\u001B[43m(\u001B[49m\u001B[38;5;28;43mself\u001B[39;49m\u001B[43m,\u001B[49m\u001B[43m \u001B[49m\u001B[43mname\u001B[49m\u001B[43m)\u001B[49m\n",
      "\u001B[1;31mAttributeError\u001B[0m: 'DataFrame' object has no attribute 'data'"
     ]
    }
   ],
   "source": [
    "ed = ExperimentData(pd.DataFrame())._create_empty()"
   ]
  },
  {
   "cell_type": "code",
   "execution_count": 29,
   "id": "5dd578e1cc35b41f",
   "metadata": {
    "ExecuteTime": {
     "end_time": "2024-03-27T14:32:11.095693800Z",
     "start_time": "2024-03-27T14:32:11.055190100Z"
    }
   },
   "outputs": [
    {
     "data": {
      "text/plain": "Empty DataFrame\nColumns: []\nIndex: []"
     },
     "execution_count": 29,
     "metadata": {},
     "output_type": "execute_result"
    }
   ],
   "source": [
    "ed.additional_fields"
   ]
  },
  {
   "cell_type": "code",
   "execution_count": 30,
   "id": "bfc0cb3f4c632654",
   "metadata": {
    "ExecuteTime": {
     "end_time": "2024-03-27T14:32:13.352066700Z",
     "start_time": "2024-03-27T14:32:13.327459400Z"
    }
   },
   "outputs": [
    {
     "name": "stderr",
     "output_type": "stream",
     "text": [
      "C:\\Users\\User\\PycharmProjects\\HypEx1\\hypex\\dataset\\dataset.py:50: UserWarning: Didn't add roles for experiment estimation. This fact can lead to incorrect operation of the pipeline. \n",
      "  warnings.warn(\n"
     ]
    },
    {
     "data": {
      "text/plain": "Empty DataFrame\nColumns: []\nIndex: []"
     },
     "execution_count": 30,
     "metadata": {},
     "output_type": "execute_result"
    }
   ],
   "source": [
    "ed.additional_fields.loc[:, :]"
   ]
  }
 ],
 "metadata": {
  "hide_input": false,
  "kernelspec": {
   "display_name": "Python 3 (ipykernel)",
   "language": "python",
   "name": "python3"
  },
  "language_info": {
   "codemirror_mode": {
    "name": "ipython",
    "version": 3
   },
   "file_extension": ".py",
   "mimetype": "text/x-python",
   "name": "python",
   "nbconvert_exporter": "python",
   "pygments_lexer": "ipython3",
   "version": "3.10.11"
  },
  "nbTranslate": {
   "displayLangs": [
    "*"
   ],
   "hotkey": "alt-t",
   "langInMainMenu": true,
   "sourceLang": "en",
   "targetLang": "fr",
   "useGoogleTranslate": true
  },
  "toc": {
   "base_numbering": 1,
   "nav_menu": {},
   "number_sections": true,
   "sideBar": true,
   "skip_h1_title": false,
   "title_cell": "Table of Contents",
   "title_sidebar": "Contents",
   "toc_cell": false,
   "toc_position": {},
   "toc_section_display": true,
   "toc_window_display": false
  },
  "varInspector": {
   "cols": {
    "lenName": 16,
    "lenType": 16,
    "lenVar": 40
   },
   "kernels_config": {
    "python": {
     "delete_cmd_postfix": "",
     "delete_cmd_prefix": "del ",
     "library": "var_list.py",
     "varRefreshCmd": "print(var_dic_list())"
    },
    "r": {
     "delete_cmd_postfix": ") ",
     "delete_cmd_prefix": "rm(",
     "library": "var_list.r",
     "varRefreshCmd": "cat(var_dic_list()) "
    }
   },
   "types_to_exclude": [
    "module",
    "function",
    "builtin_function_or_method",
    "instance",
    "_Feature"
   ],
   "window_display": false
  }
 },
 "nbformat": 4,
 "nbformat_minor": 5
}
