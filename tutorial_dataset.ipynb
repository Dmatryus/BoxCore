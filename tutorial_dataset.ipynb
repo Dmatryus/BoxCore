{
 "cells": [
  {
   "cell_type": "code",
   "id": "initial_id",
   "metadata": {
    "collapsed": true,
    "ExecuteTime": {
     "end_time": "2024-03-20T08:13:32.229659700Z",
     "start_time": "2024-03-20T08:13:31.602345700Z"
    }
   },
   "source": [
    "import pandas as pd\n",
    "\n",
    "from hypex.dataset.dataset import Dataset, ExperimentData\n",
    "from hypex.dataset.roles import *"
   ],
   "outputs": [],
   "execution_count": 1
  },
  {
   "cell_type": "markdown",
   "id": "17fbe750",
   "metadata": {},
   "source": [
    "# Dataset\n",
    "\n"
   ]
  },
  {
   "cell_type": "code",
   "id": "522c2e109efc0c17",
   "metadata": {
    "ExecuteTime": {
     "end_time": "2024-03-20T08:13:35.396178300Z",
     "start_time": "2024-03-20T08:13:34.336585500Z"
    }
   },
   "source": [
    "df = pd.DataFrame({'a': [1, 2, 3], 'b': [4, 5, 6]})\n",
    "\n",
    "ds = Dataset(df, roles={TargetRole: 'a', PreTargetRole: 'b'})\n",
    "ds"
   ],
   "outputs": [
    {
     "data": {
      "text/plain": "   a  b\n0  1  4\n1  2  5\n2  3  6"
     },
     "execution_count": 2,
     "metadata": {},
     "output_type": "execute_result"
    }
   ],
   "execution_count": 2
  },
  {
   "cell_type": "code",
   "id": "37b558e38a543a26",
   "metadata": {
    "ExecuteTime": {
     "end_time": "2024-03-20T08:13:36.980392100Z",
     "start_time": "2024-03-20T08:13:35.958612800Z"
    }
   },
   "source": [
    "ds.roles"
   ],
   "outputs": [
    {
     "data": {
      "text/plain": "{'a': hypex.dataset.roles.TargetRole, 'b': hypex.dataset.roles.PreTargetRole}"
     },
     "execution_count": 3,
     "metadata": {},
     "output_type": "execute_result"
    }
   ],
   "execution_count": 3
  },
  {
   "cell_type": "code",
   "id": "7f22c159be791753",
   "metadata": {
    "ExecuteTime": {
     "end_time": "2024-03-20T08:13:38.387089200Z",
     "start_time": "2024-03-20T08:13:37.460977600Z"
    }
   },
   "source": [
    "ds['a']"
   ],
   "outputs": [
    {
     "data": {
      "text/plain": "   a\n0  1\n1  2\n2  3"
     },
     "execution_count": 4,
     "metadata": {},
     "output_type": "execute_result"
    }
   ],
   "execution_count": 4
  },
  {
   "cell_type": "code",
   "id": "86544b832e1c6601",
   "metadata": {
    "ExecuteTime": {
     "end_time": "2024-03-20T08:13:40.004832300Z",
     "start_time": "2024-03-20T08:13:38.965181400Z"
    }
   },
   "source": [
    "ds[1]"
   ],
   "outputs": [
    {
     "data": {
      "text/plain": "   1\na  2\nb  5"
     },
     "execution_count": 5,
     "metadata": {},
     "output_type": "execute_result"
    }
   ],
   "execution_count": 5
  },
  {
   "cell_type": "code",
   "id": "6e6fcf0c4100061",
   "metadata": {
    "ExecuteTime": {
     "end_time": "2024-03-20T08:13:41.763504200Z",
     "start_time": "2024-03-20T08:13:40.858530400Z"
    }
   },
   "source": [
    "ds['a'][1]"
   ],
   "outputs": [
    {
     "data": {
      "text/plain": "   1\na  2"
     },
     "execution_count": 6,
     "metadata": {},
     "output_type": "execute_result"
    }
   ],
   "execution_count": 6
  },
  {
   "metadata": {
    "ExecuteTime": {
     "end_time": "2024-03-20T08:13:44.641070300Z",
     "start_time": "2024-03-20T08:13:42.734233400Z"
    }
   },
   "cell_type": "code",
   "id": "b4e3ecac3488ded9",
   "source": [
    "ds.add_column([7, 8, 9], 'c', TargetRole)\n",
    "ds"
   ],
   "outputs": [
    {
     "data": {
      "text/plain": "   a  b  c\n0  1  4  7\n1  2  5  8\n2  3  6  9"
     },
     "execution_count": 7,
     "metadata": {},
     "output_type": "execute_result"
    }
   ],
   "execution_count": 7
  },
  {
   "cell_type": "code",
   "outputs": [
    {
     "data": {
      "text/plain": "    0\n0  15\n1  17\n2  19"
     },
     "execution_count": 8,
     "metadata": {},
     "output_type": "execute_result"
    }
   ],
   "source": [
    "ds.apply(func=lambda x: x['a'] + x['c'] + 7, axis=1)"
   ],
   "metadata": {
    "collapsed": false,
    "ExecuteTime": {
     "end_time": "2024-03-20T08:13:45.698873100Z",
     "start_time": "2024-03-20T08:13:45.631270600Z"
    }
   },
   "id": "28f69e19ab4ca672",
   "execution_count": 8
  },
  {
   "cell_type": "code",
   "id": "ce6e3c0f29eae380",
   "metadata": {
    "ExecuteTime": {
     "end_time": "2024-03-20T08:13:47.936554Z",
     "start_time": "2024-03-20T08:13:47.886813400Z"
    }
   },
   "source": [
    "ds.add_column(ds.apply(func=lambda x: x['a'] + x['c'] + 7, axis=1), 'd', TargetRole)\n",
    "ds"
   ],
   "outputs": [
    {
     "data": {
      "text/plain": "   a  b  c   d\n0  1  4  7  15\n1  2  5  8  17\n2  3  6  9  19"
     },
     "execution_count": 9,
     "metadata": {},
     "output_type": "execute_result"
    }
   ],
   "execution_count": 9
  },
  {
   "metadata": {
    "ExecuteTime": {
     "end_time": "2024-03-20T08:13:49.199008600Z",
     "start_time": "2024-03-20T08:13:49.144454700Z"
    }
   },
   "cell_type": "code",
   "id": "f1ebfad1376904a7",
   "source": [
    "ds.roles"
   ],
   "outputs": [
    {
     "data": {
      "text/plain": "{'a': hypex.dataset.roles.TargetRole,\n 'b': hypex.dataset.roles.PreTargetRole,\n 'c': hypex.dataset.roles.TargetRole,\n 'd': hypex.dataset.roles.TargetRole}"
     },
     "execution_count": 10,
     "metadata": {},
     "output_type": "execute_result"
    }
   ],
   "execution_count": 10
  },
  {
   "cell_type": "code",
   "outputs": [
    {
     "name": "stderr",
     "output_type": "stream",
     "text": [
      "C:\\Users\\User\\PycharmProjects\\HypEx1\\hypex\\dataset\\backends\\pandas_backend.py:66: SettingWithCopyWarning: \n",
      "A value is trying to be set on a copy of a slice from a DataFrame\n",
      "\n",
      "See the caveats in the documentation: https://pandas.pydata.org/pandas-docs/stable/user_guide/indexing.html#returning-a-view-versus-a-copy\n",
      "  self.data[name][i] = value\n",
      "C:\\Users\\User\\PycharmProjects\\HypEx1\\hypex\\dataset\\backends\\pandas_backend.py:66: SettingWithCopyWarning: \n",
      "A value is trying to be set on a copy of a slice from a DataFrame\n",
      "\n",
      "See the caveats in the documentation: https://pandas.pydata.org/pandas-docs/stable/user_guide/indexing.html#returning-a-view-versus-a-copy\n",
      "  self.data[name][i] = value\n",
      "C:\\Users\\User\\PycharmProjects\\HypEx1\\hypex\\dataset\\backends\\pandas_backend.py:66: SettingWithCopyWarning: \n",
      "A value is trying to be set on a copy of a slice from a DataFrame\n",
      "\n",
      "See the caveats in the documentation: https://pandas.pydata.org/pandas-docs/stable/user_guide/indexing.html#returning-a-view-versus-a-copy\n",
      "  self.data[name][i] = value\n"
     ]
    }
   ],
   "source": [
    "ds.add_column([7, 8, 9], 'f', TargetRole, index=[2, 0, 1])"
   ],
   "metadata": {
    "collapsed": false,
    "ExecuteTime": {
     "end_time": "2024-03-20T08:13:57.007827200Z",
     "start_time": "2024-03-20T08:13:56.961706Z"
    }
   },
   "id": "a22f4987813bf7b0",
   "execution_count": 11
  },
  {
   "metadata": {
    "ExecuteTime": {
     "end_time": "2024-03-20T08:14:01.104302Z",
     "start_time": "2024-03-20T08:14:01.069880800Z"
    }
   },
   "cell_type": "code",
   "id": "4dd88fe071abde38",
   "source": [
    "ds.loc[:, 'c']"
   ],
   "outputs": [
    {
     "data": {
      "text/plain": "   c\n0  7\n1  8\n2  9"
     },
     "execution_count": 12,
     "metadata": {},
     "output_type": "execute_result"
    }
   ],
   "execution_count": 12
  },
  {
   "metadata": {
    "ExecuteTime": {
     "end_time": "2024-03-20T08:14:02.182255800Z",
     "start_time": "2024-03-20T08:14:02.135426800Z"
    }
   },
   "cell_type": "code",
   "id": "a6b555189acdfdaf",
   "source": [
    "ds['e'] = [1, 2, 3]\n",
    "ds"
   ],
   "outputs": [
    {
     "name": "stderr",
     "output_type": "stream",
     "text": [
      "C:\\Users\\User\\PycharmProjects\\HypEx1\\hypex\\dataset\\dataset.py:94: Warning: Column must be added by add_column\n",
      "  warnings.warn(\"Column must be added by add_column\", category=Warning)\n"
     ]
    },
    {
     "data": {
      "text/plain": "   a  b  c   d  f  e\n0  1  4  7  15  8  1\n1  2  5  8  17  9  2\n2  3  6  9  19  7  3"
     },
     "execution_count": 13,
     "metadata": {},
     "output_type": "execute_result"
    }
   ],
   "execution_count": 13
  },
  {
   "metadata": {
    "ExecuteTime": {
     "end_time": "2024-03-20T08:14:03.429956900Z",
     "start_time": "2024-03-20T08:14:03.335883200Z"
    }
   },
   "cell_type": "code",
   "id": "ef012ccdb88a118e",
   "source": [
    "ds['a'][1] = 1\n",
    "ds"
   ],
   "outputs": [
    {
     "data": {
      "text/plain": "   a  b  c   d  f  e\n0  1  4  7  15  8  1\n1  2  5  8  17  9  2\n2  3  6  9  19  7  3"
     },
     "execution_count": 14,
     "metadata": {},
     "output_type": "execute_result"
    }
   ],
   "execution_count": 14
  },
  {
   "metadata": {
    "ExecuteTime": {
     "end_time": "2024-03-20T08:14:04.525974600Z",
     "start_time": "2024-03-20T08:14:04.452506Z"
    }
   },
   "cell_type": "code",
   "id": "dc5f73bd0b785b4",
   "source": [
    "ds.isin([3, 8])"
   ],
   "outputs": [
    {
     "data": {
      "text/plain": "       a      b      c      d      f      e\n0  False  False  False  False   True  False\n1  False  False   True  False  False  False\n2   True  False  False  False  False   True"
     },
     "execution_count": 15,
     "metadata": {},
     "output_type": "execute_result"
    }
   ],
   "execution_count": 15
  },
  {
   "metadata": {
    "ExecuteTime": {
     "end_time": "2024-03-20T08:14:05.428494700Z",
     "start_time": "2024-03-20T08:14:05.349970700Z"
    }
   },
   "cell_type": "code",
   "id": "539f5315331754d0",
   "source": [
    "groups_func = ds.groupby('a', func='mean')\n",
    "print(next(groups_func))"
   ],
   "outputs": [
    {
     "name": "stdout",
     "output_type": "stream",
     "text": [
      "(1,       0\n",
      "a   1.0\n",
      "b   4.0\n",
      "c   7.0\n",
      "d  15.0\n",
      "f   8.0\n",
      "e   1.0)\n"
     ]
    },
    {
     "name": "stderr",
     "output_type": "stream",
     "text": [
      "C:\\Users\\User\\PycharmProjects\\HypEx1\\hypex\\dataset\\backends\\pandas_backend.py:110: FutureWarning: The 'axis' keyword in DataFrame.groupby is deprecated and will be removed in a future version.\n",
      "  groups = self.data.groupby(by, axis, **kwargs)\n"
     ]
    }
   ],
   "execution_count": 16
  },
  {
   "cell_type": "code",
   "outputs": [
    {
     "name": "stdout",
     "output_type": "stream",
     "text": [
      "(1,    a  b  c   d  f  e\n",
      "0  1  4  7  15  8  1)\n"
     ]
    },
    {
     "name": "stderr",
     "output_type": "stream",
     "text": [
      "C:\\Users\\User\\PycharmProjects\\HypEx1\\hypex\\dataset\\backends\\pandas_backend.py:110: FutureWarning: The 'axis' keyword in DataFrame.groupby is deprecated and will be removed in a future version.\n",
      "  groups = self.data.groupby(by, axis, **kwargs)\n"
     ]
    }
   ],
   "source": [
    "groups = ds.groupby('a')\n",
    "print(next(groups))"
   ],
   "metadata": {
    "collapsed": false,
    "ExecuteTime": {
     "end_time": "2024-03-20T08:14:07.576946900Z",
     "start_time": "2024-03-20T08:14:07.517014Z"
    }
   },
   "id": "e13b37bee73a9816",
   "execution_count": 17
  },
  {
   "cell_type": "code",
   "outputs": [
    {
     "name": "stdout",
     "output_type": "stream",
     "text": [
      "(1,     0\n",
      "d  15\n",
      "e   1)\n"
     ]
    },
    {
     "name": "stderr",
     "output_type": "stream",
     "text": [
      "C:\\Users\\User\\PycharmProjects\\HypEx1\\hypex\\dataset\\backends\\pandas_backend.py:110: FutureWarning: The 'axis' keyword in DataFrame.groupby is deprecated and will be removed in a future version.\n",
      "  groups = self.data.groupby(by, axis, **kwargs)\n"
     ]
    }
   ],
   "source": [
    "groups_func_fields = ds.groupby('a', func='sum', fields_list=['d', 'e'])\n",
    "print(next(groups_func_fields))"
   ],
   "metadata": {
    "collapsed": false,
    "ExecuteTime": {
     "end_time": "2024-03-20T08:14:09.088346900Z",
     "start_time": "2024-03-20T08:14:09.044620900Z"
    }
   },
   "id": "d2167ce799f4cf7c",
   "execution_count": 18
  },
  {
   "metadata": {
    "ExecuteTime": {
     "end_time": "2024-03-20T08:14:10.798819600Z",
     "start_time": "2024-03-20T08:14:10.740010300Z"
    }
   },
   "cell_type": "code",
   "outputs": [],
   "source": [
    "ds_empty = Dataset(pd.DataFrame())._create_empty()"
   ],
   "id": "74673754fb2b25f5",
   "execution_count": 19
  },
  {
   "metadata": {
    "ExecuteTime": {
     "end_time": "2024-03-20T08:14:11.653977800Z",
     "start_time": "2024-03-20T08:14:11.594974100Z"
    }
   },
   "cell_type": "code",
   "outputs": [
    {
     "data": {
      "text/plain": "Index([], dtype='object')"
     },
     "execution_count": 20,
     "metadata": {},
     "output_type": "execute_result"
    }
   ],
   "source": [
    "ds_empty.columns"
   ],
   "id": "9836511a43bb9b96",
   "execution_count": 20
  },
  {
   "metadata": {
    "ExecuteTime": {
     "end_time": "2024-03-20T08:14:12.112884400Z",
     "start_time": "2024-03-20T08:14:12.024193700Z"
    }
   },
   "cell_type": "code",
   "outputs": [
    {
     "data": {
      "text/plain": "Empty DataFrame\nColumns: []\nIndex: []"
     },
     "execution_count": 21,
     "metadata": {},
     "output_type": "execute_result"
    }
   ],
   "source": [
    "ds_empty._backend"
   ],
   "id": "c334f2ba6922c0d4",
   "execution_count": 21
  },
  {
   "cell_type": "code",
   "outputs": [],
   "source": [
    "# you can add backend as data like this: dataset._backend\n",
    "ds_from_dict = Dataset().from_dict({'a': [1, 2], 'b': [3, 4]})"
   ],
   "metadata": {
    "collapsed": false,
    "ExecuteTime": {
     "end_time": "2024-03-20T08:14:12.600702300Z",
     "start_time": "2024-03-20T08:14:12.516832900Z"
    }
   },
   "id": "5acaaaab52b869b0",
   "execution_count": 22
  },
  {
   "cell_type": "code",
   "outputs": [
    {
     "data": {
      "text/plain": "   a  b\n0  1  3\n1  2  4"
     },
     "execution_count": 23,
     "metadata": {},
     "output_type": "execute_result"
    }
   ],
   "source": [
    "ds_from_dict"
   ],
   "metadata": {
    "collapsed": false,
    "ExecuteTime": {
     "end_time": "2024-03-20T08:14:13.201699700Z",
     "start_time": "2024-03-20T08:14:13.150540900Z"
    }
   },
   "id": "eae3f64879a8c7d6",
   "execution_count": 23
  },
  {
   "cell_type": "code",
   "outputs": [
    {
     "data": {
      "text/plain": "   a  b    c     d    f    e\n0  1  3  NaN   NaN  NaN  NaN\n1  2  4  NaN   NaN  NaN  NaN\n0  1  4  7.0  15.0    8  1.0\n1  2  5  8.0  17.0    9  2.0\n2  3  6  9.0  19.0    7  3.0"
     },
     "execution_count": 24,
     "metadata": {},
     "output_type": "execute_result"
    }
   ],
   "source": [
    "ds_from_dict.append(ds)"
   ],
   "metadata": {
    "collapsed": false,
    "ExecuteTime": {
     "end_time": "2024-03-20T08:14:13.837425800Z",
     "start_time": "2024-03-20T08:14:13.789014400Z"
    }
   },
   "id": "eb6e481cb8ab3fe1",
   "execution_count": 24
  },
  {
   "metadata": {},
   "cell_type": "markdown",
   "source": [
    "# Eperiment Data"
   ],
   "id": "8dc6f4a6"
  },
  {
   "metadata": {
    "ExecuteTime": {
     "end_time": "2024-03-20T08:14:17.122257100Z",
     "start_time": "2024-03-20T08:14:17.096196900Z"
    }
   },
   "cell_type": "code",
   "outputs": [],
   "source": [
    "ed = ExperimentData(pd.DataFrame())._create_empty()"
   ],
   "id": "cb60089a",
   "execution_count": 25
  },
  {
   "metadata": {
    "ExecuteTime": {
     "end_time": "2024-03-20T08:14:17.748303100Z",
     "start_time": "2024-03-20T08:14:17.702788900Z"
    }
   },
   "cell_type": "code",
   "outputs": [
    {
     "data": {
      "text/plain": "Empty DataFrame\nColumns: []\nIndex: []"
     },
     "execution_count": 26,
     "metadata": {},
     "output_type": "execute_result"
    }
   ],
   "source": [
    "ed.additional_fields"
   ],
   "id": "5dd578e1cc35b41f",
   "execution_count": 26
  },
  {
   "metadata": {
    "ExecuteTime": {
     "end_time": "2024-03-20T08:14:18.430072500Z",
     "start_time": "2024-03-20T08:14:18.348131700Z"
    }
   },
   "cell_type": "code",
   "outputs": [
    {
     "data": {
      "text/plain": "Empty DataFrame\nColumns: []\nIndex: []"
     },
     "execution_count": 27,
     "metadata": {},
     "output_type": "execute_result"
    }
   ],
   "source": [
    "ed.additional_fields.loc[:, :]"
   ],
   "id": "bfc0cb3f4c632654",
   "execution_count": 27
  }
 ],
 "metadata": {
  "hide_input": false,
  "kernelspec": {
   "display_name": "Python 3 (ipykernel)",
   "language": "python",
   "name": "python3"
  },
  "language_info": {
   "codemirror_mode": {
    "name": "ipython",
    "version": 3
   },
   "file_extension": ".py",
   "mimetype": "text/x-python",
   "name": "python",
   "nbconvert_exporter": "python",
   "pygments_lexer": "ipython3",
   "version": "3.11.5"
  },
  "nbTranslate": {
   "displayLangs": [
    "*"
   ],
   "hotkey": "alt-t",
   "langInMainMenu": true,
   "sourceLang": "en",
   "targetLang": "fr",
   "useGoogleTranslate": true
  },
  "toc": {
   "base_numbering": 1,
   "nav_menu": {},
   "number_sections": true,
   "sideBar": true,
   "skip_h1_title": false,
   "title_cell": "Table of Contents",
   "title_sidebar": "Contents",
   "toc_cell": false,
   "toc_position": {},
   "toc_section_display": true,
   "toc_window_display": false
  },
  "varInspector": {
   "cols": {
    "lenName": 16,
    "lenType": 16,
    "lenVar": 40
   },
   "kernels_config": {
    "python": {
     "delete_cmd_postfix": "",
     "delete_cmd_prefix": "del ",
     "library": "var_list.py",
     "varRefreshCmd": "print(var_dic_list())"
    },
    "r": {
     "delete_cmd_postfix": ") ",
     "delete_cmd_prefix": "rm(",
     "library": "var_list.r",
     "varRefreshCmd": "cat(var_dic_list()) "
    }
   },
   "types_to_exclude": [
    "module",
    "function",
    "builtin_function_or_method",
    "instance",
    "_Feature"
   ],
   "window_display": false
  }
 },
 "nbformat": 4,
 "nbformat_minor": 5
}
