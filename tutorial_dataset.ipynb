{
 "cells": [
  {
   "cell_type": "code",
   "id": "initial_id",
   "metadata": {
    "collapsed": true,
    "ExecuteTime": {
     "end_time": "2024-02-19T08:53:38.771050Z",
     "start_time": "2024-02-19T08:53:38.757863Z"
    }
   },
   "source": [
    "import pandas as pd\n",
    "\n",
    "from hypex.dataset.dataset import Dataset, ExperimentData\n",
    "from hypex.dataset.roles import *"
   ],
   "outputs": [],
   "execution_count": 14
  },
  {
   "cell_type": "markdown",
   "id": "17fbe750",
   "metadata": {},
   "source": [
    "# Dataset"
   ]
  },
  {
   "cell_type": "code",
   "id": "522c2e109efc0c17",
   "metadata": {
    "ExecuteTime": {
     "end_time": "2024-02-19T08:53:39.808778Z",
     "start_time": "2024-02-19T08:53:39.792239Z"
    }
   },
   "source": [
    "df = pd.DataFrame({'a': [1, 2, 3], 'b': [4, 5, 6]})\n",
    "ds = Dataset(df, roles={TargetRole(np.float32): 'a', PreTargetRole(np.float32): 'b'})\n",
    "ds"
   ],
   "outputs": [
    {
     "data": {
      "text/plain": [
       "   a  b\n",
       "0  1  4\n",
       "1  2  5\n",
       "2  3  6"
      ]
     },
     "execution_count": 15,
     "metadata": {},
     "output_type": "execute_result"
    }
   ],
   "execution_count": 15
  },
  {
   "cell_type": "code",
   "id": "37b558e38a543a26",
   "metadata": {
    "ExecuteTime": {
     "end_time": "2024-02-19T08:53:40.313908Z",
     "start_time": "2024-02-19T08:53:40.294063Z"
    }
   },
   "source": [
    "ds.roles"
   ],
   "outputs": [
    {
     "data": {
      "text/plain": [
       "{'a': <hypex.dataset.roles.TargetRole at 0x26024edb940>,\n",
       " 'b': <hypex.dataset.roles.PreTargetRole at 0x2602d2319f0>}"
      ]
     },
     "execution_count": 16,
     "metadata": {},
     "output_type": "execute_result"
    }
   ],
   "execution_count": 16
  },
  {
   "cell_type": "code",
   "id": "7f22c159be791753",
   "metadata": {
    "ExecuteTime": {
     "end_time": "2024-02-19T08:53:40.578979Z",
     "start_time": "2024-02-19T08:53:40.553206Z"
    }
   },
   "source": [
    "ds['a']"
   ],
   "outputs": [
    {
     "data": {
      "text/plain": [
       "0    1\n",
       "1    2\n",
       "2    3\n",
       "Name: a, dtype: int64"
      ]
     },
     "execution_count": 17,
     "metadata": {},
     "output_type": "execute_result"
    }
   ],
   "execution_count": 17
  },
  {
   "cell_type": "code",
   "id": "86544b832e1c6601",
   "metadata": {
    "ExecuteTime": {
     "end_time": "2024-02-19T08:53:40.907585Z",
     "start_time": "2024-02-19T08:53:40.880732Z"
    }
   },
   "source": [
    "ds[1]"
   ],
   "outputs": [
    {
     "data": {
      "text/plain": [
       "a    2\n",
       "b    5\n",
       "Name: 1, dtype: int64"
      ]
     },
     "execution_count": 18,
     "metadata": {},
     "output_type": "execute_result"
    }
   ],
   "execution_count": 18
  },
  {
   "cell_type": "code",
   "id": "6e6fcf0c4100061",
   "metadata": {
    "ExecuteTime": {
     "end_time": "2024-02-19T08:53:41.233944Z",
     "start_time": "2024-02-19T08:53:41.222935Z"
    }
   },
   "source": [
    "ds['a'][1]"
   ],
   "outputs": [
    {
     "data": {
      "text/plain": [
       "2"
      ]
     },
     "execution_count": 19,
     "metadata": {},
     "output_type": "execute_result"
    }
   ],
   "execution_count": 19
  },
  {
   "cell_type": "code",
   "id": "590afcac173455fc",
   "metadata": {
    "ExecuteTime": {
     "end_time": "2024-02-19T08:53:41.591391Z",
     "start_time": "2024-02-19T08:53:41.576216Z"
    }
   },
   "source": [
    "ds['c'] = [7, 8, 9]\n",
    "ds"
   ],
   "outputs": [
    {
     "data": {
      "text/plain": [
       "   a  b  c\n",
       "0  1  4  7\n",
       "1  2  5  8\n",
       "2  3  6  9"
      ]
     },
     "execution_count": 20,
     "metadata": {},
     "output_type": "execute_result"
    }
   ],
   "execution_count": 20
  },
  {
   "cell_type": "code",
   "id": "ce6e3c0f29eae380",
   "metadata": {
    "ExecuteTime": {
     "end_time": "2024-02-19T08:53:42.169284Z",
     "start_time": "2024-02-19T08:53:42.146929Z"
    }
   },
   "source": [
    "ds['d'] = ds.apply(func=lambda x: x['a'] + x['c'] + 7, axis=1)\n",
    "ds"
   ],
   "outputs": [
    {
     "data": {
      "text/plain": [
       "   a  b  c   d\n",
       "0  1  4  7  15\n",
       "1  2  5  8  17\n",
       "2  3  6  9  19"
      ]
     },
     "execution_count": 21,
     "metadata": {},
     "output_type": "execute_result"
    }
   ],
   "execution_count": 21
  },
  {
   "metadata": {
    "ExecuteTime": {
     "end_time": "2024-02-19T08:53:43.237030Z",
     "start_time": "2024-02-19T08:53:43.230829Z"
    }
   },
   "cell_type": "code",
   "id": "74673754fb2b25f5",
   "source": "ds_empty = Dataset(pd.DataFrame())._create_empty()",
   "outputs": [],
   "execution_count": 22
  },
  {
   "metadata": {
    "ExecuteTime": {
     "end_time": "2024-02-19T08:53:43.664691Z",
     "start_time": "2024-02-19T08:53:43.640751Z"
    }
   },
   "cell_type": "code",
   "id": "9836511a43bb9b96",
   "source": "ds_empty.columns",
   "outputs": [
    {
     "data": {
      "text/plain": [
       "Index([], dtype='object')"
      ]
     },
     "execution_count": 23,
     "metadata": {},
     "output_type": "execute_result"
    }
   ],
   "execution_count": 23
  },
  {
   "metadata": {
    "ExecuteTime": {
     "end_time": "2024-02-19T08:53:44.056988Z",
     "start_time": "2024-02-19T08:53:44.047886Z"
    }
   },
   "cell_type": "code",
   "id": "c334f2ba6922c0d4",
   "source": "ds_empty._backend.__class__",
   "outputs": [
    {
     "data": {
      "text/plain": [
       "hypex.dataset.backends.pandas_backend.PandasDataset"
      ]
     },
     "execution_count": 24,
     "metadata": {},
     "output_type": "execute_result"
    }
   ],
   "execution_count": 24
  },
  {
   "metadata": {
    "ExecuteTime": {
     "end_time": "2024-02-19T08:53:44.406530Z",
     "start_time": "2024-02-19T08:53:44.388537Z"
    }
   },
   "cell_type": "code",
   "id": "4dd88fe071abde38",
   "source": "ds.loc[:, 'c']",
   "outputs": [
    {
     "name": "stdout",
     "output_type": "stream",
     "text": [
      "   a  b  c   d\n",
      "0  1  4  7  15\n",
      "1  2  5  8  17\n",
      "2  3  6  9  19\n"
     ]
    },
    {
     "data": {
      "text/plain": [
       "0    7\n",
       "1    8\n",
       "2    9\n",
       "Name: c, dtype: int64"
      ]
     },
     "execution_count": 25,
     "metadata": {},
     "output_type": "execute_result"
    }
   ],
   "execution_count": 25
  },
  {
   "metadata": {},
   "cell_type": "markdown",
   "source": "# Eperiment Data",
   "id": "8dc6f4a6"
  },
  {
   "metadata": {
    "ExecuteTime": {
     "end_time": "2024-02-19T08:53:47.799315Z",
     "start_time": "2024-02-19T08:53:47.782267Z"
    }
   },
   "cell_type": "code",
   "source": "ed = ExperimentData(pd.DataFrame())._create_empty()",
   "id": "cb60089a",
   "outputs": [],
   "execution_count": 26
  },
  {
   "metadata": {
    "ExecuteTime": {
     "end_time": "2024-02-19T08:53:49.301360Z",
     "start_time": "2024-02-19T08:53:49.274139Z"
    }
   },
   "cell_type": "code",
   "id": "5dd578e1cc35b41f",
   "source": "ed.additional_fields",
   "outputs": [
    {
     "data": {
      "text/plain": [
       "Empty DataFrame\n",
       "Columns: []\n",
       "Index: []"
      ]
     },
     "execution_count": 27,
     "metadata": {},
     "output_type": "execute_result"
    }
   ],
   "execution_count": 27
  },
  {
   "metadata": {
    "ExecuteTime": {
     "end_time": "2024-02-19T08:54:08.039342Z",
     "start_time": "2024-02-19T08:54:08.019419Z"
    }
   },
   "cell_type": "code",
   "id": "bfc0cb3f4c632654",
   "source": "ed.additional_fields.loc[:, :]",
   "outputs": [
    {
     "name": "stdout",
     "output_type": "stream",
     "text": [
      "Empty DataFrame\n",
      "Columns: []\n",
      "Index: []\n"
     ]
    },
    {
     "data": {
      "text/plain": [
       "Empty DataFrame\n",
       "Columns: []\n",
       "Index: []"
      ],
      "text/html": [
       "<div>\n",
       "<style scoped>\n",
       "    .dataframe tbody tr th:only-of-type {\n",
       "        vertical-align: middle;\n",
       "    }\n",
       "\n",
       "    .dataframe tbody tr th {\n",
       "        vertical-align: top;\n",
       "    }\n",
       "\n",
       "    .dataframe thead th {\n",
       "        text-align: right;\n",
       "    }\n",
       "</style>\n",
       "<table border=\"1\" class=\"dataframe\">\n",
       "  <thead>\n",
       "    <tr style=\"text-align: right;\">\n",
       "      <th></th>\n",
       "    </tr>\n",
       "  </thead>\n",
       "  <tbody>\n",
       "  </tbody>\n",
       "</table>\n",
       "</div>"
      ]
     },
     "execution_count": 28,
     "metadata": {},
     "output_type": "execute_result"
    }
   ],
   "execution_count": 28
  }
 ],
 "metadata": {
  "hide_input": false,
  "kernelspec": {
   "display_name": "Python 3 (ipykernel)",
   "language": "python",
   "name": "python3"
  },
  "language_info": {
   "codemirror_mode": {
    "name": "ipython",
    "version": 3
   },
   "file_extension": ".py",
   "mimetype": "text/x-python",
   "name": "python",
   "nbconvert_exporter": "python",
   "pygments_lexer": "ipython3",
   "version": "3.11.5"
  },
  "nbTranslate": {
   "displayLangs": [
    "*"
   ],
   "hotkey": "alt-t",
   "langInMainMenu": true,
   "sourceLang": "en",
   "targetLang": "fr",
   "useGoogleTranslate": true
  },
  "toc": {
   "base_numbering": 1,
   "nav_menu": {},
   "number_sections": true,
   "sideBar": true,
   "skip_h1_title": false,
   "title_cell": "Table of Contents",
   "title_sidebar": "Contents",
   "toc_cell": false,
   "toc_position": {},
   "toc_section_display": true,
   "toc_window_display": false
  },
  "varInspector": {
   "cols": {
    "lenName": 16,
    "lenType": 16,
    "lenVar": 40
   },
   "kernels_config": {
    "python": {
     "delete_cmd_postfix": "",
     "delete_cmd_prefix": "del ",
     "library": "var_list.py",
     "varRefreshCmd": "print(var_dic_list())"
    },
    "r": {
     "delete_cmd_postfix": ") ",
     "delete_cmd_prefix": "rm(",
     "library": "var_list.r",
     "varRefreshCmd": "cat(var_dic_list()) "
    }
   },
   "types_to_exclude": [
    "module",
    "function",
    "builtin_function_or_method",
    "instance",
    "_Feature"
   ],
   "window_display": false
  }
 },
 "nbformat": 4,
 "nbformat_minor": 5
}
