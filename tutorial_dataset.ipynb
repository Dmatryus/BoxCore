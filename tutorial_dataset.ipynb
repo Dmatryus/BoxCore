{
 "cells": [
  {
   "cell_type": "code",
   "execution_count": 1,
   "id": "initial_id",
   "metadata": {
    "collapsed": true,
    "ExecuteTime": {
     "end_time": "2024-04-01T09:59:43.708717500Z",
     "start_time": "2024-04-01T09:59:42.184365900Z"
    }
   },
   "outputs": [],
   "source": [
    "import pandas as pd\n",
    "\n",
    "from hypex.dataset.dataset import Dataset, ExperimentData\n",
    "from hypex.dataset.roles import *"
   ]
  },
  {
   "cell_type": "markdown",
   "id": "17fbe750",
   "metadata": {},
   "source": [
    "# Dataset\n",
    "\n"
   ]
  },
  {
   "cell_type": "code",
   "execution_count": 2,
   "id": "522c2e109efc0c17",
   "metadata": {
    "ExecuteTime": {
     "end_time": "2024-04-01T09:59:43.808712300Z",
     "start_time": "2024-04-01T09:59:43.712454900Z"
    }
   },
   "outputs": [
    {
     "data": {
      "text/plain": "   a  b\n0  1  4\n1  2  5\n2  3  6"
     },
     "execution_count": 2,
     "metadata": {},
     "output_type": "execute_result"
    }
   ],
   "source": [
    "df = pd.DataFrame({'a': [1, 2, 3], 'b': [4, 5, 6]})\n",
    "\n",
    "ds = Dataset({'a': TargetRole(), 'b': PreTargetRole()}, data=df)\n",
    "ds"
   ]
  },
  {
   "cell_type": "code",
   "execution_count": 3,
   "id": "37b558e38a543a26",
   "metadata": {
    "ExecuteTime": {
     "end_time": "2024-04-01T09:59:43.842355500Z",
     "start_time": "2024-04-01T09:59:43.744533600Z"
    }
   },
   "outputs": [
    {
     "data": {
      "text/plain": "   a\n0  1\n1  2\n2  3"
     },
     "execution_count": 3,
     "metadata": {},
     "output_type": "execute_result"
    }
   ],
   "source": [
    "ExperimentData.from_dict({'a': [1, 2, 3]}, {'a': TargetRole()}, 'pandas')"
   ]
  },
  {
   "cell_type": "code",
   "outputs": [
    {
     "data": {
      "text/plain": "{'a': Target, 'b': PreTarget}"
     },
     "execution_count": 4,
     "metadata": {},
     "output_type": "execute_result"
    }
   ],
   "source": [
    "ds.roles"
   ],
   "metadata": {
    "collapsed": false,
    "ExecuteTime": {
     "end_time": "2024-04-01T09:59:43.846541Z",
     "start_time": "2024-04-01T09:59:43.785966400Z"
    }
   },
   "id": "97e2c6fb26889ad5",
   "execution_count": 4
  },
  {
   "cell_type": "code",
   "execution_count": 5,
   "id": "7f22c159be791753",
   "metadata": {
    "ExecuteTime": {
     "end_time": "2024-04-01T09:59:44.053680800Z",
     "start_time": "2024-04-01T09:59:43.813325400Z"
    }
   },
   "outputs": [
    {
     "data": {
      "text/plain": "   a\n0  1\n1  2\n2  3"
     },
     "execution_count": 5,
     "metadata": {},
     "output_type": "execute_result"
    }
   ],
   "source": [
    "ds['a']"
   ]
  },
  {
   "cell_type": "code",
   "execution_count": 6,
   "id": "86544b832e1c6601",
   "metadata": {
    "ExecuteTime": {
     "end_time": "2024-04-01T09:59:44.085420Z",
     "start_time": "2024-04-01T09:59:43.855259700Z"
    }
   },
   "outputs": [
    {
     "data": {
      "text/plain": "   1\na  2\nb  5"
     },
     "execution_count": 6,
     "metadata": {},
     "output_type": "execute_result"
    }
   ],
   "source": [
    "ds[1]"
   ]
  },
  {
   "cell_type": "code",
   "execution_count": 7,
   "id": "6e6fcf0c4100061",
   "metadata": {
    "ExecuteTime": {
     "end_time": "2024-04-01T09:59:44.211878300Z",
     "start_time": "2024-04-01T09:59:43.905250600Z"
    }
   },
   "outputs": [
    {
     "data": {
      "text/plain": "   1\na  2"
     },
     "execution_count": 7,
     "metadata": {},
     "output_type": "execute_result"
    }
   ],
   "source": [
    "ds['a'][1]"
   ]
  },
  {
   "cell_type": "code",
   "outputs": [],
   "source": [
    "ds.add_column([7, 8, 9], {'c': TargetRole()})\n",
    "ds"
   ],
   "metadata": {
    "collapsed": false
   },
   "id": "3195bc0a0edad5b1"
  },
  {
   "cell_type": "code",
   "outputs": [],
   "source": [
    "ds.apply(func=lambda x: x['a'] + x['c'] + 7, role={\"new\": InfoRole()}, axis=1)"
   ],
   "metadata": {
    "collapsed": false
   },
   "id": "982af7e32259e293"
  },
  {
   "cell_type": "code",
   "outputs": [],
   "source": [
    "print(ds.roles)"
   ],
   "metadata": {
    "collapsed": false
   },
   "id": "97529b0fa1c80368"
  },
  {
   "cell_type": "code",
   "outputs": [],
   "source": [
    "ds.add_column(ds.apply(func=lambda x: x['a'] + x['c'] + 7, role={\"new\": InfoRole()}, axis=1))\n",
    "ds"
   ],
   "metadata": {
    "collapsed": false
   },
   "id": "9c2299476750f8"
  },
  {
   "cell_type": "code",
   "outputs": [],
   "source": [
    "ds.roles"
   ],
   "metadata": {
    "collapsed": false
   },
   "id": "3a0fe3e476ec0675"
  },
  {
   "cell_type": "code",
   "outputs": [],
   "source": [
    "ds.add_column([7, 8, 9], {'f': TargetRole()}, index=[2, 0, 1])"
   ],
   "metadata": {
    "collapsed": false
   },
   "id": "e022d46391e83503"
  },
  {
   "cell_type": "code",
   "outputs": [],
   "source": [
    "ds.loc[:, 'c']"
   ],
   "metadata": {
    "collapsed": false
   },
   "id": "1fe33a91ff7e247f"
  },
  {
   "cell_type": "code",
   "outputs": [],
   "source": [
    "ds['e'] = [1, 2, 3]\n",
    "ds"
   ],
   "metadata": {
    "collapsed": false
   },
   "id": "55eaa1d07e6541d4"
  },
  {
   "cell_type": "code",
   "outputs": [],
   "source": [
    "ds['a'][1] = 1\n",
    "ds"
   ],
   "metadata": {
    "collapsed": false
   },
   "id": "33a3e6dbe408808e"
  },
  {
   "cell_type": "code",
   "outputs": [],
   "source": [
    "ds.isin([3, 8])"
   ],
   "metadata": {
    "collapsed": false
   },
   "id": "24738ec2c91c2169"
  },
  {
   "cell_type": "code",
   "outputs": [],
   "source": [
    "groups_func = ds.groupby('a', func='mean')\n",
    "print(next(groups_func))"
   ],
   "metadata": {
    "collapsed": false
   },
   "id": "1fa206cbf2ceb2de"
  },
  {
   "cell_type": "code",
   "outputs": [],
   "source": [
    "groups = ds.groupby('a')\n",
    "print(next(groups))"
   ],
   "metadata": {
    "collapsed": false
   },
   "id": "70b1e4c4f436512"
  },
  {
   "cell_type": "code",
   "outputs": [],
   "source": [
    "groups_func_fields = ds.groupby('a', func=['sum', 'min'], fields_list=['new', 'e'])\n",
    "print(next(groups_func_fields))"
   ],
   "metadata": {
    "collapsed": false
   },
   "id": "2046ae2f89c1102d"
  },
  {
   "cell_type": "code",
   "outputs": [],
   "source": [
    "ds.agg(['sum', 'mean'])"
   ],
   "metadata": {
    "collapsed": false
   },
   "id": "d38e12aa12d36ab7"
  },
  {
   "cell_type": "code",
   "outputs": [],
   "source": [
    "ds.mean()"
   ],
   "metadata": {
    "collapsed": false
   },
   "id": "3ef763e65ccc52e7"
  },
  {
   "cell_type": "code",
   "outputs": [],
   "source": [
    "ds_empty = Dataset(pd.DataFrame())._create_empty()"
   ],
   "metadata": {
    "collapsed": false
   },
   "id": "d9f59b67ef932e42"
  },
  {
   "cell_type": "code",
   "outputs": [],
   "source": [
    "ds_empty.columns"
   ],
   "metadata": {
    "collapsed": false
   },
   "id": "8e65e8bf25bcb53b"
  },
  {
   "cell_type": "code",
   "outputs": [],
   "source": [
    "ds_empty._backend"
   ],
   "metadata": {
    "collapsed": false
   },
   "id": "f5578fea81e79c4c"
  },
  {
   "cell_type": "code",
   "outputs": [],
   "source": [
    "ds_from_dict = Dataset.from_dict({'a': [1, 2], 'b': [3, 4]}, {'a': TargetRole(), 'b': InfoRole()}, 'pandas')"
   ],
   "metadata": {
    "collapsed": false
   },
   "id": "c1af9da76c0d1092"
  },
  {
   "cell_type": "code",
   "outputs": [],
   "source": [
    "ds_from_dict"
   ],
   "metadata": {
    "collapsed": false
   },
   "id": "f741a7a185949c1f"
  },
  {
   "cell_type": "code",
   "outputs": [],
   "source": [
    "ds_from_dict.roles"
   ],
   "metadata": {
    "collapsed": false
   },
   "id": "b1819a6579d2216a"
  },
  {
   "cell_type": "code",
   "outputs": [],
   "source": [
    "ds_from_dict.append(ds, )"
   ],
   "metadata": {
    "collapsed": false
   },
   "id": "ca058bb6efc5083f"
  },
  {
   "cell_type": "code",
   "outputs": [],
   "source": [
    "ds_from_dict.roles"
   ],
   "metadata": {
    "collapsed": false
   },
   "id": "dd6a39a2ddd38217"
  },
  {
   "cell_type": "markdown",
   "source": [
    "# Eperiment Data"
   ],
   "metadata": {
    "collapsed": false
   },
   "id": "46249c33e39f1d63"
  },
  {
   "cell_type": "code",
   "outputs": [],
   "source": [
    "ed = ExperimentData(ds)._create_empty()"
   ],
   "metadata": {
    "collapsed": false
   },
   "id": "9481bf629070a745"
  },
  {
   "cell_type": "code",
   "outputs": [],
   "source": [
    "ed.additional_fields"
   ],
   "metadata": {
    "collapsed": false
   },
   "id": "bda9d8e1a98f0d32"
  },
  {
   "cell_type": "code",
   "outputs": [],
   "source": [
    "ed.additional_fields.loc[:, :]"
   ],
   "metadata": {
    "collapsed": false
   },
   "id": "60d26bb9b16cdc69"
  }
 ],
 "metadata": {
  "hide_input": false,
  "kernelspec": {
   "display_name": "Python 3 (ipykernel)",
   "language": "python",
   "name": "python3"
  },
  "language_info": {
   "codemirror_mode": {
    "name": "ipython",
    "version": 3
   },
   "file_extension": ".py",
   "mimetype": "text/x-python",
   "name": "python",
   "nbconvert_exporter": "python",
   "pygments_lexer": "ipython3",
   "version": "3.10.11"
  },
  "nbTranslate": {
   "displayLangs": [
    "*"
   ],
   "hotkey": "alt-t",
   "langInMainMenu": true,
   "sourceLang": "en",
   "targetLang": "fr",
   "useGoogleTranslate": true
  },
  "toc": {
   "base_numbering": 1,
   "nav_menu": {},
   "number_sections": true,
   "sideBar": true,
   "skip_h1_title": false,
   "title_cell": "Table of Contents",
   "title_sidebar": "Contents",
   "toc_cell": false,
   "toc_position": {},
   "toc_section_display": true,
   "toc_window_display": false
  },
  "varInspector": {
   "cols": {
    "lenName": 16,
    "lenType": 16,
    "lenVar": 40
   },
   "kernels_config": {
    "python": {
     "delete_cmd_postfix": "",
     "delete_cmd_prefix": "del ",
     "library": "var_list.py",
     "varRefreshCmd": "print(var_dic_list())"
    },
    "r": {
     "delete_cmd_postfix": ") ",
     "delete_cmd_prefix": "rm(",
     "library": "var_list.r",
     "varRefreshCmd": "cat(var_dic_list()) "
    }
   },
   "types_to_exclude": [
    "module",
    "function",
    "builtin_function_or_method",
    "instance",
    "_Feature"
   ],
   "window_display": false
  }
 },
 "nbformat": 4,
 "nbformat_minor": 5
}
