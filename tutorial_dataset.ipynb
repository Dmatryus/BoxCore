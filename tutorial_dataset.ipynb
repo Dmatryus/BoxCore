{
 "cells": [
  {
   "cell_type": "code",
   "id": "initial_id",
   "metadata": {
    "collapsed": true,
    "ExecuteTime": {
     "end_time": "2024-03-12T13:57:19.056594700Z",
     "start_time": "2024-03-12T13:57:18.296719100Z"
    }
   },
   "source": [
    "import pandas as pd\n",
    "\n",
    "from hypex.dataset.dataset import Dataset, ExperimentData\n",
    "from hypex.dataset.roles import *"
   ],
   "outputs": [],
   "execution_count": 1
  },
  {
   "cell_type": "markdown",
   "id": "17fbe750",
   "metadata": {},
   "source": [
    "# Dataset\n"
   ]
  },
  {
   "cell_type": "code",
   "id": "522c2e109efc0c17",
   "metadata": {
    "ExecuteTime": {
     "end_time": "2024-03-12T13:57:21.177392900Z",
     "start_time": "2024-03-12T13:57:20.707199700Z"
    }
   },
   "source": [
    "df = pd.DataFrame({'a': [1, 2, 3], 'b': [4, 5, 6]})\n",
    "ds = Dataset(df, roles={TargetRole: 'a', PreTargetRole: 'b'})\n",
    "ds"
   ],
   "outputs": [
    {
     "data": {
      "text/plain": "   a  b\n0  1  4\n1  2  5\n2  3  6"
     },
     "execution_count": 2,
     "metadata": {},
     "output_type": "execute_result"
    }
   ],
   "execution_count": 2
  },
  {
   "cell_type": "code",
   "id": "37b558e38a543a26",
   "metadata": {
    "ExecuteTime": {
     "end_time": "2024-03-12T13:57:21.381747500Z",
     "start_time": "2024-03-12T13:57:21.217394100Z"
    }
   },
   "source": [
    "ds.roles"
   ],
   "outputs": [
    {
     "data": {
      "text/plain": "{'a': hypex.dataset.roles.TargetRole, 'b': hypex.dataset.roles.PreTargetRole}"
     },
     "execution_count": 3,
     "metadata": {},
     "output_type": "execute_result"
    }
   ],
   "execution_count": 3
  },
  {
   "cell_type": "code",
   "id": "7f22c159be791753",
   "metadata": {
    "ExecuteTime": {
     "end_time": "2024-03-12T13:57:21.513481800Z",
     "start_time": "2024-03-12T13:57:21.414425400Z"
    }
   },
   "source": [
    "ds['a']"
   ],
   "outputs": [
    {
     "data": {
      "text/plain": "0    1\n1    2\n2    3\nName: a, dtype: int64"
     },
     "execution_count": 4,
     "metadata": {},
     "output_type": "execute_result"
    }
   ],
   "execution_count": 4
  },
  {
   "cell_type": "code",
   "id": "86544b832e1c6601",
   "metadata": {
    "ExecuteTime": {
     "end_time": "2024-03-12T13:57:21.680796100Z",
     "start_time": "2024-03-12T13:57:21.542236200Z"
    }
   },
   "source": [
    "ds[1]"
   ],
   "outputs": [
    {
     "data": {
      "text/plain": "a    2\nb    5\nName: 1, dtype: int64"
     },
     "execution_count": 5,
     "metadata": {},
     "output_type": "execute_result"
    }
   ],
   "execution_count": 5
  },
  {
   "cell_type": "code",
   "id": "6e6fcf0c4100061",
   "metadata": {
    "ExecuteTime": {
     "end_time": "2024-03-12T13:57:22.007466200Z",
     "start_time": "2024-03-12T13:57:21.876099100Z"
    }
   },
   "source": [
    "ds['a'][1]"
   ],
   "outputs": [
    {
     "data": {
      "text/plain": "2"
     },
     "execution_count": 6,
     "metadata": {},
     "output_type": "execute_result"
    }
   ],
   "execution_count": 6
  },
  {
   "metadata": {
    "ExecuteTime": {
     "end_time": "2024-03-12T13:57:22.635349900Z",
     "start_time": "2024-03-12T13:57:22.019104400Z"
    }
   },
   "cell_type": "code",
   "id": "b4e3ecac3488ded9",
   "source": [
    "ds.add_column([7, 8, 9], 'c', TargetRole)\n",
    "ds"
   ],
   "outputs": [
    {
     "data": {
      "text/plain": "   a  b  c\n0  1  4  7\n1  2  5  8\n2  3  6  9"
     },
     "execution_count": 7,
     "metadata": {},
     "output_type": "execute_result"
    }
   ],
   "execution_count": 7
  },
  {
   "cell_type": "code",
   "id": "ce6e3c0f29eae380",
   "metadata": {
    "ExecuteTime": {
     "end_time": "2024-03-12T13:57:22.726793700Z",
     "start_time": "2024-03-12T13:57:22.612349700Z"
    }
   },
   "source": [
    "ds.add_column(ds.apply(func=lambda x: x['a'] + x['c'] + 7, axis=1), 'd', TargetRole)\n",
    "ds"
   ],
   "outputs": [
    {
     "data": {
      "text/plain": "   a  b  c   d\n0  1  4  7  15\n1  2  5  8  17\n2  3  6  9  19"
     },
     "execution_count": 8,
     "metadata": {},
     "output_type": "execute_result"
    }
   ],
   "execution_count": 8
  },
  {
   "metadata": {
    "ExecuteTime": {
     "end_time": "2024-03-12T13:57:22.833121100Z",
     "start_time": "2024-03-12T13:57:22.728794100Z"
    }
   },
   "cell_type": "code",
   "id": "f1ebfad1376904a7",
   "source": [
    "ds.roles"
   ],
   "outputs": [
    {
     "data": {
      "text/plain": "{'a': hypex.dataset.roles.TargetRole,\n 'b': hypex.dataset.roles.PreTargetRole,\n 'c': hypex.dataset.roles.TargetRole,\n 'd': hypex.dataset.roles.TargetRole}"
     },
     "execution_count": 9,
     "metadata": {},
     "output_type": "execute_result"
    }
   ],
   "execution_count": 9
  },
  {
   "metadata": {
    "ExecuteTime": {
     "end_time": "2024-03-12T13:57:22.914430100Z",
     "start_time": "2024-03-12T13:57:22.841122100Z"
    }
   },
   "cell_type": "code",
   "id": "4dd88fe071abde38",
   "source": [
    "ds.loc[:, 'c']"
   ],
   "outputs": [
    {
     "data": {
      "text/plain": "0    7\n1    8\n2    9\nName: c, dtype: int64"
     },
     "execution_count": 10,
     "metadata": {},
     "output_type": "execute_result"
    }
   ],
   "execution_count": 10
  },
  {
   "metadata": {
    "ExecuteTime": {
     "end_time": "2024-03-12T13:57:23.985696800Z",
     "start_time": "2024-03-12T13:57:23.199115400Z"
    }
   },
   "cell_type": "code",
   "id": "a6b555189acdfdaf",
   "source": [
    "ds['e'] = [1, 2, 3]\n",
    "ds"
   ],
   "outputs": [
    {
     "name": "stderr",
     "output_type": "stream",
     "text": [
      "C:\\Users\\User\\PycharmProjects\\HypEx1\\hypex\\dataset\\dataset.py:75: Warning: Column must be added by add_column\n",
      "  warnings.warn(\"Column must be added by add_column\", category=Warning)\n"
     ]
    },
    {
     "data": {
      "text/plain": "   a  b  c   d  e\n0  1  4  7  15  1\n1  2  5  8  17  2\n2  3  6  9  19  3"
     },
     "execution_count": 11,
     "metadata": {},
     "output_type": "execute_result"
    }
   ],
   "execution_count": 11
  },
  {
   "metadata": {
    "ExecuteTime": {
     "end_time": "2024-03-12T13:57:24.102456800Z",
     "start_time": "2024-03-12T13:57:23.977696900Z"
    }
   },
   "cell_type": "code",
   "id": "ef012ccdb88a118e",
   "source": [
    "ds['a'][1] = 1\n",
    "ds"
   ],
   "outputs": [
    {
     "data": {
      "text/plain": "   a  b  c   d  e\n0  1  4  7  15  1\n1  1  5  8  17  2\n2  3  6  9  19  3"
     },
     "execution_count": 12,
     "metadata": {},
     "output_type": "execute_result"
    }
   ],
   "execution_count": 12
  },
  {
   "metadata": {
    "ExecuteTime": {
     "end_time": "2024-03-12T13:57:25.482640Z",
     "start_time": "2024-03-12T13:57:25.113839500Z"
    }
   },
   "cell_type": "code",
   "id": "dc5f73bd0b785b4",
   "source": [
    "ds.isin([3, 8])"
   ],
   "outputs": [
    {
     "data": {
      "text/plain": "       a      b      c      d      e\n0  False  False  False  False  False\n1  False  False   True  False  False\n2   True  False  False  False   True",
      "text/html": "<div>\n<style scoped>\n    .dataframe tbody tr th:only-of-type {\n        vertical-align: middle;\n    }\n\n    .dataframe tbody tr th {\n        vertical-align: top;\n    }\n\n    .dataframe thead th {\n        text-align: right;\n    }\n</style>\n<table border=\"1\" class=\"dataframe\">\n  <thead>\n    <tr style=\"text-align: right;\">\n      <th></th>\n      <th>a</th>\n      <th>b</th>\n      <th>c</th>\n      <th>d</th>\n      <th>e</th>\n    </tr>\n  </thead>\n  <tbody>\n    <tr>\n      <th>0</th>\n      <td>False</td>\n      <td>False</td>\n      <td>False</td>\n      <td>False</td>\n      <td>False</td>\n    </tr>\n    <tr>\n      <th>1</th>\n      <td>False</td>\n      <td>False</td>\n      <td>True</td>\n      <td>False</td>\n      <td>False</td>\n    </tr>\n    <tr>\n      <th>2</th>\n      <td>True</td>\n      <td>False</td>\n      <td>False</td>\n      <td>False</td>\n      <td>True</td>\n    </tr>\n  </tbody>\n</table>\n</div>"
     },
     "execution_count": 13,
     "metadata": {},
     "output_type": "execute_result"
    }
   ],
   "execution_count": 13
  },
  {
   "metadata": {
    "ExecuteTime": {
     "end_time": "2024-03-12T13:58:13.216266900Z",
     "start_time": "2024-03-12T13:58:12.342446300Z"
    }
   },
   "cell_type": "code",
   "id": "539f5315331754d0",
   "source": [
    "ds.groupby('a')"
   ],
   "outputs": [
    {
     "data": {
      "text/plain": "[(1,\n     b  c   d  e\n  0  4  7  15  1\n  1  5  8  17  2),\n (3,\n     b  c   d  e\n  2  6  9  19  3)]"
     },
     "execution_count": 16,
     "metadata": {},
     "output_type": "execute_result"
    }
   ],
   "execution_count": 16
  },
  {
   "metadata": {
    "ExecuteTime": {
     "end_time": "2024-03-12T13:42:10.118906600Z",
     "start_time": "2024-03-12T13:42:09.407314500Z"
    }
   },
   "cell_type": "code",
   "outputs": [],
   "source": [
    "ds_empty = Dataset(pd.DataFrame())._create_empty()"
   ],
   "id": "74673754fb2b25f5",
   "execution_count": 15
  },
  {
   "metadata": {
    "ExecuteTime": {
     "end_time": "2024-03-12T13:42:11.694072400Z",
     "start_time": "2024-03-12T13:42:11.587304200Z"
    }
   },
   "cell_type": "code",
   "outputs": [
    {
     "data": {
      "text/plain": "Index([], dtype='object')"
     },
     "execution_count": 16,
     "metadata": {},
     "output_type": "execute_result"
    }
   ],
   "source": [
    "ds_empty.columns"
   ],
   "id": "9836511a43bb9b96",
   "execution_count": 16
  },
  {
   "metadata": {
    "ExecuteTime": {
     "end_time": "2024-03-12T13:42:13.075667700Z",
     "start_time": "2024-03-12T13:42:12.463429700Z"
    }
   },
   "cell_type": "code",
   "outputs": [
    {
     "data": {
      "text/plain": "Empty DataFrame\nColumns: []\nIndex: []"
     },
     "execution_count": 17,
     "metadata": {},
     "output_type": "execute_result"
    }
   ],
   "source": [
    "ds_empty._backend"
   ],
   "id": "c334f2ba6922c0d4",
   "execution_count": 17
  },
  {
   "cell_type": "code",
   "outputs": [],
   "source": [
    "# you can add backend as data like this: dataset._backend\n",
    "ds_from_dict = Dataset().from_dict({'a': [1, 2], 'b': [3, 4]})"
   ],
   "metadata": {
    "collapsed": false,
    "ExecuteTime": {
     "end_time": "2024-03-12T13:42:13.939843300Z",
     "start_time": "2024-03-12T13:42:13.889105300Z"
    }
   },
   "id": "5acaaaab52b869b0",
   "execution_count": 18
  },
  {
   "cell_type": "code",
   "outputs": [
    {
     "data": {
      "text/plain": "   a  b\n0  1  3\n1  2  4"
     },
     "execution_count": 19,
     "metadata": {},
     "output_type": "execute_result"
    }
   ],
   "source": [
    "ds_from_dict"
   ],
   "metadata": {
    "collapsed": false,
    "ExecuteTime": {
     "end_time": "2024-03-12T13:42:16.058858800Z",
     "start_time": "2024-03-12T13:42:15.502112600Z"
    }
   },
   "id": "eae3f64879a8c7d6",
   "execution_count": 19
  },
  {
   "metadata": {},
   "cell_type": "markdown",
   "source": [
    "# Eperiment Data"
   ],
   "id": "8dc6f4a6"
  },
  {
   "metadata": {
    "ExecuteTime": {
     "end_time": "2024-03-12T13:42:20.659348500Z",
     "start_time": "2024-03-12T13:42:20.626072600Z"
    }
   },
   "cell_type": "code",
   "outputs": [],
   "source": [
    "ed = ExperimentData(pd.DataFrame())._create_empty()"
   ],
   "id": "cb60089a",
   "execution_count": 20
  },
  {
   "metadata": {
    "ExecuteTime": {
     "end_time": "2024-03-12T13:42:22.437101Z",
     "start_time": "2024-03-12T13:42:21.933288400Z"
    }
   },
   "cell_type": "code",
   "outputs": [
    {
     "data": {
      "text/plain": "Empty DataFrame\nColumns: []\nIndex: []"
     },
     "execution_count": 21,
     "metadata": {},
     "output_type": "execute_result"
    }
   ],
   "source": [
    "ed.additional_fields"
   ],
   "id": "5dd578e1cc35b41f",
   "execution_count": 21
  },
  {
   "metadata": {
    "ExecuteTime": {
     "end_time": "2024-03-12T13:42:23.797450900Z",
     "start_time": "2024-03-12T13:42:23.713179900Z"
    }
   },
   "cell_type": "code",
   "outputs": [
    {
     "data": {
      "text/plain": "Empty DataFrame\nColumns: []\nIndex: []",
      "text/html": "<div>\n<style scoped>\n    .dataframe tbody tr th:only-of-type {\n        vertical-align: middle;\n    }\n\n    .dataframe tbody tr th {\n        vertical-align: top;\n    }\n\n    .dataframe thead th {\n        text-align: right;\n    }\n</style>\n<table border=\"1\" class=\"dataframe\">\n  <thead>\n    <tr style=\"text-align: right;\">\n      <th></th>\n    </tr>\n  </thead>\n  <tbody>\n  </tbody>\n</table>\n</div>"
     },
     "execution_count": 22,
     "metadata": {},
     "output_type": "execute_result"
    }
   ],
   "source": [
    "ed.additional_fields.loc[:, :]"
   ],
   "id": "bfc0cb3f4c632654",
   "execution_count": 22
  },
  {
   "cell_type": "code",
   "outputs": [],
   "source": [],
   "metadata": {
    "collapsed": false
   },
   "id": "4bb9053753986bb0"
  }
 ],
 "metadata": {
  "hide_input": false,
  "kernelspec": {
   "display_name": "Python 3 (ipykernel)",
   "language": "python",
   "name": "python3"
  },
  "language_info": {
   "codemirror_mode": {
    "name": "ipython",
    "version": 3
   },
   "file_extension": ".py",
   "mimetype": "text/x-python",
   "name": "python",
   "nbconvert_exporter": "python",
   "pygments_lexer": "ipython3",
   "version": "3.11.5"
  },
  "nbTranslate": {
   "displayLangs": [
    "*"
   ],
   "hotkey": "alt-t",
   "langInMainMenu": true,
   "sourceLang": "en",
   "targetLang": "fr",
   "useGoogleTranslate": true
  },
  "toc": {
   "base_numbering": 1,
   "nav_menu": {},
   "number_sections": true,
   "sideBar": true,
   "skip_h1_title": false,
   "title_cell": "Table of Contents",
   "title_sidebar": "Contents",
   "toc_cell": false,
   "toc_position": {},
   "toc_section_display": true,
   "toc_window_display": false
  },
  "varInspector": {
   "cols": {
    "lenName": 16,
    "lenType": 16,
    "lenVar": 40
   },
   "kernels_config": {
    "python": {
     "delete_cmd_postfix": "",
     "delete_cmd_prefix": "del ",
     "library": "var_list.py",
     "varRefreshCmd": "print(var_dic_list())"
    },
    "r": {
     "delete_cmd_postfix": ") ",
     "delete_cmd_prefix": "rm(",
     "library": "var_list.r",
     "varRefreshCmd": "cat(var_dic_list()) "
    }
   },
   "types_to_exclude": [
    "module",
    "function",
    "builtin_function_or_method",
    "instance",
    "_Feature"
   ],
   "window_display": false
  }
 },
 "nbformat": 4,
 "nbformat_minor": 5
}
