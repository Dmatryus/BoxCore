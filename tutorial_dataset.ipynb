{
 "cells": [
  {
   "cell_type": "code",
   "id": "initial_id",
   "metadata": {
    "collapsed": true,
    "ExecuteTime": {
     "end_time": "2024-03-14T08:25:31.251534300Z",
     "start_time": "2024-03-14T08:25:30.125550600Z"
    }
   },
   "source": [
    "import pandas as pd\n",
    "\n",
    "from hypex.dataset.dataset import Dataset, ExperimentData\n",
    "from hypex.dataset.roles import *"
   ],
   "outputs": [],
   "execution_count": 1
  },
  {
   "cell_type": "markdown",
   "id": "17fbe750",
   "metadata": {},
   "source": [
    "# Dataset\n"
   ]
  },
  {
   "cell_type": "code",
   "id": "522c2e109efc0c17",
   "metadata": {
    "ExecuteTime": {
     "end_time": "2024-03-14T08:25:31.323452Z",
     "start_time": "2024-03-14T08:25:31.251534300Z"
    }
   },
   "source": [
    "df = pd.DataFrame({'a': [1, 2, 3], 'b': [4, 5, 6]})\n",
    "\n",
    "ds = Dataset(df, roles={TargetRole: 'a', PreTargetRole: 'b'})\n",
    "ds"
   ],
   "outputs": [
    {
     "data": {
      "text/plain": "   a  b\n0  1  4\n1  2  5\n2  3  6"
     },
     "execution_count": 2,
     "metadata": {},
     "output_type": "execute_result"
    }
   ],
   "execution_count": 2
  },
  {
   "cell_type": "code",
   "id": "37b558e38a543a26",
   "metadata": {
    "ExecuteTime": {
     "end_time": "2024-03-14T08:25:31.374492600Z",
     "start_time": "2024-03-14T08:25:31.298633100Z"
    }
   },
   "source": [
    "ds.roles"
   ],
   "outputs": [
    {
     "data": {
      "text/plain": "{'a': hypex.dataset.roles.TargetRole, 'b': hypex.dataset.roles.PreTargetRole}"
     },
     "execution_count": 3,
     "metadata": {},
     "output_type": "execute_result"
    }
   ],
   "execution_count": 3
  },
  {
   "cell_type": "code",
   "id": "7f22c159be791753",
   "metadata": {
    "ExecuteTime": {
     "end_time": "2024-03-14T08:25:31.423318400Z",
     "start_time": "2024-03-14T08:25:31.331452800Z"
    }
   },
   "source": [
    "ds['a']"
   ],
   "outputs": [
    {
     "data": {
      "text/plain": "0    1\n1    2\n2    3\nName: a, dtype: int64"
     },
     "execution_count": 4,
     "metadata": {},
     "output_type": "execute_result"
    }
   ],
   "execution_count": 4
  },
  {
   "cell_type": "code",
   "id": "86544b832e1c6601",
   "metadata": {
    "ExecuteTime": {
     "end_time": "2024-03-14T08:25:31.427405800Z",
     "start_time": "2024-03-14T08:25:31.375491700Z"
    }
   },
   "source": [
    "ds[1]"
   ],
   "outputs": [
    {
     "data": {
      "text/plain": "a    2\nb    5\nName: 1, dtype: int64"
     },
     "execution_count": 5,
     "metadata": {},
     "output_type": "execute_result"
    }
   ],
   "execution_count": 5
  },
  {
   "cell_type": "code",
   "id": "6e6fcf0c4100061",
   "metadata": {
    "ExecuteTime": {
     "end_time": "2024-03-14T08:25:31.605723400Z",
     "start_time": "2024-03-14T08:25:31.405340700Z"
    }
   },
   "source": [
    "ds['a'][1]"
   ],
   "outputs": [
    {
     "data": {
      "text/plain": "2"
     },
     "execution_count": 6,
     "metadata": {},
     "output_type": "execute_result"
    }
   ],
   "execution_count": 6
  },
  {
   "metadata": {
    "ExecuteTime": {
     "end_time": "2024-03-14T08:25:31.639723500Z",
     "start_time": "2024-03-14T08:25:31.438546500Z"
    }
   },
   "cell_type": "code",
   "id": "b4e3ecac3488ded9",
   "source": [
    "ds.add_column([7, 8, 9], 'c', TargetRole)\n",
    "ds"
   ],
   "outputs": [
    {
     "data": {
      "text/plain": "   a  b  c\n0  1  4  7\n1  2  5  8\n2  3  6  9"
     },
     "execution_count": 7,
     "metadata": {},
     "output_type": "execute_result"
    }
   ],
   "execution_count": 7
  },
  {
   "cell_type": "code",
   "outputs": [
    {
     "data": {
      "text/plain": "    0\n0  15\n1  17\n2  19"
     },
     "execution_count": 8,
     "metadata": {},
     "output_type": "execute_result"
    }
   ],
   "source": [
    "ds.apply(func=lambda x: x['a'] + x['c'] + 7, axis=1)"
   ],
   "metadata": {
    "collapsed": false,
    "ExecuteTime": {
     "end_time": "2024-03-14T08:25:31.924491800Z",
     "start_time": "2024-03-14T08:25:31.503732200Z"
    }
   },
   "id": "28f69e19ab4ca672",
   "execution_count": 8
  },
  {
   "cell_type": "code",
   "id": "ce6e3c0f29eae380",
   "metadata": {
    "ExecuteTime": {
     "end_time": "2024-03-14T08:25:31.967005700Z",
     "start_time": "2024-03-14T08:25:31.927491900Z"
    }
   },
   "source": [
    "ds.add_column(ds.apply(func=lambda x: x['a'] + x['c'] + 7, axis=1), 'd', TargetRole)\n",
    "ds"
   ],
   "outputs": [
    {
     "data": {
      "text/plain": "   a  b  c   d\n0  1  4  7  15\n1  2  5  8  17\n2  3  6  9  19"
     },
     "execution_count": 9,
     "metadata": {},
     "output_type": "execute_result"
    }
   ],
   "execution_count": 9
  },
  {
   "metadata": {
    "ExecuteTime": {
     "end_time": "2024-03-14T08:25:32.048012900Z",
     "start_time": "2024-03-14T08:25:31.962498700Z"
    }
   },
   "cell_type": "code",
   "id": "f1ebfad1376904a7",
   "source": [
    "ds.roles"
   ],
   "outputs": [
    {
     "data": {
      "text/plain": "{'a': hypex.dataset.roles.TargetRole,\n 'b': hypex.dataset.roles.PreTargetRole,\n 'c': hypex.dataset.roles.TargetRole,\n 'd': hypex.dataset.roles.TargetRole}"
     },
     "execution_count": 10,
     "metadata": {},
     "output_type": "execute_result"
    }
   ],
   "execution_count": 10
  },
  {
   "metadata": {
    "ExecuteTime": {
     "end_time": "2024-03-14T08:25:32.126043600Z",
     "start_time": "2024-03-14T08:25:31.987015200Z"
    }
   },
   "cell_type": "code",
   "id": "4dd88fe071abde38",
   "source": [
    "ds.loc[:, 'c']"
   ],
   "outputs": [
    {
     "data": {
      "text/plain": "   c\n0  7\n1  8\n2  9"
     },
     "execution_count": 11,
     "metadata": {},
     "output_type": "execute_result"
    }
   ],
   "execution_count": 11
  },
  {
   "metadata": {
    "ExecuteTime": {
     "end_time": "2024-03-14T08:25:32.207587600Z",
     "start_time": "2024-03-14T08:25:32.130296900Z"
    }
   },
   "cell_type": "code",
   "id": "a6b555189acdfdaf",
   "source": [
    "ds['e'] = [1, 2, 3]\n",
    "ds"
   ],
   "outputs": [
    {
     "name": "stderr",
     "output_type": "stream",
     "text": [
      "C:\\Users\\User\\PycharmProjects\\HypEx1\\hypex\\dataset\\dataset.py:75: Warning: Column must be added by add_column\n",
      "  warnings.warn(\"Column must be added by add_column\", category=Warning)\n"
     ]
    },
    {
     "data": {
      "text/plain": "   a  b  c   d  e\n0  1  4  7  15  1\n1  2  5  8  17  2\n2  3  6  9  19  3"
     },
     "execution_count": 12,
     "metadata": {},
     "output_type": "execute_result"
    }
   ],
   "execution_count": 12
  },
  {
   "metadata": {
    "ExecuteTime": {
     "end_time": "2024-03-14T08:25:32.262337200Z",
     "start_time": "2024-03-14T08:25:32.201589200Z"
    }
   },
   "cell_type": "code",
   "id": "ef012ccdb88a118e",
   "source": [
    "ds['a'][1] = 1\n",
    "ds"
   ],
   "outputs": [
    {
     "data": {
      "text/plain": "   a  b  c   d  e\n0  1  4  7  15  1\n1  1  5  8  17  2\n2  3  6  9  19  3"
     },
     "execution_count": 13,
     "metadata": {},
     "output_type": "execute_result"
    }
   ],
   "execution_count": 13
  },
  {
   "metadata": {
    "ExecuteTime": {
     "end_time": "2024-03-14T08:25:32.358943900Z",
     "start_time": "2024-03-14T08:25:32.249003300Z"
    }
   },
   "cell_type": "code",
   "id": "dc5f73bd0b785b4",
   "source": [
    "ds.isin([3, 8])"
   ],
   "outputs": [
    {
     "data": {
      "text/plain": "       a      b      c      d      e\n0  False  False  False  False  False\n1  False  False   True  False  False\n2   True  False  False  False   True"
     },
     "execution_count": 14,
     "metadata": {},
     "output_type": "execute_result"
    }
   ],
   "execution_count": 14
  },
  {
   "metadata": {
    "ExecuteTime": {
     "end_time": "2024-03-14T08:25:32.363947200Z",
     "start_time": "2024-03-14T08:25:32.283849200Z"
    }
   },
   "cell_type": "code",
   "id": "539f5315331754d0",
   "source": [
    "groups_func = ds.groupby('a', func='mean')\n",
    "print(next(groups_func))"
   ],
   "outputs": [
    {
     "name": "stdout",
     "output_type": "stream",
     "text": [
      "<class 'hypex.dataset.backends.pandas_backend.PandasDataset'>\n",
      "<class 'hypex.dataset.backends.pandas_backend.PandasDataset'>\n",
      "(1,       0\n",
      "b   4.5\n",
      "c   7.5\n",
      "d  16.0\n",
      "e   1.5)\n"
     ]
    }
   ],
   "execution_count": 15
  },
  {
   "cell_type": "code",
   "outputs": [
    {
     "name": "stdout",
     "output_type": "stream",
     "text": [
      "(1,    b  c   d  e\n",
      "0  4  7  15  1\n",
      "1  5  8  17  2)\n"
     ]
    }
   ],
   "source": [
    "groups = ds.groupby('a')\n",
    "print(next(groups))"
   ],
   "metadata": {
    "collapsed": false,
    "ExecuteTime": {
     "end_time": "2024-03-14T08:25:32.384646500Z",
     "start_time": "2024-03-14T08:25:32.342936500Z"
    }
   },
   "id": "e13b37bee73a9816",
   "execution_count": 16
  },
  {
   "cell_type": "code",
   "outputs": [
    {
     "name": "stdout",
     "output_type": "stream",
     "text": [
      "(1,       0\n",
      "d  16.0\n",
      "e   1.5)\n"
     ]
    }
   ],
   "source": [
    "groups_func_fields = ds.groupby('a', func='mean', fields_list=['d', 'e'])\n",
    "print(next(groups_func_fields))"
   ],
   "metadata": {
    "collapsed": false,
    "ExecuteTime": {
     "end_time": "2024-03-14T08:25:32.455962500Z",
     "start_time": "2024-03-14T08:25:32.358943900Z"
    }
   },
   "id": "d2167ce799f4cf7c",
   "execution_count": 17
  },
  {
   "metadata": {
    "ExecuteTime": {
     "end_time": "2024-03-14T08:25:32.457976900Z",
     "start_time": "2024-03-14T08:25:32.390880Z"
    }
   },
   "cell_type": "code",
   "outputs": [],
   "source": [
    "ds_empty = Dataset(pd.DataFrame())._create_empty()"
   ],
   "id": "74673754fb2b25f5",
   "execution_count": 18
  },
  {
   "metadata": {
    "ExecuteTime": {
     "end_time": "2024-03-14T08:25:32.556107100Z",
     "start_time": "2024-03-14T08:25:32.408894200Z"
    }
   },
   "cell_type": "code",
   "outputs": [
    {
     "data": {
      "text/plain": "Index([], dtype='object')"
     },
     "execution_count": 19,
     "metadata": {},
     "output_type": "execute_result"
    }
   ],
   "source": [
    "ds_empty.columns"
   ],
   "id": "9836511a43bb9b96",
   "execution_count": 19
  },
  {
   "metadata": {
    "ExecuteTime": {
     "end_time": "2024-03-14T08:25:32.559110100Z",
     "start_time": "2024-03-14T08:25:32.469679600Z"
    }
   },
   "cell_type": "code",
   "outputs": [
    {
     "data": {
      "text/plain": "Empty DataFrame\nColumns: []\nIndex: []"
     },
     "execution_count": 20,
     "metadata": {},
     "output_type": "execute_result"
    }
   ],
   "source": [
    "ds_empty._backend"
   ],
   "id": "c334f2ba6922c0d4",
   "execution_count": 20
  },
  {
   "cell_type": "code",
   "outputs": [],
   "source": [
    "# you can add backend as data like this: dataset._backend\n",
    "ds_from_dict = Dataset().from_dict({'a': [1, 2], 'b': [3, 4]})"
   ],
   "metadata": {
    "collapsed": false,
    "ExecuteTime": {
     "end_time": "2024-03-14T08:25:32.561108300Z",
     "start_time": "2024-03-14T08:25:32.498952400Z"
    }
   },
   "id": "5acaaaab52b869b0",
   "execution_count": 21
  },
  {
   "cell_type": "code",
   "outputs": [
    {
     "data": {
      "text/plain": "   a  b\n0  1  3\n1  2  4"
     },
     "execution_count": 22,
     "metadata": {},
     "output_type": "execute_result"
    }
   ],
   "source": [
    "ds_from_dict"
   ],
   "metadata": {
    "collapsed": false,
    "ExecuteTime": {
     "end_time": "2024-03-14T08:25:32.634491Z",
     "start_time": "2024-03-14T08:25:32.517265Z"
    }
   },
   "id": "eae3f64879a8c7d6",
   "execution_count": 22
  },
  {
   "metadata": {},
   "cell_type": "markdown",
   "source": [
    "# Eperiment Data"
   ],
   "id": "8dc6f4a6"
  },
  {
   "metadata": {
    "ExecuteTime": {
     "end_time": "2024-03-14T08:25:32.672340600Z",
     "start_time": "2024-03-14T08:25:32.550099500Z"
    }
   },
   "cell_type": "code",
   "outputs": [],
   "source": [
    "ed = ExperimentData(pd.DataFrame())._create_empty()"
   ],
   "id": "cb60089a",
   "execution_count": 23
  },
  {
   "metadata": {
    "ExecuteTime": {
     "end_time": "2024-03-14T08:25:32.674341100Z",
     "start_time": "2024-03-14T08:25:32.578804100Z"
    }
   },
   "cell_type": "code",
   "outputs": [
    {
     "data": {
      "text/plain": "Empty DataFrame\nColumns: []\nIndex: []"
     },
     "execution_count": 24,
     "metadata": {},
     "output_type": "execute_result"
    }
   ],
   "source": [
    "ed.additional_fields"
   ],
   "id": "5dd578e1cc35b41f",
   "execution_count": 24
  },
  {
   "metadata": {
    "ExecuteTime": {
     "end_time": "2024-03-14T08:25:32.750219100Z",
     "start_time": "2024-03-14T08:25:32.594875300Z"
    }
   },
   "cell_type": "code",
   "outputs": [
    {
     "data": {
      "text/plain": "Empty DataFrame\nColumns: []\nIndex: []"
     },
     "execution_count": 25,
     "metadata": {},
     "output_type": "execute_result"
    }
   ],
   "source": [
    "ed.additional_fields.loc[:, :]"
   ],
   "id": "bfc0cb3f4c632654",
   "execution_count": 25
  },
  {
   "cell_type": "code",
   "outputs": [],
   "source": [],
   "metadata": {
    "collapsed": false,
    "ExecuteTime": {
     "end_time": "2024-03-14T08:25:32.753365500Z",
     "start_time": "2024-03-14T08:25:32.627199Z"
    }
   },
   "id": "4bb9053753986bb0",
   "execution_count": 25
  }
 ],
 "metadata": {
  "hide_input": false,
  "kernelspec": {
   "display_name": "Python 3 (ipykernel)",
   "language": "python",
   "name": "python3"
  },
  "language_info": {
   "codemirror_mode": {
    "name": "ipython",
    "version": 3
   },
   "file_extension": ".py",
   "mimetype": "text/x-python",
   "name": "python",
   "nbconvert_exporter": "python",
   "pygments_lexer": "ipython3",
   "version": "3.11.5"
  },
  "nbTranslate": {
   "displayLangs": [
    "*"
   ],
   "hotkey": "alt-t",
   "langInMainMenu": true,
   "sourceLang": "en",
   "targetLang": "fr",
   "useGoogleTranslate": true
  },
  "toc": {
   "base_numbering": 1,
   "nav_menu": {},
   "number_sections": true,
   "sideBar": true,
   "skip_h1_title": false,
   "title_cell": "Table of Contents",
   "title_sidebar": "Contents",
   "toc_cell": false,
   "toc_position": {},
   "toc_section_display": true,
   "toc_window_display": false
  },
  "varInspector": {
   "cols": {
    "lenName": 16,
    "lenType": 16,
    "lenVar": 40
   },
   "kernels_config": {
    "python": {
     "delete_cmd_postfix": "",
     "delete_cmd_prefix": "del ",
     "library": "var_list.py",
     "varRefreshCmd": "print(var_dic_list())"
    },
    "r": {
     "delete_cmd_postfix": ") ",
     "delete_cmd_prefix": "rm(",
     "library": "var_list.r",
     "varRefreshCmd": "cat(var_dic_list()) "
    }
   },
   "types_to_exclude": [
    "module",
    "function",
    "builtin_function_or_method",
    "instance",
    "_Feature"
   ],
   "window_display": false
  }
 },
 "nbformat": 4,
 "nbformat_minor": 5
}
