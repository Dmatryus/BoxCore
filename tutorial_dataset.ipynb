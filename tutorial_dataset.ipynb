{
 "cells": [
  {
   "cell_type": "code",
   "id": "initial_id",
   "metadata": {
    "collapsed": true,
    "ExecuteTime": {
     "end_time": "2024-02-14T11:05:39.608584Z",
     "start_time": "2024-02-14T11:05:39.073955Z"
    }
   },
   "source": [
    "\n",
    "import pandas as pd\n",
    "\n",
    "from hypex.dataset.dataset import Dataset, ExperimentData\n",
    "from hypex.dataset.roles import *"
   ],
   "outputs": [],
   "execution_count": 1
  },
  {
   "cell_type": "markdown",
   "id": "17fbe750",
   "metadata": {},
   "source": [
    "# Dataset"
   ]
  },
  {
   "cell_type": "code",
   "id": "522c2e109efc0c17",
   "metadata": {
    "ExecuteTime": {
     "end_time": "2024-02-14T11:05:39.640171Z",
     "start_time": "2024-02-14T11:05:39.611216Z"
    }
   },
   "source": [
    "df = pd.DataFrame({'a': [1, 2, 3], 'b': [4, 5, 6]})\n",
    "ds = Dataset(df, roles={TargetRole(np.float32): 'a', PreTargetRole(np.float32): 'b'})\n",
    "ds"
   ],
   "outputs": [
    {
     "data": {
      "text/plain": [
       "   a  b\n",
       "0  1  4\n",
       "1  2  5\n",
       "2  3  6"
      ]
     },
     "execution_count": 2,
     "metadata": {},
     "output_type": "execute_result"
    }
   ],
   "execution_count": 2
  },
  {
   "cell_type": "code",
   "id": "37b558e38a543a26",
   "metadata": {
    "ExecuteTime": {
     "end_time": "2024-02-14T11:05:39.656231Z",
     "start_time": "2024-02-14T11:05:39.642788Z"
    }
   },
   "source": [
    "ds.roles"
   ],
   "outputs": [
    {
     "data": {
      "text/plain": [
       "{'a': <hypex.dataset.roles.TargetRole at 0x217782c54b0>,\n",
       " 'b': <hypex.dataset.roles.PreTargetRole at 0x217782c5d50>}"
      ]
     },
     "execution_count": 3,
     "metadata": {},
     "output_type": "execute_result"
    }
   ],
   "execution_count": 3
  },
  {
   "cell_type": "code",
   "id": "7f22c159be791753",
   "metadata": {
    "ExecuteTime": {
     "end_time": "2024-02-14T11:05:39.671389Z",
     "start_time": "2024-02-14T11:05:39.658848Z"
    }
   },
   "source": [
    "ds['a']"
   ],
   "outputs": [
    {
     "data": {
      "text/plain": [
       "0    1\n",
       "1    2\n",
       "2    3\n",
       "Name: a, dtype: int64"
      ]
     },
     "execution_count": 4,
     "metadata": {},
     "output_type": "execute_result"
    }
   ],
   "execution_count": 4
  },
  {
   "cell_type": "code",
   "id": "86544b832e1c6601",
   "metadata": {
    "ExecuteTime": {
     "end_time": "2024-02-14T11:05:39.687196Z",
     "start_time": "2024-02-14T11:05:39.676060Z"
    }
   },
   "source": [
    "ds[1]"
   ],
   "outputs": [
    {
     "data": {
      "text/plain": [
       "a    2\n",
       "b    5\n",
       "Name: 1, dtype: int64"
      ]
     },
     "execution_count": 5,
     "metadata": {},
     "output_type": "execute_result"
    }
   ],
   "execution_count": 5
  },
  {
   "cell_type": "code",
   "id": "6e6fcf0c4100061",
   "metadata": {
    "ExecuteTime": {
     "end_time": "2024-02-14T11:05:39.702830Z",
     "start_time": "2024-02-14T11:05:39.687196Z"
    }
   },
   "source": [
    "ds['a'][1]"
   ],
   "outputs": [
    {
     "data": {
      "text/plain": [
       "2"
      ]
     },
     "execution_count": 6,
     "metadata": {},
     "output_type": "execute_result"
    }
   ],
   "execution_count": 6
  },
  {
   "cell_type": "code",
   "id": "590afcac173455fc",
   "metadata": {
    "ExecuteTime": {
     "end_time": "2024-02-14T11:05:39.718619Z",
     "start_time": "2024-02-14T11:05:39.705185Z"
    }
   },
   "source": [
    "ds['c'] = [7, 8, 9]\n",
    "ds"
   ],
   "outputs": [
    {
     "data": {
      "text/plain": [
       "   a  b  c\n",
       "0  1  4  7\n",
       "1  2  5  8\n",
       "2  3  6  9"
      ]
     },
     "execution_count": 7,
     "metadata": {},
     "output_type": "execute_result"
    }
   ],
   "execution_count": 7
  },
  {
   "metadata": {
    "ExecuteTime": {
     "end_time": "2024-02-14T11:05:39.734638Z",
     "start_time": "2024-02-14T11:05:39.720957Z"
    }
   },
   "cell_type": "code",
   "id": "772995ab94422617",
   "source": [
    "test = lambda x: x['a'] + x['c'] + 7\n",
    "test(ds)"
   ],
   "outputs": [
    {
     "data": {
      "text/plain": [
       "0    15\n",
       "1    17\n",
       "2    19\n",
       "dtype: int64"
      ]
     },
     "execution_count": 8,
     "metadata": {},
     "output_type": "execute_result"
    }
   ],
   "execution_count": 8
  },
  {
   "cell_type": "code",
   "id": "ce6e3c0f29eae380",
   "metadata": {
    "ExecuteTime": {
     "end_time": "2024-02-14T11:05:39.750626Z",
     "start_time": "2024-02-14T11:05:39.736451Z"
    }
   },
   "source": [
    "ds['d'] = ds.apply(func=lambda x: x['a'] + x['c'] + 7, axis=1)\n",
    "ds"
   ],
   "outputs": [
    {
     "data": {
      "text/plain": [
       "   a  b  c   d\n",
       "0  1  4  7  15\n",
       "1  2  5  8  17\n",
       "2  3  6  9  19"
      ]
     },
     "execution_count": 9,
     "metadata": {},
     "output_type": "execute_result"
    }
   ],
   "execution_count": 9
  },
  {
   "metadata": {
    "ExecuteTime": {
     "end_time": "2024-02-14T11:05:39.763878Z",
     "start_time": "2024-02-14T11:05:39.754734Z"
    }
   },
   "cell_type": "code",
   "id": "74673754fb2b25f5",
   "source": "ds_empty = Dataset('pandas').create_empty()",
   "outputs": [],
   "execution_count": 10
  },
  {
   "metadata": {
    "ExecuteTime": {
     "end_time": "2024-02-14T11:05:39.788591Z",
     "start_time": "2024-02-14T11:05:39.764933Z"
    }
   },
   "cell_type": "code",
   "id": "9836511a43bb9b96",
   "source": "ds_empty.columns",
   "outputs": [
    {
     "data": {
      "text/plain": [
       "[]"
      ]
     },
     "execution_count": 11,
     "metadata": {},
     "output_type": "execute_result"
    }
   ],
   "execution_count": 11
  },
  {
   "metadata": {
    "ExecuteTime": {
     "end_time": "2024-02-14T11:05:39.804370Z",
     "start_time": "2024-02-14T11:05:39.790566Z"
    }
   },
   "cell_type": "code",
   "id": "c334f2ba6922c0d4",
   "source": "ds_empty.backend.__class__",
   "outputs": [
    {
     "data": {
      "text/plain": [
       "hypex.dataset.backends.pandas_backend.PandasDataset"
      ]
     },
     "execution_count": 12,
     "metadata": {},
     "output_type": "execute_result"
    }
   ],
   "execution_count": 12
  },
  {
   "metadata": {},
   "cell_type": "markdown",
   "source": "# Eperiment Data",
   "id": "8dc6f4a6"
  },
  {
   "metadata": {
    "ExecuteTime": {
     "end_time": "2024-02-14T11:05:39.820222Z",
     "start_time": "2024-02-14T11:05:39.808288Z"
    }
   },
   "cell_type": "code",
   "source": "ed = ExperimentData('pandas').create_empty()",
   "id": "cb60089a",
   "outputs": [],
   "execution_count": 13
  },
  {
   "metadata": {
    "ExecuteTime": {
     "end_time": "2024-02-14T11:06:03.204933Z",
     "start_time": "2024-02-14T11:06:03.190475Z"
    }
   },
   "cell_type": "code",
   "id": "5dd578e1cc35b41f",
   "source": "ed.additional_fields",
   "outputs": [
    {
     "data": {
      "text/plain": [
       "Empty DataFrame\n",
       "Columns: []\n",
       "Index: []"
      ]
     },
     "execution_count": 15,
     "metadata": {},
     "output_type": "execute_result"
    }
   ],
   "execution_count": 15
  },
  {
   "metadata": {
    "ExecuteTime": {
     "end_time": "2024-02-14T11:05:40.083316Z",
     "start_time": "2024-02-14T11:05:40.068628Z"
    }
   },
   "cell_type": "code",
   "id": "bfc0cb3f4c632654",
   "outputs": [],
   "execution_count": 14
  }
 ],
 "metadata": {
  "hide_input": false,
  "kernelspec": {
   "display_name": "Python 3 (ipykernel)",
   "language": "python",
   "name": "python3"
  },
  "language_info": {
   "codemirror_mode": {
    "name": "ipython",
    "version": 3
   },
   "file_extension": ".py",
   "mimetype": "text/x-python",
   "name": "python",
   "nbconvert_exporter": "python",
   "pygments_lexer": "ipython3",
   "version": "3.11.5"
  },
  "nbTranslate": {
   "displayLangs": [
    "*"
   ],
   "hotkey": "alt-t",
   "langInMainMenu": true,
   "sourceLang": "en",
   "targetLang": "fr",
   "useGoogleTranslate": true
  },
  "toc": {
   "base_numbering": 1,
   "nav_menu": {},
   "number_sections": true,
   "sideBar": true,
   "skip_h1_title": false,
   "title_cell": "Table of Contents",
   "title_sidebar": "Contents",
   "toc_cell": false,
   "toc_position": {},
   "toc_section_display": true,
   "toc_window_display": false
  },
  "varInspector": {
   "cols": {
    "lenName": 16,
    "lenType": 16,
    "lenVar": 40
   },
   "kernels_config": {
    "python": {
     "delete_cmd_postfix": "",
     "delete_cmd_prefix": "del ",
     "library": "var_list.py",
     "varRefreshCmd": "print(var_dic_list())"
    },
    "r": {
     "delete_cmd_postfix": ") ",
     "delete_cmd_prefix": "rm(",
     "library": "var_list.r",
     "varRefreshCmd": "cat(var_dic_list()) "
    }
   },
   "types_to_exclude": [
    "module",
    "function",
    "builtin_function_or_method",
    "instance",
    "_Feature"
   ],
   "window_display": false
  }
 },
 "nbformat": 4,
 "nbformat_minor": 5
}
