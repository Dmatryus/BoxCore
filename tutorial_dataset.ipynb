{
 "cells": [
  {
   "cell_type": "code",
   "execution_count": 1,
   "id": "initial_id",
   "metadata": {
    "ExecuteTime": {
     "end_time": "2024-02-21T08:29:01.093747Z",
     "start_time": "2024-02-21T08:29:01.080381Z"
    },
    "collapsed": true
   },
   "outputs": [],
   "source": [
    "import pandas as pd\n",
    "\n",
    "from hypex.dataset.dataset import Dataset, ExperimentData\n",
    "from hypex.dataset.roles import *"
   ]
  },
  {
   "cell_type": "markdown",
   "id": "17fbe750",
   "metadata": {},
   "source": [
    "# Dataset"
   ]
  },
  {
   "cell_type": "code",
   "execution_count": 2,
   "id": "522c2e109efc0c17",
   "metadata": {
    "ExecuteTime": {
     "end_time": "2024-02-21T08:29:01.642450Z",
     "start_time": "2024-02-21T08:29:01.631107Z"
    }
   },
   "outputs": [
    {
     "data": {
      "text/plain": [
       "   a  b\n",
       "0  1  4\n",
       "1  2  5\n",
       "2  3  6"
      ]
     },
     "execution_count": 2,
     "metadata": {},
     "output_type": "execute_result"
    }
   ],
   "source": [
    "df = pd.DataFrame({'a': [1, 2, 3], 'b': [4, 5, 6]})\n",
    "ds = Dataset(df, roles={TargetRole: 'a', PreTargetRole: 'b'})\n",
    "ds"
   ]
  },
  {
   "cell_type": "code",
   "execution_count": 4,
   "id": "37b558e38a543a26",
   "metadata": {
    "ExecuteTime": {
     "end_time": "2024-02-21T08:29:01.704743Z",
     "start_time": "2024-02-21T08:29:01.691127Z"
    }
   },
   "outputs": [
    {
     "data": {
      "text/plain": [
       "3"
      ]
     },
     "execution_count": 4,
     "metadata": {},
     "output_type": "execute_result"
    }
   ],
   "source": [
    "len(ds)"
   ]
  },
  {
   "cell_type": "code",
   "execution_count": 24,
   "id": "7f22c159be791753",
   "metadata": {
    "ExecuteTime": {
     "end_time": "2024-02-21T08:29:01.752607Z",
     "start_time": "2024-02-21T08:29:01.740818Z"
    }
   },
   "outputs": [
    {
     "data": {
      "text/plain": [
       "0    1\n",
       "1    2\n",
       "2    3\n",
       "Name: a, dtype: int64"
      ]
     },
     "execution_count": 24,
     "metadata": {},
     "output_type": "execute_result"
    }
   ],
   "source": [
    "ds['a']"
   ]
  },
  {
   "cell_type": "code",
   "execution_count": 25,
   "id": "86544b832e1c6601",
   "metadata": {
    "ExecuteTime": {
     "end_time": "2024-02-21T08:29:01.829736Z",
     "start_time": "2024-02-21T08:29:01.806789Z"
    }
   },
   "outputs": [
    {
     "data": {
      "text/plain": [
       "a    2\n",
       "b    5\n",
       "Name: 1, dtype: int64"
      ]
     },
     "execution_count": 25,
     "metadata": {},
     "output_type": "execute_result"
    }
   ],
   "source": [
    "ds[1]"
   ]
  },
  {
   "cell_type": "code",
   "execution_count": 26,
   "id": "6e6fcf0c4100061",
   "metadata": {
    "ExecuteTime": {
     "end_time": "2024-02-21T08:29:01.923748Z",
     "start_time": "2024-02-21T08:29:01.905574Z"
    }
   },
   "outputs": [
    {
     "data": {
      "text/plain": [
       "2"
      ]
     },
     "execution_count": 26,
     "metadata": {},
     "output_type": "execute_result"
    }
   ],
   "source": [
    "ds['a'][1]"
   ]
  },
  {
   "cell_type": "code",
   "execution_count": 27,
   "id": "b4e3ecac3488ded9",
   "metadata": {
    "ExecuteTime": {
     "end_time": "2024-02-21T08:29:01.938937Z",
     "start_time": "2024-02-21T08:29:01.929853Z"
    }
   },
   "outputs": [
    {
     "data": {
      "text/plain": [
       "   a  b  c\n",
       "0  1  4  7\n",
       "1  2  5  8\n",
       "2  3  6  9"
      ]
     },
     "execution_count": 27,
     "metadata": {},
     "output_type": "execute_result"
    }
   ],
   "source": [
    "ds.add_column([7, 8, 9], 'c', TargetRole)\n",
    "ds"
   ]
  },
  {
   "cell_type": "code",
   "execution_count": 28,
   "id": "ce6e3c0f29eae380",
   "metadata": {
    "ExecuteTime": {
     "end_time": "2024-02-21T08:29:01.985872Z",
     "start_time": "2024-02-21T08:29:01.968425Z"
    }
   },
   "outputs": [
    {
     "data": {
      "text/plain": [
       "   a  b  c   d\n",
       "0  1  4  7  15\n",
       "1  2  5  8  17\n",
       "2  3  6  9  19"
      ]
     },
     "execution_count": 28,
     "metadata": {},
     "output_type": "execute_result"
    }
   ],
   "source": [
    "ds.add_column(ds.apply(func=lambda x: x['a'] + x['c'] + 7, axis=1), 'd', TargetRole)\n",
    "ds"
   ]
  },
  {
   "cell_type": "code",
   "execution_count": 29,
   "id": "f1ebfad1376904a7",
   "metadata": {
    "ExecuteTime": {
     "end_time": "2024-02-21T08:29:02.017479Z",
     "start_time": "2024-02-21T08:29:02.004978Z"
    }
   },
   "outputs": [
    {
     "data": {
      "text/plain": [
       "{'a': hypex.dataset.roles.TargetRole,\n",
       " 'b': hypex.dataset.roles.PreTargetRole,\n",
       " 'c': hypex.dataset.roles.TargetRole,\n",
       " 'd': hypex.dataset.roles.TargetRole}"
      ]
     },
     "execution_count": 29,
     "metadata": {},
     "output_type": "execute_result"
    }
   ],
   "source": [
    "ds.roles"
   ]
  },
  {
   "cell_type": "code",
   "execution_count": 30,
   "id": "4dd88fe071abde38",
   "metadata": {
    "ExecuteTime": {
     "end_time": "2024-02-21T08:29:02.142746Z",
     "start_time": "2024-02-21T08:29:02.125742Z"
    }
   },
   "outputs": [
    {
     "data": {
      "text/plain": [
       "0    7\n",
       "1    8\n",
       "2    9\n",
       "Name: c, dtype: int64"
      ]
     },
     "execution_count": 30,
     "metadata": {},
     "output_type": "execute_result"
    }
   ],
   "source": [
    "ds.loc[:, 'c']"
   ]
  },
  {
   "cell_type": "code",
   "execution_count": 31,
   "id": "74673754fb2b25f5",
   "metadata": {
    "ExecuteTime": {
     "end_time": "2024-02-21T08:29:02.188751Z",
     "start_time": "2024-02-21T08:29:02.176717Z"
    }
   },
   "outputs": [],
   "source": [
    "ds_empty = Dataset(pd.DataFrame())._create_empty()"
   ]
  },
  {
   "cell_type": "code",
   "execution_count": 32,
   "id": "9836511a43bb9b96",
   "metadata": {
    "ExecuteTime": {
     "end_time": "2024-02-21T08:29:02.297623Z",
     "start_time": "2024-02-21T08:29:02.279866Z"
    }
   },
   "outputs": [
    {
     "data": {
      "text/plain": [
       "Index([], dtype='object')"
      ]
     },
     "execution_count": 32,
     "metadata": {},
     "output_type": "execute_result"
    }
   ],
   "source": [
    "ds_empty.columns"
   ]
  },
  {
   "cell_type": "code",
   "execution_count": 33,
   "id": "c334f2ba6922c0d4",
   "metadata": {
    "ExecuteTime": {
     "end_time": "2024-02-21T08:29:02.359432Z",
     "start_time": "2024-02-21T08:29:02.334549Z"
    }
   },
   "outputs": [
    {
     "data": {
      "text/plain": [
       "hypex.dataset.backends.pandas_backend.PandasDataset"
      ]
     },
     "execution_count": 33,
     "metadata": {},
     "output_type": "execute_result"
    }
   ],
   "source": [
    "ds_empty._backend.__class__"
   ]
  },
  {
   "cell_type": "markdown",
   "id": "8dc6f4a6",
   "metadata": {},
   "source": [
    "# Eperiment Data"
   ]
  },
  {
   "cell_type": "code",
   "execution_count": 2,
   "id": "cb60089a",
   "metadata": {
    "ExecuteTime": {
     "end_time": "2024-02-21T08:29:02.406823Z",
     "start_time": "2024-02-21T08:29:02.386673Z"
    }
   },
   "outputs": [],
   "source": [
    "ed = ExperimentData(pd.DataFrame())._create_empty()"
   ]
  },
  {
   "cell_type": "code",
   "execution_count": 3,
   "id": "5dd578e1cc35b41f",
   "metadata": {
    "ExecuteTime": {
     "end_time": "2024-02-21T08:29:02.437339Z",
     "start_time": "2024-02-21T08:29:02.413821Z"
    }
   },
   "outputs": [
    {
     "data": {
      "text/plain": [
       "Empty DataFrame\n",
       "Columns: []\n",
       "Index: []"
      ]
     },
     "execution_count": 3,
     "metadata": {},
     "output_type": "execute_result"
    }
   ],
   "source": [
    "ed.additional_fields"
   ]
  },
  {
   "cell_type": "code",
   "execution_count": 4,
   "id": "bfc0cb3f4c632654",
   "metadata": {
    "ExecuteTime": {
     "end_time": "2024-02-21T08:29:02.483735Z",
     "start_time": "2024-02-21T08:29:02.463073Z"
    }
   },
   "outputs": [
    {
     "data": {
      "text/html": [
       "<div>\n",
       "<style scoped>\n",
       "    .dataframe tbody tr th:only-of-type {\n",
       "        vertical-align: middle;\n",
       "    }\n",
       "\n",
       "    .dataframe tbody tr th {\n",
       "        vertical-align: top;\n",
       "    }\n",
       "\n",
       "    .dataframe thead th {\n",
       "        text-align: right;\n",
       "    }\n",
       "</style>\n",
       "<table border=\"1\" class=\"dataframe\">\n",
       "  <thead>\n",
       "    <tr style=\"text-align: right;\">\n",
       "      <th></th>\n",
       "    </tr>\n",
       "  </thead>\n",
       "  <tbody>\n",
       "  </tbody>\n",
       "</table>\n",
       "</div>"
      ],
      "text/plain": [
       "Empty DataFrame\n",
       "Columns: []\n",
       "Index: []"
      ]
     },
     "execution_count": 4,
     "metadata": {},
     "output_type": "execute_result"
    }
   ],
   "source": [
    "ed.additional_fields.loc[:, :]"
   ]
  },
  {
   "cell_type": "code",
   "execution_count": 6,
   "id": "4869e3d8",
   "metadata": {},
   "outputs": [
    {
     "data": {
      "text/plain": [
       "0"
      ]
     },
     "execution_count": 6,
     "metadata": {},
     "output_type": "execute_result"
    }
   ],
   "source": []
  },
  {
   "cell_type": "code",
   "execution_count": null,
   "id": "7d168ac2",
   "metadata": {},
   "outputs": [],
   "source": []
  }
 ],
 "metadata": {
  "hide_input": false,
  "kernelspec": {
   "display_name": "Python 3 (ipykernel)",
   "language": "python",
   "name": "python3"
  },
  "language_info": {
   "codemirror_mode": {
    "name": "ipython",
    "version": 3
   },
   "file_extension": ".py",
   "mimetype": "text/x-python",
   "name": "python",
   "nbconvert_exporter": "python",
   "pygments_lexer": "ipython3",
   "version": "3.11.5"
  },
  "nbTranslate": {
   "displayLangs": [
    "*"
   ],
   "hotkey": "alt-t",
   "langInMainMenu": true,
   "sourceLang": "en",
   "targetLang": "fr",
   "useGoogleTranslate": true
  },
  "toc": {
   "base_numbering": 1,
   "nav_menu": {},
   "number_sections": true,
   "sideBar": true,
   "skip_h1_title": false,
   "title_cell": "Table of Contents",
   "title_sidebar": "Contents",
   "toc_cell": false,
   "toc_position": {},
   "toc_section_display": true,
   "toc_window_display": false
  },
  "varInspector": {
   "cols": {
    "lenName": 16,
    "lenType": 16,
    "lenVar": 40
   },
   "kernels_config": {
    "python": {
     "delete_cmd_postfix": "",
     "delete_cmd_prefix": "del ",
     "library": "var_list.py",
     "varRefreshCmd": "print(var_dic_list())"
    },
    "r": {
     "delete_cmd_postfix": ") ",
     "delete_cmd_prefix": "rm(",
     "library": "var_list.r",
     "varRefreshCmd": "cat(var_dic_list()) "
    }
   },
   "types_to_exclude": [
    "module",
    "function",
    "builtin_function_or_method",
    "instance",
    "_Feature"
   ],
   "window_display": false
  }
 },
 "nbformat": 4,
 "nbformat_minor": 5
}
