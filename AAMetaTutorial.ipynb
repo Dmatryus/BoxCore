{
 "cells": [
  {
   "cell_type": "code",
   "execution_count": 1,
   "metadata": {
    "ExecuteTime": {
     "end_time": "2024-04-15T13:14:58.764900600Z",
     "start_time": "2024-04-15T13:14:52.460072100Z"
    }
   },
   "outputs": [],
   "source": [
    "from hypex.dataset.dataset import Dataset, ExperimentData\n",
    "from hypex.dataset.roles import (\n",
    "    InfoRole,\n",
    "    FeatureRole,\n",
    "    TreatmentRole,\n",
    "    TargetRole,\n",
    ")\n",
    "from hypex.experiments.aa_test import AA_TEST\n",
    "from hypex.reporters.aa import AADictReporter"
   ]
  },
  {
   "cell_type": "code",
   "execution_count": 2,
   "metadata": {
    "ExecuteTime": {
     "end_time": "2024-04-15T13:14:58.846010600Z",
     "start_time": "2024-04-15T13:14:58.766899300Z"
    }
   },
   "outputs": [
    {
     "data": {
      "text/plain": "      user_id  signup_month  treat  pre_spends  post_spends   age gender  \\\n0           0             0      0       488.0   414.444444   NaN      M   \n1           1             8      1       512.5   462.222222  26.0    NaN   \n2           2             7      1       483.0   479.444444  25.0      M   \n3           3             0      0       501.5   424.333333  39.0      M   \n4           4             1      1       543.0   514.555556  18.0      F   \n...       ...           ...    ...         ...          ...   ...    ...   \n9995     9995            10      1       538.5   450.444444  42.0      M   \n9996     9996             0      0       500.5   430.888889  26.0      F   \n9997     9997             3      1       473.0   534.111111  22.0      F   \n9998     9998             2      1       495.0   523.222222  67.0      F   \n9999     9999             7      1       508.0   475.888889  38.0      F   \n\n        industry  \n0     E-commerce  \n1     E-commerce  \n2      Logistics  \n3     E-commerce  \n4     E-commerce  \n...          ...  \n9995   Logistics  \n9996   Logistics  \n9997  E-commerce  \n9998  E-commerce  \n9999  E-commerce  \n\n[10000 rows x 8 columns]"
     },
     "execution_count": 2,
     "metadata": {},
     "output_type": "execute_result"
    }
   ],
   "source": [
    "data = Dataset(\n",
    "    roles={\n",
    "        \"user_id\": InfoRole(),\n",
    "        \"signup_month\": FeatureRole(),\n",
    "        \"treat\": TreatmentRole(),\n",
    "        \"pre_spends\": TargetRole(),\n",
    "        \"post_spends\": TargetRole(),\n",
    "        \"age\": FeatureRole(),\n",
    "        \"gender\": FeatureRole(),\n",
    "        \"industry\": FeatureRole(),\n",
    "    }, data=\"data.csv\",\n",
    ")\n",
    "data"
   ]
  },
  {
   "cell_type": "code",
   "execution_count": 3,
   "metadata": {
    "ExecuteTime": {
     "end_time": "2024-04-15T13:14:58.906002800Z",
     "start_time": "2024-04-15T13:14:58.851012700Z"
    }
   },
   "outputs": [
    {
     "data": {
      "text/plain": "{'user_id': Info,\n 'signup_month': Feature,\n 'treat': Treatment,\n 'pre_spends': Target,\n 'post_spends': Target,\n 'age': Feature,\n 'gender': Feature,\n 'industry': Feature}"
     },
     "execution_count": 3,
     "metadata": {},
     "output_type": "execute_result"
    }
   ],
   "source": [
    "data.roles"
   ]
  },
  {
   "cell_type": "code",
   "execution_count": 4,
   "metadata": {
    "ExecuteTime": {
     "end_time": "2024-04-15T13:14:59.064475900Z",
     "start_time": "2024-04-15T13:14:58.892745700Z"
    }
   },
   "outputs": [],
   "source": [
    "test = AA_TEST\n",
    "ed = ExperimentData(data)\n",
    "result = test.execute(ed)"
   ]
  },
  {
   "cell_type": "code",
   "execution_count": 5,
   "metadata": {
    "collapsed": false,
    "ExecuteTime": {
     "end_time": "2024-04-15T13:14:59.130795100Z",
     "start_time": "2024-04-15T13:14:59.067476300Z"
    }
   },
   "outputs": [
    {
     "data": {
      "text/plain": "{'random_state': None,\n 'B pre_spends control mean': 487.3043,\n 'B pre_spends difference': -0.421100000000024,\n 'B pre_spends difference %': -0.08641417693215914,\n 'B pre_spends test mean': 486.8832,\n 'B post_spends control mean': 452.1872444444445,\n 'B post_spends difference': -0.045377777777900974,\n 'B post_spends difference %': -0.010035174219402698,\n 'B post_spends test mean': 452.1418666666666,\n 'B control size': 5000.0,\n 'B control size %': 50.0,\n 'B test size': 5000.0,\n 'B test size %': 50.0,\n 'TTest p-value': 0.6093161762325978,\n 'TTest pass': 0.0,\n 'KSTest p-value': 0.41555097695893173,\n 'KSTest pass': 0.0,\n 'mean test score': 0.48013937671682044}"
     },
     "execution_count": 5,
     "metadata": {},
     "output_type": "execute_result"
    }
   ],
   "source": [
    "AADictReporter().report(result)"
   ]
  },
  {
   "cell_type": "code",
   "execution_count": 6,
   "metadata": {
    "collapsed": false,
    "ExecuteTime": {
     "end_time": "2024-04-15T13:14:59.209918100Z",
     "start_time": "2024-04-15T13:14:59.133798200Z"
    }
   },
   "outputs": [
    {
     "data": {
      "text/plain": "{'GroupSizes╰╰[][A]':                      B\n control size    5000.0\n control size %    50.0\n test size       5000.0\n test size %       50.0,\n \"GroupDifference╰╰['pre_spends'][A]\":                                   B\n pre_spends control mean  487.304300\n pre_spends difference     -0.421100\n pre_spends difference %   -0.086414\n pre_spends test mean     486.883200,\n \"TTest╰╰['pre_spends'][A]\":   group  statistic   p-value   pass\n 0     B   1.115774  0.264546  False,\n \"KSTest╰╰['pre_spends'][A]\":   group  statistic   p-value   pass\n 0     B      0.017  0.465358  False,\n \"GroupDifference╰╰['post_spends'][A]\":                                    B\n post_spends control mean  452.187244\n post_spends difference     -0.045378\n post_spends difference %   -0.010035\n post_spends test mean     452.141867,\n \"TTest╰╰['post_spends'][A]\":   group  statistic   p-value   pass\n 0     B   0.057577  0.954087  False,\n \"KSTest╰╰['post_spends'][A]\":   group  statistic   p-value   pass\n 0     B     0.0184  0.365744  False,\n 'OneAASplitAnalyzer╰╰':    TTest p-value  TTest pass  KSTest p-value  KSTest pass  mean test score\n 0       0.609316         0.0        0.415551          0.0         0.480139}"
     },
     "execution_count": 6,
     "metadata": {},
     "output_type": "execute_result"
    }
   ],
   "source": [
    "result.analysis_tables"
   ]
  },
  {
   "cell_type": "code",
   "execution_count": 19,
   "metadata": {
    "collapsed": false,
    "ExecuteTime": {
     "end_time": "2024-04-15T13:15:46.267026400Z",
     "start_time": "2024-04-15T13:15:46.155189500Z"
    }
   },
   "outputs": [],
   "source": [
    "from hypex.experiments.ab_test import AB_TEST\n",
    "\n",
    "test = AB_TEST\n",
    "ed = ExperimentData(data)\n",
    "result = test.execute(ed)"
   ]
  },
  {
   "cell_type": "code",
   "execution_count": 20,
   "metadata": {
    "collapsed": false,
    "ExecuteTime": {
     "end_time": "2024-04-15T13:15:46.473389400Z",
     "start_time": "2024-04-15T13:15:46.452765700Z"
    }
   },
   "outputs": [
    {
     "data": {
      "text/plain": "   TTest p-value  TTest pass  MannWhitney p-value  MannWhitney pass  \\\n0   1.157524e-30         1.0         3.812131e-12               1.0   \n\n   ATE ['pre_spends'][t]  ATE ['post_spends'][t]  \n0                   487.09375                   452.164556  "
     },
     "execution_count": 20,
     "metadata": {},
     "output_type": "execute_result"
    }
   ],
   "source": [
    "result.analysis_tables['ABAnalyzer╰╰']"
   ]
  },
  {
   "cell_type": "code",
   "execution_count": 9,
   "metadata": {
    "collapsed": false,
    "ExecuteTime": {
     "end_time": "2024-04-15T13:14:59.801834200Z",
     "start_time": "2024-04-15T13:14:59.426933800Z"
    }
   },
   "outputs": [],
   "source": [
    "from hypex.experiments.homogeneity_test import HOMOGENEITY_TEST\n",
    "\n",
    "test = HOMOGENEITY_TEST\n",
    "ed = ExperimentData(data)\n",
    "result = test.execute(ed)"
   ]
  },
  {
   "cell_type": "code",
   "execution_count": 10,
   "metadata": {
    "collapsed": false,
    "ExecuteTime": {
     "end_time": "2024-04-15T13:14:59.871861700Z",
     "start_time": "2024-04-15T13:14:59.812836300Z"
    }
   },
   "outputs": [
    {
     "data": {
      "text/plain": "{\"GroupDifference╰╰['pre_spends'][t]\":                                   1\n pre_spends control mean  484.911973\n pre_spends difference      4.308406\n pre_spends difference %    0.888492\n pre_spends test mean     489.220379,\n \"TTest╰╰['pre_spends'][t]\":    group  statistic       p-value  pass\n 0      1 -11.489293  2.315047e-30  True,\n \"KSTest╰╰['pre_spends'][t]\":    group  statistic       p-value  pass\n 0      1   0.077573  1.559150e-13  True,\n \"GroupDifference╰╰['post_spends'][t]\":                                    1\n post_spends control mean  420.046619\n post_spends difference     63.424045\n post_spends difference %   15.099287\n post_spends test mean     483.470664,\n \"TTest╰╰['post_spends'][t]\":    group   statistic  p-value  pass\n 0      1 -135.560001      0.0  True,\n \"KSTest╰╰['post_spends'][t]\":    group  statistic  p-value  pass\n 0      1     0.8959      0.0  True,\n 'OneAASplitAnalyzer╰╰':    TTest p-value  TTest pass  KSTest p-value  KSTest pass  mean test score\n 0   1.157524e-30         1.0    7.795751e-14          1.0     5.197167e-14}"
     },
     "execution_count": 10,
     "metadata": {},
     "output_type": "execute_result"
    }
   ],
   "source": [
    "result.analysis_tables"
   ]
  },
  {
   "cell_type": "code",
   "execution_count": null,
   "metadata": {
    "collapsed": false,
    "is_executing": true,
    "ExecuteTime": {
     "start_time": "2024-04-15T13:16:55.648237800Z"
    }
   },
   "outputs": [],
   "source": [
    "import pandas as pd\n",
    "import warnings\n",
    "warnings.simplefilter(action='ignore', category=pd.errors.PerformanceWarning)\n",
    "\n",
    "from hypex.comparators.hypothesis_testing import TTest, KSTest\n",
    "from hypex.comparators.comparators import GroupSizes, GroupDifference\n",
    "from hypex.utils.enums import SpaceEnum\n",
    "from hypex.splitters.aa import AASplitter\n",
    "from hypex.analyzers.aa import OneAASplitAnalyzer\n",
    "from hypex.experiments.base import CycledExperiment, Experiment, OnRoleExperiment\n",
    "\n",
    "aa = Experiment(\n",
    "    executors=[\n",
    "        AASplitter(),\n",
    "        OnRoleExperiment(\n",
    "            executors=[\n",
    "                GroupSizes(grouping_role=TreatmentRole(), space=SpaceEnum.additional),\n",
    "                GroupDifference(grouping_role=TreatmentRole(), space=SpaceEnum.additional),\n",
    "                TTest(grouping_role=TreatmentRole(), space=SpaceEnum.additional),\n",
    "                KSTest(grouping_role=TreatmentRole(), space=SpaceEnum.additional),\n",
    "            ],\n",
    "            role=TargetRole(),\n",
    "        )\n",
    "    ]\n",
    ")\n",
    "experiment = CycledExperiment(n_iterations=2000, inner_executor=aa, analyzer=OneAASplitAnalyzer())\n",
    "ed = ExperimentData(data)\n",
    "res = experiment.execute(ed)"
   ]
  },
  {
   "cell_type": "code",
   "execution_count": 13,
   "metadata": {
    "ExecuteTime": {
     "end_time": "2024-04-15T13:15:00.244622100Z",
     "start_time": "2024-04-15T13:15:00.178696400Z"
    }
   },
   "outputs": [
    {
     "data": {
      "text/plain": "     AASplitter╰╰0 AASplitter╰╰1\n0                A             A\n1                A             A\n2                A             B\n3                B             A\n4                A             A\n...            ...           ...\n9995             A             B\n9996             A             A\n9997             A             A\n9998             B             A\n9999             A             A\n\n[10000 rows x 2 columns]"
     },
     "execution_count": 13,
     "metadata": {},
     "output_type": "execute_result"
    }
   ],
   "source": [
    "res.additional_fields"
   ]
  },
  {
   "cell_type": "code",
   "execution_count": 14,
   "metadata": {
    "collapsed": false,
    "ExecuteTime": {
     "end_time": "2024-04-15T13:15:00.497847800Z",
     "start_time": "2024-04-15T13:15:00.241620500Z"
    }
   },
   "outputs": [
    {
     "data": {
      "text/plain": "{\"GroupSizes╰╰['pre_spends'][A]0\":                      B\n control size    5000.0\n control size %    50.0\n test size       5000.0\n test size %       50.0,\n \"GroupDifference╰╰['pre_spends'][A]0\":                                  B\n pre_spends control mean  487.26300\n pre_spends difference     -0.33850\n pre_spends difference %   -0.06947\n pre_spends test mean     486.92450,\n \"TTest╰╰['pre_spends'][A]0\":   group  statistic   p-value   pass\n 0     B   0.896892  0.369798  False,\n \"KSTest╰╰['pre_spends'][A]0\":   group  statistic   p-value   pass\n 0     B     0.0186  0.352691  False,\n \"GroupSizes╰╰['post_spends'][A]0\":                      B\n control size    5000.0\n control size %    50.0\n test size       5000.0\n test size %       50.0,\n \"GroupDifference╰╰['post_spends'][A]0\":                                    B\n post_spends control mean  452.116622\n post_spends difference      0.095867\n post_spends difference %    0.021204\n post_spends test mean     452.212489,\n \"TTest╰╰['post_spends'][A]0\":   group  statistic   p-value   pass\n 0     B  -0.121639  0.903187  False,\n \"KSTest╰╰['post_spends'][A]0\":   group  statistic   p-value   pass\n 0     B     0.0106  0.941502  False,\n 'OneAASplitAnalyzer╰╰0':    TTest p-value  TTest pass  KSTest p-value  KSTest pass  mean test score\n 0       0.636493         0.0        0.647096          0.0         0.643562,\n \"GroupSizes╰╰['pre_spends'][A]1\":                      B\n control size    5000.0\n control size %    50.0\n test size       5000.0\n test size %       50.0,\n \"GroupDifference╰╰['pre_spends'][A]1\":                                   B\n pre_spends control mean  487.287000\n pre_spends difference     -0.386500\n pre_spends difference %   -0.079317\n pre_spends test mean     486.900500,\n \"TTest╰╰['pre_spends'][A]1\":   group  statistic  p-value   pass\n 0     B   1.024086  0.30582  False,\n \"KSTest╰╰['pre_spends'][A]1\":   group  statistic   p-value   pass\n 0     B     0.0238  0.117744  False,\n \"GroupSizes╰╰['post_spends'][A]1\":                      B\n control size    5000.0\n control size %    50.0\n test size       5000.0\n test size %       50.0,\n \"GroupDifference╰╰['post_spends'][A]1\":                                    B\n post_spends control mean  451.610378\n post_spends difference      1.108356\n post_spends difference %    0.245423\n post_spends test mean     452.718733,\n \"TTest╰╰['post_spends'][A]1\":   group  statistic   p-value   pass\n 0     B  -1.406461  0.159618  False,\n \"KSTest╰╰['post_spends'][A]1\":   group  statistic   p-value   pass\n 0     B     0.0208  0.229579  False,\n 'OneAASplitAnalyzer╰╰1':    TTest p-value  TTest pass  KSTest p-value  KSTest pass  mean test score\n 0       0.434606         0.0        0.410379          0.0         0.418454}"
     },
     "execution_count": 14,
     "metadata": {},
     "output_type": "execute_result"
    }
   ],
   "source": [
    "res.analysis_tables"
   ]
  },
  {
   "cell_type": "code",
   "execution_count": null,
   "metadata": {
    "collapsed": false,
    "is_executing": true
   },
   "outputs": [],
   "source": [
    "res_analyzer = OneAASplitAnalyzer().execute(res)"
   ]
  },
  {
   "cell_type": "code",
   "execution_count": null,
   "metadata": {
    "collapsed": false,
    "is_executing": true
   },
   "outputs": [],
   "source": [
    "res_analyzer.analysis_tables['OneAASplitAnalyzer╰╰']"
   ]
  },
  {
   "cell_type": "code",
   "execution_count": 17,
   "metadata": {
    "collapsed": false,
    "ExecuteTime": {
     "end_time": "2024-04-15T13:15:00.624695100Z",
     "start_time": "2024-04-15T13:15:00.491804500Z"
    }
   },
   "outputs": [
    {
     "data": {
      "text/plain": "{'pre_spends':       KSTest  TTest  TTest passed  KSTest passed\n mean     0.0    0.0             0              0,\n 'post_spends':       KSTest  TTest  TTest passed  KSTest passed\n mean     0.0    0.0             0              0}"
     },
     "execution_count": 17,
     "metadata": {},
     "output_type": "execute_result"
    }
   ],
   "source": [
    "# analyser version\n",
    "\n",
    "from hypex.dataset.roles import StatisticRole\n",
    "\n",
    "new_res = {}\n",
    "fields = ['pre_spends', 'post_spends'] # получаем столбцы по TargetRole\n",
    "tests = ['KSTest', 'TTest']\n",
    "for j in fields:\n",
    "    for i in list(res.analysis_tables.keys()):\n",
    "        if j in i and i.split('╰╰')[0] in tests:\n",
    "            test = i.split('╰╰')[0]\n",
    "            if j not in new_res:\n",
    "                new_res[j] = {test: []}\n",
    "            elif test not in new_res[j]:\n",
    "                new_res[j].update({test: []})\n",
    "            new_res[j][test].append(list(res.analysis_tables[i].data['pass'])[0])\n",
    "    new_res[j] = Dataset.from_dict(new_res[j], roles={}).mean()\n",
    "    new_res[j].add_column(new_res[j].apply(\n",
    "                lambda x: int(0.8 * 0.05 <= x['TTest'] <= 1.2 * 0.05), {'TTest passed': StatisticRole()}, axis=1\n",
    "            ))\n",
    "    new_res[j].add_column(new_res[j].apply(\n",
    "                lambda x: int(0.8 * 0.05 <= x['KSTest'] <= 1.2 * 0.05), {'KSTest passed': StatisticRole()}, axis=1\n",
    "            ))\n",
    "new_res"
   ]
  },
  {
   "cell_type": "code",
   "execution_count": 18,
   "metadata": {
    "collapsed": false,
    "ExecuteTime": {
     "end_time": "2024-04-15T13:15:00.751138200Z",
     "start_time": "2024-04-15T13:15:00.579865600Z"
    }
   },
   "outputs": [
    {
     "data": {
      "text/plain": "      user_id  signup_month  treat  pre_spends  post_spends   age gender  \\\n9595     9595             5      1       491.0   505.111111  42.0      M   \n3384     3384             2      1       488.5   513.222222  52.0      F   \n7541     7541             0      0       502.0   415.888889  55.0    NaN   \n1134     1134             0      0       503.5   416.444444  56.0      F   \n7873     7873             0      0       477.5   406.333333  29.0      M   \n...       ...           ...    ...         ...          ...   ...    ...   \n7527     7527            10      1       509.5   443.888889  49.0      F   \n6704     6704             7      1       471.5   480.555556  56.0      F   \n8228     8228             8      1       492.5   478.222222  26.0      M   \n3602     3602             3      1       506.5   531.777778  21.0      M   \n2008     2008             7      1       491.5   472.777778  58.0      F   \n\n        industry  \n9595  E-commerce  \n3384   Logistics  \n7541  E-commerce  \n1134  E-commerce  \n7873   Logistics  \n...          ...  \n7527   Logistics  \n6704  E-commerce  \n8228   Logistics  \n3602  E-commerce  \n2008   Logistics  \n\n[10000 rows x 8 columns]",
      "text/html": "<div>\n<style scoped>\n    .dataframe tbody tr th:only-of-type {\n        vertical-align: middle;\n    }\n\n    .dataframe tbody tr th {\n        vertical-align: top;\n    }\n\n    .dataframe thead th {\n        text-align: right;\n    }\n</style>\n<table border=\"1\" class=\"dataframe\">\n  <thead>\n    <tr style=\"text-align: right;\">\n      <th></th>\n      <th>user_id</th>\n      <th>signup_month</th>\n      <th>treat</th>\n      <th>pre_spends</th>\n      <th>post_spends</th>\n      <th>age</th>\n      <th>gender</th>\n      <th>industry</th>\n    </tr>\n  </thead>\n  <tbody>\n    <tr>\n      <th>9595</th>\n      <td>9595</td>\n      <td>5</td>\n      <td>1</td>\n      <td>491.0</td>\n      <td>505.111111</td>\n      <td>42.0</td>\n      <td>M</td>\n      <td>E-commerce</td>\n    </tr>\n    <tr>\n      <th>3384</th>\n      <td>3384</td>\n      <td>2</td>\n      <td>1</td>\n      <td>488.5</td>\n      <td>513.222222</td>\n      <td>52.0</td>\n      <td>F</td>\n      <td>Logistics</td>\n    </tr>\n    <tr>\n      <th>7541</th>\n      <td>7541</td>\n      <td>0</td>\n      <td>0</td>\n      <td>502.0</td>\n      <td>415.888889</td>\n      <td>55.0</td>\n      <td>NaN</td>\n      <td>E-commerce</td>\n    </tr>\n    <tr>\n      <th>1134</th>\n      <td>1134</td>\n      <td>0</td>\n      <td>0</td>\n      <td>503.5</td>\n      <td>416.444444</td>\n      <td>56.0</td>\n      <td>F</td>\n      <td>E-commerce</td>\n    </tr>\n    <tr>\n      <th>7873</th>\n      <td>7873</td>\n      <td>0</td>\n      <td>0</td>\n      <td>477.5</td>\n      <td>406.333333</td>\n      <td>29.0</td>\n      <td>M</td>\n      <td>Logistics</td>\n    </tr>\n    <tr>\n      <th>...</th>\n      <td>...</td>\n      <td>...</td>\n      <td>...</td>\n      <td>...</td>\n      <td>...</td>\n      <td>...</td>\n      <td>...</td>\n      <td>...</td>\n    </tr>\n    <tr>\n      <th>7527</th>\n      <td>7527</td>\n      <td>10</td>\n      <td>1</td>\n      <td>509.5</td>\n      <td>443.888889</td>\n      <td>49.0</td>\n      <td>F</td>\n      <td>Logistics</td>\n    </tr>\n    <tr>\n      <th>6704</th>\n      <td>6704</td>\n      <td>7</td>\n      <td>1</td>\n      <td>471.5</td>\n      <td>480.555556</td>\n      <td>56.0</td>\n      <td>F</td>\n      <td>E-commerce</td>\n    </tr>\n    <tr>\n      <th>8228</th>\n      <td>8228</td>\n      <td>8</td>\n      <td>1</td>\n      <td>492.5</td>\n      <td>478.222222</td>\n      <td>26.0</td>\n      <td>M</td>\n      <td>Logistics</td>\n    </tr>\n    <tr>\n      <th>3602</th>\n      <td>3602</td>\n      <td>3</td>\n      <td>1</td>\n      <td>506.5</td>\n      <td>531.777778</td>\n      <td>21.0</td>\n      <td>M</td>\n      <td>E-commerce</td>\n    </tr>\n    <tr>\n      <th>2008</th>\n      <td>2008</td>\n      <td>7</td>\n      <td>1</td>\n      <td>491.5</td>\n      <td>472.777778</td>\n      <td>58.0</td>\n      <td>F</td>\n      <td>Logistics</td>\n    </tr>\n  </tbody>\n</table>\n<p>10000 rows × 8 columns</p>\n</div>"
     },
     "execution_count": 18,
     "metadata": {},
     "output_type": "execute_result"
    }
   ],
   "source": [
    "import pandas as pd\n",
    "\n",
    "t = pd.read_csv(\"data.csv\")\n",
    "t.sample(frac=1, random_state=None)"
   ]
  },
  {
   "cell_type": "code",
   "execution_count": 18,
   "metadata": {
    "ExecuteTime": {
     "end_time": "2024-04-15T13:15:00.794198600Z",
     "start_time": "2024-04-15T13:15:00.662881600Z"
    }
   },
   "outputs": [],
   "source": []
  },
  {
   "cell_type": "code",
   "execution_count": 18,
   "metadata": {
    "ExecuteTime": {
     "end_time": "2024-04-15T13:15:00.837162600Z",
     "start_time": "2024-04-15T13:15:00.680527Z"
    }
   },
   "outputs": [],
   "source": []
  }
 ],
 "metadata": {
  "kernelspec": {
   "display_name": "Python 3",
   "language": "python",
   "name": "python3"
  },
  "language_info": {
   "codemirror_mode": {
    "name": "ipython",
    "version": 3
   },
   "file_extension": ".py",
   "mimetype": "text/x-python",
   "name": "python",
   "nbconvert_exporter": "python",
   "pygments_lexer": "ipython3",
   "version": "3.10.11"
  }
 },
 "nbformat": 4,
 "nbformat_minor": 2
}
