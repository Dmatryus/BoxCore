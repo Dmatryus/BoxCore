{
 "cells": [
  {
   "cell_type": "code",
   "execution_count": 1,
   "metadata": {
    "ExecuteTime": {
     "end_time": "2024-04-18T14:01:04.154253200Z",
     "start_time": "2024-04-18T14:00:57.909737300Z"
    }
   },
   "outputs": [],
   "source": [
    "from hypex.dataset import Dataset, ExperimentData, InfoRole, FeatureRole, TreatmentRole, TargetRole\n",
    "from hypex.experiments.aa import AA_TEST\n",
    "from hypex.reporters import AADictReporter"
   ]
  },
  {
   "cell_type": "code",
   "execution_count": 2,
   "metadata": {
    "ExecuteTime": {
     "end_time": "2024-04-18T14:01:04.259240200Z",
     "start_time": "2024-04-18T14:01:04.158328400Z"
    }
   },
   "outputs": [
    {
     "data": {
      "text/plain": "      user_id  signup_month  treat  pre_spends  post_spends   age gender  \\\n0           0             0      0       488.0   414.444444   NaN      M   \n1           1             8      1       512.5   462.222222  26.0    NaN   \n2           2             7      1       483.0   479.444444  25.0      M   \n3           3             0      0       501.5   424.333333  39.0      M   \n4           4             1      1       543.0   514.555556  18.0      F   \n...       ...           ...    ...         ...          ...   ...    ...   \n9995     9995            10      1       538.5   450.444444  42.0      M   \n9996     9996             0      0       500.5   430.888889  26.0      F   \n9997     9997             3      1       473.0   534.111111  22.0      F   \n9998     9998             2      1       495.0   523.222222  67.0      F   \n9999     9999             7      1       508.0   475.888889  38.0      F   \n\n        industry  \n0     E-commerce  \n1     E-commerce  \n2      Logistics  \n3     E-commerce  \n4     E-commerce  \n...          ...  \n9995   Logistics  \n9996   Logistics  \n9997  E-commerce  \n9998  E-commerce  \n9999  E-commerce  \n\n[10000 rows x 8 columns]"
     },
     "execution_count": 2,
     "metadata": {},
     "output_type": "execute_result"
    }
   ],
   "source": [
    "data = Dataset(\n",
    "    roles={\n",
    "        \"user_id\": InfoRole(),\n",
    "        \"signup_month\": FeatureRole(),\n",
    "        \"treat\": TreatmentRole(),\n",
    "        \"pre_spends\": TargetRole(),\n",
    "        \"post_spends\": TargetRole(),\n",
    "        \"age\": FeatureRole(),\n",
    "        \"gender\": FeatureRole(),\n",
    "        \"industry\": FeatureRole(),\n",
    "    }, data=\"data.csv\",\n",
    ")\n",
    "data"
   ]
  },
  {
   "cell_type": "code",
   "execution_count": 3,
   "metadata": {
    "ExecuteTime": {
     "end_time": "2024-04-18T14:01:04.336998600Z",
     "start_time": "2024-04-18T14:01:04.256238600Z"
    }
   },
   "outputs": [
    {
     "data": {
      "text/plain": "{'user_id': Info,\n 'signup_month': Feature,\n 'treat': Treatment,\n 'pre_spends': Target,\n 'post_spends': Target,\n 'age': Feature,\n 'gender': Feature,\n 'industry': Feature}"
     },
     "execution_count": 3,
     "metadata": {},
     "output_type": "execute_result"
    }
   ],
   "source": [
    "data.roles"
   ]
  },
  {
   "cell_type": "code",
   "execution_count": 4,
   "metadata": {
    "ExecuteTime": {
     "end_time": "2024-04-18T14:01:04.437555800Z",
     "start_time": "2024-04-18T14:01:04.289493Z"
    }
   },
   "outputs": [],
   "source": [
    "test = AA_TEST\n",
    "ed = ExperimentData(data)\n",
    "result = test.execute(ed)"
   ]
  },
  {
   "cell_type": "code",
   "execution_count": 5,
   "metadata": {
    "collapsed": false,
    "ExecuteTime": {
     "end_time": "2024-04-18T14:01:04.527202100Z",
     "start_time": "2024-04-18T14:01:04.436164900Z"
    }
   },
   "outputs": [
    {
     "data": {
      "text/plain": "{'random_state': None,\n 'B pre_spends control mean': 486.9008,\n 'B pre_spends difference': 0.38589999999999236,\n 'B pre_spends difference %': 0.07925639062411616,\n 'B pre_spends test mean': 487.2867,\n 'B post_spends control mean': 452.1402222222222,\n 'B post_spends difference': 0.04866666666674746,\n 'B post_spends difference %': 0.010763622494702751,\n 'B post_spends test mean': 452.1888888888889,\n 'B control size': 5000.0,\n 'B control size %': 50.0,\n 'B test size': 5000.0,\n 'B test size %': 50.0,\n 'TTest p-value': 0.6286670862348981,\n 'TTest pass': 0.0,\n 'KSTest p-value': 0.7095449603070298,\n 'KSTest pass': 0.0,\n 'mean test score': 0.6825856689496526}"
     },
     "execution_count": 5,
     "metadata": {},
     "output_type": "execute_result"
    }
   ],
   "source": [
    "AADictReporter().report(result)"
   ]
  },
  {
   "cell_type": "code",
   "execution_count": 6,
   "metadata": {
    "collapsed": false,
    "ExecuteTime": {
     "end_time": "2024-04-18T14:01:04.575622500Z",
     "start_time": "2024-04-18T14:01:04.476634800Z"
    }
   },
   "outputs": [
    {
     "data": {
      "text/plain": "{'GroupSizes╰╰[][A]':                      B\n control size    5000.0\n control size %    50.0\n test size       5000.0\n test size %       50.0,\n \"GroupDifference╰╰['pre_spends'][A]\":                                   B\n pre_spends control mean  486.900800\n pre_spends difference      0.385900\n pre_spends difference %    0.079256\n pre_spends test mean     487.286700,\n \"TTest╰╰['pre_spends'][A]\":   group  statistic   p-value   pass\n 0     B  -1.022496  0.306571  False,\n \"KSTest╰╰['pre_spends'][A]\":   group  statistic   p-value   pass\n 0     B     0.0166  0.496232  False,\n \"GroupDifference╰╰['post_spends'][A]\":                                    B\n post_spends control mean  452.140222\n post_spends difference      0.048667\n post_spends difference %    0.010764\n post_spends test mean     452.188889,\n \"TTest╰╰['post_spends'][A]\":   group  statistic   p-value   pass\n 0     B   -0.06175  0.950763  False,\n \"KSTest╰╰['post_spends'][A]\":   group  statistic   p-value   pass\n 0     B      0.011  0.922858  False,\n 'OneAASplitAnalyzer╰╰':    TTest p-value  TTest pass  KSTest p-value  KSTest pass  mean test score\n 0       0.628667         0.0        0.709545          0.0         0.682586}"
     },
     "execution_count": 6,
     "metadata": {},
     "output_type": "execute_result"
    }
   ],
   "source": [
    "result.analysis_tables"
   ]
  },
  {
   "cell_type": "code",
   "execution_count": 7,
   "metadata": {
    "collapsed": false,
    "ExecuteTime": {
     "end_time": "2024-04-18T14:01:04.690496400Z",
     "start_time": "2024-04-18T14:01:04.537204100Z"
    }
   },
   "outputs": [],
   "source": [
    "from hypex.experiments.ab import AB_TEST\n",
    "\n",
    "test = AB_TEST\n",
    "ed = ExperimentData(data)\n",
    "result = test.execute(ed)"
   ]
  },
  {
   "cell_type": "code",
   "execution_count": 8,
   "metadata": {
    "collapsed": false,
    "ExecuteTime": {
     "end_time": "2024-04-18T14:01:04.748185300Z",
     "start_time": "2024-04-18T14:01:04.693675600Z"
    }
   },
   "outputs": [
    {
     "data": {
      "text/plain": "   TTest p-value  TTest pass  UTest ['pre_spends'][t]  \\\n0   1.157524e-30         1.0                        1   \n\n   UTest ['post_spends'][t]  ATE ['pre_spends'][t]  ATE ['post_spends'][t]  \n0                         1              487.09375              452.164556  "
     },
     "execution_count": 8,
     "metadata": {},
     "output_type": "execute_result"
    }
   ],
   "source": [
    "result.analysis_tables['ABAnalyzer╰╰']"
   ]
  },
  {
   "cell_type": "code",
   "execution_count": 9,
   "metadata": {
    "collapsed": false,
    "ExecuteTime": {
     "end_time": "2024-04-18T14:01:05.070088Z",
     "start_time": "2024-04-18T14:01:04.721195100Z"
    }
   },
   "outputs": [],
   "source": [
    "from hypex.experiments.homogeneity import HOMOGENEITY_TEST\n",
    "\n",
    "test = HOMOGENEITY_TEST\n",
    "ed = ExperimentData(data)\n",
    "result = test.execute(ed)"
   ]
  },
  {
   "cell_type": "code",
   "execution_count": 10,
   "metadata": {
    "collapsed": false,
    "ExecuteTime": {
     "end_time": "2024-04-18T14:01:05.122765700Z",
     "start_time": "2024-04-18T14:01:05.063760900Z"
    }
   },
   "outputs": [
    {
     "data": {
      "text/plain": "{\"GroupDifference╰╰['pre_spends'][t]\":                                   1\n pre_spends control mean  484.911973\n pre_spends difference      4.308406\n pre_spends difference %    0.888492\n pre_spends test mean     489.220379,\n \"TTest╰╰['pre_spends'][t]\":    group  statistic       p-value  pass\n 0      1 -11.489293  2.315047e-30  True,\n \"KSTest╰╰['pre_spends'][t]\":    group  statistic       p-value  pass\n 0      1   0.077573  1.559150e-13  True,\n \"GroupDifference╰╰['post_spends'][t]\":                                    1\n post_spends control mean  420.046619\n post_spends difference     63.424045\n post_spends difference %   15.099287\n post_spends test mean     483.470664,\n \"TTest╰╰['post_spends'][t]\":    group   statistic  p-value  pass\n 0      1 -135.560001      0.0  True,\n \"KSTest╰╰['post_spends'][t]\":    group  statistic  p-value  pass\n 0      1     0.8959      0.0  True,\n 'OneAASplitAnalyzer╰╰':    TTest p-value  TTest pass  KSTest p-value  KSTest pass  mean test score\n 0   1.157524e-30         1.0    7.795751e-14          1.0     5.197167e-14}"
     },
     "execution_count": 10,
     "metadata": {},
     "output_type": "execute_result"
    }
   ],
   "source": [
    "result.analysis_tables"
   ]
  },
  {
   "cell_type": "code",
   "execution_count": 11,
   "metadata": {
    "collapsed": false,
    "ExecuteTime": {
     "end_time": "2024-04-18T14:01:08.269096600Z",
     "start_time": "2024-04-18T14:01:05.115335600Z"
    }
   },
   "outputs": [],
   "source": [
    "import pandas as pd\n",
    "import warnings\n",
    "warnings.simplefilter(action='ignore', category=pd.errors.PerformanceWarning)\n",
    "\n",
    "from hypex.comparators import TTest, KSTest, GroupSizes, GroupDifference\n",
    "from hypex.utils import SpaceEnum\n",
    "from hypex.splitters import AASplitter\n",
    "from hypex.analyzers import OneAASplitAnalyzer\n",
    "from hypex.experiments import CycledExperiment, Experiment, OnRoleExperiment\n",
    "\n",
    "aa = Experiment(\n",
    "    executors=[\n",
    "        AASplitter(),\n",
    "        OnRoleExperiment(\n",
    "            executors=[\n",
    "                GroupSizes(grouping_role=TreatmentRole(), space=SpaceEnum.additional),\n",
    "                GroupDifference(grouping_role=TreatmentRole(), space=SpaceEnum.additional),\n",
    "                TTest(grouping_role=TreatmentRole(), space=SpaceEnum.additional),\n",
    "                KSTest(grouping_role=TreatmentRole(), space=SpaceEnum.additional),\n",
    "            ],\n",
    "            role=TargetRole(),\n",
    "        )\n",
    "    ]\n",
    ")\n",
    "experiment = CycledExperiment(n_iterations=20, inner_executor=aa, analyzer=OneAASplitAnalyzer())\n",
    "ed = ExperimentData(data)\n",
    "res = experiment.execute(ed)"
   ]
  },
  {
   "cell_type": "code",
   "execution_count": 12,
   "metadata": {
    "ExecuteTime": {
     "end_time": "2024-04-18T14:01:08.308949Z",
     "start_time": "2024-04-18T14:01:08.262530800Z"
    }
   },
   "outputs": [
    {
     "data": {
      "text/plain": "     AASplitter╰╰0 AASplitter╰╰1 AASplitter╰╰2 AASplitter╰╰3 AASplitter╰╰4  \\\n0                B             A             A             A             A   \n1                A             A             A             A             B   \n2                B             B             B             A             B   \n3                B             B             B             B             B   \n4                B             A             B             B             A   \n...            ...           ...           ...           ...           ...   \n9995             B             A             A             B             B   \n9996             A             A             A             A             A   \n9997             B             B             B             A             B   \n9998             A             B             B             B             B   \n9999             B             B             B             A             A   \n\n     AASplitter╰╰5 AASplitter╰╰6 AASplitter╰╰7 AASplitter╰╰8 AASplitter╰╰9  \\\n0                A             A             B             A             A   \n1                B             A             B             B             B   \n2                B             A             B             B             B   \n3                A             B             A             A             B   \n4                B             A             B             B             A   \n...            ...           ...           ...           ...           ...   \n9995             A             A             B             A             A   \n9996             B             A             B             A             A   \n9997             B             B             B             B             A   \n9998             B             B             A             A             A   \n9999             A             A             B             B             A   \n\n     AASplitter╰╰10 AASplitter╰╰11 AASplitter╰╰12 AASplitter╰╰13  \\\n0                 B              B              B              B   \n1                 A              A              A              A   \n2                 B              A              A              B   \n3                 A              A              A              A   \n4                 A              B              B              A   \n...             ...            ...            ...            ...   \n9995              A              B              B              B   \n9996              B              B              B              B   \n9997              B              A              B              A   \n9998              B              A              B              A   \n9999              A              B              A              A   \n\n     AASplitter╰╰14 AASplitter╰╰15 AASplitter╰╰16 AASplitter╰╰17  \\\n0                 A              A              B              B   \n1                 B              A              B              A   \n2                 A              B              B              B   \n3                 B              A              B              A   \n4                 B              B              B              A   \n...             ...            ...            ...            ...   \n9995              A              B              A              A   \n9996              B              A              A              A   \n9997              A              A              B              A   \n9998              B              A              A              A   \n9999              A              B              A              A   \n\n     AASplitter╰╰18 AASplitter╰╰19  \n0                 A              A  \n1                 B              A  \n2                 A              B  \n3                 A              B  \n4                 A              A  \n...             ...            ...  \n9995              B              A  \n9996              B              A  \n9997              A              A  \n9998              B              B  \n9999              B              B  \n\n[10000 rows x 20 columns]"
     },
     "execution_count": 12,
     "metadata": {},
     "output_type": "execute_result"
    }
   ],
   "source": [
    "res.additional_fields"
   ]
  },
  {
   "cell_type": "code",
   "execution_count": 13,
   "metadata": {
    "collapsed": false,
    "ExecuteTime": {
     "end_time": "2024-04-18T14:01:08.752132600Z",
     "start_time": "2024-04-18T14:01:08.309946400Z"
    }
   },
   "outputs": [
    {
     "data": {
      "text/plain": "{\"GroupSizes╰╰['pre_spends'][A]0\":                      B\n control size    5000.0\n control size %    50.0\n test size       5000.0\n test size %       50.0,\n \"GroupDifference╰╰['pre_spends'][A]0\":                                   B\n pre_spends control mean  487.430000\n pre_spends difference     -0.672500\n pre_spends difference %   -0.137969\n pre_spends test mean     486.757500,\n \"TTest╰╰['pre_spends'][A]0\":   group  statistic   p-value   pass\n 0     B   1.782072  0.074768  False,\n \"KSTest╰╰['pre_spends'][A]0\":   group  statistic   p-value   pass\n 0     B     0.0186  0.352691  False,\n \"GroupSizes╰╰['post_spends'][A]0\":                      B\n control size    5000.0\n control size %    50.0\n test size       5000.0\n test size %       50.0,\n \"GroupDifference╰╰['post_spends'][A]0\":                                    B\n post_spends control mean  453.066267\n post_spends difference     -1.803422\n post_spends difference %   -0.398048\n post_spends test mean     451.262844,\n \"TTest╰╰['post_spends'][A]0\":   group  statistic   p-value  pass\n 0     B   2.288847  0.022109  True,\n \"KSTest╰╰['post_spends'][A]0\":   group  statistic   p-value   pass\n 0     B      0.025  0.087865  False,\n 'OneAASplitAnalyzer╰╰0':    TTest p-value  TTest pass  KSTest p-value  KSTest pass  mean test score\n 0       0.048438         0.5        0.220278          0.0         0.162998,\n \"GroupSizes╰╰['pre_spends'][A]1\":                      B\n control size    5000.0\n control size %    50.0\n test size       5000.0\n test size %       50.0,\n \"GroupDifference╰╰['pre_spends'][A]1\":                                   B\n pre_spends control mean  487.080800\n pre_spends difference      0.025900\n pre_spends difference %    0.005317\n pre_spends test mean     487.106700,\n \"TTest╰╰['pre_spends'][A]1\":   group  statistic   p-value   pass\n 0     B  -0.068622  0.945292  False,\n \"KSTest╰╰['pre_spends'][A]1\":   group  statistic   p-value   pass\n 0     B     0.0124  0.836797  False,\n \"GroupSizes╰╰['post_spends'][A]1\":                      B\n control size    5000.0\n control size %    50.0\n test size       5000.0\n test size %       50.0,\n \"GroupDifference╰╰['post_spends'][A]1\":                                    B\n post_spends control mean  451.979044\n post_spends difference      0.371022\n post_spends difference %    0.082088\n post_spends test mean     452.350067,\n \"TTest╰╰['post_spends'][A]1\":   group  statistic   p-value   pass\n 0     B  -0.470772  0.637814  False,\n \"KSTest╰╰['post_spends'][A]1\":   group  statistic   p-value   pass\n 0     B     0.0148  0.644071  False,\n 'OneAASplitAnalyzer╰╰1':    TTest p-value  TTest pass  KSTest p-value  KSTest pass  mean test score\n 0       0.419996        0.25        0.480356          0.0         0.460236,\n \"GroupSizes╰╰['pre_spends'][A]2\":                      B\n control size    5000.0\n control size %    50.0\n test size       5000.0\n test size %       50.0,\n \"GroupDifference╰╰['pre_spends'][A]2\":                                   B\n pre_spends control mean  487.031100\n pre_spends difference      0.125300\n pre_spends difference %    0.025727\n pre_spends test mean     487.156400,\n \"TTest╰╰['pre_spends'][A]2\":   group  statistic   p-value   pass\n 0     B  -0.331984  0.739908  False,\n \"KSTest╰╰['pre_spends'][A]2\":   group  statistic   p-value   pass\n 0     B     0.0106  0.941502  False,\n \"GroupSizes╰╰['post_spends'][A]2\":                      B\n control size    5000.0\n control size %    50.0\n test size       5000.0\n test size %       50.0,\n \"GroupDifference╰╰['post_spends'][A]2\":                                    B\n post_spends control mean  452.394244\n post_spends difference     -0.459378\n post_spends difference %   -0.101544\n post_spends test mean     451.934867,\n \"TTest╰╰['post_spends'][A]2\":   group  statistic   p-value   pass\n 0     B   0.582885  0.559984  False,\n \"KSTest╰╰['post_spends'][A]2\":   group  statistic   p-value   pass\n 0     B      0.016  0.544187  False,\n 'OneAASplitAnalyzer╰╰2':    TTest p-value  TTest pass  KSTest p-value  KSTest pass  mean test score\n 0       0.496646    0.166667        0.567852          0.0         0.544117,\n \"GroupSizes╰╰['pre_spends'][A]3\":                      B\n control size    5000.0\n control size %    50.0\n test size       5000.0\n test size %       50.0,\n \"GroupDifference╰╰['pre_spends'][A]3\":                                 B\n pre_spends control mean  487.2582\n pre_spends difference     -0.3289\n pre_spends difference %   -0.0675\n pre_spends test mean     486.9293,\n \"TTest╰╰['pre_spends'][A]3\":   group  statistic   p-value   pass\n 0     B   0.871454  0.383527  False,\n \"KSTest╰╰['pre_spends'][A]3\":   group  statistic   p-value   pass\n 0     B     0.0158  0.560541  False,\n \"GroupSizes╰╰['post_spends'][A]3\":                      B\n control size    5000.0\n control size %    50.0\n test size       5000.0\n test size %       50.0,\n \"GroupDifference╰╰['post_spends'][A]3\":                                    B\n post_spends control mean  452.766178\n post_spends difference     -1.203244\n post_spends difference %   -0.265754\n post_spends test mean     451.562933,\n \"TTest╰╰['post_spends'][A]3\":   group  statistic   p-value   pass\n 0     B   1.526898  0.126818  False,\n \"KSTest╰╰['post_spends'][A]3\":   group  statistic   p-value   pass\n 0     B     0.0202  0.259452  False,\n 'OneAASplitAnalyzer╰╰3':    TTest p-value  TTest pass  KSTest p-value  KSTest pass  mean test score\n 0       0.436277       0.125        0.528388          0.0         0.497685,\n \"GroupSizes╰╰['pre_spends'][A]4\":                      B\n control size    5000.0\n control size %    50.0\n test size       5000.0\n test size %       50.0,\n \"GroupDifference╰╰['pre_spends'][A]4\":                                  B\n pre_spends control mean  487.14780\n pre_spends difference     -0.10810\n pre_spends difference %   -0.02219\n pre_spends test mean     487.03970,\n \"TTest╰╰['pre_spends'][A]4\":   group  statistic   p-value   pass\n 0     B   0.286412  0.774568  False,\n \"KSTest╰╰['pre_spends'][A]4\":   group  statistic   p-value   pass\n 0     B     0.0138  0.727866  False,\n \"GroupSizes╰╰['post_spends'][A]4\":                      B\n control size    5000.0\n control size %    50.0\n test size       5000.0\n test size %       50.0,\n \"GroupDifference╰╰['post_spends'][A]4\":                                    B\n post_spends control mean  452.156689\n post_spends difference      0.015733\n post_spends difference %    0.003480\n post_spends test mean     452.172422,\n \"TTest╰╰['post_spends'][A]4\":   group  statistic   p-value   pass\n 0     B  -0.019963  0.984073  False,\n \"KSTest╰╰['post_spends'][A]4\":   group  statistic   p-value   pass\n 0     B     0.0106  0.941502  False,\n 'OneAASplitAnalyzer╰╰4':    TTest p-value  TTest pass  KSTest p-value  KSTest pass  mean test score\n 0       0.524886         0.1        0.589647          0.0          0.56806,\n \"GroupSizes╰╰['pre_spends'][A]5\":                      B\n control size    5000.0\n control size %    50.0\n test size       5000.0\n test size %       50.0,\n \"GroupDifference╰╰['pre_spends'][A]5\":                                   B\n pre_spends control mean  486.800100\n pre_spends difference      0.587300\n pre_spends difference %    0.120645\n pre_spends test mean     487.387400,\n \"TTest╰╰['pre_spends'][A]5\":   group  statistic   p-value   pass\n 0     B   -1.55624  0.119683  False,\n \"KSTest╰╰['pre_spends'][A]5\":   group  statistic   p-value   pass\n 0     B     0.0166  0.496232  False,\n \"GroupSizes╰╰['post_spends'][A]5\":                      B\n control size    5000.0\n control size %    50.0\n test size       5000.0\n test size %       50.0,\n \"GroupDifference╰╰['post_spends'][A]5\":                                    B\n post_spends control mean  451.482800\n post_spends difference      1.363511\n post_spends difference %    0.302007\n post_spends test mean     452.846311,\n \"TTest╰╰['post_spends'][A]5\":   group  statistic   p-value   pass\n 0     B  -1.730331  0.083602  False,\n \"KSTest╰╰['post_spends'][A]5\":   group  statistic   p-value   pass\n 0     B     0.0216  0.193881  False,\n 'OneAASplitAnalyzer╰╰5':    TTest p-value  TTest pass  KSTest p-value  KSTest pass  mean test score\n 0       0.454346    0.083333        0.548882          0.0          0.51737,\n \"GroupSizes╰╰['pre_spends'][A]6\":                      B\n control size    5000.0\n control size %    50.0\n test size       5000.0\n test size %       50.0,\n \"GroupDifference╰╰['pre_spends'][A]6\":                                   B\n pre_spends control mean  486.948100\n pre_spends difference      0.291300\n pre_spends difference %    0.059822\n pre_spends test mean     487.239400,\n \"TTest╰╰['pre_spends'][A]6\":   group  statistic   p-value   pass\n 0     B  -0.771823  0.440238  False,\n \"KSTest╰╰['pre_spends'][A]6\":   group  statistic   p-value   pass\n 0     B     0.0154  0.593677  False,\n \"GroupSizes╰╰['post_spends'][A]6\":                      B\n control size    5000.0\n control size %    50.0\n test size       5000.0\n test size %       50.0,\n \"GroupDifference╰╰['post_spends'][A]6\":                                    B\n post_spends control mean  451.809489\n post_spends difference      0.710133\n post_spends difference %    0.157175\n post_spends test mean     452.519622,\n \"TTest╰╰['post_spends'][A]6\":   group  statistic   p-value   pass\n 0     B  -0.901079  0.367568  False,\n \"KSTest╰╰['post_spends'][A]6\":   group  statistic   p-value   pass\n 0     B     0.0148  0.644071  False,\n 'OneAASplitAnalyzer╰╰6':    TTest p-value  TTest pass  KSTest p-value  KSTest pass  mean test score\n 0       0.447139    0.071429        0.558881          0.0         0.521634,\n \"GroupSizes╰╰['pre_spends'][A]7\":                      B\n control size    5000.0\n control size %    50.0\n test size       5000.0\n test size %       50.0,\n \"GroupDifference╰╰['pre_spends'][A]7\":                                  B\n pre_spends control mean  487.41620\n pre_spends difference     -0.64490\n pre_spends difference %   -0.13231\n pre_spends test mean     486.77130,\n \"TTest╰╰['pre_spends'][A]7\":   group  statistic   p-value   pass\n 0     B   1.708913  0.087498  False,\n \"KSTest╰╰['pre_spends'][A]7\":   group  statistic   p-value   pass\n 0     B     0.0208  0.229579  False,\n \"GroupSizes╰╰['post_spends'][A]7\":                      B\n control size    5000.0\n control size %    50.0\n test size       5000.0\n test size %       50.0,\n \"GroupDifference╰╰['post_spends'][A]7\":                                    B\n post_spends control mean  452.257444\n post_spends difference     -0.185778\n post_spends difference %   -0.041078\n post_spends test mean     452.071667,\n \"TTest╰╰['post_spends'][A]7\":   group  statistic   p-value   pass\n 0     B   0.235722  0.813653  False,\n \"KSTest╰╰['post_spends'][A]7\":   group  statistic   p-value   pass\n 0     B     0.0164  0.512014  False,\n 'OneAASplitAnalyzer╰╰7':    TTest p-value  TTest pass  KSTest p-value  KSTest pass  mean test score\n 0       0.447569      0.0625         0.53537          0.0         0.506103,\n \"GroupSizes╰╰['pre_spends'][A]8\":                      B\n control size    5000.0\n control size %    50.0\n test size       5000.0\n test size %       50.0,\n \"GroupDifference╰╰['pre_spends'][A]8\":                                   B\n pre_spends control mean  487.080300\n pre_spends difference      0.026900\n pre_spends difference %    0.005523\n pre_spends test mean     487.107200,\n \"TTest╰╰['pre_spends'][A]8\":   group  statistic   p-value   pass\n 0     B  -0.071272  0.943183  False,\n \"KSTest╰╰['pre_spends'][A]8\":   group  statistic   p-value   pass\n 0     B     0.0112  0.912466  False,\n \"GroupSizes╰╰['post_spends'][A]8\":                      B\n control size    5000.0\n control size %    50.0\n test size       5000.0\n test size %       50.0,\n \"GroupDifference╰╰['post_spends'][A]8\":                                    B\n post_spends control mean  451.763178\n post_spends difference      0.802756\n post_spends difference %    0.177694\n post_spends test mean     452.565933,\n \"TTest╰╰['post_spends'][A]8\":   group  statistic   p-value   pass\n 0     B  -1.018618  0.308409  False,\n \"KSTest╰╰['post_spends'][A]8\":   group  statistic  p-value   pass\n 0     B     0.0152  0.61041  False,\n 'OneAASplitAnalyzer╰╰8':    TTest p-value  TTest pass  KSTest p-value  KSTest pass  mean test score\n 0       0.467372    0.055556        0.560489          0.0          0.52945,\n \"GroupSizes╰╰['pre_spends'][A]9\":                      B\n control size    5000.0\n control size %    50.0\n test size       5000.0\n test size %       50.0,\n \"GroupDifference╰╰['pre_spends'][A]9\":                                   B\n pre_spends control mean  486.870200\n pre_spends difference      0.447100\n pre_spends difference %    0.091831\n pre_spends test mean     487.317300,\n \"TTest╰╰['pre_spends'][A]9\":   group  statistic   p-value   pass\n 0     B  -1.184675  0.236174  False,\n \"KSTest╰╰['pre_spends'][A]9\":   group  statistic   p-value   pass\n 0     B     0.0116  0.889652  False,\n \"GroupSizes╰╰['post_spends'][A]9\":                      B\n control size    5000.0\n control size %    50.0\n test size       5000.0\n test size %       50.0,\n \"GroupDifference╰╰['post_spends'][A]9\":                                    B\n post_spends control mean  452.150289\n post_spends difference      0.028533\n post_spends difference %    0.006311\n post_spends test mean     452.178822,\n \"TTest╰╰['post_spends'][A]9\":   group  statistic  p-value   pass\n 0     B  -0.036204  0.97112  False,\n \"KSTest╰╰['post_spends'][A]9\":   group  statistic   p-value   pass\n 0     B     0.0114  0.901389  False,\n 'OneAASplitAnalyzer╰╰9':    TTest p-value  TTest pass  KSTest p-value  KSTest pass  mean test score\n 0       0.480999        0.05        0.593992          0.0         0.556328,\n \"GroupSizes╰╰['pre_spends'][A]10\":                      B\n control size    5000.0\n control size %    50.0\n test size       5000.0\n test size %       50.0,\n \"GroupDifference╰╰['pre_spends'][A]10\":                                   B\n pre_spends control mean  487.093200\n pre_spends difference      0.001100\n pre_spends difference %    0.000226\n pre_spends test mean     487.094300,\n \"TTest╰╰['pre_spends'][A]10\":   group  statistic   p-value   pass\n 0     B  -0.002914  0.997675  False,\n \"KSTest╰╰['pre_spends'][A]10\":   group  statistic   p-value   pass\n 0     B     0.0088  0.990283  False,\n \"GroupSizes╰╰['post_spends'][A]10\":                      B\n control size    5000.0\n control size %    50.0\n test size       5000.0\n test size %       50.0,\n \"GroupDifference╰╰['post_spends'][A]10\":                                    B\n post_spends control mean  452.198200\n post_spends difference     -0.067289\n post_spends difference %   -0.014880\n post_spends test mean     452.130911,\n \"TTest╰╰['post_spends'][A]10\":   group  statistic   p-value   pass\n 0     B   0.085379  0.931962  False,\n \"KSTest╰╰['post_spends'][A]10\":   group  statistic   p-value   pass\n 0     B     0.0104  0.949728  False,\n 'OneAASplitAnalyzer╰╰10':    TTest p-value  TTest pass  KSTest p-value  KSTest pass  mean test score\n 0       0.524983    0.045455        0.628175          0.0         0.593778,\n \"GroupSizes╰╰['pre_spends'][A]11\":                      B\n control size    5000.0\n control size %    50.0\n test size       5000.0\n test size %       50.0,\n \"GroupDifference╰╰['pre_spends'][A]11\":                                   B\n pre_spends control mean  486.894600\n pre_spends difference      0.398300\n pre_spends difference %    0.081804\n pre_spends test mean     487.292900,\n \"TTest╰╰['pre_spends'][A]11\":   group  statistic   p-value   pass\n 0     B  -1.055355  0.291289  False,\n \"KSTest╰╰['pre_spends'][A]11\":   group  statistic   p-value   pass\n 0     B     0.0146  0.660939  False,\n \"GroupSizes╰╰['post_spends'][A]11\":                      B\n control size    5000.0\n control size %    50.0\n test size       5000.0\n test size %       50.0,\n \"GroupDifference╰╰['post_spends'][A]11\":                                    B\n post_spends control mean  451.668556\n post_spends difference      0.992000\n post_spends difference %    0.219630\n post_spends test mean     452.660556,\n \"TTest╰╰['post_spends'][A]11\":   group  statistic   p-value   pass\n 0     B  -1.258785  0.208137  False,\n \"KSTest╰╰['post_spends'][A]11\":   group  statistic   p-value   pass\n 0     B     0.0214  0.202374  False,\n 'OneAASplitAnalyzer╰╰11':    TTest p-value  TTest pass  KSTest p-value  KSTest pass  mean test score\n 0       0.502044    0.041667        0.611799          0.0         0.575214,\n \"GroupSizes╰╰['pre_spends'][A]12\":                      B\n control size    5000.0\n control size %    50.0\n test size       5000.0\n test size %       50.0,\n \"GroupDifference╰╰['pre_spends'][A]12\":                                   B\n pre_spends control mean  487.221400\n pre_spends difference     -0.255300\n pre_spends difference %   -0.052399\n pre_spends test mean     486.966100,\n \"TTest╰╰['pre_spends'][A]12\":   group  statistic   p-value   pass\n 0     B   0.676433  0.498781  False,\n \"KSTest╰╰['pre_spends'][A]12\":   group  statistic  p-value   pass\n 0     B     0.0152  0.61041  False,\n \"GroupSizes╰╰['post_spends'][A]12\":                      B\n control size    5000.0\n control size %    50.0\n test size       5000.0\n test size %       50.0,\n \"GroupDifference╰╰['post_spends'][A]12\":                                    B\n post_spends control mean  452.235156\n post_spends difference     -0.141200\n post_spends difference %   -0.031223\n post_spends test mean     452.093956,\n \"TTest╰╰['post_spends'][A]12\":   group  statistic   p-value   pass\n 0     B    0.17916  0.857816  False,\n \"KSTest╰╰['post_spends'][A]12\":   group  statistic   p-value   pass\n 0     B     0.0134  0.760472  False,\n 'OneAASplitAnalyzer╰╰12':    TTest p-value  TTest pass  KSTest p-value  KSTest pass  mean test score\n 0       0.515602    0.038462        0.617463          0.0          0.58351,\n \"GroupSizes╰╰['pre_spends'][A]13\":                      B\n control size    5000.0\n control size %    50.0\n test size       5000.0\n test size %       50.0,\n \"GroupDifference╰╰['pre_spends'][A]13\":                                   B\n pre_spends control mean  487.202600\n pre_spends difference     -0.217700\n pre_spends difference %   -0.044684\n pre_spends test mean     486.984900,\n \"TTest╰╰['pre_spends'][A]13\":   group  statistic   p-value   pass\n 0     B   0.576806  0.564084  False,\n \"KSTest╰╰['pre_spends'][A]13\":   group  statistic   p-value   pass\n 0     B      0.013  0.792067  False,\n \"GroupSizes╰╰['post_spends'][A]13\":                      B\n control size    5000.0\n control size %    50.0\n test size       5000.0\n test size %       50.0,\n \"GroupDifference╰╰['post_spends'][A]13\":                                    B\n post_spends control mean  452.294933\n post_spends difference     -0.260756\n post_spends difference %   -0.057652\n post_spends test mean     452.034178,\n \"TTest╰╰['post_spends'][A]13\":   group  statistic   p-value   pass\n 0     B   0.330858  0.740759  False,\n \"KSTest╰╰['post_spends'][A]13\":   group  statistic   p-value   pass\n 0     B      0.014  0.711289  False,\n 'OneAASplitAnalyzer╰╰13':    TTest p-value  TTest pass  KSTest p-value  KSTest pass  mean test score\n 0       0.525375    0.035714         0.62705          0.0         0.593158,\n \"GroupSizes╰╰['pre_spends'][A]14\":                      B\n control size    5000.0\n control size %    50.0\n test size       5000.0\n test size %       50.0,\n \"GroupDifference╰╰['pre_spends'][A]14\":                                   B\n pre_spends control mean  486.850600\n pre_spends difference      0.486300\n pre_spends difference %    0.099887\n pre_spends test mean     487.336900,\n \"TTest╰╰['pre_spends'][A]14\":   group  statistic   p-value   pass\n 0     B  -1.288559  0.197581  False,\n \"KSTest╰╰['pre_spends'][A]14\":   group  statistic   p-value   pass\n 0     B     0.0268  0.055125  False,\n \"GroupSizes╰╰['post_spends'][A]14\":                      B\n control size    5000.0\n control size %    50.0\n test size       5000.0\n test size %       50.0,\n \"GroupDifference╰╰['post_spends'][A]14\":                                    B\n post_spends control mean  452.401467\n post_spends difference     -0.473822\n post_spends difference %   -0.104735\n post_spends test mean     451.927644,\n \"TTest╰╰['post_spends'][A]14\":   group  statistic   p-value   pass\n 0     B   0.601214  0.547711  False,\n \"KSTest╰╰['post_spends'][A]14\":   group  statistic   p-value   pass\n 0     B     0.0154  0.593677  False,\n 'OneAASplitAnalyzer╰╰14':    TTest p-value  TTest pass  KSTest p-value  KSTest pass  mean test score\n 0       0.515193    0.033333        0.606874          0.0         0.576313,\n \"GroupSizes╰╰['pre_spends'][A]15\":                      B\n control size    5000.0\n control size %    50.0\n test size       5000.0\n test size %       50.0,\n \"GroupDifference╰╰['pre_spends'][A]15\":                                   B\n pre_spends control mean  487.031600\n pre_spends difference      0.124300\n pre_spends difference %    0.025522\n pre_spends test mean     487.155900,\n \"TTest╰╰['pre_spends'][A]15\":   group  statistic  p-value   pass\n 0     B  -0.329335  0.74191  False,\n \"KSTest╰╰['pre_spends'][A]15\":   group  statistic   p-value   pass\n 0     B     0.0094  0.979998  False,\n \"GroupSizes╰╰['post_spends'][A]15\":                      B\n control size    5000.0\n control size %    50.0\n test size       5000.0\n test size %       50.0,\n \"GroupDifference╰╰['post_spends'][A]15\":                                    B\n post_spends control mean  452.753178\n post_spends difference     -1.177244\n post_spends difference %   -0.260019\n post_spends test mean     451.575933,\n \"TTest╰╰['post_spends'][A]15\":   group  statistic   p-value   pass\n 0     B   1.493897  0.135234  False,\n \"KSTest╰╰['post_spends'][A]15\":   group  statistic   p-value   pass\n 0     B     0.0214  0.202374  False,\n 'OneAASplitAnalyzer╰╰15':    TTest p-value  TTest pass  KSTest p-value  KSTest pass  mean test score\n 0       0.510404     0.03125        0.605893          0.0         0.574063,\n \"GroupSizes╰╰['pre_spends'][A]16\":                      B\n control size    5000.0\n control size %    50.0\n test size       5000.0\n test size %       50.0,\n \"GroupDifference╰╰['pre_spends'][A]16\":                                   B\n pre_spends control mean  487.204400\n pre_spends difference     -0.221300\n pre_spends difference %   -0.045422\n pre_spends test mean     486.983100,\n \"TTest╰╰['pre_spends'][A]16\":   group  statistic   p-value   pass\n 0     B   0.586345  0.557657  False,\n \"KSTest╰╰['pre_spends'][A]16\":   group  statistic   p-value   pass\n 0     B     0.0096  0.975341  False,\n \"GroupSizes╰╰['post_spends'][A]16\":                      B\n control size    5000.0\n control size %    50.0\n test size       5000.0\n test size %       50.0,\n \"GroupDifference╰╰['post_spends'][A]16\":                                    B\n post_spends control mean  452.243578\n post_spends difference     -0.158044\n post_spends difference %   -0.034947\n post_spends test mean     452.085533,\n \"TTest╰╰['post_spends'][A]16\":   group  statistic   p-value   pass\n 0     B   0.200533  0.841068  False,\n \"KSTest╰╰['post_spends'][A]16\":   group  statistic   p-value   pass\n 0     B     0.0112  0.912466  False,\n 'OneAASplitAnalyzer╰╰16':    TTest p-value  TTest pass  KSTest p-value  KSTest pass  mean test score\n 0       0.521519    0.029412        0.625776          0.0         0.591024,\n \"GroupSizes╰╰['pre_spends'][A]17\":                      B\n control size    5000.0\n control size %    50.0\n test size       5000.0\n test size %       50.0,\n \"GroupDifference╰╰['pre_spends'][A]17\":                                   B\n pre_spends control mean  486.916800\n pre_spends difference      0.353900\n pre_spends difference %    0.072682\n pre_spends test mean     487.270700,\n \"TTest╰╰['pre_spends'][A]17\":   group  statistic   p-value   pass\n 0     B    -0.9377  0.348421  False,\n \"KSTest╰╰['pre_spends'][A]17\":   group  statistic   p-value   pass\n 0     B     0.0198  0.280894  False,\n \"GroupSizes╰╰['post_spends'][A]17\":                      B\n control size    5000.0\n control size %    50.0\n test size       5000.0\n test size %       50.0,\n \"GroupDifference╰╰['post_spends'][A]17\":                                    B\n post_spends control mean  451.847756\n post_spends difference      0.633600\n post_spends difference %    0.140224\n post_spends test mean     452.481356,\n \"TTest╰╰['post_spends'][A]17\":   group  statistic   p-value   pass\n 0     B  -0.803961  0.421439  False,\n \"KSTest╰╰['post_spends'][A]17\":   group  statistic   p-value   pass\n 0     B     0.0178  0.406718  False,\n 'OneAASplitAnalyzer╰╰17':    TTest p-value  TTest pass  KSTest p-value  KSTest pass  mean test score\n 0       0.513931    0.027778        0.610111          0.0         0.578051,\n \"GroupSizes╰╰['pre_spends'][A]18\":                      B\n control size    5000.0\n control size %    50.0\n test size       5000.0\n test size %       50.0,\n \"GroupDifference╰╰['pre_spends'][A]18\":                                   B\n pre_spends control mean  486.879300\n pre_spends difference      0.428900\n pre_spends difference %    0.088092\n pre_spends test mean     487.308200,\n \"TTest╰╰['pre_spends'][A]18\":   group  statistic   p-value   pass\n 0     B  -1.136444  0.255798  False,\n \"KSTest╰╰['pre_spends'][A]18\":   group  statistic   p-value   pass\n 0     B     0.0164  0.512014  False,\n \"GroupSizes╰╰['post_spends'][A]18\":                      B\n control size    5000.0\n control size %    50.0\n test size       5000.0\n test size %       50.0,\n \"GroupDifference╰╰['post_spends'][A]18\":                                    B\n post_spends control mean  452.272289\n post_spends difference     -0.215467\n post_spends difference %   -0.047641\n post_spends test mean     452.056822,\n \"TTest╰╰['post_spends'][A]18\":   group  statistic   p-value   pass\n 0     B   0.273393  0.784557  False,\n \"KSTest╰╰['post_spends'][A]18\":   group  statistic  p-value   pass\n 0     B     0.0152  0.61041  False,\n 'OneAASplitAnalyzer╰╰18':    TTest p-value  TTest pass  KSTest p-value  KSTest pass  mean test score\n 0        0.51426    0.026316        0.607537          0.0         0.576445,\n \"GroupSizes╰╰['pre_spends'][A]19\":                      B\n control size    5000.0\n control size %    50.0\n test size       5000.0\n test size %       50.0,\n \"GroupDifference╰╰['pre_spends'][A]19\":                                   B\n pre_spends control mean  487.276400\n pre_spends difference     -0.365300\n pre_spends difference %   -0.074968\n pre_spends test mean     486.911100,\n \"TTest╰╰['pre_spends'][A]19\":   group  statistic   p-value   pass\n 0     B   0.967908  0.333114  False,\n \"KSTest╰╰['pre_spends'][A]19\":   group  statistic   p-value   pass\n 0     B     0.0146  0.660939  False,\n \"GroupSizes╰╰['post_spends'][A]19\":                      B\n control size    5000.0\n control size %    50.0\n test size       5000.0\n test size %       50.0,\n \"GroupDifference╰╰['post_spends'][A]19\":                                    B\n post_spends control mean  452.616867\n post_spends difference     -0.904622\n post_spends difference %   -0.199865\n post_spends test mean     451.712244,\n \"TTest╰╰['post_spends'][A]19\":   group  statistic  p-value   pass\n 0     B   1.147893  0.25104  False,\n \"KSTest╰╰['post_spends'][A]19\":   group  statistic   p-value   pass\n 0     B     0.0202  0.259452  False,\n 'OneAASplitAnalyzer╰╰19':    TTest p-value  TTest pass  KSTest p-value  KSTest pass  mean test score\n 0       0.503151       0.025         0.60017          0.0          0.56783}"
     },
     "execution_count": 13,
     "metadata": {},
     "output_type": "execute_result"
    }
   ],
   "source": [
    "res.analysis_tables"
   ]
  },
  {
   "cell_type": "code",
   "execution_count": 14,
   "metadata": {
    "collapsed": false,
    "ExecuteTime": {
     "end_time": "2024-04-18T14:01:08.826538Z",
     "start_time": "2024-04-18T14:01:08.742100900Z"
    }
   },
   "outputs": [],
   "source": [
    "res_analyzer = OneAASplitAnalyzer().execute(res)"
   ]
  },
  {
   "cell_type": "code",
   "execution_count": 15,
   "metadata": {
    "collapsed": false,
    "ExecuteTime": {
     "end_time": "2024-04-18T14:01:08.889290Z",
     "start_time": "2024-04-18T14:01:08.824534900Z"
    }
   },
   "outputs": [
    {
     "data": {
      "text/plain": "   TTest p-value  TTest pass  KSTest p-value  KSTest pass  mean test score\n0       0.503151       0.025         0.60017          0.0          0.56783"
     },
     "execution_count": 15,
     "metadata": {},
     "output_type": "execute_result"
    }
   ],
   "source": [
    "res_analyzer.analysis_tables['OneAASplitAnalyzer╰╰']"
   ]
  },
  {
   "cell_type": "code",
   "execution_count": 16,
   "metadata": {
    "collapsed": false,
    "ExecuteTime": {
     "end_time": "2024-04-18T14:01:08.918821400Z",
     "start_time": "2024-04-18T14:01:08.855054100Z"
    }
   },
   "outputs": [
    {
     "data": {
      "text/plain": "{'pre_spends':       KSTest  TTest  TTest passed  KSTest passed\n mean     0.0    0.0             0              0,\n 'post_spends':       KSTest  TTest  TTest passed  KSTest passed\n mean     0.0   0.05             1              0}"
     },
     "execution_count": 16,
     "metadata": {},
     "output_type": "execute_result"
    }
   ],
   "source": [
    "# analyser version\n",
    "\n",
    "from hypex.dataset import StatisticRole\n",
    "\n",
    "new_res = {}\n",
    "fields = ['pre_spends', 'post_spends'] # получаем столбцы по TargetRole\n",
    "tests = ['KSTest', 'TTest']\n",
    "for j in fields:\n",
    "    for i in list(res.analysis_tables.keys()):\n",
    "        if j in i and i.split('╰╰')[0] in tests:\n",
    "            test = i.split('╰╰')[0]\n",
    "            if j not in new_res:\n",
    "                new_res[j] = {test: []}\n",
    "            elif test not in new_res[j]:\n",
    "                new_res[j].update({test: []})\n",
    "            new_res[j][test].append(list(res.analysis_tables[i].data['pass'])[0])\n",
    "    new_res[j] = Dataset.from_dict(new_res[j], roles={}).mean()\n",
    "    new_res[j].add_column(new_res[j].apply(\n",
    "                lambda x: int(0.8 * 0.05 <= x['TTest'] <= 1.2 * 0.05), {'TTest passed': StatisticRole()}, axis=1\n",
    "            ))\n",
    "    new_res[j].add_column(new_res[j].apply(\n",
    "                lambda x: int(0.8 * 0.05 <= x['KSTest'] <= 1.2 * 0.05), {'KSTest passed': StatisticRole()}, axis=1\n",
    "            ))\n",
    "new_res"
   ]
  },
  {
   "cell_type": "code",
   "execution_count": 17,
   "metadata": {
    "collapsed": false,
    "ExecuteTime": {
     "end_time": "2024-04-18T14:01:08.978471Z",
     "start_time": "2024-04-18T14:01:08.918821400Z"
    }
   },
   "outputs": [
    {
     "data": {
      "text/plain": "      user_id  signup_month  treat  pre_spends  post_spends   age gender  \\\n7463     7463             0      0       493.0   414.888889  26.0      M   \n5717     5717             0      0       470.0   423.666667  43.0      M   \n6900     6900             0      0       462.5   416.333333   NaN      M   \n2927     2927             0      0       509.5   425.222222  54.0      F   \n1902     1902             0      0       519.0   418.555556  52.0      M   \n...       ...           ...    ...         ...          ...   ...    ...   \n4108     4108             5      1       461.0   507.111111  26.0      M   \n6729     6729             1      1       527.5   518.777778  35.0      M   \n4152     4152             0      0       496.0   424.000000  67.0      F   \n9220     9220             6      1       488.0   474.555556   NaN      M   \n4776     4776             0      0       484.5   426.000000  26.0      F   \n\n        industry  \n7463  E-commerce  \n5717  E-commerce  \n6900  E-commerce  \n2927   Logistics  \n1902   Logistics  \n...          ...  \n4108  E-commerce  \n6729   Logistics  \n4152   Logistics  \n9220   Logistics  \n4776  E-commerce  \n\n[10000 rows x 8 columns]",
      "text/html": "<div>\n<style scoped>\n    .dataframe tbody tr th:only-of-type {\n        vertical-align: middle;\n    }\n\n    .dataframe tbody tr th {\n        vertical-align: top;\n    }\n\n    .dataframe thead th {\n        text-align: right;\n    }\n</style>\n<table border=\"1\" class=\"dataframe\">\n  <thead>\n    <tr style=\"text-align: right;\">\n      <th></th>\n      <th>user_id</th>\n      <th>signup_month</th>\n      <th>treat</th>\n      <th>pre_spends</th>\n      <th>post_spends</th>\n      <th>age</th>\n      <th>gender</th>\n      <th>industry</th>\n    </tr>\n  </thead>\n  <tbody>\n    <tr>\n      <th>7463</th>\n      <td>7463</td>\n      <td>0</td>\n      <td>0</td>\n      <td>493.0</td>\n      <td>414.888889</td>\n      <td>26.0</td>\n      <td>M</td>\n      <td>E-commerce</td>\n    </tr>\n    <tr>\n      <th>5717</th>\n      <td>5717</td>\n      <td>0</td>\n      <td>0</td>\n      <td>470.0</td>\n      <td>423.666667</td>\n      <td>43.0</td>\n      <td>M</td>\n      <td>E-commerce</td>\n    </tr>\n    <tr>\n      <th>6900</th>\n      <td>6900</td>\n      <td>0</td>\n      <td>0</td>\n      <td>462.5</td>\n      <td>416.333333</td>\n      <td>NaN</td>\n      <td>M</td>\n      <td>E-commerce</td>\n    </tr>\n    <tr>\n      <th>2927</th>\n      <td>2927</td>\n      <td>0</td>\n      <td>0</td>\n      <td>509.5</td>\n      <td>425.222222</td>\n      <td>54.0</td>\n      <td>F</td>\n      <td>Logistics</td>\n    </tr>\n    <tr>\n      <th>1902</th>\n      <td>1902</td>\n      <td>0</td>\n      <td>0</td>\n      <td>519.0</td>\n      <td>418.555556</td>\n      <td>52.0</td>\n      <td>M</td>\n      <td>Logistics</td>\n    </tr>\n    <tr>\n      <th>...</th>\n      <td>...</td>\n      <td>...</td>\n      <td>...</td>\n      <td>...</td>\n      <td>...</td>\n      <td>...</td>\n      <td>...</td>\n      <td>...</td>\n    </tr>\n    <tr>\n      <th>4108</th>\n      <td>4108</td>\n      <td>5</td>\n      <td>1</td>\n      <td>461.0</td>\n      <td>507.111111</td>\n      <td>26.0</td>\n      <td>M</td>\n      <td>E-commerce</td>\n    </tr>\n    <tr>\n      <th>6729</th>\n      <td>6729</td>\n      <td>1</td>\n      <td>1</td>\n      <td>527.5</td>\n      <td>518.777778</td>\n      <td>35.0</td>\n      <td>M</td>\n      <td>Logistics</td>\n    </tr>\n    <tr>\n      <th>4152</th>\n      <td>4152</td>\n      <td>0</td>\n      <td>0</td>\n      <td>496.0</td>\n      <td>424.000000</td>\n      <td>67.0</td>\n      <td>F</td>\n      <td>Logistics</td>\n    </tr>\n    <tr>\n      <th>9220</th>\n      <td>9220</td>\n      <td>6</td>\n      <td>1</td>\n      <td>488.0</td>\n      <td>474.555556</td>\n      <td>NaN</td>\n      <td>M</td>\n      <td>Logistics</td>\n    </tr>\n    <tr>\n      <th>4776</th>\n      <td>4776</td>\n      <td>0</td>\n      <td>0</td>\n      <td>484.5</td>\n      <td>426.000000</td>\n      <td>26.0</td>\n      <td>F</td>\n      <td>E-commerce</td>\n    </tr>\n  </tbody>\n</table>\n<p>10000 rows × 8 columns</p>\n</div>"
     },
     "execution_count": 17,
     "metadata": {},
     "output_type": "execute_result"
    }
   ],
   "source": [
    "import pandas as pd\n",
    "\n",
    "t = pd.read_csv(\"data.csv\")\n",
    "t.sample(frac=1, random_state=None)"
   ]
  },
  {
   "cell_type": "code",
   "outputs": [],
   "source": [
    "from hypex.hypotheses.hypothesis import Hypothesis\n",
    "ed, exp  = Hypothesis(\"test_config.json\").execute()"
   ],
   "metadata": {
    "collapsed": false,
    "ExecuteTime": {
     "end_time": "2024-04-19T13:05:23.199583600Z",
     "start_time": "2024-04-19T13:05:20.896011700Z"
    }
   },
   "execution_count": 1
  },
  {
   "cell_type": "code",
   "outputs": [],
   "source": [
    "res = exp.execute(ed)"
   ],
   "metadata": {
    "collapsed": false,
    "is_executing": true,
    "ExecuteTime": {
     "start_time": "2024-04-19T13:11:26.128638Z"
    }
   },
   "execution_count": null
  },
  {
   "cell_type": "code",
   "outputs": [
    {
     "data": {
      "text/plain": "[<hypex.comparators.comparators.GroupDifference at 0x15caa3b0490>]"
     },
     "execution_count": 3,
     "metadata": {},
     "output_type": "execute_result"
    }
   ],
   "source": [
    "exp.executors[1].executors"
   ],
   "metadata": {
    "collapsed": false,
    "ExecuteTime": {
     "end_time": "2024-04-19T13:05:26.627874900Z",
     "start_time": "2024-04-19T13:05:26.555120300Z"
    }
   },
   "execution_count": 3
  },
  {
   "cell_type": "code",
   "outputs": [
    {
     "data": {
      "text/plain": "     AASplitter╰╰\n0               A\n1               A\n2               A\n3               B\n4               B\n...           ...\n9995            B\n9996            A\n9997            A\n9998            B\n9999            A\n\n[10000 rows x 1 columns]"
     },
     "execution_count": 7,
     "metadata": {},
     "output_type": "execute_result"
    }
   ],
   "source": [
    "res.additional_fields"
   ],
   "metadata": {
    "collapsed": false,
    "ExecuteTime": {
     "end_time": "2024-04-19T13:10:00.779028200Z",
     "start_time": "2024-04-19T13:10:00.652801700Z"
    }
   },
   "execution_count": 7
  },
  {
   "cell_type": "code",
   "outputs": [],
   "source": [],
   "metadata": {
    "collapsed": false
   }
  }
 ],
 "metadata": {
  "kernelspec": {
   "display_name": "Python 3",
   "language": "python",
   "name": "python3"
  },
  "language_info": {
   "codemirror_mode": {
    "name": "ipython",
    "version": 3
   },
   "file_extension": ".py",
   "mimetype": "text/x-python",
   "name": "python",
   "nbconvert_exporter": "python",
   "pygments_lexer": "ipython3",
   "version": "3.10.11"
  }
 },
 "nbformat": 4,
 "nbformat_minor": 2
}
