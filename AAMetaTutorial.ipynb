{
 "cells": [
  {
   "cell_type": "code",
   "execution_count": 1,
   "metadata": {},
   "outputs": [],
   "source": [
    "from hypex.dataset.dataset import Dataset, ExperimentData\n",
    "from hypex.experiments.aa_test import AA_TEST\n",
    "from hypex.dataset.roles import (\n",
    "    InfoRole,\n",
    "    FeatureRole,\n",
    "    TreatmentRole,\n",
    "    PreTargetRole,\n",
    "    TargetRole,\n",
    ")"
   ]
  },
  {
   "cell_type": "code",
   "execution_count": 2,
   "metadata": {},
   "outputs": [
    {
     "data": {
      "text/plain": [
       "      user_id  signup_month  treat  pre_spends  post_spends   age gender  \\\n",
       "0           0             0      0       488.0   414.444444   NaN      M   \n",
       "1           1             8      1       512.5   462.222222  26.0    NaN   \n",
       "2           2             7      1       483.0   479.444444  25.0      M   \n",
       "3           3             0      0       501.5   424.333333  39.0      M   \n",
       "4           4             1      1       543.0   514.555556  18.0      F   \n",
       "...       ...           ...    ...         ...          ...   ...    ...   \n",
       "9995     9995            10      1       538.5   450.444444  42.0      M   \n",
       "9996     9996             0      0       500.5   430.888889  26.0      F   \n",
       "9997     9997             3      1       473.0   534.111111  22.0      F   \n",
       "9998     9998             2      1       495.0   523.222222  67.0      F   \n",
       "9999     9999             7      1       508.0   475.888889  38.0      F   \n",
       "\n",
       "        industry  \n",
       "0     E-commerce  \n",
       "1     E-commerce  \n",
       "2      Logistics  \n",
       "3     E-commerce  \n",
       "4     E-commerce  \n",
       "...          ...  \n",
       "9995   Logistics  \n",
       "9996   Logistics  \n",
       "9997  E-commerce  \n",
       "9998  E-commerce  \n",
       "9999  E-commerce  \n",
       "\n",
       "[10000 rows x 8 columns]"
      ]
     },
     "execution_count": 2,
     "metadata": {},
     "output_type": "execute_result"
    }
   ],
   "source": [
    "data = Dataset(\n",
    "    \"data.csv\",\n",
    "    roles={\n",
    "        \"user_id\": InfoRole(),\n",
    "        \"signup_month\": FeatureRole(),\n",
    "        \"treat\": TreatmentRole(),\n",
    "        \"pre_spends\": PreTargetRole(),\n",
    "        \"post_spends\": TargetRole(),\n",
    "        \"age\": FeatureRole(),\n",
    "        \"gender\": FeatureRole(),\n",
    "        \"industry\": FeatureRole(),\n",
    "    },\n",
    ")\n",
    "data"
   ]
  },
  {
   "cell_type": "code",
   "execution_count": 3,
   "metadata": {},
   "outputs": [
    {
     "data": {
      "text/plain": [
       "{'user_id': <hypex.dataset.roles.InfoRole at 0x204b1975450>,\n",
       " 'signup_month': <hypex.dataset.roles.FeatureRole at 0x204b1975990>,\n",
       " 'treat': <hypex.dataset.roles.TreatmentRole at 0x204b1975000>,\n",
       " 'pre_spends': <hypex.dataset.roles.PreTargetRole at 0x204b1975060>,\n",
       " 'post_spends': <hypex.dataset.roles.TargetRole at 0x204b19751b0>,\n",
       " 'age': <hypex.dataset.roles.FeatureRole at 0x204b19750f0>,\n",
       " 'gender': <hypex.dataset.roles.FeatureRole at 0x204b1974d30>,\n",
       " 'industry': <hypex.dataset.roles.FeatureRole at 0x204b1974b50>}"
      ]
     },
     "execution_count": 3,
     "metadata": {},
     "output_type": "execute_result"
    }
   ],
   "source": [
    "data.roles"
   ]
  },
  {
   "cell_type": "code",
   "execution_count": 4,
   "metadata": {},
   "outputs": [
    {
     "name": "stderr",
     "output_type": "stream",
     "text": [
      "c:\\Projects\\HypEx\\hypex\\dataset\\dataset.py:55: UserWarning: Didn't add roles for experiment estimation. This fact can lead to incorrect operation of the pipeline. \n",
      "  warnings.warn(\n",
      "c:\\Projects\\HypEx\\hypex\\dataset\\dataset.py:55: UserWarning: Didn't add roles for experiment estimation. This fact can lead to incorrect operation of the pipeline. \n",
      "  warnings.warn(\n",
      "c:\\Projects\\HypEx\\hypex\\dataset\\dataset.py:55: UserWarning: Didn't add roles for experiment estimation. This fact can lead to incorrect operation of the pipeline. \n",
      "  warnings.warn(\n",
      "c:\\Projects\\HypEx\\hypex\\experiment\\experiment.py:223: UserWarning: Pandas doesn't allow columns to be created via a new attribute name - see https://pandas.pydata.org/pandas-docs/stable/indexing.html#attribute-access\n",
      "  data.data.tmp_roles = {field: TempTargetRole}\n"
     ]
    },
    {
     "name": "stdout",
     "output_type": "stream",
     "text": [
      "roles {'user_id': <hypex.dataset.roles.InfoRole object at 0x00000204B1975450>, 'signup_month': <hypex.dataset.roles.FeatureRole object at 0x00000204B1975990>, 'treat': <hypex.dataset.roles.TreatmentRole object at 0x00000204B1975000>, 'pre_spends': <hypex.dataset.roles.PreTargetRole object at 0x00000204B1975060>, 'post_spends': <hypex.dataset.roles.TargetRole object at 0x00000204B19751B0>, 'age': <hypex.dataset.roles.FeatureRole object at 0x00000204B19750F0>, 'gender': <hypex.dataset.roles.FeatureRole object at 0x00000204B1974D30>, 'industry': <hypex.dataset.roles.FeatureRole object at 0x00000204B1974B50>}\n",
      "['post_spends']\n",
      "roles {'user_id': <hypex.dataset.roles.InfoRole object at 0x00000204B1975450>, 'signup_month': <hypex.dataset.roles.FeatureRole object at 0x00000204B1975990>, 'treat': <hypex.dataset.roles.TreatmentRole object at 0x00000204B1975000>, 'pre_spends': <hypex.dataset.roles.PreTargetRole object at 0x00000204B1975060>, 'post_spends': <hypex.dataset.roles.TargetRole object at 0x00000204B19751B0>, 'age': <hypex.dataset.roles.FeatureRole object at 0x00000204B19750F0>, 'gender': <hypex.dataset.roles.FeatureRole object at 0x00000204B1974D30>, 'industry': <hypex.dataset.roles.FeatureRole object at 0x00000204B1974B50>}\n",
      "[]\n",
      "roles {}\n",
      "[]\n"
     ]
    },
    {
     "ename": "IndexError",
     "evalue": "list index out of range",
     "output_type": "error",
     "traceback": [
      "\u001b[1;31m---------------------------------------------------------------------------\u001b[0m",
      "\u001b[1;31mIndexError\u001b[0m                                Traceback (most recent call last)",
      "\u001b[1;32mc:\\Projects\\HypEx\\AAMetaTutorial.ipynb Cell 4\u001b[0m line \u001b[0;36m3\n\u001b[0;32m      <a href='vscode-notebook-cell:/c%3A/Projects/HypEx/AAMetaTutorial.ipynb#W3sZmlsZQ%3D%3D?line=0'>1</a>\u001b[0m test \u001b[39m=\u001b[39m AA_TEST\n\u001b[0;32m      <a href='vscode-notebook-cell:/c%3A/Projects/HypEx/AAMetaTutorial.ipynb#W3sZmlsZQ%3D%3D?line=1'>2</a>\u001b[0m ed \u001b[39m=\u001b[39m ExperimentData(data)\n\u001b[1;32m----> <a href='vscode-notebook-cell:/c%3A/Projects/HypEx/AAMetaTutorial.ipynb#W3sZmlsZQ%3D%3D?line=2'>3</a>\u001b[0m result \u001b[39m=\u001b[39m test\u001b[39m.\u001b[39;49mexecute(ed)\n",
      "File \u001b[1;32mc:\\Projects\\HypEx\\hypex\\experiment\\experiment.py:146\u001b[0m, in \u001b[0;36mExperiment.execute\u001b[1;34m(self, data)\u001b[0m\n\u001b[0;32m    144\u001b[0m experiment_data \u001b[39m=\u001b[39m deepcopy(data) \u001b[39mif\u001b[39;00m \u001b[39mself\u001b[39m\u001b[39m.\u001b[39mtransformer \u001b[39melse\u001b[39;00m data\n\u001b[0;32m    145\u001b[0m \u001b[39mfor\u001b[39;00m executor \u001b[39min\u001b[39;00m \u001b[39mself\u001b[39m\u001b[39m.\u001b[39mexecutors:\n\u001b[1;32m--> 146\u001b[0m     experiment_data \u001b[39m=\u001b[39m executor\u001b[39m.\u001b[39;49mexecute(experiment_data)\n\u001b[0;32m    147\u001b[0m \u001b[39mreturn\u001b[39;00m experiment_data\n",
      "File \u001b[1;32mc:\\Projects\\HypEx\\hypex\\experiment\\experiment.py:224\u001b[0m, in \u001b[0;36mOnRoleExperiment.execute\u001b[1;34m(self, data)\u001b[0m\n\u001b[0;32m    222\u001b[0m \u001b[39mfor\u001b[39;00m field \u001b[39min\u001b[39;00m data\u001b[39m.\u001b[39mget_columns_by_roles(\u001b[39mself\u001b[39m\u001b[39m.\u001b[39mrole):\n\u001b[0;32m    223\u001b[0m     data\u001b[39m.\u001b[39mdata\u001b[39m.\u001b[39mtmp_roles \u001b[39m=\u001b[39m {field: TempTargetRole}\n\u001b[1;32m--> 224\u001b[0m     data \u001b[39m=\u001b[39m \u001b[39msuper\u001b[39;49m()\u001b[39m.\u001b[39;49mexecute(data)\n\u001b[0;32m    225\u001b[0m     data\u001b[39m.\u001b[39mdata\u001b[39m.\u001b[39mtmp_roles \u001b[39m=\u001b[39m {}\n\u001b[0;32m    226\u001b[0m \u001b[39mreturn\u001b[39;00m data\n",
      "File \u001b[1;32mc:\\Projects\\HypEx\\hypex\\experiment\\experiment.py:146\u001b[0m, in \u001b[0;36mExperiment.execute\u001b[1;34m(self, data)\u001b[0m\n\u001b[0;32m    144\u001b[0m experiment_data \u001b[39m=\u001b[39m deepcopy(data) \u001b[39mif\u001b[39;00m \u001b[39mself\u001b[39m\u001b[39m.\u001b[39mtransformer \u001b[39melse\u001b[39;00m data\n\u001b[0;32m    145\u001b[0m \u001b[39mfor\u001b[39;00m executor \u001b[39min\u001b[39;00m \u001b[39mself\u001b[39m\u001b[39m.\u001b[39mexecutors:\n\u001b[1;32m--> 146\u001b[0m     experiment_data \u001b[39m=\u001b[39m executor\u001b[39m.\u001b[39;49mexecute(experiment_data)\n\u001b[0;32m    147\u001b[0m \u001b[39mreturn\u001b[39;00m experiment_data\n",
      "File \u001b[1;32mc:\\Projects\\HypEx\\hypex\\comparators\\comparators.py:54\u001b[0m, in \u001b[0;36mGroupComparator.execute\u001b[1;34m(self, data)\u001b[0m\n\u001b[0;32m     53\u001b[0m \u001b[39mdef\u001b[39;00m \u001b[39mexecute\u001b[39m(\u001b[39mself\u001b[39m, data: ExperimentData) \u001b[39m-\u001b[39m\u001b[39m>\u001b[39m ExperimentData:\n\u001b[1;32m---> 54\u001b[0m     compare_result \u001b[39m=\u001b[39m \u001b[39mself\u001b[39;49m\u001b[39m.\u001b[39;49m_compare(data)\n\u001b[0;32m     55\u001b[0m     result_dataset \u001b[39m=\u001b[39m \u001b[39mself\u001b[39m\u001b[39m.\u001b[39m_extract_dataset(compare_result)\n\u001b[0;32m     56\u001b[0m     \u001b[39mreturn\u001b[39;00m \u001b[39mself\u001b[39m\u001b[39m.\u001b[39m_set_value(data, result_dataset)\n",
      "File \u001b[1;32mc:\\Projects\\HypEx\\hypex\\comparators\\comparators.py:32\u001b[0m, in \u001b[0;36mGroupComparator._compare\u001b[1;34m(self, data)\u001b[0m\n\u001b[0;32m     30\u001b[0m group_field \u001b[39m=\u001b[39m data\u001b[39m.\u001b[39mget_columns_by_roles(GroupingRole)\n\u001b[0;32m     31\u001b[0m \u001b[39mself\u001b[39m\u001b[39m.\u001b[39mkey \u001b[39m=\u001b[39m \u001b[39mstr\u001b[39m(group_field)\n\u001b[1;32m---> 32\u001b[0m target_field \u001b[39m=\u001b[39m data\u001b[39m.\u001b[39;49mget_columns_by_roles(TempTargetRole(), tmp_role\u001b[39m=\u001b[39;49m\u001b[39mTrue\u001b[39;49;00m)[\u001b[39m0\u001b[39;49m]\n\u001b[0;32m     33\u001b[0m grouping_data \u001b[39m=\u001b[39m \u001b[39mlist\u001b[39m(data\u001b[39m.\u001b[39mgroupby(group_field))\n\u001b[0;32m     34\u001b[0m \u001b[39mreturn\u001b[39;00m {\n\u001b[0;32m     35\u001b[0m     grouping_data[i][\u001b[39m0\u001b[39m]: \u001b[39mself\u001b[39m\u001b[39m.\u001b[39m_comparison_function(\n\u001b[0;32m     36\u001b[0m         grouping_data[\u001b[39m0\u001b[39m][\u001b[39m1\u001b[39m][target_field],\n\u001b[1;32m   (...)\u001b[0m\n\u001b[0;32m     39\u001b[0m     \u001b[39mfor\u001b[39;00m i \u001b[39min\u001b[39;00m \u001b[39mrange\u001b[39m(\u001b[39m1\u001b[39m, \u001b[39mlen\u001b[39m(grouping_data))\n\u001b[0;32m     40\u001b[0m }\n",
      "\u001b[1;31mIndexError\u001b[0m: list index out of range"
     ]
    }
   ],
   "source": [
    "test = AA_TEST\n",
    "ed = ExperimentData(data)\n",
    "result = test.execute(ed)"
   ]
  },
  {
   "cell_type": "code",
   "execution_count": null,
   "metadata": {},
   "outputs": [
    {
     "ename": "AttributeError",
     "evalue": "'DataFrame' object has no attribute 'data'",
     "output_type": "error",
     "traceback": [
      "\u001b[1;31m---------------------------------------------------------------------------\u001b[0m",
      "\u001b[1;31mAttributeError\u001b[0m                            Traceback (most recent call last)",
      "\u001b[1;32m~\\AppData\\Local\\Temp\\ipykernel_23808\\3345272840.py\u001b[0m in \u001b[0;36m?\u001b[1;34m()\u001b[0m\n\u001b[1;32m----> 1\u001b[1;33m \u001b[0med\u001b[0m\u001b[1;33m.\u001b[0m\u001b[0mdata\u001b[0m\u001b[1;33m.\u001b[0m\u001b[0mdata\u001b[0m\u001b[1;33m.\u001b[0m\u001b[0msample\u001b[0m\u001b[1;33m(\u001b[0m\u001b[0mfrac\u001b[0m\u001b[1;33m=\u001b[0m\u001b[1;36m1\u001b[0m\u001b[1;33m,\u001b[0m \u001b[0mrandom_state\u001b[0m\u001b[1;33m=\u001b[0m\u001b[1;36m1\u001b[0m\u001b[1;33m)\u001b[0m\u001b[1;33m\u001b[0m\u001b[1;33m\u001b[0m\u001b[0m\n\u001b[0m",
      "\u001b[1;32m~\\AppData\\Roaming\\Python\\Python310\\site-packages\\pandas\\core\\generic.py\u001b[0m in \u001b[0;36m?\u001b[1;34m(self, name)\u001b[0m\n\u001b[0;32m   6200\u001b[0m             \u001b[1;32mand\u001b[0m \u001b[0mname\u001b[0m \u001b[1;32mnot\u001b[0m \u001b[1;32min\u001b[0m \u001b[0mself\u001b[0m\u001b[1;33m.\u001b[0m\u001b[0m_accessors\u001b[0m\u001b[1;33m\u001b[0m\u001b[1;33m\u001b[0m\u001b[0m\n\u001b[0;32m   6201\u001b[0m             \u001b[1;32mand\u001b[0m \u001b[0mself\u001b[0m\u001b[1;33m.\u001b[0m\u001b[0m_info_axis\u001b[0m\u001b[1;33m.\u001b[0m\u001b[0m_can_hold_identifiers_and_holds_name\u001b[0m\u001b[1;33m(\u001b[0m\u001b[0mname\u001b[0m\u001b[1;33m)\u001b[0m\u001b[1;33m\u001b[0m\u001b[1;33m\u001b[0m\u001b[0m\n\u001b[0;32m   6202\u001b[0m         ):\n\u001b[0;32m   6203\u001b[0m             \u001b[1;32mreturn\u001b[0m \u001b[0mself\u001b[0m\u001b[1;33m[\u001b[0m\u001b[0mname\u001b[0m\u001b[1;33m]\u001b[0m\u001b[1;33m\u001b[0m\u001b[1;33m\u001b[0m\u001b[0m\n\u001b[1;32m-> 6204\u001b[1;33m         \u001b[1;32mreturn\u001b[0m \u001b[0mobject\u001b[0m\u001b[1;33m.\u001b[0m\u001b[0m__getattribute__\u001b[0m\u001b[1;33m(\u001b[0m\u001b[0mself\u001b[0m\u001b[1;33m,\u001b[0m \u001b[0mname\u001b[0m\u001b[1;33m)\u001b[0m\u001b[1;33m\u001b[0m\u001b[1;33m\u001b[0m\u001b[0m\n\u001b[0m",
      "\u001b[1;31mAttributeError\u001b[0m: 'DataFrame' object has no attribute 'data'"
     ]
    }
   ],
   "source": [
    "ed.data.data.sample(frac=1, random_state=1)"
   ]
  },
  {
   "cell_type": "code",
   "execution_count": null,
   "metadata": {},
   "outputs": [],
   "source": [
    "control_std = control_group.std()\n",
    "test_std = test_group.std()\n",
    "\n",
    "test_proportion = len(test_group) / (len(test_group) + len(control_group))\n",
    "control_proportion = 1 - test_proportion\n",
    "\n",
    "d = ((norm.ppf(1 - significance / 2) + norm.ppf(power)) / mde) ** 2\n",
    "s = test_std**2 / test_proportion + control_std**2 / control_proportion\n",
    "return d * s"
   ]
  }
 ],
 "metadata": {
  "kernelspec": {
   "display_name": "Python 3",
   "language": "python",
   "name": "python3"
  },
  "language_info": {
   "codemirror_mode": {
    "name": "ipython",
    "version": 3
   },
   "file_extension": ".py",
   "mimetype": "text/x-python",
   "name": "python",
   "nbconvert_exporter": "python",
   "pygments_lexer": "ipython3",
   "version": "3.10.11"
  }
 },
 "nbformat": 4,
 "nbformat_minor": 2
}
