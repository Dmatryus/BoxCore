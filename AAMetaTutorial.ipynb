{
 "cells": [
  {
   "cell_type": "code",
   "execution_count": 15,
   "metadata": {
    "ExecuteTime": {
     "end_time": "2024-04-10T10:31:18.588945200Z",
     "start_time": "2024-04-10T10:31:18.549909900Z"
    }
   },
   "outputs": [],
   "source": [
    "from hypex.dataset.dataset import Dataset, ExperimentData\n",
    "from hypex.dataset.roles import (\n",
    "    InfoRole,\n",
    "    FeatureRole,\n",
    "    TreatmentRole,\n",
    "    TargetRole,\n",
    ")\n",
    "from hypex.experiments.aa_test import AA_TEST\n",
    "from hypex.reporters.aa import AADictReporter"
   ]
  },
  {
   "cell_type": "code",
   "execution_count": 16,
   "metadata": {
    "ExecuteTime": {
     "end_time": "2024-04-10T10:31:18.643217100Z",
     "start_time": "2024-04-10T10:31:18.563744900Z"
    }
   },
   "outputs": [
    {
     "data": {
      "text/plain": "      user_id  signup_month  treat  pre_spends  post_spends   age gender  \\\n0           0             0      0       488.0   414.444444   NaN      M   \n1           1             8      1       512.5   462.222222  26.0    NaN   \n2           2             7      1       483.0   479.444444  25.0      M   \n3           3             0      0       501.5   424.333333  39.0      M   \n4           4             1      1       543.0   514.555556  18.0      F   \n...       ...           ...    ...         ...          ...   ...    ...   \n9995     9995            10      1       538.5   450.444444  42.0      M   \n9996     9996             0      0       500.5   430.888889  26.0      F   \n9997     9997             3      1       473.0   534.111111  22.0      F   \n9998     9998             2      1       495.0   523.222222  67.0      F   \n9999     9999             7      1       508.0   475.888889  38.0      F   \n\n        industry  \n0     E-commerce  \n1     E-commerce  \n2      Logistics  \n3     E-commerce  \n4     E-commerce  \n...          ...  \n9995   Logistics  \n9996   Logistics  \n9997  E-commerce  \n9998  E-commerce  \n9999  E-commerce  \n\n[10000 rows x 8 columns]"
     },
     "execution_count": 16,
     "metadata": {},
     "output_type": "execute_result"
    }
   ],
   "source": [
    "data = Dataset(\n",
    "    roles={\n",
    "        \"user_id\": InfoRole(),\n",
    "        \"signup_month\": FeatureRole(),\n",
    "        \"treat\": TreatmentRole(),\n",
    "        \"pre_spends\": TargetRole(),\n",
    "        \"post_spends\": TargetRole(),\n",
    "        \"age\": FeatureRole(),\n",
    "        \"gender\": FeatureRole(),\n",
    "        \"industry\": FeatureRole(),\n",
    "    }, data=\"data.csv\",\n",
    ")\n",
    "data"
   ]
  },
  {
   "cell_type": "code",
   "execution_count": 17,
   "metadata": {
    "ExecuteTime": {
     "end_time": "2024-04-10T10:31:18.721329200Z",
     "start_time": "2024-04-10T10:31:18.629544100Z"
    }
   },
   "outputs": [
    {
     "data": {
      "text/plain": "{'user_id': Info,\n 'signup_month': Feature,\n 'treat': Treatment,\n 'pre_spends': Target,\n 'post_spends': Target,\n 'age': Feature,\n 'gender': Feature,\n 'industry': Feature}"
     },
     "execution_count": 17,
     "metadata": {},
     "output_type": "execute_result"
    }
   ],
   "source": [
    "data.roles"
   ]
  },
  {
   "cell_type": "code",
   "execution_count": 18,
   "metadata": {
    "ExecuteTime": {
     "end_time": "2024-04-10T10:31:18.800640500Z",
     "start_time": "2024-04-10T10:31:18.660824800Z"
    }
   },
   "outputs": [],
   "source": [
    "test = AA_TEST\n",
    "ed = ExperimentData(data)\n",
    "result = test.execute(ed)"
   ]
  },
  {
   "cell_type": "code",
   "execution_count": 19,
   "metadata": {
    "ExecuteTime": {
     "end_time": "2024-04-10T10:31:18.855813200Z",
     "start_time": "2024-04-10T10:31:18.798760800Z"
    }
   },
   "outputs": [
    {
     "data": {
      "text/plain": "   TTest p-value  TTest pass  KSTest p-value  KSTest pass  mean test score\n0       0.173506         0.0        0.215686          0.0         0.201626"
     },
     "execution_count": 19,
     "metadata": {},
     "output_type": "execute_result"
    }
   ],
   "source": [
    "result.analysis_tables['OneAASplitAnalyzer╰╰']"
   ]
  },
  {
   "cell_type": "code",
   "execution_count": 20,
   "metadata": {
    "collapsed": false,
    "ExecuteTime": {
     "end_time": "2024-04-10T10:31:18.889918400Z",
     "start_time": "2024-04-10T10:31:18.828503Z"
    }
   },
   "outputs": [
    {
     "data": {
      "text/plain": "{'random_state': None,\n 'B pre_spends control mean': 487.3426,\n 'B pre_spends difference': -0.4977000000000089,\n 'B pre_spends difference %': -0.10212528106511298,\n 'B pre_spends test mean': 486.8449,\n 'B post_spends control mean': 452.7185777777778,\n 'B post_spends difference': -1.108044444444488,\n 'B post_spends difference %': -0.24475347353392074,\n 'B post_spends test mean': 451.6105333333333}"
     },
     "execution_count": 20,
     "metadata": {},
     "output_type": "execute_result"
    }
   ],
   "source": [
    "AADictReporter().report(result)"
   ]
  },
  {
   "cell_type": "code",
   "execution_count": 21,
   "metadata": {
    "ExecuteTime": {
     "end_time": "2024-04-10T10:31:18.891919500Z",
     "start_time": "2024-04-10T10:31:18.861030800Z"
    }
   },
   "outputs": [
    {
     "data": {
      "text/plain": "{'backend': 'pandas',\n 'roles': {'role_names': ['B'], 'columns': [Statistic]},\n 'data': {'data': {'B': [452.7185777777778,\n    -1.108044444444488,\n    -0.24475347353392074,\n    451.6105333333333]},\n  'index': ['post_spends control mean',\n   'post_spends difference',\n   'post_spends difference %',\n   'post_spends test mean']}}"
     },
     "execution_count": 21,
     "metadata": {},
     "output_type": "execute_result"
    }
   ],
   "source": [
    "result.analysis_tables['GroupDifference╰╰post_spends[A]'].to_dict()"
   ]
  },
  {
   "cell_type": "code",
   "execution_count": 22,
   "metadata": {
    "ExecuteTime": {
     "end_time": "2024-04-10T10:31:19.026542100Z",
     "start_time": "2024-04-10T10:31:18.878870800Z"
    }
   },
   "outputs": [],
   "source": [
    "from hypex.experiments.ab_test import AB_TEST\n",
    "\n",
    "test = AB_TEST\n",
    "ed = ExperimentData(data)\n",
    "result = test.execute(ed)"
   ]
  },
  {
   "cell_type": "code",
   "outputs": [
    {
     "data": {
      "text/plain": "   TTest p-value  TTest pass  MannWhitney p-value  MannWhitney pass  \\\n0   1.157524e-30         1.0         3.812131e-12               1.0   \n\n   GroupATE pre_spends  GroupATE post_spends  \n0            487.09375            452.164556  "
     },
     "execution_count": 23,
     "metadata": {},
     "output_type": "execute_result"
    }
   ],
   "source": [
    "result.analysis_tables['ABAnalyzer╰╰']"
   ],
   "metadata": {
    "collapsed": false,
    "ExecuteTime": {
     "end_time": "2024-04-10T10:31:19.089871Z",
     "start_time": "2024-04-10T10:31:19.031123Z"
    }
   },
   "execution_count": 23
  },
  {
   "cell_type": "code",
   "outputs": [],
   "source": [
    "from hypex.experiments.homogeneity_test import HOMOGENEITY_TEST\n",
    "\n",
    "test = HOMOGENEITY_TEST\n",
    "ed = ExperimentData(data)\n",
    "result = test.execute(ed)"
   ],
   "metadata": {
    "collapsed": false,
    "ExecuteTime": {
     "end_time": "2024-04-10T10:31:19.497695100Z",
     "start_time": "2024-04-10T10:31:19.065570600Z"
    }
   },
   "execution_count": 24
  },
  {
   "cell_type": "code",
   "outputs": [
    {
     "data": {
      "text/plain": "{'GroupDifference╰╰pre_spends[[]':                                   1\n pre_spends control mean  484.911973\n pre_spends difference      4.308406\n pre_spends difference %    0.888492\n pre_spends test mean     489.220379,\n 'TTest╰╰pre_spends[[]':    group  statistic       p-value  pass\n 0      1 -11.489293  2.315047e-30  True,\n 'KSTest╰╰pre_spends[[]':    group  statistic       p-value  pass\n 0      1   0.077573  1.559150e-13  True,\n 'GroupDifference╰╰post_spends[[]':                                    1\n post_spends control mean  420.046619\n post_spends difference     63.424045\n post_spends difference %   15.099287\n post_spends test mean     483.470664,\n 'TTest╰╰post_spends[[]':    group   statistic  p-value  pass\n 0      1 -135.560001      0.0  True,\n 'KSTest╰╰post_spends[[]':    group  statistic  p-value  pass\n 0      1     0.8959      0.0  True,\n 'OneAASplitAnalyzer╰╰':    TTest p-value  TTest pass  KSTest p-value  KSTest pass  mean test score\n 0   1.157524e-30         1.0    7.795751e-14          1.0     5.197167e-14}"
     },
     "execution_count": 25,
     "metadata": {},
     "output_type": "execute_result"
    }
   ],
   "source": [
    "result.analysis_tables"
   ],
   "metadata": {
    "collapsed": false,
    "ExecuteTime": {
     "end_time": "2024-04-10T10:31:19.543186600Z",
     "start_time": "2024-04-10T10:31:19.499522700Z"
    }
   },
   "execution_count": 25
  },
  {
   "cell_type": "code",
   "outputs": [],
   "source": [
    "import pandas as pd\n",
    "import warnings\n",
    "warnings.simplefilter(action='ignore', category=pd.errors.PerformanceWarning)\n",
    "\n",
    "from hypex.comparators.hypothesis_testing import TTest, KSTest\n",
    "from hypex.comparators.comparators import GroupSizes, GroupDifference\n",
    "from hypex.utils.enums import SpaceEnum\n",
    "from hypex.splitters.aa import AASplitter\n",
    "from hypex.analyzers.aa import OneAASplitAnalyzer\n",
    "from hypex.experiments.base import CycledExperiment, Experiment, OnRoleExperiment \n",
    "\n",
    "aa = Experiment(\n",
    "    executors=[\n",
    "        AASplitter(),\n",
    "        OnRoleExperiment(\n",
    "            executors=[ \n",
    "                GroupSizes(grouping_role=TreatmentRole(), space=SpaceEnum.additional), \n",
    "                GroupDifference(grouping_role=TreatmentRole(), space=SpaceEnum.additional),\n",
    "                TTest(grouping_role=TreatmentRole(), space=SpaceEnum.additional),\n",
    "                KSTest(grouping_role=TreatmentRole(), space=SpaceEnum.additional),\n",
    "            ],\n",
    "            role=TargetRole(),\n",
    "        )\n",
    "    ]\n",
    ")\n",
    "experiment = CycledExperiment(n_iterations=2, inner_executor=aa, analyzer=OneAASplitAnalyzer()) \n",
    "ed = ExperimentData(data)\n",
    "res = experiment.execute(ed)"
   ],
   "metadata": {
    "collapsed": false,
    "ExecuteTime": {
     "end_time": "2024-04-10T10:31:19.779465600Z",
     "start_time": "2024-04-10T10:31:19.552451Z"
    }
   },
   "execution_count": 26
  },
  {
   "cell_type": "code",
   "outputs": [
    {
     "data": {
      "text/plain": "{'GroupSizes╰╰pre_spends[A]0':                      B\n control size    5000.0\n control size %    50.0\n test size       5000.0\n test size %       50.0,\n 'GroupDifference╰╰pre_spends[A]0':                                   B\n pre_spends control mean  487.342600\n pre_spends difference     -0.497700\n pre_spends difference %   -0.102125\n pre_spends test mean     486.844900,\n 'TTest╰╰pre_spends[A]0':   group  statistic   p-value   pass\n 0     B   1.318771  0.187276  False,\n 'KSTest╰╰pre_spends[A]0':   group  statistic   p-value   pass\n 0     B      0.021  0.220219  False,\n 'GroupSizes╰╰post_spends[A]0':                      B\n control size    5000.0\n control size %    50.0\n test size       5000.0\n test size %       50.0,\n 'GroupDifference╰╰post_spends[A]0':                                    B\n post_spends control mean  452.718578\n post_spends difference     -1.108044\n post_spends difference %   -0.244753\n post_spends test mean     451.610533,\n 'TTest╰╰post_spends[A]0':   group  statistic   p-value   pass\n 0     B   1.406066  0.159736  False,\n 'KSTest╰╰post_spends[A]0':   group  statistic   p-value   pass\n 0     B     0.0212  0.211152  False,\n 'OneAASplitAnalyzer╰╰0':    TTest p-value  TTest pass  KSTest p-value  KSTest pass  mean test score\n 0       0.173506         0.0        0.215686          0.0         0.201626,\n 'GroupSizes╰╰pre_spends[A]1':                      B\n control size    5000.0\n control size %    50.0\n test size       5000.0\n test size %       50.0,\n 'GroupDifference╰╰pre_spends[A]1':                                   B\n pre_spends control mean  487.342600\n pre_spends difference     -0.497700\n pre_spends difference %   -0.102125\n pre_spends test mean     486.844900,\n 'TTest╰╰pre_spends[A]1':   group  statistic   p-value   pass\n 0     B   1.318771  0.187276  False,\n 'KSTest╰╰pre_spends[A]1':   group  statistic   p-value   pass\n 0     B      0.021  0.220219  False,\n 'GroupSizes╰╰post_spends[A]1':                      B\n control size    5000.0\n control size %    50.0\n test size       5000.0\n test size %       50.0,\n 'GroupDifference╰╰post_spends[A]1':                                    B\n post_spends control mean  452.718578\n post_spends difference     -1.108044\n post_spends difference %   -0.244753\n post_spends test mean     451.610533,\n 'TTest╰╰post_spends[A]1':   group  statistic   p-value   pass\n 0     B   1.406066  0.159736  False,\n 'KSTest╰╰post_spends[A]1':   group  statistic   p-value   pass\n 0     B     0.0212  0.211152  False,\n 'OneAASplitAnalyzer╰╰1':    TTest p-value  TTest pass  KSTest p-value  KSTest pass  mean test score\n 0       0.173506         0.0        0.215686          0.0         0.201626}"
     },
     "execution_count": 27,
     "metadata": {},
     "output_type": "execute_result"
    }
   ],
   "source": [
    "res.analysis_tables"
   ],
   "metadata": {
    "collapsed": false,
    "ExecuteTime": {
     "end_time": "2024-04-10T10:31:19.895151200Z",
     "start_time": "2024-04-10T10:31:19.792277100Z"
    }
   },
   "execution_count": 27
  },
  {
   "cell_type": "code",
   "outputs": [
    {
     "data": {
      "text/plain": "{'pre_spends':       KSTest  TTest  TTest passed  KSTest passed\n mean     0.0    0.0             0              0,\n 'post_spends':       KSTest  TTest  TTest passed  KSTest passed\n mean     0.0    0.0             0              0}"
     },
     "execution_count": 28,
     "metadata": {},
     "output_type": "execute_result"
    }
   ],
   "source": [
    "# analyser version\n",
    "\n",
    "from hypex.dataset.roles import StatisticRole\n",
    "\n",
    "new_res = {}\n",
    "fields = ['pre_spends', 'post_spends'] # получаем столбцы по TargetRole \n",
    "tests = ['KSTest', 'TTest']\n",
    "for j in fields:\n",
    "    for i in list(res.analysis_tables.keys()):  \n",
    "        if j in i and i.split('╰╰')[0] in tests: \n",
    "            test = i.split('╰╰')[0]\n",
    "            if j not in new_res: \n",
    "                new_res[j] = {test: []}\n",
    "            elif test not in new_res[j]: \n",
    "                new_res[j].update({test: []}) \n",
    "            new_res[j][test].append(list(res.analysis_tables[i].data['pass'])[0])\n",
    "    new_res[j] = Dataset.from_dict(new_res[j], roles={}).mean()\n",
    "    new_res[j].add_column(new_res[j].apply(\n",
    "                lambda x: int(0.8 * 0.05 <= x['TTest'] <= 1.2 * 0.05), {'TTest passed': StatisticRole()}, axis=1\n",
    "            ))\n",
    "    new_res[j].add_column(new_res[j].apply(\n",
    "                lambda x: int(0.8 * 0.05 <= x['KSTest'] <= 1.2 * 0.05), {'KSTest passed': StatisticRole()}, axis=1\n",
    "            ))\n",
    "new_res"
   ],
   "metadata": {
    "collapsed": false,
    "ExecuteTime": {
     "end_time": "2024-04-10T10:31:19.958635500Z",
     "start_time": "2024-04-10T10:31:19.890166100Z"
    }
   },
   "execution_count": 28
  },
  {
   "cell_type": "code",
   "outputs": [],
   "source": [],
   "metadata": {
    "collapsed": false,
    "ExecuteTime": {
     "end_time": "2024-04-10T10:31:19.963969900Z",
     "start_time": "2024-04-10T10:31:19.950430400Z"
    }
   },
   "execution_count": 28
  }
 ],
 "metadata": {
  "kernelspec": {
   "display_name": "Python 3",
   "language": "python",
   "name": "python3"
  },
  "language_info": {
   "codemirror_mode": {
    "name": "ipython",
    "version": 3
   },
   "file_extension": ".py",
   "mimetype": "text/x-python",
   "name": "python",
   "nbconvert_exporter": "python",
   "pygments_lexer": "ipython3",
   "version": "3.10.11"
  }
 },
 "nbformat": 4,
 "nbformat_minor": 2
}
