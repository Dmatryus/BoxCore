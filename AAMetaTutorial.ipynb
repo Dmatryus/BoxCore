{
 "cells": [
  {
   "cell_type": "code",
   "execution_count": 1,
   "metadata": {},
   "outputs": [],
   "source": [
    "from hypex.dataset.dataset import Dataset, ExperimentData\n",
    "from hypex.experiments.aa_test import AA_TEST\n",
    "from hypex.dataset.roles import (\n",
    "    InfoRole,\n",
    "    FeatureRole,\n",
    "    TreatmentRole,\n",
    "    PreTargetRole,\n",
    "    TargetRole,\n",
    "    GroupingRole\n",
    ")"
   ]
  },
  {
   "cell_type": "code",
   "execution_count": 2,
   "metadata": {},
   "outputs": [
    {
     "data": {
      "text/plain": [
       "      user_id  signup_month  treat  pre_spends  post_spends   age gender  \\\n",
       "0           0             0      0       488.0   414.444444   NaN      M   \n",
       "1           1             8      1       512.5   462.222222  26.0    NaN   \n",
       "2           2             7      1       483.0   479.444444  25.0      M   \n",
       "3           3             0      0       501.5   424.333333  39.0      M   \n",
       "4           4             1      1       543.0   514.555556  18.0      F   \n",
       "...       ...           ...    ...         ...          ...   ...    ...   \n",
       "9995     9995            10      1       538.5   450.444444  42.0      M   \n",
       "9996     9996             0      0       500.5   430.888889  26.0      F   \n",
       "9997     9997             3      1       473.0   534.111111  22.0      F   \n",
       "9998     9998             2      1       495.0   523.222222  67.0      F   \n",
       "9999     9999             7      1       508.0   475.888889  38.0      F   \n",
       "\n",
       "        industry  \n",
       "0     E-commerce  \n",
       "1     E-commerce  \n",
       "2      Logistics  \n",
       "3     E-commerce  \n",
       "4     E-commerce  \n",
       "...          ...  \n",
       "9995   Logistics  \n",
       "9996   Logistics  \n",
       "9997  E-commerce  \n",
       "9998  E-commerce  \n",
       "9999  E-commerce  \n",
       "\n",
       "[10000 rows x 8 columns]"
      ]
     },
     "execution_count": 2,
     "metadata": {},
     "output_type": "execute_result"
    }
   ],
   "source": [
    "# data = Dataset(\n",
    "#     \"data.csv\",\n",
    "#     roles={\n",
    "#         \"user_id\": InfoRole(),\n",
    "#         \"signup_month\": FeatureRole(),\n",
    "#         \"treat\": TreatmentRole(),\n",
    "#         \"pre_spends\": PreTargetRole(),\n",
    "#         \"post_spends\": TargetRole(),\n",
    "#         \"age\": FeatureRole(),\n",
    "#         \"gender\": FeatureRole(),\n",
    "#         \"industry\": FeatureRole(),\n",
    "#     },\n",
    "# )\n",
    "# data\n",
    "\n",
    "data = Dataset(\n",
    "    \"data.csv\",\n",
    "    roles={\n",
    "        \"user_id\": InfoRole(),\n",
    "        \"signup_month\": TargetRole(),\n",
    "        \"treat\": TreatmentRole(),\n",
    "        \"pre_spends\": PreTargetRole(),\n",
    "        \"post_spends\": TargetRole(),\n",
    "        \"age\": TargetRole(),\n",
    "        \"gender\": GroupingRole(),\n",
    "        \"industry\": GroupingRole(),\n",
    "    },\n",
    ")\n",
    "data"
   ]
  },
  {
   "cell_type": "code",
   "execution_count": 3,
   "metadata": {},
   "outputs": [
    {
     "data": {
      "text/plain": [
       "{'user_id': <hypex.dataset.roles.InfoRole at 0x1f30527e2c0>,\n",
       " 'signup_month': <hypex.dataset.roles.TargetRole at 0x1f30527f460>,\n",
       " 'treat': <hypex.dataset.roles.TreatmentRole at 0x1f30527f790>,\n",
       " 'pre_spends': <hypex.dataset.roles.PreTargetRole at 0x1f30527f7f0>,\n",
       " 'post_spends': <hypex.dataset.roles.TargetRole at 0x1f30527f850>,\n",
       " 'age': <hypex.dataset.roles.TargetRole at 0x1f30527e320>,\n",
       " 'gender': <hypex.dataset.roles.GroupingRole at 0x1f30527e380>,\n",
       " 'industry': <hypex.dataset.roles.GroupingRole at 0x1f30527fa00>}"
      ]
     },
     "execution_count": 3,
     "metadata": {},
     "output_type": "execute_result"
    }
   ],
   "source": [
    "data.roles"
   ]
  },
  {
   "cell_type": "code",
   "execution_count": 4,
   "metadata": {},
   "outputs": [
    {
     "name": "stderr",
     "output_type": "stream",
     "text": [
      "c:\\Projects\\HypEx\\hypex\\dataset\\dataset.py:61: UserWarning: Didn't add roles for experiment estimation. This fact can lead to incorrect operation of the pipeline. \n",
      "  warnings.warn(\n",
      "c:\\Projects\\HypEx\\hypex\\dataset\\dataset.py:61: UserWarning: Didn't add roles for experiment estimation. This fact can lead to incorrect operation of the pipeline. \n",
      "  warnings.warn(\n",
      "c:\\Projects\\HypEx\\hypex\\dataset\\dataset.py:61: UserWarning: Didn't add roles for experiment estimation. This fact can lead to incorrect operation of the pipeline. \n",
      "  warnings.warn(\n",
      "c:\\Projects\\HypEx\\hypex\\dataset\\backends\\pandas_backend.py:120: FutureWarning: The 'axis' keyword in DataFrame.groupby is deprecated and will be removed in a future version.\n",
      "  groups = self.data.groupby(by, axis, **kwargs)\n",
      "c:\\Projects\\HypEx\\hypex\\dataset\\dataset.py:61: UserWarning: Didn't add roles for experiment estimation. This fact can lead to incorrect operation of the pipeline. \n",
      "  warnings.warn(\n",
      "c:\\Projects\\HypEx\\hypex\\dataset\\backends\\pandas_backend.py:120: FutureWarning: The 'axis' keyword in DataFrame.groupby is deprecated and will be removed in a future version.\n",
      "  groups = self.data.groupby(by, axis, **kwargs)\n"
     ]
    },
    {
     "ename": "RoleColumnError",
     "evalue": "Check your roles. All of them must be names of data columns. \nNow roles have [0] values and columns have Index(['signup_month'], dtype='object') values",
     "output_type": "error",
     "traceback": [
      "\u001b[1;31m---------------------------------------------------------------------------\u001b[0m",
      "\u001b[1;31mRoleColumnError\u001b[0m                           Traceback (most recent call last)",
      "\u001b[1;32mc:\\Projects\\HypEx\\AAMetaTutorial.ipynb Cell 4\u001b[0m line \u001b[0;36m3\n\u001b[0;32m      <a href='vscode-notebook-cell:/c%3A/Projects/HypEx/AAMetaTutorial.ipynb#W3sZmlsZQ%3D%3D?line=0'>1</a>\u001b[0m test \u001b[39m=\u001b[39m AA_TEST\n\u001b[0;32m      <a href='vscode-notebook-cell:/c%3A/Projects/HypEx/AAMetaTutorial.ipynb#W3sZmlsZQ%3D%3D?line=1'>2</a>\u001b[0m ed \u001b[39m=\u001b[39m ExperimentData(data)\n\u001b[1;32m----> <a href='vscode-notebook-cell:/c%3A/Projects/HypEx/AAMetaTutorial.ipynb#W3sZmlsZQ%3D%3D?line=2'>3</a>\u001b[0m result \u001b[39m=\u001b[39m test\u001b[39m.\u001b[39;49mexecute(ed)\n",
      "File \u001b[1;32mc:\\Projects\\HypEx\\hypex\\experiment\\experiment.py:146\u001b[0m, in \u001b[0;36mExperiment.execute\u001b[1;34m(self, data)\u001b[0m\n\u001b[0;32m    144\u001b[0m experiment_data \u001b[39m=\u001b[39m deepcopy(data) \u001b[39mif\u001b[39;00m \u001b[39mself\u001b[39m\u001b[39m.\u001b[39mtransformer \u001b[39melse\u001b[39;00m data\n\u001b[0;32m    145\u001b[0m \u001b[39mfor\u001b[39;00m executor \u001b[39min\u001b[39;00m \u001b[39mself\u001b[39m\u001b[39m.\u001b[39mexecutors:\n\u001b[1;32m--> 146\u001b[0m     experiment_data \u001b[39m=\u001b[39m executor\u001b[39m.\u001b[39;49mexecute(experiment_data)\n\u001b[0;32m    147\u001b[0m \u001b[39mreturn\u001b[39;00m experiment_data\n",
      "File \u001b[1;32mc:\\Projects\\HypEx\\hypex\\experiment\\experiment.py:224\u001b[0m, in \u001b[0;36mOnRoleExperiment.execute\u001b[1;34m(self, data)\u001b[0m\n\u001b[0;32m    222\u001b[0m \u001b[39mfor\u001b[39;00m field \u001b[39min\u001b[39;00m data\u001b[39m.\u001b[39mget_columns_by_roles(\u001b[39mself\u001b[39m\u001b[39m.\u001b[39mrole):\n\u001b[0;32m    223\u001b[0m     data\u001b[39m.\u001b[39mtmp_roles \u001b[39m=\u001b[39m {field: TempTargetRole()}\n\u001b[1;32m--> 224\u001b[0m     data \u001b[39m=\u001b[39m \u001b[39msuper\u001b[39;49m()\u001b[39m.\u001b[39;49mexecute(data)\n\u001b[0;32m    225\u001b[0m     data\u001b[39m.\u001b[39mtmp_roles \u001b[39m=\u001b[39m {}\n\u001b[0;32m    226\u001b[0m \u001b[39mreturn\u001b[39;00m data\n",
      "File \u001b[1;32mc:\\Projects\\HypEx\\hypex\\experiment\\experiment.py:146\u001b[0m, in \u001b[0;36mExperiment.execute\u001b[1;34m(self, data)\u001b[0m\n\u001b[0;32m    144\u001b[0m experiment_data \u001b[39m=\u001b[39m deepcopy(data) \u001b[39mif\u001b[39;00m \u001b[39mself\u001b[39m\u001b[39m.\u001b[39mtransformer \u001b[39melse\u001b[39;00m data\n\u001b[0;32m    145\u001b[0m \u001b[39mfor\u001b[39;00m executor \u001b[39min\u001b[39;00m \u001b[39mself\u001b[39m\u001b[39m.\u001b[39mexecutors:\n\u001b[1;32m--> 146\u001b[0m     experiment_data \u001b[39m=\u001b[39m executor\u001b[39m.\u001b[39;49mexecute(experiment_data)\n\u001b[0;32m    147\u001b[0m \u001b[39mreturn\u001b[39;00m experiment_data\n",
      "File \u001b[1;32mc:\\Projects\\HypEx\\hypex\\comparators\\comparators.py:83\u001b[0m, in \u001b[0;36mGroupComparator.execute\u001b[1;34m(self, data)\u001b[0m\n\u001b[0;32m     82\u001b[0m \u001b[39mdef\u001b[39;00m \u001b[39mexecute\u001b[39m(\u001b[39mself\u001b[39m, data: ExperimentData) \u001b[39m-\u001b[39m\u001b[39m>\u001b[39m ExperimentData:\n\u001b[1;32m---> 83\u001b[0m     compare_result \u001b[39m=\u001b[39m \u001b[39mself\u001b[39;49m\u001b[39m.\u001b[39;49m_compare(data)\n\u001b[0;32m     84\u001b[0m     result_dataset \u001b[39m=\u001b[39m \u001b[39mself\u001b[39m\u001b[39m.\u001b[39m_extract_dataset(compare_result)\n\u001b[0;32m     85\u001b[0m     \u001b[39mreturn\u001b[39;00m \u001b[39mself\u001b[39m\u001b[39m.\u001b[39m_set_value(data, result_dataset)\n",
      "File \u001b[1;32mc:\\Projects\\HypEx\\hypex\\comparators\\comparators.py:65\u001b[0m, in \u001b[0;36mGroupComparator._compare\u001b[1;34m(self, data)\u001b[0m\n\u001b[0;32m     63\u001b[0m \u001b[39mfor\u001b[39;00m i \u001b[39min\u001b[39;00m \u001b[39mrange\u001b[39m(\u001b[39m1\u001b[39m, \u001b[39mlen\u001b[39m(grouping_data)):\n\u001b[0;32m     64\u001b[0m     grouping_data[i][\u001b[39m1\u001b[39m]\u001b[39m.\u001b[39mtmp_roles \u001b[39m=\u001b[39m data\u001b[39m.\u001b[39mtmp_roles\n\u001b[1;32m---> 65\u001b[0m     result[grouping_data[i][\u001b[39m0\u001b[39m]] \u001b[39m=\u001b[39m \u001b[39mself\u001b[39;49m\u001b[39m.\u001b[39;49m_comparison_function(\n\u001b[0;32m     66\u001b[0m         grouping_data[\u001b[39m0\u001b[39;49m][\u001b[39m1\u001b[39;49m][target_field],\n\u001b[0;32m     67\u001b[0m         grouping_data[i][\u001b[39m1\u001b[39;49m][target_field],\n\u001b[0;32m     68\u001b[0m     )\n\u001b[0;32m     69\u001b[0m \u001b[39mreturn\u001b[39;00m result\n",
      "File \u001b[1;32mc:\\Projects\\HypEx\\hypex\\comparators\\hypothesis_testing.py:53\u001b[0m, in \u001b[0;36mTTest._comparison_function\u001b[1;34m(self, control_data, test_data)\u001b[0m\n\u001b[0;32m     52\u001b[0m \u001b[39mdef\u001b[39;00m \u001b[39m_comparison_function\u001b[39m(\u001b[39mself\u001b[39m, control_data, test_data) \u001b[39m-\u001b[39m\u001b[39m>\u001b[39m ExperimentData:\n\u001b[1;32m---> 53\u001b[0m     \u001b[39mreturn\u001b[39;00m ttest_ind(control_data, test_data)\n",
      "File \u001b[1;32m~\\AppData\\Roaming\\Python\\Python310\\site-packages\\scipy\\stats\\_axis_nan_policy.py:451\u001b[0m, in \u001b[0;36m_axis_nan_policy_factory.<locals>.axis_nan_policy_decorator.<locals>.axis_nan_policy_wrapper\u001b[1;34m(_no_deco, *args, **kwds)\u001b[0m\n\u001b[0;32m    449\u001b[0m \u001b[39m# Extract the things we need here\u001b[39;00m\n\u001b[0;32m    450\u001b[0m \u001b[39mtry\u001b[39;00m:  \u001b[39m# if something is missing\u001b[39;00m\n\u001b[1;32m--> 451\u001b[0m     samples \u001b[39m=\u001b[39m [np\u001b[39m.\u001b[39matleast_1d(kwds\u001b[39m.\u001b[39mpop(param))\n\u001b[0;32m    452\u001b[0m                \u001b[39mfor\u001b[39;00m param \u001b[39min\u001b[39;00m (params[:n_samp] \u001b[39m+\u001b[39m kwd_samp)]\n\u001b[0;32m    453\u001b[0m \u001b[39mexcept\u001b[39;00m \u001b[39mKeyError\u001b[39;00m:  \u001b[39m# let the function raise the right error\u001b[39;00m\n\u001b[0;32m    454\u001b[0m     \u001b[39m# might need to revisit this if required arg is not a \"sample\"\u001b[39;00m\n\u001b[0;32m    455\u001b[0m     hypotest_fun_in(\u001b[39m*\u001b[39margs, \u001b[39m*\u001b[39m\u001b[39m*\u001b[39mkwds)\n",
      "File \u001b[1;32m~\\AppData\\Roaming\\Python\\Python310\\site-packages\\scipy\\stats\\_axis_nan_policy.py:451\u001b[0m, in \u001b[0;36m<listcomp>\u001b[1;34m(.0)\u001b[0m\n\u001b[0;32m    449\u001b[0m \u001b[39m# Extract the things we need here\u001b[39;00m\n\u001b[0;32m    450\u001b[0m \u001b[39mtry\u001b[39;00m:  \u001b[39m# if something is missing\u001b[39;00m\n\u001b[1;32m--> 451\u001b[0m     samples \u001b[39m=\u001b[39m [np\u001b[39m.\u001b[39;49matleast_1d(kwds\u001b[39m.\u001b[39;49mpop(param))\n\u001b[0;32m    452\u001b[0m                \u001b[39mfor\u001b[39;00m param \u001b[39min\u001b[39;00m (params[:n_samp] \u001b[39m+\u001b[39m kwd_samp)]\n\u001b[0;32m    453\u001b[0m \u001b[39mexcept\u001b[39;00m \u001b[39mKeyError\u001b[39;00m:  \u001b[39m# let the function raise the right error\u001b[39;00m\n\u001b[0;32m    454\u001b[0m     \u001b[39m# might need to revisit this if required arg is not a \"sample\"\u001b[39;00m\n\u001b[0;32m    455\u001b[0m     hypotest_fun_in(\u001b[39m*\u001b[39margs, \u001b[39m*\u001b[39m\u001b[39m*\u001b[39mkwds)\n",
      "File \u001b[1;32mc:\\Users\\dmatr\\AppData\\Local\\Programs\\Python\\Python310\\lib\\site-packages\\numpy\\core\\shape_base.py:65\u001b[0m, in \u001b[0;36matleast_1d\u001b[1;34m(*arys)\u001b[0m\n\u001b[0;32m     63\u001b[0m res \u001b[39m=\u001b[39m []\n\u001b[0;32m     64\u001b[0m \u001b[39mfor\u001b[39;00m ary \u001b[39min\u001b[39;00m arys:\n\u001b[1;32m---> 65\u001b[0m     ary \u001b[39m=\u001b[39m asanyarray(ary)\n\u001b[0;32m     66\u001b[0m     \u001b[39mif\u001b[39;00m ary\u001b[39m.\u001b[39mndim \u001b[39m==\u001b[39m \u001b[39m0\u001b[39m:\n\u001b[0;32m     67\u001b[0m         result \u001b[39m=\u001b[39m ary\u001b[39m.\u001b[39mreshape(\u001b[39m1\u001b[39m)\n",
      "File \u001b[1;32mc:\\Projects\\HypEx\\hypex\\dataset\\dataset.py:123\u001b[0m, in \u001b[0;36mDataset.__getitem__\u001b[1;34m(self, item)\u001b[0m\n\u001b[0;32m    116\u001b[0m items \u001b[39m=\u001b[39m [item] \u001b[39mif\u001b[39;00m \u001b[39misinstance\u001b[39m(item, \u001b[39mstr\u001b[39m) \u001b[39mor\u001b[39;00m \u001b[39mnot\u001b[39;00m \u001b[39misinstance\u001b[39m(item, Iterable) \u001b[39melse\u001b[39;00m item\n\u001b[0;32m    117\u001b[0m roles: Dict \u001b[39m=\u001b[39m {\n\u001b[0;32m    118\u001b[0m     column: \u001b[39mself\u001b[39m\u001b[39m.\u001b[39mroles[column]\n\u001b[0;32m    119\u001b[0m     \u001b[39mif\u001b[39;00m column \u001b[39min\u001b[39;00m \u001b[39mself\u001b[39m\u001b[39m.\u001b[39mcolumns \u001b[39mand\u001b[39;00m \u001b[39mself\u001b[39m\u001b[39m.\u001b[39mroles\u001b[39m.\u001b[39mget(column, \u001b[39m0\u001b[39m)\n\u001b[0;32m    120\u001b[0m     \u001b[39melse\u001b[39;00m InfoRole()\n\u001b[0;32m    121\u001b[0m     \u001b[39mfor\u001b[39;00m column \u001b[39min\u001b[39;00m items\n\u001b[0;32m    122\u001b[0m }\n\u001b[1;32m--> 123\u001b[0m result \u001b[39m=\u001b[39m Dataset(data\u001b[39m=\u001b[39;49m\u001b[39mself\u001b[39;49m\u001b[39m.\u001b[39;49m_backend\u001b[39m.\u001b[39;49m\u001b[39m__getitem__\u001b[39;49m(item), roles\u001b[39m=\u001b[39;49mroles)\n\u001b[0;32m    124\u001b[0m result\u001b[39m.\u001b[39mtmp_roles \u001b[39m=\u001b[39m \u001b[39mself\u001b[39m\u001b[39m.\u001b[39mtmp_roles\n\u001b[0;32m    125\u001b[0m \u001b[39mreturn\u001b[39;00m result\n",
      "File \u001b[1;32mc:\\Projects\\HypEx\\hypex\\dataset\\dataset.py:107\u001b[0m, in \u001b[0;36mDataset.__init__\u001b[1;34m(self, data, roles, backend)\u001b[0m\n\u001b[0;32m    105\u001b[0m \u001b[39mself\u001b[39m\u001b[39m.\u001b[39mloc \u001b[39m=\u001b[39m \u001b[39mNone\u001b[39;00m\n\u001b[0;32m    106\u001b[0m \u001b[39mself\u001b[39m\u001b[39m.\u001b[39miloc \u001b[39m=\u001b[39m \u001b[39mNone\u001b[39;00m\n\u001b[1;32m--> 107\u001b[0m \u001b[39mself\u001b[39;49m\u001b[39m.\u001b[39;49mset_data(data, roles, backend)\n",
      "File \u001b[1;32mc:\\Projects\\HypEx\\hypex\\dataset\\dataset.py:75\u001b[0m, in \u001b[0;36mDataset.set_data\u001b[1;34m(self, data, roles, backend)\u001b[0m\n\u001b[0;32m     65\u001b[0m roles \u001b[39m=\u001b[39m (\n\u001b[0;32m     66\u001b[0m     parse_roles(roles)\n\u001b[0;32m     67\u001b[0m     \u001b[39mif\u001b[39;00m \u001b[39many\u001b[39m(\u001b[39misinstance\u001b[39m(role, \u001b[39mtype\u001b[39m) \u001b[39mfor\u001b[39;00m role \u001b[39min\u001b[39;00m roles\u001b[39m.\u001b[39mkeys())\n\u001b[0;32m     68\u001b[0m     \u001b[39melse\u001b[39;00m roles\n\u001b[0;32m     69\u001b[0m )\n\u001b[0;32m     70\u001b[0m \u001b[39mif\u001b[39;00m (\n\u001b[0;32m     71\u001b[0m     roles\n\u001b[0;32m     72\u001b[0m     \u001b[39mand\u001b[39;00m data \u001b[39mis\u001b[39;00m \u001b[39mnot\u001b[39;00m \u001b[39mNone\u001b[39;00m\n\u001b[0;32m     73\u001b[0m     \u001b[39mand\u001b[39;00m \u001b[39many\u001b[39m(i \u001b[39mnot\u001b[39;00m \u001b[39min\u001b[39;00m \u001b[39mself\u001b[39m\u001b[39m.\u001b[39m_backend\u001b[39m.\u001b[39mcolumns \u001b[39mfor\u001b[39;00m i \u001b[39min\u001b[39;00m \u001b[39mlist\u001b[39m(roles\u001b[39m.\u001b[39mkeys()))\n\u001b[0;32m     74\u001b[0m ):\n\u001b[1;32m---> 75\u001b[0m     \u001b[39mraise\u001b[39;00m RoleColumnError(\u001b[39mlist\u001b[39m(roles\u001b[39m.\u001b[39mkeys()), \u001b[39mself\u001b[39m\u001b[39m.\u001b[39m_backend\u001b[39m.\u001b[39mcolumns)\n\u001b[0;32m     76\u001b[0m \u001b[39mself\u001b[39m\u001b[39m.\u001b[39mroles \u001b[39m=\u001b[39m roles\n\u001b[0;32m     77\u001b[0m \u001b[39mself\u001b[39m\u001b[39m.\u001b[39mdata \u001b[39m=\u001b[39m \u001b[39mself\u001b[39m\u001b[39m.\u001b[39m_backend\u001b[39m.\u001b[39mdata\n",
      "\u001b[1;31mRoleColumnError\u001b[0m: Check your roles. All of them must be names of data columns. \nNow roles have [0] values and columns have Index(['signup_month'], dtype='object') values"
     ]
    }
   ],
   "source": [
    "test = AA_TEST\n",
    "ed = ExperimentData(data)\n",
    "result = test.execute(ed)"
   ]
  },
  {
   "cell_type": "code",
   "execution_count": null,
   "metadata": {},
   "outputs": [
    {
     "ename": "RoleColumnError",
     "evalue": "Check your roles. All of them must be names of data columns. \nNow roles have ['i', 'n', 'd', 'u', 's', 't', 'r', 'y'] values and columns have Index(['industry'], dtype='object') values",
     "output_type": "error",
     "traceback": [
      "\u001b[1;31m---------------------------------------------------------------------------\u001b[0m",
      "\u001b[1;31mRoleColumnError\u001b[0m                           Traceback (most recent call last)",
      "\u001b[1;32mc:\\Projects\\HypEx\\AAMetaTutorial.ipynb Cell 7\u001b[0m line \u001b[0;36m1\n\u001b[1;32m----> <a href='vscode-notebook-cell:/c%3A/Projects/HypEx/AAMetaTutorial.ipynb#X11sZmlsZQ%3D%3D?line=0'>1</a>\u001b[0m data[data[\u001b[39m'\u001b[39;49m\u001b[39mindustry\u001b[39;49m\u001b[39m'\u001b[39;49m] \u001b[39m==\u001b[39m \u001b[39m\"\u001b[39m\u001b[39mLogistics\u001b[39m\u001b[39m\"\u001b[39m]\n",
      "File \u001b[1;32mc:\\Projects\\HypEx\\hypex\\dataset\\dataset.py:117\u001b[0m, in \u001b[0;36mDataset.__getitem__\u001b[1;34m(self, item)\u001b[0m\n\u001b[0;32m    115\u001b[0m     \u001b[39melse\u001b[39;00m:\n\u001b[0;32m    116\u001b[0m         roles[column] \u001b[39m=\u001b[39m InfoRole()\n\u001b[1;32m--> 117\u001b[0m \u001b[39mreturn\u001b[39;00m Dataset(data\u001b[39m=\u001b[39;49m\u001b[39mself\u001b[39;49m\u001b[39m.\u001b[39;49m_backend\u001b[39m.\u001b[39;49m\u001b[39m__getitem__\u001b[39;49m(item), roles\u001b[39m=\u001b[39;49mroles)\n",
      "File \u001b[1;32mc:\\Projects\\HypEx\\hypex\\dataset\\dataset.py:101\u001b[0m, in \u001b[0;36mDataset.__init__\u001b[1;34m(self, data, roles, backend)\u001b[0m\n\u001b[0;32m     99\u001b[0m \u001b[39mself\u001b[39m\u001b[39m.\u001b[39mloc \u001b[39m=\u001b[39m \u001b[39mNone\u001b[39;00m\n\u001b[0;32m    100\u001b[0m \u001b[39mself\u001b[39m\u001b[39m.\u001b[39miloc \u001b[39m=\u001b[39m \u001b[39mNone\u001b[39;00m\n\u001b[1;32m--> 101\u001b[0m \u001b[39mself\u001b[39;49m\u001b[39m.\u001b[39;49mset_data(data, roles, backend)\n",
      "File \u001b[1;32mc:\\Projects\\HypEx\\hypex\\dataset\\dataset.py:69\u001b[0m, in \u001b[0;36mDataset.set_data\u001b[1;34m(self, data, roles, backend)\u001b[0m\n\u001b[0;32m     59\u001b[0m roles \u001b[39m=\u001b[39m (\n\u001b[0;32m     60\u001b[0m     parse_roles(roles)\n\u001b[0;32m     61\u001b[0m     \u001b[39mif\u001b[39;00m \u001b[39many\u001b[39m(\u001b[39misinstance\u001b[39m(role, \u001b[39mtype\u001b[39m) \u001b[39mfor\u001b[39;00m role \u001b[39min\u001b[39;00m roles\u001b[39m.\u001b[39mkeys())\n\u001b[0;32m     62\u001b[0m     \u001b[39melse\u001b[39;00m roles\n\u001b[0;32m     63\u001b[0m )\n\u001b[0;32m     64\u001b[0m \u001b[39mif\u001b[39;00m (\n\u001b[0;32m     65\u001b[0m     roles\n\u001b[0;32m     66\u001b[0m     \u001b[39mand\u001b[39;00m data \u001b[39mis\u001b[39;00m \u001b[39mnot\u001b[39;00m \u001b[39mNone\u001b[39;00m\n\u001b[0;32m     67\u001b[0m     \u001b[39mand\u001b[39;00m \u001b[39many\u001b[39m(i \u001b[39mnot\u001b[39;00m \u001b[39min\u001b[39;00m \u001b[39mself\u001b[39m\u001b[39m.\u001b[39m_backend\u001b[39m.\u001b[39mcolumns \u001b[39mfor\u001b[39;00m i \u001b[39min\u001b[39;00m \u001b[39mlist\u001b[39m(roles\u001b[39m.\u001b[39mkeys()))\n\u001b[0;32m     68\u001b[0m ):\n\u001b[1;32m---> 69\u001b[0m     \u001b[39mraise\u001b[39;00m RoleColumnError(\u001b[39mlist\u001b[39m(roles\u001b[39m.\u001b[39mkeys()), \u001b[39mself\u001b[39m\u001b[39m.\u001b[39m_backend\u001b[39m.\u001b[39mcolumns)\n\u001b[0;32m     70\u001b[0m \u001b[39mself\u001b[39m\u001b[39m.\u001b[39mroles \u001b[39m=\u001b[39m roles\n\u001b[0;32m     71\u001b[0m \u001b[39mself\u001b[39m\u001b[39m.\u001b[39mdata \u001b[39m=\u001b[39m \u001b[39mself\u001b[39m\u001b[39m.\u001b[39m_backend\u001b[39m.\u001b[39mdata\n",
      "\u001b[1;31mRoleColumnError\u001b[0m: Check your roles. All of them must be names of data columns. \nNow roles have ['i', 'n', 'd', 'u', 's', 't', 'r', 'y'] values and columns have Index(['industry'], dtype='object') values"
     ]
    }
   ],
   "source": [
    "data[data['industry'] == \"Logistics\"]"
   ]
  },
  {
   "cell_type": "code",
   "execution_count": null,
   "metadata": {},
   "outputs": [],
   "source": []
  }
 ],
 "metadata": {
  "kernelspec": {
   "display_name": "Python 3",
   "language": "python",
   "name": "python3"
  },
  "language_info": {
   "codemirror_mode": {
    "name": "ipython",
    "version": 3
   },
   "file_extension": ".py",
   "mimetype": "text/x-python",
   "name": "python",
   "nbconvert_exporter": "python",
   "pygments_lexer": "ipython3",
   "version": "3.10.11"
  }
 },
 "nbformat": 4,
 "nbformat_minor": 2
}
