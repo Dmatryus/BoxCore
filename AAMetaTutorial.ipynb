{
 "cells": [
  {
   "cell_type": "code",
   "execution_count": 1,
   "metadata": {},
   "outputs": [],
   "source": [
    "from hypex.dataset.dataset import Dataset, ExperimentData\n",
    "from hypex.experiments.aa_test import AA_TEST\n",
    "from hypex.dataset.roles import (\n",
    "    InfoRole,\n",
    "    FeatureRole,\n",
    "    TreatmentRole,\n",
    "    PreTargetRole,\n",
    "    TargetRole,\n",
    "    GroupingRole\n",
    ")"
   ]
  },
  {
   "cell_type": "code",
   "execution_count": 2,
   "metadata": {},
   "outputs": [
    {
     "data": {
      "text/plain": [
       "      user_id  signup_month  treat  pre_spends  post_spends   age gender  \\\n",
       "0           0             0      0       488.0   414.444444   NaN      M   \n",
       "1           1             8      1       512.5   462.222222  26.0    NaN   \n",
       "2           2             7      1       483.0   479.444444  25.0      M   \n",
       "3           3             0      0       501.5   424.333333  39.0      M   \n",
       "4           4             1      1       543.0   514.555556  18.0      F   \n",
       "...       ...           ...    ...         ...          ...   ...    ...   \n",
       "9995     9995            10      1       538.5   450.444444  42.0      M   \n",
       "9996     9996             0      0       500.5   430.888889  26.0      F   \n",
       "9997     9997             3      1       473.0   534.111111  22.0      F   \n",
       "9998     9998             2      1       495.0   523.222222  67.0      F   \n",
       "9999     9999             7      1       508.0   475.888889  38.0      F   \n",
       "\n",
       "        industry  \n",
       "0     E-commerce  \n",
       "1     E-commerce  \n",
       "2      Logistics  \n",
       "3     E-commerce  \n",
       "4     E-commerce  \n",
       "...          ...  \n",
       "9995   Logistics  \n",
       "9996   Logistics  \n",
       "9997  E-commerce  \n",
       "9998  E-commerce  \n",
       "9999  E-commerce  \n",
       "\n",
       "[10000 rows x 8 columns]"
      ]
     },
     "execution_count": 2,
     "metadata": {},
     "output_type": "execute_result"
    }
   ],
   "source": [
    "# data = Dataset(\n",
    "#     \"data.csv\",\n",
    "#     roles={\n",
    "#         \"user_id\": InfoRole(),\n",
    "#         \"signup_month\": FeatureRole(),\n",
    "#         \"treat\": TreatmentRole(),\n",
    "#         \"pre_spends\": PreTargetRole(),\n",
    "#         \"post_spends\": TargetRole(),\n",
    "#         \"age\": FeatureRole(),\n",
    "#         \"gender\": FeatureRole(),\n",
    "#         \"industry\": FeatureRole(),\n",
    "#     },\n",
    "# )\n",
    "# data\n",
    "\n",
    "# TODO discus types\n",
    "\n",
    "data = Dataset(\n",
    "    \"data.csv\",\n",
    "    roles={\n",
    "        \"user_id\": InfoRole(),\n",
    "        \"signup_month\": TargetRole(),\n",
    "        \"treat\": TreatmentRole(),\n",
    "        \"pre_spends\": PreTargetRole(),\n",
    "        \"post_spends\": TargetRole(),\n",
    "        \"age\": TargetRole(),\n",
    "        \"gender\": GroupingRole(),\n",
    "        \"industry\": GroupingRole(),\n",
    "    },\n",
    ")\n",
    "data"
   ]
  },
  {
   "cell_type": "code",
   "execution_count": 3,
   "metadata": {},
   "outputs": [
    {
     "data": {
      "text/plain": [
       "{'user_id': <hypex.dataset.roles.InfoRole at 0x1b91e9a7760>,\n",
       " 'signup_month': <hypex.dataset.roles.TargetRole at 0x1b97e5e3a90>,\n",
       " 'treat': <hypex.dataset.roles.TreatmentRole at 0x1b97e5e0b80>,\n",
       " 'pre_spends': <hypex.dataset.roles.PreTargetRole at 0x1b97e5e0be0>,\n",
       " 'post_spends': <hypex.dataset.roles.TargetRole at 0x1b97e5e0c40>,\n",
       " 'age': <hypex.dataset.roles.TargetRole at 0x1b97e5e37c0>,\n",
       " 'gender': <hypex.dataset.roles.GroupingRole at 0x1b97e5e3640>,\n",
       " 'industry': <hypex.dataset.roles.GroupingRole at 0x1b97e5e3730>}"
      ]
     },
     "execution_count": 3,
     "metadata": {},
     "output_type": "execute_result"
    }
   ],
   "source": [
    "data.roles"
   ]
  },
  {
   "cell_type": "code",
   "execution_count": 4,
   "metadata": {},
   "outputs": [],
   "source": [
    "import pandas as pd\n"
   ]
  },
  {
   "cell_type": "code",
   "execution_count": 5,
   "metadata": {},
   "outputs": [
    {
     "name": "stderr",
     "output_type": "stream",
     "text": [
      "c:\\Projects\\HypEx\\hypex\\dataset\\dataset.py:62: UserWarning: Didn't add roles for experiment estimation. This fact can lead to incorrect operation of the pipeline. \n",
      "  warnings.warn(\n",
      "c:\\Projects\\HypEx\\hypex\\dataset\\dataset.py:62: UserWarning: Didn't add roles for experiment estimation. This fact can lead to incorrect operation of the pipeline. \n",
      "  warnings.warn(\n",
      "c:\\Projects\\HypEx\\hypex\\dataset\\dataset.py:62: UserWarning: Didn't add roles for experiment estimation. This fact can lead to incorrect operation of the pipeline. \n",
      "  warnings.warn(\n",
      "c:\\Projects\\HypEx\\hypex\\dataset\\backends\\pandas_backend.py:120: FutureWarning: The 'axis' keyword in DataFrame.groupby is deprecated and will be removed in a future version.\n",
      "  groups = self.data.groupby(by, axis, **kwargs)\n",
      "c:\\Projects\\HypEx\\hypex\\dataset\\dataset.py:62: UserWarning: Didn't add roles for experiment estimation. This fact can lead to incorrect operation of the pipeline. \n",
      "  warnings.warn(\n",
      "c:\\Projects\\HypEx\\hypex\\dataset\\backends\\pandas_backend.py:120: FutureWarning: The 'axis' keyword in DataFrame.groupby is deprecated and will be removed in a future version.\n",
      "  groups = self.data.groupby(by, axis, **kwargs)\n",
      "c:\\Projects\\HypEx\\hypex\\dataset\\backends\\pandas_backend.py:120: FutureWarning: The 'axis' keyword in DataFrame.groupby is deprecated and will be removed in a future version.\n",
      "  groups = self.data.groupby(by, axis, **kwargs)\n",
      "c:\\Projects\\HypEx\\hypex\\dataset\\backends\\pandas_backend.py:120: FutureWarning: The 'axis' keyword in DataFrame.groupby is deprecated and will be removed in a future version.\n",
      "  groups = self.data.groupby(by, axis, **kwargs)\n",
      "c:\\Projects\\HypEx\\hypex\\dataset\\dataset.py:62: UserWarning: Didn't add roles for experiment estimation. This fact can lead to incorrect operation of the pipeline. \n",
      "  warnings.warn(\n",
      "c:\\Projects\\HypEx\\hypex\\dataset\\backends\\pandas_backend.py:120: FutureWarning: The 'axis' keyword in DataFrame.groupby is deprecated and will be removed in a future version.\n",
      "  groups = self.data.groupby(by, axis, **kwargs)\n",
      "c:\\Projects\\HypEx\\hypex\\dataset\\backends\\pandas_backend.py:120: FutureWarning: The 'axis' keyword in DataFrame.groupby is deprecated and will be removed in a future version.\n",
      "  groups = self.data.groupby(by, axis, **kwargs)\n",
      "c:\\Projects\\HypEx\\hypex\\dataset\\backends\\pandas_backend.py:120: FutureWarning: The 'axis' keyword in DataFrame.groupby is deprecated and will be removed in a future version.\n",
      "  groups = self.data.groupby(by, axis, **kwargs)\n",
      "c:\\Projects\\HypEx\\hypex\\dataset\\dataset.py:62: UserWarning: Didn't add roles for experiment estimation. This fact can lead to incorrect operation of the pipeline. \n",
      "  warnings.warn(\n",
      "c:\\Projects\\HypEx\\hypex\\dataset\\backends\\pandas_backend.py:120: FutureWarning: The 'axis' keyword in DataFrame.groupby is deprecated and will be removed in a future version.\n",
      "  groups = self.data.groupby(by, axis, **kwargs)\n",
      "c:\\Projects\\HypEx\\hypex\\dataset\\backends\\pandas_backend.py:120: FutureWarning: The 'axis' keyword in DataFrame.groupby is deprecated and will be removed in a future version.\n",
      "  groups = self.data.groupby(by, axis, **kwargs)\n",
      "c:\\Projects\\HypEx\\hypex\\dataset\\dataset.py:62: UserWarning: Didn't add roles for experiment estimation. This fact can lead to incorrect operation of the pipeline. \n",
      "  warnings.warn(\n"
     ]
    }
   ],
   "source": [
    "test = AA_TEST\n",
    "ed = ExperimentData(data)\n",
    "result = test.execute(ed)"
   ]
  },
  {
   "cell_type": "code",
   "execution_count": 6,
   "metadata": {},
   "outputs": [
    {
     "data": {
      "text/html": [
       "<div>\n",
       "<style scoped>\n",
       "    .dataframe tbody tr th:only-of-type {\n",
       "        vertical-align: middle;\n",
       "    }\n",
       "\n",
       "    .dataframe tbody tr th {\n",
       "        vertical-align: top;\n",
       "    }\n",
       "\n",
       "    .dataframe thead th {\n",
       "        text-align: right;\n",
       "    }\n",
       "</style>\n",
       "<table border=\"1\" class=\"dataframe\">\n",
       "  <thead>\n",
       "    <tr style=\"text-align: right;\">\n",
       "      <th></th>\n",
       "      <th>TTest p-value</th>\n",
       "      <th>TTest pass</th>\n",
       "      <th>KSTest p-value</th>\n",
       "      <th>KSTest pass</th>\n",
       "      <th>mean test score</th>\n",
       "    </tr>\n",
       "  </thead>\n",
       "  <tbody>\n",
       "    <tr>\n",
       "      <th>0</th>\n",
       "      <td>0.201022</td>\n",
       "      <td>0.0</td>\n",
       "      <td>0.480591</td>\n",
       "      <td>0.0</td>\n",
       "      <td>0.387401</td>\n",
       "    </tr>\n",
       "  </tbody>\n",
       "</table>\n",
       "</div>"
      ],
      "text/plain": [
       "   TTest p-value  TTest pass  KSTest p-value  KSTest pass  mean test score\n",
       "0       0.201022         0.0        0.480591          0.0         0.387401"
      ]
     },
     "execution_count": 6,
     "metadata": {},
     "output_type": "execute_result"
    }
   ],
   "source": [
    "result.analysis_tables['OneAASplitAnalyzer╰╰0'].data"
   ]
  },
  {
   "cell_type": "code",
   "execution_count": 7,
   "metadata": {},
   "outputs": [
    {
     "ename": "TypeError",
     "evalue": "Cannot index by location index with a non-integer key",
     "output_type": "error",
     "traceback": [
      "\u001b[1;31m---------------------------------------------------------------------------\u001b[0m",
      "\u001b[1;31mTypeError\u001b[0m                                 Traceback (most recent call last)",
      "\u001b[1;32mc:\\Projects\\HypEx\\AAMetaTutorial.ipynb Cell 7\u001b[0m line \u001b[0;36m1\n\u001b[1;32m----> <a href='vscode-notebook-cell:/c%3A/Projects/HypEx/AAMetaTutorial.ipynb#W5sZmlsZQ%3D%3D?line=0'>1</a>\u001b[0m data[data[\u001b[39m'\u001b[39;49m\u001b[39mindustry\u001b[39;49m\u001b[39m'\u001b[39;49m] \u001b[39m==\u001b[39;49m \u001b[39m\"\u001b[39;49m\u001b[39mLogistics\u001b[39;49m\u001b[39m\"\u001b[39;49m]\n",
      "File \u001b[1;32mc:\\Projects\\HypEx\\hypex\\dataset\\dataset.py:124\u001b[0m, in \u001b[0;36mDataset.__getitem__\u001b[1;34m(self, item)\u001b[0m\n\u001b[0;32m    117\u001b[0m items \u001b[39m=\u001b[39m [item] \u001b[39mif\u001b[39;00m \u001b[39misinstance\u001b[39m(item, \u001b[39mstr\u001b[39m) \u001b[39mor\u001b[39;00m \u001b[39mnot\u001b[39;00m \u001b[39misinstance\u001b[39m(item, Iterable) \u001b[39melse\u001b[39;00m item\n\u001b[0;32m    118\u001b[0m roles: Dict \u001b[39m=\u001b[39m {\n\u001b[0;32m    119\u001b[0m     column: \u001b[39mself\u001b[39m\u001b[39m.\u001b[39mroles[column]\n\u001b[0;32m    120\u001b[0m     \u001b[39mif\u001b[39;00m column \u001b[39min\u001b[39;00m \u001b[39mself\u001b[39m\u001b[39m.\u001b[39mcolumns \u001b[39mand\u001b[39;00m \u001b[39mself\u001b[39m\u001b[39m.\u001b[39mroles\u001b[39m.\u001b[39mget(column, \u001b[39m0\u001b[39m)\n\u001b[0;32m    121\u001b[0m     \u001b[39melse\u001b[39;00m InfoRole()\n\u001b[0;32m    122\u001b[0m     \u001b[39mfor\u001b[39;00m column \u001b[39min\u001b[39;00m items\n\u001b[0;32m    123\u001b[0m }\n\u001b[1;32m--> 124\u001b[0m result \u001b[39m=\u001b[39m Dataset(data\u001b[39m=\u001b[39m\u001b[39mself\u001b[39;49m\u001b[39m.\u001b[39;49m_backend\u001b[39m.\u001b[39;49m\u001b[39m__getitem__\u001b[39;49m(item), roles\u001b[39m=\u001b[39mroles)\n\u001b[0;32m    125\u001b[0m result\u001b[39m.\u001b[39mtmp_roles \u001b[39m=\u001b[39m \u001b[39mself\u001b[39m\u001b[39m.\u001b[39mtmp_roles\n\u001b[0;32m    126\u001b[0m \u001b[39mreturn\u001b[39;00m result\n",
      "File \u001b[1;32mc:\\Projects\\HypEx\\hypex\\dataset\\backends\\pandas_backend.py:39\u001b[0m, in \u001b[0;36mPandasDataset.__getitem__\u001b[1;34m(self, item)\u001b[0m\n\u001b[0;32m     37\u001b[0m \u001b[39mdef\u001b[39;00m \u001b[39m__getitem__\u001b[39m(\u001b[39mself\u001b[39m, item):\n\u001b[0;32m     38\u001b[0m     \u001b[39mif\u001b[39;00m \u001b[39misinstance\u001b[39m(item, (\u001b[39mslice\u001b[39m, \u001b[39mint\u001b[39m)):\n\u001b[1;32m---> 39\u001b[0m         \u001b[39mreturn\u001b[39;00m \u001b[39mself\u001b[39;49m\u001b[39m.\u001b[39;49mdata\u001b[39m.\u001b[39;49miloc[item]\n\u001b[0;32m     40\u001b[0m     \u001b[39mif\u001b[39;00m \u001b[39misinstance\u001b[39m(item, (\u001b[39mstr\u001b[39m, \u001b[39mlist\u001b[39m)):\n\u001b[0;32m     41\u001b[0m         \u001b[39mreturn\u001b[39;00m \u001b[39mself\u001b[39m\u001b[39m.\u001b[39mdata[item]\n",
      "File \u001b[1;32m~\\AppData\\Roaming\\Python\\Python310\\site-packages\\pandas\\core\\indexing.py:1153\u001b[0m, in \u001b[0;36m_LocationIndexer.__getitem__\u001b[1;34m(self, key)\u001b[0m\n\u001b[0;32m   1150\u001b[0m axis \u001b[39m=\u001b[39m \u001b[39mself\u001b[39m\u001b[39m.\u001b[39maxis \u001b[39mor\u001b[39;00m \u001b[39m0\u001b[39m\n\u001b[0;32m   1152\u001b[0m maybe_callable \u001b[39m=\u001b[39m com\u001b[39m.\u001b[39mapply_if_callable(key, \u001b[39mself\u001b[39m\u001b[39m.\u001b[39mobj)\n\u001b[1;32m-> 1153\u001b[0m \u001b[39mreturn\u001b[39;00m \u001b[39mself\u001b[39;49m\u001b[39m.\u001b[39;49m_getitem_axis(maybe_callable, axis\u001b[39m=\u001b[39;49maxis)\n",
      "File \u001b[1;32m~\\AppData\\Roaming\\Python\\Python310\\site-packages\\pandas\\core\\indexing.py:1711\u001b[0m, in \u001b[0;36m_iLocIndexer._getitem_axis\u001b[1;34m(self, key, axis)\u001b[0m\n\u001b[0;32m   1709\u001b[0m key \u001b[39m=\u001b[39m item_from_zerodim(key)\n\u001b[0;32m   1710\u001b[0m \u001b[39mif\u001b[39;00m \u001b[39mnot\u001b[39;00m is_integer(key):\n\u001b[1;32m-> 1711\u001b[0m     \u001b[39mraise\u001b[39;00m \u001b[39mTypeError\u001b[39;00m(\u001b[39m\"\u001b[39m\u001b[39mCannot index by location index with a non-integer key\u001b[39m\u001b[39m\"\u001b[39m)\n\u001b[0;32m   1713\u001b[0m \u001b[39m# validate the location\u001b[39;00m\n\u001b[0;32m   1714\u001b[0m \u001b[39mself\u001b[39m\u001b[39m.\u001b[39m_validate_integer(key, axis)\n",
      "\u001b[1;31mTypeError\u001b[0m: Cannot index by location index with a non-integer key"
     ]
    }
   ],
   "source": [
    "data[data['industry'] == \"Logistics\"]"
   ]
  },
  {
   "cell_type": "code",
   "execution_count": null,
   "metadata": {},
   "outputs": [],
   "source": []
  }
 ],
 "metadata": {
  "kernelspec": {
   "display_name": "Python 3",
   "language": "python",
   "name": "python3"
  },
  "language_info": {
   "codemirror_mode": {
    "name": "ipython",
    "version": 3
   },
   "file_extension": ".py",
   "mimetype": "text/x-python",
   "name": "python",
   "nbconvert_exporter": "python",
   "pygments_lexer": "ipython3",
   "version": "3.10.11"
  }
 },
 "nbformat": 4,
 "nbformat_minor": 2
}
