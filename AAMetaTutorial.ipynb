{
 "cells": [
  {
   "cell_type": "code",
   "execution_count": 1,
   "metadata": {
    "ExecuteTime": {
     "end_time": "2024-04-22T08:21:29.274401200Z",
     "start_time": "2024-04-22T08:21:23.978675600Z"
    }
   },
   "outputs": [],
   "source": [
    "from hypex.dataset import Dataset, ExperimentData, InfoRole, TreatmentRole, TargetRole\n",
    "from hypex.experiments.aa import AA_TEST\n",
    "from hypex.reporters import AADictReporter"
   ]
  },
  {
   "cell_type": "code",
   "execution_count": 2,
   "metadata": {
    "ExecuteTime": {
     "end_time": "2024-04-22T08:21:29.338094600Z",
     "start_time": "2024-04-22T08:21:29.278402500Z"
    }
   },
   "outputs": [
    {
     "data": {
      "text/plain": [
       "      user_id  signup_month  treat  pre_spends  post_spends   age gender  \\\n",
       "0           0             0      0       488.0   414.444444   NaN      M   \n",
       "1           1             8      1       512.5   462.222222  26.0    NaN   \n",
       "2           2             7      1       483.0   479.444444  25.0      M   \n",
       "3           3             0      0       501.5   424.333333  39.0      M   \n",
       "4           4             1      1       543.0   514.555556  18.0      F   \n",
       "...       ...           ...    ...         ...          ...   ...    ...   \n",
       "9995     9995            10      1       538.5   450.444444  42.0      M   \n",
       "9996     9996             0      0       500.5   430.888889  26.0      F   \n",
       "9997     9997             3      1       473.0   534.111111  22.0      F   \n",
       "9998     9998             2      1       495.0   523.222222  67.0      F   \n",
       "9999     9999             7      1       508.0   475.888889  38.0      F   \n",
       "\n",
       "        industry  \n",
       "0     E-commerce  \n",
       "1     E-commerce  \n",
       "2      Logistics  \n",
       "3     E-commerce  \n",
       "4     E-commerce  \n",
       "...          ...  \n",
       "9995   Logistics  \n",
       "9996   Logistics  \n",
       "9997  E-commerce  \n",
       "9998  E-commerce  \n",
       "9999  E-commerce  \n",
       "\n",
       "[10000 rows x 8 columns]"
      ]
     },
     "execution_count": 2,
     "metadata": {},
     "output_type": "execute_result"
    }
   ],
   "source": [
    "data = Dataset(\n",
    "    roles={\n",
    "        \"user_id\": InfoRole(),\n",
    "        \"treat\": TreatmentRole(),\n",
    "        \"pre_spends\": TargetRole(),\n",
    "        \"post_spends\": TargetRole()\n",
    "    }, data=\"data.csv\",\n",
    ")\n",
    "data"
   ]
  },
  {
   "cell_type": "code",
   "execution_count": 3,
   "metadata": {
    "ExecuteTime": {
     "end_time": "2024-04-22T08:21:29.406442800Z",
     "start_time": "2024-04-22T08:21:29.339265Z"
    }
   },
   "outputs": [
    {
     "data": {
      "text/plain": [
       "{'user_id': Info,\n",
       " 'treat': Treatment,\n",
       " 'pre_spends': Target,\n",
       " 'post_spends': Target,\n",
       " 'signup_month': Feature,\n",
       " 'age': Feature,\n",
       " 'gender': Feature,\n",
       " 'industry': Feature}"
      ]
     },
     "execution_count": 3,
     "metadata": {},
     "output_type": "execute_result"
    }
   ],
   "source": [
    "data.roles"
   ]
  },
  {
   "cell_type": "code",
   "execution_count": 4,
   "metadata": {
    "ExecuteTime": {
     "end_time": "2024-04-22T08:22:08.681756900Z",
     "start_time": "2024-04-22T08:22:08.553044900Z"
    }
   },
   "outputs": [],
   "source": [
    "test = AA_TEST\n",
    "ed = ExperimentData(data)\n",
    "result = test.execute(ed)"
   ]
  },
  {
   "cell_type": "code",
   "execution_count": 5,
   "metadata": {
    "ExecuteTime": {
     "end_time": "2024-04-22T08:22:10.801384800Z",
     "start_time": "2024-04-22T08:22:10.747545100Z"
    },
    "collapsed": false,
    "jupyter": {
     "outputs_hidden": false
    }
   },
   "outputs": [
    {
     "data": {
      "text/plain": [
       "{'random_state': None,\n",
       " 'B pre_spends control mean': 487.0404,\n",
       " 'B pre_spends test mean': 487.1471,\n",
       " 'B pre_spends difference': 0.1067000000000462,\n",
       " 'B pre_spends difference %': 0.021907833518541864,\n",
       " 'B post_spends control mean': 451.7942666666667,\n",
       " 'B post_spends test mean': 452.5348444444444,\n",
       " 'B post_spends difference': 0.7405777777776734,\n",
       " 'B post_spends difference %': 0.16391925095500248,\n",
       " 'B control size': 5000.0,\n",
       " 'B test size': 5000.0,\n",
       " 'B control size %': 50.0,\n",
       " 'B test size %': 50.0,\n",
       " 'TTest p-value': p-value    0.562399\n",
       " dtype: float64,\n",
       " 'TTest pass': pass    0.0\n",
       " dtype: float64,\n",
       " 'KSTest p-value': p-value    0.749007\n",
       " dtype: float64,\n",
       " 'KSTest pass': pass    0.0\n",
       " dtype: float64,\n",
       " 'mean test score': p-value    0.686804\n",
       " dtype: float64}"
      ]
     },
     "execution_count": 5,
     "metadata": {},
     "output_type": "execute_result"
    }
   ],
   "source": [
    "AADictReporter().report(result)"
   ]
  },
  {
   "cell_type": "code",
   "execution_count": 6,
   "metadata": {
    "ExecuteTime": {
     "end_time": "2024-04-22T08:22:13.145468900Z",
     "start_time": "2024-04-22T08:22:13.100447900Z"
    },
    "collapsed": false,
    "jupyter": {
     "outputs_hidden": false
    }
   },
   "outputs": [
    {
     "data": {
      "text/plain": [
       "{\"GroupSizes┴┴['AASplitter||']\":                      B\n",
       " control size    5000.0\n",
       " test size       5000.0\n",
       " control size %    50.0\n",
       " test size %       50.0,\n",
       " \"GroupDifference┴┴['AASplitter||'] ┆pre_spends┆\":                                   B\n",
       " pre_spends control mean  487.040400\n",
       " pre_spends test mean     487.147100\n",
       " pre_spends difference      0.106700\n",
       " pre_spends difference %    0.021908,\n",
       " \"TTest┴┴['AASplitter||'] ┆pre_spends┆\":   group  statistic  p-value   pass\n",
       " 0     B  -0.282703  0.77741  False,\n",
       " \"KSTest┴┴['AASplitter||'] ┆pre_spends┆\":   group  statistic   p-value   pass\n",
       " 0     B     0.0098  0.970009  False,\n",
       " \"GroupDifference┴┴['AASplitter||'] ┆post_spends┆\":                                    B\n",
       " post_spends control mean  451.794267\n",
       " post_spends test mean     452.534844\n",
       " post_spends difference      0.740578\n",
       " post_spends difference %    0.163919,\n",
       " \"TTest┴┴['AASplitter||'] ┆post_spends┆\":   group  statistic   p-value   pass\n",
       " 0     B  -0.939713  0.347387  False,\n",
       " \"KSTest┴┴['AASplitter||'] ┆post_spends┆\":   group  statistic   p-value   pass\n",
       " 0     B     0.0162  0.528005  False,\n",
       " 'OneAAStatAnalyzer┴┴':                         TTest p-value                  TTest pass  \\\n",
       " 0  p-value    0.562399\n",
       " dtype: float64  pass    0.0\n",
       " dtype: float64   \n",
       " \n",
       "                        KSTest p-value                 KSTest pass  \\\n",
       " 0  p-value    0.749007\n",
       " dtype: float64  pass    0.0\n",
       " dtype: float64   \n",
       " \n",
       "                       mean test score  \n",
       " 0  p-value    0.686804\n",
       " dtype: float64  }"
      ]
     },
     "execution_count": 6,
     "metadata": {},
     "output_type": "execute_result"
    }
   ],
   "source": [
    "result.analysis_tables"
   ]
  },
  {
   "cell_type": "code",
   "execution_count": 7,
   "metadata": {
    "ExecuteTime": {
     "end_time": "2024-04-22T08:22:15.726857200Z",
     "start_time": "2024-04-22T08:22:15.439580300Z"
    },
    "collapsed": false,
    "jupyter": {
     "outputs_hidden": false
    }
   },
   "outputs": [
    {
     "ename": "IndexError",
     "evalue": "list index out of range",
     "output_type": "error",
     "traceback": [
      "\u001b[1;31m---------------------------------------------------------------------------\u001b[0m",
      "\u001b[1;31mIndexError\u001b[0m                                Traceback (most recent call last)",
      "Cell \u001b[1;32mIn[7], line 5\u001b[0m\n\u001b[0;32m      3\u001b[0m test \u001b[38;5;241m=\u001b[39m AB_TEST\n\u001b[0;32m      4\u001b[0m ed \u001b[38;5;241m=\u001b[39m ExperimentData(data)\n\u001b[1;32m----> 5\u001b[0m result \u001b[38;5;241m=\u001b[39m \u001b[43mtest\u001b[49m\u001b[38;5;241;43m.\u001b[39;49m\u001b[43mexecute\u001b[49m\u001b[43m(\u001b[49m\u001b[43med\u001b[49m\u001b[43m)\u001b[49m\n",
      "File \u001b[1;32mC:\\Projects\\HypEx\\hypex\\experiments\\base.py:71\u001b[0m, in \u001b[0;36mExperiment.execute\u001b[1;34m(self, data)\u001b[0m\n\u001b[0;32m     69\u001b[0m     executor\u001b[38;5;241m.\u001b[39mkey \u001b[38;5;241m=\u001b[39m \u001b[38;5;28mself\u001b[39m\u001b[38;5;241m.\u001b[39mkey\n\u001b[0;32m     70\u001b[0m     executor\u001b[38;5;241m.\u001b[39mrandom_state \u001b[38;5;241m=\u001b[39m \u001b[38;5;28mself\u001b[39m\u001b[38;5;241m.\u001b[39mrandom_state\n\u001b[1;32m---> 71\u001b[0m     experiment_data \u001b[38;5;241m=\u001b[39m \u001b[43mexecutor\u001b[49m\u001b[38;5;241;43m.\u001b[39;49m\u001b[43mexecute\u001b[49m\u001b[43m(\u001b[49m\u001b[43mexperiment_data\u001b[49m\u001b[43m)\u001b[49m\n\u001b[0;32m     72\u001b[0m \u001b[38;5;28;01mreturn\u001b[39;00m experiment_data\n",
      "File \u001b[1;32mC:\\Projects\\HypEx\\hypex\\analyzers\\ab.py:52\u001b[0m, in \u001b[0;36mABAnalyzer.execute\u001b[1;34m(self, data)\u001b[0m\n\u001b[0;32m     48\u001b[0m         values \u001b[38;5;241m=\u001b[39m t_data\u001b[38;5;241m.\u001b[39mdata\u001b[38;5;241m.\u001b[39mvalues\u001b[38;5;241m.\u001b[39mtolist()\n\u001b[0;32m     49\u001b[0m         \u001b[38;5;28;01mfor\u001b[39;00m idx, value \u001b[38;5;129;01min\u001b[39;00m \u001b[38;5;28mzip\u001b[39m(indexes, values):\n\u001b[0;32m     50\u001b[0m             \u001b[38;5;66;03m# TODO: fix this\u001b[39;00m\n\u001b[0;32m     51\u001b[0m             analysis_data[\n\u001b[1;32m---> 52\u001b[0m                 \u001b[38;5;124mf\u001b[39m\u001b[38;5;124m\"\u001b[39m\u001b[38;5;132;01m{\u001b[39;00mc\u001b[38;5;241m.\u001b[39m\u001b[38;5;18m__name__\u001b[39m\u001b[38;5;132;01m}\u001b[39;00m\u001b[38;5;124m \u001b[39m\u001b[38;5;132;01m{\u001b[39;00m\u001b[43midx\u001b[49m\u001b[38;5;241;43m.\u001b[39;49m\u001b[43msplit\u001b[49m\u001b[43m(\u001b[49m\u001b[38;5;124;43m'\u001b[39;49m\u001b[38;5;124;43m╰╰\u001b[39;49m\u001b[38;5;124;43m'\u001b[39;49m\u001b[43m)\u001b[49m\u001b[43m[\u001b[49m\u001b[38;5;241;43m1\u001b[39;49m\u001b[43m]\u001b[49m\u001b[38;5;241m.\u001b[39msplit(\u001b[38;5;124m'\u001b[39m\u001b[38;5;124m[[]\u001b[39m\u001b[38;5;124m'\u001b[39m)[\u001b[38;5;241m0\u001b[39m]\u001b[38;5;132;01m}\u001b[39;00m\u001b[38;5;124m\"\u001b[39m\n\u001b[0;32m     53\u001b[0m             ] \u001b[38;5;241m=\u001b[39m value[\u001b[38;5;241m0\u001b[39m]\n\u001b[0;32m     54\u001b[0m analysis_data \u001b[38;5;241m=\u001b[39m Dataset\u001b[38;5;241m.\u001b[39mfrom_dict(\n\u001b[0;32m     55\u001b[0m     [analysis_data],\n\u001b[0;32m     56\u001b[0m     {f: StatisticRole() \u001b[38;5;28;01mfor\u001b[39;00m f \u001b[38;5;129;01min\u001b[39;00m analysis_data},\n\u001b[0;32m     57\u001b[0m     BackendsEnum\u001b[38;5;241m.\u001b[39mpandas,\n\u001b[0;32m     58\u001b[0m )\n\u001b[0;32m     60\u001b[0m \u001b[38;5;28;01mreturn\u001b[39;00m \u001b[38;5;28mself\u001b[39m\u001b[38;5;241m.\u001b[39m_set_value(data, analysis_data)\n",
      "\u001b[1;31mIndexError\u001b[0m: list index out of range"
     ]
    }
   ],
   "source": [
    "from hypex.experiments.ab import AB_TEST\n",
    "\n",
    "test = AB_TEST\n",
    "ed = ExperimentData(data)\n",
    "result = test.execute(ed)"
   ]
  },
  {
   "cell_type": "code",
   "execution_count": null,
   "metadata": {
    "ExecuteTime": {
     "end_time": "2024-04-22T08:22:18.203036Z",
     "start_time": "2024-04-22T08:22:18.149686200Z"
    },
    "collapsed": false,
    "jupyter": {
     "outputs_hidden": false
    }
   },
   "outputs": [],
   "source": [
    "result.analysis_tables['ABAnalyzer╰╰']"
   ]
  },
  {
   "cell_type": "code",
   "execution_count": null,
   "metadata": {
    "ExecuteTime": {
     "end_time": "2024-04-22T08:22:46.924828600Z",
     "start_time": "2024-04-22T08:22:46.662232200Z"
    },
    "collapsed": false,
    "jupyter": {
     "outputs_hidden": false
    }
   },
   "outputs": [],
   "source": [
    "from hypex.experiments.homogeneity import HOMOGENEITY_TEST\n",
    "\n",
    "test = HOMOGENEITY_TEST\n",
    "ed = ExperimentData(data)\n",
    "result = test.execute(ed)"
   ]
  },
  {
   "cell_type": "code",
   "execution_count": null,
   "metadata": {
    "ExecuteTime": {
     "end_time": "2024-04-22T08:22:47.457007Z",
     "start_time": "2024-04-22T08:22:47.434010900Z"
    },
    "collapsed": false,
    "jupyter": {
     "outputs_hidden": false
    }
   },
   "outputs": [],
   "source": [
    "result.analysis_tables"
   ]
  },
  {
   "cell_type": "code",
   "execution_count": null,
   "metadata": {
    "ExecuteTime": {
     "end_time": "2024-04-18T14:01:08.269096600Z",
     "start_time": "2024-04-18T14:01:05.115335600Z"
    },
    "collapsed": false,
    "jupyter": {
     "outputs_hidden": false
    }
   },
   "outputs": [],
   "source": [
    "import pandas as pd\n",
    "import warnings\n",
    "warnings.simplefilter(action='ignore', category=pd.errors.PerformanceWarning)\n",
    "\n",
    "from hypex.comparators import TTest, KSTest, GroupSizes, GroupDifference\n",
    "from hypex.utils import SpaceEnum\n",
    "from hypex.splitters import AASplitter\n",
    "from hypex.analyzers import OneAASplitAnalyzer\n",
    "from hypex.experiments import CycledExperiment, Experiment, OnRoleExperiment\n",
    "\n",
    "aa = Experiment(\n",
    "    executors=[\n",
    "        AASplitter(),\n",
    "        OnRoleExperiment(\n",
    "            executors=[\n",
    "                GroupSizes(grouping_role=TreatmentRole(), space=SpaceEnum.additional),\n",
    "                GroupDifference(grouping_role=TreatmentRole(), space=SpaceEnum.additional),\n",
    "                TTest(grouping_role=TreatmentRole(), space=SpaceEnum.additional),\n",
    "                KSTest(grouping_role=TreatmentRole(), space=SpaceEnum.additional),\n",
    "            ],\n",
    "            role=TargetRole(),\n",
    "        )\n",
    "    ]\n",
    ")\n",
    "experiment = CycledExperiment(n_iterations=20, inner_executor=aa, analyzer=OneAASplitAnalyzer())\n",
    "ed = ExperimentData(data)\n",
    "res = experiment.execute(ed)"
   ]
  },
  {
   "cell_type": "code",
   "execution_count": null,
   "metadata": {
    "ExecuteTime": {
     "end_time": "2024-04-18T14:01:08.308949Z",
     "start_time": "2024-04-18T14:01:08.262530800Z"
    }
   },
   "outputs": [],
   "source": [
    "res.additional_fields"
   ]
  },
  {
   "cell_type": "code",
   "execution_count": null,
   "metadata": {
    "ExecuteTime": {
     "end_time": "2024-04-18T14:01:08.752132600Z",
     "start_time": "2024-04-18T14:01:08.309946400Z"
    },
    "collapsed": false,
    "jupyter": {
     "outputs_hidden": false
    }
   },
   "outputs": [],
   "source": [
    "res.analysis_tables"
   ]
  },
  {
   "cell_type": "code",
   "execution_count": null,
   "metadata": {
    "ExecuteTime": {
     "end_time": "2024-04-18T14:01:08.826538Z",
     "start_time": "2024-04-18T14:01:08.742100900Z"
    },
    "collapsed": false,
    "jupyter": {
     "outputs_hidden": false
    }
   },
   "outputs": [],
   "source": [
    "res_analyzer = OneAASplitAnalyzer().execute(res)"
   ]
  },
  {
   "cell_type": "code",
   "execution_count": null,
   "metadata": {
    "ExecuteTime": {
     "end_time": "2024-04-18T14:01:08.889290Z",
     "start_time": "2024-04-18T14:01:08.824534900Z"
    },
    "collapsed": false,
    "jupyter": {
     "outputs_hidden": false
    }
   },
   "outputs": [],
   "source": [
    "res_analyzer.analysis_tables['OneAASplitAnalyzer╰╰']"
   ]
  },
  {
   "cell_type": "code",
   "execution_count": null,
   "metadata": {
    "ExecuteTime": {
     "end_time": "2024-04-18T14:01:08.918821400Z",
     "start_time": "2024-04-18T14:01:08.855054100Z"
    },
    "collapsed": false,
    "jupyter": {
     "outputs_hidden": false
    }
   },
   "outputs": [],
   "source": [
    "# analyser version\n",
    "\n",
    "from hypex.dataset import StatisticRole\n",
    "\n",
    "new_res = {}\n",
    "fields = ['pre_spends', 'post_spends'] # получаем столбцы по TargetRole\n",
    "tests = ['KSTest', 'TTest']\n",
    "for j in fields:\n",
    "    for i in list(res.analysis_tables.keys()):\n",
    "        if j in i and i.split('╰╰')[0] in tests:\n",
    "            test = i.split('╰╰')[0]\n",
    "            if j not in new_res:\n",
    "                new_res[j] = {test: []}\n",
    "            elif test not in new_res[j]:\n",
    "                new_res[j].update({test: []})\n",
    "            new_res[j][test].append(list(res.analysis_tables[i].data['pass'])[0])\n",
    "    new_res[j] = Dataset.from_dict(new_res[j], roles={}).mean()\n",
    "    new_res[j].add_column(new_res[j].apply(\n",
    "                lambda x: int(0.8 * 0.05 <= x['TTest'] <= 1.2 * 0.05), {'TTest passed': StatisticRole()}, axis=1\n",
    "            ))\n",
    "    new_res[j].add_column(new_res[j].apply(\n",
    "                lambda x: int(0.8 * 0.05 <= x['KSTest'] <= 1.2 * 0.05), {'KSTest passed': StatisticRole()}, axis=1\n",
    "            ))\n",
    "new_res"
   ]
  },
  {
   "cell_type": "code",
   "execution_count": null,
   "metadata": {
    "ExecuteTime": {
     "end_time": "2024-04-18T14:01:08.978471Z",
     "start_time": "2024-04-18T14:01:08.918821400Z"
    },
    "collapsed": false,
    "jupyter": {
     "outputs_hidden": false
    }
   },
   "outputs": [],
   "source": [
    "import pandas as pd\n",
    "\n",
    "t = pd.read_csv(\"data.csv\")\n",
    "t.sample(frac=1, random_state=None)"
   ]
  },
  {
   "cell_type": "code",
   "execution_count": null,
   "metadata": {
    "ExecuteTime": {
     "end_time": "2024-04-22T08:28:49.498975900Z",
     "start_time": "2024-04-22T08:28:45.617595400Z"
    },
    "collapsed": false,
    "jupyter": {
     "outputs_hidden": false
    }
   },
   "outputs": [],
   "source": [
    "from hypex.hypotheses.hypothesis import Hypothesis\n",
    "ed, exp  = Hypothesis(\"test_config.json\").execute()"
   ]
  },
  {
   "cell_type": "code",
   "execution_count": null,
   "metadata": {
    "ExecuteTime": {
     "end_time": "2024-04-22T08:28:49.764377100Z",
     "start_time": "2024-04-22T08:28:49.504977Z"
    },
    "collapsed": false,
    "jupyter": {
     "outputs_hidden": false
    }
   },
   "outputs": [],
   "source": [
    "res = exp.execute(ed)"
   ]
  },
  {
   "cell_type": "code",
   "execution_count": null,
   "metadata": {
    "ExecuteTime": {
     "end_time": "2024-04-22T08:28:49.816551900Z",
     "start_time": "2024-04-22T08:28:49.772377Z"
    },
    "collapsed": false,
    "jupyter": {
     "outputs_hidden": false
    }
   },
   "outputs": [],
   "source": [
    "exp.executors[1].executors[0].space"
   ]
  },
  {
   "cell_type": "code",
   "execution_count": null,
   "metadata": {
    "ExecuteTime": {
     "end_time": "2024-04-22T08:28:49.912968Z",
     "start_time": "2024-04-22T08:28:49.811554500Z"
    },
    "collapsed": false,
    "jupyter": {
     "outputs_hidden": false
    }
   },
   "outputs": [],
   "source": [
    "res.analysis_tables"
   ]
  },
  {
   "cell_type": "code",
   "execution_count": null,
   "metadata": {
    "ExecuteTime": {
     "end_time": "2024-04-22T08:28:50.024577600Z",
     "start_time": "2024-04-22T08:28:49.913940400Z"
    },
    "collapsed": false,
    "jupyter": {
     "outputs_hidden": false
    }
   },
   "outputs": [],
   "source": [
    "config = {\n",
    "  \"dataset\": {\n",
    "    \"path\": \"data.csv\",\n",
    "    \"roles\": {\n",
    "      \"role_names\": [\n",
    "        \"Info\",\n",
    "        \"Treatment\",\n",
    "        \"Target\",\n",
    "        \"Target\",\n",
    "      ],\n",
    "      \"columns\": [\n",
    "        \"user_id\",\n",
    "        \"treat\",\n",
    "        \"pre_spends\",\n",
    "        \"post_spends\"\n",
    "      ]\n",
    "    },\n",
    "    \"backend\": \"pandas\"\n",
    "  },\n",
    "  \"experiment\": {\n",
    "    \"AASplitter\": {\n",
    "      \"control_size\": 0.5,\n",
    "      \"random_state\": None\n",
    "    },\n",
    "    \"OnRoleExperiment\": {\n",
    "      \"executors\": {\n",
    "        \"GroupDifference\": {\n",
    "          \"grouping_role\": \"Treatment\",\n",
    "          \"space\": \"additional\"\n",
    "        }\n",
    "      },\n",
    "      \"role\": \"Target\"\n",
    "    }\n",
    "  },\n",
    "  \"report\": {}\n",
    "} \n",
    "\n",
    "ed, exp  = Hypothesis(config).execute()"
   ]
  },
  {
   "cell_type": "code",
   "execution_count": null,
   "metadata": {
    "ExecuteTime": {
     "end_time": "2024-04-22T08:29:24.623652200Z",
     "start_time": "2024-04-22T08:29:24.470626200Z"
    },
    "collapsed": false,
    "jupyter": {
     "outputs_hidden": false
    }
   },
   "outputs": [],
   "source": [
    "res = exp.execute(ed)"
   ]
  },
  {
   "cell_type": "code",
   "execution_count": null,
   "metadata": {
    "ExecuteTime": {
     "end_time": "2024-04-22T08:29:32.086144900Z",
     "start_time": "2024-04-22T08:29:31.986329600Z"
    },
    "collapsed": false,
    "jupyter": {
     "outputs_hidden": false
    }
   },
   "outputs": [],
   "source": [
    "res.analysis_tables"
   ]
  }
 ],
 "metadata": {
  "kernelspec": {
   "display_name": "Python 3 (ipykernel)",
   "language": "python",
   "name": "python3"
  },
  "language_info": {
   "codemirror_mode": {
    "name": "ipython",
    "version": 3
   },
   "file_extension": ".py",
   "mimetype": "text/x-python",
   "name": "python",
   "nbconvert_exporter": "python",
   "pygments_lexer": "ipython3",
   "version": "3.12.2"
  }
 },
 "nbformat": 4,
 "nbformat_minor": 4
}
