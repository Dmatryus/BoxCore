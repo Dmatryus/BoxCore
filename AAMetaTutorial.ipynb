{
 "cells": [
  {
   "cell_type": "code",
   "execution_count": 14,
   "metadata": {
    "ExecuteTime": {
     "end_time": "2024-04-08T14:41:07.215160200Z",
     "start_time": "2024-04-08T14:41:07.197759Z"
    }
   },
   "outputs": [],
   "source": [
    "from hypex.dataset.dataset import Dataset, ExperimentData\n",
    "from hypex.dataset.roles import (\n",
    "    InfoRole,\n",
    "    FeatureRole,\n",
    "    TreatmentRole,\n",
    "    PreTargetRole,\n",
    "    TargetRole,\n",
    ")\n",
    "from hypex.experiments.aa_test import AA_TEST\n",
    "from hypex.reporters.aa import AADictReporter"
   ]
  },
  {
   "cell_type": "code",
   "execution_count": 15,
   "metadata": {
    "ExecuteTime": {
     "end_time": "2024-04-08T14:41:07.293947700Z",
     "start_time": "2024-04-08T14:41:07.218311500Z"
    }
   },
   "outputs": [
    {
     "data": {
      "text/plain": "      user_id  signup_month  treat  pre_spends  post_spends   age gender  \\\n0           0             0      0       488.0   414.444444   NaN      M   \n1           1             8      1       512.5   462.222222  26.0    NaN   \n2           2             7      1       483.0   479.444444  25.0      M   \n3           3             0      0       501.5   424.333333  39.0      M   \n4           4             1      1       543.0   514.555556  18.0      F   \n...       ...           ...    ...         ...          ...   ...    ...   \n9995     9995            10      1       538.5   450.444444  42.0      M   \n9996     9996             0      0       500.5   430.888889  26.0      F   \n9997     9997             3      1       473.0   534.111111  22.0      F   \n9998     9998             2      1       495.0   523.222222  67.0      F   \n9999     9999             7      1       508.0   475.888889  38.0      F   \n\n        industry  \n0     E-commerce  \n1     E-commerce  \n2      Logistics  \n3     E-commerce  \n4     E-commerce  \n...          ...  \n9995   Logistics  \n9996   Logistics  \n9997  E-commerce  \n9998  E-commerce  \n9999  E-commerce  \n\n[10000 rows x 8 columns]"
     },
     "execution_count": 15,
     "metadata": {},
     "output_type": "execute_result"
    }
   ],
   "source": [
    "data = Dataset(\n",
    "    roles={\n",
    "        \"user_id\": InfoRole(),\n",
    "        \"signup_month\": FeatureRole(),\n",
    "        \"treat\": TreatmentRole(),\n",
    "        \"pre_spends\": TargetRole(),\n",
    "        \"post_spends\": TargetRole(),\n",
    "        \"age\": FeatureRole(),\n",
    "        \"gender\": FeatureRole(),\n",
    "        \"industry\": FeatureRole(),\n",
    "    }, data=\"data.csv\",\n",
    ")\n",
    "data"
   ]
  },
  {
   "cell_type": "code",
   "execution_count": 16,
   "metadata": {
    "ExecuteTime": {
     "end_time": "2024-04-08T14:41:07.365573900Z",
     "start_time": "2024-04-08T14:41:07.291964100Z"
    }
   },
   "outputs": [
    {
     "data": {
      "text/plain": "{'user_id': Info,\n 'signup_month': Feature,\n 'treat': Treatment,\n 'pre_spends': Target,\n 'post_spends': Target,\n 'age': Feature,\n 'gender': Feature,\n 'industry': Feature}"
     },
     "execution_count": 16,
     "metadata": {},
     "output_type": "execute_result"
    }
   ],
   "source": [
    "data.roles"
   ]
  },
  {
   "cell_type": "code",
   "execution_count": 17,
   "metadata": {
    "ExecuteTime": {
     "end_time": "2024-04-08T14:41:07.490251700Z",
     "start_time": "2024-04-08T14:41:07.319852600Z"
    }
   },
   "outputs": [],
   "source": [
    "test = AA_TEST\n",
    "ed = ExperimentData(data)\n",
    "result = test.execute(ed)"
   ]
  },
  {
   "cell_type": "code",
   "execution_count": 18,
   "metadata": {
    "ExecuteTime": {
     "end_time": "2024-04-08T14:41:07.561534700Z",
     "start_time": "2024-04-08T14:41:07.494683900Z"
    }
   },
   "outputs": [
    {
     "data": {
      "text/plain": "   TTest p-value  TTest pass  KSTest p-value  KSTest pass  mean test score\n0       0.173506         0.0        0.215686          0.0         0.201626"
     },
     "execution_count": 18,
     "metadata": {},
     "output_type": "execute_result"
    }
   ],
   "source": [
    "result.analysis_tables['OneAASplitAnalyzer╰╰']"
   ]
  },
  {
   "cell_type": "code",
   "execution_count": 19,
   "metadata": {
    "collapsed": false,
    "ExecuteTime": {
     "end_time": "2024-04-08T14:41:07.565029300Z",
     "start_time": "2024-04-08T14:41:07.521033800Z"
    }
   },
   "outputs": [
    {
     "data": {
      "text/plain": "{'random_state': None,\n 'B pre_spends control mean': 487.3426,\n 'B pre_spends difference': -0.4977000000000089,\n 'B pre_spends difference %': -0.10212528106511298,\n 'B pre_spends test mean': 486.8449,\n 'B post_spends control mean': 452.7185777777778,\n 'B post_spends difference': -1.108044444444488,\n 'B post_spends difference %': -0.24475347353392074,\n 'B post_spends test mean': 451.6105333333333}"
     },
     "execution_count": 19,
     "metadata": {},
     "output_type": "execute_result"
    }
   ],
   "source": [
    "AADictReporter().report(result)"
   ]
  },
  {
   "cell_type": "code",
   "execution_count": 20,
   "metadata": {
    "ExecuteTime": {
     "end_time": "2024-04-08T14:41:07.778358600Z",
     "start_time": "2024-04-08T14:41:07.553554500Z"
    }
   },
   "outputs": [
    {
     "data": {
      "text/plain": "{'backend': 'pandas',\n 'roles': {'role_names': ['B'], 'columns': [Statistic]},\n 'data': {'data': {'B': [452.7185777777778,\n    -1.108044444444488,\n    -0.24475347353392074,\n    451.6105333333333]},\n  'index': ['post_spends control mean',\n   'post_spends difference',\n   'post_spends difference %',\n   'post_spends test mean']}}"
     },
     "execution_count": 20,
     "metadata": {},
     "output_type": "execute_result"
    }
   ],
   "source": [
    "result.analysis_tables['GroupDifference╰╰post_spends[A]'].to_dict()"
   ]
  },
  {
   "cell_type": "code",
   "execution_count": 21,
   "metadata": {
    "ExecuteTime": {
     "end_time": "2024-04-08T14:41:07.846629300Z",
     "start_time": "2024-04-08T14:41:07.583680800Z"
    }
   },
   "outputs": [],
   "source": [
    "from hypex.experiments.ab_test import AB_TEST\n",
    "\n",
    "test = AB_TEST\n",
    "ed = ExperimentData(data)\n",
    "result = test.execute(ed)"
   ]
  },
  {
   "cell_type": "code",
   "outputs": [
    {
     "data": {
      "text/plain": "{'GroupSizes╰╰pre_spends[[]':                       1\n control size    4936.00\n control size %    49.36\n test size       5064.00\n test size %       50.64,\n 'GroupDifference╰╰pre_spends[[]':                                   1\n pre_spends control mean  484.911973\n pre_spends difference      4.308406\n pre_spends difference %    0.888492\n pre_spends test mean     489.220379,\n 'TTest╰╰pre_spends[[]':    group  statistic       p-value  pass\n 0      1 -11.489293  2.315047e-30  True,\n 'MannWhitney╰╰pre_spends[[]':    group   statistic       p-value  pass\n 0      1  11509971.0  7.624263e-12  True,\n 'GroupSizes╰╰post_spends[[]':                       1\n control size    4936.00\n control size %    49.36\n test size       5064.00\n test size %       50.64,\n 'GroupDifference╰╰post_spends[[]':                                    1\n post_spends control mean  420.046619\n post_spends difference     63.424045\n post_spends difference %   15.099287\n post_spends test mean     483.470664,\n 'TTest╰╰post_spends[[]':    group   statistic  p-value  pass\n 0      1 -135.560001      0.0  True,\n 'MannWhitney╰╰post_spends[[]':    group  statistic  p-value  pass\n 0      1   408754.5      0.0  True}"
     },
     "execution_count": 22,
     "metadata": {},
     "output_type": "execute_result"
    }
   ],
   "source": [
    "result.analysis_tables"
   ],
   "metadata": {
    "collapsed": false,
    "ExecuteTime": {
     "end_time": "2024-04-08T14:41:07.914736500Z",
     "start_time": "2024-04-08T14:41:07.837627700Z"
    }
   },
   "execution_count": 22
  },
  {
   "cell_type": "code",
   "outputs": [],
   "source": [
    "from hypex.experiments.homogeneity_test import HOMOGENEITY_TEST\n",
    "\n",
    "test = HOMOGENEITY_TEST\n",
    "ed = ExperimentData(data)\n",
    "result = test.execute(ed)"
   ],
   "metadata": {
    "collapsed": false,
    "ExecuteTime": {
     "end_time": "2024-04-08T14:41:08.394968400Z",
     "start_time": "2024-04-08T14:41:07.901737800Z"
    }
   },
   "execution_count": 23
  },
  {
   "cell_type": "code",
   "outputs": [
    {
     "data": {
      "text/plain": "{'GroupDifference╰╰pre_spends[[]':                                   1\n pre_spends control mean  484.911973\n pre_spends difference      4.308406\n pre_spends difference %    0.888492\n pre_spends test mean     489.220379,\n 'TTest╰╰pre_spends[[]':    group  statistic       p-value  pass\n 0      1 -11.489293  2.315047e-30  True,\n 'KSTest╰╰pre_spends[[]':    group  statistic       p-value  pass\n 0      1   0.077573  1.559150e-13  True,\n 'GroupDifference╰╰post_spends[[]':                                    1\n post_spends control mean  420.046619\n post_spends difference     63.424045\n post_spends difference %   15.099287\n post_spends test mean     483.470664,\n 'TTest╰╰post_spends[[]':    group   statistic  p-value  pass\n 0      1 -135.560001      0.0  True,\n 'KSTest╰╰post_spends[[]':    group  statistic  p-value  pass\n 0      1     0.8959      0.0  True,\n 'OneAASplitAnalyzer╰╰':    TTest p-value  TTest pass  KSTest p-value  KSTest pass  mean test score\n 0   1.157524e-30         1.0    7.795751e-14          1.0     5.197167e-14}"
     },
     "execution_count": 24,
     "metadata": {},
     "output_type": "execute_result"
    }
   ],
   "source": [
    "result.analysis_tables"
   ],
   "metadata": {
    "collapsed": false,
    "ExecuteTime": {
     "end_time": "2024-04-08T14:41:08.468981400Z",
     "start_time": "2024-04-08T14:41:08.396965900Z"
    }
   },
   "execution_count": 24
  },
  {
   "cell_type": "code",
   "outputs": [],
   "source": [
    "from hypex.comparators.hypothesis_testing import TTest, KSTest\n",
    "from hypex.comparators.comparators import GroupSizes, GroupDifference\n",
    "from hypex.utils.enums import SpaceEnum\n",
    "from hypex.splitters.aa import AASplitter\n",
    "from hypex.analyzers.aa import OneAASplitAnalyzer\n",
    "from hypex.experiments.base import CycledExperiment, Experiment, OnRoleExperiment \n",
    "\n",
    "aa = Experiment(\n",
    "    executors=[\n",
    "        AASplitter(),\n",
    "        OnRoleExperiment(\n",
    "            executors=[\n",
    "                TTest(grouping_role=TreatmentRole(), space=SpaceEnum.additional),\n",
    "                KSTest(grouping_role=TreatmentRole(), space=SpaceEnum.additional),\n",
    "            ],\n",
    "            role=TargetRole(),\n",
    "        )\n",
    "    ]\n",
    ")\n",
    "experiment = CycledExperiment(n_iterations=5, inner_executor=aa, analyzer=OneAASplitAnalyzer()) \n",
    "ed = ExperimentData(data)\n",
    "res = experiment.execute(ed)"
   ],
   "metadata": {
    "collapsed": false,
    "ExecuteTime": {
     "end_time": "2024-04-08T14:50:09.842851600Z",
     "start_time": "2024-04-08T14:50:08.924335400Z"
    }
   },
   "execution_count": 30
  },
  {
   "cell_type": "code",
   "outputs": [
    {
     "data": {
      "text/plain": "False"
     },
     "execution_count": 51,
     "metadata": {},
     "output_type": "execute_result"
    }
   ],
   "source": [
    "list(res.analysis_tables['TTest╰╰pre_spends[A]0'].data['pass'])[0]"
   ],
   "metadata": {
    "collapsed": false,
    "ExecuteTime": {
     "end_time": "2024-04-09T08:01:47.006383800Z",
     "start_time": "2024-04-09T08:01:46.980571500Z"
    }
   },
   "execution_count": 51
  },
  {
   "cell_type": "code",
   "outputs": [
    {
     "data": {
      "text/plain": "{'pre_spends':       KSTest  TTest\n mean     0.0    0.0,\n 'post_spends':       KSTest  TTest\n mean     0.0    0.0}"
     },
     "execution_count": 64,
     "metadata": {},
     "output_type": "execute_result"
    }
   ],
   "source": [
    "new_res = {}\n",
    "fields = ['pre_spends', 'post_spends'] # получаем столбцы по TargetRole\n",
    "for j in fields:\n",
    "    for i in list(res.analysis_tables.keys()):  \n",
    "        if j in i: \n",
    "            test = i.split('╰╰')[0]\n",
    "            if j not in new_res: \n",
    "                new_res[j] = {test: []}\n",
    "            elif test not in new_res[j]: \n",
    "                new_res[j].update({test: []}) \n",
    "            new_res[j][test].append(list(res.analysis_tables[i].data['pass'])[0])\n",
    "    new_res[j] = Dataset.from_dict(new_res[j], roles={}).mean()\n",
    "\n",
    "# ds = Dataset.from_dict(new_res, roles={})\n",
    "#      \n",
    "# for key, value in new_res.items(): \n",
    "#     for key1, value1 in value.items(): \n",
    "#         new_res[key][key1] = mean(value1) \n",
    "new_res"
   ],
   "metadata": {
    "collapsed": false,
    "ExecuteTime": {
     "end_time": "2024-04-09T08:34:53.434822Z",
     "start_time": "2024-04-09T08:34:53.394528500Z"
    }
   },
   "execution_count": 64
  },
  {
   "cell_type": "code",
   "outputs": [],
   "source": [],
   "metadata": {
    "collapsed": false,
    "ExecuteTime": {
     "end_time": "2024-04-08T14:41:08.985449200Z",
     "start_time": "2024-04-08T14:41:08.951644200Z"
    }
   },
   "execution_count": 26
  }
 ],
 "metadata": {
  "kernelspec": {
   "display_name": "Python 3",
   "language": "python",
   "name": "python3"
  },
  "language_info": {
   "codemirror_mode": {
    "name": "ipython",
    "version": 3
   },
   "file_extension": ".py",
   "mimetype": "text/x-python",
   "name": "python",
   "nbconvert_exporter": "python",
   "pygments_lexer": "ipython3",
   "version": "3.10.11"
  }
 },
 "nbformat": 4,
 "nbformat_minor": 2
}
