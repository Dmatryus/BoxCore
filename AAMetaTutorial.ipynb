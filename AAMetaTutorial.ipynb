{
 "cells": [
  {
   "cell_type": "code",
   "execution_count": 1,
   "metadata": {
    "ExecuteTime": {
     "end_time": "2024-04-03T08:51:16.609609500Z",
     "start_time": "2024-04-03T08:51:09.947633900Z"
    }
   },
   "outputs": [],
   "source": [
    "from hypex.dataset.dataset import Dataset, ExperimentData\n",
    "from hypex.dataset.roles import (\n",
    "    InfoRole,\n",
    "    FeatureRole,\n",
    "    TreatmentRole,\n",
    "    PreTargetRole,\n",
    "    TargetRole,\n",
    ")\n",
    "from hypex.experiments.aa_test import AA_TEST"
   ]
  },
  {
   "cell_type": "code",
   "execution_count": 2,
   "metadata": {
    "ExecuteTime": {
     "end_time": "2024-04-03T08:51:16.792300300Z",
     "start_time": "2024-04-03T08:51:16.610608700Z"
    }
   },
   "outputs": [
    {
     "data": {
      "text/plain": [
       "      user_id  signup_month  treat  pre_spends  post_spends   age gender  \\\n",
       "0           0             0      0       488.0   414.444444   NaN      M   \n",
       "1           1             8      1       512.5   462.222222  26.0    NaN   \n",
       "2           2             7      1       483.0   479.444444  25.0      M   \n",
       "3           3             0      0       501.5   424.333333  39.0      M   \n",
       "4           4             1      1       543.0   514.555556  18.0      F   \n",
       "...       ...           ...    ...         ...          ...   ...    ...   \n",
       "9995     9995            10      1       538.5   450.444444  42.0      M   \n",
       "9996     9996             0      0       500.5   430.888889  26.0      F   \n",
       "9997     9997             3      1       473.0   534.111111  22.0      F   \n",
       "9998     9998             2      1       495.0   523.222222  67.0      F   \n",
       "9999     9999             7      1       508.0   475.888889  38.0      F   \n",
       "\n",
       "        industry  \n",
       "0     E-commerce  \n",
       "1     E-commerce  \n",
       "2      Logistics  \n",
       "3     E-commerce  \n",
       "4     E-commerce  \n",
       "...          ...  \n",
       "9995   Logistics  \n",
       "9996   Logistics  \n",
       "9997  E-commerce  \n",
       "9998  E-commerce  \n",
       "9999  E-commerce  \n",
       "\n",
       "[10000 rows x 8 columns]"
      ]
     },
     "execution_count": 2,
     "metadata": {},
     "output_type": "execute_result"
    }
   ],
   "source": [
    "data = Dataset(\n",
    "    roles={\n",
    "        \"user_id\": InfoRole(),\n",
    "        \"signup_month\": FeatureRole(),\n",
    "        \"treat\": TreatmentRole(),\n",
    "        \"pre_spends\": PreTargetRole(),\n",
    "        \"post_spends\": TargetRole(),\n",
    "        \"age\": FeatureRole(),\n",
    "        \"gender\": FeatureRole(),\n",
    "        \"industry\": FeatureRole(),\n",
    "    }, data=\"data.csv\",\n",
    ")\n",
    "data"
   ]
  },
  {
   "cell_type": "code",
   "execution_count": 3,
   "metadata": {
    "ExecuteTime": {
     "end_time": "2024-04-03T08:51:16.873127300Z",
     "start_time": "2024-04-03T08:51:16.754788100Z"
    }
   },
   "outputs": [
    {
     "data": {
      "text/plain": [
       "{'user_id': Info,\n",
       " 'signup_month': Feature,\n",
       " 'treat': Treatment,\n",
       " 'pre_spends': PreTarget,\n",
       " 'post_spends': Target,\n",
       " 'age': Feature,\n",
       " 'gender': Feature,\n",
       " 'industry': Feature}"
      ]
     },
     "execution_count": 3,
     "metadata": {},
     "output_type": "execute_result"
    }
   ],
   "source": [
    "data.roles"
   ]
  },
  {
   "cell_type": "code",
   "execution_count": 4,
   "metadata": {
    "ExecuteTime": {
     "end_time": "2024-04-03T08:51:16.955733900Z",
     "start_time": "2024-04-03T08:51:16.786004400Z"
    }
   },
   "outputs": [
    {
     "ename": "NameError",
     "evalue": "name 'target_field' is not defined",
     "output_type": "error",
     "traceback": [
      "\u001b[1;31m---------------------------------------------------------------------------\u001b[0m",
      "\u001b[1;31mNameError\u001b[0m                                 Traceback (most recent call last)",
      "\u001b[1;32mc:\\Projects\\HypEx\\AAMetaTutorial.ipynb Cell 4\u001b[0m line \u001b[0;36m3\n\u001b[0;32m      <a href='vscode-notebook-cell:/c%3A/Projects/HypEx/AAMetaTutorial.ipynb#W3sZmlsZQ%3D%3D?line=0'>1</a>\u001b[0m test \u001b[39m=\u001b[39m AA_TEST\n\u001b[0;32m      <a href='vscode-notebook-cell:/c%3A/Projects/HypEx/AAMetaTutorial.ipynb#W3sZmlsZQ%3D%3D?line=1'>2</a>\u001b[0m ed \u001b[39m=\u001b[39m ExperimentData(data)\n\u001b[1;32m----> <a href='vscode-notebook-cell:/c%3A/Projects/HypEx/AAMetaTutorial.ipynb#W3sZmlsZQ%3D%3D?line=2'>3</a>\u001b[0m result \u001b[39m=\u001b[39m test\u001b[39m.\u001b[39;49mexecute(ed)\n",
      "File \u001b[1;32mc:\\Projects\\HypEx\\hypex\\experiment\\experiment.py:150\u001b[0m, in \u001b[0;36mExperiment.execute\u001b[1;34m(self, data)\u001b[0m\n\u001b[0;32m    148\u001b[0m experiment_data \u001b[39m=\u001b[39m deepcopy(data) \u001b[39mif\u001b[39;00m \u001b[39mself\u001b[39m\u001b[39m.\u001b[39mtransformer \u001b[39melse\u001b[39;00m data\n\u001b[0;32m    149\u001b[0m \u001b[39mfor\u001b[39;00m executor \u001b[39min\u001b[39;00m \u001b[39mself\u001b[39m\u001b[39m.\u001b[39mexecutors:\n\u001b[1;32m--> 150\u001b[0m     experiment_data \u001b[39m=\u001b[39m executor\u001b[39m.\u001b[39;49mexecute(experiment_data)\n\u001b[0;32m    151\u001b[0m \u001b[39mreturn\u001b[39;00m experiment_data\n",
      "File \u001b[1;32mc:\\Projects\\HypEx\\hypex\\experiment\\experiment.py:230\u001b[0m, in \u001b[0;36mOnRoleExperiment.execute\u001b[1;34m(self, data)\u001b[0m\n\u001b[0;32m    228\u001b[0m \u001b[39mfor\u001b[39;00m field \u001b[39min\u001b[39;00m data\u001b[39m.\u001b[39mget_columns_by_roles(\u001b[39mself\u001b[39m\u001b[39m.\u001b[39mrole):\n\u001b[0;32m    229\u001b[0m     data\u001b[39m.\u001b[39mtmp_roles \u001b[39m=\u001b[39m {field: TempTargetRole()}\n\u001b[1;32m--> 230\u001b[0m     data \u001b[39m=\u001b[39m \u001b[39msuper\u001b[39;49m()\u001b[39m.\u001b[39;49mexecute(data)\n\u001b[0;32m    231\u001b[0m     data\u001b[39m.\u001b[39mtmp_roles \u001b[39m=\u001b[39m {}\n\u001b[0;32m    232\u001b[0m \u001b[39mreturn\u001b[39;00m data\n",
      "File \u001b[1;32mc:\\Projects\\HypEx\\hypex\\experiment\\experiment.py:150\u001b[0m, in \u001b[0;36mExperiment.execute\u001b[1;34m(self, data)\u001b[0m\n\u001b[0;32m    148\u001b[0m experiment_data \u001b[39m=\u001b[39m deepcopy(data) \u001b[39mif\u001b[39;00m \u001b[39mself\u001b[39m\u001b[39m.\u001b[39mtransformer \u001b[39melse\u001b[39;00m data\n\u001b[0;32m    149\u001b[0m \u001b[39mfor\u001b[39;00m executor \u001b[39min\u001b[39;00m \u001b[39mself\u001b[39m\u001b[39m.\u001b[39mexecutors:\n\u001b[1;32m--> 150\u001b[0m     experiment_data \u001b[39m=\u001b[39m executor\u001b[39m.\u001b[39;49mexecute(experiment_data)\n\u001b[0;32m    151\u001b[0m \u001b[39mreturn\u001b[39;00m experiment_data\n",
      "File \u001b[1;32mc:\\Projects\\HypEx\\hypex\\comparators\\comparators.py:95\u001b[0m, in \u001b[0;36mGroupComparator.execute\u001b[1;34m(self, data)\u001b[0m\n\u001b[0;32m     94\u001b[0m \u001b[39mdef\u001b[39;00m \u001b[39mexecute\u001b[39m(\u001b[39mself\u001b[39m, data: ExperimentData) \u001b[39m-\u001b[39m\u001b[39m>\u001b[39m ExperimentData:\n\u001b[1;32m---> 95\u001b[0m     compare_result \u001b[39m=\u001b[39m \u001b[39mself\u001b[39;49m\u001b[39m.\u001b[39;49m_compare(data)\n\u001b[0;32m     96\u001b[0m     result_dataset \u001b[39m=\u001b[39m \u001b[39mself\u001b[39m\u001b[39m.\u001b[39m_local_extract_dataset(\n\u001b[0;32m     97\u001b[0m         compare_result, {key: StatisticRole() \u001b[39mfor\u001b[39;00m key, _ \u001b[39min\u001b[39;00m compare_result\u001b[39m.\u001b[39mitems()}\n\u001b[0;32m     98\u001b[0m     )\n\u001b[0;32m     99\u001b[0m     \u001b[39mreturn\u001b[39;00m \u001b[39mself\u001b[39m\u001b[39m.\u001b[39m_set_value(data, result_dataset)\n",
      "File \u001b[1;32mc:\\Projects\\HypEx\\hypex\\comparators\\comparators.py:66\u001b[0m, in \u001b[0;36mGroupComparator._compare\u001b[1;34m(self, data)\u001b[0m\n\u001b[0;32m     63\u001b[0m group_field \u001b[39m=\u001b[39m \u001b[39mself\u001b[39m\u001b[39m.\u001b[39m__group_field_searching(data)\n\u001b[0;32m     64\u001b[0m group_name \u001b[39m=\u001b[39m (\n\u001b[0;32m     65\u001b[0m     \u001b[39mstr\u001b[39m(data\u001b[39m.\u001b[39mid_name_mapping\u001b[39m.\u001b[39mget(group_field[\u001b[39m0\u001b[39m], group_field)) \u001b[39mif\u001b[39;00m \u001b[39mself\u001b[39m\u001b[39m.\u001b[39m__additional_mode \u001b[39melse\u001b[39;00m \u001b[39mstr\u001b[39m(group_field))[\u001b[39m0\u001b[39m]\n\u001b[1;32m---> 66\u001b[0m \u001b[39mself\u001b[39m\u001b[39m.\u001b[39mkey \u001b[39m=\u001b[39m \u001b[39mf\u001b[39m\u001b[39m\"\u001b[39m\u001b[39m{\u001b[39;00mtarget_field\u001b[39m}\u001b[39;00m\u001b[39m[\u001b[39m\u001b[39m{\u001b[39;00mgroup_name\u001b[39m}\u001b[39;00m\u001b[39m]\u001b[39m\u001b[39m\"\u001b[39m\n\u001b[0;32m     67\u001b[0m grouping_data \u001b[39m=\u001b[39m \u001b[39mself\u001b[39m\u001b[39m.\u001b[39m__get_grouping_data(data, group_field)\n\u001b[0;32m     68\u001b[0m \u001b[39mif\u001b[39;00m \u001b[39mlen\u001b[39m(grouping_data) \u001b[39m>\u001b[39m \u001b[39m1\u001b[39m:\n",
      "\u001b[1;31mNameError\u001b[0m: name 'target_field' is not defined"
     ]
    }
   ],
   "source": [
    "test = AA_TEST\n",
    "ed = ExperimentData(data)\n",
    "result = test.execute(ed)"
   ]
  },
  {
   "cell_type": "code",
   "execution_count": 5,
   "metadata": {
    "ExecuteTime": {
     "end_time": "2024-04-03T08:51:17.003915500Z",
     "start_time": "2024-04-03T08:51:16.958737800Z"
    },
    "collapsed": false
   },
   "outputs": [
    {
     "data": {
      "text/plain": [
       "{'GroupDifference╰╰post_spends[AASplitter]':                                    B\n",
       " post_spends control mean  452.718578\n",
       " post_spends difference     -1.108044\n",
       " post_spends difference %   -0.244753\n",
       " post_spends test mean     451.610533,\n",
       " 'TTest╰╰post_spends[AASplitter]':                                group  statistic   p-value   pass\n",
       " TTest╰╰post_spends[AASplitter]     B   1.406066  0.159736  False,\n",
       " 'KSTest╰╰post_spends[AASplitter]':                                 group  statistic   p-value   pass\n",
       " KSTest╰╰post_spends[AASplitter]     B     0.0212  0.211152  False,\n",
       " 'OneAASplitAnalyzer╰╰0':    TTest p-value  TTest pass  KSTest p-value  KSTest pass  mean test score\n",
       " 0       0.159736         0.0        0.211152          0.0         0.194013}"
      ]
     },
     "execution_count": 5,
     "metadata": {},
     "output_type": "execute_result"
    }
   ],
   "source": [
    "result.analysis_tables"
   ]
  }
 ],
 "metadata": {
  "kernelspec": {
   "display_name": "Python 3",
   "language": "python",
   "name": "python3"
  },
  "language_info": {
   "codemirror_mode": {
    "name": "ipython",
    "version": 3
   },
   "file_extension": ".py",
   "mimetype": "text/x-python",
   "name": "python",
   "nbconvert_exporter": "python",
   "pygments_lexer": "ipython3",
   "version": "3.10.11"
  }
 },
 "nbformat": 4,
 "nbformat_minor": 2
}
