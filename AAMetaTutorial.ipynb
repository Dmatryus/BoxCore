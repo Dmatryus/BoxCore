{
 "cells": [
  {
   "cell_type": "code",
   "execution_count": 1,
   "metadata": {
    "ExecuteTime": {
     "end_time": "2024-04-09T13:10:32.225148Z",
     "start_time": "2024-04-09T13:10:30.913984200Z"
    }
   },
   "outputs": [
    {
     "name": "stdout",
     "output_type": "stream",
     "text": [
      "None\n"
     ]
    }
   ],
   "source": [
    "from hypex.dataset.dataset import Dataset, ExperimentData\n",
    "from hypex.dataset.roles import (\n",
    "    InfoRole,\n",
    "    FeatureRole,\n",
    "    TreatmentRole,\n",
    "    TargetRole,\n",
    ")\n",
    "from hypex.experiments.aa_test import AA_TEST\n",
    "from hypex.reporters.aa import AADictReporter"
   ]
  },
  {
   "cell_type": "code",
   "execution_count": 2,
   "metadata": {
    "ExecuteTime": {
     "end_time": "2024-04-09T13:10:32.284601300Z",
     "start_time": "2024-04-09T13:10:32.227160300Z"
    }
   },
   "outputs": [
    {
     "data": {
      "text/plain": "      user_id  signup_month  treat  pre_spends  post_spends   age gender  \\\n0           0             0      0       488.0   414.444444   NaN      M   \n1           1             8      1       512.5   462.222222  26.0    NaN   \n2           2             7      1       483.0   479.444444  25.0      M   \n3           3             0      0       501.5   424.333333  39.0      M   \n4           4             1      1       543.0   514.555556  18.0      F   \n...       ...           ...    ...         ...          ...   ...    ...   \n9995     9995            10      1       538.5   450.444444  42.0      M   \n9996     9996             0      0       500.5   430.888889  26.0      F   \n9997     9997             3      1       473.0   534.111111  22.0      F   \n9998     9998             2      1       495.0   523.222222  67.0      F   \n9999     9999             7      1       508.0   475.888889  38.0      F   \n\n        industry  \n0     E-commerce  \n1     E-commerce  \n2      Logistics  \n3     E-commerce  \n4     E-commerce  \n...          ...  \n9995   Logistics  \n9996   Logistics  \n9997  E-commerce  \n9998  E-commerce  \n9999  E-commerce  \n\n[10000 rows x 8 columns]"
     },
     "execution_count": 2,
     "metadata": {},
     "output_type": "execute_result"
    }
   ],
   "source": [
    "data = Dataset(\n",
    "    roles={\n",
    "        \"user_id\": InfoRole(),\n",
    "        \"signup_month\": FeatureRole(),\n",
    "        \"treat\": TreatmentRole(),\n",
    "        \"pre_spends\": TargetRole(),\n",
    "        \"post_spends\": TargetRole(),\n",
    "        \"age\": FeatureRole(),\n",
    "        \"gender\": FeatureRole(),\n",
    "        \"industry\": FeatureRole(),\n",
    "    }, data=\"data.csv\",\n",
    ")\n",
    "data"
   ]
  },
  {
   "cell_type": "code",
   "execution_count": 3,
   "metadata": {
    "ExecuteTime": {
     "end_time": "2024-04-09T13:10:32.306918500Z",
     "start_time": "2024-04-09T13:10:32.284601300Z"
    }
   },
   "outputs": [
    {
     "data": {
      "text/plain": "{'user_id': Info,\n 'signup_month': Feature,\n 'treat': Treatment,\n 'pre_spends': Target,\n 'post_spends': Target,\n 'age': Feature,\n 'gender': Feature,\n 'industry': Feature}"
     },
     "execution_count": 3,
     "metadata": {},
     "output_type": "execute_result"
    }
   ],
   "source": [
    "data.roles"
   ]
  },
  {
   "cell_type": "code",
   "execution_count": 4,
   "metadata": {
    "ExecuteTime": {
     "end_time": "2024-04-09T13:10:32.401098200Z",
     "start_time": "2024-04-09T13:10:32.305798200Z"
    }
   },
   "outputs": [],
   "source": [
    "test = AA_TEST\n",
    "ed = ExperimentData(data)\n",
    "result = test.execute(ed)"
   ]
  },
  {
   "cell_type": "code",
   "execution_count": 5,
   "metadata": {
    "ExecuteTime": {
     "end_time": "2024-04-09T13:10:32.484155200Z",
     "start_time": "2024-04-09T13:10:32.394099700Z"
    }
   },
   "outputs": [
    {
     "data": {
      "text/plain": "   TTest p-value  TTest pass  KSTest p-value  KSTest pass  mean test score\n0       0.173506         0.0        0.215686          0.0         0.201626"
     },
     "execution_count": 5,
     "metadata": {},
     "output_type": "execute_result"
    }
   ],
   "source": [
    "result.analysis_tables['OneAASplitAnalyzer╰╰']"
   ]
  },
  {
   "cell_type": "code",
   "execution_count": 6,
   "metadata": {
    "collapsed": false,
    "ExecuteTime": {
     "end_time": "2024-04-09T13:10:32.486675600Z",
     "start_time": "2024-04-09T13:10:32.429302500Z"
    }
   },
   "outputs": [
    {
     "data": {
      "text/plain": "{'random_state': None,\n 'B pre_spends control mean': 487.3426,\n 'B pre_spends difference': -0.4977000000000089,\n 'B pre_spends difference %': -0.10212528106511298,\n 'B pre_spends test mean': 486.8449,\n 'B post_spends control mean': 452.7185777777778,\n 'B post_spends difference': -1.108044444444488,\n 'B post_spends difference %': -0.24475347353392074,\n 'B post_spends test mean': 451.6105333333333}"
     },
     "execution_count": 6,
     "metadata": {},
     "output_type": "execute_result"
    }
   ],
   "source": [
    "AADictReporter().report(result)"
   ]
  },
  {
   "cell_type": "code",
   "execution_count": 7,
   "metadata": {
    "ExecuteTime": {
     "end_time": "2024-04-09T13:10:32.498447Z",
     "start_time": "2024-04-09T13:10:32.442672100Z"
    }
   },
   "outputs": [
    {
     "data": {
      "text/plain": "{'backend': 'pandas',\n 'roles': {'role_names': ['B'], 'columns': [Statistic]},\n 'data': {'data': {'B': [452.7185777777778,\n    -1.108044444444488,\n    -0.24475347353392074,\n    451.6105333333333]},\n  'index': ['post_spends control mean',\n   'post_spends difference',\n   'post_spends difference %',\n   'post_spends test mean']}}"
     },
     "execution_count": 7,
     "metadata": {},
     "output_type": "execute_result"
    }
   ],
   "source": [
    "result.analysis_tables['GroupDifference╰╰post_spends[A]'].to_dict()"
   ]
  },
  {
   "cell_type": "code",
   "execution_count": 8,
   "metadata": {
    "ExecuteTime": {
     "end_time": "2024-04-09T13:10:32.560931400Z",
     "start_time": "2024-04-09T13:10:32.459699800Z"
    }
   },
   "outputs": [],
   "source": [
    "from hypex.experiments.ab_test import AB_TEST\n",
    "\n",
    "test = AB_TEST\n",
    "ed = ExperimentData(data)\n",
    "result = test.execute(ed)"
   ]
  },
  {
   "cell_type": "code",
   "outputs": [
    {
     "data": {
      "text/plain": "{'GroupSizes╰╰pre_spends[[]':                       1\n control size    4936.00\n control size %    49.36\n test size       5064.00\n test size %       50.64,\n 'GroupDifference╰╰pre_spends[[]':                                   1\n pre_spends control mean  484.911973\n pre_spends difference      4.308406\n pre_spends difference %    0.888492\n pre_spends test mean     489.220379,\n 'TTest╰╰pre_spends[[]':    group  statistic       p-value  pass\n 0      1 -11.489293  2.315047e-30  True,\n 'MannWhitney╰╰pre_spends[[]':    group   statistic       p-value  pass\n 0      1  11509971.0  7.624263e-12  True,\n 'GroupSizes╰╰post_spends[[]':                       1\n control size    4936.00\n control size %    49.36\n test size       5064.00\n test size %       50.64,\n 'GroupDifference╰╰post_spends[[]':                                    1\n post_spends control mean  420.046619\n post_spends difference     63.424045\n post_spends difference %   15.099287\n post_spends test mean     483.470664,\n 'TTest╰╰post_spends[[]':    group   statistic  p-value  pass\n 0      1 -135.560001      0.0  True,\n 'MannWhitney╰╰post_spends[[]':    group  statistic  p-value  pass\n 0      1   408754.5      0.0  True,\n 'ABAnalyzer╰╰':    TTest p-value  TTest pass  MannWhitney p-value  MannWhitney pass\n 0   1.157524e-30         1.0         3.812131e-12               1.0}"
     },
     "execution_count": 9,
     "metadata": {},
     "output_type": "execute_result"
    }
   ],
   "source": [
    "result.analysis_tables"
   ],
   "metadata": {
    "collapsed": false,
    "ExecuteTime": {
     "end_time": "2024-04-09T13:10:32.622892200Z",
     "start_time": "2024-04-09T13:10:32.554416700Z"
    }
   },
   "execution_count": 9
  },
  {
   "cell_type": "code",
   "outputs": [],
   "source": [
    "from hypex.experiments.homogeneity_test import HOMOGENEITY_TEST\n",
    "\n",
    "test = HOMOGENEITY_TEST\n",
    "ed = ExperimentData(data)\n",
    "result = test.execute(ed)"
   ],
   "metadata": {
    "collapsed": false,
    "ExecuteTime": {
     "end_time": "2024-04-09T13:10:32.814794Z",
     "start_time": "2024-04-09T13:10:32.588723900Z"
    }
   },
   "execution_count": 10
  },
  {
   "cell_type": "code",
   "outputs": [
    {
     "data": {
      "text/plain": "{'GroupDifference╰╰pre_spends[[]':                                   1\n pre_spends control mean  484.911973\n pre_spends difference      4.308406\n pre_spends difference %    0.888492\n pre_spends test mean     489.220379,\n 'TTest╰╰pre_spends[[]':    group  statistic       p-value  pass\n 0      1 -11.489293  2.315047e-30  True,\n 'KSTest╰╰pre_spends[[]':    group  statistic       p-value  pass\n 0      1   0.077573  1.559150e-13  True,\n 'GroupDifference╰╰post_spends[[]':                                    1\n post_spends control mean  420.046619\n post_spends difference     63.424045\n post_spends difference %   15.099287\n post_spends test mean     483.470664,\n 'TTest╰╰post_spends[[]':    group   statistic  p-value  pass\n 0      1 -135.560001      0.0  True,\n 'KSTest╰╰post_spends[[]':    group  statistic  p-value  pass\n 0      1     0.8959      0.0  True,\n 'OneAASplitAnalyzer╰╰':    TTest p-value  TTest pass  KSTest p-value  KSTest pass  mean test score\n 0   1.157524e-30         1.0    7.795751e-14          1.0     5.197167e-14}"
     },
     "execution_count": 11,
     "metadata": {},
     "output_type": "execute_result"
    }
   ],
   "source": [
    "result.analysis_tables"
   ],
   "metadata": {
    "collapsed": false,
    "ExecuteTime": {
     "end_time": "2024-04-09T13:10:32.868307700Z",
     "start_time": "2024-04-09T13:10:32.817012500Z"
    }
   },
   "execution_count": 11
  },
  {
   "cell_type": "code",
   "outputs": [
    {
     "name": "stdout",
     "output_type": "stream",
     "text": [
      "None\n",
      "0, 1, 2, 3, 4, 5, 6, 7, 8, 9, 10, 11, 12, 13, 14, 15, 16, 17, 18, 19, 20, 21, 22, 23, 24, 25, 26, 27, 28, 29, 30, 31, 32, 33, 34, 35, 36, 37, 38, 39, 40, 41, 42, 43, 44, 45, 46, 47, 48, 49, 50, 51, 52, 53, 54, 55, 56, 57, 58, 59, 60, 61, 62, 63, 64, 65, 66, 67, 68, 69, 70, 71, 72, 73, 74, 75, 76, 77, 78, 79, 80, 81, 82, 83, 84, 85, 86, 87, 88, 89, 90, 91, 92, 93, 94, 95, 96, 97, 98, 99, 100, "
     ]
    },
    {
     "name": "stderr",
     "output_type": "stream",
     "text": [
      "C:\\Users\\User\\PycharmProjects\\HypEx\\hypex\\dataset\\backends\\pandas_backend.py:76: PerformanceWarning: DataFrame is highly fragmented.  This is usually the result of calling `frame.insert` many times, which has poor performance.  Consider joining all columns at once using pd.concat(axis=1) instead. To get a de-fragmented frame, use `newframe = frame.copy()`\n",
      "  self.data[name] = data\n"
     ]
    },
    {
     "name": "stdout",
     "output_type": "stream",
     "text": [
      "101, "
     ]
    },
    {
     "name": "stderr",
     "output_type": "stream",
     "text": [
      "C:\\Users\\User\\PycharmProjects\\HypEx\\hypex\\dataset\\backends\\pandas_backend.py:76: PerformanceWarning: DataFrame is highly fragmented.  This is usually the result of calling `frame.insert` many times, which has poor performance.  Consider joining all columns at once using pd.concat(axis=1) instead. To get a de-fragmented frame, use `newframe = frame.copy()`\n",
      "  self.data[name] = data\n"
     ]
    },
    {
     "name": "stdout",
     "output_type": "stream",
     "text": [
      "102, "
     ]
    },
    {
     "name": "stderr",
     "output_type": "stream",
     "text": [
      "C:\\Users\\User\\PycharmProjects\\HypEx\\hypex\\dataset\\backends\\pandas_backend.py:76: PerformanceWarning: DataFrame is highly fragmented.  This is usually the result of calling `frame.insert` many times, which has poor performance.  Consider joining all columns at once using pd.concat(axis=1) instead. To get a de-fragmented frame, use `newframe = frame.copy()`\n",
      "  self.data[name] = data\n"
     ]
    },
    {
     "name": "stdout",
     "output_type": "stream",
     "text": [
      "103, "
     ]
    },
    {
     "name": "stderr",
     "output_type": "stream",
     "text": [
      "C:\\Users\\User\\PycharmProjects\\HypEx\\hypex\\dataset\\backends\\pandas_backend.py:76: PerformanceWarning: DataFrame is highly fragmented.  This is usually the result of calling `frame.insert` many times, which has poor performance.  Consider joining all columns at once using pd.concat(axis=1) instead. To get a de-fragmented frame, use `newframe = frame.copy()`\n",
      "  self.data[name] = data\n"
     ]
    },
    {
     "name": "stdout",
     "output_type": "stream",
     "text": [
      "104, "
     ]
    },
    {
     "name": "stderr",
     "output_type": "stream",
     "text": [
      "C:\\Users\\User\\PycharmProjects\\HypEx\\hypex\\dataset\\backends\\pandas_backend.py:76: PerformanceWarning: DataFrame is highly fragmented.  This is usually the result of calling `frame.insert` many times, which has poor performance.  Consider joining all columns at once using pd.concat(axis=1) instead. To get a de-fragmented frame, use `newframe = frame.copy()`\n",
      "  self.data[name] = data\n"
     ]
    },
    {
     "name": "stdout",
     "output_type": "stream",
     "text": [
      "105, "
     ]
    },
    {
     "name": "stderr",
     "output_type": "stream",
     "text": [
      "C:\\Users\\User\\PycharmProjects\\HypEx\\hypex\\dataset\\backends\\pandas_backend.py:76: PerformanceWarning: DataFrame is highly fragmented.  This is usually the result of calling `frame.insert` many times, which has poor performance.  Consider joining all columns at once using pd.concat(axis=1) instead. To get a de-fragmented frame, use `newframe = frame.copy()`\n",
      "  self.data[name] = data\n"
     ]
    },
    {
     "name": "stdout",
     "output_type": "stream",
     "text": [
      "106, "
     ]
    },
    {
     "name": "stderr",
     "output_type": "stream",
     "text": [
      "C:\\Users\\User\\PycharmProjects\\HypEx\\hypex\\dataset\\backends\\pandas_backend.py:76: PerformanceWarning: DataFrame is highly fragmented.  This is usually the result of calling `frame.insert` many times, which has poor performance.  Consider joining all columns at once using pd.concat(axis=1) instead. To get a de-fragmented frame, use `newframe = frame.copy()`\n",
      "  self.data[name] = data\n"
     ]
    },
    {
     "name": "stdout",
     "output_type": "stream",
     "text": [
      "107, "
     ]
    },
    {
     "name": "stderr",
     "output_type": "stream",
     "text": [
      "C:\\Users\\User\\PycharmProjects\\HypEx\\hypex\\dataset\\backends\\pandas_backend.py:76: PerformanceWarning: DataFrame is highly fragmented.  This is usually the result of calling `frame.insert` many times, which has poor performance.  Consider joining all columns at once using pd.concat(axis=1) instead. To get a de-fragmented frame, use `newframe = frame.copy()`\n",
      "  self.data[name] = data\n"
     ]
    },
    {
     "name": "stdout",
     "output_type": "stream",
     "text": [
      "108, "
     ]
    },
    {
     "name": "stderr",
     "output_type": "stream",
     "text": [
      "C:\\Users\\User\\PycharmProjects\\HypEx\\hypex\\dataset\\backends\\pandas_backend.py:76: PerformanceWarning: DataFrame is highly fragmented.  This is usually the result of calling `frame.insert` many times, which has poor performance.  Consider joining all columns at once using pd.concat(axis=1) instead. To get a de-fragmented frame, use `newframe = frame.copy()`\n",
      "  self.data[name] = data\n"
     ]
    },
    {
     "name": "stdout",
     "output_type": "stream",
     "text": [
      "109, "
     ]
    },
    {
     "name": "stderr",
     "output_type": "stream",
     "text": [
      "C:\\Users\\User\\PycharmProjects\\HypEx\\hypex\\dataset\\backends\\pandas_backend.py:76: PerformanceWarning: DataFrame is highly fragmented.  This is usually the result of calling `frame.insert` many times, which has poor performance.  Consider joining all columns at once using pd.concat(axis=1) instead. To get a de-fragmented frame, use `newframe = frame.copy()`\n",
      "  self.data[name] = data\n"
     ]
    },
    {
     "name": "stdout",
     "output_type": "stream",
     "text": [
      "110, "
     ]
    },
    {
     "name": "stderr",
     "output_type": "stream",
     "text": [
      "C:\\Users\\User\\PycharmProjects\\HypEx\\hypex\\dataset\\backends\\pandas_backend.py:76: PerformanceWarning: DataFrame is highly fragmented.  This is usually the result of calling `frame.insert` many times, which has poor performance.  Consider joining all columns at once using pd.concat(axis=1) instead. To get a de-fragmented frame, use `newframe = frame.copy()`\n",
      "  self.data[name] = data\n"
     ]
    },
    {
     "name": "stdout",
     "output_type": "stream",
     "text": [
      "111, "
     ]
    },
    {
     "name": "stderr",
     "output_type": "stream",
     "text": [
      "C:\\Users\\User\\PycharmProjects\\HypEx\\hypex\\dataset\\backends\\pandas_backend.py:76: PerformanceWarning: DataFrame is highly fragmented.  This is usually the result of calling `frame.insert` many times, which has poor performance.  Consider joining all columns at once using pd.concat(axis=1) instead. To get a de-fragmented frame, use `newframe = frame.copy()`\n",
      "  self.data[name] = data\n"
     ]
    },
    {
     "name": "stdout",
     "output_type": "stream",
     "text": [
      "112, "
     ]
    },
    {
     "name": "stderr",
     "output_type": "stream",
     "text": [
      "C:\\Users\\User\\PycharmProjects\\HypEx\\hypex\\dataset\\backends\\pandas_backend.py:76: PerformanceWarning: DataFrame is highly fragmented.  This is usually the result of calling `frame.insert` many times, which has poor performance.  Consider joining all columns at once using pd.concat(axis=1) instead. To get a de-fragmented frame, use `newframe = frame.copy()`\n",
      "  self.data[name] = data\n"
     ]
    },
    {
     "name": "stdout",
     "output_type": "stream",
     "text": [
      "113, "
     ]
    },
    {
     "name": "stderr",
     "output_type": "stream",
     "text": [
      "C:\\Users\\User\\PycharmProjects\\HypEx\\hypex\\dataset\\backends\\pandas_backend.py:76: PerformanceWarning: DataFrame is highly fragmented.  This is usually the result of calling `frame.insert` many times, which has poor performance.  Consider joining all columns at once using pd.concat(axis=1) instead. To get a de-fragmented frame, use `newframe = frame.copy()`\n",
      "  self.data[name] = data\n"
     ]
    },
    {
     "name": "stdout",
     "output_type": "stream",
     "text": [
      "114, "
     ]
    },
    {
     "name": "stderr",
     "output_type": "stream",
     "text": [
      "C:\\Users\\User\\PycharmProjects\\HypEx\\hypex\\dataset\\backends\\pandas_backend.py:76: PerformanceWarning: DataFrame is highly fragmented.  This is usually the result of calling `frame.insert` many times, which has poor performance.  Consider joining all columns at once using pd.concat(axis=1) instead. To get a de-fragmented frame, use `newframe = frame.copy()`\n",
      "  self.data[name] = data\n"
     ]
    },
    {
     "name": "stdout",
     "output_type": "stream",
     "text": [
      "115, "
     ]
    },
    {
     "name": "stderr",
     "output_type": "stream",
     "text": [
      "C:\\Users\\User\\PycharmProjects\\HypEx\\hypex\\dataset\\backends\\pandas_backend.py:76: PerformanceWarning: DataFrame is highly fragmented.  This is usually the result of calling `frame.insert` many times, which has poor performance.  Consider joining all columns at once using pd.concat(axis=1) instead. To get a de-fragmented frame, use `newframe = frame.copy()`\n",
      "  self.data[name] = data\n"
     ]
    },
    {
     "name": "stdout",
     "output_type": "stream",
     "text": [
      "116, "
     ]
    },
    {
     "name": "stderr",
     "output_type": "stream",
     "text": [
      "C:\\Users\\User\\PycharmProjects\\HypEx\\hypex\\dataset\\backends\\pandas_backend.py:76: PerformanceWarning: DataFrame is highly fragmented.  This is usually the result of calling `frame.insert` many times, which has poor performance.  Consider joining all columns at once using pd.concat(axis=1) instead. To get a de-fragmented frame, use `newframe = frame.copy()`\n",
      "  self.data[name] = data\n"
     ]
    },
    {
     "name": "stdout",
     "output_type": "stream",
     "text": [
      "117, "
     ]
    },
    {
     "name": "stderr",
     "output_type": "stream",
     "text": [
      "C:\\Users\\User\\PycharmProjects\\HypEx\\hypex\\dataset\\backends\\pandas_backend.py:76: PerformanceWarning: DataFrame is highly fragmented.  This is usually the result of calling `frame.insert` many times, which has poor performance.  Consider joining all columns at once using pd.concat(axis=1) instead. To get a de-fragmented frame, use `newframe = frame.copy()`\n",
      "  self.data[name] = data\n"
     ]
    },
    {
     "name": "stdout",
     "output_type": "stream",
     "text": [
      "118, "
     ]
    },
    {
     "name": "stderr",
     "output_type": "stream",
     "text": [
      "C:\\Users\\User\\PycharmProjects\\HypEx\\hypex\\dataset\\backends\\pandas_backend.py:76: PerformanceWarning: DataFrame is highly fragmented.  This is usually the result of calling `frame.insert` many times, which has poor performance.  Consider joining all columns at once using pd.concat(axis=1) instead. To get a de-fragmented frame, use `newframe = frame.copy()`\n",
      "  self.data[name] = data\n"
     ]
    },
    {
     "name": "stdout",
     "output_type": "stream",
     "text": [
      "119, "
     ]
    },
    {
     "name": "stderr",
     "output_type": "stream",
     "text": [
      "C:\\Users\\User\\PycharmProjects\\HypEx\\hypex\\dataset\\backends\\pandas_backend.py:76: PerformanceWarning: DataFrame is highly fragmented.  This is usually the result of calling `frame.insert` many times, which has poor performance.  Consider joining all columns at once using pd.concat(axis=1) instead. To get a de-fragmented frame, use `newframe = frame.copy()`\n",
      "  self.data[name] = data\n"
     ]
    },
    {
     "name": "stdout",
     "output_type": "stream",
     "text": [
      "120, "
     ]
    },
    {
     "name": "stderr",
     "output_type": "stream",
     "text": [
      "C:\\Users\\User\\PycharmProjects\\HypEx\\hypex\\dataset\\backends\\pandas_backend.py:76: PerformanceWarning: DataFrame is highly fragmented.  This is usually the result of calling `frame.insert` many times, which has poor performance.  Consider joining all columns at once using pd.concat(axis=1) instead. To get a de-fragmented frame, use `newframe = frame.copy()`\n",
      "  self.data[name] = data\n"
     ]
    },
    {
     "name": "stdout",
     "output_type": "stream",
     "text": [
      "121, "
     ]
    },
    {
     "name": "stderr",
     "output_type": "stream",
     "text": [
      "C:\\Users\\User\\PycharmProjects\\HypEx\\hypex\\dataset\\backends\\pandas_backend.py:76: PerformanceWarning: DataFrame is highly fragmented.  This is usually the result of calling `frame.insert` many times, which has poor performance.  Consider joining all columns at once using pd.concat(axis=1) instead. To get a de-fragmented frame, use `newframe = frame.copy()`\n",
      "  self.data[name] = data\n"
     ]
    },
    {
     "name": "stdout",
     "output_type": "stream",
     "text": [
      "122, "
     ]
    },
    {
     "name": "stderr",
     "output_type": "stream",
     "text": [
      "C:\\Users\\User\\PycharmProjects\\HypEx\\hypex\\dataset\\backends\\pandas_backend.py:76: PerformanceWarning: DataFrame is highly fragmented.  This is usually the result of calling `frame.insert` many times, which has poor performance.  Consider joining all columns at once using pd.concat(axis=1) instead. To get a de-fragmented frame, use `newframe = frame.copy()`\n",
      "  self.data[name] = data\n"
     ]
    },
    {
     "name": "stdout",
     "output_type": "stream",
     "text": [
      "123, "
     ]
    },
    {
     "name": "stderr",
     "output_type": "stream",
     "text": [
      "C:\\Users\\User\\PycharmProjects\\HypEx\\hypex\\dataset\\backends\\pandas_backend.py:76: PerformanceWarning: DataFrame is highly fragmented.  This is usually the result of calling `frame.insert` many times, which has poor performance.  Consider joining all columns at once using pd.concat(axis=1) instead. To get a de-fragmented frame, use `newframe = frame.copy()`\n",
      "  self.data[name] = data\n"
     ]
    },
    {
     "name": "stdout",
     "output_type": "stream",
     "text": [
      "124, "
     ]
    },
    {
     "name": "stderr",
     "output_type": "stream",
     "text": [
      "C:\\Users\\User\\PycharmProjects\\HypEx\\hypex\\dataset\\backends\\pandas_backend.py:76: PerformanceWarning: DataFrame is highly fragmented.  This is usually the result of calling `frame.insert` many times, which has poor performance.  Consider joining all columns at once using pd.concat(axis=1) instead. To get a de-fragmented frame, use `newframe = frame.copy()`\n",
      "  self.data[name] = data\n"
     ]
    },
    {
     "name": "stdout",
     "output_type": "stream",
     "text": [
      "125, "
     ]
    },
    {
     "name": "stderr",
     "output_type": "stream",
     "text": [
      "C:\\Users\\User\\PycharmProjects\\HypEx\\hypex\\dataset\\backends\\pandas_backend.py:76: PerformanceWarning: DataFrame is highly fragmented.  This is usually the result of calling `frame.insert` many times, which has poor performance.  Consider joining all columns at once using pd.concat(axis=1) instead. To get a de-fragmented frame, use `newframe = frame.copy()`\n",
      "  self.data[name] = data\n"
     ]
    },
    {
     "name": "stdout",
     "output_type": "stream",
     "text": [
      "126, "
     ]
    },
    {
     "name": "stderr",
     "output_type": "stream",
     "text": [
      "C:\\Users\\User\\PycharmProjects\\HypEx\\hypex\\dataset\\backends\\pandas_backend.py:76: PerformanceWarning: DataFrame is highly fragmented.  This is usually the result of calling `frame.insert` many times, which has poor performance.  Consider joining all columns at once using pd.concat(axis=1) instead. To get a de-fragmented frame, use `newframe = frame.copy()`\n",
      "  self.data[name] = data\n"
     ]
    },
    {
     "name": "stdout",
     "output_type": "stream",
     "text": [
      "127, "
     ]
    },
    {
     "name": "stderr",
     "output_type": "stream",
     "text": [
      "C:\\Users\\User\\PycharmProjects\\HypEx\\hypex\\dataset\\backends\\pandas_backend.py:76: PerformanceWarning: DataFrame is highly fragmented.  This is usually the result of calling `frame.insert` many times, which has poor performance.  Consider joining all columns at once using pd.concat(axis=1) instead. To get a de-fragmented frame, use `newframe = frame.copy()`\n",
      "  self.data[name] = data\n"
     ]
    },
    {
     "name": "stdout",
     "output_type": "stream",
     "text": [
      "128, "
     ]
    },
    {
     "name": "stderr",
     "output_type": "stream",
     "text": [
      "C:\\Users\\User\\PycharmProjects\\HypEx\\hypex\\dataset\\backends\\pandas_backend.py:76: PerformanceWarning: DataFrame is highly fragmented.  This is usually the result of calling `frame.insert` many times, which has poor performance.  Consider joining all columns at once using pd.concat(axis=1) instead. To get a de-fragmented frame, use `newframe = frame.copy()`\n",
      "  self.data[name] = data\n"
     ]
    },
    {
     "name": "stdout",
     "output_type": "stream",
     "text": [
      "129, "
     ]
    },
    {
     "name": "stderr",
     "output_type": "stream",
     "text": [
      "C:\\Users\\User\\PycharmProjects\\HypEx\\hypex\\dataset\\backends\\pandas_backend.py:76: PerformanceWarning: DataFrame is highly fragmented.  This is usually the result of calling `frame.insert` many times, which has poor performance.  Consider joining all columns at once using pd.concat(axis=1) instead. To get a de-fragmented frame, use `newframe = frame.copy()`\n",
      "  self.data[name] = data\n"
     ]
    },
    {
     "name": "stdout",
     "output_type": "stream",
     "text": [
      "130, "
     ]
    },
    {
     "name": "stderr",
     "output_type": "stream",
     "text": [
      "C:\\Users\\User\\PycharmProjects\\HypEx\\hypex\\dataset\\backends\\pandas_backend.py:76: PerformanceWarning: DataFrame is highly fragmented.  This is usually the result of calling `frame.insert` many times, which has poor performance.  Consider joining all columns at once using pd.concat(axis=1) instead. To get a de-fragmented frame, use `newframe = frame.copy()`\n",
      "  self.data[name] = data\n"
     ]
    },
    {
     "name": "stdout",
     "output_type": "stream",
     "text": [
      "131, "
     ]
    },
    {
     "name": "stderr",
     "output_type": "stream",
     "text": [
      "C:\\Users\\User\\PycharmProjects\\HypEx\\hypex\\dataset\\backends\\pandas_backend.py:76: PerformanceWarning: DataFrame is highly fragmented.  This is usually the result of calling `frame.insert` many times, which has poor performance.  Consider joining all columns at once using pd.concat(axis=1) instead. To get a de-fragmented frame, use `newframe = frame.copy()`\n",
      "  self.data[name] = data\n"
     ]
    },
    {
     "name": "stdout",
     "output_type": "stream",
     "text": [
      "132, "
     ]
    },
    {
     "name": "stderr",
     "output_type": "stream",
     "text": [
      "C:\\Users\\User\\PycharmProjects\\HypEx\\hypex\\dataset\\backends\\pandas_backend.py:76: PerformanceWarning: DataFrame is highly fragmented.  This is usually the result of calling `frame.insert` many times, which has poor performance.  Consider joining all columns at once using pd.concat(axis=1) instead. To get a de-fragmented frame, use `newframe = frame.copy()`\n",
      "  self.data[name] = data\n"
     ]
    },
    {
     "name": "stdout",
     "output_type": "stream",
     "text": [
      "133, "
     ]
    },
    {
     "name": "stderr",
     "output_type": "stream",
     "text": [
      "C:\\Users\\User\\PycharmProjects\\HypEx\\hypex\\dataset\\backends\\pandas_backend.py:76: PerformanceWarning: DataFrame is highly fragmented.  This is usually the result of calling `frame.insert` many times, which has poor performance.  Consider joining all columns at once using pd.concat(axis=1) instead. To get a de-fragmented frame, use `newframe = frame.copy()`\n",
      "  self.data[name] = data\n"
     ]
    },
    {
     "name": "stdout",
     "output_type": "stream",
     "text": [
      "134, "
     ]
    },
    {
     "name": "stderr",
     "output_type": "stream",
     "text": [
      "C:\\Users\\User\\PycharmProjects\\HypEx\\hypex\\dataset\\backends\\pandas_backend.py:76: PerformanceWarning: DataFrame is highly fragmented.  This is usually the result of calling `frame.insert` many times, which has poor performance.  Consider joining all columns at once using pd.concat(axis=1) instead. To get a de-fragmented frame, use `newframe = frame.copy()`\n",
      "  self.data[name] = data\n"
     ]
    },
    {
     "name": "stdout",
     "output_type": "stream",
     "text": [
      "135, "
     ]
    },
    {
     "name": "stderr",
     "output_type": "stream",
     "text": [
      "C:\\Users\\User\\PycharmProjects\\HypEx\\hypex\\dataset\\backends\\pandas_backend.py:76: PerformanceWarning: DataFrame is highly fragmented.  This is usually the result of calling `frame.insert` many times, which has poor performance.  Consider joining all columns at once using pd.concat(axis=1) instead. To get a de-fragmented frame, use `newframe = frame.copy()`\n",
      "  self.data[name] = data\n"
     ]
    },
    {
     "name": "stdout",
     "output_type": "stream",
     "text": [
      "136, "
     ]
    },
    {
     "name": "stderr",
     "output_type": "stream",
     "text": [
      "C:\\Users\\User\\PycharmProjects\\HypEx\\hypex\\dataset\\backends\\pandas_backend.py:76: PerformanceWarning: DataFrame is highly fragmented.  This is usually the result of calling `frame.insert` many times, which has poor performance.  Consider joining all columns at once using pd.concat(axis=1) instead. To get a de-fragmented frame, use `newframe = frame.copy()`\n",
      "  self.data[name] = data\n"
     ]
    },
    {
     "name": "stdout",
     "output_type": "stream",
     "text": [
      "137, "
     ]
    },
    {
     "name": "stderr",
     "output_type": "stream",
     "text": [
      "C:\\Users\\User\\PycharmProjects\\HypEx\\hypex\\dataset\\backends\\pandas_backend.py:76: PerformanceWarning: DataFrame is highly fragmented.  This is usually the result of calling `frame.insert` many times, which has poor performance.  Consider joining all columns at once using pd.concat(axis=1) instead. To get a de-fragmented frame, use `newframe = frame.copy()`\n",
      "  self.data[name] = data\n"
     ]
    },
    {
     "name": "stdout",
     "output_type": "stream",
     "text": [
      "138, "
     ]
    },
    {
     "name": "stderr",
     "output_type": "stream",
     "text": [
      "C:\\Users\\User\\PycharmProjects\\HypEx\\hypex\\dataset\\backends\\pandas_backend.py:76: PerformanceWarning: DataFrame is highly fragmented.  This is usually the result of calling `frame.insert` many times, which has poor performance.  Consider joining all columns at once using pd.concat(axis=1) instead. To get a de-fragmented frame, use `newframe = frame.copy()`\n",
      "  self.data[name] = data\n"
     ]
    },
    {
     "name": "stdout",
     "output_type": "stream",
     "text": [
      "139, "
     ]
    },
    {
     "name": "stderr",
     "output_type": "stream",
     "text": [
      "C:\\Users\\User\\PycharmProjects\\HypEx\\hypex\\dataset\\backends\\pandas_backend.py:76: PerformanceWarning: DataFrame is highly fragmented.  This is usually the result of calling `frame.insert` many times, which has poor performance.  Consider joining all columns at once using pd.concat(axis=1) instead. To get a de-fragmented frame, use `newframe = frame.copy()`\n",
      "  self.data[name] = data\n"
     ]
    },
    {
     "name": "stdout",
     "output_type": "stream",
     "text": [
      "140, "
     ]
    },
    {
     "name": "stderr",
     "output_type": "stream",
     "text": [
      "C:\\Users\\User\\PycharmProjects\\HypEx\\hypex\\dataset\\backends\\pandas_backend.py:76: PerformanceWarning: DataFrame is highly fragmented.  This is usually the result of calling `frame.insert` many times, which has poor performance.  Consider joining all columns at once using pd.concat(axis=1) instead. To get a de-fragmented frame, use `newframe = frame.copy()`\n",
      "  self.data[name] = data\n"
     ]
    },
    {
     "name": "stdout",
     "output_type": "stream",
     "text": [
      "141, "
     ]
    },
    {
     "name": "stderr",
     "output_type": "stream",
     "text": [
      "C:\\Users\\User\\PycharmProjects\\HypEx\\hypex\\dataset\\backends\\pandas_backend.py:76: PerformanceWarning: DataFrame is highly fragmented.  This is usually the result of calling `frame.insert` many times, which has poor performance.  Consider joining all columns at once using pd.concat(axis=1) instead. To get a de-fragmented frame, use `newframe = frame.copy()`\n",
      "  self.data[name] = data\n"
     ]
    },
    {
     "name": "stdout",
     "output_type": "stream",
     "text": [
      "142, "
     ]
    },
    {
     "name": "stderr",
     "output_type": "stream",
     "text": [
      "C:\\Users\\User\\PycharmProjects\\HypEx\\hypex\\dataset\\backends\\pandas_backend.py:76: PerformanceWarning: DataFrame is highly fragmented.  This is usually the result of calling `frame.insert` many times, which has poor performance.  Consider joining all columns at once using pd.concat(axis=1) instead. To get a de-fragmented frame, use `newframe = frame.copy()`\n",
      "  self.data[name] = data\n"
     ]
    },
    {
     "name": "stdout",
     "output_type": "stream",
     "text": [
      "143, "
     ]
    },
    {
     "name": "stderr",
     "output_type": "stream",
     "text": [
      "C:\\Users\\User\\PycharmProjects\\HypEx\\hypex\\dataset\\backends\\pandas_backend.py:76: PerformanceWarning: DataFrame is highly fragmented.  This is usually the result of calling `frame.insert` many times, which has poor performance.  Consider joining all columns at once using pd.concat(axis=1) instead. To get a de-fragmented frame, use `newframe = frame.copy()`\n",
      "  self.data[name] = data\n"
     ]
    },
    {
     "name": "stdout",
     "output_type": "stream",
     "text": [
      "144, "
     ]
    },
    {
     "name": "stderr",
     "output_type": "stream",
     "text": [
      "C:\\Users\\User\\PycharmProjects\\HypEx\\hypex\\dataset\\backends\\pandas_backend.py:76: PerformanceWarning: DataFrame is highly fragmented.  This is usually the result of calling `frame.insert` many times, which has poor performance.  Consider joining all columns at once using pd.concat(axis=1) instead. To get a de-fragmented frame, use `newframe = frame.copy()`\n",
      "  self.data[name] = data\n"
     ]
    },
    {
     "name": "stdout",
     "output_type": "stream",
     "text": [
      "145, "
     ]
    },
    {
     "name": "stderr",
     "output_type": "stream",
     "text": [
      "C:\\Users\\User\\PycharmProjects\\HypEx\\hypex\\dataset\\backends\\pandas_backend.py:76: PerformanceWarning: DataFrame is highly fragmented.  This is usually the result of calling `frame.insert` many times, which has poor performance.  Consider joining all columns at once using pd.concat(axis=1) instead. To get a de-fragmented frame, use `newframe = frame.copy()`\n",
      "  self.data[name] = data\n"
     ]
    },
    {
     "name": "stdout",
     "output_type": "stream",
     "text": [
      "146, "
     ]
    },
    {
     "name": "stderr",
     "output_type": "stream",
     "text": [
      "C:\\Users\\User\\PycharmProjects\\HypEx\\hypex\\dataset\\backends\\pandas_backend.py:76: PerformanceWarning: DataFrame is highly fragmented.  This is usually the result of calling `frame.insert` many times, which has poor performance.  Consider joining all columns at once using pd.concat(axis=1) instead. To get a de-fragmented frame, use `newframe = frame.copy()`\n",
      "  self.data[name] = data\n"
     ]
    },
    {
     "name": "stdout",
     "output_type": "stream",
     "text": [
      "147, "
     ]
    },
    {
     "name": "stderr",
     "output_type": "stream",
     "text": [
      "C:\\Users\\User\\PycharmProjects\\HypEx\\hypex\\dataset\\backends\\pandas_backend.py:76: PerformanceWarning: DataFrame is highly fragmented.  This is usually the result of calling `frame.insert` many times, which has poor performance.  Consider joining all columns at once using pd.concat(axis=1) instead. To get a de-fragmented frame, use `newframe = frame.copy()`\n",
      "  self.data[name] = data\n"
     ]
    },
    {
     "name": "stdout",
     "output_type": "stream",
     "text": [
      "148, "
     ]
    },
    {
     "name": "stderr",
     "output_type": "stream",
     "text": [
      "C:\\Users\\User\\PycharmProjects\\HypEx\\hypex\\dataset\\backends\\pandas_backend.py:76: PerformanceWarning: DataFrame is highly fragmented.  This is usually the result of calling `frame.insert` many times, which has poor performance.  Consider joining all columns at once using pd.concat(axis=1) instead. To get a de-fragmented frame, use `newframe = frame.copy()`\n",
      "  self.data[name] = data\n"
     ]
    },
    {
     "name": "stdout",
     "output_type": "stream",
     "text": [
      "149, "
     ]
    },
    {
     "name": "stderr",
     "output_type": "stream",
     "text": [
      "C:\\Users\\User\\PycharmProjects\\HypEx\\hypex\\dataset\\backends\\pandas_backend.py:76: PerformanceWarning: DataFrame is highly fragmented.  This is usually the result of calling `frame.insert` many times, which has poor performance.  Consider joining all columns at once using pd.concat(axis=1) instead. To get a de-fragmented frame, use `newframe = frame.copy()`\n",
      "  self.data[name] = data\n"
     ]
    },
    {
     "name": "stdout",
     "output_type": "stream",
     "text": [
      "150, "
     ]
    },
    {
     "name": "stderr",
     "output_type": "stream",
     "text": [
      "C:\\Users\\User\\PycharmProjects\\HypEx\\hypex\\dataset\\backends\\pandas_backend.py:76: PerformanceWarning: DataFrame is highly fragmented.  This is usually the result of calling `frame.insert` many times, which has poor performance.  Consider joining all columns at once using pd.concat(axis=1) instead. To get a de-fragmented frame, use `newframe = frame.copy()`\n",
      "  self.data[name] = data\n"
     ]
    },
    {
     "name": "stdout",
     "output_type": "stream",
     "text": [
      "151, "
     ]
    },
    {
     "name": "stderr",
     "output_type": "stream",
     "text": [
      "C:\\Users\\User\\PycharmProjects\\HypEx\\hypex\\dataset\\backends\\pandas_backend.py:76: PerformanceWarning: DataFrame is highly fragmented.  This is usually the result of calling `frame.insert` many times, which has poor performance.  Consider joining all columns at once using pd.concat(axis=1) instead. To get a de-fragmented frame, use `newframe = frame.copy()`\n",
      "  self.data[name] = data\n"
     ]
    },
    {
     "name": "stdout",
     "output_type": "stream",
     "text": [
      "152, "
     ]
    },
    {
     "name": "stderr",
     "output_type": "stream",
     "text": [
      "C:\\Users\\User\\PycharmProjects\\HypEx\\hypex\\dataset\\backends\\pandas_backend.py:76: PerformanceWarning: DataFrame is highly fragmented.  This is usually the result of calling `frame.insert` many times, which has poor performance.  Consider joining all columns at once using pd.concat(axis=1) instead. To get a de-fragmented frame, use `newframe = frame.copy()`\n",
      "  self.data[name] = data\n"
     ]
    },
    {
     "name": "stdout",
     "output_type": "stream",
     "text": [
      "153, "
     ]
    },
    {
     "name": "stderr",
     "output_type": "stream",
     "text": [
      "C:\\Users\\User\\PycharmProjects\\HypEx\\hypex\\dataset\\backends\\pandas_backend.py:76: PerformanceWarning: DataFrame is highly fragmented.  This is usually the result of calling `frame.insert` many times, which has poor performance.  Consider joining all columns at once using pd.concat(axis=1) instead. To get a de-fragmented frame, use `newframe = frame.copy()`\n",
      "  self.data[name] = data\n"
     ]
    },
    {
     "name": "stdout",
     "output_type": "stream",
     "text": [
      "154, "
     ]
    },
    {
     "name": "stderr",
     "output_type": "stream",
     "text": [
      "C:\\Users\\User\\PycharmProjects\\HypEx\\hypex\\dataset\\backends\\pandas_backend.py:76: PerformanceWarning: DataFrame is highly fragmented.  This is usually the result of calling `frame.insert` many times, which has poor performance.  Consider joining all columns at once using pd.concat(axis=1) instead. To get a de-fragmented frame, use `newframe = frame.copy()`\n",
      "  self.data[name] = data\n"
     ]
    },
    {
     "name": "stdout",
     "output_type": "stream",
     "text": [
      "155, "
     ]
    },
    {
     "name": "stderr",
     "output_type": "stream",
     "text": [
      "C:\\Users\\User\\PycharmProjects\\HypEx\\hypex\\dataset\\backends\\pandas_backend.py:76: PerformanceWarning: DataFrame is highly fragmented.  This is usually the result of calling `frame.insert` many times, which has poor performance.  Consider joining all columns at once using pd.concat(axis=1) instead. To get a de-fragmented frame, use `newframe = frame.copy()`\n",
      "  self.data[name] = data\n"
     ]
    },
    {
     "name": "stdout",
     "output_type": "stream",
     "text": [
      "156, "
     ]
    },
    {
     "name": "stderr",
     "output_type": "stream",
     "text": [
      "C:\\Users\\User\\PycharmProjects\\HypEx\\hypex\\dataset\\backends\\pandas_backend.py:76: PerformanceWarning: DataFrame is highly fragmented.  This is usually the result of calling `frame.insert` many times, which has poor performance.  Consider joining all columns at once using pd.concat(axis=1) instead. To get a de-fragmented frame, use `newframe = frame.copy()`\n",
      "  self.data[name] = data\n"
     ]
    },
    {
     "name": "stdout",
     "output_type": "stream",
     "text": [
      "157, "
     ]
    },
    {
     "name": "stderr",
     "output_type": "stream",
     "text": [
      "C:\\Users\\User\\PycharmProjects\\HypEx\\hypex\\dataset\\backends\\pandas_backend.py:76: PerformanceWarning: DataFrame is highly fragmented.  This is usually the result of calling `frame.insert` many times, which has poor performance.  Consider joining all columns at once using pd.concat(axis=1) instead. To get a de-fragmented frame, use `newframe = frame.copy()`\n",
      "  self.data[name] = data\n"
     ]
    },
    {
     "name": "stdout",
     "output_type": "stream",
     "text": [
      "158, "
     ]
    },
    {
     "name": "stderr",
     "output_type": "stream",
     "text": [
      "C:\\Users\\User\\PycharmProjects\\HypEx\\hypex\\dataset\\backends\\pandas_backend.py:76: PerformanceWarning: DataFrame is highly fragmented.  This is usually the result of calling `frame.insert` many times, which has poor performance.  Consider joining all columns at once using pd.concat(axis=1) instead. To get a de-fragmented frame, use `newframe = frame.copy()`\n",
      "  self.data[name] = data\n"
     ]
    },
    {
     "name": "stdout",
     "output_type": "stream",
     "text": [
      "159, "
     ]
    },
    {
     "name": "stderr",
     "output_type": "stream",
     "text": [
      "C:\\Users\\User\\PycharmProjects\\HypEx\\hypex\\dataset\\backends\\pandas_backend.py:76: PerformanceWarning: DataFrame is highly fragmented.  This is usually the result of calling `frame.insert` many times, which has poor performance.  Consider joining all columns at once using pd.concat(axis=1) instead. To get a de-fragmented frame, use `newframe = frame.copy()`\n",
      "  self.data[name] = data\n"
     ]
    },
    {
     "name": "stdout",
     "output_type": "stream",
     "text": [
      "160, "
     ]
    },
    {
     "name": "stderr",
     "output_type": "stream",
     "text": [
      "C:\\Users\\User\\PycharmProjects\\HypEx\\hypex\\dataset\\backends\\pandas_backend.py:76: PerformanceWarning: DataFrame is highly fragmented.  This is usually the result of calling `frame.insert` many times, which has poor performance.  Consider joining all columns at once using pd.concat(axis=1) instead. To get a de-fragmented frame, use `newframe = frame.copy()`\n",
      "  self.data[name] = data\n"
     ]
    },
    {
     "name": "stdout",
     "output_type": "stream",
     "text": [
      "161, "
     ]
    },
    {
     "name": "stderr",
     "output_type": "stream",
     "text": [
      "C:\\Users\\User\\PycharmProjects\\HypEx\\hypex\\dataset\\backends\\pandas_backend.py:76: PerformanceWarning: DataFrame is highly fragmented.  This is usually the result of calling `frame.insert` many times, which has poor performance.  Consider joining all columns at once using pd.concat(axis=1) instead. To get a de-fragmented frame, use `newframe = frame.copy()`\n",
      "  self.data[name] = data\n"
     ]
    },
    {
     "name": "stdout",
     "output_type": "stream",
     "text": [
      "162, "
     ]
    },
    {
     "name": "stderr",
     "output_type": "stream",
     "text": [
      "C:\\Users\\User\\PycharmProjects\\HypEx\\hypex\\dataset\\backends\\pandas_backend.py:76: PerformanceWarning: DataFrame is highly fragmented.  This is usually the result of calling `frame.insert` many times, which has poor performance.  Consider joining all columns at once using pd.concat(axis=1) instead. To get a de-fragmented frame, use `newframe = frame.copy()`\n",
      "  self.data[name] = data\n"
     ]
    },
    {
     "name": "stdout",
     "output_type": "stream",
     "text": [
      "163, "
     ]
    },
    {
     "name": "stderr",
     "output_type": "stream",
     "text": [
      "C:\\Users\\User\\PycharmProjects\\HypEx\\hypex\\dataset\\backends\\pandas_backend.py:76: PerformanceWarning: DataFrame is highly fragmented.  This is usually the result of calling `frame.insert` many times, which has poor performance.  Consider joining all columns at once using pd.concat(axis=1) instead. To get a de-fragmented frame, use `newframe = frame.copy()`\n",
      "  self.data[name] = data\n"
     ]
    },
    {
     "name": "stdout",
     "output_type": "stream",
     "text": [
      "164, "
     ]
    },
    {
     "name": "stderr",
     "output_type": "stream",
     "text": [
      "C:\\Users\\User\\PycharmProjects\\HypEx\\hypex\\dataset\\backends\\pandas_backend.py:76: PerformanceWarning: DataFrame is highly fragmented.  This is usually the result of calling `frame.insert` many times, which has poor performance.  Consider joining all columns at once using pd.concat(axis=1) instead. To get a de-fragmented frame, use `newframe = frame.copy()`\n",
      "  self.data[name] = data\n"
     ]
    },
    {
     "name": "stdout",
     "output_type": "stream",
     "text": [
      "165, "
     ]
    },
    {
     "name": "stderr",
     "output_type": "stream",
     "text": [
      "C:\\Users\\User\\PycharmProjects\\HypEx\\hypex\\dataset\\backends\\pandas_backend.py:76: PerformanceWarning: DataFrame is highly fragmented.  This is usually the result of calling `frame.insert` many times, which has poor performance.  Consider joining all columns at once using pd.concat(axis=1) instead. To get a de-fragmented frame, use `newframe = frame.copy()`\n",
      "  self.data[name] = data\n"
     ]
    },
    {
     "name": "stdout",
     "output_type": "stream",
     "text": [
      "166, "
     ]
    },
    {
     "name": "stderr",
     "output_type": "stream",
     "text": [
      "C:\\Users\\User\\PycharmProjects\\HypEx\\hypex\\dataset\\backends\\pandas_backend.py:76: PerformanceWarning: DataFrame is highly fragmented.  This is usually the result of calling `frame.insert` many times, which has poor performance.  Consider joining all columns at once using pd.concat(axis=1) instead. To get a de-fragmented frame, use `newframe = frame.copy()`\n",
      "  self.data[name] = data\n"
     ]
    },
    {
     "name": "stdout",
     "output_type": "stream",
     "text": [
      "167, "
     ]
    },
    {
     "name": "stderr",
     "output_type": "stream",
     "text": [
      "C:\\Users\\User\\PycharmProjects\\HypEx\\hypex\\dataset\\backends\\pandas_backend.py:76: PerformanceWarning: DataFrame is highly fragmented.  This is usually the result of calling `frame.insert` many times, which has poor performance.  Consider joining all columns at once using pd.concat(axis=1) instead. To get a de-fragmented frame, use `newframe = frame.copy()`\n",
      "  self.data[name] = data\n"
     ]
    },
    {
     "name": "stdout",
     "output_type": "stream",
     "text": [
      "168, "
     ]
    },
    {
     "name": "stderr",
     "output_type": "stream",
     "text": [
      "C:\\Users\\User\\PycharmProjects\\HypEx\\hypex\\dataset\\backends\\pandas_backend.py:76: PerformanceWarning: DataFrame is highly fragmented.  This is usually the result of calling `frame.insert` many times, which has poor performance.  Consider joining all columns at once using pd.concat(axis=1) instead. To get a de-fragmented frame, use `newframe = frame.copy()`\n",
      "  self.data[name] = data\n"
     ]
    },
    {
     "name": "stdout",
     "output_type": "stream",
     "text": [
      "169, "
     ]
    },
    {
     "name": "stderr",
     "output_type": "stream",
     "text": [
      "C:\\Users\\User\\PycharmProjects\\HypEx\\hypex\\dataset\\backends\\pandas_backend.py:76: PerformanceWarning: DataFrame is highly fragmented.  This is usually the result of calling `frame.insert` many times, which has poor performance.  Consider joining all columns at once using pd.concat(axis=1) instead. To get a de-fragmented frame, use `newframe = frame.copy()`\n",
      "  self.data[name] = data\n"
     ]
    },
    {
     "name": "stdout",
     "output_type": "stream",
     "text": [
      "170, "
     ]
    },
    {
     "name": "stderr",
     "output_type": "stream",
     "text": [
      "C:\\Users\\User\\PycharmProjects\\HypEx\\hypex\\dataset\\backends\\pandas_backend.py:76: PerformanceWarning: DataFrame is highly fragmented.  This is usually the result of calling `frame.insert` many times, which has poor performance.  Consider joining all columns at once using pd.concat(axis=1) instead. To get a de-fragmented frame, use `newframe = frame.copy()`\n",
      "  self.data[name] = data\n"
     ]
    },
    {
     "name": "stdout",
     "output_type": "stream",
     "text": [
      "171, "
     ]
    },
    {
     "name": "stderr",
     "output_type": "stream",
     "text": [
      "C:\\Users\\User\\PycharmProjects\\HypEx\\hypex\\dataset\\backends\\pandas_backend.py:76: PerformanceWarning: DataFrame is highly fragmented.  This is usually the result of calling `frame.insert` many times, which has poor performance.  Consider joining all columns at once using pd.concat(axis=1) instead. To get a de-fragmented frame, use `newframe = frame.copy()`\n",
      "  self.data[name] = data\n"
     ]
    },
    {
     "name": "stdout",
     "output_type": "stream",
     "text": [
      "172, "
     ]
    },
    {
     "name": "stderr",
     "output_type": "stream",
     "text": [
      "C:\\Users\\User\\PycharmProjects\\HypEx\\hypex\\dataset\\backends\\pandas_backend.py:76: PerformanceWarning: DataFrame is highly fragmented.  This is usually the result of calling `frame.insert` many times, which has poor performance.  Consider joining all columns at once using pd.concat(axis=1) instead. To get a de-fragmented frame, use `newframe = frame.copy()`\n",
      "  self.data[name] = data\n"
     ]
    },
    {
     "name": "stdout",
     "output_type": "stream",
     "text": [
      "173, "
     ]
    },
    {
     "name": "stderr",
     "output_type": "stream",
     "text": [
      "C:\\Users\\User\\PycharmProjects\\HypEx\\hypex\\dataset\\backends\\pandas_backend.py:76: PerformanceWarning: DataFrame is highly fragmented.  This is usually the result of calling `frame.insert` many times, which has poor performance.  Consider joining all columns at once using pd.concat(axis=1) instead. To get a de-fragmented frame, use `newframe = frame.copy()`\n",
      "  self.data[name] = data\n"
     ]
    },
    {
     "name": "stdout",
     "output_type": "stream",
     "text": [
      "174, "
     ]
    },
    {
     "name": "stderr",
     "output_type": "stream",
     "text": [
      "C:\\Users\\User\\PycharmProjects\\HypEx\\hypex\\dataset\\backends\\pandas_backend.py:76: PerformanceWarning: DataFrame is highly fragmented.  This is usually the result of calling `frame.insert` many times, which has poor performance.  Consider joining all columns at once using pd.concat(axis=1) instead. To get a de-fragmented frame, use `newframe = frame.copy()`\n",
      "  self.data[name] = data\n"
     ]
    },
    {
     "name": "stdout",
     "output_type": "stream",
     "text": [
      "175, "
     ]
    },
    {
     "name": "stderr",
     "output_type": "stream",
     "text": [
      "C:\\Users\\User\\PycharmProjects\\HypEx\\hypex\\dataset\\backends\\pandas_backend.py:76: PerformanceWarning: DataFrame is highly fragmented.  This is usually the result of calling `frame.insert` many times, which has poor performance.  Consider joining all columns at once using pd.concat(axis=1) instead. To get a de-fragmented frame, use `newframe = frame.copy()`\n",
      "  self.data[name] = data\n"
     ]
    },
    {
     "name": "stdout",
     "output_type": "stream",
     "text": [
      "176, "
     ]
    },
    {
     "name": "stderr",
     "output_type": "stream",
     "text": [
      "C:\\Users\\User\\PycharmProjects\\HypEx\\hypex\\dataset\\backends\\pandas_backend.py:76: PerformanceWarning: DataFrame is highly fragmented.  This is usually the result of calling `frame.insert` many times, which has poor performance.  Consider joining all columns at once using pd.concat(axis=1) instead. To get a de-fragmented frame, use `newframe = frame.copy()`\n",
      "  self.data[name] = data\n"
     ]
    },
    {
     "name": "stdout",
     "output_type": "stream",
     "text": [
      "177, "
     ]
    },
    {
     "name": "stderr",
     "output_type": "stream",
     "text": [
      "C:\\Users\\User\\PycharmProjects\\HypEx\\hypex\\dataset\\backends\\pandas_backend.py:76: PerformanceWarning: DataFrame is highly fragmented.  This is usually the result of calling `frame.insert` many times, which has poor performance.  Consider joining all columns at once using pd.concat(axis=1) instead. To get a de-fragmented frame, use `newframe = frame.copy()`\n",
      "  self.data[name] = data\n"
     ]
    },
    {
     "name": "stdout",
     "output_type": "stream",
     "text": [
      "178, "
     ]
    },
    {
     "name": "stderr",
     "output_type": "stream",
     "text": [
      "C:\\Users\\User\\PycharmProjects\\HypEx\\hypex\\dataset\\backends\\pandas_backend.py:76: PerformanceWarning: DataFrame is highly fragmented.  This is usually the result of calling `frame.insert` many times, which has poor performance.  Consider joining all columns at once using pd.concat(axis=1) instead. To get a de-fragmented frame, use `newframe = frame.copy()`\n",
      "  self.data[name] = data\n"
     ]
    },
    {
     "name": "stdout",
     "output_type": "stream",
     "text": [
      "179, "
     ]
    },
    {
     "name": "stderr",
     "output_type": "stream",
     "text": [
      "C:\\Users\\User\\PycharmProjects\\HypEx\\hypex\\dataset\\backends\\pandas_backend.py:76: PerformanceWarning: DataFrame is highly fragmented.  This is usually the result of calling `frame.insert` many times, which has poor performance.  Consider joining all columns at once using pd.concat(axis=1) instead. To get a de-fragmented frame, use `newframe = frame.copy()`\n",
      "  self.data[name] = data\n"
     ]
    },
    {
     "name": "stdout",
     "output_type": "stream",
     "text": [
      "180, "
     ]
    },
    {
     "name": "stderr",
     "output_type": "stream",
     "text": [
      "C:\\Users\\User\\PycharmProjects\\HypEx\\hypex\\dataset\\backends\\pandas_backend.py:76: PerformanceWarning: DataFrame is highly fragmented.  This is usually the result of calling `frame.insert` many times, which has poor performance.  Consider joining all columns at once using pd.concat(axis=1) instead. To get a de-fragmented frame, use `newframe = frame.copy()`\n",
      "  self.data[name] = data\n"
     ]
    },
    {
     "name": "stdout",
     "output_type": "stream",
     "text": [
      "181, "
     ]
    },
    {
     "name": "stderr",
     "output_type": "stream",
     "text": [
      "C:\\Users\\User\\PycharmProjects\\HypEx\\hypex\\dataset\\backends\\pandas_backend.py:76: PerformanceWarning: DataFrame is highly fragmented.  This is usually the result of calling `frame.insert` many times, which has poor performance.  Consider joining all columns at once using pd.concat(axis=1) instead. To get a de-fragmented frame, use `newframe = frame.copy()`\n",
      "  self.data[name] = data\n"
     ]
    },
    {
     "name": "stdout",
     "output_type": "stream",
     "text": [
      "182, "
     ]
    },
    {
     "name": "stderr",
     "output_type": "stream",
     "text": [
      "C:\\Users\\User\\PycharmProjects\\HypEx\\hypex\\dataset\\backends\\pandas_backend.py:76: PerformanceWarning: DataFrame is highly fragmented.  This is usually the result of calling `frame.insert` many times, which has poor performance.  Consider joining all columns at once using pd.concat(axis=1) instead. To get a de-fragmented frame, use `newframe = frame.copy()`\n",
      "  self.data[name] = data\n"
     ]
    },
    {
     "name": "stdout",
     "output_type": "stream",
     "text": [
      "183, "
     ]
    },
    {
     "name": "stderr",
     "output_type": "stream",
     "text": [
      "C:\\Users\\User\\PycharmProjects\\HypEx\\hypex\\dataset\\backends\\pandas_backend.py:76: PerformanceWarning: DataFrame is highly fragmented.  This is usually the result of calling `frame.insert` many times, which has poor performance.  Consider joining all columns at once using pd.concat(axis=1) instead. To get a de-fragmented frame, use `newframe = frame.copy()`\n",
      "  self.data[name] = data\n"
     ]
    },
    {
     "name": "stdout",
     "output_type": "stream",
     "text": [
      "184, "
     ]
    },
    {
     "name": "stderr",
     "output_type": "stream",
     "text": [
      "C:\\Users\\User\\PycharmProjects\\HypEx\\hypex\\dataset\\backends\\pandas_backend.py:76: PerformanceWarning: DataFrame is highly fragmented.  This is usually the result of calling `frame.insert` many times, which has poor performance.  Consider joining all columns at once using pd.concat(axis=1) instead. To get a de-fragmented frame, use `newframe = frame.copy()`\n",
      "  self.data[name] = data\n"
     ]
    },
    {
     "name": "stdout",
     "output_type": "stream",
     "text": [
      "185, "
     ]
    },
    {
     "name": "stderr",
     "output_type": "stream",
     "text": [
      "C:\\Users\\User\\PycharmProjects\\HypEx\\hypex\\dataset\\backends\\pandas_backend.py:76: PerformanceWarning: DataFrame is highly fragmented.  This is usually the result of calling `frame.insert` many times, which has poor performance.  Consider joining all columns at once using pd.concat(axis=1) instead. To get a de-fragmented frame, use `newframe = frame.copy()`\n",
      "  self.data[name] = data\n"
     ]
    },
    {
     "name": "stdout",
     "output_type": "stream",
     "text": [
      "186, "
     ]
    },
    {
     "name": "stderr",
     "output_type": "stream",
     "text": [
      "C:\\Users\\User\\PycharmProjects\\HypEx\\hypex\\dataset\\backends\\pandas_backend.py:76: PerformanceWarning: DataFrame is highly fragmented.  This is usually the result of calling `frame.insert` many times, which has poor performance.  Consider joining all columns at once using pd.concat(axis=1) instead. To get a de-fragmented frame, use `newframe = frame.copy()`\n",
      "  self.data[name] = data\n"
     ]
    },
    {
     "name": "stdout",
     "output_type": "stream",
     "text": [
      "187, "
     ]
    },
    {
     "name": "stderr",
     "output_type": "stream",
     "text": [
      "C:\\Users\\User\\PycharmProjects\\HypEx\\hypex\\dataset\\backends\\pandas_backend.py:76: PerformanceWarning: DataFrame is highly fragmented.  This is usually the result of calling `frame.insert` many times, which has poor performance.  Consider joining all columns at once using pd.concat(axis=1) instead. To get a de-fragmented frame, use `newframe = frame.copy()`\n",
      "  self.data[name] = data\n"
     ]
    },
    {
     "name": "stdout",
     "output_type": "stream",
     "text": [
      "188, "
     ]
    },
    {
     "name": "stderr",
     "output_type": "stream",
     "text": [
      "C:\\Users\\User\\PycharmProjects\\HypEx\\hypex\\dataset\\backends\\pandas_backend.py:76: PerformanceWarning: DataFrame is highly fragmented.  This is usually the result of calling `frame.insert` many times, which has poor performance.  Consider joining all columns at once using pd.concat(axis=1) instead. To get a de-fragmented frame, use `newframe = frame.copy()`\n",
      "  self.data[name] = data\n"
     ]
    },
    {
     "name": "stdout",
     "output_type": "stream",
     "text": [
      "189, "
     ]
    },
    {
     "name": "stderr",
     "output_type": "stream",
     "text": [
      "C:\\Users\\User\\PycharmProjects\\HypEx\\hypex\\dataset\\backends\\pandas_backend.py:76: PerformanceWarning: DataFrame is highly fragmented.  This is usually the result of calling `frame.insert` many times, which has poor performance.  Consider joining all columns at once using pd.concat(axis=1) instead. To get a de-fragmented frame, use `newframe = frame.copy()`\n",
      "  self.data[name] = data\n"
     ]
    },
    {
     "name": "stdout",
     "output_type": "stream",
     "text": [
      "190, "
     ]
    },
    {
     "name": "stderr",
     "output_type": "stream",
     "text": [
      "C:\\Users\\User\\PycharmProjects\\HypEx\\hypex\\dataset\\backends\\pandas_backend.py:76: PerformanceWarning: DataFrame is highly fragmented.  This is usually the result of calling `frame.insert` many times, which has poor performance.  Consider joining all columns at once using pd.concat(axis=1) instead. To get a de-fragmented frame, use `newframe = frame.copy()`\n",
      "  self.data[name] = data\n"
     ]
    },
    {
     "name": "stdout",
     "output_type": "stream",
     "text": [
      "191, "
     ]
    },
    {
     "name": "stderr",
     "output_type": "stream",
     "text": [
      "C:\\Users\\User\\PycharmProjects\\HypEx\\hypex\\dataset\\backends\\pandas_backend.py:76: PerformanceWarning: DataFrame is highly fragmented.  This is usually the result of calling `frame.insert` many times, which has poor performance.  Consider joining all columns at once using pd.concat(axis=1) instead. To get a de-fragmented frame, use `newframe = frame.copy()`\n",
      "  self.data[name] = data\n"
     ]
    },
    {
     "name": "stdout",
     "output_type": "stream",
     "text": [
      "192, "
     ]
    },
    {
     "name": "stderr",
     "output_type": "stream",
     "text": [
      "C:\\Users\\User\\PycharmProjects\\HypEx\\hypex\\dataset\\backends\\pandas_backend.py:76: PerformanceWarning: DataFrame is highly fragmented.  This is usually the result of calling `frame.insert` many times, which has poor performance.  Consider joining all columns at once using pd.concat(axis=1) instead. To get a de-fragmented frame, use `newframe = frame.copy()`\n",
      "  self.data[name] = data\n"
     ]
    },
    {
     "name": "stdout",
     "output_type": "stream",
     "text": [
      "193, "
     ]
    },
    {
     "name": "stderr",
     "output_type": "stream",
     "text": [
      "C:\\Users\\User\\PycharmProjects\\HypEx\\hypex\\dataset\\backends\\pandas_backend.py:76: PerformanceWarning: DataFrame is highly fragmented.  This is usually the result of calling `frame.insert` many times, which has poor performance.  Consider joining all columns at once using pd.concat(axis=1) instead. To get a de-fragmented frame, use `newframe = frame.copy()`\n",
      "  self.data[name] = data\n"
     ]
    },
    {
     "name": "stdout",
     "output_type": "stream",
     "text": [
      "194, "
     ]
    },
    {
     "name": "stderr",
     "output_type": "stream",
     "text": [
      "C:\\Users\\User\\PycharmProjects\\HypEx\\hypex\\dataset\\backends\\pandas_backend.py:76: PerformanceWarning: DataFrame is highly fragmented.  This is usually the result of calling `frame.insert` many times, which has poor performance.  Consider joining all columns at once using pd.concat(axis=1) instead. To get a de-fragmented frame, use `newframe = frame.copy()`\n",
      "  self.data[name] = data\n"
     ]
    },
    {
     "name": "stdout",
     "output_type": "stream",
     "text": [
      "195, "
     ]
    },
    {
     "name": "stderr",
     "output_type": "stream",
     "text": [
      "C:\\Users\\User\\PycharmProjects\\HypEx\\hypex\\dataset\\backends\\pandas_backend.py:76: PerformanceWarning: DataFrame is highly fragmented.  This is usually the result of calling `frame.insert` many times, which has poor performance.  Consider joining all columns at once using pd.concat(axis=1) instead. To get a de-fragmented frame, use `newframe = frame.copy()`\n",
      "  self.data[name] = data\n"
     ]
    },
    {
     "name": "stdout",
     "output_type": "stream",
     "text": [
      "196, "
     ]
    },
    {
     "name": "stderr",
     "output_type": "stream",
     "text": [
      "C:\\Users\\User\\PycharmProjects\\HypEx\\hypex\\dataset\\backends\\pandas_backend.py:76: PerformanceWarning: DataFrame is highly fragmented.  This is usually the result of calling `frame.insert` many times, which has poor performance.  Consider joining all columns at once using pd.concat(axis=1) instead. To get a de-fragmented frame, use `newframe = frame.copy()`\n",
      "  self.data[name] = data\n"
     ]
    },
    {
     "name": "stdout",
     "output_type": "stream",
     "text": [
      "197, "
     ]
    },
    {
     "name": "stderr",
     "output_type": "stream",
     "text": [
      "C:\\Users\\User\\PycharmProjects\\HypEx\\hypex\\dataset\\backends\\pandas_backend.py:76: PerformanceWarning: DataFrame is highly fragmented.  This is usually the result of calling `frame.insert` many times, which has poor performance.  Consider joining all columns at once using pd.concat(axis=1) instead. To get a de-fragmented frame, use `newframe = frame.copy()`\n",
      "  self.data[name] = data\n"
     ]
    },
    {
     "name": "stdout",
     "output_type": "stream",
     "text": [
      "198, "
     ]
    },
    {
     "name": "stderr",
     "output_type": "stream",
     "text": [
      "C:\\Users\\User\\PycharmProjects\\HypEx\\hypex\\dataset\\backends\\pandas_backend.py:76: PerformanceWarning: DataFrame is highly fragmented.  This is usually the result of calling `frame.insert` many times, which has poor performance.  Consider joining all columns at once using pd.concat(axis=1) instead. To get a de-fragmented frame, use `newframe = frame.copy()`\n",
      "  self.data[name] = data\n"
     ]
    },
    {
     "name": "stdout",
     "output_type": "stream",
     "text": [
      "199, "
     ]
    },
    {
     "name": "stderr",
     "output_type": "stream",
     "text": [
      "C:\\Users\\User\\PycharmProjects\\HypEx\\hypex\\dataset\\backends\\pandas_backend.py:76: PerformanceWarning: DataFrame is highly fragmented.  This is usually the result of calling `frame.insert` many times, which has poor performance.  Consider joining all columns at once using pd.concat(axis=1) instead. To get a de-fragmented frame, use `newframe = frame.copy()`\n",
      "  self.data[name] = data\n"
     ]
    },
    {
     "name": "stdout",
     "output_type": "stream",
     "text": [
      "200, "
     ]
    },
    {
     "name": "stderr",
     "output_type": "stream",
     "text": [
      "C:\\Users\\User\\PycharmProjects\\HypEx\\hypex\\dataset\\backends\\pandas_backend.py:76: PerformanceWarning: DataFrame is highly fragmented.  This is usually the result of calling `frame.insert` many times, which has poor performance.  Consider joining all columns at once using pd.concat(axis=1) instead. To get a de-fragmented frame, use `newframe = frame.copy()`\n",
      "  self.data[name] = data\n"
     ]
    },
    {
     "name": "stdout",
     "output_type": "stream",
     "text": [
      "201, "
     ]
    },
    {
     "name": "stderr",
     "output_type": "stream",
     "text": [
      "C:\\Users\\User\\PycharmProjects\\HypEx\\hypex\\dataset\\backends\\pandas_backend.py:76: PerformanceWarning: DataFrame is highly fragmented.  This is usually the result of calling `frame.insert` many times, which has poor performance.  Consider joining all columns at once using pd.concat(axis=1) instead. To get a de-fragmented frame, use `newframe = frame.copy()`\n",
      "  self.data[name] = data\n"
     ]
    },
    {
     "name": "stdout",
     "output_type": "stream",
     "text": [
      "202, "
     ]
    },
    {
     "name": "stderr",
     "output_type": "stream",
     "text": [
      "C:\\Users\\User\\PycharmProjects\\HypEx\\hypex\\dataset\\backends\\pandas_backend.py:76: PerformanceWarning: DataFrame is highly fragmented.  This is usually the result of calling `frame.insert` many times, which has poor performance.  Consider joining all columns at once using pd.concat(axis=1) instead. To get a de-fragmented frame, use `newframe = frame.copy()`\n",
      "  self.data[name] = data\n"
     ]
    },
    {
     "name": "stdout",
     "output_type": "stream",
     "text": [
      "203, "
     ]
    },
    {
     "name": "stderr",
     "output_type": "stream",
     "text": [
      "C:\\Users\\User\\PycharmProjects\\HypEx\\hypex\\dataset\\backends\\pandas_backend.py:76: PerformanceWarning: DataFrame is highly fragmented.  This is usually the result of calling `frame.insert` many times, which has poor performance.  Consider joining all columns at once using pd.concat(axis=1) instead. To get a de-fragmented frame, use `newframe = frame.copy()`\n",
      "  self.data[name] = data\n"
     ]
    },
    {
     "name": "stdout",
     "output_type": "stream",
     "text": [
      "204, "
     ]
    },
    {
     "name": "stderr",
     "output_type": "stream",
     "text": [
      "C:\\Users\\User\\PycharmProjects\\HypEx\\hypex\\dataset\\backends\\pandas_backend.py:76: PerformanceWarning: DataFrame is highly fragmented.  This is usually the result of calling `frame.insert` many times, which has poor performance.  Consider joining all columns at once using pd.concat(axis=1) instead. To get a de-fragmented frame, use `newframe = frame.copy()`\n",
      "  self.data[name] = data\n"
     ]
    },
    {
     "name": "stdout",
     "output_type": "stream",
     "text": [
      "205, "
     ]
    },
    {
     "name": "stderr",
     "output_type": "stream",
     "text": [
      "C:\\Users\\User\\PycharmProjects\\HypEx\\hypex\\dataset\\backends\\pandas_backend.py:76: PerformanceWarning: DataFrame is highly fragmented.  This is usually the result of calling `frame.insert` many times, which has poor performance.  Consider joining all columns at once using pd.concat(axis=1) instead. To get a de-fragmented frame, use `newframe = frame.copy()`\n",
      "  self.data[name] = data\n"
     ]
    },
    {
     "name": "stdout",
     "output_type": "stream",
     "text": [
      "206, "
     ]
    },
    {
     "name": "stderr",
     "output_type": "stream",
     "text": [
      "C:\\Users\\User\\PycharmProjects\\HypEx\\hypex\\dataset\\backends\\pandas_backend.py:76: PerformanceWarning: DataFrame is highly fragmented.  This is usually the result of calling `frame.insert` many times, which has poor performance.  Consider joining all columns at once using pd.concat(axis=1) instead. To get a de-fragmented frame, use `newframe = frame.copy()`\n",
      "  self.data[name] = data\n"
     ]
    },
    {
     "name": "stdout",
     "output_type": "stream",
     "text": [
      "207, "
     ]
    },
    {
     "name": "stderr",
     "output_type": "stream",
     "text": [
      "C:\\Users\\User\\PycharmProjects\\HypEx\\hypex\\dataset\\backends\\pandas_backend.py:76: PerformanceWarning: DataFrame is highly fragmented.  This is usually the result of calling `frame.insert` many times, which has poor performance.  Consider joining all columns at once using pd.concat(axis=1) instead. To get a de-fragmented frame, use `newframe = frame.copy()`\n",
      "  self.data[name] = data\n"
     ]
    },
    {
     "name": "stdout",
     "output_type": "stream",
     "text": [
      "208, "
     ]
    },
    {
     "name": "stderr",
     "output_type": "stream",
     "text": [
      "C:\\Users\\User\\PycharmProjects\\HypEx\\hypex\\dataset\\backends\\pandas_backend.py:76: PerformanceWarning: DataFrame is highly fragmented.  This is usually the result of calling `frame.insert` many times, which has poor performance.  Consider joining all columns at once using pd.concat(axis=1) instead. To get a de-fragmented frame, use `newframe = frame.copy()`\n",
      "  self.data[name] = data\n"
     ]
    },
    {
     "name": "stdout",
     "output_type": "stream",
     "text": [
      "209, "
     ]
    },
    {
     "name": "stderr",
     "output_type": "stream",
     "text": [
      "C:\\Users\\User\\PycharmProjects\\HypEx\\hypex\\dataset\\backends\\pandas_backend.py:76: PerformanceWarning: DataFrame is highly fragmented.  This is usually the result of calling `frame.insert` many times, which has poor performance.  Consider joining all columns at once using pd.concat(axis=1) instead. To get a de-fragmented frame, use `newframe = frame.copy()`\n",
      "  self.data[name] = data\n"
     ]
    },
    {
     "name": "stdout",
     "output_type": "stream",
     "text": [
      "210, "
     ]
    },
    {
     "name": "stderr",
     "output_type": "stream",
     "text": [
      "C:\\Users\\User\\PycharmProjects\\HypEx\\hypex\\dataset\\backends\\pandas_backend.py:76: PerformanceWarning: DataFrame is highly fragmented.  This is usually the result of calling `frame.insert` many times, which has poor performance.  Consider joining all columns at once using pd.concat(axis=1) instead. To get a de-fragmented frame, use `newframe = frame.copy()`\n",
      "  self.data[name] = data\n"
     ]
    },
    {
     "name": "stdout",
     "output_type": "stream",
     "text": [
      "211, "
     ]
    },
    {
     "name": "stderr",
     "output_type": "stream",
     "text": [
      "C:\\Users\\User\\PycharmProjects\\HypEx\\hypex\\dataset\\backends\\pandas_backend.py:76: PerformanceWarning: DataFrame is highly fragmented.  This is usually the result of calling `frame.insert` many times, which has poor performance.  Consider joining all columns at once using pd.concat(axis=1) instead. To get a de-fragmented frame, use `newframe = frame.copy()`\n",
      "  self.data[name] = data\n"
     ]
    },
    {
     "name": "stdout",
     "output_type": "stream",
     "text": [
      "212, "
     ]
    },
    {
     "name": "stderr",
     "output_type": "stream",
     "text": [
      "C:\\Users\\User\\PycharmProjects\\HypEx\\hypex\\dataset\\backends\\pandas_backend.py:76: PerformanceWarning: DataFrame is highly fragmented.  This is usually the result of calling `frame.insert` many times, which has poor performance.  Consider joining all columns at once using pd.concat(axis=1) instead. To get a de-fragmented frame, use `newframe = frame.copy()`\n",
      "  self.data[name] = data\n"
     ]
    },
    {
     "name": "stdout",
     "output_type": "stream",
     "text": [
      "213, "
     ]
    },
    {
     "name": "stderr",
     "output_type": "stream",
     "text": [
      "C:\\Users\\User\\PycharmProjects\\HypEx\\hypex\\dataset\\backends\\pandas_backend.py:76: PerformanceWarning: DataFrame is highly fragmented.  This is usually the result of calling `frame.insert` many times, which has poor performance.  Consider joining all columns at once using pd.concat(axis=1) instead. To get a de-fragmented frame, use `newframe = frame.copy()`\n",
      "  self.data[name] = data\n"
     ]
    },
    {
     "name": "stdout",
     "output_type": "stream",
     "text": [
      "214, "
     ]
    },
    {
     "name": "stderr",
     "output_type": "stream",
     "text": [
      "C:\\Users\\User\\PycharmProjects\\HypEx\\hypex\\dataset\\backends\\pandas_backend.py:76: PerformanceWarning: DataFrame is highly fragmented.  This is usually the result of calling `frame.insert` many times, which has poor performance.  Consider joining all columns at once using pd.concat(axis=1) instead. To get a de-fragmented frame, use `newframe = frame.copy()`\n",
      "  self.data[name] = data\n"
     ]
    },
    {
     "name": "stdout",
     "output_type": "stream",
     "text": [
      "215, "
     ]
    },
    {
     "name": "stderr",
     "output_type": "stream",
     "text": [
      "C:\\Users\\User\\PycharmProjects\\HypEx\\hypex\\dataset\\backends\\pandas_backend.py:76: PerformanceWarning: DataFrame is highly fragmented.  This is usually the result of calling `frame.insert` many times, which has poor performance.  Consider joining all columns at once using pd.concat(axis=1) instead. To get a de-fragmented frame, use `newframe = frame.copy()`\n",
      "  self.data[name] = data\n"
     ]
    },
    {
     "name": "stdout",
     "output_type": "stream",
     "text": [
      "216, "
     ]
    },
    {
     "name": "stderr",
     "output_type": "stream",
     "text": [
      "C:\\Users\\User\\PycharmProjects\\HypEx\\hypex\\dataset\\backends\\pandas_backend.py:76: PerformanceWarning: DataFrame is highly fragmented.  This is usually the result of calling `frame.insert` many times, which has poor performance.  Consider joining all columns at once using pd.concat(axis=1) instead. To get a de-fragmented frame, use `newframe = frame.copy()`\n",
      "  self.data[name] = data\n"
     ]
    },
    {
     "name": "stdout",
     "output_type": "stream",
     "text": [
      "217, "
     ]
    },
    {
     "name": "stderr",
     "output_type": "stream",
     "text": [
      "C:\\Users\\User\\PycharmProjects\\HypEx\\hypex\\dataset\\backends\\pandas_backend.py:76: PerformanceWarning: DataFrame is highly fragmented.  This is usually the result of calling `frame.insert` many times, which has poor performance.  Consider joining all columns at once using pd.concat(axis=1) instead. To get a de-fragmented frame, use `newframe = frame.copy()`\n",
      "  self.data[name] = data\n"
     ]
    },
    {
     "name": "stdout",
     "output_type": "stream",
     "text": [
      "218, "
     ]
    },
    {
     "name": "stderr",
     "output_type": "stream",
     "text": [
      "C:\\Users\\User\\PycharmProjects\\HypEx\\hypex\\dataset\\backends\\pandas_backend.py:76: PerformanceWarning: DataFrame is highly fragmented.  This is usually the result of calling `frame.insert` many times, which has poor performance.  Consider joining all columns at once using pd.concat(axis=1) instead. To get a de-fragmented frame, use `newframe = frame.copy()`\n",
      "  self.data[name] = data\n"
     ]
    },
    {
     "name": "stdout",
     "output_type": "stream",
     "text": [
      "219, "
     ]
    },
    {
     "name": "stderr",
     "output_type": "stream",
     "text": [
      "C:\\Users\\User\\PycharmProjects\\HypEx\\hypex\\dataset\\backends\\pandas_backend.py:76: PerformanceWarning: DataFrame is highly fragmented.  This is usually the result of calling `frame.insert` many times, which has poor performance.  Consider joining all columns at once using pd.concat(axis=1) instead. To get a de-fragmented frame, use `newframe = frame.copy()`\n",
      "  self.data[name] = data\n"
     ]
    },
    {
     "name": "stdout",
     "output_type": "stream",
     "text": [
      "220, "
     ]
    },
    {
     "name": "stderr",
     "output_type": "stream",
     "text": [
      "C:\\Users\\User\\PycharmProjects\\HypEx\\hypex\\dataset\\backends\\pandas_backend.py:76: PerformanceWarning: DataFrame is highly fragmented.  This is usually the result of calling `frame.insert` many times, which has poor performance.  Consider joining all columns at once using pd.concat(axis=1) instead. To get a de-fragmented frame, use `newframe = frame.copy()`\n",
      "  self.data[name] = data\n"
     ]
    },
    {
     "name": "stdout",
     "output_type": "stream",
     "text": [
      "221, "
     ]
    },
    {
     "name": "stderr",
     "output_type": "stream",
     "text": [
      "C:\\Users\\User\\PycharmProjects\\HypEx\\hypex\\dataset\\backends\\pandas_backend.py:76: PerformanceWarning: DataFrame is highly fragmented.  This is usually the result of calling `frame.insert` many times, which has poor performance.  Consider joining all columns at once using pd.concat(axis=1) instead. To get a de-fragmented frame, use `newframe = frame.copy()`\n",
      "  self.data[name] = data\n"
     ]
    },
    {
     "name": "stdout",
     "output_type": "stream",
     "text": [
      "222, "
     ]
    },
    {
     "name": "stderr",
     "output_type": "stream",
     "text": [
      "C:\\Users\\User\\PycharmProjects\\HypEx\\hypex\\dataset\\backends\\pandas_backend.py:76: PerformanceWarning: DataFrame is highly fragmented.  This is usually the result of calling `frame.insert` many times, which has poor performance.  Consider joining all columns at once using pd.concat(axis=1) instead. To get a de-fragmented frame, use `newframe = frame.copy()`\n",
      "  self.data[name] = data\n"
     ]
    },
    {
     "name": "stdout",
     "output_type": "stream",
     "text": [
      "223, "
     ]
    },
    {
     "name": "stderr",
     "output_type": "stream",
     "text": [
      "C:\\Users\\User\\PycharmProjects\\HypEx\\hypex\\dataset\\backends\\pandas_backend.py:76: PerformanceWarning: DataFrame is highly fragmented.  This is usually the result of calling `frame.insert` many times, which has poor performance.  Consider joining all columns at once using pd.concat(axis=1) instead. To get a de-fragmented frame, use `newframe = frame.copy()`\n",
      "  self.data[name] = data\n"
     ]
    },
    {
     "name": "stdout",
     "output_type": "stream",
     "text": [
      "224, "
     ]
    },
    {
     "name": "stderr",
     "output_type": "stream",
     "text": [
      "C:\\Users\\User\\PycharmProjects\\HypEx\\hypex\\dataset\\backends\\pandas_backend.py:76: PerformanceWarning: DataFrame is highly fragmented.  This is usually the result of calling `frame.insert` many times, which has poor performance.  Consider joining all columns at once using pd.concat(axis=1) instead. To get a de-fragmented frame, use `newframe = frame.copy()`\n",
      "  self.data[name] = data\n"
     ]
    },
    {
     "name": "stdout",
     "output_type": "stream",
     "text": [
      "225, "
     ]
    },
    {
     "name": "stderr",
     "output_type": "stream",
     "text": [
      "C:\\Users\\User\\PycharmProjects\\HypEx\\hypex\\dataset\\backends\\pandas_backend.py:76: PerformanceWarning: DataFrame is highly fragmented.  This is usually the result of calling `frame.insert` many times, which has poor performance.  Consider joining all columns at once using pd.concat(axis=1) instead. To get a de-fragmented frame, use `newframe = frame.copy()`\n",
      "  self.data[name] = data\n"
     ]
    },
    {
     "name": "stdout",
     "output_type": "stream",
     "text": [
      "226, "
     ]
    },
    {
     "name": "stderr",
     "output_type": "stream",
     "text": [
      "C:\\Users\\User\\PycharmProjects\\HypEx\\hypex\\dataset\\backends\\pandas_backend.py:76: PerformanceWarning: DataFrame is highly fragmented.  This is usually the result of calling `frame.insert` many times, which has poor performance.  Consider joining all columns at once using pd.concat(axis=1) instead. To get a de-fragmented frame, use `newframe = frame.copy()`\n",
      "  self.data[name] = data\n"
     ]
    },
    {
     "name": "stdout",
     "output_type": "stream",
     "text": [
      "227, "
     ]
    },
    {
     "name": "stderr",
     "output_type": "stream",
     "text": [
      "C:\\Users\\User\\PycharmProjects\\HypEx\\hypex\\dataset\\backends\\pandas_backend.py:76: PerformanceWarning: DataFrame is highly fragmented.  This is usually the result of calling `frame.insert` many times, which has poor performance.  Consider joining all columns at once using pd.concat(axis=1) instead. To get a de-fragmented frame, use `newframe = frame.copy()`\n",
      "  self.data[name] = data\n"
     ]
    },
    {
     "name": "stdout",
     "output_type": "stream",
     "text": [
      "228, "
     ]
    },
    {
     "name": "stderr",
     "output_type": "stream",
     "text": [
      "C:\\Users\\User\\PycharmProjects\\HypEx\\hypex\\dataset\\backends\\pandas_backend.py:76: PerformanceWarning: DataFrame is highly fragmented.  This is usually the result of calling `frame.insert` many times, which has poor performance.  Consider joining all columns at once using pd.concat(axis=1) instead. To get a de-fragmented frame, use `newframe = frame.copy()`\n",
      "  self.data[name] = data\n"
     ]
    },
    {
     "name": "stdout",
     "output_type": "stream",
     "text": [
      "229, "
     ]
    },
    {
     "name": "stderr",
     "output_type": "stream",
     "text": [
      "C:\\Users\\User\\PycharmProjects\\HypEx\\hypex\\dataset\\backends\\pandas_backend.py:76: PerformanceWarning: DataFrame is highly fragmented.  This is usually the result of calling `frame.insert` many times, which has poor performance.  Consider joining all columns at once using pd.concat(axis=1) instead. To get a de-fragmented frame, use `newframe = frame.copy()`\n",
      "  self.data[name] = data\n"
     ]
    },
    {
     "name": "stdout",
     "output_type": "stream",
     "text": [
      "230, "
     ]
    },
    {
     "name": "stderr",
     "output_type": "stream",
     "text": [
      "C:\\Users\\User\\PycharmProjects\\HypEx\\hypex\\dataset\\backends\\pandas_backend.py:76: PerformanceWarning: DataFrame is highly fragmented.  This is usually the result of calling `frame.insert` many times, which has poor performance.  Consider joining all columns at once using pd.concat(axis=1) instead. To get a de-fragmented frame, use `newframe = frame.copy()`\n",
      "  self.data[name] = data\n"
     ]
    },
    {
     "name": "stdout",
     "output_type": "stream",
     "text": [
      "231, "
     ]
    },
    {
     "name": "stderr",
     "output_type": "stream",
     "text": [
      "C:\\Users\\User\\PycharmProjects\\HypEx\\hypex\\dataset\\backends\\pandas_backend.py:76: PerformanceWarning: DataFrame is highly fragmented.  This is usually the result of calling `frame.insert` many times, which has poor performance.  Consider joining all columns at once using pd.concat(axis=1) instead. To get a de-fragmented frame, use `newframe = frame.copy()`\n",
      "  self.data[name] = data\n"
     ]
    },
    {
     "name": "stdout",
     "output_type": "stream",
     "text": [
      "232, "
     ]
    },
    {
     "name": "stderr",
     "output_type": "stream",
     "text": [
      "C:\\Users\\User\\PycharmProjects\\HypEx\\hypex\\dataset\\backends\\pandas_backend.py:76: PerformanceWarning: DataFrame is highly fragmented.  This is usually the result of calling `frame.insert` many times, which has poor performance.  Consider joining all columns at once using pd.concat(axis=1) instead. To get a de-fragmented frame, use `newframe = frame.copy()`\n",
      "  self.data[name] = data\n"
     ]
    },
    {
     "name": "stdout",
     "output_type": "stream",
     "text": [
      "233, "
     ]
    },
    {
     "name": "stderr",
     "output_type": "stream",
     "text": [
      "C:\\Users\\User\\PycharmProjects\\HypEx\\hypex\\dataset\\backends\\pandas_backend.py:76: PerformanceWarning: DataFrame is highly fragmented.  This is usually the result of calling `frame.insert` many times, which has poor performance.  Consider joining all columns at once using pd.concat(axis=1) instead. To get a de-fragmented frame, use `newframe = frame.copy()`\n",
      "  self.data[name] = data\n"
     ]
    },
    {
     "name": "stdout",
     "output_type": "stream",
     "text": [
      "234, "
     ]
    },
    {
     "name": "stderr",
     "output_type": "stream",
     "text": [
      "C:\\Users\\User\\PycharmProjects\\HypEx\\hypex\\dataset\\backends\\pandas_backend.py:76: PerformanceWarning: DataFrame is highly fragmented.  This is usually the result of calling `frame.insert` many times, which has poor performance.  Consider joining all columns at once using pd.concat(axis=1) instead. To get a de-fragmented frame, use `newframe = frame.copy()`\n",
      "  self.data[name] = data\n"
     ]
    },
    {
     "name": "stdout",
     "output_type": "stream",
     "text": [
      "235, "
     ]
    },
    {
     "name": "stderr",
     "output_type": "stream",
     "text": [
      "C:\\Users\\User\\PycharmProjects\\HypEx\\hypex\\dataset\\backends\\pandas_backend.py:76: PerformanceWarning: DataFrame is highly fragmented.  This is usually the result of calling `frame.insert` many times, which has poor performance.  Consider joining all columns at once using pd.concat(axis=1) instead. To get a de-fragmented frame, use `newframe = frame.copy()`\n",
      "  self.data[name] = data\n"
     ]
    },
    {
     "name": "stdout",
     "output_type": "stream",
     "text": [
      "236, "
     ]
    },
    {
     "name": "stderr",
     "output_type": "stream",
     "text": [
      "C:\\Users\\User\\PycharmProjects\\HypEx\\hypex\\dataset\\backends\\pandas_backend.py:76: PerformanceWarning: DataFrame is highly fragmented.  This is usually the result of calling `frame.insert` many times, which has poor performance.  Consider joining all columns at once using pd.concat(axis=1) instead. To get a de-fragmented frame, use `newframe = frame.copy()`\n",
      "  self.data[name] = data\n"
     ]
    },
    {
     "name": "stdout",
     "output_type": "stream",
     "text": [
      "237, "
     ]
    },
    {
     "name": "stderr",
     "output_type": "stream",
     "text": [
      "C:\\Users\\User\\PycharmProjects\\HypEx\\hypex\\dataset\\backends\\pandas_backend.py:76: PerformanceWarning: DataFrame is highly fragmented.  This is usually the result of calling `frame.insert` many times, which has poor performance.  Consider joining all columns at once using pd.concat(axis=1) instead. To get a de-fragmented frame, use `newframe = frame.copy()`\n",
      "  self.data[name] = data\n"
     ]
    },
    {
     "name": "stdout",
     "output_type": "stream",
     "text": [
      "238, "
     ]
    },
    {
     "name": "stderr",
     "output_type": "stream",
     "text": [
      "C:\\Users\\User\\PycharmProjects\\HypEx\\hypex\\dataset\\backends\\pandas_backend.py:76: PerformanceWarning: DataFrame is highly fragmented.  This is usually the result of calling `frame.insert` many times, which has poor performance.  Consider joining all columns at once using pd.concat(axis=1) instead. To get a de-fragmented frame, use `newframe = frame.copy()`\n",
      "  self.data[name] = data\n"
     ]
    },
    {
     "name": "stdout",
     "output_type": "stream",
     "text": [
      "239, "
     ]
    },
    {
     "name": "stderr",
     "output_type": "stream",
     "text": [
      "C:\\Users\\User\\PycharmProjects\\HypEx\\hypex\\dataset\\backends\\pandas_backend.py:76: PerformanceWarning: DataFrame is highly fragmented.  This is usually the result of calling `frame.insert` many times, which has poor performance.  Consider joining all columns at once using pd.concat(axis=1) instead. To get a de-fragmented frame, use `newframe = frame.copy()`\n",
      "  self.data[name] = data\n"
     ]
    },
    {
     "name": "stdout",
     "output_type": "stream",
     "text": [
      "240, "
     ]
    },
    {
     "name": "stderr",
     "output_type": "stream",
     "text": [
      "C:\\Users\\User\\PycharmProjects\\HypEx\\hypex\\dataset\\backends\\pandas_backend.py:76: PerformanceWarning: DataFrame is highly fragmented.  This is usually the result of calling `frame.insert` many times, which has poor performance.  Consider joining all columns at once using pd.concat(axis=1) instead. To get a de-fragmented frame, use `newframe = frame.copy()`\n",
      "  self.data[name] = data\n"
     ]
    },
    {
     "name": "stdout",
     "output_type": "stream",
     "text": [
      "241, "
     ]
    },
    {
     "name": "stderr",
     "output_type": "stream",
     "text": [
      "C:\\Users\\User\\PycharmProjects\\HypEx\\hypex\\dataset\\backends\\pandas_backend.py:76: PerformanceWarning: DataFrame is highly fragmented.  This is usually the result of calling `frame.insert` many times, which has poor performance.  Consider joining all columns at once using pd.concat(axis=1) instead. To get a de-fragmented frame, use `newframe = frame.copy()`\n",
      "  self.data[name] = data\n"
     ]
    },
    {
     "name": "stdout",
     "output_type": "stream",
     "text": [
      "242, "
     ]
    },
    {
     "name": "stderr",
     "output_type": "stream",
     "text": [
      "C:\\Users\\User\\PycharmProjects\\HypEx\\hypex\\dataset\\backends\\pandas_backend.py:76: PerformanceWarning: DataFrame is highly fragmented.  This is usually the result of calling `frame.insert` many times, which has poor performance.  Consider joining all columns at once using pd.concat(axis=1) instead. To get a de-fragmented frame, use `newframe = frame.copy()`\n",
      "  self.data[name] = data\n"
     ]
    },
    {
     "name": "stdout",
     "output_type": "stream",
     "text": [
      "243, "
     ]
    },
    {
     "name": "stderr",
     "output_type": "stream",
     "text": [
      "C:\\Users\\User\\PycharmProjects\\HypEx\\hypex\\dataset\\backends\\pandas_backend.py:76: PerformanceWarning: DataFrame is highly fragmented.  This is usually the result of calling `frame.insert` many times, which has poor performance.  Consider joining all columns at once using pd.concat(axis=1) instead. To get a de-fragmented frame, use `newframe = frame.copy()`\n",
      "  self.data[name] = data\n"
     ]
    },
    {
     "name": "stdout",
     "output_type": "stream",
     "text": [
      "244, "
     ]
    },
    {
     "name": "stderr",
     "output_type": "stream",
     "text": [
      "C:\\Users\\User\\PycharmProjects\\HypEx\\hypex\\dataset\\backends\\pandas_backend.py:76: PerformanceWarning: DataFrame is highly fragmented.  This is usually the result of calling `frame.insert` many times, which has poor performance.  Consider joining all columns at once using pd.concat(axis=1) instead. To get a de-fragmented frame, use `newframe = frame.copy()`\n",
      "  self.data[name] = data\n"
     ]
    },
    {
     "name": "stdout",
     "output_type": "stream",
     "text": [
      "245, "
     ]
    },
    {
     "name": "stderr",
     "output_type": "stream",
     "text": [
      "C:\\Users\\User\\PycharmProjects\\HypEx\\hypex\\dataset\\backends\\pandas_backend.py:76: PerformanceWarning: DataFrame is highly fragmented.  This is usually the result of calling `frame.insert` many times, which has poor performance.  Consider joining all columns at once using pd.concat(axis=1) instead. To get a de-fragmented frame, use `newframe = frame.copy()`\n",
      "  self.data[name] = data\n"
     ]
    },
    {
     "name": "stdout",
     "output_type": "stream",
     "text": [
      "246, "
     ]
    },
    {
     "name": "stderr",
     "output_type": "stream",
     "text": [
      "C:\\Users\\User\\PycharmProjects\\HypEx\\hypex\\dataset\\backends\\pandas_backend.py:76: PerformanceWarning: DataFrame is highly fragmented.  This is usually the result of calling `frame.insert` many times, which has poor performance.  Consider joining all columns at once using pd.concat(axis=1) instead. To get a de-fragmented frame, use `newframe = frame.copy()`\n",
      "  self.data[name] = data\n"
     ]
    },
    {
     "name": "stdout",
     "output_type": "stream",
     "text": [
      "247, "
     ]
    },
    {
     "name": "stderr",
     "output_type": "stream",
     "text": [
      "C:\\Users\\User\\PycharmProjects\\HypEx\\hypex\\dataset\\backends\\pandas_backend.py:76: PerformanceWarning: DataFrame is highly fragmented.  This is usually the result of calling `frame.insert` many times, which has poor performance.  Consider joining all columns at once using pd.concat(axis=1) instead. To get a de-fragmented frame, use `newframe = frame.copy()`\n",
      "  self.data[name] = data\n"
     ]
    },
    {
     "name": "stdout",
     "output_type": "stream",
     "text": [
      "248, "
     ]
    },
    {
     "name": "stderr",
     "output_type": "stream",
     "text": [
      "C:\\Users\\User\\PycharmProjects\\HypEx\\hypex\\dataset\\backends\\pandas_backend.py:76: PerformanceWarning: DataFrame is highly fragmented.  This is usually the result of calling `frame.insert` many times, which has poor performance.  Consider joining all columns at once using pd.concat(axis=1) instead. To get a de-fragmented frame, use `newframe = frame.copy()`\n",
      "  self.data[name] = data\n"
     ]
    },
    {
     "name": "stdout",
     "output_type": "stream",
     "text": [
      "249, "
     ]
    },
    {
     "name": "stderr",
     "output_type": "stream",
     "text": [
      "C:\\Users\\User\\PycharmProjects\\HypEx\\hypex\\dataset\\backends\\pandas_backend.py:76: PerformanceWarning: DataFrame is highly fragmented.  This is usually the result of calling `frame.insert` many times, which has poor performance.  Consider joining all columns at once using pd.concat(axis=1) instead. To get a de-fragmented frame, use `newframe = frame.copy()`\n",
      "  self.data[name] = data\n"
     ]
    }
   ],
   "source": [
    "from hypex.comparators.hypothesis_testing import TTest, KSTest\n",
    "from hypex.comparators.comparators import GroupSizes, GroupDifference\n",
    "from hypex.utils.enums import SpaceEnum\n",
    "from hypex.splitters.aa import AASplitter\n",
    "from hypex.analyzers.aa import OneAASplitAnalyzer\n",
    "from hypex.experiments.base import CycledExperiment, Experiment, OnRoleExperiment \n",
    "\n",
    "aa = Experiment(\n",
    "    executors=[\n",
    "        AASplitter(),\n",
    "        OnRoleExperiment(\n",
    "            executors=[ \n",
    "                GroupSizes(grouping_role=TreatmentRole(), space=SpaceEnum.additional), \n",
    "                GroupDifference(grouping_role=TreatmentRole(), space=SpaceEnum.additional),\n",
    "                TTest(grouping_role=TreatmentRole(), space=SpaceEnum.additional),\n",
    "                KSTest(grouping_role=TreatmentRole(), space=SpaceEnum.additional),\n",
    "            ],\n",
    "            role=TargetRole(),\n",
    "        )\n",
    "    ]\n",
    ")\n",
    "experiment = CycledExperiment(n_iterations=250, inner_executor=aa, analyzer=OneAASplitAnalyzer()) \n",
    "ed = ExperimentData(data)\n",
    "res = experiment.execute(ed)"
   ],
   "metadata": {
    "collapsed": false,
    "ExecuteTime": {
     "end_time": "2024-04-09T13:15:26.709775400Z",
     "start_time": "2024-04-09T13:13:11.111574200Z"
    }
   },
   "execution_count": 13
  },
  {
   "cell_type": "code",
   "outputs": [
    {
     "data": {
      "text/plain": "{'GroupSizes╰╰pre_spends[A]0':                      B\n control size    5000.0\n control size %    50.0\n test size       5000.0\n test size %       50.0,\n 'GroupDifference╰╰pre_spends[A]0':                                   B\n pre_spends control mean  487.342600\n pre_spends difference     -0.497700\n pre_spends difference %   -0.102125\n pre_spends test mean     486.844900,\n 'TTest╰╰pre_spends[A]0':   group  statistic   p-value   pass\n 0     B   1.318771  0.187276  False,\n 'KSTest╰╰pre_spends[A]0':   group  statistic   p-value   pass\n 0     B      0.021  0.220219  False,\n 'GroupSizes╰╰post_spends[A]0':                      B\n control size    5000.0\n control size %    50.0\n test size       5000.0\n test size %       50.0,\n 'GroupDifference╰╰post_spends[A]0':                                    B\n post_spends control mean  452.718578\n post_spends difference     -1.108044\n post_spends difference %   -0.244753\n post_spends test mean     451.610533,\n 'TTest╰╰post_spends[A]0':   group  statistic   p-value   pass\n 0     B   1.406066  0.159736  False,\n 'KSTest╰╰post_spends[A]0':   group  statistic   p-value   pass\n 0     B     0.0212  0.211152  False,\n 'OneAASplitAnalyzer╰╰0':    TTest p-value  TTest pass  KSTest p-value  KSTest pass  mean test score\n 0       0.173506         0.0        0.215686          0.0         0.201626,\n 'GroupSizes╰╰pre_spends[A]1':                      B\n control size    5000.0\n control size %    50.0\n test size       5000.0\n test size %       50.0,\n 'GroupDifference╰╰pre_spends[A]1':                                   B\n pre_spends control mean  487.342600\n pre_spends difference     -0.497700\n pre_spends difference %   -0.102125\n pre_spends test mean     486.844900,\n 'TTest╰╰pre_spends[A]1':   group  statistic   p-value   pass\n 0     B   1.318771  0.187276  False,\n 'KSTest╰╰pre_spends[A]1':   group  statistic   p-value   pass\n 0     B      0.021  0.220219  False,\n 'GroupSizes╰╰post_spends[A]1':                      B\n control size    5000.0\n control size %    50.0\n test size       5000.0\n test size %       50.0,\n 'GroupDifference╰╰post_spends[A]1':                                    B\n post_spends control mean  452.718578\n post_spends difference     -1.108044\n post_spends difference %   -0.244753\n post_spends test mean     451.610533,\n 'TTest╰╰post_spends[A]1':   group  statistic   p-value   pass\n 0     B   1.406066  0.159736  False,\n 'KSTest╰╰post_spends[A]1':   group  statistic   p-value   pass\n 0     B     0.0212  0.211152  False,\n 'OneAASplitAnalyzer╰╰1':    TTest p-value  TTest pass  KSTest p-value  KSTest pass  mean test score\n 0       0.173506         0.0        0.215686          0.0         0.201626,\n 'GroupSizes╰╰pre_spends[A]2':                      B\n control size    5000.0\n control size %    50.0\n test size       5000.0\n test size %       50.0,\n 'GroupDifference╰╰pre_spends[A]2':                                   B\n pre_spends control mean  487.342600\n pre_spends difference     -0.497700\n pre_spends difference %   -0.102125\n pre_spends test mean     486.844900,\n 'TTest╰╰pre_spends[A]2':   group  statistic   p-value   pass\n 0     B   1.318771  0.187276  False,\n 'KSTest╰╰pre_spends[A]2':   group  statistic   p-value   pass\n 0     B      0.021  0.220219  False,\n 'GroupSizes╰╰post_spends[A]2':                      B\n control size    5000.0\n control size %    50.0\n test size       5000.0\n test size %       50.0,\n 'GroupDifference╰╰post_spends[A]2':                                    B\n post_spends control mean  452.718578\n post_spends difference     -1.108044\n post_spends difference %   -0.244753\n post_spends test mean     451.610533,\n 'TTest╰╰post_spends[A]2':   group  statistic   p-value   pass\n 0     B   1.406066  0.159736  False,\n 'KSTest╰╰post_spends[A]2':   group  statistic   p-value   pass\n 0     B     0.0212  0.211152  False,\n 'OneAASplitAnalyzer╰╰2':    TTest p-value  TTest pass  KSTest p-value  KSTest pass  mean test score\n 0       0.173506         0.0        0.215686          0.0         0.201626,\n 'GroupSizes╰╰pre_spends[A]3':                      B\n control size    5000.0\n control size %    50.0\n test size       5000.0\n test size %       50.0,\n 'GroupDifference╰╰pre_spends[A]3':                                   B\n pre_spends control mean  487.342600\n pre_spends difference     -0.497700\n pre_spends difference %   -0.102125\n pre_spends test mean     486.844900,\n 'TTest╰╰pre_spends[A]3':   group  statistic   p-value   pass\n 0     B   1.318771  0.187276  False,\n 'KSTest╰╰pre_spends[A]3':   group  statistic   p-value   pass\n 0     B      0.021  0.220219  False,\n 'GroupSizes╰╰post_spends[A]3':                      B\n control size    5000.0\n control size %    50.0\n test size       5000.0\n test size %       50.0,\n 'GroupDifference╰╰post_spends[A]3':                                    B\n post_spends control mean  452.718578\n post_spends difference     -1.108044\n post_spends difference %   -0.244753\n post_spends test mean     451.610533,\n 'TTest╰╰post_spends[A]3':   group  statistic   p-value   pass\n 0     B   1.406066  0.159736  False,\n 'KSTest╰╰post_spends[A]3':   group  statistic   p-value   pass\n 0     B     0.0212  0.211152  False,\n 'OneAASplitAnalyzer╰╰3':    TTest p-value  TTest pass  KSTest p-value  KSTest pass  mean test score\n 0       0.173506         0.0        0.215686          0.0         0.201626,\n 'GroupSizes╰╰pre_spends[A]4':                      B\n control size    5000.0\n control size %    50.0\n test size       5000.0\n test size %       50.0,\n 'GroupDifference╰╰pre_spends[A]4':                                   B\n pre_spends control mean  487.342600\n pre_spends difference     -0.497700\n pre_spends difference %   -0.102125\n pre_spends test mean     486.844900,\n 'TTest╰╰pre_spends[A]4':   group  statistic   p-value   pass\n 0     B   1.318771  0.187276  False,\n 'KSTest╰╰pre_spends[A]4':   group  statistic   p-value   pass\n 0     B      0.021  0.220219  False,\n 'GroupSizes╰╰post_spends[A]4':                      B\n control size    5000.0\n control size %    50.0\n test size       5000.0\n test size %       50.0,\n 'GroupDifference╰╰post_spends[A]4':                                    B\n post_spends control mean  452.718578\n post_spends difference     -1.108044\n post_spends difference %   -0.244753\n post_spends test mean     451.610533,\n 'TTest╰╰post_spends[A]4':   group  statistic   p-value   pass\n 0     B   1.406066  0.159736  False,\n 'KSTest╰╰post_spends[A]4':   group  statistic   p-value   pass\n 0     B     0.0212  0.211152  False,\n 'OneAASplitAnalyzer╰╰4':    TTest p-value  TTest pass  KSTest p-value  KSTest pass  mean test score\n 0       0.173506         0.0        0.215686          0.0         0.201626,\n 'GroupSizes╰╰pre_spends[A]5':                      B\n control size    5000.0\n control size %    50.0\n test size       5000.0\n test size %       50.0,\n 'GroupDifference╰╰pre_spends[A]5':                                   B\n pre_spends control mean  487.342600\n pre_spends difference     -0.497700\n pre_spends difference %   -0.102125\n pre_spends test mean     486.844900,\n 'TTest╰╰pre_spends[A]5':   group  statistic   p-value   pass\n 0     B   1.318771  0.187276  False,\n 'KSTest╰╰pre_spends[A]5':   group  statistic   p-value   pass\n 0     B      0.021  0.220219  False,\n 'GroupSizes╰╰post_spends[A]5':                      B\n control size    5000.0\n control size %    50.0\n test size       5000.0\n test size %       50.0,\n 'GroupDifference╰╰post_spends[A]5':                                    B\n post_spends control mean  452.718578\n post_spends difference     -1.108044\n post_spends difference %   -0.244753\n post_spends test mean     451.610533,\n 'TTest╰╰post_spends[A]5':   group  statistic   p-value   pass\n 0     B   1.406066  0.159736  False,\n 'KSTest╰╰post_spends[A]5':   group  statistic   p-value   pass\n 0     B     0.0212  0.211152  False,\n 'OneAASplitAnalyzer╰╰5':    TTest p-value  TTest pass  KSTest p-value  KSTest pass  mean test score\n 0       0.173506         0.0        0.215686          0.0         0.201626,\n 'GroupSizes╰╰pre_spends[A]6':                      B\n control size    5000.0\n control size %    50.0\n test size       5000.0\n test size %       50.0,\n 'GroupDifference╰╰pre_spends[A]6':                                   B\n pre_spends control mean  487.342600\n pre_spends difference     -0.497700\n pre_spends difference %   -0.102125\n pre_spends test mean     486.844900,\n 'TTest╰╰pre_spends[A]6':   group  statistic   p-value   pass\n 0     B   1.318771  0.187276  False,\n 'KSTest╰╰pre_spends[A]6':   group  statistic   p-value   pass\n 0     B      0.021  0.220219  False,\n 'GroupSizes╰╰post_spends[A]6':                      B\n control size    5000.0\n control size %    50.0\n test size       5000.0\n test size %       50.0,\n 'GroupDifference╰╰post_spends[A]6':                                    B\n post_spends control mean  452.718578\n post_spends difference     -1.108044\n post_spends difference %   -0.244753\n post_spends test mean     451.610533,\n 'TTest╰╰post_spends[A]6':   group  statistic   p-value   pass\n 0     B   1.406066  0.159736  False,\n 'KSTest╰╰post_spends[A]6':   group  statistic   p-value   pass\n 0     B     0.0212  0.211152  False,\n 'OneAASplitAnalyzer╰╰6':    TTest p-value  TTest pass  KSTest p-value  KSTest pass  mean test score\n 0       0.173506         0.0        0.215686          0.0         0.201626,\n 'GroupSizes╰╰pre_spends[A]7':                      B\n control size    5000.0\n control size %    50.0\n test size       5000.0\n test size %       50.0,\n 'GroupDifference╰╰pre_spends[A]7':                                   B\n pre_spends control mean  487.342600\n pre_spends difference     -0.497700\n pre_spends difference %   -0.102125\n pre_spends test mean     486.844900,\n 'TTest╰╰pre_spends[A]7':   group  statistic   p-value   pass\n 0     B   1.318771  0.187276  False,\n 'KSTest╰╰pre_spends[A]7':   group  statistic   p-value   pass\n 0     B      0.021  0.220219  False,\n 'GroupSizes╰╰post_spends[A]7':                      B\n control size    5000.0\n control size %    50.0\n test size       5000.0\n test size %       50.0,\n 'GroupDifference╰╰post_spends[A]7':                                    B\n post_spends control mean  452.718578\n post_spends difference     -1.108044\n post_spends difference %   -0.244753\n post_spends test mean     451.610533,\n 'TTest╰╰post_spends[A]7':   group  statistic   p-value   pass\n 0     B   1.406066  0.159736  False,\n 'KSTest╰╰post_spends[A]7':   group  statistic   p-value   pass\n 0     B     0.0212  0.211152  False,\n 'OneAASplitAnalyzer╰╰7':    TTest p-value  TTest pass  KSTest p-value  KSTest pass  mean test score\n 0       0.173506         0.0        0.215686          0.0         0.201626,\n 'GroupSizes╰╰pre_spends[A]8':                      B\n control size    5000.0\n control size %    50.0\n test size       5000.0\n test size %       50.0,\n 'GroupDifference╰╰pre_spends[A]8':                                   B\n pre_spends control mean  487.342600\n pre_spends difference     -0.497700\n pre_spends difference %   -0.102125\n pre_spends test mean     486.844900,\n 'TTest╰╰pre_spends[A]8':   group  statistic   p-value   pass\n 0     B   1.318771  0.187276  False,\n 'KSTest╰╰pre_spends[A]8':   group  statistic   p-value   pass\n 0     B      0.021  0.220219  False,\n 'GroupSizes╰╰post_spends[A]8':                      B\n control size    5000.0\n control size %    50.0\n test size       5000.0\n test size %       50.0,\n 'GroupDifference╰╰post_spends[A]8':                                    B\n post_spends control mean  452.718578\n post_spends difference     -1.108044\n post_spends difference %   -0.244753\n post_spends test mean     451.610533,\n 'TTest╰╰post_spends[A]8':   group  statistic   p-value   pass\n 0     B   1.406066  0.159736  False,\n 'KSTest╰╰post_spends[A]8':   group  statistic   p-value   pass\n 0     B     0.0212  0.211152  False,\n 'OneAASplitAnalyzer╰╰8':    TTest p-value  TTest pass  KSTest p-value  KSTest pass  mean test score\n 0       0.173506         0.0        0.215686          0.0         0.201626,\n 'GroupSizes╰╰pre_spends[A]9':                      B\n control size    5000.0\n control size %    50.0\n test size       5000.0\n test size %       50.0,\n 'GroupDifference╰╰pre_spends[A]9':                                   B\n pre_spends control mean  487.342600\n pre_spends difference     -0.497700\n pre_spends difference %   -0.102125\n pre_spends test mean     486.844900,\n 'TTest╰╰pre_spends[A]9':   group  statistic   p-value   pass\n 0     B   1.318771  0.187276  False,\n 'KSTest╰╰pre_spends[A]9':   group  statistic   p-value   pass\n 0     B      0.021  0.220219  False,\n 'GroupSizes╰╰post_spends[A]9':                      B\n control size    5000.0\n control size %    50.0\n test size       5000.0\n test size %       50.0,\n 'GroupDifference╰╰post_spends[A]9':                                    B\n post_spends control mean  452.718578\n post_spends difference     -1.108044\n post_spends difference %   -0.244753\n post_spends test mean     451.610533,\n 'TTest╰╰post_spends[A]9':   group  statistic   p-value   pass\n 0     B   1.406066  0.159736  False,\n 'KSTest╰╰post_spends[A]9':   group  statistic   p-value   pass\n 0     B     0.0212  0.211152  False,\n 'OneAASplitAnalyzer╰╰9':    TTest p-value  TTest pass  KSTest p-value  KSTest pass  mean test score\n 0       0.173506         0.0        0.215686          0.0         0.201626,\n 'GroupSizes╰╰pre_spends[A]10':                      B\n control size    5000.0\n control size %    50.0\n test size       5000.0\n test size %       50.0,\n 'GroupDifference╰╰pre_spends[A]10':                                   B\n pre_spends control mean  487.342600\n pre_spends difference     -0.497700\n pre_spends difference %   -0.102125\n pre_spends test mean     486.844900,\n 'TTest╰╰pre_spends[A]10':   group  statistic   p-value   pass\n 0     B   1.318771  0.187276  False,\n 'KSTest╰╰pre_spends[A]10':   group  statistic   p-value   pass\n 0     B      0.021  0.220219  False,\n 'GroupSizes╰╰post_spends[A]10':                      B\n control size    5000.0\n control size %    50.0\n test size       5000.0\n test size %       50.0,\n 'GroupDifference╰╰post_spends[A]10':                                    B\n post_spends control mean  452.718578\n post_spends difference     -1.108044\n post_spends difference %   -0.244753\n post_spends test mean     451.610533,\n 'TTest╰╰post_spends[A]10':   group  statistic   p-value   pass\n 0     B   1.406066  0.159736  False,\n 'KSTest╰╰post_spends[A]10':   group  statistic   p-value   pass\n 0     B     0.0212  0.211152  False,\n 'OneAASplitAnalyzer╰╰10':    TTest p-value  TTest pass  KSTest p-value  KSTest pass  mean test score\n 0       0.173506         0.0        0.215686          0.0         0.201626,\n 'GroupSizes╰╰pre_spends[A]11':                      B\n control size    5000.0\n control size %    50.0\n test size       5000.0\n test size %       50.0,\n 'GroupDifference╰╰pre_spends[A]11':                                   B\n pre_spends control mean  487.342600\n pre_spends difference     -0.497700\n pre_spends difference %   -0.102125\n pre_spends test mean     486.844900,\n 'TTest╰╰pre_spends[A]11':   group  statistic   p-value   pass\n 0     B   1.318771  0.187276  False,\n 'KSTest╰╰pre_spends[A]11':   group  statistic   p-value   pass\n 0     B      0.021  0.220219  False,\n 'GroupSizes╰╰post_spends[A]11':                      B\n control size    5000.0\n control size %    50.0\n test size       5000.0\n test size %       50.0,\n 'GroupDifference╰╰post_spends[A]11':                                    B\n post_spends control mean  452.718578\n post_spends difference     -1.108044\n post_spends difference %   -0.244753\n post_spends test mean     451.610533,\n 'TTest╰╰post_spends[A]11':   group  statistic   p-value   pass\n 0     B   1.406066  0.159736  False,\n 'KSTest╰╰post_spends[A]11':   group  statistic   p-value   pass\n 0     B     0.0212  0.211152  False,\n 'OneAASplitAnalyzer╰╰11':    TTest p-value  TTest pass  KSTest p-value  KSTest pass  mean test score\n 0       0.173506         0.0        0.215686          0.0         0.201626,\n 'GroupSizes╰╰pre_spends[A]12':                      B\n control size    5000.0\n control size %    50.0\n test size       5000.0\n test size %       50.0,\n 'GroupDifference╰╰pre_spends[A]12':                                   B\n pre_spends control mean  487.342600\n pre_spends difference     -0.497700\n pre_spends difference %   -0.102125\n pre_spends test mean     486.844900,\n 'TTest╰╰pre_spends[A]12':   group  statistic   p-value   pass\n 0     B   1.318771  0.187276  False,\n 'KSTest╰╰pre_spends[A]12':   group  statistic   p-value   pass\n 0     B      0.021  0.220219  False,\n 'GroupSizes╰╰post_spends[A]12':                      B\n control size    5000.0\n control size %    50.0\n test size       5000.0\n test size %       50.0,\n 'GroupDifference╰╰post_spends[A]12':                                    B\n post_spends control mean  452.718578\n post_spends difference     -1.108044\n post_spends difference %   -0.244753\n post_spends test mean     451.610533,\n 'TTest╰╰post_spends[A]12':   group  statistic   p-value   pass\n 0     B   1.406066  0.159736  False,\n 'KSTest╰╰post_spends[A]12':   group  statistic   p-value   pass\n 0     B     0.0212  0.211152  False,\n 'OneAASplitAnalyzer╰╰12':    TTest p-value  TTest pass  KSTest p-value  KSTest pass  mean test score\n 0       0.173506         0.0        0.215686          0.0         0.201626,\n 'GroupSizes╰╰pre_spends[A]13':                      B\n control size    5000.0\n control size %    50.0\n test size       5000.0\n test size %       50.0,\n 'GroupDifference╰╰pre_spends[A]13':                                   B\n pre_spends control mean  487.342600\n pre_spends difference     -0.497700\n pre_spends difference %   -0.102125\n pre_spends test mean     486.844900,\n 'TTest╰╰pre_spends[A]13':   group  statistic   p-value   pass\n 0     B   1.318771  0.187276  False,\n 'KSTest╰╰pre_spends[A]13':   group  statistic   p-value   pass\n 0     B      0.021  0.220219  False,\n 'GroupSizes╰╰post_spends[A]13':                      B\n control size    5000.0\n control size %    50.0\n test size       5000.0\n test size %       50.0,\n 'GroupDifference╰╰post_spends[A]13':                                    B\n post_spends control mean  452.718578\n post_spends difference     -1.108044\n post_spends difference %   -0.244753\n post_spends test mean     451.610533,\n 'TTest╰╰post_spends[A]13':   group  statistic   p-value   pass\n 0     B   1.406066  0.159736  False,\n 'KSTest╰╰post_spends[A]13':   group  statistic   p-value   pass\n 0     B     0.0212  0.211152  False,\n 'OneAASplitAnalyzer╰╰13':    TTest p-value  TTest pass  KSTest p-value  KSTest pass  mean test score\n 0       0.173506         0.0        0.215686          0.0         0.201626,\n 'GroupSizes╰╰pre_spends[A]14':                      B\n control size    5000.0\n control size %    50.0\n test size       5000.0\n test size %       50.0,\n 'GroupDifference╰╰pre_spends[A]14':                                   B\n pre_spends control mean  487.342600\n pre_spends difference     -0.497700\n pre_spends difference %   -0.102125\n pre_spends test mean     486.844900,\n 'TTest╰╰pre_spends[A]14':   group  statistic   p-value   pass\n 0     B   1.318771  0.187276  False,\n 'KSTest╰╰pre_spends[A]14':   group  statistic   p-value   pass\n 0     B      0.021  0.220219  False,\n 'GroupSizes╰╰post_spends[A]14':                      B\n control size    5000.0\n control size %    50.0\n test size       5000.0\n test size %       50.0,\n 'GroupDifference╰╰post_spends[A]14':                                    B\n post_spends control mean  452.718578\n post_spends difference     -1.108044\n post_spends difference %   -0.244753\n post_spends test mean     451.610533,\n 'TTest╰╰post_spends[A]14':   group  statistic   p-value   pass\n 0     B   1.406066  0.159736  False,\n 'KSTest╰╰post_spends[A]14':   group  statistic   p-value   pass\n 0     B     0.0212  0.211152  False,\n 'OneAASplitAnalyzer╰╰14':    TTest p-value  TTest pass  KSTest p-value  KSTest pass  mean test score\n 0       0.173506         0.0        0.215686          0.0         0.201626,\n 'GroupSizes╰╰pre_spends[A]15':                      B\n control size    5000.0\n control size %    50.0\n test size       5000.0\n test size %       50.0,\n 'GroupDifference╰╰pre_spends[A]15':                                   B\n pre_spends control mean  487.342600\n pre_spends difference     -0.497700\n pre_spends difference %   -0.102125\n pre_spends test mean     486.844900,\n 'TTest╰╰pre_spends[A]15':   group  statistic   p-value   pass\n 0     B   1.318771  0.187276  False,\n 'KSTest╰╰pre_spends[A]15':   group  statistic   p-value   pass\n 0     B      0.021  0.220219  False,\n 'GroupSizes╰╰post_spends[A]15':                      B\n control size    5000.0\n control size %    50.0\n test size       5000.0\n test size %       50.0,\n 'GroupDifference╰╰post_spends[A]15':                                    B\n post_spends control mean  452.718578\n post_spends difference     -1.108044\n post_spends difference %   -0.244753\n post_spends test mean     451.610533,\n 'TTest╰╰post_spends[A]15':   group  statistic   p-value   pass\n 0     B   1.406066  0.159736  False,\n 'KSTest╰╰post_spends[A]15':   group  statistic   p-value   pass\n 0     B     0.0212  0.211152  False,\n 'OneAASplitAnalyzer╰╰15':    TTest p-value  TTest pass  KSTest p-value  KSTest pass  mean test score\n 0       0.173506         0.0        0.215686          0.0         0.201626,\n 'GroupSizes╰╰pre_spends[A]16':                      B\n control size    5000.0\n control size %    50.0\n test size       5000.0\n test size %       50.0,\n 'GroupDifference╰╰pre_spends[A]16':                                   B\n pre_spends control mean  487.342600\n pre_spends difference     -0.497700\n pre_spends difference %   -0.102125\n pre_spends test mean     486.844900,\n 'TTest╰╰pre_spends[A]16':   group  statistic   p-value   pass\n 0     B   1.318771  0.187276  False,\n 'KSTest╰╰pre_spends[A]16':   group  statistic   p-value   pass\n 0     B      0.021  0.220219  False,\n 'GroupSizes╰╰post_spends[A]16':                      B\n control size    5000.0\n control size %    50.0\n test size       5000.0\n test size %       50.0,\n 'GroupDifference╰╰post_spends[A]16':                                    B\n post_spends control mean  452.718578\n post_spends difference     -1.108044\n post_spends difference %   -0.244753\n post_spends test mean     451.610533,\n 'TTest╰╰post_spends[A]16':   group  statistic   p-value   pass\n 0     B   1.406066  0.159736  False,\n 'KSTest╰╰post_spends[A]16':   group  statistic   p-value   pass\n 0     B     0.0212  0.211152  False,\n 'OneAASplitAnalyzer╰╰16':    TTest p-value  TTest pass  KSTest p-value  KSTest pass  mean test score\n 0       0.173506         0.0        0.215686          0.0         0.201626,\n 'GroupSizes╰╰pre_spends[A]17':                      B\n control size    5000.0\n control size %    50.0\n test size       5000.0\n test size %       50.0,\n 'GroupDifference╰╰pre_spends[A]17':                                   B\n pre_spends control mean  487.342600\n pre_spends difference     -0.497700\n pre_spends difference %   -0.102125\n pre_spends test mean     486.844900,\n 'TTest╰╰pre_spends[A]17':   group  statistic   p-value   pass\n 0     B   1.318771  0.187276  False,\n 'KSTest╰╰pre_spends[A]17':   group  statistic   p-value   pass\n 0     B      0.021  0.220219  False,\n 'GroupSizes╰╰post_spends[A]17':                      B\n control size    5000.0\n control size %    50.0\n test size       5000.0\n test size %       50.0,\n 'GroupDifference╰╰post_spends[A]17':                                    B\n post_spends control mean  452.718578\n post_spends difference     -1.108044\n post_spends difference %   -0.244753\n post_spends test mean     451.610533,\n 'TTest╰╰post_spends[A]17':   group  statistic   p-value   pass\n 0     B   1.406066  0.159736  False,\n 'KSTest╰╰post_spends[A]17':   group  statistic   p-value   pass\n 0     B     0.0212  0.211152  False,\n 'OneAASplitAnalyzer╰╰17':    TTest p-value  TTest pass  KSTest p-value  KSTest pass  mean test score\n 0       0.173506         0.0        0.215686          0.0         0.201626,\n 'GroupSizes╰╰pre_spends[A]18':                      B\n control size    5000.0\n control size %    50.0\n test size       5000.0\n test size %       50.0,\n 'GroupDifference╰╰pre_spends[A]18':                                   B\n pre_spends control mean  487.342600\n pre_spends difference     -0.497700\n pre_spends difference %   -0.102125\n pre_spends test mean     486.844900,\n 'TTest╰╰pre_spends[A]18':   group  statistic   p-value   pass\n 0     B   1.318771  0.187276  False,\n 'KSTest╰╰pre_spends[A]18':   group  statistic   p-value   pass\n 0     B      0.021  0.220219  False,\n 'GroupSizes╰╰post_spends[A]18':                      B\n control size    5000.0\n control size %    50.0\n test size       5000.0\n test size %       50.0,\n 'GroupDifference╰╰post_spends[A]18':                                    B\n post_spends control mean  452.718578\n post_spends difference     -1.108044\n post_spends difference %   -0.244753\n post_spends test mean     451.610533,\n 'TTest╰╰post_spends[A]18':   group  statistic   p-value   pass\n 0     B   1.406066  0.159736  False,\n 'KSTest╰╰post_spends[A]18':   group  statistic   p-value   pass\n 0     B     0.0212  0.211152  False,\n 'OneAASplitAnalyzer╰╰18':    TTest p-value  TTest pass  KSTest p-value  KSTest pass  mean test score\n 0       0.173506         0.0        0.215686          0.0         0.201626,\n 'GroupSizes╰╰pre_spends[A]19':                      B\n control size    5000.0\n control size %    50.0\n test size       5000.0\n test size %       50.0,\n 'GroupDifference╰╰pre_spends[A]19':                                   B\n pre_spends control mean  487.342600\n pre_spends difference     -0.497700\n pre_spends difference %   -0.102125\n pre_spends test mean     486.844900,\n 'TTest╰╰pre_spends[A]19':   group  statistic   p-value   pass\n 0     B   1.318771  0.187276  False,\n 'KSTest╰╰pre_spends[A]19':   group  statistic   p-value   pass\n 0     B      0.021  0.220219  False,\n 'GroupSizes╰╰post_spends[A]19':                      B\n control size    5000.0\n control size %    50.0\n test size       5000.0\n test size %       50.0,\n 'GroupDifference╰╰post_spends[A]19':                                    B\n post_spends control mean  452.718578\n post_spends difference     -1.108044\n post_spends difference %   -0.244753\n post_spends test mean     451.610533,\n 'TTest╰╰post_spends[A]19':   group  statistic   p-value   pass\n 0     B   1.406066  0.159736  False,\n 'KSTest╰╰post_spends[A]19':   group  statistic   p-value   pass\n 0     B     0.0212  0.211152  False,\n 'OneAASplitAnalyzer╰╰19':    TTest p-value  TTest pass  KSTest p-value  KSTest pass  mean test score\n 0       0.173506         0.0        0.215686          0.0         0.201626,\n 'GroupSizes╰╰pre_spends[A]20':                      B\n control size    5000.0\n control size %    50.0\n test size       5000.0\n test size %       50.0,\n 'GroupDifference╰╰pre_spends[A]20':                                   B\n pre_spends control mean  487.342600\n pre_spends difference     -0.497700\n pre_spends difference %   -0.102125\n pre_spends test mean     486.844900,\n 'TTest╰╰pre_spends[A]20':   group  statistic   p-value   pass\n 0     B   1.318771  0.187276  False,\n 'KSTest╰╰pre_spends[A]20':   group  statistic   p-value   pass\n 0     B      0.021  0.220219  False,\n 'GroupSizes╰╰post_spends[A]20':                      B\n control size    5000.0\n control size %    50.0\n test size       5000.0\n test size %       50.0,\n 'GroupDifference╰╰post_spends[A]20':                                    B\n post_spends control mean  452.718578\n post_spends difference     -1.108044\n post_spends difference %   -0.244753\n post_spends test mean     451.610533,\n 'TTest╰╰post_spends[A]20':   group  statistic   p-value   pass\n 0     B   1.406066  0.159736  False,\n 'KSTest╰╰post_spends[A]20':   group  statistic   p-value   pass\n 0     B     0.0212  0.211152  False,\n 'OneAASplitAnalyzer╰╰20':    TTest p-value  TTest pass  KSTest p-value  KSTest pass  mean test score\n 0       0.173506         0.0        0.215686          0.0         0.201626,\n 'GroupSizes╰╰pre_spends[A]21':                      B\n control size    5000.0\n control size %    50.0\n test size       5000.0\n test size %       50.0,\n 'GroupDifference╰╰pre_spends[A]21':                                   B\n pre_spends control mean  487.342600\n pre_spends difference     -0.497700\n pre_spends difference %   -0.102125\n pre_spends test mean     486.844900,\n 'TTest╰╰pre_spends[A]21':   group  statistic   p-value   pass\n 0     B   1.318771  0.187276  False,\n 'KSTest╰╰pre_spends[A]21':   group  statistic   p-value   pass\n 0     B      0.021  0.220219  False,\n 'GroupSizes╰╰post_spends[A]21':                      B\n control size    5000.0\n control size %    50.0\n test size       5000.0\n test size %       50.0,\n 'GroupDifference╰╰post_spends[A]21':                                    B\n post_spends control mean  452.718578\n post_spends difference     -1.108044\n post_spends difference %   -0.244753\n post_spends test mean     451.610533,\n 'TTest╰╰post_spends[A]21':   group  statistic   p-value   pass\n 0     B   1.406066  0.159736  False,\n 'KSTest╰╰post_spends[A]21':   group  statistic   p-value   pass\n 0     B     0.0212  0.211152  False,\n 'OneAASplitAnalyzer╰╰21':    TTest p-value  TTest pass  KSTest p-value  KSTest pass  mean test score\n 0       0.173506         0.0        0.215686          0.0         0.201626,\n 'GroupSizes╰╰pre_spends[A]22':                      B\n control size    5000.0\n control size %    50.0\n test size       5000.0\n test size %       50.0,\n 'GroupDifference╰╰pre_spends[A]22':                                   B\n pre_spends control mean  487.342600\n pre_spends difference     -0.497700\n pre_spends difference %   -0.102125\n pre_spends test mean     486.844900,\n 'TTest╰╰pre_spends[A]22':   group  statistic   p-value   pass\n 0     B   1.318771  0.187276  False,\n 'KSTest╰╰pre_spends[A]22':   group  statistic   p-value   pass\n 0     B      0.021  0.220219  False,\n 'GroupSizes╰╰post_spends[A]22':                      B\n control size    5000.0\n control size %    50.0\n test size       5000.0\n test size %       50.0,\n 'GroupDifference╰╰post_spends[A]22':                                    B\n post_spends control mean  452.718578\n post_spends difference     -1.108044\n post_spends difference %   -0.244753\n post_spends test mean     451.610533,\n 'TTest╰╰post_spends[A]22':   group  statistic   p-value   pass\n 0     B   1.406066  0.159736  False,\n 'KSTest╰╰post_spends[A]22':   group  statistic   p-value   pass\n 0     B     0.0212  0.211152  False,\n 'OneAASplitAnalyzer╰╰22':    TTest p-value  TTest pass  KSTest p-value  KSTest pass  mean test score\n 0       0.173506         0.0        0.215686          0.0         0.201626,\n 'GroupSizes╰╰pre_spends[A]23':                      B\n control size    5000.0\n control size %    50.0\n test size       5000.0\n test size %       50.0,\n 'GroupDifference╰╰pre_spends[A]23':                                   B\n pre_spends control mean  487.342600\n pre_spends difference     -0.497700\n pre_spends difference %   -0.102125\n pre_spends test mean     486.844900,\n 'TTest╰╰pre_spends[A]23':   group  statistic   p-value   pass\n 0     B   1.318771  0.187276  False,\n 'KSTest╰╰pre_spends[A]23':   group  statistic   p-value   pass\n 0     B      0.021  0.220219  False,\n 'GroupSizes╰╰post_spends[A]23':                      B\n control size    5000.0\n control size %    50.0\n test size       5000.0\n test size %       50.0,\n 'GroupDifference╰╰post_spends[A]23':                                    B\n post_spends control mean  452.718578\n post_spends difference     -1.108044\n post_spends difference %   -0.244753\n post_spends test mean     451.610533,\n 'TTest╰╰post_spends[A]23':   group  statistic   p-value   pass\n 0     B   1.406066  0.159736  False,\n 'KSTest╰╰post_spends[A]23':   group  statistic   p-value   pass\n 0     B     0.0212  0.211152  False,\n 'OneAASplitAnalyzer╰╰23':    TTest p-value  TTest pass  KSTest p-value  KSTest pass  mean test score\n 0       0.173506         0.0        0.215686          0.0         0.201626,\n 'GroupSizes╰╰pre_spends[A]24':                      B\n control size    5000.0\n control size %    50.0\n test size       5000.0\n test size %       50.0,\n 'GroupDifference╰╰pre_spends[A]24':                                   B\n pre_spends control mean  487.342600\n pre_spends difference     -0.497700\n pre_spends difference %   -0.102125\n pre_spends test mean     486.844900,\n 'TTest╰╰pre_spends[A]24':   group  statistic   p-value   pass\n 0     B   1.318771  0.187276  False,\n 'KSTest╰╰pre_spends[A]24':   group  statistic   p-value   pass\n 0     B      0.021  0.220219  False,\n 'GroupSizes╰╰post_spends[A]24':                      B\n control size    5000.0\n control size %    50.0\n test size       5000.0\n test size %       50.0,\n 'GroupDifference╰╰post_spends[A]24':                                    B\n post_spends control mean  452.718578\n post_spends difference     -1.108044\n post_spends difference %   -0.244753\n post_spends test mean     451.610533,\n 'TTest╰╰post_spends[A]24':   group  statistic   p-value   pass\n 0     B   1.406066  0.159736  False,\n 'KSTest╰╰post_spends[A]24':   group  statistic   p-value   pass\n 0     B     0.0212  0.211152  False,\n 'OneAASplitAnalyzer╰╰24':    TTest p-value  TTest pass  KSTest p-value  KSTest pass  mean test score\n 0       0.173506         0.0        0.215686          0.0         0.201626,\n 'GroupSizes╰╰pre_spends[A]25':                      B\n control size    5000.0\n control size %    50.0\n test size       5000.0\n test size %       50.0,\n 'GroupDifference╰╰pre_spends[A]25':                                   B\n pre_spends control mean  487.342600\n pre_spends difference     -0.497700\n pre_spends difference %   -0.102125\n pre_spends test mean     486.844900,\n 'TTest╰╰pre_spends[A]25':   group  statistic   p-value   pass\n 0     B   1.318771  0.187276  False,\n 'KSTest╰╰pre_spends[A]25':   group  statistic   p-value   pass\n 0     B      0.021  0.220219  False,\n 'GroupSizes╰╰post_spends[A]25':                      B\n control size    5000.0\n control size %    50.0\n test size       5000.0\n test size %       50.0,\n 'GroupDifference╰╰post_spends[A]25':                                    B\n post_spends control mean  452.718578\n post_spends difference     -1.108044\n post_spends difference %   -0.244753\n post_spends test mean     451.610533,\n 'TTest╰╰post_spends[A]25':   group  statistic   p-value   pass\n 0     B   1.406066  0.159736  False,\n 'KSTest╰╰post_spends[A]25':   group  statistic   p-value   pass\n 0     B     0.0212  0.211152  False,\n 'OneAASplitAnalyzer╰╰25':    TTest p-value  TTest pass  KSTest p-value  KSTest pass  mean test score\n 0       0.173506         0.0        0.215686          0.0         0.201626,\n 'GroupSizes╰╰pre_spends[A]26':                      B\n control size    5000.0\n control size %    50.0\n test size       5000.0\n test size %       50.0,\n 'GroupDifference╰╰pre_spends[A]26':                                   B\n pre_spends control mean  487.342600\n pre_spends difference     -0.497700\n pre_spends difference %   -0.102125\n pre_spends test mean     486.844900,\n 'TTest╰╰pre_spends[A]26':   group  statistic   p-value   pass\n 0     B   1.318771  0.187276  False,\n 'KSTest╰╰pre_spends[A]26':   group  statistic   p-value   pass\n 0     B      0.021  0.220219  False,\n 'GroupSizes╰╰post_spends[A]26':                      B\n control size    5000.0\n control size %    50.0\n test size       5000.0\n test size %       50.0,\n 'GroupDifference╰╰post_spends[A]26':                                    B\n post_spends control mean  452.718578\n post_spends difference     -1.108044\n post_spends difference %   -0.244753\n post_spends test mean     451.610533,\n 'TTest╰╰post_spends[A]26':   group  statistic   p-value   pass\n 0     B   1.406066  0.159736  False,\n 'KSTest╰╰post_spends[A]26':   group  statistic   p-value   pass\n 0     B     0.0212  0.211152  False,\n 'OneAASplitAnalyzer╰╰26':    TTest p-value  TTest pass  KSTest p-value  KSTest pass  mean test score\n 0       0.173506         0.0        0.215686          0.0         0.201626,\n 'GroupSizes╰╰pre_spends[A]27':                      B\n control size    5000.0\n control size %    50.0\n test size       5000.0\n test size %       50.0,\n 'GroupDifference╰╰pre_spends[A]27':                                   B\n pre_spends control mean  487.342600\n pre_spends difference     -0.497700\n pre_spends difference %   -0.102125\n pre_spends test mean     486.844900,\n 'TTest╰╰pre_spends[A]27':   group  statistic   p-value   pass\n 0     B   1.318771  0.187276  False,\n 'KSTest╰╰pre_spends[A]27':   group  statistic   p-value   pass\n 0     B      0.021  0.220219  False,\n 'GroupSizes╰╰post_spends[A]27':                      B\n control size    5000.0\n control size %    50.0\n test size       5000.0\n test size %       50.0,\n 'GroupDifference╰╰post_spends[A]27':                                    B\n post_spends control mean  452.718578\n post_spends difference     -1.108044\n post_spends difference %   -0.244753\n post_spends test mean     451.610533,\n 'TTest╰╰post_spends[A]27':   group  statistic   p-value   pass\n 0     B   1.406066  0.159736  False,\n 'KSTest╰╰post_spends[A]27':   group  statistic   p-value   pass\n 0     B     0.0212  0.211152  False,\n 'OneAASplitAnalyzer╰╰27':    TTest p-value  TTest pass  KSTest p-value  KSTest pass  mean test score\n 0       0.173506         0.0        0.215686          0.0         0.201626,\n 'GroupSizes╰╰pre_spends[A]28':                      B\n control size    5000.0\n control size %    50.0\n test size       5000.0\n test size %       50.0,\n 'GroupDifference╰╰pre_spends[A]28':                                   B\n pre_spends control mean  487.342600\n pre_spends difference     -0.497700\n pre_spends difference %   -0.102125\n pre_spends test mean     486.844900,\n 'TTest╰╰pre_spends[A]28':   group  statistic   p-value   pass\n 0     B   1.318771  0.187276  False,\n 'KSTest╰╰pre_spends[A]28':   group  statistic   p-value   pass\n 0     B      0.021  0.220219  False,\n 'GroupSizes╰╰post_spends[A]28':                      B\n control size    5000.0\n control size %    50.0\n test size       5000.0\n test size %       50.0,\n 'GroupDifference╰╰post_spends[A]28':                                    B\n post_spends control mean  452.718578\n post_spends difference     -1.108044\n post_spends difference %   -0.244753\n post_spends test mean     451.610533,\n 'TTest╰╰post_spends[A]28':   group  statistic   p-value   pass\n 0     B   1.406066  0.159736  False,\n 'KSTest╰╰post_spends[A]28':   group  statistic   p-value   pass\n 0     B     0.0212  0.211152  False,\n 'OneAASplitAnalyzer╰╰28':    TTest p-value  TTest pass  KSTest p-value  KSTest pass  mean test score\n 0       0.173506         0.0        0.215686          0.0         0.201626,\n 'GroupSizes╰╰pre_spends[A]29':                      B\n control size    5000.0\n control size %    50.0\n test size       5000.0\n test size %       50.0,\n 'GroupDifference╰╰pre_spends[A]29':                                   B\n pre_spends control mean  487.342600\n pre_spends difference     -0.497700\n pre_spends difference %   -0.102125\n pre_spends test mean     486.844900,\n 'TTest╰╰pre_spends[A]29':   group  statistic   p-value   pass\n 0     B   1.318771  0.187276  False,\n 'KSTest╰╰pre_spends[A]29':   group  statistic   p-value   pass\n 0     B      0.021  0.220219  False,\n 'GroupSizes╰╰post_spends[A]29':                      B\n control size    5000.0\n control size %    50.0\n test size       5000.0\n test size %       50.0,\n 'GroupDifference╰╰post_spends[A]29':                                    B\n post_spends control mean  452.718578\n post_spends difference     -1.108044\n post_spends difference %   -0.244753\n post_spends test mean     451.610533,\n 'TTest╰╰post_spends[A]29':   group  statistic   p-value   pass\n 0     B   1.406066  0.159736  False,\n 'KSTest╰╰post_spends[A]29':   group  statistic   p-value   pass\n 0     B     0.0212  0.211152  False,\n 'OneAASplitAnalyzer╰╰29':    TTest p-value  TTest pass  KSTest p-value  KSTest pass  mean test score\n 0       0.173506         0.0        0.215686          0.0         0.201626,\n 'GroupSizes╰╰pre_spends[A]30':                      B\n control size    5000.0\n control size %    50.0\n test size       5000.0\n test size %       50.0,\n 'GroupDifference╰╰pre_spends[A]30':                                   B\n pre_spends control mean  487.342600\n pre_spends difference     -0.497700\n pre_spends difference %   -0.102125\n pre_spends test mean     486.844900,\n 'TTest╰╰pre_spends[A]30':   group  statistic   p-value   pass\n 0     B   1.318771  0.187276  False,\n 'KSTest╰╰pre_spends[A]30':   group  statistic   p-value   pass\n 0     B      0.021  0.220219  False,\n 'GroupSizes╰╰post_spends[A]30':                      B\n control size    5000.0\n control size %    50.0\n test size       5000.0\n test size %       50.0,\n 'GroupDifference╰╰post_spends[A]30':                                    B\n post_spends control mean  452.718578\n post_spends difference     -1.108044\n post_spends difference %   -0.244753\n post_spends test mean     451.610533,\n 'TTest╰╰post_spends[A]30':   group  statistic   p-value   pass\n 0     B   1.406066  0.159736  False,\n 'KSTest╰╰post_spends[A]30':   group  statistic   p-value   pass\n 0     B     0.0212  0.211152  False,\n 'OneAASplitAnalyzer╰╰30':    TTest p-value  TTest pass  KSTest p-value  KSTest pass  mean test score\n 0       0.173506         0.0        0.215686          0.0         0.201626,\n 'GroupSizes╰╰pre_spends[A]31':                      B\n control size    5000.0\n control size %    50.0\n test size       5000.0\n test size %       50.0,\n 'GroupDifference╰╰pre_spends[A]31':                                   B\n pre_spends control mean  487.342600\n pre_spends difference     -0.497700\n pre_spends difference %   -0.102125\n pre_spends test mean     486.844900,\n 'TTest╰╰pre_spends[A]31':   group  statistic   p-value   pass\n 0     B   1.318771  0.187276  False,\n 'KSTest╰╰pre_spends[A]31':   group  statistic   p-value   pass\n 0     B      0.021  0.220219  False,\n 'GroupSizes╰╰post_spends[A]31':                      B\n control size    5000.0\n control size %    50.0\n test size       5000.0\n test size %       50.0,\n 'GroupDifference╰╰post_spends[A]31':                                    B\n post_spends control mean  452.718578\n post_spends difference     -1.108044\n post_spends difference %   -0.244753\n post_spends test mean     451.610533,\n 'TTest╰╰post_spends[A]31':   group  statistic   p-value   pass\n 0     B   1.406066  0.159736  False,\n 'KSTest╰╰post_spends[A]31':   group  statistic   p-value   pass\n 0     B     0.0212  0.211152  False,\n 'OneAASplitAnalyzer╰╰31':    TTest p-value  TTest pass  KSTest p-value  KSTest pass  mean test score\n 0       0.173506         0.0        0.215686          0.0         0.201626,\n 'GroupSizes╰╰pre_spends[A]32':                      B\n control size    5000.0\n control size %    50.0\n test size       5000.0\n test size %       50.0,\n 'GroupDifference╰╰pre_spends[A]32':                                   B\n pre_spends control mean  487.342600\n pre_spends difference     -0.497700\n pre_spends difference %   -0.102125\n pre_spends test mean     486.844900,\n 'TTest╰╰pre_spends[A]32':   group  statistic   p-value   pass\n 0     B   1.318771  0.187276  False,\n 'KSTest╰╰pre_spends[A]32':   group  statistic   p-value   pass\n 0     B      0.021  0.220219  False,\n 'GroupSizes╰╰post_spends[A]32':                      B\n control size    5000.0\n control size %    50.0\n test size       5000.0\n test size %       50.0,\n 'GroupDifference╰╰post_spends[A]32':                                    B\n post_spends control mean  452.718578\n post_spends difference     -1.108044\n post_spends difference %   -0.244753\n post_spends test mean     451.610533,\n 'TTest╰╰post_spends[A]32':   group  statistic   p-value   pass\n 0     B   1.406066  0.159736  False,\n 'KSTest╰╰post_spends[A]32':   group  statistic   p-value   pass\n 0     B     0.0212  0.211152  False,\n 'OneAASplitAnalyzer╰╰32':    TTest p-value  TTest pass  KSTest p-value  KSTest pass  mean test score\n 0       0.173506         0.0        0.215686          0.0         0.201626,\n 'GroupSizes╰╰pre_spends[A]33':                      B\n control size    5000.0\n control size %    50.0\n test size       5000.0\n test size %       50.0,\n 'GroupDifference╰╰pre_spends[A]33':                                   B\n pre_spends control mean  487.342600\n pre_spends difference     -0.497700\n pre_spends difference %   -0.102125\n pre_spends test mean     486.844900,\n 'TTest╰╰pre_spends[A]33':   group  statistic   p-value   pass\n 0     B   1.318771  0.187276  False,\n 'KSTest╰╰pre_spends[A]33':   group  statistic   p-value   pass\n 0     B      0.021  0.220219  False,\n 'GroupSizes╰╰post_spends[A]33':                      B\n control size    5000.0\n control size %    50.0\n test size       5000.0\n test size %       50.0,\n 'GroupDifference╰╰post_spends[A]33':                                    B\n post_spends control mean  452.718578\n post_spends difference     -1.108044\n post_spends difference %   -0.244753\n post_spends test mean     451.610533,\n 'TTest╰╰post_spends[A]33':   group  statistic   p-value   pass\n 0     B   1.406066  0.159736  False,\n 'KSTest╰╰post_spends[A]33':   group  statistic   p-value   pass\n 0     B     0.0212  0.211152  False,\n 'OneAASplitAnalyzer╰╰33':    TTest p-value  TTest pass  KSTest p-value  KSTest pass  mean test score\n 0       0.173506         0.0        0.215686          0.0         0.201626,\n 'GroupSizes╰╰pre_spends[A]34':                      B\n control size    5000.0\n control size %    50.0\n test size       5000.0\n test size %       50.0,\n 'GroupDifference╰╰pre_spends[A]34':                                   B\n pre_spends control mean  487.342600\n pre_spends difference     -0.497700\n pre_spends difference %   -0.102125\n pre_spends test mean     486.844900,\n 'TTest╰╰pre_spends[A]34':   group  statistic   p-value   pass\n 0     B   1.318771  0.187276  False,\n 'KSTest╰╰pre_spends[A]34':   group  statistic   p-value   pass\n 0     B      0.021  0.220219  False,\n 'GroupSizes╰╰post_spends[A]34':                      B\n control size    5000.0\n control size %    50.0\n test size       5000.0\n test size %       50.0,\n 'GroupDifference╰╰post_spends[A]34':                                    B\n post_spends control mean  452.718578\n post_spends difference     -1.108044\n post_spends difference %   -0.244753\n post_spends test mean     451.610533,\n 'TTest╰╰post_spends[A]34':   group  statistic   p-value   pass\n 0     B   1.406066  0.159736  False,\n 'KSTest╰╰post_spends[A]34':   group  statistic   p-value   pass\n 0     B     0.0212  0.211152  False,\n 'OneAASplitAnalyzer╰╰34':    TTest p-value  TTest pass  KSTest p-value  KSTest pass  mean test score\n 0       0.173506         0.0        0.215686          0.0         0.201626,\n 'GroupSizes╰╰pre_spends[A]35':                      B\n control size    5000.0\n control size %    50.0\n test size       5000.0\n test size %       50.0,\n 'GroupDifference╰╰pre_spends[A]35':                                   B\n pre_spends control mean  487.342600\n pre_spends difference     -0.497700\n pre_spends difference %   -0.102125\n pre_spends test mean     486.844900,\n 'TTest╰╰pre_spends[A]35':   group  statistic   p-value   pass\n 0     B   1.318771  0.187276  False,\n 'KSTest╰╰pre_spends[A]35':   group  statistic   p-value   pass\n 0     B      0.021  0.220219  False,\n 'GroupSizes╰╰post_spends[A]35':                      B\n control size    5000.0\n control size %    50.0\n test size       5000.0\n test size %       50.0,\n 'GroupDifference╰╰post_spends[A]35':                                    B\n post_spends control mean  452.718578\n post_spends difference     -1.108044\n post_spends difference %   -0.244753\n post_spends test mean     451.610533,\n 'TTest╰╰post_spends[A]35':   group  statistic   p-value   pass\n 0     B   1.406066  0.159736  False,\n 'KSTest╰╰post_spends[A]35':   group  statistic   p-value   pass\n 0     B     0.0212  0.211152  False,\n 'OneAASplitAnalyzer╰╰35':    TTest p-value  TTest pass  KSTest p-value  KSTest pass  mean test score\n 0       0.173506         0.0        0.215686          0.0         0.201626,\n 'GroupSizes╰╰pre_spends[A]36':                      B\n control size    5000.0\n control size %    50.0\n test size       5000.0\n test size %       50.0,\n 'GroupDifference╰╰pre_spends[A]36':                                   B\n pre_spends control mean  487.342600\n pre_spends difference     -0.497700\n pre_spends difference %   -0.102125\n pre_spends test mean     486.844900,\n 'TTest╰╰pre_spends[A]36':   group  statistic   p-value   pass\n 0     B   1.318771  0.187276  False,\n 'KSTest╰╰pre_spends[A]36':   group  statistic   p-value   pass\n 0     B      0.021  0.220219  False,\n 'GroupSizes╰╰post_spends[A]36':                      B\n control size    5000.0\n control size %    50.0\n test size       5000.0\n test size %       50.0,\n 'GroupDifference╰╰post_spends[A]36':                                    B\n post_spends control mean  452.718578\n post_spends difference     -1.108044\n post_spends difference %   -0.244753\n post_spends test mean     451.610533,\n 'TTest╰╰post_spends[A]36':   group  statistic   p-value   pass\n 0     B   1.406066  0.159736  False,\n 'KSTest╰╰post_spends[A]36':   group  statistic   p-value   pass\n 0     B     0.0212  0.211152  False,\n 'OneAASplitAnalyzer╰╰36':    TTest p-value  TTest pass  KSTest p-value  KSTest pass  mean test score\n 0       0.173506         0.0        0.215686          0.0         0.201626,\n 'GroupSizes╰╰pre_spends[A]37':                      B\n control size    5000.0\n control size %    50.0\n test size       5000.0\n test size %       50.0,\n 'GroupDifference╰╰pre_spends[A]37':                                   B\n pre_spends control mean  487.342600\n pre_spends difference     -0.497700\n pre_spends difference %   -0.102125\n pre_spends test mean     486.844900,\n 'TTest╰╰pre_spends[A]37':   group  statistic   p-value   pass\n 0     B   1.318771  0.187276  False,\n 'KSTest╰╰pre_spends[A]37':   group  statistic   p-value   pass\n 0     B      0.021  0.220219  False,\n 'GroupSizes╰╰post_spends[A]37':                      B\n control size    5000.0\n control size %    50.0\n test size       5000.0\n test size %       50.0,\n 'GroupDifference╰╰post_spends[A]37':                                    B\n post_spends control mean  452.718578\n post_spends difference     -1.108044\n post_spends difference %   -0.244753\n post_spends test mean     451.610533,\n 'TTest╰╰post_spends[A]37':   group  statistic   p-value   pass\n 0     B   1.406066  0.159736  False,\n 'KSTest╰╰post_spends[A]37':   group  statistic   p-value   pass\n 0     B     0.0212  0.211152  False,\n 'OneAASplitAnalyzer╰╰37':    TTest p-value  TTest pass  KSTest p-value  KSTest pass  mean test score\n 0       0.173506         0.0        0.215686          0.0         0.201626,\n 'GroupSizes╰╰pre_spends[A]38':                      B\n control size    5000.0\n control size %    50.0\n test size       5000.0\n test size %       50.0,\n 'GroupDifference╰╰pre_spends[A]38':                                   B\n pre_spends control mean  487.342600\n pre_spends difference     -0.497700\n pre_spends difference %   -0.102125\n pre_spends test mean     486.844900,\n 'TTest╰╰pre_spends[A]38':   group  statistic   p-value   pass\n 0     B   1.318771  0.187276  False,\n 'KSTest╰╰pre_spends[A]38':   group  statistic   p-value   pass\n 0     B      0.021  0.220219  False,\n 'GroupSizes╰╰post_spends[A]38':                      B\n control size    5000.0\n control size %    50.0\n test size       5000.0\n test size %       50.0,\n 'GroupDifference╰╰post_spends[A]38':                                    B\n post_spends control mean  452.718578\n post_spends difference     -1.108044\n post_spends difference %   -0.244753\n post_spends test mean     451.610533,\n 'TTest╰╰post_spends[A]38':   group  statistic   p-value   pass\n 0     B   1.406066  0.159736  False,\n 'KSTest╰╰post_spends[A]38':   group  statistic   p-value   pass\n 0     B     0.0212  0.211152  False,\n 'OneAASplitAnalyzer╰╰38':    TTest p-value  TTest pass  KSTest p-value  KSTest pass  mean test score\n 0       0.173506         0.0        0.215686          0.0         0.201626,\n 'GroupSizes╰╰pre_spends[A]39':                      B\n control size    5000.0\n control size %    50.0\n test size       5000.0\n test size %       50.0,\n 'GroupDifference╰╰pre_spends[A]39':                                   B\n pre_spends control mean  487.342600\n pre_spends difference     -0.497700\n pre_spends difference %   -0.102125\n pre_spends test mean     486.844900,\n 'TTest╰╰pre_spends[A]39':   group  statistic   p-value   pass\n 0     B   1.318771  0.187276  False,\n 'KSTest╰╰pre_spends[A]39':   group  statistic   p-value   pass\n 0     B      0.021  0.220219  False,\n 'GroupSizes╰╰post_spends[A]39':                      B\n control size    5000.0\n control size %    50.0\n test size       5000.0\n test size %       50.0,\n 'GroupDifference╰╰post_spends[A]39':                                    B\n post_spends control mean  452.718578\n post_spends difference     -1.108044\n post_spends difference %   -0.244753\n post_spends test mean     451.610533,\n 'TTest╰╰post_spends[A]39':   group  statistic   p-value   pass\n 0     B   1.406066  0.159736  False,\n 'KSTest╰╰post_spends[A]39':   group  statistic   p-value   pass\n 0     B     0.0212  0.211152  False,\n 'OneAASplitAnalyzer╰╰39':    TTest p-value  TTest pass  KSTest p-value  KSTest pass  mean test score\n 0       0.173506         0.0        0.215686          0.0         0.201626,\n 'GroupSizes╰╰pre_spends[A]40':                      B\n control size    5000.0\n control size %    50.0\n test size       5000.0\n test size %       50.0,\n 'GroupDifference╰╰pre_spends[A]40':                                   B\n pre_spends control mean  487.342600\n pre_spends difference     -0.497700\n pre_spends difference %   -0.102125\n pre_spends test mean     486.844900,\n 'TTest╰╰pre_spends[A]40':   group  statistic   p-value   pass\n 0     B   1.318771  0.187276  False,\n 'KSTest╰╰pre_spends[A]40':   group  statistic   p-value   pass\n 0     B      0.021  0.220219  False,\n 'GroupSizes╰╰post_spends[A]40':                      B\n control size    5000.0\n control size %    50.0\n test size       5000.0\n test size %       50.0,\n 'GroupDifference╰╰post_spends[A]40':                                    B\n post_spends control mean  452.718578\n post_spends difference     -1.108044\n post_spends difference %   -0.244753\n post_spends test mean     451.610533,\n 'TTest╰╰post_spends[A]40':   group  statistic   p-value   pass\n 0     B   1.406066  0.159736  False,\n 'KSTest╰╰post_spends[A]40':   group  statistic   p-value   pass\n 0     B     0.0212  0.211152  False,\n 'OneAASplitAnalyzer╰╰40':    TTest p-value  TTest pass  KSTest p-value  KSTest pass  mean test score\n 0       0.173506         0.0        0.215686          0.0         0.201626,\n 'GroupSizes╰╰pre_spends[A]41':                      B\n control size    5000.0\n control size %    50.0\n test size       5000.0\n test size %       50.0,\n 'GroupDifference╰╰pre_spends[A]41':                                   B\n pre_spends control mean  487.342600\n pre_spends difference     -0.497700\n pre_spends difference %   -0.102125\n pre_spends test mean     486.844900,\n 'TTest╰╰pre_spends[A]41':   group  statistic   p-value   pass\n 0     B   1.318771  0.187276  False,\n 'KSTest╰╰pre_spends[A]41':   group  statistic   p-value   pass\n 0     B      0.021  0.220219  False,\n 'GroupSizes╰╰post_spends[A]41':                      B\n control size    5000.0\n control size %    50.0\n test size       5000.0\n test size %       50.0,\n 'GroupDifference╰╰post_spends[A]41':                                    B\n post_spends control mean  452.718578\n post_spends difference     -1.108044\n post_spends difference %   -0.244753\n post_spends test mean     451.610533,\n 'TTest╰╰post_spends[A]41':   group  statistic   p-value   pass\n 0     B   1.406066  0.159736  False,\n 'KSTest╰╰post_spends[A]41':   group  statistic   p-value   pass\n 0     B     0.0212  0.211152  False,\n 'OneAASplitAnalyzer╰╰41':    TTest p-value  TTest pass  KSTest p-value  KSTest pass  mean test score\n 0       0.173506         0.0        0.215686          0.0         0.201626,\n 'GroupSizes╰╰pre_spends[A]42':                      B\n control size    5000.0\n control size %    50.0\n test size       5000.0\n test size %       50.0,\n 'GroupDifference╰╰pre_spends[A]42':                                   B\n pre_spends control mean  487.342600\n pre_spends difference     -0.497700\n pre_spends difference %   -0.102125\n pre_spends test mean     486.844900,\n 'TTest╰╰pre_spends[A]42':   group  statistic   p-value   pass\n 0     B   1.318771  0.187276  False,\n 'KSTest╰╰pre_spends[A]42':   group  statistic   p-value   pass\n 0     B      0.021  0.220219  False,\n 'GroupSizes╰╰post_spends[A]42':                      B\n control size    5000.0\n control size %    50.0\n test size       5000.0\n test size %       50.0,\n 'GroupDifference╰╰post_spends[A]42':                                    B\n post_spends control mean  452.718578\n post_spends difference     -1.108044\n post_spends difference %   -0.244753\n post_spends test mean     451.610533,\n 'TTest╰╰post_spends[A]42':   group  statistic   p-value   pass\n 0     B   1.406066  0.159736  False,\n 'KSTest╰╰post_spends[A]42':   group  statistic   p-value   pass\n 0     B     0.0212  0.211152  False,\n 'OneAASplitAnalyzer╰╰42':    TTest p-value  TTest pass  KSTest p-value  KSTest pass  mean test score\n 0       0.173506         0.0        0.215686          0.0         0.201626,\n 'GroupSizes╰╰pre_spends[A]43':                      B\n control size    5000.0\n control size %    50.0\n test size       5000.0\n test size %       50.0,\n 'GroupDifference╰╰pre_spends[A]43':                                   B\n pre_spends control mean  487.342600\n pre_spends difference     -0.497700\n pre_spends difference %   -0.102125\n pre_spends test mean     486.844900,\n 'TTest╰╰pre_spends[A]43':   group  statistic   p-value   pass\n 0     B   1.318771  0.187276  False,\n 'KSTest╰╰pre_spends[A]43':   group  statistic   p-value   pass\n 0     B      0.021  0.220219  False,\n 'GroupSizes╰╰post_spends[A]43':                      B\n control size    5000.0\n control size %    50.0\n test size       5000.0\n test size %       50.0,\n 'GroupDifference╰╰post_spends[A]43':                                    B\n post_spends control mean  452.718578\n post_spends difference     -1.108044\n post_spends difference %   -0.244753\n post_spends test mean     451.610533,\n 'TTest╰╰post_spends[A]43':   group  statistic   p-value   pass\n 0     B   1.406066  0.159736  False,\n 'KSTest╰╰post_spends[A]43':   group  statistic   p-value   pass\n 0     B     0.0212  0.211152  False,\n 'OneAASplitAnalyzer╰╰43':    TTest p-value  TTest pass  KSTest p-value  KSTest pass  mean test score\n 0       0.173506         0.0        0.215686          0.0         0.201626,\n 'GroupSizes╰╰pre_spends[A]44':                      B\n control size    5000.0\n control size %    50.0\n test size       5000.0\n test size %       50.0,\n 'GroupDifference╰╰pre_spends[A]44':                                   B\n pre_spends control mean  487.342600\n pre_spends difference     -0.497700\n pre_spends difference %   -0.102125\n pre_spends test mean     486.844900,\n 'TTest╰╰pre_spends[A]44':   group  statistic   p-value   pass\n 0     B   1.318771  0.187276  False,\n 'KSTest╰╰pre_spends[A]44':   group  statistic   p-value   pass\n 0     B      0.021  0.220219  False,\n 'GroupSizes╰╰post_spends[A]44':                      B\n control size    5000.0\n control size %    50.0\n test size       5000.0\n test size %       50.0,\n 'GroupDifference╰╰post_spends[A]44':                                    B\n post_spends control mean  452.718578\n post_spends difference     -1.108044\n post_spends difference %   -0.244753\n post_spends test mean     451.610533,\n 'TTest╰╰post_spends[A]44':   group  statistic   p-value   pass\n 0     B   1.406066  0.159736  False,\n 'KSTest╰╰post_spends[A]44':   group  statistic   p-value   pass\n 0     B     0.0212  0.211152  False,\n 'OneAASplitAnalyzer╰╰44':    TTest p-value  TTest pass  KSTest p-value  KSTest pass  mean test score\n 0       0.173506         0.0        0.215686          0.0         0.201626,\n 'GroupSizes╰╰pre_spends[A]45':                      B\n control size    5000.0\n control size %    50.0\n test size       5000.0\n test size %       50.0,\n 'GroupDifference╰╰pre_spends[A]45':                                   B\n pre_spends control mean  487.342600\n pre_spends difference     -0.497700\n pre_spends difference %   -0.102125\n pre_spends test mean     486.844900,\n 'TTest╰╰pre_spends[A]45':   group  statistic   p-value   pass\n 0     B   1.318771  0.187276  False,\n 'KSTest╰╰pre_spends[A]45':   group  statistic   p-value   pass\n 0     B      0.021  0.220219  False,\n 'GroupSizes╰╰post_spends[A]45':                      B\n control size    5000.0\n control size %    50.0\n test size       5000.0\n test size %       50.0,\n 'GroupDifference╰╰post_spends[A]45':                                    B\n post_spends control mean  452.718578\n post_spends difference     -1.108044\n post_spends difference %   -0.244753\n post_spends test mean     451.610533,\n 'TTest╰╰post_spends[A]45':   group  statistic   p-value   pass\n 0     B   1.406066  0.159736  False,\n 'KSTest╰╰post_spends[A]45':   group  statistic   p-value   pass\n 0     B     0.0212  0.211152  False,\n 'OneAASplitAnalyzer╰╰45':    TTest p-value  TTest pass  KSTest p-value  KSTest pass  mean test score\n 0       0.173506         0.0        0.215686          0.0         0.201626,\n 'GroupSizes╰╰pre_spends[A]46':                      B\n control size    5000.0\n control size %    50.0\n test size       5000.0\n test size %       50.0,\n 'GroupDifference╰╰pre_spends[A]46':                                   B\n pre_spends control mean  487.342600\n pre_spends difference     -0.497700\n pre_spends difference %   -0.102125\n pre_spends test mean     486.844900,\n 'TTest╰╰pre_spends[A]46':   group  statistic   p-value   pass\n 0     B   1.318771  0.187276  False,\n 'KSTest╰╰pre_spends[A]46':   group  statistic   p-value   pass\n 0     B      0.021  0.220219  False,\n 'GroupSizes╰╰post_spends[A]46':                      B\n control size    5000.0\n control size %    50.0\n test size       5000.0\n test size %       50.0,\n 'GroupDifference╰╰post_spends[A]46':                                    B\n post_spends control mean  452.718578\n post_spends difference     -1.108044\n post_spends difference %   -0.244753\n post_spends test mean     451.610533,\n 'TTest╰╰post_spends[A]46':   group  statistic   p-value   pass\n 0     B   1.406066  0.159736  False,\n 'KSTest╰╰post_spends[A]46':   group  statistic   p-value   pass\n 0     B     0.0212  0.211152  False,\n 'OneAASplitAnalyzer╰╰46':    TTest p-value  TTest pass  KSTest p-value  KSTest pass  mean test score\n 0       0.173506         0.0        0.215686          0.0         0.201626,\n 'GroupSizes╰╰pre_spends[A]47':                      B\n control size    5000.0\n control size %    50.0\n test size       5000.0\n test size %       50.0,\n 'GroupDifference╰╰pre_spends[A]47':                                   B\n pre_spends control mean  487.342600\n pre_spends difference     -0.497700\n pre_spends difference %   -0.102125\n pre_spends test mean     486.844900,\n 'TTest╰╰pre_spends[A]47':   group  statistic   p-value   pass\n 0     B   1.318771  0.187276  False,\n 'KSTest╰╰pre_spends[A]47':   group  statistic   p-value   pass\n 0     B      0.021  0.220219  False,\n 'GroupSizes╰╰post_spends[A]47':                      B\n control size    5000.0\n control size %    50.0\n test size       5000.0\n test size %       50.0,\n 'GroupDifference╰╰post_spends[A]47':                                    B\n post_spends control mean  452.718578\n post_spends difference     -1.108044\n post_spends difference %   -0.244753\n post_spends test mean     451.610533,\n 'TTest╰╰post_spends[A]47':   group  statistic   p-value   pass\n 0     B   1.406066  0.159736  False,\n 'KSTest╰╰post_spends[A]47':   group  statistic   p-value   pass\n 0     B     0.0212  0.211152  False,\n 'OneAASplitAnalyzer╰╰47':    TTest p-value  TTest pass  KSTest p-value  KSTest pass  mean test score\n 0       0.173506         0.0        0.215686          0.0         0.201626,\n 'GroupSizes╰╰pre_spends[A]48':                      B\n control size    5000.0\n control size %    50.0\n test size       5000.0\n test size %       50.0,\n 'GroupDifference╰╰pre_spends[A]48':                                   B\n pre_spends control mean  487.342600\n pre_spends difference     -0.497700\n pre_spends difference %   -0.102125\n pre_spends test mean     486.844900,\n 'TTest╰╰pre_spends[A]48':   group  statistic   p-value   pass\n 0     B   1.318771  0.187276  False,\n 'KSTest╰╰pre_spends[A]48':   group  statistic   p-value   pass\n 0     B      0.021  0.220219  False,\n 'GroupSizes╰╰post_spends[A]48':                      B\n control size    5000.0\n control size %    50.0\n test size       5000.0\n test size %       50.0,\n 'GroupDifference╰╰post_spends[A]48':                                    B\n post_spends control mean  452.718578\n post_spends difference     -1.108044\n post_spends difference %   -0.244753\n post_spends test mean     451.610533,\n 'TTest╰╰post_spends[A]48':   group  statistic   p-value   pass\n 0     B   1.406066  0.159736  False,\n 'KSTest╰╰post_spends[A]48':   group  statistic   p-value   pass\n 0     B     0.0212  0.211152  False,\n 'OneAASplitAnalyzer╰╰48':    TTest p-value  TTest pass  KSTest p-value  KSTest pass  mean test score\n 0       0.173506         0.0        0.215686          0.0         0.201626,\n 'GroupSizes╰╰pre_spends[A]49':                      B\n control size    5000.0\n control size %    50.0\n test size       5000.0\n test size %       50.0,\n 'GroupDifference╰╰pre_spends[A]49':                                   B\n pre_spends control mean  487.342600\n pre_spends difference     -0.497700\n pre_spends difference %   -0.102125\n pre_spends test mean     486.844900,\n 'TTest╰╰pre_spends[A]49':   group  statistic   p-value   pass\n 0     B   1.318771  0.187276  False,\n 'KSTest╰╰pre_spends[A]49':   group  statistic   p-value   pass\n 0     B      0.021  0.220219  False,\n 'GroupSizes╰╰post_spends[A]49':                      B\n control size    5000.0\n control size %    50.0\n test size       5000.0\n test size %       50.0,\n 'GroupDifference╰╰post_spends[A]49':                                    B\n post_spends control mean  452.718578\n post_spends difference     -1.108044\n post_spends difference %   -0.244753\n post_spends test mean     451.610533,\n 'TTest╰╰post_spends[A]49':   group  statistic   p-value   pass\n 0     B   1.406066  0.159736  False,\n 'KSTest╰╰post_spends[A]49':   group  statistic   p-value   pass\n 0     B     0.0212  0.211152  False,\n 'OneAASplitAnalyzer╰╰49':    TTest p-value  TTest pass  KSTest p-value  KSTest pass  mean test score\n 0       0.173506         0.0        0.215686          0.0         0.201626,\n 'GroupSizes╰╰pre_spends[A]50':                      B\n control size    5000.0\n control size %    50.0\n test size       5000.0\n test size %       50.0,\n 'GroupDifference╰╰pre_spends[A]50':                                   B\n pre_spends control mean  487.342600\n pre_spends difference     -0.497700\n pre_spends difference %   -0.102125\n pre_spends test mean     486.844900,\n 'TTest╰╰pre_spends[A]50':   group  statistic   p-value   pass\n 0     B   1.318771  0.187276  False,\n 'KSTest╰╰pre_spends[A]50':   group  statistic   p-value   pass\n 0     B      0.021  0.220219  False,\n 'GroupSizes╰╰post_spends[A]50':                      B\n control size    5000.0\n control size %    50.0\n test size       5000.0\n test size %       50.0,\n 'GroupDifference╰╰post_spends[A]50':                                    B\n post_spends control mean  452.718578\n post_spends difference     -1.108044\n post_spends difference %   -0.244753\n post_spends test mean     451.610533,\n 'TTest╰╰post_spends[A]50':   group  statistic   p-value   pass\n 0     B   1.406066  0.159736  False,\n 'KSTest╰╰post_spends[A]50':   group  statistic   p-value   pass\n 0     B     0.0212  0.211152  False,\n 'OneAASplitAnalyzer╰╰50':    TTest p-value  TTest pass  KSTest p-value  KSTest pass  mean test score\n 0       0.173506         0.0        0.215686          0.0         0.201626,\n 'GroupSizes╰╰pre_spends[A]51':                      B\n control size    5000.0\n control size %    50.0\n test size       5000.0\n test size %       50.0,\n 'GroupDifference╰╰pre_spends[A]51':                                   B\n pre_spends control mean  487.342600\n pre_spends difference     -0.497700\n pre_spends difference %   -0.102125\n pre_spends test mean     486.844900,\n 'TTest╰╰pre_spends[A]51':   group  statistic   p-value   pass\n 0     B   1.318771  0.187276  False,\n 'KSTest╰╰pre_spends[A]51':   group  statistic   p-value   pass\n 0     B      0.021  0.220219  False,\n 'GroupSizes╰╰post_spends[A]51':                      B\n control size    5000.0\n control size %    50.0\n test size       5000.0\n test size %       50.0,\n 'GroupDifference╰╰post_spends[A]51':                                    B\n post_spends control mean  452.718578\n post_spends difference     -1.108044\n post_spends difference %   -0.244753\n post_spends test mean     451.610533,\n 'TTest╰╰post_spends[A]51':   group  statistic   p-value   pass\n 0     B   1.406066  0.159736  False,\n 'KSTest╰╰post_spends[A]51':   group  statistic   p-value   pass\n 0     B     0.0212  0.211152  False,\n 'OneAASplitAnalyzer╰╰51':    TTest p-value  TTest pass  KSTest p-value  KSTest pass  mean test score\n 0       0.173506         0.0        0.215686          0.0         0.201626,\n 'GroupSizes╰╰pre_spends[A]52':                      B\n control size    5000.0\n control size %    50.0\n test size       5000.0\n test size %       50.0,\n 'GroupDifference╰╰pre_spends[A]52':                                   B\n pre_spends control mean  487.342600\n pre_spends difference     -0.497700\n pre_spends difference %   -0.102125\n pre_spends test mean     486.844900,\n 'TTest╰╰pre_spends[A]52':   group  statistic   p-value   pass\n 0     B   1.318771  0.187276  False,\n 'KSTest╰╰pre_spends[A]52':   group  statistic   p-value   pass\n 0     B      0.021  0.220219  False,\n 'GroupSizes╰╰post_spends[A]52':                      B\n control size    5000.0\n control size %    50.0\n test size       5000.0\n test size %       50.0,\n 'GroupDifference╰╰post_spends[A]52':                                    B\n post_spends control mean  452.718578\n post_spends difference     -1.108044\n post_spends difference %   -0.244753\n post_spends test mean     451.610533,\n 'TTest╰╰post_spends[A]52':   group  statistic   p-value   pass\n 0     B   1.406066  0.159736  False,\n 'KSTest╰╰post_spends[A]52':   group  statistic   p-value   pass\n 0     B     0.0212  0.211152  False,\n 'OneAASplitAnalyzer╰╰52':    TTest p-value  TTest pass  KSTest p-value  KSTest pass  mean test score\n 0       0.173506         0.0        0.215686          0.0         0.201626,\n 'GroupSizes╰╰pre_spends[A]53':                      B\n control size    5000.0\n control size %    50.0\n test size       5000.0\n test size %       50.0,\n 'GroupDifference╰╰pre_spends[A]53':                                   B\n pre_spends control mean  487.342600\n pre_spends difference     -0.497700\n pre_spends difference %   -0.102125\n pre_spends test mean     486.844900,\n 'TTest╰╰pre_spends[A]53':   group  statistic   p-value   pass\n 0     B   1.318771  0.187276  False,\n 'KSTest╰╰pre_spends[A]53':   group  statistic   p-value   pass\n 0     B      0.021  0.220219  False,\n 'GroupSizes╰╰post_spends[A]53':                      B\n control size    5000.0\n control size %    50.0\n test size       5000.0\n test size %       50.0,\n 'GroupDifference╰╰post_spends[A]53':                                    B\n post_spends control mean  452.718578\n post_spends difference     -1.108044\n post_spends difference %   -0.244753\n post_spends test mean     451.610533,\n 'TTest╰╰post_spends[A]53':   group  statistic   p-value   pass\n 0     B   1.406066  0.159736  False,\n 'KSTest╰╰post_spends[A]53':   group  statistic   p-value   pass\n 0     B     0.0212  0.211152  False,\n 'OneAASplitAnalyzer╰╰53':    TTest p-value  TTest pass  KSTest p-value  KSTest pass  mean test score\n 0       0.173506         0.0        0.215686          0.0         0.201626,\n 'GroupSizes╰╰pre_spends[A]54':                      B\n control size    5000.0\n control size %    50.0\n test size       5000.0\n test size %       50.0,\n 'GroupDifference╰╰pre_spends[A]54':                                   B\n pre_spends control mean  487.342600\n pre_spends difference     -0.497700\n pre_spends difference %   -0.102125\n pre_spends test mean     486.844900,\n 'TTest╰╰pre_spends[A]54':   group  statistic   p-value   pass\n 0     B   1.318771  0.187276  False,\n 'KSTest╰╰pre_spends[A]54':   group  statistic   p-value   pass\n 0     B      0.021  0.220219  False,\n 'GroupSizes╰╰post_spends[A]54':                      B\n control size    5000.0\n control size %    50.0\n test size       5000.0\n test size %       50.0,\n 'GroupDifference╰╰post_spends[A]54':                                    B\n post_spends control mean  452.718578\n post_spends difference     -1.108044\n post_spends difference %   -0.244753\n post_spends test mean     451.610533,\n 'TTest╰╰post_spends[A]54':   group  statistic   p-value   pass\n 0     B   1.406066  0.159736  False,\n 'KSTest╰╰post_spends[A]54':   group  statistic   p-value   pass\n 0     B     0.0212  0.211152  False,\n 'OneAASplitAnalyzer╰╰54':    TTest p-value  TTest pass  KSTest p-value  KSTest pass  mean test score\n 0       0.173506         0.0        0.215686          0.0         0.201626,\n 'GroupSizes╰╰pre_spends[A]55':                      B\n control size    5000.0\n control size %    50.0\n test size       5000.0\n test size %       50.0,\n 'GroupDifference╰╰pre_spends[A]55':                                   B\n pre_spends control mean  487.342600\n pre_spends difference     -0.497700\n pre_spends difference %   -0.102125\n pre_spends test mean     486.844900,\n 'TTest╰╰pre_spends[A]55':   group  statistic   p-value   pass\n 0     B   1.318771  0.187276  False,\n 'KSTest╰╰pre_spends[A]55':   group  statistic   p-value   pass\n 0     B      0.021  0.220219  False,\n 'GroupSizes╰╰post_spends[A]55':                      B\n control size    5000.0\n control size %    50.0\n test size       5000.0\n test size %       50.0,\n 'GroupDifference╰╰post_spends[A]55':                                    B\n post_spends control mean  452.718578\n post_spends difference     -1.108044\n post_spends difference %   -0.244753\n post_spends test mean     451.610533,\n 'TTest╰╰post_spends[A]55':   group  statistic   p-value   pass\n 0     B   1.406066  0.159736  False,\n 'KSTest╰╰post_spends[A]55':   group  statistic   p-value   pass\n 0     B     0.0212  0.211152  False,\n 'OneAASplitAnalyzer╰╰55':    TTest p-value  TTest pass  KSTest p-value  KSTest pass  mean test score\n 0       0.173506         0.0        0.215686          0.0         0.201626,\n 'GroupSizes╰╰pre_spends[A]56':                      B\n control size    5000.0\n control size %    50.0\n test size       5000.0\n test size %       50.0,\n 'GroupDifference╰╰pre_spends[A]56':                                   B\n pre_spends control mean  487.342600\n pre_spends difference     -0.497700\n pre_spends difference %   -0.102125\n pre_spends test mean     486.844900,\n 'TTest╰╰pre_spends[A]56':   group  statistic   p-value   pass\n 0     B   1.318771  0.187276  False,\n 'KSTest╰╰pre_spends[A]56':   group  statistic   p-value   pass\n 0     B      0.021  0.220219  False,\n 'GroupSizes╰╰post_spends[A]56':                      B\n control size    5000.0\n control size %    50.0\n test size       5000.0\n test size %       50.0,\n 'GroupDifference╰╰post_spends[A]56':                                    B\n post_spends control mean  452.718578\n post_spends difference     -1.108044\n post_spends difference %   -0.244753\n post_spends test mean     451.610533,\n 'TTest╰╰post_spends[A]56':   group  statistic   p-value   pass\n 0     B   1.406066  0.159736  False,\n 'KSTest╰╰post_spends[A]56':   group  statistic   p-value   pass\n 0     B     0.0212  0.211152  False,\n 'OneAASplitAnalyzer╰╰56':    TTest p-value  TTest pass  KSTest p-value  KSTest pass  mean test score\n 0       0.173506         0.0        0.215686          0.0         0.201626,\n 'GroupSizes╰╰pre_spends[A]57':                      B\n control size    5000.0\n control size %    50.0\n test size       5000.0\n test size %       50.0,\n 'GroupDifference╰╰pre_spends[A]57':                                   B\n pre_spends control mean  487.342600\n pre_spends difference     -0.497700\n pre_spends difference %   -0.102125\n pre_spends test mean     486.844900,\n 'TTest╰╰pre_spends[A]57':   group  statistic   p-value   pass\n 0     B   1.318771  0.187276  False,\n 'KSTest╰╰pre_spends[A]57':   group  statistic   p-value   pass\n 0     B      0.021  0.220219  False,\n 'GroupSizes╰╰post_spends[A]57':                      B\n control size    5000.0\n control size %    50.0\n test size       5000.0\n test size %       50.0,\n 'GroupDifference╰╰post_spends[A]57':                                    B\n post_spends control mean  452.718578\n post_spends difference     -1.108044\n post_spends difference %   -0.244753\n post_spends test mean     451.610533,\n 'TTest╰╰post_spends[A]57':   group  statistic   p-value   pass\n 0     B   1.406066  0.159736  False,\n 'KSTest╰╰post_spends[A]57':   group  statistic   p-value   pass\n 0     B     0.0212  0.211152  False,\n 'OneAASplitAnalyzer╰╰57':    TTest p-value  TTest pass  KSTest p-value  KSTest pass  mean test score\n 0       0.173506         0.0        0.215686          0.0         0.201626,\n 'GroupSizes╰╰pre_spends[A]58':                      B\n control size    5000.0\n control size %    50.0\n test size       5000.0\n test size %       50.0,\n 'GroupDifference╰╰pre_spends[A]58':                                   B\n pre_spends control mean  487.342600\n pre_spends difference     -0.497700\n pre_spends difference %   -0.102125\n pre_spends test mean     486.844900,\n 'TTest╰╰pre_spends[A]58':   group  statistic   p-value   pass\n 0     B   1.318771  0.187276  False,\n 'KSTest╰╰pre_spends[A]58':   group  statistic   p-value   pass\n 0     B      0.021  0.220219  False,\n 'GroupSizes╰╰post_spends[A]58':                      B\n control size    5000.0\n control size %    50.0\n test size       5000.0\n test size %       50.0,\n 'GroupDifference╰╰post_spends[A]58':                                    B\n post_spends control mean  452.718578\n post_spends difference     -1.108044\n post_spends difference %   -0.244753\n post_spends test mean     451.610533,\n 'TTest╰╰post_spends[A]58':   group  statistic   p-value   pass\n 0     B   1.406066  0.159736  False,\n 'KSTest╰╰post_spends[A]58':   group  statistic   p-value   pass\n 0     B     0.0212  0.211152  False,\n 'OneAASplitAnalyzer╰╰58':    TTest p-value  TTest pass  KSTest p-value  KSTest pass  mean test score\n 0       0.173506         0.0        0.215686          0.0         0.201626,\n 'GroupSizes╰╰pre_spends[A]59':                      B\n control size    5000.0\n control size %    50.0\n test size       5000.0\n test size %       50.0,\n 'GroupDifference╰╰pre_spends[A]59':                                   B\n pre_spends control mean  487.342600\n pre_spends difference     -0.497700\n pre_spends difference %   -0.102125\n pre_spends test mean     486.844900,\n 'TTest╰╰pre_spends[A]59':   group  statistic   p-value   pass\n 0     B   1.318771  0.187276  False,\n 'KSTest╰╰pre_spends[A]59':   group  statistic   p-value   pass\n 0     B      0.021  0.220219  False,\n 'GroupSizes╰╰post_spends[A]59':                      B\n control size    5000.0\n control size %    50.0\n test size       5000.0\n test size %       50.0,\n 'GroupDifference╰╰post_spends[A]59':                                    B\n post_spends control mean  452.718578\n post_spends difference     -1.108044\n post_spends difference %   -0.244753\n post_spends test mean     451.610533,\n 'TTest╰╰post_spends[A]59':   group  statistic   p-value   pass\n 0     B   1.406066  0.159736  False,\n 'KSTest╰╰post_spends[A]59':   group  statistic   p-value   pass\n 0     B     0.0212  0.211152  False,\n 'OneAASplitAnalyzer╰╰59':    TTest p-value  TTest pass  KSTest p-value  KSTest pass  mean test score\n 0       0.173506         0.0        0.215686          0.0         0.201626,\n 'GroupSizes╰╰pre_spends[A]60':                      B\n control size    5000.0\n control size %    50.0\n test size       5000.0\n test size %       50.0,\n 'GroupDifference╰╰pre_spends[A]60':                                   B\n pre_spends control mean  487.342600\n pre_spends difference     -0.497700\n pre_spends difference %   -0.102125\n pre_spends test mean     486.844900,\n 'TTest╰╰pre_spends[A]60':   group  statistic   p-value   pass\n 0     B   1.318771  0.187276  False,\n 'KSTest╰╰pre_spends[A]60':   group  statistic   p-value   pass\n 0     B      0.021  0.220219  False,\n 'GroupSizes╰╰post_spends[A]60':                      B\n control size    5000.0\n control size %    50.0\n test size       5000.0\n test size %       50.0,\n 'GroupDifference╰╰post_spends[A]60':                                    B\n post_spends control mean  452.718578\n post_spends difference     -1.108044\n post_spends difference %   -0.244753\n post_spends test mean     451.610533,\n 'TTest╰╰post_spends[A]60':   group  statistic   p-value   pass\n 0     B   1.406066  0.159736  False,\n 'KSTest╰╰post_spends[A]60':   group  statistic   p-value   pass\n 0     B     0.0212  0.211152  False,\n 'OneAASplitAnalyzer╰╰60':    TTest p-value  TTest pass  KSTest p-value  KSTest pass  mean test score\n 0       0.173506         0.0        0.215686          0.0         0.201626,\n 'GroupSizes╰╰pre_spends[A]61':                      B\n control size    5000.0\n control size %    50.0\n test size       5000.0\n test size %       50.0,\n 'GroupDifference╰╰pre_spends[A]61':                                   B\n pre_spends control mean  487.342600\n pre_spends difference     -0.497700\n pre_spends difference %   -0.102125\n pre_spends test mean     486.844900,\n 'TTest╰╰pre_spends[A]61':   group  statistic   p-value   pass\n 0     B   1.318771  0.187276  False,\n 'KSTest╰╰pre_spends[A]61':   group  statistic   p-value   pass\n 0     B      0.021  0.220219  False,\n 'GroupSizes╰╰post_spends[A]61':                      B\n control size    5000.0\n control size %    50.0\n test size       5000.0\n test size %       50.0,\n 'GroupDifference╰╰post_spends[A]61':                                    B\n post_spends control mean  452.718578\n post_spends difference     -1.108044\n post_spends difference %   -0.244753\n post_spends test mean     451.610533,\n 'TTest╰╰post_spends[A]61':   group  statistic   p-value   pass\n 0     B   1.406066  0.159736  False,\n 'KSTest╰╰post_spends[A]61':   group  statistic   p-value   pass\n 0     B     0.0212  0.211152  False,\n 'OneAASplitAnalyzer╰╰61':    TTest p-value  TTest pass  KSTest p-value  KSTest pass  mean test score\n 0       0.173506         0.0        0.215686          0.0         0.201626,\n 'GroupSizes╰╰pre_spends[A]62':                      B\n control size    5000.0\n control size %    50.0\n test size       5000.0\n test size %       50.0,\n 'GroupDifference╰╰pre_spends[A]62':                                   B\n pre_spends control mean  487.342600\n pre_spends difference     -0.497700\n pre_spends difference %   -0.102125\n pre_spends test mean     486.844900,\n 'TTest╰╰pre_spends[A]62':   group  statistic   p-value   pass\n 0     B   1.318771  0.187276  False,\n 'KSTest╰╰pre_spends[A]62':   group  statistic   p-value   pass\n 0     B      0.021  0.220219  False,\n 'GroupSizes╰╰post_spends[A]62':                      B\n control size    5000.0\n control size %    50.0\n test size       5000.0\n test size %       50.0,\n 'GroupDifference╰╰post_spends[A]62':                                    B\n post_spends control mean  452.718578\n post_spends difference     -1.108044\n post_spends difference %   -0.244753\n post_spends test mean     451.610533,\n 'TTest╰╰post_spends[A]62':   group  statistic   p-value   pass\n 0     B   1.406066  0.159736  False,\n 'KSTest╰╰post_spends[A]62':   group  statistic   p-value   pass\n 0     B     0.0212  0.211152  False,\n 'OneAASplitAnalyzer╰╰62':    TTest p-value  TTest pass  KSTest p-value  KSTest pass  mean test score\n 0       0.173506         0.0        0.215686          0.0         0.201626,\n 'GroupSizes╰╰pre_spends[A]63':                      B\n control size    5000.0\n control size %    50.0\n test size       5000.0\n test size %       50.0,\n 'GroupDifference╰╰pre_spends[A]63':                                   B\n pre_spends control mean  487.342600\n pre_spends difference     -0.497700\n pre_spends difference %   -0.102125\n pre_spends test mean     486.844900,\n 'TTest╰╰pre_spends[A]63':   group  statistic   p-value   pass\n 0     B   1.318771  0.187276  False,\n 'KSTest╰╰pre_spends[A]63':   group  statistic   p-value   pass\n 0     B      0.021  0.220219  False,\n 'GroupSizes╰╰post_spends[A]63':                      B\n control size    5000.0\n control size %    50.0\n test size       5000.0\n test size %       50.0,\n 'GroupDifference╰╰post_spends[A]63':                                    B\n post_spends control mean  452.718578\n post_spends difference     -1.108044\n post_spends difference %   -0.244753\n post_spends test mean     451.610533,\n 'TTest╰╰post_spends[A]63':   group  statistic   p-value   pass\n 0     B   1.406066  0.159736  False,\n 'KSTest╰╰post_spends[A]63':   group  statistic   p-value   pass\n 0     B     0.0212  0.211152  False,\n 'OneAASplitAnalyzer╰╰63':    TTest p-value  TTest pass  KSTest p-value  KSTest pass  mean test score\n 0       0.173506         0.0        0.215686          0.0         0.201626,\n 'GroupSizes╰╰pre_spends[A]64':                      B\n control size    5000.0\n control size %    50.0\n test size       5000.0\n test size %       50.0,\n 'GroupDifference╰╰pre_spends[A]64':                                   B\n pre_spends control mean  487.342600\n pre_spends difference     -0.497700\n pre_spends difference %   -0.102125\n pre_spends test mean     486.844900,\n 'TTest╰╰pre_spends[A]64':   group  statistic   p-value   pass\n 0     B   1.318771  0.187276  False,\n 'KSTest╰╰pre_spends[A]64':   group  statistic   p-value   pass\n 0     B      0.021  0.220219  False,\n 'GroupSizes╰╰post_spends[A]64':                      B\n control size    5000.0\n control size %    50.0\n test size       5000.0\n test size %       50.0,\n 'GroupDifference╰╰post_spends[A]64':                                    B\n post_spends control mean  452.718578\n post_spends difference     -1.108044\n post_spends difference %   -0.244753\n post_spends test mean     451.610533,\n 'TTest╰╰post_spends[A]64':   group  statistic   p-value   pass\n 0     B   1.406066  0.159736  False,\n 'KSTest╰╰post_spends[A]64':   group  statistic   p-value   pass\n 0     B     0.0212  0.211152  False,\n 'OneAASplitAnalyzer╰╰64':    TTest p-value  TTest pass  KSTest p-value  KSTest pass  mean test score\n 0       0.173506         0.0        0.215686          0.0         0.201626,\n 'GroupSizes╰╰pre_spends[A]65':                      B\n control size    5000.0\n control size %    50.0\n test size       5000.0\n test size %       50.0,\n 'GroupDifference╰╰pre_spends[A]65':                                   B\n pre_spends control mean  487.342600\n pre_spends difference     -0.497700\n pre_spends difference %   -0.102125\n pre_spends test mean     486.844900,\n 'TTest╰╰pre_spends[A]65':   group  statistic   p-value   pass\n 0     B   1.318771  0.187276  False,\n 'KSTest╰╰pre_spends[A]65':   group  statistic   p-value   pass\n 0     B      0.021  0.220219  False,\n 'GroupSizes╰╰post_spends[A]65':                      B\n control size    5000.0\n control size %    50.0\n test size       5000.0\n test size %       50.0,\n 'GroupDifference╰╰post_spends[A]65':                                    B\n post_spends control mean  452.718578\n post_spends difference     -1.108044\n post_spends difference %   -0.244753\n post_spends test mean     451.610533,\n 'TTest╰╰post_spends[A]65':   group  statistic   p-value   pass\n 0     B   1.406066  0.159736  False,\n 'KSTest╰╰post_spends[A]65':   group  statistic   p-value   pass\n 0     B     0.0212  0.211152  False,\n 'OneAASplitAnalyzer╰╰65':    TTest p-value  TTest pass  KSTest p-value  KSTest pass  mean test score\n 0       0.173506         0.0        0.215686          0.0         0.201626,\n 'GroupSizes╰╰pre_spends[A]66':                      B\n control size    5000.0\n control size %    50.0\n test size       5000.0\n test size %       50.0,\n 'GroupDifference╰╰pre_spends[A]66':                                   B\n pre_spends control mean  487.342600\n pre_spends difference     -0.497700\n pre_spends difference %   -0.102125\n pre_spends test mean     486.844900,\n 'TTest╰╰pre_spends[A]66':   group  statistic   p-value   pass\n 0     B   1.318771  0.187276  False,\n 'KSTest╰╰pre_spends[A]66':   group  statistic   p-value   pass\n 0     B      0.021  0.220219  False,\n 'GroupSizes╰╰post_spends[A]66':                      B\n control size    5000.0\n control size %    50.0\n test size       5000.0\n test size %       50.0,\n 'GroupDifference╰╰post_spends[A]66':                                    B\n post_spends control mean  452.718578\n post_spends difference     -1.108044\n post_spends difference %   -0.244753\n post_spends test mean     451.610533,\n 'TTest╰╰post_spends[A]66':   group  statistic   p-value   pass\n 0     B   1.406066  0.159736  False,\n 'KSTest╰╰post_spends[A]66':   group  statistic   p-value   pass\n 0     B     0.0212  0.211152  False,\n 'OneAASplitAnalyzer╰╰66':    TTest p-value  TTest pass  KSTest p-value  KSTest pass  mean test score\n 0       0.173506         0.0        0.215686          0.0         0.201626,\n 'GroupSizes╰╰pre_spends[A]67':                      B\n control size    5000.0\n control size %    50.0\n test size       5000.0\n test size %       50.0,\n 'GroupDifference╰╰pre_spends[A]67':                                   B\n pre_spends control mean  487.342600\n pre_spends difference     -0.497700\n pre_spends difference %   -0.102125\n pre_spends test mean     486.844900,\n 'TTest╰╰pre_spends[A]67':   group  statistic   p-value   pass\n 0     B   1.318771  0.187276  False,\n 'KSTest╰╰pre_spends[A]67':   group  statistic   p-value   pass\n 0     B      0.021  0.220219  False,\n 'GroupSizes╰╰post_spends[A]67':                      B\n control size    5000.0\n control size %    50.0\n test size       5000.0\n test size %       50.0,\n 'GroupDifference╰╰post_spends[A]67':                                    B\n post_spends control mean  452.718578\n post_spends difference     -1.108044\n post_spends difference %   -0.244753\n post_spends test mean     451.610533,\n 'TTest╰╰post_spends[A]67':   group  statistic   p-value   pass\n 0     B   1.406066  0.159736  False,\n 'KSTest╰╰post_spends[A]67':   group  statistic   p-value   pass\n 0     B     0.0212  0.211152  False,\n 'OneAASplitAnalyzer╰╰67':    TTest p-value  TTest pass  KSTest p-value  KSTest pass  mean test score\n 0       0.173506         0.0        0.215686          0.0         0.201626,\n 'GroupSizes╰╰pre_spends[A]68':                      B\n control size    5000.0\n control size %    50.0\n test size       5000.0\n test size %       50.0,\n 'GroupDifference╰╰pre_spends[A]68':                                   B\n pre_spends control mean  487.342600\n pre_spends difference     -0.497700\n pre_spends difference %   -0.102125\n pre_spends test mean     486.844900,\n 'TTest╰╰pre_spends[A]68':   group  statistic   p-value   pass\n 0     B   1.318771  0.187276  False,\n 'KSTest╰╰pre_spends[A]68':   group  statistic   p-value   pass\n 0     B      0.021  0.220219  False,\n 'GroupSizes╰╰post_spends[A]68':                      B\n control size    5000.0\n control size %    50.0\n test size       5000.0\n test size %       50.0,\n 'GroupDifference╰╰post_spends[A]68':                                    B\n post_spends control mean  452.718578\n post_spends difference     -1.108044\n post_spends difference %   -0.244753\n post_spends test mean     451.610533,\n 'TTest╰╰post_spends[A]68':   group  statistic   p-value   pass\n 0     B   1.406066  0.159736  False,\n 'KSTest╰╰post_spends[A]68':   group  statistic   p-value   pass\n 0     B     0.0212  0.211152  False,\n 'OneAASplitAnalyzer╰╰68':    TTest p-value  TTest pass  KSTest p-value  KSTest pass  mean test score\n 0       0.173506         0.0        0.215686          0.0         0.201626,\n 'GroupSizes╰╰pre_spends[A]69':                      B\n control size    5000.0\n control size %    50.0\n test size       5000.0\n test size %       50.0,\n 'GroupDifference╰╰pre_spends[A]69':                                   B\n pre_spends control mean  487.342600\n pre_spends difference     -0.497700\n pre_spends difference %   -0.102125\n pre_spends test mean     486.844900,\n 'TTest╰╰pre_spends[A]69':   group  statistic   p-value   pass\n 0     B   1.318771  0.187276  False,\n 'KSTest╰╰pre_spends[A]69':   group  statistic   p-value   pass\n 0     B      0.021  0.220219  False,\n 'GroupSizes╰╰post_spends[A]69':                      B\n control size    5000.0\n control size %    50.0\n test size       5000.0\n test size %       50.0,\n 'GroupDifference╰╰post_spends[A]69':                                    B\n post_spends control mean  452.718578\n post_spends difference     -1.108044\n post_spends difference %   -0.244753\n post_spends test mean     451.610533,\n 'TTest╰╰post_spends[A]69':   group  statistic   p-value   pass\n 0     B   1.406066  0.159736  False,\n 'KSTest╰╰post_spends[A]69':   group  statistic   p-value   pass\n 0     B     0.0212  0.211152  False,\n 'OneAASplitAnalyzer╰╰69':    TTest p-value  TTest pass  KSTest p-value  KSTest pass  mean test score\n 0       0.173506         0.0        0.215686          0.0         0.201626,\n 'GroupSizes╰╰pre_spends[A]70':                      B\n control size    5000.0\n control size %    50.0\n test size       5000.0\n test size %       50.0,\n 'GroupDifference╰╰pre_spends[A]70':                                   B\n pre_spends control mean  487.342600\n pre_spends difference     -0.497700\n pre_spends difference %   -0.102125\n pre_spends test mean     486.844900,\n 'TTest╰╰pre_spends[A]70':   group  statistic   p-value   pass\n 0     B   1.318771  0.187276  False,\n 'KSTest╰╰pre_spends[A]70':   group  statistic   p-value   pass\n 0     B      0.021  0.220219  False,\n 'GroupSizes╰╰post_spends[A]70':                      B\n control size    5000.0\n control size %    50.0\n test size       5000.0\n test size %       50.0,\n 'GroupDifference╰╰post_spends[A]70':                                    B\n post_spends control mean  452.718578\n post_spends difference     -1.108044\n post_spends difference %   -0.244753\n post_spends test mean     451.610533,\n 'TTest╰╰post_spends[A]70':   group  statistic   p-value   pass\n 0     B   1.406066  0.159736  False,\n 'KSTest╰╰post_spends[A]70':   group  statistic   p-value   pass\n 0     B     0.0212  0.211152  False,\n 'OneAASplitAnalyzer╰╰70':    TTest p-value  TTest pass  KSTest p-value  KSTest pass  mean test score\n 0       0.173506         0.0        0.215686          0.0         0.201626,\n 'GroupSizes╰╰pre_spends[A]71':                      B\n control size    5000.0\n control size %    50.0\n test size       5000.0\n test size %       50.0,\n 'GroupDifference╰╰pre_spends[A]71':                                   B\n pre_spends control mean  487.342600\n pre_spends difference     -0.497700\n pre_spends difference %   -0.102125\n pre_spends test mean     486.844900,\n 'TTest╰╰pre_spends[A]71':   group  statistic   p-value   pass\n 0     B   1.318771  0.187276  False,\n 'KSTest╰╰pre_spends[A]71':   group  statistic   p-value   pass\n 0     B      0.021  0.220219  False,\n 'GroupSizes╰╰post_spends[A]71':                      B\n control size    5000.0\n control size %    50.0\n test size       5000.0\n test size %       50.0,\n 'GroupDifference╰╰post_spends[A]71':                                    B\n post_spends control mean  452.718578\n post_spends difference     -1.108044\n post_spends difference %   -0.244753\n post_spends test mean     451.610533,\n 'TTest╰╰post_spends[A]71':   group  statistic   p-value   pass\n 0     B   1.406066  0.159736  False,\n 'KSTest╰╰post_spends[A]71':   group  statistic   p-value   pass\n 0     B     0.0212  0.211152  False,\n 'OneAASplitAnalyzer╰╰71':    TTest p-value  TTest pass  KSTest p-value  KSTest pass  mean test score\n 0       0.173506         0.0        0.215686          0.0         0.201626,\n 'GroupSizes╰╰pre_spends[A]72':                      B\n control size    5000.0\n control size %    50.0\n test size       5000.0\n test size %       50.0,\n 'GroupDifference╰╰pre_spends[A]72':                                   B\n pre_spends control mean  487.342600\n pre_spends difference     -0.497700\n pre_spends difference %   -0.102125\n pre_spends test mean     486.844900,\n 'TTest╰╰pre_spends[A]72':   group  statistic   p-value   pass\n 0     B   1.318771  0.187276  False,\n 'KSTest╰╰pre_spends[A]72':   group  statistic   p-value   pass\n 0     B      0.021  0.220219  False,\n 'GroupSizes╰╰post_spends[A]72':                      B\n control size    5000.0\n control size %    50.0\n test size       5000.0\n test size %       50.0,\n 'GroupDifference╰╰post_spends[A]72':                                    B\n post_spends control mean  452.718578\n post_spends difference     -1.108044\n post_spends difference %   -0.244753\n post_spends test mean     451.610533,\n 'TTest╰╰post_spends[A]72':   group  statistic   p-value   pass\n 0     B   1.406066  0.159736  False,\n 'KSTest╰╰post_spends[A]72':   group  statistic   p-value   pass\n 0     B     0.0212  0.211152  False,\n 'OneAASplitAnalyzer╰╰72':    TTest p-value  TTest pass  KSTest p-value  KSTest pass  mean test score\n 0       0.173506         0.0        0.215686          0.0         0.201626,\n 'GroupSizes╰╰pre_spends[A]73':                      B\n control size    5000.0\n control size %    50.0\n test size       5000.0\n test size %       50.0,\n 'GroupDifference╰╰pre_spends[A]73':                                   B\n pre_spends control mean  487.342600\n pre_spends difference     -0.497700\n pre_spends difference %   -0.102125\n pre_spends test mean     486.844900,\n 'TTest╰╰pre_spends[A]73':   group  statistic   p-value   pass\n 0     B   1.318771  0.187276  False,\n 'KSTest╰╰pre_spends[A]73':   group  statistic   p-value   pass\n 0     B      0.021  0.220219  False,\n 'GroupSizes╰╰post_spends[A]73':                      B\n control size    5000.0\n control size %    50.0\n test size       5000.0\n test size %       50.0,\n 'GroupDifference╰╰post_spends[A]73':                                    B\n post_spends control mean  452.718578\n post_spends difference     -1.108044\n post_spends difference %   -0.244753\n post_spends test mean     451.610533,\n 'TTest╰╰post_spends[A]73':   group  statistic   p-value   pass\n 0     B   1.406066  0.159736  False,\n 'KSTest╰╰post_spends[A]73':   group  statistic   p-value   pass\n 0     B     0.0212  0.211152  False,\n 'OneAASplitAnalyzer╰╰73':    TTest p-value  TTest pass  KSTest p-value  KSTest pass  mean test score\n 0       0.173506         0.0        0.215686          0.0         0.201626,\n 'GroupSizes╰╰pre_spends[A]74':                      B\n control size    5000.0\n control size %    50.0\n test size       5000.0\n test size %       50.0,\n 'GroupDifference╰╰pre_spends[A]74':                                   B\n pre_spends control mean  487.342600\n pre_spends difference     -0.497700\n pre_spends difference %   -0.102125\n pre_spends test mean     486.844900,\n 'TTest╰╰pre_spends[A]74':   group  statistic   p-value   pass\n 0     B   1.318771  0.187276  False,\n 'KSTest╰╰pre_spends[A]74':   group  statistic   p-value   pass\n 0     B      0.021  0.220219  False,\n 'GroupSizes╰╰post_spends[A]74':                      B\n control size    5000.0\n control size %    50.0\n test size       5000.0\n test size %       50.0,\n 'GroupDifference╰╰post_spends[A]74':                                    B\n post_spends control mean  452.718578\n post_spends difference     -1.108044\n post_spends difference %   -0.244753\n post_spends test mean     451.610533,\n 'TTest╰╰post_spends[A]74':   group  statistic   p-value   pass\n 0     B   1.406066  0.159736  False,\n 'KSTest╰╰post_spends[A]74':   group  statistic   p-value   pass\n 0     B     0.0212  0.211152  False,\n 'OneAASplitAnalyzer╰╰74':    TTest p-value  TTest pass  KSTest p-value  KSTest pass  mean test score\n 0       0.173506         0.0        0.215686          0.0         0.201626,\n 'GroupSizes╰╰pre_spends[A]75':                      B\n control size    5000.0\n control size %    50.0\n test size       5000.0\n test size %       50.0,\n 'GroupDifference╰╰pre_spends[A]75':                                   B\n pre_spends control mean  487.342600\n pre_spends difference     -0.497700\n pre_spends difference %   -0.102125\n pre_spends test mean     486.844900,\n 'TTest╰╰pre_spends[A]75':   group  statistic   p-value   pass\n 0     B   1.318771  0.187276  False,\n 'KSTest╰╰pre_spends[A]75':   group  statistic   p-value   pass\n 0     B      0.021  0.220219  False,\n 'GroupSizes╰╰post_spends[A]75':                      B\n control size    5000.0\n control size %    50.0\n test size       5000.0\n test size %       50.0,\n 'GroupDifference╰╰post_spends[A]75':                                    B\n post_spends control mean  452.718578\n post_spends difference     -1.108044\n post_spends difference %   -0.244753\n post_spends test mean     451.610533,\n 'TTest╰╰post_spends[A]75':   group  statistic   p-value   pass\n 0     B   1.406066  0.159736  False,\n 'KSTest╰╰post_spends[A]75':   group  statistic   p-value   pass\n 0     B     0.0212  0.211152  False,\n 'OneAASplitAnalyzer╰╰75':    TTest p-value  TTest pass  KSTest p-value  KSTest pass  mean test score\n 0       0.173506         0.0        0.215686          0.0         0.201626,\n 'GroupSizes╰╰pre_spends[A]76':                      B\n control size    5000.0\n control size %    50.0\n test size       5000.0\n test size %       50.0,\n 'GroupDifference╰╰pre_spends[A]76':                                   B\n pre_spends control mean  487.342600\n pre_spends difference     -0.497700\n pre_spends difference %   -0.102125\n pre_spends test mean     486.844900,\n 'TTest╰╰pre_spends[A]76':   group  statistic   p-value   pass\n 0     B   1.318771  0.187276  False,\n 'KSTest╰╰pre_spends[A]76':   group  statistic   p-value   pass\n 0     B      0.021  0.220219  False,\n 'GroupSizes╰╰post_spends[A]76':                      B\n control size    5000.0\n control size %    50.0\n test size       5000.0\n test size %       50.0,\n 'GroupDifference╰╰post_spends[A]76':                                    B\n post_spends control mean  452.718578\n post_spends difference     -1.108044\n post_spends difference %   -0.244753\n post_spends test mean     451.610533,\n 'TTest╰╰post_spends[A]76':   group  statistic   p-value   pass\n 0     B   1.406066  0.159736  False,\n 'KSTest╰╰post_spends[A]76':   group  statistic   p-value   pass\n 0     B     0.0212  0.211152  False,\n 'OneAASplitAnalyzer╰╰76':    TTest p-value  TTest pass  KSTest p-value  KSTest pass  mean test score\n 0       0.173506         0.0        0.215686          0.0         0.201626,\n 'GroupSizes╰╰pre_spends[A]77':                      B\n control size    5000.0\n control size %    50.0\n test size       5000.0\n test size %       50.0,\n 'GroupDifference╰╰pre_spends[A]77':                                   B\n pre_spends control mean  487.342600\n pre_spends difference     -0.497700\n pre_spends difference %   -0.102125\n pre_spends test mean     486.844900,\n 'TTest╰╰pre_spends[A]77':   group  statistic   p-value   pass\n 0     B   1.318771  0.187276  False,\n 'KSTest╰╰pre_spends[A]77':   group  statistic   p-value   pass\n 0     B      0.021  0.220219  False,\n 'GroupSizes╰╰post_spends[A]77':                      B\n control size    5000.0\n control size %    50.0\n test size       5000.0\n test size %       50.0,\n 'GroupDifference╰╰post_spends[A]77':                                    B\n post_spends control mean  452.718578\n post_spends difference     -1.108044\n post_spends difference %   -0.244753\n post_spends test mean     451.610533,\n 'TTest╰╰post_spends[A]77':   group  statistic   p-value   pass\n 0     B   1.406066  0.159736  False,\n 'KSTest╰╰post_spends[A]77':   group  statistic   p-value   pass\n 0     B     0.0212  0.211152  False,\n 'OneAASplitAnalyzer╰╰77':    TTest p-value  TTest pass  KSTest p-value  KSTest pass  mean test score\n 0       0.173506         0.0        0.215686          0.0         0.201626,\n 'GroupSizes╰╰pre_spends[A]78':                      B\n control size    5000.0\n control size %    50.0\n test size       5000.0\n test size %       50.0,\n 'GroupDifference╰╰pre_spends[A]78':                                   B\n pre_spends control mean  487.342600\n pre_spends difference     -0.497700\n pre_spends difference %   -0.102125\n pre_spends test mean     486.844900,\n 'TTest╰╰pre_spends[A]78':   group  statistic   p-value   pass\n 0     B   1.318771  0.187276  False,\n 'KSTest╰╰pre_spends[A]78':   group  statistic   p-value   pass\n 0     B      0.021  0.220219  False,\n 'GroupSizes╰╰post_spends[A]78':                      B\n control size    5000.0\n control size %    50.0\n test size       5000.0\n test size %       50.0,\n 'GroupDifference╰╰post_spends[A]78':                                    B\n post_spends control mean  452.718578\n post_spends difference     -1.108044\n post_spends difference %   -0.244753\n post_spends test mean     451.610533,\n 'TTest╰╰post_spends[A]78':   group  statistic   p-value   pass\n 0     B   1.406066  0.159736  False,\n 'KSTest╰╰post_spends[A]78':   group  statistic   p-value   pass\n 0     B     0.0212  0.211152  False,\n 'OneAASplitAnalyzer╰╰78':    TTest p-value  TTest pass  KSTest p-value  KSTest pass  mean test score\n 0       0.173506         0.0        0.215686          0.0         0.201626,\n 'GroupSizes╰╰pre_spends[A]79':                      B\n control size    5000.0\n control size %    50.0\n test size       5000.0\n test size %       50.0,\n 'GroupDifference╰╰pre_spends[A]79':                                   B\n pre_spends control mean  487.342600\n pre_spends difference     -0.497700\n pre_spends difference %   -0.102125\n pre_spends test mean     486.844900,\n 'TTest╰╰pre_spends[A]79':   group  statistic   p-value   pass\n 0     B   1.318771  0.187276  False,\n 'KSTest╰╰pre_spends[A]79':   group  statistic   p-value   pass\n 0     B      0.021  0.220219  False,\n 'GroupSizes╰╰post_spends[A]79':                      B\n control size    5000.0\n control size %    50.0\n test size       5000.0\n test size %       50.0,\n 'GroupDifference╰╰post_spends[A]79':                                    B\n post_spends control mean  452.718578\n post_spends difference     -1.108044\n post_spends difference %   -0.244753\n post_spends test mean     451.610533,\n 'TTest╰╰post_spends[A]79':   group  statistic   p-value   pass\n 0     B   1.406066  0.159736  False,\n 'KSTest╰╰post_spends[A]79':   group  statistic   p-value   pass\n 0     B     0.0212  0.211152  False,\n 'OneAASplitAnalyzer╰╰79':    TTest p-value  TTest pass  KSTest p-value  KSTest pass  mean test score\n 0       0.173506         0.0        0.215686          0.0         0.201626,\n 'GroupSizes╰╰pre_spends[A]80':                      B\n control size    5000.0\n control size %    50.0\n test size       5000.0\n test size %       50.0,\n 'GroupDifference╰╰pre_spends[A]80':                                   B\n pre_spends control mean  487.342600\n pre_spends difference     -0.497700\n pre_spends difference %   -0.102125\n pre_spends test mean     486.844900,\n 'TTest╰╰pre_spends[A]80':   group  statistic   p-value   pass\n 0     B   1.318771  0.187276  False,\n 'KSTest╰╰pre_spends[A]80':   group  statistic   p-value   pass\n 0     B      0.021  0.220219  False,\n 'GroupSizes╰╰post_spends[A]80':                      B\n control size    5000.0\n control size %    50.0\n test size       5000.0\n test size %       50.0,\n 'GroupDifference╰╰post_spends[A]80':                                    B\n post_spends control mean  452.718578\n post_spends difference     -1.108044\n post_spends difference %   -0.244753\n post_spends test mean     451.610533,\n 'TTest╰╰post_spends[A]80':   group  statistic   p-value   pass\n 0     B   1.406066  0.159736  False,\n 'KSTest╰╰post_spends[A]80':   group  statistic   p-value   pass\n 0     B     0.0212  0.211152  False,\n 'OneAASplitAnalyzer╰╰80':    TTest p-value  TTest pass  KSTest p-value  KSTest pass  mean test score\n 0       0.173506         0.0        0.215686          0.0         0.201626,\n 'GroupSizes╰╰pre_spends[A]81':                      B\n control size    5000.0\n control size %    50.0\n test size       5000.0\n test size %       50.0,\n 'GroupDifference╰╰pre_spends[A]81':                                   B\n pre_spends control mean  487.342600\n pre_spends difference     -0.497700\n pre_spends difference %   -0.102125\n pre_spends test mean     486.844900,\n 'TTest╰╰pre_spends[A]81':   group  statistic   p-value   pass\n 0     B   1.318771  0.187276  False,\n 'KSTest╰╰pre_spends[A]81':   group  statistic   p-value   pass\n 0     B      0.021  0.220219  False,\n 'GroupSizes╰╰post_spends[A]81':                      B\n control size    5000.0\n control size %    50.0\n test size       5000.0\n test size %       50.0,\n 'GroupDifference╰╰post_spends[A]81':                                    B\n post_spends control mean  452.718578\n post_spends difference     -1.108044\n post_spends difference %   -0.244753\n post_spends test mean     451.610533,\n 'TTest╰╰post_spends[A]81':   group  statistic   p-value   pass\n 0     B   1.406066  0.159736  False,\n 'KSTest╰╰post_spends[A]81':   group  statistic   p-value   pass\n 0     B     0.0212  0.211152  False,\n 'OneAASplitAnalyzer╰╰81':    TTest p-value  TTest pass  KSTest p-value  KSTest pass  mean test score\n 0       0.173506         0.0        0.215686          0.0         0.201626,\n 'GroupSizes╰╰pre_spends[A]82':                      B\n control size    5000.0\n control size %    50.0\n test size       5000.0\n test size %       50.0,\n 'GroupDifference╰╰pre_spends[A]82':                                   B\n pre_spends control mean  487.342600\n pre_spends difference     -0.497700\n pre_spends difference %   -0.102125\n pre_spends test mean     486.844900,\n 'TTest╰╰pre_spends[A]82':   group  statistic   p-value   pass\n 0     B   1.318771  0.187276  False,\n 'KSTest╰╰pre_spends[A]82':   group  statistic   p-value   pass\n 0     B      0.021  0.220219  False,\n 'GroupSizes╰╰post_spends[A]82':                      B\n control size    5000.0\n control size %    50.0\n test size       5000.0\n test size %       50.0,\n 'GroupDifference╰╰post_spends[A]82':                                    B\n post_spends control mean  452.718578\n post_spends difference     -1.108044\n post_spends difference %   -0.244753\n post_spends test mean     451.610533,\n 'TTest╰╰post_spends[A]82':   group  statistic   p-value   pass\n 0     B   1.406066  0.159736  False,\n 'KSTest╰╰post_spends[A]82':   group  statistic   p-value   pass\n 0     B     0.0212  0.211152  False,\n 'OneAASplitAnalyzer╰╰82':    TTest p-value  TTest pass  KSTest p-value  KSTest pass  mean test score\n 0       0.173506         0.0        0.215686          0.0         0.201626,\n 'GroupSizes╰╰pre_spends[A]83':                      B\n control size    5000.0\n control size %    50.0\n test size       5000.0\n test size %       50.0,\n 'GroupDifference╰╰pre_spends[A]83':                                   B\n pre_spends control mean  487.342600\n pre_spends difference     -0.497700\n pre_spends difference %   -0.102125\n pre_spends test mean     486.844900,\n 'TTest╰╰pre_spends[A]83':   group  statistic   p-value   pass\n 0     B   1.318771  0.187276  False,\n 'KSTest╰╰pre_spends[A]83':   group  statistic   p-value   pass\n 0     B      0.021  0.220219  False,\n 'GroupSizes╰╰post_spends[A]83':                      B\n control size    5000.0\n control size %    50.0\n test size       5000.0\n test size %       50.0,\n 'GroupDifference╰╰post_spends[A]83':                                    B\n post_spends control mean  452.718578\n post_spends difference     -1.108044\n post_spends difference %   -0.244753\n post_spends test mean     451.610533,\n 'TTest╰╰post_spends[A]83':   group  statistic   p-value   pass\n 0     B   1.406066  0.159736  False,\n 'KSTest╰╰post_spends[A]83':   group  statistic   p-value   pass\n 0     B     0.0212  0.211152  False,\n 'OneAASplitAnalyzer╰╰83':    TTest p-value  TTest pass  KSTest p-value  KSTest pass  mean test score\n 0       0.173506         0.0        0.215686          0.0         0.201626,\n 'GroupSizes╰╰pre_spends[A]84':                      B\n control size    5000.0\n control size %    50.0\n test size       5000.0\n test size %       50.0,\n 'GroupDifference╰╰pre_spends[A]84':                                   B\n pre_spends control mean  487.342600\n pre_spends difference     -0.497700\n pre_spends difference %   -0.102125\n pre_spends test mean     486.844900,\n 'TTest╰╰pre_spends[A]84':   group  statistic   p-value   pass\n 0     B   1.318771  0.187276  False,\n 'KSTest╰╰pre_spends[A]84':   group  statistic   p-value   pass\n 0     B      0.021  0.220219  False,\n 'GroupSizes╰╰post_spends[A]84':                      B\n control size    5000.0\n control size %    50.0\n test size       5000.0\n test size %       50.0,\n 'GroupDifference╰╰post_spends[A]84':                                    B\n post_spends control mean  452.718578\n post_spends difference     -1.108044\n post_spends difference %   -0.244753\n post_spends test mean     451.610533,\n 'TTest╰╰post_spends[A]84':   group  statistic   p-value   pass\n 0     B   1.406066  0.159736  False,\n 'KSTest╰╰post_spends[A]84':   group  statistic   p-value   pass\n 0     B     0.0212  0.211152  False,\n 'OneAASplitAnalyzer╰╰84':    TTest p-value  TTest pass  KSTest p-value  KSTest pass  mean test score\n 0       0.173506         0.0        0.215686          0.0         0.201626,\n 'GroupSizes╰╰pre_spends[A]85':                      B\n control size    5000.0\n control size %    50.0\n test size       5000.0\n test size %       50.0,\n 'GroupDifference╰╰pre_spends[A]85':                                   B\n pre_spends control mean  487.342600\n pre_spends difference     -0.497700\n pre_spends difference %   -0.102125\n pre_spends test mean     486.844900,\n 'TTest╰╰pre_spends[A]85':   group  statistic   p-value   pass\n 0     B   1.318771  0.187276  False,\n 'KSTest╰╰pre_spends[A]85':   group  statistic   p-value   pass\n 0     B      0.021  0.220219  False,\n 'GroupSizes╰╰post_spends[A]85':                      B\n control size    5000.0\n control size %    50.0\n test size       5000.0\n test size %       50.0,\n 'GroupDifference╰╰post_spends[A]85':                                    B\n post_spends control mean  452.718578\n post_spends difference     -1.108044\n post_spends difference %   -0.244753\n post_spends test mean     451.610533,\n 'TTest╰╰post_spends[A]85':   group  statistic   p-value   pass\n 0     B   1.406066  0.159736  False,\n 'KSTest╰╰post_spends[A]85':   group  statistic   p-value   pass\n 0     B     0.0212  0.211152  False,\n 'OneAASplitAnalyzer╰╰85':    TTest p-value  TTest pass  KSTest p-value  KSTest pass  mean test score\n 0       0.173506         0.0        0.215686          0.0         0.201626,\n 'GroupSizes╰╰pre_spends[A]86':                      B\n control size    5000.0\n control size %    50.0\n test size       5000.0\n test size %       50.0,\n 'GroupDifference╰╰pre_spends[A]86':                                   B\n pre_spends control mean  487.342600\n pre_spends difference     -0.497700\n pre_spends difference %   -0.102125\n pre_spends test mean     486.844900,\n 'TTest╰╰pre_spends[A]86':   group  statistic   p-value   pass\n 0     B   1.318771  0.187276  False,\n 'KSTest╰╰pre_spends[A]86':   group  statistic   p-value   pass\n 0     B      0.021  0.220219  False,\n 'GroupSizes╰╰post_spends[A]86':                      B\n control size    5000.0\n control size %    50.0\n test size       5000.0\n test size %       50.0,\n 'GroupDifference╰╰post_spends[A]86':                                    B\n post_spends control mean  452.718578\n post_spends difference     -1.108044\n post_spends difference %   -0.244753\n post_spends test mean     451.610533,\n 'TTest╰╰post_spends[A]86':   group  statistic   p-value   pass\n 0     B   1.406066  0.159736  False,\n 'KSTest╰╰post_spends[A]86':   group  statistic   p-value   pass\n 0     B     0.0212  0.211152  False,\n 'OneAASplitAnalyzer╰╰86':    TTest p-value  TTest pass  KSTest p-value  KSTest pass  mean test score\n 0       0.173506         0.0        0.215686          0.0         0.201626,\n 'GroupSizes╰╰pre_spends[A]87':                      B\n control size    5000.0\n control size %    50.0\n test size       5000.0\n test size %       50.0,\n 'GroupDifference╰╰pre_spends[A]87':                                   B\n pre_spends control mean  487.342600\n pre_spends difference     -0.497700\n pre_spends difference %   -0.102125\n pre_spends test mean     486.844900,\n 'TTest╰╰pre_spends[A]87':   group  statistic   p-value   pass\n 0     B   1.318771  0.187276  False,\n 'KSTest╰╰pre_spends[A]87':   group  statistic   p-value   pass\n 0     B      0.021  0.220219  False,\n 'GroupSizes╰╰post_spends[A]87':                      B\n control size    5000.0\n control size %    50.0\n test size       5000.0\n test size %       50.0,\n 'GroupDifference╰╰post_spends[A]87':                                    B\n post_spends control mean  452.718578\n post_spends difference     -1.108044\n post_spends difference %   -0.244753\n post_spends test mean     451.610533,\n 'TTest╰╰post_spends[A]87':   group  statistic   p-value   pass\n 0     B   1.406066  0.159736  False,\n 'KSTest╰╰post_spends[A]87':   group  statistic   p-value   pass\n 0     B     0.0212  0.211152  False,\n 'OneAASplitAnalyzer╰╰87':    TTest p-value  TTest pass  KSTest p-value  KSTest pass  mean test score\n 0       0.173506         0.0        0.215686          0.0         0.201626,\n 'GroupSizes╰╰pre_spends[A]88':                      B\n control size    5000.0\n control size %    50.0\n test size       5000.0\n test size %       50.0,\n 'GroupDifference╰╰pre_spends[A]88':                                   B\n pre_spends control mean  487.342600\n pre_spends difference     -0.497700\n pre_spends difference %   -0.102125\n pre_spends test mean     486.844900,\n 'TTest╰╰pre_spends[A]88':   group  statistic   p-value   pass\n 0     B   1.318771  0.187276  False,\n 'KSTest╰╰pre_spends[A]88':   group  statistic   p-value   pass\n 0     B      0.021  0.220219  False,\n 'GroupSizes╰╰post_spends[A]88':                      B\n control size    5000.0\n control size %    50.0\n test size       5000.0\n test size %       50.0,\n 'GroupDifference╰╰post_spends[A]88':                                    B\n post_spends control mean  452.718578\n post_spends difference     -1.108044\n post_spends difference %   -0.244753\n post_spends test mean     451.610533,\n 'TTest╰╰post_spends[A]88':   group  statistic   p-value   pass\n 0     B   1.406066  0.159736  False,\n 'KSTest╰╰post_spends[A]88':   group  statistic   p-value   pass\n 0     B     0.0212  0.211152  False,\n 'OneAASplitAnalyzer╰╰88':    TTest p-value  TTest pass  KSTest p-value  KSTest pass  mean test score\n 0       0.173506         0.0        0.215686          0.0         0.201626,\n 'GroupSizes╰╰pre_spends[A]89':                      B\n control size    5000.0\n control size %    50.0\n test size       5000.0\n test size %       50.0,\n 'GroupDifference╰╰pre_spends[A]89':                                   B\n pre_spends control mean  487.342600\n pre_spends difference     -0.497700\n pre_spends difference %   -0.102125\n pre_spends test mean     486.844900,\n 'TTest╰╰pre_spends[A]89':   group  statistic   p-value   pass\n 0     B   1.318771  0.187276  False,\n 'KSTest╰╰pre_spends[A]89':   group  statistic   p-value   pass\n 0     B      0.021  0.220219  False,\n 'GroupSizes╰╰post_spends[A]89':                      B\n control size    5000.0\n control size %    50.0\n test size       5000.0\n test size %       50.0,\n 'GroupDifference╰╰post_spends[A]89':                                    B\n post_spends control mean  452.718578\n post_spends difference     -1.108044\n post_spends difference %   -0.244753\n post_spends test mean     451.610533,\n 'TTest╰╰post_spends[A]89':   group  statistic   p-value   pass\n 0     B   1.406066  0.159736  False,\n 'KSTest╰╰post_spends[A]89':   group  statistic   p-value   pass\n 0     B     0.0212  0.211152  False,\n 'OneAASplitAnalyzer╰╰89':    TTest p-value  TTest pass  KSTest p-value  KSTest pass  mean test score\n 0       0.173506         0.0        0.215686          0.0         0.201626,\n 'GroupSizes╰╰pre_spends[A]90':                      B\n control size    5000.0\n control size %    50.0\n test size       5000.0\n test size %       50.0,\n 'GroupDifference╰╰pre_spends[A]90':                                   B\n pre_spends control mean  487.342600\n pre_spends difference     -0.497700\n pre_spends difference %   -0.102125\n pre_spends test mean     486.844900,\n 'TTest╰╰pre_spends[A]90':   group  statistic   p-value   pass\n 0     B   1.318771  0.187276  False,\n 'KSTest╰╰pre_spends[A]90':   group  statistic   p-value   pass\n 0     B      0.021  0.220219  False,\n 'GroupSizes╰╰post_spends[A]90':                      B\n control size    5000.0\n control size %    50.0\n test size       5000.0\n test size %       50.0,\n 'GroupDifference╰╰post_spends[A]90':                                    B\n post_spends control mean  452.718578\n post_spends difference     -1.108044\n post_spends difference %   -0.244753\n post_spends test mean     451.610533,\n 'TTest╰╰post_spends[A]90':   group  statistic   p-value   pass\n 0     B   1.406066  0.159736  False,\n 'KSTest╰╰post_spends[A]90':   group  statistic   p-value   pass\n 0     B     0.0212  0.211152  False,\n 'OneAASplitAnalyzer╰╰90':    TTest p-value  TTest pass  KSTest p-value  KSTest pass  mean test score\n 0       0.173506         0.0        0.215686          0.0         0.201626,\n 'GroupSizes╰╰pre_spends[A]91':                      B\n control size    5000.0\n control size %    50.0\n test size       5000.0\n test size %       50.0,\n 'GroupDifference╰╰pre_spends[A]91':                                   B\n pre_spends control mean  487.342600\n pre_spends difference     -0.497700\n pre_spends difference %   -0.102125\n pre_spends test mean     486.844900,\n 'TTest╰╰pre_spends[A]91':   group  statistic   p-value   pass\n 0     B   1.318771  0.187276  False,\n 'KSTest╰╰pre_spends[A]91':   group  statistic   p-value   pass\n 0     B      0.021  0.220219  False,\n 'GroupSizes╰╰post_spends[A]91':                      B\n control size    5000.0\n control size %    50.0\n test size       5000.0\n test size %       50.0,\n 'GroupDifference╰╰post_spends[A]91':                                    B\n post_spends control mean  452.718578\n post_spends difference     -1.108044\n post_spends difference %   -0.244753\n post_spends test mean     451.610533,\n 'TTest╰╰post_spends[A]91':   group  statistic   p-value   pass\n 0     B   1.406066  0.159736  False,\n 'KSTest╰╰post_spends[A]91':   group  statistic   p-value   pass\n 0     B     0.0212  0.211152  False,\n 'OneAASplitAnalyzer╰╰91':    TTest p-value  TTest pass  KSTest p-value  KSTest pass  mean test score\n 0       0.173506         0.0        0.215686          0.0         0.201626,\n 'GroupSizes╰╰pre_spends[A]92':                      B\n control size    5000.0\n control size %    50.0\n test size       5000.0\n test size %       50.0,\n 'GroupDifference╰╰pre_spends[A]92':                                   B\n pre_spends control mean  487.342600\n pre_spends difference     -0.497700\n pre_spends difference %   -0.102125\n pre_spends test mean     486.844900,\n 'TTest╰╰pre_spends[A]92':   group  statistic   p-value   pass\n 0     B   1.318771  0.187276  False,\n 'KSTest╰╰pre_spends[A]92':   group  statistic   p-value   pass\n 0     B      0.021  0.220219  False,\n 'GroupSizes╰╰post_spends[A]92':                      B\n control size    5000.0\n control size %    50.0\n test size       5000.0\n test size %       50.0,\n 'GroupDifference╰╰post_spends[A]92':                                    B\n post_spends control mean  452.718578\n post_spends difference     -1.108044\n post_spends difference %   -0.244753\n post_spends test mean     451.610533,\n 'TTest╰╰post_spends[A]92':   group  statistic   p-value   pass\n 0     B   1.406066  0.159736  False,\n 'KSTest╰╰post_spends[A]92':   group  statistic   p-value   pass\n 0     B     0.0212  0.211152  False,\n 'OneAASplitAnalyzer╰╰92':    TTest p-value  TTest pass  KSTest p-value  KSTest pass  mean test score\n 0       0.173506         0.0        0.215686          0.0         0.201626,\n 'GroupSizes╰╰pre_spends[A]93':                      B\n control size    5000.0\n control size %    50.0\n test size       5000.0\n test size %       50.0,\n 'GroupDifference╰╰pre_spends[A]93':                                   B\n pre_spends control mean  487.342600\n pre_spends difference     -0.497700\n pre_spends difference %   -0.102125\n pre_spends test mean     486.844900,\n 'TTest╰╰pre_spends[A]93':   group  statistic   p-value   pass\n 0     B   1.318771  0.187276  False,\n 'KSTest╰╰pre_spends[A]93':   group  statistic   p-value   pass\n 0     B      0.021  0.220219  False,\n 'GroupSizes╰╰post_spends[A]93':                      B\n control size    5000.0\n control size %    50.0\n test size       5000.0\n test size %       50.0,\n 'GroupDifference╰╰post_spends[A]93':                                    B\n post_spends control mean  452.718578\n post_spends difference     -1.108044\n post_spends difference %   -0.244753\n post_spends test mean     451.610533,\n 'TTest╰╰post_spends[A]93':   group  statistic   p-value   pass\n 0     B   1.406066  0.159736  False,\n 'KSTest╰╰post_spends[A]93':   group  statistic   p-value   pass\n 0     B     0.0212  0.211152  False,\n 'OneAASplitAnalyzer╰╰93':    TTest p-value  TTest pass  KSTest p-value  KSTest pass  mean test score\n 0       0.173506         0.0        0.215686          0.0         0.201626,\n 'GroupSizes╰╰pre_spends[A]94':                      B\n control size    5000.0\n control size %    50.0\n test size       5000.0\n test size %       50.0,\n 'GroupDifference╰╰pre_spends[A]94':                                   B\n pre_spends control mean  487.342600\n pre_spends difference     -0.497700\n pre_spends difference %   -0.102125\n pre_spends test mean     486.844900,\n 'TTest╰╰pre_spends[A]94':   group  statistic   p-value   pass\n 0     B   1.318771  0.187276  False,\n 'KSTest╰╰pre_spends[A]94':   group  statistic   p-value   pass\n 0     B      0.021  0.220219  False,\n 'GroupSizes╰╰post_spends[A]94':                      B\n control size    5000.0\n control size %    50.0\n test size       5000.0\n test size %       50.0,\n 'GroupDifference╰╰post_spends[A]94':                                    B\n post_spends control mean  452.718578\n post_spends difference     -1.108044\n post_spends difference %   -0.244753\n post_spends test mean     451.610533,\n 'TTest╰╰post_spends[A]94':   group  statistic   p-value   pass\n 0     B   1.406066  0.159736  False,\n 'KSTest╰╰post_spends[A]94':   group  statistic   p-value   pass\n 0     B     0.0212  0.211152  False,\n 'OneAASplitAnalyzer╰╰94':    TTest p-value  TTest pass  KSTest p-value  KSTest pass  mean test score\n 0       0.173506         0.0        0.215686          0.0         0.201626,\n 'GroupSizes╰╰pre_spends[A]95':                      B\n control size    5000.0\n control size %    50.0\n test size       5000.0\n test size %       50.0,\n 'GroupDifference╰╰pre_spends[A]95':                                   B\n pre_spends control mean  487.342600\n pre_spends difference     -0.497700\n pre_spends difference %   -0.102125\n pre_spends test mean     486.844900,\n 'TTest╰╰pre_spends[A]95':   group  statistic   p-value   pass\n 0     B   1.318771  0.187276  False,\n 'KSTest╰╰pre_spends[A]95':   group  statistic   p-value   pass\n 0     B      0.021  0.220219  False,\n 'GroupSizes╰╰post_spends[A]95':                      B\n control size    5000.0\n control size %    50.0\n test size       5000.0\n test size %       50.0,\n 'GroupDifference╰╰post_spends[A]95':                                    B\n post_spends control mean  452.718578\n post_spends difference     -1.108044\n post_spends difference %   -0.244753\n post_spends test mean     451.610533,\n 'TTest╰╰post_spends[A]95':   group  statistic   p-value   pass\n 0     B   1.406066  0.159736  False,\n 'KSTest╰╰post_spends[A]95':   group  statistic   p-value   pass\n 0     B     0.0212  0.211152  False,\n 'OneAASplitAnalyzer╰╰95':    TTest p-value  TTest pass  KSTest p-value  KSTest pass  mean test score\n 0       0.173506         0.0        0.215686          0.0         0.201626,\n 'GroupSizes╰╰pre_spends[A]96':                      B\n control size    5000.0\n control size %    50.0\n test size       5000.0\n test size %       50.0,\n 'GroupDifference╰╰pre_spends[A]96':                                   B\n pre_spends control mean  487.342600\n pre_spends difference     -0.497700\n pre_spends difference %   -0.102125\n pre_spends test mean     486.844900,\n 'TTest╰╰pre_spends[A]96':   group  statistic   p-value   pass\n 0     B   1.318771  0.187276  False,\n 'KSTest╰╰pre_spends[A]96':   group  statistic   p-value   pass\n 0     B      0.021  0.220219  False,\n 'GroupSizes╰╰post_spends[A]96':                      B\n control size    5000.0\n control size %    50.0\n test size       5000.0\n test size %       50.0,\n 'GroupDifference╰╰post_spends[A]96':                                    B\n post_spends control mean  452.718578\n post_spends difference     -1.108044\n post_spends difference %   -0.244753\n post_spends test mean     451.610533,\n 'TTest╰╰post_spends[A]96':   group  statistic   p-value   pass\n 0     B   1.406066  0.159736  False,\n 'KSTest╰╰post_spends[A]96':   group  statistic   p-value   pass\n 0     B     0.0212  0.211152  False,\n 'OneAASplitAnalyzer╰╰96':    TTest p-value  TTest pass  KSTest p-value  KSTest pass  mean test score\n 0       0.173506         0.0        0.215686          0.0         0.201626,\n 'GroupSizes╰╰pre_spends[A]97':                      B\n control size    5000.0\n control size %    50.0\n test size       5000.0\n test size %       50.0,\n 'GroupDifference╰╰pre_spends[A]97':                                   B\n pre_spends control mean  487.342600\n pre_spends difference     -0.497700\n pre_spends difference %   -0.102125\n pre_spends test mean     486.844900,\n 'TTest╰╰pre_spends[A]97':   group  statistic   p-value   pass\n 0     B   1.318771  0.187276  False,\n 'KSTest╰╰pre_spends[A]97':   group  statistic   p-value   pass\n 0     B      0.021  0.220219  False,\n 'GroupSizes╰╰post_spends[A]97':                      B\n control size    5000.0\n control size %    50.0\n test size       5000.0\n test size %       50.0,\n 'GroupDifference╰╰post_spends[A]97':                                    B\n post_spends control mean  452.718578\n post_spends difference     -1.108044\n post_spends difference %   -0.244753\n post_spends test mean     451.610533,\n 'TTest╰╰post_spends[A]97':   group  statistic   p-value   pass\n 0     B   1.406066  0.159736  False,\n 'KSTest╰╰post_spends[A]97':   group  statistic   p-value   pass\n 0     B     0.0212  0.211152  False,\n 'OneAASplitAnalyzer╰╰97':    TTest p-value  TTest pass  KSTest p-value  KSTest pass  mean test score\n 0       0.173506         0.0        0.215686          0.0         0.201626,\n 'GroupSizes╰╰pre_spends[A]98':                      B\n control size    5000.0\n control size %    50.0\n test size       5000.0\n test size %       50.0,\n 'GroupDifference╰╰pre_spends[A]98':                                   B\n pre_spends control mean  487.342600\n pre_spends difference     -0.497700\n pre_spends difference %   -0.102125\n pre_spends test mean     486.844900,\n 'TTest╰╰pre_spends[A]98':   group  statistic   p-value   pass\n 0     B   1.318771  0.187276  False,\n 'KSTest╰╰pre_spends[A]98':   group  statistic   p-value   pass\n 0     B      0.021  0.220219  False,\n 'GroupSizes╰╰post_spends[A]98':                      B\n control size    5000.0\n control size %    50.0\n test size       5000.0\n test size %       50.0,\n 'GroupDifference╰╰post_spends[A]98':                                    B\n post_spends control mean  452.718578\n post_spends difference     -1.108044\n post_spends difference %   -0.244753\n post_spends test mean     451.610533,\n 'TTest╰╰post_spends[A]98':   group  statistic   p-value   pass\n 0     B   1.406066  0.159736  False,\n 'KSTest╰╰post_spends[A]98':   group  statistic   p-value   pass\n 0     B     0.0212  0.211152  False,\n 'OneAASplitAnalyzer╰╰98':    TTest p-value  TTest pass  KSTest p-value  KSTest pass  mean test score\n 0       0.173506         0.0        0.215686          0.0         0.201626,\n 'GroupSizes╰╰pre_spends[A]99':                      B\n control size    5000.0\n control size %    50.0\n test size       5000.0\n test size %       50.0,\n 'GroupDifference╰╰pre_spends[A]99':                                   B\n pre_spends control mean  487.342600\n pre_spends difference     -0.497700\n pre_spends difference %   -0.102125\n pre_spends test mean     486.844900,\n 'TTest╰╰pre_spends[A]99':   group  statistic   p-value   pass\n 0     B   1.318771  0.187276  False,\n 'KSTest╰╰pre_spends[A]99':   group  statistic   p-value   pass\n 0     B      0.021  0.220219  False,\n 'GroupSizes╰╰post_spends[A]99':                      B\n control size    5000.0\n control size %    50.0\n test size       5000.0\n test size %       50.0,\n 'GroupDifference╰╰post_spends[A]99':                                    B\n post_spends control mean  452.718578\n post_spends difference     -1.108044\n post_spends difference %   -0.244753\n post_spends test mean     451.610533,\n 'TTest╰╰post_spends[A]99':   group  statistic   p-value   pass\n 0     B   1.406066  0.159736  False,\n 'KSTest╰╰post_spends[A]99':   group  statistic   p-value   pass\n 0     B     0.0212  0.211152  False,\n 'OneAASplitAnalyzer╰╰99':    TTest p-value  TTest pass  KSTest p-value  KSTest pass  mean test score\n 0       0.173506         0.0        0.215686          0.0         0.201626,\n 'GroupSizes╰╰pre_spends[A]100':                      B\n control size    5000.0\n control size %    50.0\n test size       5000.0\n test size %       50.0,\n 'GroupDifference╰╰pre_spends[A]100':                                   B\n pre_spends control mean  487.342600\n pre_spends difference     -0.497700\n pre_spends difference %   -0.102125\n pre_spends test mean     486.844900,\n 'TTest╰╰pre_spends[A]100':   group  statistic   p-value   pass\n 0     B   1.318771  0.187276  False,\n 'KSTest╰╰pre_spends[A]100':   group  statistic   p-value   pass\n 0     B      0.021  0.220219  False,\n 'GroupSizes╰╰post_spends[A]100':                      B\n control size    5000.0\n control size %    50.0\n test size       5000.0\n test size %       50.0,\n 'GroupDifference╰╰post_spends[A]100':                                    B\n post_spends control mean  452.718578\n post_spends difference     -1.108044\n post_spends difference %   -0.244753\n post_spends test mean     451.610533,\n 'TTest╰╰post_spends[A]100':   group  statistic   p-value   pass\n 0     B   1.406066  0.159736  False,\n 'KSTest╰╰post_spends[A]100':   group  statistic   p-value   pass\n 0     B     0.0212  0.211152  False,\n 'OneAASplitAnalyzer╰╰100':    TTest p-value  TTest pass  KSTest p-value  KSTest pass  mean test score\n 0       0.173506         0.0        0.215686          0.0         0.201626,\n 'GroupSizes╰╰pre_spends[A]101':                      B\n control size    5000.0\n control size %    50.0\n test size       5000.0\n test size %       50.0,\n 'GroupDifference╰╰pre_spends[A]101':                                   B\n pre_spends control mean  487.342600\n pre_spends difference     -0.497700\n pre_spends difference %   -0.102125\n pre_spends test mean     486.844900,\n 'TTest╰╰pre_spends[A]101':   group  statistic   p-value   pass\n 0     B   1.318771  0.187276  False,\n 'KSTest╰╰pre_spends[A]101':   group  statistic   p-value   pass\n 0     B      0.021  0.220219  False,\n 'GroupSizes╰╰post_spends[A]101':                      B\n control size    5000.0\n control size %    50.0\n test size       5000.0\n test size %       50.0,\n 'GroupDifference╰╰post_spends[A]101':                                    B\n post_spends control mean  452.718578\n post_spends difference     -1.108044\n post_spends difference %   -0.244753\n post_spends test mean     451.610533,\n 'TTest╰╰post_spends[A]101':   group  statistic   p-value   pass\n 0     B   1.406066  0.159736  False,\n 'KSTest╰╰post_spends[A]101':   group  statistic   p-value   pass\n 0     B     0.0212  0.211152  False,\n 'OneAASplitAnalyzer╰╰101':    TTest p-value  TTest pass  KSTest p-value  KSTest pass  mean test score\n 0       0.173506         0.0        0.215686          0.0         0.201626,\n 'GroupSizes╰╰pre_spends[A]102':                      B\n control size    5000.0\n control size %    50.0\n test size       5000.0\n test size %       50.0,\n 'GroupDifference╰╰pre_spends[A]102':                                   B\n pre_spends control mean  487.342600\n pre_spends difference     -0.497700\n pre_spends difference %   -0.102125\n pre_spends test mean     486.844900,\n 'TTest╰╰pre_spends[A]102':   group  statistic   p-value   pass\n 0     B   1.318771  0.187276  False,\n 'KSTest╰╰pre_spends[A]102':   group  statistic   p-value   pass\n 0     B      0.021  0.220219  False,\n 'GroupSizes╰╰post_spends[A]102':                      B\n control size    5000.0\n control size %    50.0\n test size       5000.0\n test size %       50.0,\n 'GroupDifference╰╰post_spends[A]102':                                    B\n post_spends control mean  452.718578\n post_spends difference     -1.108044\n post_spends difference %   -0.244753\n post_spends test mean     451.610533,\n 'TTest╰╰post_spends[A]102':   group  statistic   p-value   pass\n 0     B   1.406066  0.159736  False,\n 'KSTest╰╰post_spends[A]102':   group  statistic   p-value   pass\n 0     B     0.0212  0.211152  False,\n 'OneAASplitAnalyzer╰╰102':    TTest p-value  TTest pass  KSTest p-value  KSTest pass  mean test score\n 0       0.173506         0.0        0.215686          0.0         0.201626,\n 'GroupSizes╰╰pre_spends[A]103':                      B\n control size    5000.0\n control size %    50.0\n test size       5000.0\n test size %       50.0,\n 'GroupDifference╰╰pre_spends[A]103':                                   B\n pre_spends control mean  487.342600\n pre_spends difference     -0.497700\n pre_spends difference %   -0.102125\n pre_spends test mean     486.844900,\n 'TTest╰╰pre_spends[A]103':   group  statistic   p-value   pass\n 0     B   1.318771  0.187276  False,\n 'KSTest╰╰pre_spends[A]103':   group  statistic   p-value   pass\n 0     B      0.021  0.220219  False,\n 'GroupSizes╰╰post_spends[A]103':                      B\n control size    5000.0\n control size %    50.0\n test size       5000.0\n test size %       50.0,\n 'GroupDifference╰╰post_spends[A]103':                                    B\n post_spends control mean  452.718578\n post_spends difference     -1.108044\n post_spends difference %   -0.244753\n post_spends test mean     451.610533,\n 'TTest╰╰post_spends[A]103':   group  statistic   p-value   pass\n 0     B   1.406066  0.159736  False,\n 'KSTest╰╰post_spends[A]103':   group  statistic   p-value   pass\n 0     B     0.0212  0.211152  False,\n 'OneAASplitAnalyzer╰╰103':    TTest p-value  TTest pass  KSTest p-value  KSTest pass  mean test score\n 0       0.173506         0.0        0.215686          0.0         0.201626,\n 'GroupSizes╰╰pre_spends[A]104':                      B\n control size    5000.0\n control size %    50.0\n test size       5000.0\n test size %       50.0,\n 'GroupDifference╰╰pre_spends[A]104':                                   B\n pre_spends control mean  487.342600\n pre_spends difference     -0.497700\n pre_spends difference %   -0.102125\n pre_spends test mean     486.844900,\n 'TTest╰╰pre_spends[A]104':   group  statistic   p-value   pass\n 0     B   1.318771  0.187276  False,\n 'KSTest╰╰pre_spends[A]104':   group  statistic   p-value   pass\n 0     B      0.021  0.220219  False,\n 'GroupSizes╰╰post_spends[A]104':                      B\n control size    5000.0\n control size %    50.0\n test size       5000.0\n test size %       50.0,\n 'GroupDifference╰╰post_spends[A]104':                                    B\n post_spends control mean  452.718578\n post_spends difference     -1.108044\n post_spends difference %   -0.244753\n post_spends test mean     451.610533,\n 'TTest╰╰post_spends[A]104':   group  statistic   p-value   pass\n 0     B   1.406066  0.159736  False,\n 'KSTest╰╰post_spends[A]104':   group  statistic   p-value   pass\n 0     B     0.0212  0.211152  False,\n 'OneAASplitAnalyzer╰╰104':    TTest p-value  TTest pass  KSTest p-value  KSTest pass  mean test score\n 0       0.173506         0.0        0.215686          0.0         0.201626,\n 'GroupSizes╰╰pre_spends[A]105':                      B\n control size    5000.0\n control size %    50.0\n test size       5000.0\n test size %       50.0,\n 'GroupDifference╰╰pre_spends[A]105':                                   B\n pre_spends control mean  487.342600\n pre_spends difference     -0.497700\n pre_spends difference %   -0.102125\n pre_spends test mean     486.844900,\n 'TTest╰╰pre_spends[A]105':   group  statistic   p-value   pass\n 0     B   1.318771  0.187276  False,\n 'KSTest╰╰pre_spends[A]105':   group  statistic   p-value   pass\n 0     B      0.021  0.220219  False,\n 'GroupSizes╰╰post_spends[A]105':                      B\n control size    5000.0\n control size %    50.0\n test size       5000.0\n test size %       50.0,\n 'GroupDifference╰╰post_spends[A]105':                                    B\n post_spends control mean  452.718578\n post_spends difference     -1.108044\n post_spends difference %   -0.244753\n post_spends test mean     451.610533,\n 'TTest╰╰post_spends[A]105':   group  statistic   p-value   pass\n 0     B   1.406066  0.159736  False,\n 'KSTest╰╰post_spends[A]105':   group  statistic   p-value   pass\n 0     B     0.0212  0.211152  False,\n 'OneAASplitAnalyzer╰╰105':    TTest p-value  TTest pass  KSTest p-value  KSTest pass  mean test score\n 0       0.173506         0.0        0.215686          0.0         0.201626,\n 'GroupSizes╰╰pre_spends[A]106':                      B\n control size    5000.0\n control size %    50.0\n test size       5000.0\n test size %       50.0,\n 'GroupDifference╰╰pre_spends[A]106':                                   B\n pre_spends control mean  487.342600\n pre_spends difference     -0.497700\n pre_spends difference %   -0.102125\n pre_spends test mean     486.844900,\n 'TTest╰╰pre_spends[A]106':   group  statistic   p-value   pass\n 0     B   1.318771  0.187276  False,\n 'KSTest╰╰pre_spends[A]106':   group  statistic   p-value   pass\n 0     B      0.021  0.220219  False,\n 'GroupSizes╰╰post_spends[A]106':                      B\n control size    5000.0\n control size %    50.0\n test size       5000.0\n test size %       50.0,\n 'GroupDifference╰╰post_spends[A]106':                                    B\n post_spends control mean  452.718578\n post_spends difference     -1.108044\n post_spends difference %   -0.244753\n post_spends test mean     451.610533,\n 'TTest╰╰post_spends[A]106':   group  statistic   p-value   pass\n 0     B   1.406066  0.159736  False,\n 'KSTest╰╰post_spends[A]106':   group  statistic   p-value   pass\n 0     B     0.0212  0.211152  False,\n 'OneAASplitAnalyzer╰╰106':    TTest p-value  TTest pass  KSTest p-value  KSTest pass  mean test score\n 0       0.173506         0.0        0.215686          0.0         0.201626,\n 'GroupSizes╰╰pre_spends[A]107':                      B\n control size    5000.0\n control size %    50.0\n test size       5000.0\n test size %       50.0,\n 'GroupDifference╰╰pre_spends[A]107':                                   B\n pre_spends control mean  487.342600\n pre_spends difference     -0.497700\n pre_spends difference %   -0.102125\n pre_spends test mean     486.844900,\n 'TTest╰╰pre_spends[A]107':   group  statistic   p-value   pass\n 0     B   1.318771  0.187276  False,\n 'KSTest╰╰pre_spends[A]107':   group  statistic   p-value   pass\n 0     B      0.021  0.220219  False,\n 'GroupSizes╰╰post_spends[A]107':                      B\n control size    5000.0\n control size %    50.0\n test size       5000.0\n test size %       50.0,\n 'GroupDifference╰╰post_spends[A]107':                                    B\n post_spends control mean  452.718578\n post_spends difference     -1.108044\n post_spends difference %   -0.244753\n post_spends test mean     451.610533,\n 'TTest╰╰post_spends[A]107':   group  statistic   p-value   pass\n 0     B   1.406066  0.159736  False,\n 'KSTest╰╰post_spends[A]107':   group  statistic   p-value   pass\n 0     B     0.0212  0.211152  False,\n 'OneAASplitAnalyzer╰╰107':    TTest p-value  TTest pass  KSTest p-value  KSTest pass  mean test score\n 0       0.173506         0.0        0.215686          0.0         0.201626,\n 'GroupSizes╰╰pre_spends[A]108':                      B\n control size    5000.0\n control size %    50.0\n test size       5000.0\n test size %       50.0,\n 'GroupDifference╰╰pre_spends[A]108':                                   B\n pre_spends control mean  487.342600\n pre_spends difference     -0.497700\n pre_spends difference %   -0.102125\n pre_spends test mean     486.844900,\n 'TTest╰╰pre_spends[A]108':   group  statistic   p-value   pass\n 0     B   1.318771  0.187276  False,\n 'KSTest╰╰pre_spends[A]108':   group  statistic   p-value   pass\n 0     B      0.021  0.220219  False,\n 'GroupSizes╰╰post_spends[A]108':                      B\n control size    5000.0\n control size %    50.0\n test size       5000.0\n test size %       50.0,\n 'GroupDifference╰╰post_spends[A]108':                                    B\n post_spends control mean  452.718578\n post_spends difference     -1.108044\n post_spends difference %   -0.244753\n post_spends test mean     451.610533,\n 'TTest╰╰post_spends[A]108':   group  statistic   p-value   pass\n 0     B   1.406066  0.159736  False,\n 'KSTest╰╰post_spends[A]108':   group  statistic   p-value   pass\n 0     B     0.0212  0.211152  False,\n 'OneAASplitAnalyzer╰╰108':    TTest p-value  TTest pass  KSTest p-value  KSTest pass  mean test score\n 0       0.173506         0.0        0.215686          0.0         0.201626,\n 'GroupSizes╰╰pre_spends[A]109':                      B\n control size    5000.0\n control size %    50.0\n test size       5000.0\n test size %       50.0,\n 'GroupDifference╰╰pre_spends[A]109':                                   B\n pre_spends control mean  487.342600\n pre_spends difference     -0.497700\n pre_spends difference %   -0.102125\n pre_spends test mean     486.844900,\n 'TTest╰╰pre_spends[A]109':   group  statistic   p-value   pass\n 0     B   1.318771  0.187276  False,\n 'KSTest╰╰pre_spends[A]109':   group  statistic   p-value   pass\n 0     B      0.021  0.220219  False,\n 'GroupSizes╰╰post_spends[A]109':                      B\n control size    5000.0\n control size %    50.0\n test size       5000.0\n test size %       50.0,\n 'GroupDifference╰╰post_spends[A]109':                                    B\n post_spends control mean  452.718578\n post_spends difference     -1.108044\n post_spends difference %   -0.244753\n post_spends test mean     451.610533,\n 'TTest╰╰post_spends[A]109':   group  statistic   p-value   pass\n 0     B   1.406066  0.159736  False,\n 'KSTest╰╰post_spends[A]109':   group  statistic   p-value   pass\n 0     B     0.0212  0.211152  False,\n 'OneAASplitAnalyzer╰╰109':    TTest p-value  TTest pass  KSTest p-value  KSTest pass  mean test score\n 0       0.173506         0.0        0.215686          0.0         0.201626,\n 'GroupSizes╰╰pre_spends[A]110':                      B\n control size    5000.0\n control size %    50.0\n test size       5000.0\n test size %       50.0,\n 'GroupDifference╰╰pre_spends[A]110':                                   B\n pre_spends control mean  487.342600\n pre_spends difference     -0.497700\n pre_spends difference %   -0.102125\n pre_spends test mean     486.844900,\n 'TTest╰╰pre_spends[A]110':   group  statistic   p-value   pass\n 0     B   1.318771  0.187276  False,\n 'KSTest╰╰pre_spends[A]110':   group  statistic   p-value   pass\n 0     B      0.021  0.220219  False,\n 'GroupSizes╰╰post_spends[A]110':                      B\n control size    5000.0\n control size %    50.0\n test size       5000.0\n test size %       50.0,\n 'GroupDifference╰╰post_spends[A]110':                                    B\n post_spends control mean  452.718578\n post_spends difference     -1.108044\n post_spends difference %   -0.244753\n post_spends test mean     451.610533,\n 'TTest╰╰post_spends[A]110':   group  statistic   p-value   pass\n 0     B   1.406066  0.159736  False,\n 'KSTest╰╰post_spends[A]110':   group  statistic   p-value   pass\n 0     B     0.0212  0.211152  False,\n 'OneAASplitAnalyzer╰╰110':    TTest p-value  TTest pass  KSTest p-value  KSTest pass  mean test score\n 0       0.173506         0.0        0.215686          0.0         0.201626,\n 'GroupSizes╰╰pre_spends[A]111':                      B\n control size    5000.0\n control size %    50.0\n test size       5000.0\n test size %       50.0,\n ...}"
     },
     "execution_count": 17,
     "metadata": {},
     "output_type": "execute_result"
    }
   ],
   "source": [
    "res.analysis_tables"
   ],
   "metadata": {
    "collapsed": false,
    "ExecuteTime": {
     "end_time": "2024-04-09T13:16:36.581079900Z",
     "start_time": "2024-04-09T13:16:34.073363800Z"
    }
   },
   "execution_count": 17
  },
  {
   "cell_type": "code",
   "outputs": [
    {
     "data": {
      "text/plain": "{'pre_spends':       KSTest  TTest  TTest passed  KSTest passed\n mean     0.0    0.0             0              0,\n 'post_spends':       KSTest  TTest  TTest passed  KSTest passed\n mean     0.0    0.0             0              0}"
     },
     "execution_count": 15,
     "metadata": {},
     "output_type": "execute_result"
    }
   ],
   "source": [
    "# analyser version\n",
    "\n",
    "from hypex.dataset.roles import StatisticRole\n",
    "\n",
    "new_res = {}\n",
    "fields = ['pre_spends', 'post_spends'] # получаем столбцы по TargetRole \n",
    "tests = ['KSTest', 'TTest']\n",
    "for j in fields:\n",
    "    for i in list(res.analysis_tables.keys()):  \n",
    "        if j in i and i.split('╰╰')[0] in tests: \n",
    "            test = i.split('╰╰')[0]\n",
    "            if j not in new_res: \n",
    "                new_res[j] = {test: []}\n",
    "            elif test not in new_res[j]: \n",
    "                new_res[j].update({test: []}) \n",
    "            new_res[j][test].append(list(res.analysis_tables[i].data['pass'])[0])\n",
    "    new_res[j] = Dataset.from_dict(new_res[j], roles={}).mean()\n",
    "    new_res[j].add_column(new_res[j].apply(\n",
    "                lambda x: int(0.8 * 0.05 <= x['TTest'] <= 1.2 * 0.05), {'TTest passed': StatisticRole()}, axis=1\n",
    "            ))\n",
    "    new_res[j].add_column(new_res[j].apply(\n",
    "                lambda x: int(0.8 * 0.05 <= x['KSTest'] <= 1.2 * 0.05), {'KSTest passed': StatisticRole()}, axis=1\n",
    "            ))\n",
    "new_res"
   ],
   "metadata": {
    "collapsed": false,
    "ExecuteTime": {
     "end_time": "2024-04-09T13:15:40.606639500Z",
     "start_time": "2024-04-09T13:15:40.172049800Z"
    }
   },
   "execution_count": 15
  },
  {
   "cell_type": "code",
   "outputs": [],
   "source": [],
   "metadata": {
    "collapsed": false,
    "ExecuteTime": {
     "end_time": "2024-04-09T13:12:48.430210800Z",
     "start_time": "2024-04-09T13:12:48.389240400Z"
    }
   },
   "execution_count": null
  }
 ],
 "metadata": {
  "kernelspec": {
   "display_name": "Python 3",
   "language": "python",
   "name": "python3"
  },
  "language_info": {
   "codemirror_mode": {
    "name": "ipython",
    "version": 3
   },
   "file_extension": ".py",
   "mimetype": "text/x-python",
   "name": "python",
   "nbconvert_exporter": "python",
   "pygments_lexer": "ipython3",
   "version": "3.10.11"
  }
 },
 "nbformat": 4,
 "nbformat_minor": 2
}
