{
 "cells": [
  {
   "cell_type": "code",
   "execution_count": 1,
   "metadata": {
    "ExecuteTime": {
     "end_time": "2024-04-08T08:48:08.393031700Z",
     "start_time": "2024-04-08T08:48:06.124857100Z"
    }
   },
   "outputs": [],
   "source": [
    "from hypex.dataset.dataset import Dataset, ExperimentData\n",
    "from hypex.dataset.roles import (\n",
    "    InfoRole,\n",
    "    FeatureRole,\n",
    "    TreatmentRole,\n",
    "    PreTargetRole,\n",
    "    TargetRole,\n",
    ")\n",
    "from hypex.experiments.aa_test import AA_TEST\n",
    "from hypex.reporters.aa import AADictReporter"
   ]
  },
  {
   "cell_type": "code",
   "execution_count": 2,
   "metadata": {
    "ExecuteTime": {
     "end_time": "2024-04-08T08:48:08.529359700Z",
     "start_time": "2024-04-08T08:48:08.398910300Z"
    }
   },
   "outputs": [
    {
     "data": {
      "text/plain": [
       "      user_id  signup_month  treat  pre_spends  post_spends   age gender  \\\n",
       "0           0             0      0       488.0   414.444444   NaN      M   \n",
       "1           1             8      1       512.5   462.222222  26.0    NaN   \n",
       "2           2             7      1       483.0   479.444444  25.0      M   \n",
       "3           3             0      0       501.5   424.333333  39.0      M   \n",
       "4           4             1      1       543.0   514.555556  18.0      F   \n",
       "...       ...           ...    ...         ...          ...   ...    ...   \n",
       "9995     9995            10      1       538.5   450.444444  42.0      M   \n",
       "9996     9996             0      0       500.5   430.888889  26.0      F   \n",
       "9997     9997             3      1       473.0   534.111111  22.0      F   \n",
       "9998     9998             2      1       495.0   523.222222  67.0      F   \n",
       "9999     9999             7      1       508.0   475.888889  38.0      F   \n",
       "\n",
       "        industry  \n",
       "0     E-commerce  \n",
       "1     E-commerce  \n",
       "2      Logistics  \n",
       "3     E-commerce  \n",
       "4     E-commerce  \n",
       "...          ...  \n",
       "9995   Logistics  \n",
       "9996   Logistics  \n",
       "9997  E-commerce  \n",
       "9998  E-commerce  \n",
       "9999  E-commerce  \n",
       "\n",
       "[10000 rows x 8 columns]"
      ]
     },
     "execution_count": 2,
     "metadata": {},
     "output_type": "execute_result"
    }
   ],
   "source": [
    "data = Dataset(\n",
    "    roles={\n",
    "        \"user_id\": InfoRole(),\n",
    "        \"signup_month\": FeatureRole(),\n",
    "        \"treat\": TreatmentRole(),\n",
    "        \"pre_spends\": TargetRole(),\n",
    "        \"post_spends\": TargetRole(),\n",
    "        \"age\": TargetRole(),\n",
    "        \"gender\": FeatureRole(),\n",
    "        \"industry\": FeatureRole(),\n",
    "    }, data=\"data.csv\",\n",
    ")\n",
    "data"
   ]
  },
  {
   "cell_type": "code",
   "execution_count": 3,
   "metadata": {
    "ExecuteTime": {
     "end_time": "2024-04-08T08:48:08.621476200Z",
     "start_time": "2024-04-08T08:48:08.463478300Z"
    }
   },
   "outputs": [
    {
     "data": {
      "text/plain": [
       "{'user_id': Info,\n",
       " 'signup_month': Feature,\n",
       " 'treat': Treatment,\n",
       " 'pre_spends': Target,\n",
       " 'post_spends': Target,\n",
       " 'age': Target,\n",
       " 'gender': Feature,\n",
       " 'industry': Feature}"
      ]
     },
     "execution_count": 3,
     "metadata": {},
     "output_type": "execute_result"
    }
   ],
   "source": [
    "data.roles"
   ]
  },
  {
   "cell_type": "code",
   "execution_count": 4,
   "metadata": {
    "ExecuteTime": {
     "end_time": "2024-04-08T08:48:08.747386600Z",
     "start_time": "2024-04-08T08:48:08.509355700Z"
    }
   },
   "outputs": [],
   "source": [
    "test = AA_TEST\n",
    "ed = ExperimentData(data)\n",
    "result = test.execute(ed)"
   ]
  },
  {
   "cell_type": "code",
   "execution_count": 5,
   "metadata": {
    "ExecuteTime": {
     "end_time": "2024-04-08T08:48:08.792295900Z",
     "start_time": "2024-04-08T08:48:08.750764800Z"
    }
   },
   "outputs": [
    {
     "data": {
      "text/plain": [
       "   TTest p-value  TTest pass  KSTest p-value  KSTest pass  mean test score\n",
       "0       0.173506         0.0        0.460366          0.0         0.364746"
      ]
     },
     "execution_count": 5,
     "metadata": {},
     "output_type": "execute_result"
    }
   ],
   "source": [
    "result.analysis_tables['OneAASplitAnalyzer╰╰']"
   ]
  },
  {
   "cell_type": "code",
   "execution_count": 6,
   "metadata": {
    "ExecuteTime": {
     "end_time": "2024-04-08T08:48:08.825071400Z",
     "start_time": "2024-04-08T08:48:08.780816800Z"
    },
    "collapsed": false
   },
   "outputs": [
    {
     "data": {
      "text/plain": [
       "{'random_state': None,\n",
       " 'B pre_spends control mean': 487.3426,\n",
       " 'B pre_spends difference': -0.4977000000000089,\n",
       " 'B pre_spends difference %': -0.10212528106511298,\n",
       " 'B pre_spends test mean': 486.8449,\n",
       " 'B post_spends control mean': 452.7185777777778,\n",
       " 'B post_spends difference': -1.108044444444488,\n",
       " 'B post_spends difference %': -0.24475347353392074,\n",
       " 'B post_spends test mean': 451.6105333333333,\n",
       " 'B age control mean': 43.54577777777778,\n",
       " 'B age difference': 0.21733333333332894,\n",
       " 'B age difference %': 0.49909163281551816,\n",
       " 'B age test mean': 43.76311111111111,\n",
       " 'B control size': 5000.0,\n",
       " 'B control size %': 50.0,\n",
       " 'B test size': 5000.0,\n",
       " 'B test size %': 50.0}"
      ]
     },
     "execution_count": 6,
     "metadata": {},
     "output_type": "execute_result"
    }
   ],
   "source": [
    "AADictReporter().report(result)"
   ]
  },
  {
   "cell_type": "code",
   "execution_count": 7,
   "metadata": {
    "ExecuteTime": {
     "end_time": "2024-04-08T08:48:08.871110600Z",
     "start_time": "2024-04-08T08:48:08.814405500Z"
    }
   },
   "outputs": [
    {
     "data": {
      "text/plain": [
       "{'GroupSizes╰╰':                      B\n",
       " control size    5000.0\n",
       " control size %    50.0\n",
       " test size       5000.0\n",
       " test size %       50.0,\n",
       " 'GroupDifference╰╰pre_spends[AASplitter]':                                   B\n",
       " pre_spends control mean  487.342600\n",
       " pre_spends difference     -0.497700\n",
       " pre_spends difference %   -0.102125\n",
       " pre_spends test mean     486.844900,\n",
       " 'TTest╰╰pre_spends[AASplitter]':   group  statistic   p-value   pass\n",
       " 0     B   1.318771  0.187276  False,\n",
       " 'KSTest╰╰pre_spends[AASplitter]':   group  statistic   p-value   pass\n",
       " 0     B      0.021  0.220219  False,\n",
       " 'GroupDifference╰╰post_spends[AASplitter]':                                    B\n",
       " post_spends control mean  452.718578\n",
       " post_spends difference     -1.108044\n",
       " post_spends difference %   -0.244753\n",
       " post_spends test mean     451.610533,\n",
       " 'TTest╰╰post_spends[AASplitter]':   group  statistic   p-value   pass\n",
       " 0     B   1.406066  0.159736  False,\n",
       " 'KSTest╰╰post_spends[AASplitter]':   group  statistic   p-value   pass\n",
       " 0     B     0.0212  0.211152  False,\n",
       " 'GroupDifference╰╰age[AASplitter]':                           B\n",
       " age control mean  43.545778\n",
       " age difference     0.217333\n",
       " age difference %   0.499092\n",
       " age test mean     43.763111,\n",
       " 'TTest╰╰age[AASplitter]':   group  statistic  p-value   pass\n",
       " 0     B        NaN      NaN  False,\n",
       " 'KSTest╰╰age[AASplitter]':   group  statistic   p-value   pass\n",
       " 0     B     0.0104  0.949728  False,\n",
       " 'OneAASplitAnalyzer╰╰':    TTest p-value  TTest pass  KSTest p-value  KSTest pass  mean test score\n",
       " 0       0.173506         0.0        0.460366          0.0         0.364746}"
      ]
     },
     "execution_count": 7,
     "metadata": {},
     "output_type": "execute_result"
    }
   ],
   "source": [
    "result.analysis_tables"
   ]
  },
  {
   "cell_type": "code",
   "execution_count": 8,
   "metadata": {
    "ExecuteTime": {
     "end_time": "2024-04-08T08:48:08.994660600Z",
     "start_time": "2024-04-08T08:48:08.850483500Z"
    }
   },
   "outputs": [],
   "source": [
    "from hypex.experiments.ab_test import AB_TEST\n",
    "\n",
    "test = AB_TEST\n",
    "ed = ExperimentData(data)\n",
    "result = test.execute(ed)"
   ]
  },
  {
   "cell_type": "code",
   "execution_count": 9,
   "metadata": {
    "ExecuteTime": {
     "end_time": "2024-04-08T08:48:09.052284600Z",
     "start_time": "2024-04-08T08:48:08.993507200Z"
    },
    "collapsed": false
   },
   "outputs": [
    {
     "data": {
      "text/plain": [
       "{'GroupSizes╰╰':                       1\n",
       " control size    4936.00\n",
       " control size %    49.36\n",
       " test size       5064.00\n",
       " test size %       50.64,\n",
       " 'GroupDifference╰╰pre_spends[treat]':                                   1\n",
       " pre_spends control mean  484.911973\n",
       " pre_spends difference      4.308406\n",
       " pre_spends difference %    0.888492\n",
       " pre_spends test mean     489.220379,\n",
       " 'TTest╰╰pre_spends[treat]':    group  statistic       p-value  pass\n",
       " 0      1 -11.489293  2.315047e-30  True,\n",
       " 'MannWhitney╰╰pre_spends[treat]':    group   statistic       p-value  pass\n",
       " 0      1  11509971.0  7.624263e-12  True,\n",
       " 'GroupDifference╰╰post_spends[treat]':                                    1\n",
       " post_spends control mean  420.046619\n",
       " post_spends difference     63.424045\n",
       " post_spends difference %   15.099287\n",
       " post_spends test mean     483.470664,\n",
       " 'TTest╰╰post_spends[treat]':    group   statistic  p-value  pass\n",
       " 0      1 -135.560001      0.0  True,\n",
       " 'MannWhitney╰╰post_spends[treat]':    group  statistic  p-value  pass\n",
       " 0      1   408754.5      0.0  True,\n",
       " 'GroupDifference╰╰age[treat]':                           1\n",
       " age control mean  43.705566\n",
       " age difference    -0.101252\n",
       " age difference %  -0.231669\n",
       " age test mean     43.604313,\n",
       " 'TTest╰╰age[treat]':    group  statistic  p-value   pass\n",
       " 0      1        NaN      NaN  False,\n",
       " 'MannWhitney╰╰age[treat]':    group  statistic  p-value   pass\n",
       " 0      1        NaN      NaN  False}"
      ]
     },
     "execution_count": 9,
     "metadata": {},
     "output_type": "execute_result"
    }
   ],
   "source": [
    "result.analysis_tables"
   ]
  },
  {
   "cell_type": "code",
   "execution_count": 10,
   "metadata": {
    "ExecuteTime": {
     "end_time": "2024-04-08T08:48:17.426653200Z",
     "start_time": "2024-04-08T08:48:15.940747300Z"
    },
    "collapsed": false
   },
   "outputs": [],
   "source": [
    "from hypex.experiments.homogeneity_test import HOMOGENEITY_TEST\n",
    "\n",
    "test = HOMOGENEITY_TEST\n",
    "ed = ExperimentData(data)\n",
    "result = test.execute(ed)"
   ]
  },
  {
   "cell_type": "code",
   "execution_count": 11,
   "metadata": {
    "ExecuteTime": {
     "end_time": "2024-04-08T08:48:19.367089700Z",
     "start_time": "2024-04-08T08:48:19.271068300Z"
    },
    "collapsed": false
   },
   "outputs": [
    {
     "data": {
      "text/plain": [
       "{'GroupDifference╰╰pre_spends[treat]':                                   1\n",
       " pre_spends control mean  484.911973\n",
       " pre_spends difference      4.308406\n",
       " pre_spends difference %    0.888492\n",
       " pre_spends test mean     489.220379,\n",
       " 'TTest╰╰pre_spends[treat]':    group  statistic       p-value  pass\n",
       " 0      1 -11.489293  2.315047e-30  True,\n",
       " 'KSTest╰╰pre_spends[treat]':    group  statistic       p-value  pass\n",
       " 0      1   0.077573  1.559150e-13  True,\n",
       " 'GroupDifference╰╰post_spends[treat]':                                    1\n",
       " post_spends control mean  420.046619\n",
       " post_spends difference     63.424045\n",
       " post_spends difference %   15.099287\n",
       " post_spends test mean     483.470664,\n",
       " 'TTest╰╰post_spends[treat]':    group   statistic  p-value  pass\n",
       " 0      1 -135.560001      0.0  True,\n",
       " 'KSTest╰╰post_spends[treat]':    group  statistic  p-value  pass\n",
       " 0      1     0.8959      0.0  True,\n",
       " 'GroupDifference╰╰age[treat]':                           1\n",
       " age control mean  43.705566\n",
       " age difference    -0.101252\n",
       " age difference %  -0.231669\n",
       " age test mean     43.604313,\n",
       " 'TTest╰╰age[treat]':    group  statistic  p-value   pass\n",
       " 0      1        NaN      NaN  False,\n",
       " 'KSTest╰╰age[treat]':    group  statistic   p-value   pass\n",
       " 0      1   0.010631  0.936038  False,\n",
       " 'OneAASplitAnalyzer╰╰':    TTest p-value  TTest pass  KSTest p-value  KSTest pass  mean test score\n",
       " 0   1.157524e-30    0.666667        0.312013     0.666667         0.208009}"
      ]
     },
     "execution_count": 11,
     "metadata": {},
     "output_type": "execute_result"
    }
   ],
   "source": [
    "result.analysis_tables"
   ]
  },
  {
   "cell_type": "code",
   "execution_count": null,
   "metadata": {
    "collapsed": false
   },
   "outputs": [],
   "source": []
  }
 ],
 "metadata": {
  "kernelspec": {
   "display_name": "Python 3",
   "language": "python",
   "name": "python3"
  },
  "language_info": {
   "codemirror_mode": {
    "name": "ipython",
    "version": 3
   },
   "file_extension": ".py",
   "mimetype": "text/x-python",
   "name": "python",
   "nbconvert_exporter": "python",
   "pygments_lexer": "ipython3",
   "version": "3.10.11"
  }
 },
 "nbformat": 4,
 "nbformat_minor": 2
}
