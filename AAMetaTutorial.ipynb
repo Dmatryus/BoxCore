{
 "cells": [
  {
   "cell_type": "code",
   "execution_count": 1,
   "metadata": {
    "ExecuteTime": {
     "end_time": "2024-04-08T08:48:08.393031700Z",
     "start_time": "2024-04-08T08:48:06.124857100Z"
    }
   },
   "outputs": [],
   "source": [
    "from hypex.dataset.dataset import Dataset, ExperimentData\n",
    "from hypex.dataset.roles import (\n",
    "    InfoRole,\n",
    "    FeatureRole,\n",
    "    TreatmentRole,\n",
    "    TargetRole,\n",
    ")\n",
    "from hypex.experiments.aa_test import AA_TEST\n",
    "from hypex.reporters.aa import AADictReporter"
   ]
  },
  {
   "cell_type": "code",
   "execution_count": 2,
   "metadata": {
    "ExecuteTime": {
     "end_time": "2024-04-08T08:48:08.529359700Z",
     "start_time": "2024-04-08T08:48:08.398910300Z"
    }
   },
   "outputs": [
    {
     "data": {
      "text/plain": [
       "      user_id  signup_month  treat  pre_spends  post_spends   age gender  \\\n",
       "0           0             0      0       488.0   414.444444   NaN      M   \n",
       "1           1             8      1       512.5   462.222222  26.0    NaN   \n",
       "2           2             7      1       483.0   479.444444  25.0      M   \n",
       "3           3             0      0       501.5   424.333333  39.0      M   \n",
       "4           4             1      1       543.0   514.555556  18.0      F   \n",
       "...       ...           ...    ...         ...          ...   ...    ...   \n",
       "9995     9995            10      1       538.5   450.444444  42.0      M   \n",
       "9996     9996             0      0       500.5   430.888889  26.0      F   \n",
       "9997     9997             3      1       473.0   534.111111  22.0      F   \n",
       "9998     9998             2      1       495.0   523.222222  67.0      F   \n",
       "9999     9999             7      1       508.0   475.888889  38.0      F   \n",
       "\n",
       "        industry  \n",
       "0     E-commerce  \n",
       "1     E-commerce  \n",
       "2      Logistics  \n",
       "3     E-commerce  \n",
       "4     E-commerce  \n",
       "...          ...  \n",
       "9995   Logistics  \n",
       "9996   Logistics  \n",
       "9997  E-commerce  \n",
       "9998  E-commerce  \n",
       "9999  E-commerce  \n",
       "\n",
       "[10000 rows x 8 columns]"
      ]
     },
     "execution_count": 2,
     "metadata": {},
     "output_type": "execute_result"
    }
   ],
   "source": [
    "data = Dataset(\n",
    "    roles={\n",
    "        \"user_id\": InfoRole(),\n",
    "        \"signup_month\": FeatureRole(),\n",
    "        \"treat\": TreatmentRole(),\n",
    "        \"pre_spends\": TargetRole(),\n",
    "        \"post_spends\": TargetRole(),\n",
    "        \"age\": FeatureRole(),\n",
    "        \"gender\": FeatureRole(),\n",
    "        \"industry\": FeatureRole(),\n",
    "    }, data=\"data.csv\",\n",
    ")\n",
    "data"
   ]
  },
  {
   "cell_type": "code",
   "execution_count": 3,
   "metadata": {
    "ExecuteTime": {
     "end_time": "2024-04-08T08:48:08.621476200Z",
     "start_time": "2024-04-08T08:48:08.463478300Z"
    }
   },
   "outputs": [
    {
     "data": {
      "text/plain": [
       "{'user_id': Info,\n",
       " 'signup_month': Feature,\n",
       " 'treat': Treatment,\n",
       " 'pre_spends': Target,\n",
       " 'post_spends': Target,\n",
       " 'age': Feature,\n",
       " 'gender': Feature,\n",
       " 'industry': Feature}"
      ]
     },
     "execution_count": 3,
     "metadata": {},
     "output_type": "execute_result"
    }
   ],
   "source": [
    "data.roles"
   ]
  },
  {
   "cell_type": "code",
   "execution_count": 4,
   "metadata": {
    "ExecuteTime": {
     "end_time": "2024-04-08T08:48:08.747386600Z",
     "start_time": "2024-04-08T08:48:08.509355700Z"
    }
   },
   "outputs": [],
   "source": [
    "test = AA_TEST\n",
    "ed = ExperimentData(data)\n",
    "result = test.execute(ed)"
   ]
  },
  {
   "cell_type": "code",
   "execution_count": 5,
   "metadata": {
    "collapsed": false
   },
   "outputs": [
    {
     "data": {
      "text/plain": [
       "{'random_state': None,\n",
       " 'B pre_spends control mean': 486.9154,\n",
       " 'B pre_spends difference': 0.3567000000000462,\n",
       " 'B pre_spends difference %': 0.07325707915586399,\n",
       " 'B pre_spends test mean': 487.2721,\n",
       " 'B post_spends control mean': 451.436,\n",
       " 'B post_spends difference': 1.4571111111112032,\n",
       " 'B post_spends difference %': 0.32277246633214407,\n",
       " 'B post_spends test mean': 452.8931111111112,\n",
       " 'B control size': 5000.0,\n",
       " 'B control size %': 50.0,\n",
       " 'B test size': 5000.0,\n",
       " 'B test size %': 50.0,\n",
       " 'TTest p-value': 0.20454317633846736,\n",
       " 'TTest pass': 0.0,\n",
       " 'KSTest p-value': 0.17680525052673585,\n",
       " 'KSTest pass': 0.5,\n",
       " 'mean test score': 0.18605122579731304}"
      ]
     },
     "execution_count": 5,
     "metadata": {},
     "output_type": "execute_result"
    }
   ],
   "source": [
    "AADictReporter().report(result)"
   ]
  },
  {
   "cell_type": "code",
   "execution_count": 6,
   "metadata": {
    "collapsed": false
   },
   "outputs": [
    {
     "data": {
      "text/plain": [
       "{'GroupSizes╰╰[][A]':                      B\n",
       " control size    5000.0\n",
       " control size %    50.0\n",
       " test size       5000.0\n",
       " test size %       50.0,\n",
       " \"GroupDifference╰╰['pre_spends'][A]\":                                   B\n",
       " pre_spends control mean  486.915400\n",
       " pre_spends difference      0.356700\n",
       " pre_spends difference %    0.073257\n",
       " pre_spends test mean     487.272100,\n",
       " \"TTest╰╰['pre_spends'][A]\":   group  statistic   p-value   pass\n",
       " 0     B  -0.945119  0.344621  False,\n",
       " \"KSTest╰╰['pre_spends'][A]\":   group  statistic   p-value   pass\n",
       " 0     B     0.0186  0.352691  False,\n",
       " \"GroupDifference╰╰['post_spends'][A]\":                                    B\n",
       " post_spends control mean  451.436000\n",
       " post_spends difference      1.457111\n",
       " post_spends difference %    0.322772\n",
       " post_spends test mean     452.893111,\n",
       " \"TTest╰╰['post_spends'][A]\":   group  statistic   p-value   pass\n",
       " 0     B  -1.849151  0.064465  False,\n",
       " \"KSTest╰╰['post_spends'][A]\":   group  statistic  p-value  pass\n",
       " 0     B     0.0392  0.00092  True,\n",
       " 'OneAASplitAnalyzer╰╰':    TTest p-value  TTest pass  KSTest p-value  KSTest pass  mean test score\n",
       " 0       0.204543         0.0        0.176805          0.5         0.186051}"
      ]
     },
     "execution_count": 6,
     "metadata": {},
     "output_type": "execute_result"
    }
   ],
   "source": [
    "result.analysis_tables"
   ]
  },
  {
   "cell_type": "code",
   "execution_count": 7,
   "metadata": {
    "collapsed": false
   },
   "outputs": [],
   "source": [
    "from hypex.experiments.ab_test import AB_TEST\n",
    "\n",
    "test = AB_TEST\n",
    "ed = ExperimentData(data)\n",
    "result = test.execute(ed)"
   ]
  },
  {
   "cell_type": "code",
   "execution_count": 8,
   "metadata": {
    "collapsed": false
   },
   "outputs": [
    {
     "data": {
      "text/plain": [
       "   TTest p-value  TTest pass  MannWhitney p-value  MannWhitney pass  \\\n",
       "0   1.157524e-30         1.0         3.812131e-12               1.0   \n",
       "\n",
       "   GroupATE ['pre_spends'][t]  GroupATE ['post_spends'][t]  \n",
       "0                   487.09375                   452.164556  "
      ]
     },
     "execution_count": 8,
     "metadata": {},
     "output_type": "execute_result"
    }
   ],
   "source": [
    "result.analysis_tables['ABAnalyzer╰╰']"
   ]
  },
  {
   "cell_type": "code",
   "execution_count": 9,
   "metadata": {
    "collapsed": false
   },
   "outputs": [],
   "source": [
    "from hypex.experiments.homogeneity_test import HOMOGENEITY_TEST\n",
    "\n",
    "test = HOMOGENEITY_TEST\n",
    "ed = ExperimentData(data)\n",
    "result = test.execute(ed)"
   ]
  },
  {
   "cell_type": "code",
   "execution_count": 10,
   "metadata": {
    "collapsed": false
   },
   "outputs": [
    {
     "data": {
      "text/plain": [
       "{\"GroupDifference╰╰['pre_spends'][t]\":                                   1\n",
       " pre_spends control mean  484.911973\n",
       " pre_spends difference      4.308406\n",
       " pre_spends difference %    0.888492\n",
       " pre_spends test mean     489.220379,\n",
       " \"TTest╰╰['pre_spends'][t]\":    group  statistic       p-value  pass\n",
       " 0      1 -11.489293  2.315047e-30  True,\n",
       " \"KSTest╰╰['pre_spends'][t]\":    group  statistic       p-value  pass\n",
       " 0      1   0.077573  1.559150e-13  True,\n",
       " \"GroupDifference╰╰['post_spends'][t]\":                                    1\n",
       " post_spends control mean  420.046619\n",
       " post_spends difference     63.424045\n",
       " post_spends difference %   15.099287\n",
       " post_spends test mean     483.470664,\n",
       " \"TTest╰╰['post_spends'][t]\":    group   statistic  p-value  pass\n",
       " 0      1 -135.560001      0.0  True,\n",
       " \"KSTest╰╰['post_spends'][t]\":    group  statistic  p-value  pass\n",
       " 0      1     0.8959      0.0  True,\n",
       " 'OneAASplitAnalyzer╰╰':    TTest p-value  TTest pass  KSTest p-value  KSTest pass  mean test score\n",
       " 0   1.157524e-30         1.0    7.795751e-14          1.0     5.197167e-14}"
      ]
     },
     "execution_count": 10,
     "metadata": {},
     "output_type": "execute_result"
    }
   ],
   "source": [
    "result.analysis_tables"
   ]
  },
  {
   "cell_type": "code",
   "execution_count": 11,
   "metadata": {
    "collapsed": false
   },
   "outputs": [],
   "source": [
    "import pandas as pd\n",
    "import warnings\n",
    "warnings.simplefilter(action='ignore', category=pd.errors.PerformanceWarning)\n",
    "\n",
    "from hypex.comparators.hypothesis_testing import TTest, KSTest\n",
    "from hypex.comparators.comparators import GroupSizes, GroupDifference\n",
    "from hypex.utils.enums import SpaceEnum\n",
    "from hypex.splitters.aa import AASplitter\n",
    "from hypex.analyzers.aa import OneAASplitAnalyzer\n",
    "from hypex.experiments.base import CycledExperiment, Experiment, OnRoleExperiment\n",
    "\n",
    "aa = Experiment(\n",
    "    executors=[\n",
    "        AASplitter(),\n",
    "        OnRoleExperiment(\n",
    "            executors=[\n",
    "                GroupSizes(grouping_role=TreatmentRole(), space=SpaceEnum.additional),\n",
    "                GroupDifference(grouping_role=TreatmentRole(), space=SpaceEnum.additional),\n",
    "                TTest(grouping_role=TreatmentRole(), space=SpaceEnum.additional),\n",
    "                KSTest(grouping_role=TreatmentRole(), space=SpaceEnum.additional),\n",
    "            ],\n",
    "            role=TargetRole(),\n",
    "        )\n",
    "    ]\n",
    ")\n",
    "experiment = CycledExperiment(n_iterations=2, inner_executor=aa, analyzer=OneAASplitAnalyzer())\n",
    "ed = ExperimentData(data)\n",
    "res = experiment.execute(ed)"
   ]
  },
  {
   "cell_type": "code",
   "execution_count": 12,
   "metadata": {},
   "outputs": [
    {
     "data": {
      "text/html": [
       "<div>\n",
       "<style scoped>\n",
       "    .dataframe tbody tr th:only-of-type {\n",
       "        vertical-align: middle;\n",
       "    }\n",
       "\n",
       "    .dataframe tbody tr th {\n",
       "        vertical-align: top;\n",
       "    }\n",
       "\n",
       "    .dataframe thead th {\n",
       "        text-align: right;\n",
       "    }\n",
       "</style>\n",
       "<table border=\"1\" class=\"dataframe\">\n",
       "  <thead>\n",
       "    <tr style=\"text-align: right;\">\n",
       "      <th></th>\n",
       "      <th>user_id</th>\n",
       "      <th>signup_month</th>\n",
       "      <th>treat</th>\n",
       "      <th>pre_spends</th>\n",
       "      <th>post_spends</th>\n",
       "      <th>age</th>\n",
       "      <th>gender</th>\n",
       "      <th>industry</th>\n",
       "    </tr>\n",
       "  </thead>\n",
       "  <tbody>\n",
       "    <tr>\n",
       "      <th>0</th>\n",
       "      <td>0</td>\n",
       "      <td>0</td>\n",
       "      <td>0</td>\n",
       "      <td>488.0</td>\n",
       "      <td>414.444444</td>\n",
       "      <td>NaN</td>\n",
       "      <td>M</td>\n",
       "      <td>E-commerce</td>\n",
       "    </tr>\n",
       "    <tr>\n",
       "      <th>1</th>\n",
       "      <td>1</td>\n",
       "      <td>8</td>\n",
       "      <td>1</td>\n",
       "      <td>512.5</td>\n",
       "      <td>462.222222</td>\n",
       "      <td>26.0</td>\n",
       "      <td>NaN</td>\n",
       "      <td>E-commerce</td>\n",
       "    </tr>\n",
       "    <tr>\n",
       "      <th>2</th>\n",
       "      <td>2</td>\n",
       "      <td>7</td>\n",
       "      <td>1</td>\n",
       "      <td>483.0</td>\n",
       "      <td>479.444444</td>\n",
       "      <td>25.0</td>\n",
       "      <td>M</td>\n",
       "      <td>Logistics</td>\n",
       "    </tr>\n",
       "    <tr>\n",
       "      <th>3</th>\n",
       "      <td>3</td>\n",
       "      <td>0</td>\n",
       "      <td>0</td>\n",
       "      <td>501.5</td>\n",
       "      <td>424.333333</td>\n",
       "      <td>39.0</td>\n",
       "      <td>M</td>\n",
       "      <td>E-commerce</td>\n",
       "    </tr>\n",
       "    <tr>\n",
       "      <th>4</th>\n",
       "      <td>4</td>\n",
       "      <td>1</td>\n",
       "      <td>1</td>\n",
       "      <td>543.0</td>\n",
       "      <td>514.555556</td>\n",
       "      <td>18.0</td>\n",
       "      <td>F</td>\n",
       "      <td>E-commerce</td>\n",
       "    </tr>\n",
       "    <tr>\n",
       "      <th>...</th>\n",
       "      <td>...</td>\n",
       "      <td>...</td>\n",
       "      <td>...</td>\n",
       "      <td>...</td>\n",
       "      <td>...</td>\n",
       "      <td>...</td>\n",
       "      <td>...</td>\n",
       "      <td>...</td>\n",
       "    </tr>\n",
       "    <tr>\n",
       "      <th>9995</th>\n",
       "      <td>9995</td>\n",
       "      <td>10</td>\n",
       "      <td>1</td>\n",
       "      <td>538.5</td>\n",
       "      <td>450.444444</td>\n",
       "      <td>42.0</td>\n",
       "      <td>M</td>\n",
       "      <td>Logistics</td>\n",
       "    </tr>\n",
       "    <tr>\n",
       "      <th>9996</th>\n",
       "      <td>9996</td>\n",
       "      <td>0</td>\n",
       "      <td>0</td>\n",
       "      <td>500.5</td>\n",
       "      <td>430.888889</td>\n",
       "      <td>26.0</td>\n",
       "      <td>F</td>\n",
       "      <td>Logistics</td>\n",
       "    </tr>\n",
       "    <tr>\n",
       "      <th>9997</th>\n",
       "      <td>9997</td>\n",
       "      <td>3</td>\n",
       "      <td>1</td>\n",
       "      <td>473.0</td>\n",
       "      <td>534.111111</td>\n",
       "      <td>22.0</td>\n",
       "      <td>F</td>\n",
       "      <td>E-commerce</td>\n",
       "    </tr>\n",
       "    <tr>\n",
       "      <th>9998</th>\n",
       "      <td>9998</td>\n",
       "      <td>2</td>\n",
       "      <td>1</td>\n",
       "      <td>495.0</td>\n",
       "      <td>523.222222</td>\n",
       "      <td>67.0</td>\n",
       "      <td>F</td>\n",
       "      <td>E-commerce</td>\n",
       "    </tr>\n",
       "    <tr>\n",
       "      <th>9999</th>\n",
       "      <td>9999</td>\n",
       "      <td>7</td>\n",
       "      <td>1</td>\n",
       "      <td>508.0</td>\n",
       "      <td>475.888889</td>\n",
       "      <td>38.0</td>\n",
       "      <td>F</td>\n",
       "      <td>E-commerce</td>\n",
       "    </tr>\n",
       "  </tbody>\n",
       "</table>\n",
       "<p>10000 rows × 8 columns</p>\n",
       "</div>"
      ],
      "text/plain": [
       "      user_id  signup_month  treat  pre_spends  post_spends   age gender  \\\n",
       "0           0             0      0       488.0   414.444444   NaN      M   \n",
       "1           1             8      1       512.5   462.222222  26.0    NaN   \n",
       "2           2             7      1       483.0   479.444444  25.0      M   \n",
       "3           3             0      0       501.5   424.333333  39.0      M   \n",
       "4           4             1      1       543.0   514.555556  18.0      F   \n",
       "...       ...           ...    ...         ...          ...   ...    ...   \n",
       "9995     9995            10      1       538.5   450.444444  42.0      M   \n",
       "9996     9996             0      0       500.5   430.888889  26.0      F   \n",
       "9997     9997             3      1       473.0   534.111111  22.0      F   \n",
       "9998     9998             2      1       495.0   523.222222  67.0      F   \n",
       "9999     9999             7      1       508.0   475.888889  38.0      F   \n",
       "\n",
       "        industry  \n",
       "0     E-commerce  \n",
       "1     E-commerce  \n",
       "2      Logistics  \n",
       "3     E-commerce  \n",
       "4     E-commerce  \n",
       "...          ...  \n",
       "9995   Logistics  \n",
       "9996   Logistics  \n",
       "9997  E-commerce  \n",
       "9998  E-commerce  \n",
       "9999  E-commerce  \n",
       "\n",
       "[10000 rows x 8 columns]"
      ]
     },
     "execution_count": 12,
     "metadata": {},
     "output_type": "execute_result"
    }
   ],
   "source": [
    "data.data"
   ]
  },
  {
   "cell_type": "code",
   "execution_count": 13,
   "metadata": {},
   "outputs": [
    {
     "data": {
      "text/plain": [
       "     AASplitter╰╰0 AASplitter╰╰1\n",
       "0                B             A\n",
       "1                A             B\n",
       "2                A             B\n",
       "3                A             A\n",
       "4                A             A\n",
       "...            ...           ...\n",
       "9995             A             B\n",
       "9996             B             A\n",
       "9997             B             A\n",
       "9998             B             B\n",
       "9999             A             B\n",
       "\n",
       "[10000 rows x 2 columns]"
      ]
     },
     "execution_count": 13,
     "metadata": {},
     "output_type": "execute_result"
    }
   ],
   "source": [
    "res.additional_fields"
   ]
  },
  {
   "cell_type": "code",
   "execution_count": 14,
   "metadata": {
    "collapsed": false
   },
   "outputs": [
    {
     "data": {
      "text/plain": [
       "{\"GroupSizes╰╰['pre_spends'][A]0\":                      B\n",
       " control size    5000.0\n",
       " control size %    50.0\n",
       " test size       5000.0\n",
       " test size %       50.0,\n",
       " \"GroupDifference╰╰['pre_spends'][A]0\":                                   B\n",
       " pre_spends control mean  487.220700\n",
       " pre_spends difference     -0.253900\n",
       " pre_spends difference %   -0.052112\n",
       " pre_spends test mean     486.966800,\n",
       " \"TTest╰╰['pre_spends'][A]0\":   group  statistic   p-value   pass\n",
       " 0     B   0.672723  0.501139  False,\n",
       " \"KSTest╰╰['pre_spends'][A]0\":   group  statistic   p-value   pass\n",
       " 0     B     0.0136  0.744274  False,\n",
       " \"GroupSizes╰╰['post_spends'][A]0\":                      B\n",
       " control size    5000.0\n",
       " control size %    50.0\n",
       " test size       5000.0\n",
       " test size %       50.0,\n",
       " \"GroupDifference╰╰['post_spends'][A]0\":                                    B\n",
       " post_spends control mean  452.232889\n",
       " post_spends difference     -0.136667\n",
       " post_spends difference %   -0.030220\n",
       " post_spends test mean     452.096222,\n",
       " \"TTest╰╰['post_spends'][A]0\":   group  statistic   p-value   pass\n",
       " 0     B   0.173408  0.862334  False,\n",
       " \"KSTest╰╰['post_spends'][A]0\":   group  statistic   p-value   pass\n",
       " 0     B       0.01  0.963974  False,\n",
       " 'OneAASplitAnalyzer╰╰0':    TTest p-value  TTest pass  KSTest p-value  KSTest pass  mean test score\n",
       " 0       0.681737         0.0        0.854124          0.0         0.796661,\n",
       " \"GroupSizes╰╰['pre_spends'][A]1\":                      B\n",
       " control size    5000.0\n",
       " control size %    50.0\n",
       " test size       5000.0\n",
       " test size %       50.0,\n",
       " \"GroupDifference╰╰['pre_spends'][A]1\":                                   B\n",
       " pre_spends control mean  487.704700\n",
       " pre_spends difference     -1.221900\n",
       " pre_spends difference %   -0.250541\n",
       " pre_spends test mean     486.482800,\n",
       " \"TTest╰╰['pre_spends'][A]1\":   group  statistic   p-value  pass\n",
       " 0     B   3.239123  0.001203  True,\n",
       " \"KSTest╰╰['pre_spends'][A]1\":   group  statistic   p-value  pass\n",
       " 0     B     0.0338  0.006607  True,\n",
       " \"GroupSizes╰╰['post_spends'][A]1\":                      B\n",
       " control size    5000.0\n",
       " control size %    50.0\n",
       " test size       5000.0\n",
       " test size %       50.0,\n",
       " \"GroupDifference╰╰['post_spends'][A]1\":                                    B\n",
       " post_spends control mean  452.265644\n",
       " post_spends difference     -0.202178\n",
       " post_spends difference %   -0.044703\n",
       " post_spends test mean     452.063467,\n",
       " \"TTest╰╰['post_spends'][A]1\":   group  statistic   p-value   pass\n",
       " 0     B   0.256531  0.797546  False,\n",
       " \"KSTest╰╰['post_spends'][A]1\":   group  statistic   p-value   pass\n",
       " 0     B     0.0106  0.941502  False,\n",
       " 'OneAASplitAnalyzer╰╰1':    TTest p-value  TTest pass  KSTest p-value  KSTest pass  mean test score\n",
       " 0       0.540555        0.25        0.664089         0.25         0.622911}"
      ]
     },
     "execution_count": 14,
     "metadata": {},
     "output_type": "execute_result"
    }
   ],
   "source": [
    "res.analysis_tables"
   ]
  },
  {
   "cell_type": "code",
   "execution_count": 15,
   "metadata": {
    "collapsed": false
   },
   "outputs": [],
   "source": [
    "res_analyzer = OneAASplitAnalyzer().execute(res)"
   ]
  },
  {
   "cell_type": "code",
   "execution_count": 16,
   "metadata": {
    "collapsed": false
   },
   "outputs": [
    {
     "data": {
      "text/plain": [
       "   TTest p-value  TTest pass  KSTest p-value  KSTest pass  mean test score\n",
       "0       0.540555        0.25        0.664089         0.25         0.622911"
      ]
     },
     "execution_count": 16,
     "metadata": {},
     "output_type": "execute_result"
    }
   ],
   "source": [
    "res_analyzer.analysis_tables['OneAASplitAnalyzer╰╰']"
   ]
  },
  {
   "cell_type": "code",
   "execution_count": 17,
   "metadata": {
    "collapsed": false
   },
   "outputs": [
    {
     "data": {
      "text/plain": [
       "{'pre_spends':       KSTest  TTest  TTest passed  KSTest passed\n",
       " mean     0.5    0.5             0              0,\n",
       " 'post_spends':       KSTest  TTest  TTest passed  KSTest passed\n",
       " mean     0.0    0.0             0              0}"
      ]
     },
     "execution_count": 17,
     "metadata": {},
     "output_type": "execute_result"
    }
   ],
   "source": [
    "# analyser version\n",
    "\n",
    "from hypex.dataset.roles import StatisticRole\n",
    "\n",
    "new_res = {}\n",
    "fields = ['pre_spends', 'post_spends'] # получаем столбцы по TargetRole\n",
    "tests = ['KSTest', 'TTest']\n",
    "for j in fields:\n",
    "    for i in list(res.analysis_tables.keys()):\n",
    "        if j in i and i.split('╰╰')[0] in tests:\n",
    "            test = i.split('╰╰')[0]\n",
    "            if j not in new_res:\n",
    "                new_res[j] = {test: []}\n",
    "            elif test not in new_res[j]:\n",
    "                new_res[j].update({test: []})\n",
    "            new_res[j][test].append(list(res.analysis_tables[i].data['pass'])[0])\n",
    "    new_res[j] = Dataset.from_dict(new_res[j], roles={}).mean()\n",
    "    new_res[j].add_column(new_res[j].apply(\n",
    "                lambda x: int(0.8 * 0.05 <= x['TTest'] <= 1.2 * 0.05), {'TTest passed': StatisticRole()}, axis=1\n",
    "            ))\n",
    "    new_res[j].add_column(new_res[j].apply(\n",
    "                lambda x: int(0.8 * 0.05 <= x['KSTest'] <= 1.2 * 0.05), {'KSTest passed': StatisticRole()}, axis=1\n",
    "            ))\n",
    "new_res"
   ]
  },
  {
   "cell_type": "code",
   "execution_count": 18,
   "metadata": {
    "collapsed": false
   },
   "outputs": [
    {
     "data": {
      "text/html": [
       "<div>\n",
       "<style scoped>\n",
       "    .dataframe tbody tr th:only-of-type {\n",
       "        vertical-align: middle;\n",
       "    }\n",
       "\n",
       "    .dataframe tbody tr th {\n",
       "        vertical-align: top;\n",
       "    }\n",
       "\n",
       "    .dataframe thead th {\n",
       "        text-align: right;\n",
       "    }\n",
       "</style>\n",
       "<table border=\"1\" class=\"dataframe\">\n",
       "  <thead>\n",
       "    <tr style=\"text-align: right;\">\n",
       "      <th></th>\n",
       "      <th>user_id</th>\n",
       "      <th>signup_month</th>\n",
       "      <th>treat</th>\n",
       "      <th>pre_spends</th>\n",
       "      <th>post_spends</th>\n",
       "      <th>age</th>\n",
       "      <th>gender</th>\n",
       "      <th>industry</th>\n",
       "    </tr>\n",
       "  </thead>\n",
       "  <tbody>\n",
       "    <tr>\n",
       "      <th>4567</th>\n",
       "      <td>4567</td>\n",
       "      <td>0</td>\n",
       "      <td>0</td>\n",
       "      <td>486.0</td>\n",
       "      <td>415.000000</td>\n",
       "      <td>68.0</td>\n",
       "      <td>F</td>\n",
       "      <td>Logistics</td>\n",
       "    </tr>\n",
       "    <tr>\n",
       "      <th>8542</th>\n",
       "      <td>8542</td>\n",
       "      <td>11</td>\n",
       "      <td>1</td>\n",
       "      <td>491.0</td>\n",
       "      <td>437.666667</td>\n",
       "      <td>24.0</td>\n",
       "      <td>M</td>\n",
       "      <td>Logistics</td>\n",
       "    </tr>\n",
       "    <tr>\n",
       "      <th>7857</th>\n",
       "      <td>7857</td>\n",
       "      <td>0</td>\n",
       "      <td>0</td>\n",
       "      <td>487.5</td>\n",
       "      <td>420.666667</td>\n",
       "      <td>21.0</td>\n",
       "      <td>F</td>\n",
       "      <td>Logistics</td>\n",
       "    </tr>\n",
       "    <tr>\n",
       "      <th>587</th>\n",
       "      <td>587</td>\n",
       "      <td>8</td>\n",
       "      <td>1</td>\n",
       "      <td>458.5</td>\n",
       "      <td>460.111111</td>\n",
       "      <td>57.0</td>\n",
       "      <td>M</td>\n",
       "      <td>Logistics</td>\n",
       "    </tr>\n",
       "    <tr>\n",
       "      <th>7319</th>\n",
       "      <td>7319</td>\n",
       "      <td>9</td>\n",
       "      <td>1</td>\n",
       "      <td>485.5</td>\n",
       "      <td>454.666667</td>\n",
       "      <td>65.0</td>\n",
       "      <td>M</td>\n",
       "      <td>Logistics</td>\n",
       "    </tr>\n",
       "    <tr>\n",
       "      <th>...</th>\n",
       "      <td>...</td>\n",
       "      <td>...</td>\n",
       "      <td>...</td>\n",
       "      <td>...</td>\n",
       "      <td>...</td>\n",
       "      <td>...</td>\n",
       "      <td>...</td>\n",
       "      <td>...</td>\n",
       "    </tr>\n",
       "    <tr>\n",
       "      <th>1822</th>\n",
       "      <td>1822</td>\n",
       "      <td>4</td>\n",
       "      <td>1</td>\n",
       "      <td>477.0</td>\n",
       "      <td>503.111111</td>\n",
       "      <td>67.0</td>\n",
       "      <td>M</td>\n",
       "      <td>E-commerce</td>\n",
       "    </tr>\n",
       "    <tr>\n",
       "      <th>2622</th>\n",
       "      <td>2622</td>\n",
       "      <td>1</td>\n",
       "      <td>1</td>\n",
       "      <td>518.5</td>\n",
       "      <td>511.111111</td>\n",
       "      <td>35.0</td>\n",
       "      <td>M</td>\n",
       "      <td>E-commerce</td>\n",
       "    </tr>\n",
       "    <tr>\n",
       "      <th>6519</th>\n",
       "      <td>6519</td>\n",
       "      <td>0</td>\n",
       "      <td>0</td>\n",
       "      <td>486.0</td>\n",
       "      <td>418.333333</td>\n",
       "      <td>68.0</td>\n",
       "      <td>M</td>\n",
       "      <td>Logistics</td>\n",
       "    </tr>\n",
       "    <tr>\n",
       "      <th>9054</th>\n",
       "      <td>9054</td>\n",
       "      <td>0</td>\n",
       "      <td>0</td>\n",
       "      <td>483.5</td>\n",
       "      <td>415.888889</td>\n",
       "      <td>54.0</td>\n",
       "      <td>M</td>\n",
       "      <td>Logistics</td>\n",
       "    </tr>\n",
       "    <tr>\n",
       "      <th>7050</th>\n",
       "      <td>7050</td>\n",
       "      <td>0</td>\n",
       "      <td>0</td>\n",
       "      <td>454.0</td>\n",
       "      <td>407.888889</td>\n",
       "      <td>NaN</td>\n",
       "      <td>F</td>\n",
       "      <td>Logistics</td>\n",
       "    </tr>\n",
       "  </tbody>\n",
       "</table>\n",
       "<p>10000 rows × 8 columns</p>\n",
       "</div>"
      ],
      "text/plain": [
       "      user_id  signup_month  treat  pre_spends  post_spends   age gender  \\\n",
       "4567     4567             0      0       486.0   415.000000  68.0      F   \n",
       "8542     8542            11      1       491.0   437.666667  24.0      M   \n",
       "7857     7857             0      0       487.5   420.666667  21.0      F   \n",
       "587       587             8      1       458.5   460.111111  57.0      M   \n",
       "7319     7319             9      1       485.5   454.666667  65.0      M   \n",
       "...       ...           ...    ...         ...          ...   ...    ...   \n",
       "1822     1822             4      1       477.0   503.111111  67.0      M   \n",
       "2622     2622             1      1       518.5   511.111111  35.0      M   \n",
       "6519     6519             0      0       486.0   418.333333  68.0      M   \n",
       "9054     9054             0      0       483.5   415.888889  54.0      M   \n",
       "7050     7050             0      0       454.0   407.888889   NaN      F   \n",
       "\n",
       "        industry  \n",
       "4567   Logistics  \n",
       "8542   Logistics  \n",
       "7857   Logistics  \n",
       "587    Logistics  \n",
       "7319   Logistics  \n",
       "...          ...  \n",
       "1822  E-commerce  \n",
       "2622  E-commerce  \n",
       "6519   Logistics  \n",
       "9054   Logistics  \n",
       "7050   Logistics  \n",
       "\n",
       "[10000 rows x 8 columns]"
      ]
     },
     "execution_count": 18,
     "metadata": {},
     "output_type": "execute_result"
    }
   ],
   "source": [
    "import pandas as pd\n",
    "\n",
    "t = pd.read_csv(\"data.csv\")\n",
    "t.sample(frac=1, random_state=None)"
   ]
  },
  {
   "cell_type": "code",
   "execution_count": null,
   "metadata": {},
   "outputs": [],
   "source": []
  },
  {
   "cell_type": "code",
   "execution_count": null,
   "metadata": {},
   "outputs": [],
   "source": []
  }
 ],
 "metadata": {
  "kernelspec": {
   "display_name": "Python 3",
   "language": "python",
   "name": "python3"
  },
  "language_info": {
   "codemirror_mode": {
    "name": "ipython",
    "version": 3
   },
   "file_extension": ".py",
   "mimetype": "text/x-python",
   "name": "python",
   "nbconvert_exporter": "python",
   "pygments_lexer": "ipython3",
   "version": "3.10.11"
  }
 },
 "nbformat": 4,
 "nbformat_minor": 2
}
