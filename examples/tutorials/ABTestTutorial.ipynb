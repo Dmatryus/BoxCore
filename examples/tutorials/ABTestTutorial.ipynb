{
 "cells": [
  {
   "cell_type": "code",
   "execution_count": 1,
   "id": "initial_id",
   "metadata": {
    "collapsed": true,
    "ExecuteTime": {
     "end_time": "2024-05-24T09:12:43.705230800Z",
     "start_time": "2024-05-24T09:12:40.112671300Z"
    }
   },
   "outputs": [
    {
     "name": "stderr",
     "output_type": "stream",
     "text": [
      "C:\\Users\\User\\AppData\\Local\\Programs\\Python\\Python310\\lib\\site-packages\\tqdm\\auto.py:21: TqdmWarning: IProgress not found. Please update jupyter and ipywidgets. See https://ipywidgets.readthedocs.io/en/stable/user_install.html\n",
      "  from .autonotebook import tqdm as notebook_tqdm\n"
     ]
    }
   ],
   "source": [
    "from hypex.dataset import Dataset, ExperimentData, InfoRole, TreatmentRole, TargetRole\n",
    "from hypex.experiments.ab import AB_TEST "
   ]
  },
  {
   "cell_type": "code",
   "outputs": [
    {
     "data": {
      "text/plain": "      user_id  signup_month  treat  pre_spends  post_spends   age gender  \\\n0           0             0    0.0       488.0   414.444444   NaN      M   \n1           1             8    1.0       512.5   462.222222  26.0    NaN   \n2           2             7    1.0       483.0   479.444444  25.0      M   \n3           3             0    1.0       501.5   424.333333  39.0      M   \n4           4             1    2.0       543.0   514.555556  18.0      F   \n...       ...           ...    ...         ...          ...   ...    ...   \n9995     9995            10    1.0       538.5   450.444444  42.0      M   \n9996     9996             0    0.0       500.5   430.888889  26.0      F   \n9997     9997             3    1.0       473.0   534.111111  22.0      F   \n9998     9998             2    1.0       495.0   523.222222  67.0      F   \n9999     9999             7    1.0       508.0   475.888889  38.0      F   \n\n        industry  \n0     E-commerce  \n1     E-commerce  \n2      Logistics  \n3     E-commerce  \n4     E-commerce  \n...          ...  \n9995   Logistics  \n9996   Logistics  \n9997  E-commerce  \n9998  E-commerce  \n9999  E-commerce  \n\n[10000 rows x 8 columns]"
     },
     "execution_count": 2,
     "metadata": {},
     "output_type": "execute_result"
    }
   ],
   "source": [
    "data = Dataset(\n",
    "    roles={\n",
    "        \"user_id\": InfoRole(int),\n",
    "        \"treat\": TreatmentRole(),\n",
    "        \"pre_spends\": TargetRole(),\n",
    "        \"post_spends\": TargetRole()\n",
    "    }, data=\"data1.csv\",\n",
    ")\n",
    "data"
   ],
   "metadata": {
    "collapsed": false,
    "ExecuteTime": {
     "end_time": "2024-05-24T09:12:43.822424500Z",
     "start_time": "2024-05-24T09:12:43.708648100Z"
    }
   },
   "id": "904175ab484d1690",
   "execution_count": 2
  },
  {
   "cell_type": "code",
   "outputs": [],
   "source": [
    "test = AB_TEST\n",
    "ed = ExperimentData(data)\n",
    "result = test.execute(ed)"
   ],
   "metadata": {
    "collapsed": false,
    "ExecuteTime": {
     "end_time": "2024-05-24T09:12:44.727815400Z",
     "start_time": "2024-05-24T09:12:43.819220800Z"
    }
   },
   "id": "a40f5762f0b37a0a",
   "execution_count": 3
  },
  {
   "cell_type": "code",
   "outputs": [
    {
     "data": {
      "text/plain": "{'GroupSizes┴┴':                        1.0          2.0\n control size    4931.00000  4931.000000\n test size       5061.00000     7.000000\n control size %    49.34948    99.858242\n test size %       50.65052     0.141758,\n 'GroupDifference┴┴':                                  1.0         2.0\n post_spends control mean  420.046779  420.046779\n post_spends test mean     483.463479  440.571429\n post_spends difference     63.416700   20.524650\n post_spends difference %   15.097533    4.886277,\n 'TTest┴┴':               p-value   statistic  pass\n TTest┴┴  0.000000e+00 -135.447367  True\n TTest┴┴  6.358305e-13   -7.211824  True,\n 'UTest┴┴':           p-value  statistic   pass\n UTest┴┴  0.000000   409655.0   True\n UTest┴┴  0.109575    11227.0  False,\n 'ABAnalyzer┴┴MultiTest':    accepted hypothesis\n 0                    3,\n 'ABAnalyzer┴┴':    TTest p-value  TTest pass  UTest p-value  UTest pass\n 0   3.179153e-13         1.0       0.054787         0.5}"
     },
     "execution_count": 4,
     "metadata": {},
     "output_type": "execute_result"
    }
   ],
   "source": [
    "result.analysis_tables"
   ],
   "metadata": {
    "collapsed": false,
    "ExecuteTime": {
     "end_time": "2024-05-24T09:12:44.806884300Z",
     "start_time": "2024-05-24T09:12:44.731532300Z"
    }
   },
   "id": "89a8898c35681e97",
   "execution_count": 4
  },
  {
   "cell_type": "code",
   "outputs": [
    {
     "data": {
      "text/plain": "{'1.0 control size': 4931.0,\n '1.0 test size': 5061.0,\n '1.0 control size %': 49.349479583666934,\n '1.0 test size %': 50.650520416333066,\n '2.0 control size': 4931.0,\n '2.0 test size': 7.0,\n '2.0 control size %': 99.85824220332118,\n '2.0 test size %': 0.14175779667881733,\n '1.0 post_spends control mean': 420.04677888190355,\n '1.0 post_spends test mean': 483.46347889086485,\n '1.0 post_spends difference': 63.4167000089613,\n '1.0 post_spends difference %': 15.097532750463238,\n '2.0 post_spends control mean': 420.04677888190355,\n '2.0 post_spends test mean': 440.57142857142856,\n '2.0 post_spends difference': 20.524649689525006,\n '2.0 post_spends difference %': 4.886277129456462,\n 'accepted hypothesis': 3}"
     },
     "execution_count": 5,
     "metadata": {},
     "output_type": "execute_result"
    }
   ],
   "source": [
    "from hypex.reporters import ABDictReporter\n",
    "\n",
    "ABDictReporter().report(result)"
   ],
   "metadata": {
    "collapsed": false,
    "ExecuteTime": {
     "end_time": "2024-05-24T09:12:44.824579400Z",
     "start_time": "2024-05-24T09:12:44.774090900Z"
    }
   },
   "id": "4936140f9c373dd3",
   "execution_count": 5
  }
 ],
 "metadata": {
  "kernelspec": {
   "display_name": "Python 3",
   "language": "python",
   "name": "python3"
  },
  "language_info": {
   "codemirror_mode": {
    "name": "ipython",
    "version": 2
   },
   "file_extension": ".py",
   "mimetype": "text/x-python",
   "name": "python",
   "nbconvert_exporter": "python",
   "pygments_lexer": "ipython2",
   "version": "2.7.6"
  }
 },
 "nbformat": 4,
 "nbformat_minor": 5
}
