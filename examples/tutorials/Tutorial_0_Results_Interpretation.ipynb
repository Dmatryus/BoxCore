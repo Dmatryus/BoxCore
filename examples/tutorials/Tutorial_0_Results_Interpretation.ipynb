{
 "cells": [
  {
   "cell_type": "markdown",
   "source": [
    "# Tutorial 3: Results of Matching\n",
    "\n",
    "In this tutorial you will understand how to interpret results of matching."
   ],
   "metadata": {
    "collapsed": false
   },
   "id": "59127a426dc5e28d"
  },
  {
   "cell_type": "code",
   "execution_count": 18,
   "id": "initial_id",
   "metadata": {
    "collapsed": true,
    "ExecuteTime": {
     "end_time": "2023-11-23T07:49:33.655029700Z",
     "start_time": "2023-11-23T07:49:33.636570Z"
    }
   },
   "outputs": [],
   "source": [
    "import warnings \n",
    "from hypex import Matcher\n",
    "from hypex.dataset import DataGenerator\n",
    "\n",
    "warnings.simplefilter(action='ignore', category=FutureWarning)"
   ]
  },
  {
   "cell_type": "code",
   "execution_count": 19,
   "outputs": [],
   "source": [
    "sample_data = DataGenerator()"
   ],
   "metadata": {
    "collapsed": false,
    "ExecuteTime": {
     "end_time": "2023-11-23T07:49:37.302480300Z",
     "start_time": "2023-11-23T07:49:37.258433Z"
    }
   },
   "id": "bd06ad91f1ee33b4"
  },
  {
   "cell_type": "code",
   "execution_count": 20,
   "outputs": [
    {
     "data": {
      "text/plain": "      info_col_1 info_col_2 feature_col_1 feature_col_2  feature_col_3  \\\n0           8077          O          male        Credit       0.305621   \n1          14527          O          male       Deposit      -0.933765   \n2           9124          K        female    Investment       1.097520   \n3           5191          K          male        Credit      -1.390627   \n4           7636          K          male        Credit       1.270699   \n...          ...        ...           ...           ...            ...   \n4995        2851          O          male    Investment      -1.183287   \n4996        8644          O        female    Investment       0.478477   \n4997        2200          K        female        Credit       0.341917   \n4998        1393          K          male       Deposit      -0.183003   \n4999        5359          O          male       Deposit      -2.345591   \n\n      feature_col_4  feature_col_5  feature_col_6  treatment_1  outcome_1  \n0          1.376506      -1.885554            1.0          0.0   1.760076  \n1         -1.143372       1.940034            1.0          0.0   1.255280  \n2          1.422774       1.171370            0.0          0.0   4.096455  \n3          1.313302      -0.664406            0.0          1.0   0.705794  \n4          1.970219       0.329824            3.0          0.0   7.636827  \n...             ...            ...            ...          ...        ...  \n4995      -0.585822       1.797529            3.0          1.0   7.516132  \n4996      -0.129496       3.083552            2.0          1.0  11.526241  \n4997       0.157617      -0.101076            3.0          0.0   3.667932  \n4998       1.505163      -0.929622            2.0          0.0   3.018969  \n4999       1.600512      -0.407026            1.0          1.0   0.755559  \n\n[5000 rows x 10 columns]",
      "text/html": "<div>\n<style scoped>\n    .dataframe tbody tr th:only-of-type {\n        vertical-align: middle;\n    }\n\n    .dataframe tbody tr th {\n        vertical-align: top;\n    }\n\n    .dataframe thead th {\n        text-align: right;\n    }\n</style>\n<table border=\"1\" class=\"dataframe\">\n  <thead>\n    <tr style=\"text-align: right;\">\n      <th></th>\n      <th>info_col_1</th>\n      <th>info_col_2</th>\n      <th>feature_col_1</th>\n      <th>feature_col_2</th>\n      <th>feature_col_3</th>\n      <th>feature_col_4</th>\n      <th>feature_col_5</th>\n      <th>feature_col_6</th>\n      <th>treatment_1</th>\n      <th>outcome_1</th>\n    </tr>\n  </thead>\n  <tbody>\n    <tr>\n      <th>0</th>\n      <td>8077</td>\n      <td>O</td>\n      <td>male</td>\n      <td>Credit</td>\n      <td>0.305621</td>\n      <td>1.376506</td>\n      <td>-1.885554</td>\n      <td>1.0</td>\n      <td>0.0</td>\n      <td>1.760076</td>\n    </tr>\n    <tr>\n      <th>1</th>\n      <td>14527</td>\n      <td>O</td>\n      <td>male</td>\n      <td>Deposit</td>\n      <td>-0.933765</td>\n      <td>-1.143372</td>\n      <td>1.940034</td>\n      <td>1.0</td>\n      <td>0.0</td>\n      <td>1.255280</td>\n    </tr>\n    <tr>\n      <th>2</th>\n      <td>9124</td>\n      <td>K</td>\n      <td>female</td>\n      <td>Investment</td>\n      <td>1.097520</td>\n      <td>1.422774</td>\n      <td>1.171370</td>\n      <td>0.0</td>\n      <td>0.0</td>\n      <td>4.096455</td>\n    </tr>\n    <tr>\n      <th>3</th>\n      <td>5191</td>\n      <td>K</td>\n      <td>male</td>\n      <td>Credit</td>\n      <td>-1.390627</td>\n      <td>1.313302</td>\n      <td>-0.664406</td>\n      <td>0.0</td>\n      <td>1.0</td>\n      <td>0.705794</td>\n    </tr>\n    <tr>\n      <th>4</th>\n      <td>7636</td>\n      <td>K</td>\n      <td>male</td>\n      <td>Credit</td>\n      <td>1.270699</td>\n      <td>1.970219</td>\n      <td>0.329824</td>\n      <td>3.0</td>\n      <td>0.0</td>\n      <td>7.636827</td>\n    </tr>\n    <tr>\n      <th>...</th>\n      <td>...</td>\n      <td>...</td>\n      <td>...</td>\n      <td>...</td>\n      <td>...</td>\n      <td>...</td>\n      <td>...</td>\n      <td>...</td>\n      <td>...</td>\n      <td>...</td>\n    </tr>\n    <tr>\n      <th>4995</th>\n      <td>2851</td>\n      <td>O</td>\n      <td>male</td>\n      <td>Investment</td>\n      <td>-1.183287</td>\n      <td>-0.585822</td>\n      <td>1.797529</td>\n      <td>3.0</td>\n      <td>1.0</td>\n      <td>7.516132</td>\n    </tr>\n    <tr>\n      <th>4996</th>\n      <td>8644</td>\n      <td>O</td>\n      <td>female</td>\n      <td>Investment</td>\n      <td>0.478477</td>\n      <td>-0.129496</td>\n      <td>3.083552</td>\n      <td>2.0</td>\n      <td>1.0</td>\n      <td>11.526241</td>\n    </tr>\n    <tr>\n      <th>4997</th>\n      <td>2200</td>\n      <td>K</td>\n      <td>female</td>\n      <td>Credit</td>\n      <td>0.341917</td>\n      <td>0.157617</td>\n      <td>-0.101076</td>\n      <td>3.0</td>\n      <td>0.0</td>\n      <td>3.667932</td>\n    </tr>\n    <tr>\n      <th>4998</th>\n      <td>1393</td>\n      <td>K</td>\n      <td>male</td>\n      <td>Deposit</td>\n      <td>-0.183003</td>\n      <td>1.505163</td>\n      <td>-0.929622</td>\n      <td>2.0</td>\n      <td>0.0</td>\n      <td>3.018969</td>\n    </tr>\n    <tr>\n      <th>4999</th>\n      <td>5359</td>\n      <td>O</td>\n      <td>male</td>\n      <td>Deposit</td>\n      <td>-2.345591</td>\n      <td>1.600512</td>\n      <td>-0.407026</td>\n      <td>1.0</td>\n      <td>1.0</td>\n      <td>0.755559</td>\n    </tr>\n  </tbody>\n</table>\n<p>5000 rows × 10 columns</p>\n</div>"
     },
     "execution_count": 20,
     "metadata": {},
     "output_type": "execute_result"
    }
   ],
   "source": [
    "sample_data.df"
   ],
   "metadata": {
    "collapsed": false,
    "ExecuteTime": {
     "end_time": "2023-11-23T07:49:37.697429700Z",
     "start_time": "2023-11-23T07:49:37.637510200Z"
    }
   },
   "id": "5280ce40ac6c03b"
  },
  {
   "cell_type": "markdown",
   "source": [
    "## 1. Matching process\n",
    "\n",
    "If you want to understand how Matcher works, visit [simple matching tutorial](./Tutorial_1_Simple_Matching.ipynb)."
   ],
   "metadata": {
    "collapsed": false
   },
   "id": "c4272b48df925aa6"
  },
  {
   "cell_type": "code",
   "execution_count": 21,
   "outputs": [],
   "source": [
    "info_col = [sample_data.info_col_names[0]]\n",
    "\n",
    "outcome = sample_data.outcome_name[0]\n",
    "treatment = sample_data.treatment_name[0]"
   ],
   "metadata": {
    "collapsed": false,
    "ExecuteTime": {
     "end_time": "2023-11-23T07:49:57.585006200Z",
     "start_time": "2023-11-23T07:49:57.551159400Z"
    }
   },
   "id": "1b43563d32ff64aa"
  },
  {
   "cell_type": "code",
   "execution_count": 22,
   "outputs": [
    {
     "name": "stderr",
     "output_type": "stream",
     "text": [
      "Get treated index: 100%|██████████| 5000/5000 [00:00<00:00, 32720.45it/s]\n"
     ]
    }
   ],
   "source": [
    "model = Matcher(input_data=sample_data.df, outcome=outcome, treatment=treatment, \n",
    "                info_col=info_col)\n",
    "results, quality_results, df_matched = model.estimate()"
   ],
   "metadata": {
    "collapsed": false,
    "ExecuteTime": {
     "end_time": "2023-11-23T07:50:00.766735800Z",
     "start_time": "2023-11-23T07:49:59.839637900Z"
    }
   },
   "id": "70b2a9e73e8a1506"
  },
  {
   "cell_type": "markdown",
   "source": [
    "## 2. Results interpretation\n",
    "### 2.0 ATE, ATC, ATT \n",
    "\n",
    "For correct results' interpretation you may have main and alternative hypotheses before the experiment.\n",
    "\n",
    "**ATC (Average Treatment Effect on the Control)** - is the average of treatment effects for people who were assigned to control.\n",
    "**ATT (Average Treatment Effect on the Treated)** - is the average of treatment effects for people who were assigned to the treatment. \n",
    "**ATE (Average Treatment Effect)** - the average of treatment effects or weighted average value between ATC and ATT \n",
    "\n",
    "\n",
    "If **ATE > 0**, it means that the treatment produces the desired results or improvement compared to a control group or baseline. \n"
   ],
   "metadata": {
    "collapsed": false
   },
   "id": "4034676068c455f4"
  },
  {
   "cell_type": "code",
   "execution_count": 23,
   "outputs": [
    {
     "data": {
      "text/plain": "     effect_size   std_err  p-val  ci_lower  ci_upper    outcome\nATE     3.431695  0.081789    0.0  3.271388  3.592001  outcome_1\nATC     3.430632  0.090696    0.0  3.252867  3.608397  outcome_1\nATT     3.432778  0.091197    0.0  3.254031  3.611524  outcome_1",
      "text/html": "<div>\n<style scoped>\n    .dataframe tbody tr th:only-of-type {\n        vertical-align: middle;\n    }\n\n    .dataframe tbody tr th {\n        vertical-align: top;\n    }\n\n    .dataframe thead th {\n        text-align: right;\n    }\n</style>\n<table border=\"1\" class=\"dataframe\">\n  <thead>\n    <tr style=\"text-align: right;\">\n      <th></th>\n      <th>effect_size</th>\n      <th>std_err</th>\n      <th>p-val</th>\n      <th>ci_lower</th>\n      <th>ci_upper</th>\n      <th>outcome</th>\n    </tr>\n  </thead>\n  <tbody>\n    <tr>\n      <th>ATE</th>\n      <td>3.431695</td>\n      <td>0.081789</td>\n      <td>0.0</td>\n      <td>3.271388</td>\n      <td>3.592001</td>\n      <td>outcome_1</td>\n    </tr>\n    <tr>\n      <th>ATC</th>\n      <td>3.430632</td>\n      <td>0.090696</td>\n      <td>0.0</td>\n      <td>3.252867</td>\n      <td>3.608397</td>\n      <td>outcome_1</td>\n    </tr>\n    <tr>\n      <th>ATT</th>\n      <td>3.432778</td>\n      <td>0.091197</td>\n      <td>0.0</td>\n      <td>3.254031</td>\n      <td>3.611524</td>\n      <td>outcome_1</td>\n    </tr>\n  </tbody>\n</table>\n</div>"
     },
     "execution_count": 23,
     "metadata": {},
     "output_type": "execute_result"
    }
   ],
   "source": [
    "results"
   ],
   "metadata": {
    "collapsed": false,
    "ExecuteTime": {
     "end_time": "2023-11-23T07:50:01.772325Z",
     "start_time": "2023-11-23T07:50:01.708996400Z"
    }
   },
   "id": "e53777fe46c8f5c8"
  },
  {
   "cell_type": "markdown",
   "source": [
    "### 2.1 PSI \n",
    "Population Stability Index\n",
    "\n",
    "PSI < 0.1 - no change\n",
    "0.1 <= PSI < 0.2 – minor changes are required\n",
    "PSI >= 0.2 - significant changes are required\n"
   ],
   "metadata": {
    "collapsed": false
   },
   "id": "f059a00244369186"
  },
  {
   "cell_type": "code",
   "execution_count": 13,
   "outputs": [
    {
     "data": {
      "text/plain": "                     column_treated  anomaly_score_treated  \\\n0        feature_col_1_male_treated                   0.00   \n1     feature_col_2_Deposit_treated                   0.00   \n2  feature_col_2_Investment_treated                   0.00   \n3             feature_col_3_treated                   0.01   \n4             feature_col_4_treated                   0.02   \n5             feature_col_5_treated                   0.01   \n6             feature_col_6_treated                   0.00   \n\n  check_result_treated                    column_untreated  \\\n0                   OK        feature_col_1_male_untreated   \n1                   OK     feature_col_2_Deposit_untreated   \n2                   OK  feature_col_2_Investment_untreated   \n3                   OK             feature_col_3_untreated   \n4                   OK             feature_col_4_untreated   \n5                   OK             feature_col_5_untreated   \n6                   OK             feature_col_6_untreated   \n\n   anomaly_score_untreated check_result_untreated  \n0                     0.00                     OK  \n1                     0.00                     OK  \n2                     0.00                     OK  \n3                     0.02                     OK  \n4                     0.02                     OK  \n5                     0.01                     OK  \n6                     0.00                     OK  ",
      "text/html": "<div>\n<style scoped>\n    .dataframe tbody tr th:only-of-type {\n        vertical-align: middle;\n    }\n\n    .dataframe tbody tr th {\n        vertical-align: top;\n    }\n\n    .dataframe thead th {\n        text-align: right;\n    }\n</style>\n<table border=\"1\" class=\"dataframe\">\n  <thead>\n    <tr style=\"text-align: right;\">\n      <th></th>\n      <th>column_treated</th>\n      <th>anomaly_score_treated</th>\n      <th>check_result_treated</th>\n      <th>column_untreated</th>\n      <th>anomaly_score_untreated</th>\n      <th>check_result_untreated</th>\n    </tr>\n  </thead>\n  <tbody>\n    <tr>\n      <th>0</th>\n      <td>feature_col_1_male_treated</td>\n      <td>0.00</td>\n      <td>OK</td>\n      <td>feature_col_1_male_untreated</td>\n      <td>0.00</td>\n      <td>OK</td>\n    </tr>\n    <tr>\n      <th>1</th>\n      <td>feature_col_2_Deposit_treated</td>\n      <td>0.00</td>\n      <td>OK</td>\n      <td>feature_col_2_Deposit_untreated</td>\n      <td>0.00</td>\n      <td>OK</td>\n    </tr>\n    <tr>\n      <th>2</th>\n      <td>feature_col_2_Investment_treated</td>\n      <td>0.00</td>\n      <td>OK</td>\n      <td>feature_col_2_Investment_untreated</td>\n      <td>0.00</td>\n      <td>OK</td>\n    </tr>\n    <tr>\n      <th>3</th>\n      <td>feature_col_3_treated</td>\n      <td>0.01</td>\n      <td>OK</td>\n      <td>feature_col_3_untreated</td>\n      <td>0.02</td>\n      <td>OK</td>\n    </tr>\n    <tr>\n      <th>4</th>\n      <td>feature_col_4_treated</td>\n      <td>0.02</td>\n      <td>OK</td>\n      <td>feature_col_4_untreated</td>\n      <td>0.02</td>\n      <td>OK</td>\n    </tr>\n    <tr>\n      <th>5</th>\n      <td>feature_col_5_treated</td>\n      <td>0.01</td>\n      <td>OK</td>\n      <td>feature_col_5_untreated</td>\n      <td>0.01</td>\n      <td>OK</td>\n    </tr>\n    <tr>\n      <th>6</th>\n      <td>feature_col_6_treated</td>\n      <td>0.00</td>\n      <td>OK</td>\n      <td>feature_col_6_untreated</td>\n      <td>0.00</td>\n      <td>OK</td>\n    </tr>\n  </tbody>\n</table>\n</div>"
     },
     "execution_count": 13,
     "metadata": {},
     "output_type": "execute_result"
    }
   ],
   "source": [
    "quality_results['psi']"
   ],
   "metadata": {
    "collapsed": false,
    "ExecuteTime": {
     "end_time": "2023-11-23T07:46:28.147875200Z",
     "start_time": "2023-11-23T07:46:28.081589100Z"
    }
   },
   "id": "3c90404b1ebc9973"
  },
  {
   "cell_type": "markdown",
   "source": [
    "### 2.2 KS_test \n",
    "\n",
    "text"
   ],
   "metadata": {
    "collapsed": false
   },
   "id": "2bbdf4c565f8cb31"
  },
  {
   "cell_type": "code",
   "execution_count": 15,
   "outputs": [
    {
     "data": {
      "text/plain": "               match_control_to_treat  match_treat_to_control\nfeature_col_3                0.105390                0.125298\nfeature_col_4                0.213033                0.195898\nfeature_col_5                0.470989                0.162552\nfeature_col_6                1.000000                1.000000",
      "text/html": "<div>\n<style scoped>\n    .dataframe tbody tr th:only-of-type {\n        vertical-align: middle;\n    }\n\n    .dataframe tbody tr th {\n        vertical-align: top;\n    }\n\n    .dataframe thead th {\n        text-align: right;\n    }\n</style>\n<table border=\"1\" class=\"dataframe\">\n  <thead>\n    <tr style=\"text-align: right;\">\n      <th></th>\n      <th>match_control_to_treat</th>\n      <th>match_treat_to_control</th>\n    </tr>\n  </thead>\n  <tbody>\n    <tr>\n      <th>feature_col_3</th>\n      <td>0.105390</td>\n      <td>0.125298</td>\n    </tr>\n    <tr>\n      <th>feature_col_4</th>\n      <td>0.213033</td>\n      <td>0.195898</td>\n    </tr>\n    <tr>\n      <th>feature_col_5</th>\n      <td>0.470989</td>\n      <td>0.162552</td>\n    </tr>\n    <tr>\n      <th>feature_col_6</th>\n      <td>1.000000</td>\n      <td>1.000000</td>\n    </tr>\n  </tbody>\n</table>\n</div>"
     },
     "execution_count": 15,
     "metadata": {},
     "output_type": "execute_result"
    }
   ],
   "source": [
    "quality_results['ks_test']"
   ],
   "metadata": {
    "collapsed": false,
    "ExecuteTime": {
     "end_time": "2023-11-23T07:47:06.626945700Z",
     "start_time": "2023-11-23T07:47:06.579757200Z"
    }
   },
   "id": "351694a62b1c4430"
  },
  {
   "cell_type": "markdown",
   "source": [
    "### 2.3 SMD\n",
    "\n",
    "text"
   ],
   "metadata": {
    "collapsed": false
   },
   "id": "2def2c9c9bd9e011"
  },
  {
   "cell_type": "code",
   "execution_count": 16,
   "outputs": [
    {
     "data": {
      "text/plain": "               match_control_to_treat  match_treat_to_control\nfeature_col_3                0.002974                0.003194\nfeature_col_4                0.000296                0.000736\nfeature_col_5                0.004730                0.004899\nfeature_col_6                0.006338                0.005453",
      "text/html": "<div>\n<style scoped>\n    .dataframe tbody tr th:only-of-type {\n        vertical-align: middle;\n    }\n\n    .dataframe tbody tr th {\n        vertical-align: top;\n    }\n\n    .dataframe thead th {\n        text-align: right;\n    }\n</style>\n<table border=\"1\" class=\"dataframe\">\n  <thead>\n    <tr style=\"text-align: right;\">\n      <th></th>\n      <th>match_control_to_treat</th>\n      <th>match_treat_to_control</th>\n    </tr>\n  </thead>\n  <tbody>\n    <tr>\n      <th>feature_col_3</th>\n      <td>0.002974</td>\n      <td>0.003194</td>\n    </tr>\n    <tr>\n      <th>feature_col_4</th>\n      <td>0.000296</td>\n      <td>0.000736</td>\n    </tr>\n    <tr>\n      <th>feature_col_5</th>\n      <td>0.004730</td>\n      <td>0.004899</td>\n    </tr>\n    <tr>\n      <th>feature_col_6</th>\n      <td>0.006338</td>\n      <td>0.005453</td>\n    </tr>\n  </tbody>\n</table>\n</div>"
     },
     "execution_count": 16,
     "metadata": {},
     "output_type": "execute_result"
    }
   ],
   "source": [
    "quality_results['smd']"
   ],
   "metadata": {
    "collapsed": false,
    "ExecuteTime": {
     "end_time": "2023-11-23T07:47:33.591066200Z",
     "start_time": "2023-11-23T07:47:33.540643200Z"
    }
   },
   "id": "d1a94ff92952db8f"
  },
  {
   "cell_type": "markdown",
   "source": [
    "### 2.4 Repeats\n",
    "\n",
    "text"
   ],
   "metadata": {
    "collapsed": false
   },
   "id": "b820e42c0d0afd63"
  },
  {
   "cell_type": "code",
   "execution_count": 17,
   "outputs": [
    {
     "data": {
      "text/plain": "{'match_control_to_treat': 0.6, 'match_treat_to_control': 0.6}"
     },
     "execution_count": 17,
     "metadata": {},
     "output_type": "execute_result"
    }
   ],
   "source": [
    "quality_results['repeats']"
   ],
   "metadata": {
    "collapsed": false,
    "ExecuteTime": {
     "end_time": "2023-11-23T07:47:48.085299400Z",
     "start_time": "2023-11-23T07:47:48.020650500Z"
    }
   },
   "id": "6be2c140bd5f5f6a"
  }
 ],
 "metadata": {
  "kernelspec": {
   "display_name": "Python 3",
   "language": "python",
   "name": "python3"
  },
  "language_info": {
   "codemirror_mode": {
    "name": "ipython",
    "version": 2
   },
   "file_extension": ".py",
   "mimetype": "text/x-python",
   "name": "python",
   "nbconvert_exporter": "python",
   "pygments_lexer": "ipython2",
   "version": "2.7.6"
  }
 },
 "nbformat": 4,
 "nbformat_minor": 5
}
