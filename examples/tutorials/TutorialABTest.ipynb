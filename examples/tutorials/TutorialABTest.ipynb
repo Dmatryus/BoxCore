{
 "cells": [
  {
   "cell_type": "code",
   "execution_count": 1,
   "id": "initial_id",
   "metadata": {
    "collapsed": true,
    "ExecuteTime": {
     "end_time": "2024-05-02T14:24:28.319220900Z",
     "start_time": "2024-05-02T14:24:26.452918400Z"
    }
   },
   "outputs": [],
   "source": [
    "from hypex.dataset import Dataset, ExperimentData, InfoRole, TreatmentRole, TargetRole\n",
    "from hypex.experiments.ab import AB_TEST"
   ]
  },
  {
   "cell_type": "code",
   "outputs": [
    {
     "data": {
      "text/plain": "      user_id  signup_month  treat  pre_spends  post_spends   age gender  \\\n0           0             0      0       488.0   414.444444   NaN      M   \n1           1             8      1       512.5   462.222222  26.0    NaN   \n2           2             7      1       483.0   479.444444  25.0      M   \n3           3             0      0       501.5   424.333333  39.0      M   \n4           4             1      1       543.0   514.555556  18.0      F   \n...       ...           ...    ...         ...          ...   ...    ...   \n9995     9995            10      1       538.5   450.444444  42.0      M   \n9996     9996             0      0       500.5   430.888889  26.0      F   \n9997     9997             3      1       473.0   534.111111  22.0      F   \n9998     9998             2      1       495.0   523.222222  67.0      F   \n9999     9999             7      1       508.0   475.888889  38.0      F   \n\n        industry  \n0     E-commerce  \n1     E-commerce  \n2      Logistics  \n3     E-commerce  \n4     E-commerce  \n...          ...  \n9995   Logistics  \n9996   Logistics  \n9997  E-commerce  \n9998  E-commerce  \n9999  E-commerce  \n\n[10000 rows x 8 columns]"
     },
     "execution_count": 2,
     "metadata": {},
     "output_type": "execute_result"
    }
   ],
   "source": [
    "data = Dataset(\n",
    "    roles={\n",
    "        \"user_id\": InfoRole(int),\n",
    "        \"treat\": TreatmentRole(int),\n",
    "        \"pre_spends\": TargetRole(),\n",
    "        \"post_spends\": TargetRole()\n",
    "    }, data=\"data.csv\",\n",
    ")\n",
    "data"
   ],
   "metadata": {
    "collapsed": false,
    "ExecuteTime": {
     "end_time": "2024-05-02T14:24:28.367607Z",
     "start_time": "2024-05-02T14:24:28.325019600Z"
    }
   },
   "id": "904175ab484d1690",
   "execution_count": 2
  },
  {
   "cell_type": "code",
   "outputs": [
    {
     "name": "stderr",
     "output_type": "stream",
     "text": [
      "C:\\Users\\User\\PycharmProjects\\HypEx\\hypex\\dataset\\backends\\pandas_backend.py:81: SettingWithCopyWarning: \n",
      "A value is trying to be set on a copy of a slice from a DataFrame.\n",
      "Try using .loc[row_indexer,col_indexer] = value instead\n",
      "\n",
      "See the caveats in the documentation: https://pandas.pydata.org/pandas-docs/stable/user_guide/indexing.html#returning-a-view-versus-a-copy\n",
      "  self.data[column_name] = self.data[column_name].astype(type_name)\n",
      "C:\\Users\\User\\PycharmProjects\\HypEx\\hypex\\dataset\\backends\\pandas_backend.py:81: SettingWithCopyWarning: \n",
      "A value is trying to be set on a copy of a slice from a DataFrame.\n",
      "Try using .loc[row_indexer,col_indexer] = value instead\n",
      "\n",
      "See the caveats in the documentation: https://pandas.pydata.org/pandas-docs/stable/user_guide/indexing.html#returning-a-view-versus-a-copy\n",
      "  self.data[column_name] = self.data[column_name].astype(type_name)\n",
      "C:\\Users\\User\\PycharmProjects\\HypEx\\hypex\\dataset\\backends\\pandas_backend.py:81: SettingWithCopyWarning: \n",
      "A value is trying to be set on a copy of a slice from a DataFrame.\n",
      "Try using .loc[row_indexer,col_indexer] = value instead\n",
      "\n",
      "See the caveats in the documentation: https://pandas.pydata.org/pandas-docs/stable/user_guide/indexing.html#returning-a-view-versus-a-copy\n",
      "  self.data[column_name] = self.data[column_name].astype(type_name)\n",
      "C:\\Users\\User\\PycharmProjects\\HypEx\\hypex\\dataset\\backends\\pandas_backend.py:81: SettingWithCopyWarning: \n",
      "A value is trying to be set on a copy of a slice from a DataFrame.\n",
      "Try using .loc[row_indexer,col_indexer] = value instead\n",
      "\n",
      "See the caveats in the documentation: https://pandas.pydata.org/pandas-docs/stable/user_guide/indexing.html#returning-a-view-versus-a-copy\n",
      "  self.data[column_name] = self.data[column_name].astype(type_name)\n",
      "C:\\Users\\User\\PycharmProjects\\HypEx\\hypex\\dataset\\backends\\pandas_backend.py:81: SettingWithCopyWarning: \n",
      "A value is trying to be set on a copy of a slice from a DataFrame.\n",
      "Try using .loc[row_indexer,col_indexer] = value instead\n",
      "\n",
      "See the caveats in the documentation: https://pandas.pydata.org/pandas-docs/stable/user_guide/indexing.html#returning-a-view-versus-a-copy\n",
      "  self.data[column_name] = self.data[column_name].astype(type_name)\n",
      "C:\\Users\\User\\PycharmProjects\\HypEx\\hypex\\dataset\\backends\\pandas_backend.py:81: SettingWithCopyWarning: \n",
      "A value is trying to be set on a copy of a slice from a DataFrame.\n",
      "Try using .loc[row_indexer,col_indexer] = value instead\n",
      "\n",
      "See the caveats in the documentation: https://pandas.pydata.org/pandas-docs/stable/user_guide/indexing.html#returning-a-view-versus-a-copy\n",
      "  self.data[column_name] = self.data[column_name].astype(type_name)\n",
      "C:\\Users\\User\\PycharmProjects\\HypEx\\hypex\\dataset\\backends\\pandas_backend.py:81: SettingWithCopyWarning: \n",
      "A value is trying to be set on a copy of a slice from a DataFrame.\n",
      "Try using .loc[row_indexer,col_indexer] = value instead\n",
      "\n",
      "See the caveats in the documentation: https://pandas.pydata.org/pandas-docs/stable/user_guide/indexing.html#returning-a-view-versus-a-copy\n",
      "  self.data[column_name] = self.data[column_name].astype(type_name)\n",
      "C:\\Users\\User\\PycharmProjects\\HypEx\\hypex\\dataset\\backends\\pandas_backend.py:81: SettingWithCopyWarning: \n",
      "A value is trying to be set on a copy of a slice from a DataFrame.\n",
      "Try using .loc[row_indexer,col_indexer] = value instead\n",
      "\n",
      "See the caveats in the documentation: https://pandas.pydata.org/pandas-docs/stable/user_guide/indexing.html#returning-a-view-versus-a-copy\n",
      "  self.data[column_name] = self.data[column_name].astype(type_name)\n",
      "C:\\Users\\User\\PycharmProjects\\HypEx\\hypex\\dataset\\backends\\pandas_backend.py:81: SettingWithCopyWarning: \n",
      "A value is trying to be set on a copy of a slice from a DataFrame.\n",
      "Try using .loc[row_indexer,col_indexer] = value instead\n",
      "\n",
      "See the caveats in the documentation: https://pandas.pydata.org/pandas-docs/stable/user_guide/indexing.html#returning-a-view-versus-a-copy\n",
      "  self.data[column_name] = self.data[column_name].astype(type_name)\n",
      "C:\\Users\\User\\PycharmProjects\\HypEx\\hypex\\dataset\\backends\\pandas_backend.py:81: SettingWithCopyWarning: \n",
      "A value is trying to be set on a copy of a slice from a DataFrame.\n",
      "Try using .loc[row_indexer,col_indexer] = value instead\n",
      "\n",
      "See the caveats in the documentation: https://pandas.pydata.org/pandas-docs/stable/user_guide/indexing.html#returning-a-view-versus-a-copy\n",
      "  self.data[column_name] = self.data[column_name].astype(type_name)\n",
      "C:\\Users\\User\\PycharmProjects\\HypEx\\hypex\\dataset\\backends\\pandas_backend.py:81: SettingWithCopyWarning: \n",
      "A value is trying to be set on a copy of a slice from a DataFrame.\n",
      "Try using .loc[row_indexer,col_indexer] = value instead\n",
      "\n",
      "See the caveats in the documentation: https://pandas.pydata.org/pandas-docs/stable/user_guide/indexing.html#returning-a-view-versus-a-copy\n",
      "  self.data[column_name] = self.data[column_name].astype(type_name)\n",
      "C:\\Users\\User\\PycharmProjects\\HypEx\\hypex\\dataset\\backends\\pandas_backend.py:81: SettingWithCopyWarning: \n",
      "A value is trying to be set on a copy of a slice from a DataFrame.\n",
      "Try using .loc[row_indexer,col_indexer] = value instead\n",
      "\n",
      "See the caveats in the documentation: https://pandas.pydata.org/pandas-docs/stable/user_guide/indexing.html#returning-a-view-versus-a-copy\n",
      "  self.data[column_name] = self.data[column_name].astype(type_name)\n",
      "C:\\Users\\User\\PycharmProjects\\HypEx\\hypex\\dataset\\backends\\pandas_backend.py:81: SettingWithCopyWarning: \n",
      "A value is trying to be set on a copy of a slice from a DataFrame.\n",
      "Try using .loc[row_indexer,col_indexer] = value instead\n",
      "\n",
      "See the caveats in the documentation: https://pandas.pydata.org/pandas-docs/stable/user_guide/indexing.html#returning-a-view-versus-a-copy\n",
      "  self.data[column_name] = self.data[column_name].astype(type_name)\n",
      "C:\\Users\\User\\PycharmProjects\\HypEx\\hypex\\dataset\\backends\\pandas_backend.py:81: SettingWithCopyWarning: \n",
      "A value is trying to be set on a copy of a slice from a DataFrame.\n",
      "Try using .loc[row_indexer,col_indexer] = value instead\n",
      "\n",
      "See the caveats in the documentation: https://pandas.pydata.org/pandas-docs/stable/user_guide/indexing.html#returning-a-view-versus-a-copy\n",
      "  self.data[column_name] = self.data[column_name].astype(type_name)\n",
      "C:\\Users\\User\\PycharmProjects\\HypEx\\hypex\\dataset\\backends\\pandas_backend.py:81: SettingWithCopyWarning: \n",
      "A value is trying to be set on a copy of a slice from a DataFrame.\n",
      "Try using .loc[row_indexer,col_indexer] = value instead\n",
      "\n",
      "See the caveats in the documentation: https://pandas.pydata.org/pandas-docs/stable/user_guide/indexing.html#returning-a-view-versus-a-copy\n",
      "  self.data[column_name] = self.data[column_name].astype(type_name)\n",
      "C:\\Users\\User\\PycharmProjects\\HypEx\\hypex\\dataset\\backends\\pandas_backend.py:81: SettingWithCopyWarning: \n",
      "A value is trying to be set on a copy of a slice from a DataFrame.\n",
      "Try using .loc[row_indexer,col_indexer] = value instead\n",
      "\n",
      "See the caveats in the documentation: https://pandas.pydata.org/pandas-docs/stable/user_guide/indexing.html#returning-a-view-versus-a-copy\n",
      "  self.data[column_name] = self.data[column_name].astype(type_name)\n"
     ]
    }
   ],
   "source": [
    "test = AB_TEST\n",
    "ed = ExperimentData(data)\n",
    "result = test.execute(ed)"
   ],
   "metadata": {
    "collapsed": false,
    "ExecuteTime": {
     "end_time": "2024-05-02T14:24:28.474995900Z",
     "start_time": "2024-05-02T14:24:28.370274700Z"
    }
   },
   "id": "a40f5762f0b37a0a",
   "execution_count": 3
  },
  {
   "cell_type": "code",
   "outputs": [
    {
     "data": {
      "text/plain": "   TTest p-value  TTest pass  UTest ['pre_spends'][t]  \\\n0   1.157524e-30         1.0                        1   \n\n   UTest ['post_spends'][t]  ATE ['pre_spends'][t]  ATE ['post_spends'][t]  \n0                         1              487.09375              452.164556  "
     },
     "execution_count": 4,
     "metadata": {},
     "output_type": "execute_result"
    }
   ],
   "source": [
    "result.analysis_tables['ABAnalyzer╰╰']"
   ],
   "metadata": {
    "collapsed": false,
    "ExecuteTime": {
     "end_time": "2024-05-02T14:24:28.491553700Z",
     "start_time": "2024-05-02T14:24:28.477240600Z"
    }
   },
   "id": "89a8898c35681e97",
   "execution_count": 4
  }
 ],
 "metadata": {
  "kernelspec": {
   "display_name": "Python 3",
   "language": "python",
   "name": "python3"
  },
  "language_info": {
   "codemirror_mode": {
    "name": "ipython",
    "version": 2
   },
   "file_extension": ".py",
   "mimetype": "text/x-python",
   "name": "python",
   "nbconvert_exporter": "python",
   "pygments_lexer": "ipython2",
   "version": "2.7.6"
  }
 },
 "nbformat": 4,
 "nbformat_minor": 5
}
