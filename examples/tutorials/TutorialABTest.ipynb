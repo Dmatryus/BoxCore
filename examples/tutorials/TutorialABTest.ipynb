{
 "cells": [
  {
   "cell_type": "code",
   "execution_count": 1,
   "id": "initial_id",
   "metadata": {
    "collapsed": true,
    "ExecuteTime": {
     "end_time": "2024-05-20T11:42:18.968805600Z",
     "start_time": "2024-05-20T11:42:17.761878Z"
    }
   },
   "outputs": [],
   "source": [
    "from hypex.dataset import Dataset, ExperimentData, InfoRole, TreatmentRole, TargetRole\n",
    "from hypex.experiments.ab import AB_TEST "
   ]
  },
  {
   "cell_type": "code",
   "outputs": [
    {
     "data": {
      "text/plain": "      user_id  signup_month  treat  pre_spends  post_spends   age gender  \\\n0           0             0      0       488.0   414.444444   NaN      M   \n1           1             8      1       512.5   462.222222  26.0    NaN   \n2           2             7      2       483.0   479.444444  25.0      M   \n3           3             0      0       501.5   424.333333  39.0      M   \n4           4             1      1       543.0   514.555556  18.0      F   \n...       ...           ...    ...         ...          ...   ...    ...   \n9995     9995            10      1       538.5   450.444444  42.0      M   \n9996     9996             0      0       500.5   430.888889  26.0      F   \n9997     9997             3      1       473.0   534.111111  22.0      F   \n9998     9998             2      1       495.0   523.222222  67.0      F   \n9999     9999             7      1       508.0   475.888889  38.0      F   \n\n        industry  \n0     E-commerce  \n1     E-commerce  \n2      Logistics  \n3     E-commerce  \n4     E-commerce  \n...          ...  \n9995   Logistics  \n9996   Logistics  \n9997  E-commerce  \n9998  E-commerce  \n9999  E-commerce  \n\n[10000 rows x 8 columns]"
     },
     "execution_count": 2,
     "metadata": {},
     "output_type": "execute_result"
    }
   ],
   "source": [
    "data = Dataset(\n",
    "    roles={\n",
    "        \"user_id\": InfoRole(int),\n",
    "        \"treat\": TreatmentRole(int),\n",
    "        \"pre_spends\": TargetRole(),\n",
    "        \"post_spends\": TargetRole()\n",
    "    }, data=\"data.csv\",\n",
    ")\n",
    "data"
   ],
   "metadata": {
    "collapsed": false,
    "ExecuteTime": {
     "end_time": "2024-05-20T11:42:19.014749200Z",
     "start_time": "2024-05-20T11:42:18.973129700Z"
    }
   },
   "id": "904175ab484d1690",
   "execution_count": 2
  },
  {
   "cell_type": "code",
   "outputs": [
    {
     "name": "stderr",
     "output_type": "stream",
     "text": [
      "C:\\Users\\User\\PycharmProjects\\HypEx\\hypex\\dataset\\backends\\pandas_backend.py:189: SettingWithCopyWarning: \n",
      "A value is trying to be set on a copy of a slice from a DataFrame.\n",
      "Try using .loc[row_indexer,col_indexer] = value instead\n",
      "\n",
      "See the caveats in the documentation: https://pandas.pydata.org/pandas-docs/stable/user_guide/indexing.html#returning-a-view-versus-a-copy\n",
      "  self.data[column_name] = self.data[column_name].astype(type_name)\n",
      "C:\\Users\\User\\PycharmProjects\\HypEx\\hypex\\dataset\\backends\\pandas_backend.py:189: SettingWithCopyWarning: \n",
      "A value is trying to be set on a copy of a slice from a DataFrame.\n",
      "Try using .loc[row_indexer,col_indexer] = value instead\n",
      "\n",
      "See the caveats in the documentation: https://pandas.pydata.org/pandas-docs/stable/user_guide/indexing.html#returning-a-view-versus-a-copy\n",
      "  self.data[column_name] = self.data[column_name].astype(type_name)\n",
      "C:\\Users\\User\\PycharmProjects\\HypEx\\hypex\\dataset\\backends\\pandas_backend.py:189: SettingWithCopyWarning: \n",
      "A value is trying to be set on a copy of a slice from a DataFrame.\n",
      "Try using .loc[row_indexer,col_indexer] = value instead\n",
      "\n",
      "See the caveats in the documentation: https://pandas.pydata.org/pandas-docs/stable/user_guide/indexing.html#returning-a-view-versus-a-copy\n",
      "  self.data[column_name] = self.data[column_name].astype(type_name)\n",
      "C:\\Users\\User\\PycharmProjects\\HypEx\\hypex\\dataset\\backends\\pandas_backend.py:189: SettingWithCopyWarning: \n",
      "A value is trying to be set on a copy of a slice from a DataFrame.\n",
      "Try using .loc[row_indexer,col_indexer] = value instead\n",
      "\n",
      "See the caveats in the documentation: https://pandas.pydata.org/pandas-docs/stable/user_guide/indexing.html#returning-a-view-versus-a-copy\n",
      "  self.data[column_name] = self.data[column_name].astype(type_name)\n",
      "C:\\Users\\User\\PycharmProjects\\HypEx\\hypex\\dataset\\backends\\pandas_backend.py:189: SettingWithCopyWarning: \n",
      "A value is trying to be set on a copy of a slice from a DataFrame.\n",
      "Try using .loc[row_indexer,col_indexer] = value instead\n",
      "\n",
      "See the caveats in the documentation: https://pandas.pydata.org/pandas-docs/stable/user_guide/indexing.html#returning-a-view-versus-a-copy\n",
      "  self.data[column_name] = self.data[column_name].astype(type_name)\n",
      "C:\\Users\\User\\PycharmProjects\\HypEx\\hypex\\dataset\\backends\\pandas_backend.py:189: SettingWithCopyWarning: \n",
      "A value is trying to be set on a copy of a slice from a DataFrame.\n",
      "Try using .loc[row_indexer,col_indexer] = value instead\n",
      "\n",
      "See the caveats in the documentation: https://pandas.pydata.org/pandas-docs/stable/user_guide/indexing.html#returning-a-view-versus-a-copy\n",
      "  self.data[column_name] = self.data[column_name].astype(type_name)\n",
      "C:\\Users\\User\\PycharmProjects\\HypEx\\hypex\\dataset\\backends\\pandas_backend.py:189: SettingWithCopyWarning: \n",
      "A value is trying to be set on a copy of a slice from a DataFrame.\n",
      "Try using .loc[row_indexer,col_indexer] = value instead\n",
      "\n",
      "See the caveats in the documentation: https://pandas.pydata.org/pandas-docs/stable/user_guide/indexing.html#returning-a-view-versus-a-copy\n",
      "  self.data[column_name] = self.data[column_name].astype(type_name)\n",
      "C:\\Users\\User\\PycharmProjects\\HypEx\\hypex\\dataset\\backends\\pandas_backend.py:189: SettingWithCopyWarning: \n",
      "A value is trying to be set on a copy of a slice from a DataFrame.\n",
      "Try using .loc[row_indexer,col_indexer] = value instead\n",
      "\n",
      "See the caveats in the documentation: https://pandas.pydata.org/pandas-docs/stable/user_guide/indexing.html#returning-a-view-versus-a-copy\n",
      "  self.data[column_name] = self.data[column_name].astype(type_name)\n",
      "C:\\Users\\User\\PycharmProjects\\HypEx\\hypex\\dataset\\backends\\pandas_backend.py:189: SettingWithCopyWarning: \n",
      "A value is trying to be set on a copy of a slice from a DataFrame.\n",
      "Try using .loc[row_indexer,col_indexer] = value instead\n",
      "\n",
      "See the caveats in the documentation: https://pandas.pydata.org/pandas-docs/stable/user_guide/indexing.html#returning-a-view-versus-a-copy\n",
      "  self.data[column_name] = self.data[column_name].astype(type_name)\n",
      "C:\\Users\\User\\PycharmProjects\\HypEx\\hypex\\dataset\\backends\\pandas_backend.py:189: SettingWithCopyWarning: \n",
      "A value is trying to be set on a copy of a slice from a DataFrame.\n",
      "Try using .loc[row_indexer,col_indexer] = value instead\n",
      "\n",
      "See the caveats in the documentation: https://pandas.pydata.org/pandas-docs/stable/user_guide/indexing.html#returning-a-view-versus-a-copy\n",
      "  self.data[column_name] = self.data[column_name].astype(type_name)\n",
      "C:\\Users\\User\\PycharmProjects\\HypEx\\hypex\\dataset\\backends\\pandas_backend.py:189: SettingWithCopyWarning: \n",
      "A value is trying to be set on a copy of a slice from a DataFrame.\n",
      "Try using .loc[row_indexer,col_indexer] = value instead\n",
      "\n",
      "See the caveats in the documentation: https://pandas.pydata.org/pandas-docs/stable/user_guide/indexing.html#returning-a-view-versus-a-copy\n",
      "  self.data[column_name] = self.data[column_name].astype(type_name)\n",
      "C:\\Users\\User\\PycharmProjects\\HypEx\\hypex\\dataset\\backends\\pandas_backend.py:189: SettingWithCopyWarning: \n",
      "A value is trying to be set on a copy of a slice from a DataFrame.\n",
      "Try using .loc[row_indexer,col_indexer] = value instead\n",
      "\n",
      "See the caveats in the documentation: https://pandas.pydata.org/pandas-docs/stable/user_guide/indexing.html#returning-a-view-versus-a-copy\n",
      "  self.data[column_name] = self.data[column_name].astype(type_name)\n",
      "C:\\Users\\User\\PycharmProjects\\HypEx\\hypex\\dataset\\backends\\pandas_backend.py:189: SettingWithCopyWarning: \n",
      "A value is trying to be set on a copy of a slice from a DataFrame.\n",
      "Try using .loc[row_indexer,col_indexer] = value instead\n",
      "\n",
      "See the caveats in the documentation: https://pandas.pydata.org/pandas-docs/stable/user_guide/indexing.html#returning-a-view-versus-a-copy\n",
      "  self.data[column_name] = self.data[column_name].astype(type_name)\n",
      "C:\\Users\\User\\PycharmProjects\\HypEx\\hypex\\dataset\\backends\\pandas_backend.py:189: SettingWithCopyWarning: \n",
      "A value is trying to be set on a copy of a slice from a DataFrame.\n",
      "Try using .loc[row_indexer,col_indexer] = value instead\n",
      "\n",
      "See the caveats in the documentation: https://pandas.pydata.org/pandas-docs/stable/user_guide/indexing.html#returning-a-view-versus-a-copy\n",
      "  self.data[column_name] = self.data[column_name].astype(type_name)\n",
      "C:\\Users\\User\\PycharmProjects\\HypEx\\hypex\\dataset\\backends\\pandas_backend.py:189: SettingWithCopyWarning: \n",
      "A value is trying to be set on a copy of a slice from a DataFrame.\n",
      "Try using .loc[row_indexer,col_indexer] = value instead\n",
      "\n",
      "See the caveats in the documentation: https://pandas.pydata.org/pandas-docs/stable/user_guide/indexing.html#returning-a-view-versus-a-copy\n",
      "  self.data[column_name] = self.data[column_name].astype(type_name)\n",
      "C:\\Users\\User\\PycharmProjects\\HypEx\\hypex\\dataset\\backends\\pandas_backend.py:189: SettingWithCopyWarning: \n",
      "A value is trying to be set on a copy of a slice from a DataFrame.\n",
      "Try using .loc[row_indexer,col_indexer] = value instead\n",
      "\n",
      "See the caveats in the documentation: https://pandas.pydata.org/pandas-docs/stable/user_guide/indexing.html#returning-a-view-versus-a-copy\n",
      "  self.data[column_name] = self.data[column_name].astype(type_name)\n",
      "C:\\Users\\User\\PycharmProjects\\HypEx\\hypex\\dataset\\backends\\pandas_backend.py:189: SettingWithCopyWarning: \n",
      "A value is trying to be set on a copy of a slice from a DataFrame.\n",
      "Try using .loc[row_indexer,col_indexer] = value instead\n",
      "\n",
      "See the caveats in the documentation: https://pandas.pydata.org/pandas-docs/stable/user_guide/indexing.html#returning-a-view-versus-a-copy\n",
      "  self.data[column_name] = self.data[column_name].astype(type_name)\n",
      "C:\\Users\\User\\PycharmProjects\\HypEx\\hypex\\dataset\\backends\\pandas_backend.py:189: SettingWithCopyWarning: \n",
      "A value is trying to be set on a copy of a slice from a DataFrame.\n",
      "Try using .loc[row_indexer,col_indexer] = value instead\n",
      "\n",
      "See the caveats in the documentation: https://pandas.pydata.org/pandas-docs/stable/user_guide/indexing.html#returning-a-view-versus-a-copy\n",
      "  self.data[column_name] = self.data[column_name].astype(type_name)\n",
      "C:\\Users\\User\\PycharmProjects\\HypEx\\hypex\\dataset\\backends\\pandas_backend.py:189: SettingWithCopyWarning: \n",
      "A value is trying to be set on a copy of a slice from a DataFrame.\n",
      "Try using .loc[row_indexer,col_indexer] = value instead\n",
      "\n",
      "See the caveats in the documentation: https://pandas.pydata.org/pandas-docs/stable/user_guide/indexing.html#returning-a-view-versus-a-copy\n",
      "  self.data[column_name] = self.data[column_name].astype(type_name)\n",
      "C:\\Users\\User\\PycharmProjects\\HypEx\\hypex\\dataset\\backends\\pandas_backend.py:189: SettingWithCopyWarning: \n",
      "A value is trying to be set on a copy of a slice from a DataFrame.\n",
      "Try using .loc[row_indexer,col_indexer] = value instead\n",
      "\n",
      "See the caveats in the documentation: https://pandas.pydata.org/pandas-docs/stable/user_guide/indexing.html#returning-a-view-versus-a-copy\n",
      "  self.data[column_name] = self.data[column_name].astype(type_name)\n",
      "C:\\Users\\User\\PycharmProjects\\HypEx\\hypex\\dataset\\backends\\pandas_backend.py:189: SettingWithCopyWarning: \n",
      "A value is trying to be set on a copy of a slice from a DataFrame.\n",
      "Try using .loc[row_indexer,col_indexer] = value instead\n",
      "\n",
      "See the caveats in the documentation: https://pandas.pydata.org/pandas-docs/stable/user_guide/indexing.html#returning-a-view-versus-a-copy\n",
      "  self.data[column_name] = self.data[column_name].astype(type_name)\n",
      "C:\\Users\\User\\PycharmProjects\\HypEx\\hypex\\dataset\\backends\\pandas_backend.py:189: SettingWithCopyWarning: \n",
      "A value is trying to be set on a copy of a slice from a DataFrame.\n",
      "Try using .loc[row_indexer,col_indexer] = value instead\n",
      "\n",
      "See the caveats in the documentation: https://pandas.pydata.org/pandas-docs/stable/user_guide/indexing.html#returning-a-view-versus-a-copy\n",
      "  self.data[column_name] = self.data[column_name].astype(type_name)\n",
      "C:\\Users\\User\\PycharmProjects\\HypEx\\hypex\\dataset\\backends\\pandas_backend.py:189: SettingWithCopyWarning: \n",
      "A value is trying to be set on a copy of a slice from a DataFrame.\n",
      "Try using .loc[row_indexer,col_indexer] = value instead\n",
      "\n",
      "See the caveats in the documentation: https://pandas.pydata.org/pandas-docs/stable/user_guide/indexing.html#returning-a-view-versus-a-copy\n",
      "  self.data[column_name] = self.data[column_name].astype(type_name)\n",
      "C:\\Users\\User\\PycharmProjects\\HypEx\\hypex\\dataset\\backends\\pandas_backend.py:189: SettingWithCopyWarning: \n",
      "A value is trying to be set on a copy of a slice from a DataFrame.\n",
      "Try using .loc[row_indexer,col_indexer] = value instead\n",
      "\n",
      "See the caveats in the documentation: https://pandas.pydata.org/pandas-docs/stable/user_guide/indexing.html#returning-a-view-versus-a-copy\n",
      "  self.data[column_name] = self.data[column_name].astype(type_name)\n"
     ]
    }
   ],
   "source": [
    "test = AB_TEST\n",
    "ed = ExperimentData(data)\n",
    "result = test.execute(ed)"
   ],
   "metadata": {
    "collapsed": false,
    "ExecuteTime": {
     "end_time": "2024-05-20T11:42:19.169344300Z",
     "start_time": "2024-05-20T11:42:19.017820900Z"
    }
   },
   "id": "a40f5762f0b37a0a",
   "execution_count": 3
  },
  {
   "cell_type": "code",
   "outputs": [
    {
     "data": {
      "text/plain": "{'GroupSizes┴┴':                           1            2\n control size    4922.000000  4922.000000\n test size       5054.000000    24.000000\n control size %    49.338412    99.514759\n test size %       50.661588     0.485241,\n 'GroupDifference┴┴':                                    1           2\n post_spends control mean  420.040182  420.040182\n post_spends test mean     483.489623  443.800926\n post_spends difference     63.449441   23.760744\n post_spends difference %   15.105565    5.656779,\n 'TTest┴┴':          group   statistic       p-value  pass\n TTest┴┴      1 -135.413170  0.000000e+00  True\n TTest┴┴      2  -15.020938  6.659966e-50  True,\n 'UTest┴┴':          group  statistic   p-value  pass\n UTest┴┴      1   406681.5  0.000000  True\n UTest┴┴      2    28047.0  0.000009  True,\n 'ABAnalyzer┴┴MultiTest':    new p-values  rejected\n 0  0.000000e+00      True\n 1  1.331993e-49      True,\n 'ABAnalyzer┴┴':    TTest p-value  TTest pass  UTest p-value  UTest pass\n 0   3.329983e-50         1.0       0.000004         1.0}"
     },
     "execution_count": 4,
     "metadata": {},
     "output_type": "execute_result"
    }
   ],
   "source": [
    "result.analysis_tables"
   ],
   "metadata": {
    "collapsed": false,
    "ExecuteTime": {
     "end_time": "2024-05-20T11:42:19.207458300Z",
     "start_time": "2024-05-20T11:42:19.175710300Z"
    }
   },
   "id": "89a8898c35681e97",
   "execution_count": 4
  },
  {
   "cell_type": "code",
   "outputs": [
    {
     "data": {
      "text/plain": "{'1 control size': 4922.0,\n '1 test size': 5054.0,\n '1 control size %': 49.338412189254214,\n '1 test size %': 50.661587810745786,\n '2 control size': 4922.0,\n '2 test size': 24.0,\n '2 control size %': 99.5147594015366,\n '2 test size %': 0.4852405984634048,\n '1 post_spends control mean': 420.04018240101135,\n '1 post_spends test mean': 483.489623180759,\n '1 post_spends difference': 63.44944077974765,\n '1 post_spends difference %': 15.105564524103698,\n '2 post_spends control mean': 420.04018240101135,\n '2 post_spends test mean': 443.8009259259259,\n '2 post_spends difference': 23.760743524914574,\n '2 post_spends difference %': 5.656778689385056,\n 'new p-values': 0.0,\n 'rejected': True}"
     },
     "execution_count": 5,
     "metadata": {},
     "output_type": "execute_result"
    }
   ],
   "source": [
    "from hypex.reporters import ABDictReporter\n",
    "\n",
    "ABDictReporter().report(result)"
   ],
   "metadata": {
    "collapsed": false,
    "ExecuteTime": {
     "end_time": "2024-05-20T11:42:19.239326600Z",
     "start_time": "2024-05-20T11:42:19.201456600Z"
    }
   },
   "id": "4936140f9c373dd3",
   "execution_count": 5
  }
 ],
 "metadata": {
  "kernelspec": {
   "display_name": "Python 3",
   "language": "python",
   "name": "python3"
  },
  "language_info": {
   "codemirror_mode": {
    "name": "ipython",
    "version": 2
   },
   "file_extension": ".py",
   "mimetype": "text/x-python",
   "name": "python",
   "nbconvert_exporter": "python",
   "pygments_lexer": "ipython2",
   "version": "2.7.6"
  }
 },
 "nbformat": 4,
 "nbformat_minor": 5
}
