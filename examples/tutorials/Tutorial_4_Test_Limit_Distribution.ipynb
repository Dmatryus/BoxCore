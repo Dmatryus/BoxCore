{
 "cells": [
  {
   "metadata": {
    "ExecuteTime": {
     "end_time": "2024-02-19T07:40:30.120314Z",
     "start_time": "2024-02-19T07:40:22.040562Z"
    }
   },
   "cell_type": "code",
   "id": "7f5730c16e20fe3e",
   "source": [
    "from scipy.stats import bernoulli\n",
    "\n",
    "from hypex.ab_test.limit_distribution import *"
   ],
   "outputs": [
    {
     "name": "stderr",
     "output_type": "stream",
     "text": [
      "C:\\Users\\User\\AppData\\Local\\Programs\\Python\\Python310\\lib\\site-packages\\tqdm\\auto.py:21: TqdmWarning: IProgress not found. Please update jupyter and ipywidgets. See https://ipywidgets.readthedocs.io/en/stable/user_install.html\n",
      "  from .autonotebook import tqdm as notebook_tqdm\n"
     ]
    }
   ],
   "execution_count": 1
  },
  {
   "metadata": {},
   "cell_type": "markdown",
   "id": "3f990ce477eadc58",
   "source": "### Initialize random state"
  },
  {
   "metadata": {
    "ExecuteTime": {
     "end_time": "2024-02-19T07:50:19.576582Z",
     "start_time": "2024-02-19T07:50:19.565297Z"
    }
   },
   "cell_type": "code",
   "id": "ec6339fd4b9bfbe9",
   "source": [
    "seed = 42  # You can choose any number as the seed\n",
    "random_state = np.random.RandomState(seed)"
   ],
   "outputs": [],
   "execution_count": 12
  },
  {
   "metadata": {},
   "cell_type": "markdown",
   "source": "## Multiple testing for best sample selection",
   "id": "56a30e356af1c7ed"
  },
  {
   "metadata": {},
   "cell_type": "markdown",
   "id": "a75d120b056c6172",
   "source": "### Number of samples and parameters"
  },
  {
   "metadata": {
    "ExecuteTime": {
     "end_time": "2024-02-19T07:50:24.608488Z",
     "start_time": "2024-02-19T07:50:24.597353Z"
    }
   },
   "cell_type": "code",
   "id": "3cbf54ea3ce36deb",
   "source": [
    "num_samples = 10  # Number of samples\n",
    "minimum_detectable_effect = 0.05  # MDE\n",
    "assumed_conversion = 0.3  # Assumed conversion rate\n",
    "significance_level = 0.05  # Significance level\n",
    "power_level = 0.2  # Power level (1 - beta)"
   ],
   "outputs": [],
   "execution_count": 13
  },
  {
   "metadata": {},
   "cell_type": "markdown",
   "id": "f519dc7b24067462",
   "source": "### Calculate the minimum sample size"
  },
  {
   "metadata": {
    "ExecuteTime": {
     "end_time": "2024-02-19T07:50:28.734673Z",
     "start_time": "2024-02-19T07:50:26.677119Z"
    }
   },
   "cell_type": "code",
   "id": "67b353030a5f7356",
   "source": [
    "sample_size = min_sample_size(\n",
    "    num_samples,\n",
    "    minimum_detectable_effect,\n",
    "    variances=assumed_conversion * (1 - assumed_conversion),\n",
    "    significance_level=significance_level,\n",
    "    power_level=power_level,\n",
    "    equal_variance=True,\n",
    ")\n",
    "print(f\"Sample size = {sample_size}\")"
   ],
   "outputs": [
    {
     "name": "stdout",
     "output_type": "stream",
     "text": [
      "quantile_1 = 1.0346258308861134, quantile_2 = -1.7389789156155229\n",
      "Sample size = 1293\n"
     ]
    }
   ],
   "execution_count": 14
  },
  {
   "metadata": {},
   "cell_type": "markdown",
   "id": "8ce92cbd46e2e66f",
   "source": "### Testing samples with equal conversion rate"
  },
  {
   "metadata": {
    "ExecuteTime": {
     "end_time": "2024-02-19T07:51:05.235352Z",
     "start_time": "2024-02-19T07:50:32.706689Z"
    }
   },
   "cell_type": "code",
   "id": "ac90451bc36c6044",
   "source": [
    "print(\"\\nSamples with equal conversion rate\")\n",
    "for _ in range(5):\n",
    "    samples = bernoulli.rvs(\n",
    "        assumed_conversion, size=[num_samples, sample_size], random_state=random_state\n",
    "    )\n",
    "    hypothesis = test_on_marginal_distribution(\n",
    "        samples, significance_level=significance_level\n",
    "    )\n",
    "    print(f\"\\tAccepted hypothesis H({hypothesis})\")"
   ],
   "outputs": [
    {
     "name": "stdout",
     "output_type": "stream",
     "text": [
      "\n",
      "Samples with equal conversion rate\n",
      "\tAccepted hypothesis H(9)\n",
      "\tAccepted hypothesis H(0)\n",
      "\tAccepted hypothesis H(0)\n",
      "\tAccepted hypothesis H(0)\n",
      "\tAccepted hypothesis H(0)\n"
     ]
    }
   ],
   "execution_count": 15
  },
  {
   "metadata": {},
   "cell_type": "markdown",
   "id": "6cddf5b6661f161c",
   "source": "### Testing where the last sample has a higher conversion rate by MDE"
  },
  {
   "metadata": {
    "ExecuteTime": {
     "end_time": "2024-02-19T07:51:42.685919Z",
     "start_time": "2024-02-19T07:51:05.238615Z"
    }
   },
   "cell_type": "code",
   "id": "6f61bafb73e0eaad",
   "source": [
    "print(\"\\nLast sample has higher conversion by MDE\")\n",
    "for _ in range(5):\n",
    "    samples = [\n",
    "        bernoulli.rvs(assumed_conversion, size=sample_size, random_state=random_state)\n",
    "        for _ in range(num_samples - 1)\n",
    "    ]\n",
    "    samples.append(\n",
    "        bernoulli.rvs(\n",
    "            assumed_conversion + minimum_detectable_effect,\n",
    "            size=sample_size,\n",
    "            random_state=random_state,\n",
    "        )\n",
    "    )\n",
    "    hypothesis = test_on_marginal_distribution(\n",
    "        samples, significance_level=significance_level\n",
    "    )\n",
    "    print(f\"\\tAccepted hypothesis H({hypothesis})\")"
   ],
   "outputs": [
    {
     "name": "stdout",
     "output_type": "stream",
     "text": [
      "\n",
      "Last sample has higher conversion by MDE\n",
      "\tAccepted hypothesis H(10)\n",
      "\tAccepted hypothesis H(0)\n",
      "\tAccepted hypothesis H(10)\n",
      "\tAccepted hypothesis H(10)\n",
      "\tAccepted hypothesis H(10)\n"
     ]
    }
   ],
   "execution_count": 16
  },
  {
   "metadata": {},
   "cell_type": "markdown",
   "id": "5cda8f5b9ac6f05c",
   "source": "## Multiple testing for best client income sample (conversion * price)"
  },
  {
   "metadata": {},
   "cell_type": "markdown",
   "id": "1c248f764c4a24b8",
   "source": "### Parameters for different samples"
  },
  {
   "metadata": {
    "ExecuteTime": {
     "end_time": "2024-02-19T07:41:52.147726Z",
     "start_time": "2024-02-19T07:41:52.133629Z"
    }
   },
   "cell_type": "code",
   "id": "14b5c6bdd7967b6f",
   "source": [
    "num_samples = 5  # Number of samples\n",
    "minimum_detectable_effect = 2.5  # MDE\n",
    "prices = [100, 150, 150, 200, 250]  # Tariff prices\n",
    "conversions = [0.15, 0.1, 0.1, 0.075, 0.06]  # Tariff conversions\n",
    "significance_level = 0.05\n",
    "power_level = 0.2\n",
    "variances = [\n",
    "    price ** 2 * conversion * (1 - conversion)\n",
    "    for price, conversion in zip(prices, conversions)\n",
    "]"
   ],
   "outputs": [],
   "execution_count": 7
  },
  {
   "metadata": {},
   "cell_type": "markdown",
   "id": "378d5887ef93b9e0",
   "source": "### Calculate minimum sample size for unequal variances"
  },
  {
   "metadata": {
    "ExecuteTime": {
     "end_time": "2024-02-19T07:42:09.825024Z",
     "start_time": "2024-02-19T07:41:52.150025Z"
    }
   },
   "cell_type": "code",
   "id": "13b3d7fa50a129a",
   "source": [
    "sample_size = min_sample_size(\n",
    "    num_samples,\n",
    "    minimum_detectable_effect,\n",
    "    variances=variances,\n",
    "    significance_level=significance_level,\n",
    "    power_level=power_level,\n",
    "    equal_variance=False,\n",
    ")\n",
    "print(f\"Sample size = {sample_size}\")"
   ],
   "outputs": [
    {
     "name": "stdout",
     "output_type": "stream",
     "text": [
      "Sample size = 7300\n"
     ]
    }
   ],
   "execution_count": 8
  },
  {
   "metadata": {},
   "cell_type": "markdown",
   "id": "43298f88aa5666a2",
   "source": "### Testing samples with equal ARPU (Average Revenue Per User)"
  },
  {
   "metadata": {
    "ExecuteTime": {
     "end_time": "2024-02-19T07:42:25.335995Z",
     "start_time": "2024-02-19T07:42:17.533344Z"
    }
   },
   "cell_type": "code",
   "id": "55423e5fcc7dd753",
   "source": [
    "print(\"\\nSamples with equal ARPU\")\n",
    "for _ in range(5):\n",
    "    samples = [\n",
    "        price * bernoulli.rvs(conversion, size=sample_size)\n",
    "        for price, conversion in zip(prices, conversions)\n",
    "    ]\n",
    "    hypothesis = test_on_marginal_distribution(\n",
    "        samples, significance_level=significance_level\n",
    "    )\n",
    "    print(f\"\\tAccepted hypothesis H({hypothesis})\")"
   ],
   "outputs": [
    {
     "name": "stdout",
     "output_type": "stream",
     "text": [
      "\n",
      "Samples with equal ARPU\n",
      "\tAccepted hypothesis H(0)\n",
      "\tAccepted hypothesis H(0)\n",
      "\tAccepted hypothesis H(0)\n",
      "\tAccepted hypothesis H(0)\n",
      "\tAccepted hypothesis H(0)\n"
     ]
    }
   ],
   "execution_count": 10
  },
  {
   "metadata": {},
   "cell_type": "markdown",
   "id": "b7b9e1039797e997",
   "source": "### Testing where the last sample has higher ARPU by MDE"
  },
  {
   "cell_type": "code",
   "id": "initial_id",
   "metadata": {
    "collapsed": true,
    "ExecuteTime": {
     "end_time": "2024-02-19T07:42:33.114314Z",
     "start_time": "2024-02-19T07:42:25.337517Z"
    }
   },
   "source": [
    "print(\"\\nLast sample has higher ARPU by MDE\")\n",
    "for _ in range(5):\n",
    "    samples = [\n",
    "        price * bernoulli.rvs(conversion, size=sample_size)\n",
    "        for price, conversion in zip(prices, conversions[:-1])\n",
    "    ]\n",
    "    samples.append(\n",
    "        prices[-1]\n",
    "        * bernoulli.rvs(\n",
    "            conversions[-1] + minimum_detectable_effect / prices[-1], size=sample_size\n",
    "        )\n",
    "    )\n",
    "    hypothesis = test_on_marginal_distribution(\n",
    "        samples, significance_level=significance_level\n",
    "    )\n",
    "    print(f\"\\tAccepted hypothesis H({hypothesis})\")"
   ],
   "outputs": [
    {
     "name": "stdout",
     "output_type": "stream",
     "text": [
      "\n",
      "Last sample has higher ARPU by MDE\n",
      "\tAccepted hypothesis H(0)\n",
      "\tAccepted hypothesis H(0)\n",
      "\tAccepted hypothesis H(0)\n",
      "\tAccepted hypothesis H(0)\n",
      "\tAccepted hypothesis H(0)\n"
     ]
    }
   ],
   "execution_count": 11
  }
 ],
 "metadata": {
  "kernelspec": {
   "display_name": "Python 3",
   "language": "python",
   "name": "python3"
  },
  "language_info": {
   "codemirror_mode": {
    "name": "ipython",
    "version": 2
   },
   "file_extension": ".py",
   "mimetype": "text/x-python",
   "name": "python",
   "nbconvert_exporter": "python",
   "pygments_lexer": "ipython2",
   "version": "2.7.6"
  }
 },
 "nbformat": 4,
 "nbformat_minor": 5
}
