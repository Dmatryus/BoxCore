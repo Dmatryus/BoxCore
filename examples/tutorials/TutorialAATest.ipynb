{
 "cells": [
  {
   "cell_type": "code",
   "execution_count": 1,
   "metadata": {
    "ExecuteTime": {
     "end_time": "2024-04-26T08:30:44.051129200Z",
     "start_time": "2024-04-26T08:30:41.841635100Z"
    }
   },
   "outputs": [],
   "source": [
    "from hypex.dataset import Dataset, ExperimentData, InfoRole, TreatmentRole, TargetRole\n",
    "from hypex.experiments.aa import AA_TEST\n",
    "from hypex.reporters import AADictReporter"
   ]
  },
  {
   "cell_type": "code",
   "execution_count": 2,
   "metadata": {
    "ExecuteTime": {
     "end_time": "2024-04-26T08:30:44.193472300Z",
     "start_time": "2024-04-26T08:30:44.055816900Z"
    }
   },
   "outputs": [
    {
     "data": {
      "text/plain": "      user_id  signup_month  treat  pre_spends  post_spends   age gender  \\\n0           0             0      0       488.0   414.444444   NaN      M   \n1           1             8      1       512.5   462.222222  26.0    NaN   \n2           2             7      1       483.0   479.444444  25.0      M   \n3           3             0      0       501.5   424.333333  39.0      M   \n4           4             1      1       543.0   514.555556  18.0      F   \n...       ...           ...    ...         ...          ...   ...    ...   \n9995     9995            10      1       538.5   450.444444  42.0      M   \n9996     9996             0      0       500.5   430.888889  26.0      F   \n9997     9997             3      1       473.0   534.111111  22.0      F   \n9998     9998             2      1       495.0   523.222222  67.0      F   \n9999     9999             7      1       508.0   475.888889  38.0      F   \n\n        industry  \n0     E-commerce  \n1     E-commerce  \n2      Logistics  \n3     E-commerce  \n4     E-commerce  \n...          ...  \n9995   Logistics  \n9996   Logistics  \n9997  E-commerce  \n9998  E-commerce  \n9999  E-commerce  \n\n[10000 rows x 8 columns]"
     },
     "execution_count": 2,
     "metadata": {},
     "output_type": "execute_result"
    }
   ],
   "source": [
    "data = Dataset(\n",
    "    roles={\n",
    "        \"user_id\": InfoRole(int),\n",
    "        \"treat\": TreatmentRole(int),\n",
    "        \"pre_spends\": TargetRole(),\n",
    "        \"post_spends\": TargetRole()\n",
    "    }, data=\"data.csv\",\n",
    ")\n",
    "data"
   ]
  },
  {
   "cell_type": "code",
   "execution_count": 3,
   "metadata": {
    "ExecuteTime": {
     "end_time": "2024-04-26T08:30:44.235619200Z",
     "start_time": "2024-04-26T08:30:44.164133100Z"
    }
   },
   "outputs": [
    {
     "data": {
      "text/plain": "user_id            int32\nsignup_month       int32\ntreat              int32\npre_spends       float64\npost_spends      float64\nage              float64\ngender          category\nindustry        category\ndtype: object"
     },
     "execution_count": 3,
     "metadata": {},
     "output_type": "execute_result"
    }
   ],
   "source": [
    "data.data.dtypes"
   ]
  },
  {
   "cell_type": "code",
   "execution_count": 25,
   "metadata": {
    "ExecuteTime": {
     "end_time": "2024-04-26T09:09:40.186495100Z",
     "start_time": "2024-04-26T09:09:39.877967900Z"
    }
   },
   "outputs": [
    {
     "name": "stderr",
     "output_type": "stream",
     "text": [
      "C:\\Users\\User\\PycharmProjects\\HypEx\\hypex\\dataset\\backends\\pandas_backend.py:83: SettingWithCopyWarning: \n",
      "A value is trying to be set on a copy of a slice from a DataFrame.\n",
      "Try using .loc[row_indexer,col_indexer] = value instead\n",
      "\n",
      "See the caveats in the documentation: https://pandas.pydata.org/pandas-docs/stable/user_guide/indexing.html#returning-a-view-versus-a-copy\n",
      "  self.data[column_name] = self.data[column_name].astype(type_name)\n",
      "C:\\Users\\User\\PycharmProjects\\HypEx\\hypex\\dataset\\backends\\pandas_backend.py:83: SettingWithCopyWarning: \n",
      "A value is trying to be set on a copy of a slice from a DataFrame.\n",
      "Try using .loc[row_indexer,col_indexer] = value instead\n",
      "\n",
      "See the caveats in the documentation: https://pandas.pydata.org/pandas-docs/stable/user_guide/indexing.html#returning-a-view-versus-a-copy\n",
      "  self.data[column_name] = self.data[column_name].astype(type_name)\n",
      "C:\\Users\\User\\PycharmProjects\\HypEx\\hypex\\dataset\\backends\\pandas_backend.py:83: SettingWithCopyWarning: \n",
      "A value is trying to be set on a copy of a slice from a DataFrame.\n",
      "Try using .loc[row_indexer,col_indexer] = value instead\n",
      "\n",
      "See the caveats in the documentation: https://pandas.pydata.org/pandas-docs/stable/user_guide/indexing.html#returning-a-view-versus-a-copy\n",
      "  self.data[column_name] = self.data[column_name].astype(type_name)\n",
      "C:\\Users\\User\\PycharmProjects\\HypEx\\hypex\\dataset\\backends\\pandas_backend.py:83: SettingWithCopyWarning: \n",
      "A value is trying to be set on a copy of a slice from a DataFrame.\n",
      "Try using .loc[row_indexer,col_indexer] = value instead\n",
      "\n",
      "See the caveats in the documentation: https://pandas.pydata.org/pandas-docs/stable/user_guide/indexing.html#returning-a-view-versus-a-copy\n",
      "  self.data[column_name] = self.data[column_name].astype(type_name)\n",
      "C:\\Users\\User\\PycharmProjects\\HypEx\\hypex\\dataset\\backends\\pandas_backend.py:83: SettingWithCopyWarning: \n",
      "A value is trying to be set on a copy of a slice from a DataFrame.\n",
      "Try using .loc[row_indexer,col_indexer] = value instead\n",
      "\n",
      "See the caveats in the documentation: https://pandas.pydata.org/pandas-docs/stable/user_guide/indexing.html#returning-a-view-versus-a-copy\n",
      "  self.data[column_name] = self.data[column_name].astype(type_name)\n",
      "C:\\Users\\User\\PycharmProjects\\HypEx\\hypex\\dataset\\backends\\pandas_backend.py:83: SettingWithCopyWarning: \n",
      "A value is trying to be set on a copy of a slice from a DataFrame.\n",
      "Try using .loc[row_indexer,col_indexer] = value instead\n",
      "\n",
      "See the caveats in the documentation: https://pandas.pydata.org/pandas-docs/stable/user_guide/indexing.html#returning-a-view-versus-a-copy\n",
      "  self.data[column_name] = self.data[column_name].astype(type_name)\n",
      "C:\\Users\\User\\PycharmProjects\\HypEx\\hypex\\dataset\\backends\\pandas_backend.py:83: SettingWithCopyWarning: \n",
      "A value is trying to be set on a copy of a slice from a DataFrame.\n",
      "Try using .loc[row_indexer,col_indexer] = value instead\n",
      "\n",
      "See the caveats in the documentation: https://pandas.pydata.org/pandas-docs/stable/user_guide/indexing.html#returning-a-view-versus-a-copy\n",
      "  self.data[column_name] = self.data[column_name].astype(type_name)\n",
      "C:\\Users\\User\\PycharmProjects\\HypEx\\hypex\\dataset\\backends\\pandas_backend.py:83: SettingWithCopyWarning: \n",
      "A value is trying to be set on a copy of a slice from a DataFrame.\n",
      "Try using .loc[row_indexer,col_indexer] = value instead\n",
      "\n",
      "See the caveats in the documentation: https://pandas.pydata.org/pandas-docs/stable/user_guide/indexing.html#returning-a-view-versus-a-copy\n",
      "  self.data[column_name] = self.data[column_name].astype(type_name)\n",
      "C:\\Users\\User\\PycharmProjects\\HypEx\\hypex\\dataset\\backends\\pandas_backend.py:83: SettingWithCopyWarning: \n",
      "A value is trying to be set on a copy of a slice from a DataFrame.\n",
      "Try using .loc[row_indexer,col_indexer] = value instead\n",
      "\n",
      "See the caveats in the documentation: https://pandas.pydata.org/pandas-docs/stable/user_guide/indexing.html#returning-a-view-versus-a-copy\n",
      "  self.data[column_name] = self.data[column_name].astype(type_name)\n",
      "C:\\Users\\User\\PycharmProjects\\HypEx\\hypex\\dataset\\backends\\pandas_backend.py:83: SettingWithCopyWarning: \n",
      "A value is trying to be set on a copy of a slice from a DataFrame.\n",
      "Try using .loc[row_indexer,col_indexer] = value instead\n",
      "\n",
      "See the caveats in the documentation: https://pandas.pydata.org/pandas-docs/stable/user_guide/indexing.html#returning-a-view-versus-a-copy\n",
      "  self.data[column_name] = self.data[column_name].astype(type_name)\n",
      "C:\\Users\\User\\PycharmProjects\\HypEx\\hypex\\dataset\\backends\\pandas_backend.py:83: SettingWithCopyWarning: \n",
      "A value is trying to be set on a copy of a slice from a DataFrame.\n",
      "Try using .loc[row_indexer,col_indexer] = value instead\n",
      "\n",
      "See the caveats in the documentation: https://pandas.pydata.org/pandas-docs/stable/user_guide/indexing.html#returning-a-view-versus-a-copy\n",
      "  self.data[column_name] = self.data[column_name].astype(type_name)\n",
      "C:\\Users\\User\\PycharmProjects\\HypEx\\hypex\\dataset\\backends\\pandas_backend.py:83: SettingWithCopyWarning: \n",
      "A value is trying to be set on a copy of a slice from a DataFrame.\n",
      "Try using .loc[row_indexer,col_indexer] = value instead\n",
      "\n",
      "See the caveats in the documentation: https://pandas.pydata.org/pandas-docs/stable/user_guide/indexing.html#returning-a-view-versus-a-copy\n",
      "  self.data[column_name] = self.data[column_name].astype(type_name)\n"
     ]
    }
   ],
   "source": [
    "test = AA_TEST\n",
    "ed = ExperimentData(data)\n",
    "result = test.execute(ed)"
   ]
  },
  {
   "cell_type": "code",
   "execution_count": 26,
   "metadata": {
    "collapsed": false,
    "ExecuteTime": {
     "end_time": "2024-04-26T09:09:40.459345800Z",
     "start_time": "2024-04-26T09:09:40.398855700Z"
    }
   },
   "outputs": [
    {
     "data": {
      "text/plain": "{'random_state': None,\n 'B pre_spends control mean': 487.2096,\n 'B pre_spends difference': -0.2317000000000462,\n 'B pre_spends difference %': -0.04755653418980765,\n 'B pre_spends test mean': 486.9779,\n 'B post_spends control mean': 452.2280666666666,\n 'B post_spends difference': -0.12702222222213777,\n 'B post_spends difference %': -0.028088089082667356,\n 'B post_spends test mean': 452.1010444444445,\n 'B control size': 5000.0,\n 'B control size %': 50.0,\n 'B test size': 5000.0,\n 'B test size %': 50.0,\n 'TTest p-value': 0.7056285423808684,\n 'TTest pass': 0.0,\n 'KSTest p-value': 0.8651169116596868,\n 'KSTest pass': 0.0,\n 'mean test score': 0.8119541219000806}"
     },
     "execution_count": 26,
     "metadata": {},
     "output_type": "execute_result"
    }
   ],
   "source": [
    "AADictReporter().report(result)"
   ]
  },
  {
   "cell_type": "code",
   "execution_count": 28,
   "metadata": {
    "collapsed": false,
    "ExecuteTime": {
     "end_time": "2024-04-26T09:12:57.418794900Z",
     "start_time": "2024-04-26T09:12:57.400186600Z"
    }
   },
   "outputs": [
    {
     "data": {
      "text/plain": "{'GroupSizes╰╰[][A]':                      B\n control size    5000.0\n control size %    50.0\n test size       5000.0\n test size %       50.0,\n \"GroupDifference╰╰['pre_spends'][A]\":                                   B\n pre_spends control mean  487.209600\n pre_spends difference     -0.231700\n pre_spends difference %   -0.047557\n pre_spends test mean     486.977900,\n \"TTest╰╰['pre_spends'][A]\":   group  statistic   p-value   pass\n 0     B   0.613901  0.539295  False,\n \"KSTest╰╰['pre_spends'][A]\":   group  statistic   p-value   pass\n 0     B     0.0128  0.807376  False,\n \"GroupDifference╰╰['post_spends'][A]\":                                    B\n post_spends control mean  452.228067\n post_spends difference     -0.127022\n post_spends difference %   -0.028088\n post_spends test mean     452.101044,\n \"TTest╰╰['post_spends'][A]\":   group  statistic   p-value   pass\n 0     B   0.161171  0.871962  False,\n \"KSTest╰╰['post_spends'][A]\":   group  statistic   p-value   pass\n 0     B      0.011  0.922858  False,\n 'OneAASplitAnalyzer╰╰':    TTest p-value  TTest pass  KSTest p-value  KSTest pass  mean test score\n 0       0.705629         0.0        0.865117          0.0         0.811954}"
     },
     "execution_count": 28,
     "metadata": {},
     "output_type": "execute_result"
    }
   ],
   "source": [
    "result.analysis_tables"
   ]
  },
  {
   "cell_type": "code",
   "execution_count": null,
   "metadata": {
    "collapsed": false,
    "ExecuteTime": {
     "start_time": "2024-04-24T11:06:27.429511700Z"
    }
   },
   "outputs": [],
   "source": [
    "import pandas as pd\n",
    "import warnings\n",
    "warnings.simplefilter(action='ignore', category=pd.errors.PerformanceWarning)\n",
    "\n",
    "from hypex.comparators import TTest, KSTest, GroupSizes, GroupDifference\n",
    "from hypex.utils import SpaceEnum\n",
    "from hypex.splitters import AASplitter\n",
    "from hypex.analyzers import OneAASplitAnalyzer\n",
    "from hypex.experiments import CycledExperiment, Experiment, OnRoleExperiment\n",
    "\n",
    "aa = Experiment(\n",
    "    executors=[\n",
    "        AASplitter(),\n",
    "        OnRoleExperiment(\n",
    "            executors=[\n",
    "                GroupSizes(grouping_role=TreatmentRole(), space=SpaceEnum.additional),\n",
    "                GroupDifference(grouping_role=TreatmentRole(), space=SpaceEnum.additional),\n",
    "                TTest(grouping_role=TreatmentRole(), space=SpaceEnum.additional),\n",
    "                KSTest(grouping_role=TreatmentRole(), space=SpaceEnum.additional),\n",
    "            ],\n",
    "            role=TargetRole(),\n",
    "        )\n",
    "    ]\n",
    ")\n",
    "experiment = CycledExperiment(n_iterations=20, inner_executor=aa, analyzer=OneAASplitAnalyzer())\n",
    "ed = ExperimentData(data)\n",
    "res = experiment.execute(ed)"
   ]
  },
  {
   "cell_type": "code",
   "execution_count": null,
   "metadata": {
    "ExecuteTime": {
     "start_time": "2024-04-24T11:06:27.436480300Z"
    }
   },
   "outputs": [],
   "source": [
    "res.additional_fields"
   ]
  },
  {
   "cell_type": "code",
   "execution_count": null,
   "metadata": {
    "collapsed": false,
    "ExecuteTime": {
     "start_time": "2024-04-24T11:06:27.446679700Z"
    }
   },
   "outputs": [],
   "source": [
    "res.analysis_tables"
   ]
  },
  {
   "cell_type": "code",
   "execution_count": null,
   "metadata": {
    "collapsed": false,
    "ExecuteTime": {
     "start_time": "2024-04-24T11:06:27.452313100Z"
    }
   },
   "outputs": [],
   "source": [
    "res_analyzer = OneAASplitAnalyzer().execute(res)"
   ]
  },
  {
   "cell_type": "code",
   "execution_count": null,
   "metadata": {
    "collapsed": false,
    "ExecuteTime": {
     "start_time": "2024-04-24T11:06:27.457264200Z"
    }
   },
   "outputs": [],
   "source": [
    "res_analyzer.analysis_tables['OneAASplitAnalyzer╰╰']"
   ]
  }
 ],
 "metadata": {
  "kernelspec": {
   "display_name": "Python 3",
   "language": "python",
   "name": "python3"
  },
  "language_info": {
   "codemirror_mode": {
    "name": "ipython",
    "version": 3
   },
   "file_extension": ".py",
   "mimetype": "text/x-python",
   "name": "python",
   "nbconvert_exporter": "python",
   "pygments_lexer": "ipython3",
   "version": "3.10.11"
  }
 },
 "nbformat": 4,
 "nbformat_minor": 2
}
