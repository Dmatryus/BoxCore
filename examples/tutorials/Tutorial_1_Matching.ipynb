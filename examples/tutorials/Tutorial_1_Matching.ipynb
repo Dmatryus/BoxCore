{
 "cells": [
  {
   "cell_type": "markdown",
   "metadata": {},
   "source": [
    "# Tutorial 1: Matching"
   ]
  },
  {
   "cell_type": "markdown",
   "metadata": {},
   "source": [
    "## 0. Import libraries "
   ]
  },
  {
   "cell_type": "code",
   "execution_count": 1,
   "metadata": {
    "ExecuteTime": {
     "end_time": "2023-11-02T16:22:52.104157Z",
     "start_time": "2023-11-02T16:22:50.589272Z"
    }
   },
   "outputs": [],
   "source": [
    "import pandas as pd\n",
    "import numpy as np\n",
    "from hypex import Matcher\n",
    "import warnings\n",
    "warnings.simplefilter(action='ignore', category=FutureWarning)"
   ]
  },
  {
   "cell_type": "markdown",
   "metadata": {},
   "source": [
    "## 1. Create or upload your dataset  \n",
    "In this case we will create random dataset with known effect size  \n",
    "If you have your own dataset, go to the part 2 \n"
   ]
  },
  {
   "cell_type": "code",
   "execution_count": 2,
   "metadata": {
    "ExecuteTime": {
     "end_time": "2023-11-02T16:22:52.132705Z",
     "start_time": "2023-11-02T16:22:52.103556Z"
    }
   },
   "outputs": [],
   "source": [
    "from hypex.utils.tutorial_data_creation import create_test_data"
   ]
  },
  {
   "cell_type": "code",
   "execution_count": 3,
   "metadata": {},
   "outputs": [
    {
     "data": {
      "text/html": [
       "<div>\n",
       "<style scoped>\n",
       "    .dataframe tbody tr th:only-of-type {\n",
       "        vertical-align: middle;\n",
       "    }\n",
       "\n",
       "    .dataframe tbody tr th {\n",
       "        vertical-align: top;\n",
       "    }\n",
       "\n",
       "    .dataframe thead th {\n",
       "        text-align: right;\n",
       "    }\n",
       "</style>\n",
       "<table border=\"1\" class=\"dataframe\">\n",
       "  <thead>\n",
       "    <tr style=\"text-align: right;\">\n",
       "      <th></th>\n",
       "      <th>user_id</th>\n",
       "      <th>signup_month</th>\n",
       "      <th>treat</th>\n",
       "      <th>pre_spends</th>\n",
       "      <th>post_spends</th>\n",
       "      <th>age</th>\n",
       "      <th>gender</th>\n",
       "      <th>industry</th>\n",
       "    </tr>\n",
       "  </thead>\n",
       "  <tbody>\n",
       "    <tr>\n",
       "      <th>0</th>\n",
       "      <td>0</td>\n",
       "      <td>0</td>\n",
       "      <td>0</td>\n",
       "      <td>504.5</td>\n",
       "      <td>422.777778</td>\n",
       "      <td>NaN</td>\n",
       "      <td>F</td>\n",
       "      <td>Logistics</td>\n",
       "    </tr>\n",
       "    <tr>\n",
       "      <th>1</th>\n",
       "      <td>2</td>\n",
       "      <td>0</td>\n",
       "      <td>0</td>\n",
       "      <td>485.0</td>\n",
       "      <td>434.000000</td>\n",
       "      <td>34.0</td>\n",
       "      <td>NaN</td>\n",
       "      <td>E-commerce</td>\n",
       "    </tr>\n",
       "    <tr>\n",
       "      <th>2</th>\n",
       "      <td>4</td>\n",
       "      <td>0</td>\n",
       "      <td>0</td>\n",
       "      <td>488.5</td>\n",
       "      <td>420.111111</td>\n",
       "      <td>33.0</td>\n",
       "      <td>F</td>\n",
       "      <td>E-commerce</td>\n",
       "    </tr>\n",
       "    <tr>\n",
       "      <th>3</th>\n",
       "      <td>5</td>\n",
       "      <td>0</td>\n",
       "      <td>0</td>\n",
       "      <td>475.0</td>\n",
       "      <td>408.333333</td>\n",
       "      <td>52.0</td>\n",
       "      <td>M</td>\n",
       "      <td>E-commerce</td>\n",
       "    </tr>\n",
       "    <tr>\n",
       "      <th>4</th>\n",
       "      <td>6</td>\n",
       "      <td>0</td>\n",
       "      <td>0</td>\n",
       "      <td>494.0</td>\n",
       "      <td>423.666667</td>\n",
       "      <td>33.0</td>\n",
       "      <td>M</td>\n",
       "      <td>Logistics</td>\n",
       "    </tr>\n",
       "    <tr>\n",
       "      <th>...</th>\n",
       "      <td>...</td>\n",
       "      <td>...</td>\n",
       "      <td>...</td>\n",
       "      <td>...</td>\n",
       "      <td>...</td>\n",
       "      <td>...</td>\n",
       "      <td>...</td>\n",
       "      <td>...</td>\n",
       "    </tr>\n",
       "    <tr>\n",
       "      <th>5468</th>\n",
       "      <td>9992</td>\n",
       "      <td>0</td>\n",
       "      <td>0</td>\n",
       "      <td>456.5</td>\n",
       "      <td>404.888889</td>\n",
       "      <td>34.0</td>\n",
       "      <td>M</td>\n",
       "      <td>E-commerce</td>\n",
       "    </tr>\n",
       "    <tr>\n",
       "      <th>5469</th>\n",
       "      <td>9993</td>\n",
       "      <td>0</td>\n",
       "      <td>0</td>\n",
       "      <td>503.0</td>\n",
       "      <td>431.888889</td>\n",
       "      <td>64.0</td>\n",
       "      <td>F</td>\n",
       "      <td>Logistics</td>\n",
       "    </tr>\n",
       "    <tr>\n",
       "      <th>5470</th>\n",
       "      <td>9994</td>\n",
       "      <td>0</td>\n",
       "      <td>0</td>\n",
       "      <td>480.0</td>\n",
       "      <td>411.444444</td>\n",
       "      <td>67.0</td>\n",
       "      <td>F</td>\n",
       "      <td>E-commerce</td>\n",
       "    </tr>\n",
       "    <tr>\n",
       "      <th>5471</th>\n",
       "      <td>9996</td>\n",
       "      <td>0</td>\n",
       "      <td>0</td>\n",
       "      <td>453.0</td>\n",
       "      <td>406.888889</td>\n",
       "      <td>27.0</td>\n",
       "      <td>M</td>\n",
       "      <td>Logistics</td>\n",
       "    </tr>\n",
       "    <tr>\n",
       "      <th>5472</th>\n",
       "      <td>9997</td>\n",
       "      <td>0</td>\n",
       "      <td>0</td>\n",
       "      <td>461.0</td>\n",
       "      <td>415.111111</td>\n",
       "      <td>46.0</td>\n",
       "      <td>F</td>\n",
       "      <td>Logistics</td>\n",
       "    </tr>\n",
       "  </tbody>\n",
       "</table>\n",
       "<p>5473 rows × 8 columns</p>\n",
       "</div>"
      ],
      "text/plain": [
       "      user_id  signup_month  treat  pre_spends  post_spends   age gender  \\\n",
       "0           0             0      0       504.5   422.777778   NaN      F   \n",
       "1           2             0      0       485.0   434.000000  34.0    NaN   \n",
       "2           4             0      0       488.5   420.111111  33.0      F   \n",
       "3           5             0      0       475.0   408.333333  52.0      M   \n",
       "4           6             0      0       494.0   423.666667  33.0      M   \n",
       "...       ...           ...    ...         ...          ...   ...    ...   \n",
       "5468     9992             0      0       456.5   404.888889  34.0      M   \n",
       "5469     9993             0      0       503.0   431.888889  64.0      F   \n",
       "5470     9994             0      0       480.0   411.444444  67.0      F   \n",
       "5471     9996             0      0       453.0   406.888889  27.0      M   \n",
       "5472     9997             0      0       461.0   415.111111  46.0      F   \n",
       "\n",
       "        industry  \n",
       "0      Logistics  \n",
       "1     E-commerce  \n",
       "2     E-commerce  \n",
       "3     E-commerce  \n",
       "4      Logistics  \n",
       "...          ...  \n",
       "5468  E-commerce  \n",
       "5469   Logistics  \n",
       "5470  E-commerce  \n",
       "5471   Logistics  \n",
       "5472   Logistics  \n",
       "\n",
       "[5473 rows x 8 columns]"
      ]
     },
     "execution_count": 3,
     "metadata": {},
     "output_type": "execute_result"
    }
   ],
   "source": [
    "df = create_test_data(rs=42, na_step=45, nan_cols=['age', 'gender'])\n",
    "df"
   ]
  },
  {
   "cell_type": "code",
   "execution_count": 4,
   "metadata": {
    "ExecuteTime": {
     "end_time": "2023-11-02T16:22:53.925161Z",
     "start_time": "2023-11-02T16:22:53.852469Z"
    }
   },
   "outputs": [
    {
     "data": {
      "text/plain": [
       "Index(['user_id', 'signup_month', 'treat', 'pre_spends', 'post_spends', 'age',\n",
       "       'gender', 'industry'],\n",
       "      dtype='object')"
      ]
     },
     "execution_count": 4,
     "metadata": {},
     "output_type": "execute_result"
    }
   ],
   "source": [
    "df.columns"
   ]
  },
  {
   "cell_type": "code",
   "execution_count": 5,
   "metadata": {
    "scrolled": true
   },
   "outputs": [
    {
     "data": {
      "text/plain": [
       "0    5002\n",
       "1     471\n",
       "Name: treat, dtype: int64"
      ]
     },
     "execution_count": 5,
     "metadata": {},
     "output_type": "execute_result"
    }
   ],
   "source": [
    "df['treat'].value_counts()"
   ]
  },
  {
   "cell_type": "code",
   "execution_count": 6,
   "metadata": {},
   "outputs": [
    {
     "data": {
      "text/plain": [
       "122"
      ]
     },
     "execution_count": 6,
     "metadata": {},
     "output_type": "execute_result"
    }
   ],
   "source": [
    "df['gender'].isna().sum()"
   ]
  },
  {
   "cell_type": "markdown",
   "metadata": {},
   "source": [
    "## 2. Matching  \n",
    "### 2.0 Init params\n",
    "info_col used to define informative attributes that should not be part of matching, such as user_id  \n",
    "But to explicitly store this column in the table, so that you can compare directly after computation"
   ]
  },
  {
   "cell_type": "code",
   "execution_count": 7,
   "metadata": {
    "ExecuteTime": {
     "end_time": "2023-11-02T16:22:53.926634Z",
     "start_time": "2023-11-02T16:22:53.857908Z"
    }
   },
   "outputs": [],
   "source": [
    "info_col = ['user_id']\n",
    "\n",
    "outcome = 'post_spends'\n",
    "treatment = 'treat'"
   ]
  },
  {
   "cell_type": "markdown",
   "metadata": {},
   "source": [
    "### 2.1 Simple matching\n",
    "This is the easiest way to initialize and calculate metrics on a Matching task  \n",
    "Use it when you are clear about each attribute or if you don't have any additional task conditions (Strict equality for certain features) "
   ]
  },
  {
   "cell_type": "code",
   "execution_count": 8,
   "metadata": {},
   "outputs": [
    {
     "name": "stderr",
     "output_type": "stream",
     "text": [
      "[23.01.2024 09:16:29 | hypex | INFO]: Number of NaN values filled with zeros: 244\n"
     ]
    }
   ],
   "source": [
    "# Standard model with base parameters\n",
    "model = Matcher(input_data=df, outcome=outcome, treatment=treatment, info_col=info_col)"
   ]
  },
  {
   "cell_type": "code",
   "execution_count": 9,
   "metadata": {},
   "outputs": [
    {
     "data": {
      "text/html": [
       "<div>\n",
       "<style scoped>\n",
       "    .dataframe tbody tr th:only-of-type {\n",
       "        vertical-align: middle;\n",
       "    }\n",
       "\n",
       "    .dataframe tbody tr th {\n",
       "        vertical-align: top;\n",
       "    }\n",
       "\n",
       "    .dataframe thead th {\n",
       "        text-align: right;\n",
       "    }\n",
       "</style>\n",
       "<table border=\"1\" class=\"dataframe\">\n",
       "  <thead>\n",
       "    <tr style=\"text-align: right;\">\n",
       "      <th></th>\n",
       "      <th>rank</th>\n",
       "    </tr>\n",
       "  </thead>\n",
       "  <tbody>\n",
       "    <tr>\n",
       "      <th>signup_month</th>\n",
       "      <td>1</td>\n",
       "    </tr>\n",
       "    <tr>\n",
       "      <th>pre_spends</th>\n",
       "      <td>2</td>\n",
       "    </tr>\n",
       "    <tr>\n",
       "      <th>age</th>\n",
       "      <td>3</td>\n",
       "    </tr>\n",
       "    <tr>\n",
       "      <th>gender_F</th>\n",
       "      <td>4</td>\n",
       "    </tr>\n",
       "    <tr>\n",
       "      <th>gender_M</th>\n",
       "      <td>5</td>\n",
       "    </tr>\n",
       "    <tr>\n",
       "      <th>industry_Logistics</th>\n",
       "      <td>6</td>\n",
       "    </tr>\n",
       "  </tbody>\n",
       "</table>\n",
       "</div>"
      ],
      "text/plain": [
       "                    rank\n",
       "signup_month           1\n",
       "pre_spends             2\n",
       "age                    3\n",
       "gender_F               4\n",
       "gender_M               5\n",
       "industry_Logistics     6"
      ]
     },
     "execution_count": 9,
     "metadata": {},
     "output_type": "execute_result"
    }
   ],
   "source": [
    "selected_features = model.feature_select()\n",
    "selected_features"
   ]
  },
  {
   "cell_type": "code",
   "execution_count": 10,
   "metadata": {},
   "outputs": [
    {
     "data": {
      "text/plain": [
       "Index(['signup_month', 'pre_spends', 'age', 'gender_F'], dtype='object')"
      ]
     },
     "execution_count": 10,
     "metadata": {},
     "output_type": "execute_result"
    }
   ],
   "source": [
    "chosen_features = selected_features[:4].index\n",
    "chosen_features"
   ]
  },
  {
   "cell_type": "code",
   "execution_count": 11,
   "metadata": {
    "ExecuteTime": {
     "end_time": "2023-11-02T16:22:54.783169Z",
     "start_time": "2023-11-02T16:22:53.863745Z"
    }
   },
   "outputs": [
    {
     "data": {
      "application/vnd.jupyter.widget-view+json": {
       "model_id": "bee73f048bb44df7a7bbb64d1cb291b9",
       "version_major": 2,
       "version_minor": 0
      },
      "text/plain": [
       "  0%|          | 0/5473 [00:00<?, ?it/s]"
      ]
     },
     "metadata": {},
     "output_type": "display_data"
    }
   ],
   "source": [
    "results, quality_results, df_matched = model.estimate(features=chosen_features)"
   ]
  },
  {
   "cell_type": "code",
   "execution_count": 12,
   "metadata": {},
   "outputs": [
    {
     "data": {
      "text/html": [
       "<div>\n",
       "<style scoped>\n",
       "    .dataframe tbody tr th:only-of-type {\n",
       "        vertical-align: middle;\n",
       "    }\n",
       "\n",
       "    .dataframe tbody tr th {\n",
       "        vertical-align: top;\n",
       "    }\n",
       "\n",
       "    .dataframe thead th {\n",
       "        text-align: right;\n",
       "    }\n",
       "</style>\n",
       "<table border=\"1\" class=\"dataframe\">\n",
       "  <thead>\n",
       "    <tr style=\"text-align: right;\">\n",
       "      <th></th>\n",
       "      <th>effect_size</th>\n",
       "      <th>std_err</th>\n",
       "      <th>p-val</th>\n",
       "      <th>ci_lower</th>\n",
       "      <th>ci_upper</th>\n",
       "      <th>outcome</th>\n",
       "    </tr>\n",
       "  </thead>\n",
       "  <tbody>\n",
       "    <tr>\n",
       "      <th>ATE</th>\n",
       "      <td>-322.294666</td>\n",
       "      <td>0.530585</td>\n",
       "      <td>0.0</td>\n",
       "      <td>-323.334613</td>\n",
       "      <td>-321.254719</td>\n",
       "      <td>post_spends</td>\n",
       "    </tr>\n",
       "    <tr>\n",
       "      <th>ATC</th>\n",
       "      <td>-362.128225</td>\n",
       "      <td>0.540184</td>\n",
       "      <td>0.0</td>\n",
       "      <td>-363.186985</td>\n",
       "      <td>-361.069465</td>\n",
       "      <td>post_spends</td>\n",
       "    </tr>\n",
       "    <tr>\n",
       "      <th>ATT</th>\n",
       "      <td>100.736041</td>\n",
       "      <td>0.641382</td>\n",
       "      <td>0.0</td>\n",
       "      <td>99.478932</td>\n",
       "      <td>101.993150</td>\n",
       "      <td>post_spends</td>\n",
       "    </tr>\n",
       "  </tbody>\n",
       "</table>\n",
       "</div>"
      ],
      "text/plain": [
       "     effect_size   std_err  p-val    ci_lower    ci_upper      outcome\n",
       "ATE  -322.294666  0.530585    0.0 -323.334613 -321.254719  post_spends\n",
       "ATC  -362.128225  0.540184    0.0 -363.186985 -361.069465  post_spends\n",
       "ATT   100.736041  0.641382    0.0   99.478932  101.993150  post_spends"
      ]
     },
     "execution_count": 12,
     "metadata": {},
     "output_type": "execute_result"
    }
   ],
   "source": [
    "results"
   ]
  },
  {
   "cell_type": "code",
   "execution_count": 13,
   "metadata": {},
   "outputs": [
    {
     "data": {
      "text/plain": [
       "dict_keys(['psi', 'ks_test', 'smd', 'repeats'])"
      ]
     },
     "execution_count": 13,
     "metadata": {},
     "output_type": "execute_result"
    }
   ],
   "source": [
    "quality_results.keys()"
   ]
  },
  {
   "cell_type": "code",
   "execution_count": 14,
   "metadata": {},
   "outputs": [
    {
     "data": {
      "text/html": [
       "<div>\n",
       "<style scoped>\n",
       "    .dataframe tbody tr th:only-of-type {\n",
       "        vertical-align: middle;\n",
       "    }\n",
       "\n",
       "    .dataframe tbody tr th {\n",
       "        vertical-align: top;\n",
       "    }\n",
       "\n",
       "    .dataframe thead th {\n",
       "        text-align: right;\n",
       "    }\n",
       "</style>\n",
       "<table border=\"1\" class=\"dataframe\">\n",
       "  <thead>\n",
       "    <tr style=\"text-align: right;\">\n",
       "      <th></th>\n",
       "      <th>match_control_to_treat</th>\n",
       "      <th>match_treat_to_control</th>\n",
       "    </tr>\n",
       "  </thead>\n",
       "  <tbody>\n",
       "    <tr>\n",
       "      <th>age</th>\n",
       "      <td>1.000000e+00</td>\n",
       "      <td>0.129535</td>\n",
       "    </tr>\n",
       "    <tr>\n",
       "      <th>pre_spends</th>\n",
       "      <td>1.000000e+00</td>\n",
       "      <td>0.760687</td>\n",
       "    </tr>\n",
       "    <tr>\n",
       "      <th>signup_month</th>\n",
       "      <td>2.070021e-282</td>\n",
       "      <td>0.000000</td>\n",
       "    </tr>\n",
       "  </tbody>\n",
       "</table>\n",
       "</div>"
      ],
      "text/plain": [
       "              match_control_to_treat  match_treat_to_control\n",
       "age                     1.000000e+00                0.129535\n",
       "pre_spends              1.000000e+00                0.760687\n",
       "signup_month           2.070021e-282                0.000000"
      ]
     },
     "execution_count": 14,
     "metadata": {},
     "output_type": "execute_result"
    }
   ],
   "source": [
    "quality_results['ks_test']"
   ]
  },
  {
   "cell_type": "code",
   "execution_count": 15,
   "metadata": {},
   "outputs": [
    {
     "data": {
      "text/html": [
       "<div>\n",
       "<style scoped>\n",
       "    .dataframe tbody tr th:only-of-type {\n",
       "        vertical-align: middle;\n",
       "    }\n",
       "\n",
       "    .dataframe tbody tr th {\n",
       "        vertical-align: top;\n",
       "    }\n",
       "\n",
       "    .dataframe thead th {\n",
       "        text-align: right;\n",
       "    }\n",
       "</style>\n",
       "<table border=\"1\" class=\"dataframe\">\n",
       "  <thead>\n",
       "    <tr style=\"text-align: right;\">\n",
       "      <th></th>\n",
       "      <th>index</th>\n",
       "      <th>signup_month</th>\n",
       "      <th>pre_spends</th>\n",
       "      <th>age</th>\n",
       "      <th>gender_F</th>\n",
       "      <th>gender_M</th>\n",
       "      <th>industry_Logistics</th>\n",
       "      <th>signup_month_matched</th>\n",
       "      <th>pre_spends_matched</th>\n",
       "      <th>age_matched</th>\n",
       "      <th>gender_F_matched</th>\n",
       "      <th>gender_M_matched</th>\n",
       "      <th>industry_Logistics_matched</th>\n",
       "      <th>index_matched</th>\n",
       "      <th>post_spends</th>\n",
       "      <th>post_spends_matched</th>\n",
       "      <th>post_spends_matched_bias</th>\n",
       "      <th>treat</th>\n",
       "      <th>treat_matched</th>\n",
       "    </tr>\n",
       "  </thead>\n",
       "  <tbody>\n",
       "    <tr>\n",
       "      <th>0</th>\n",
       "      <td>32</td>\n",
       "      <td>3</td>\n",
       "      <td>481.5</td>\n",
       "      <td>63.0</td>\n",
       "      <td>0</td>\n",
       "      <td>1</td>\n",
       "      <td>0</td>\n",
       "      <td>0.0</td>\n",
       "      <td>481.500000</td>\n",
       "      <td>63.000000</td>\n",
       "      <td>0.0</td>\n",
       "      <td>1.0</td>\n",
       "      <td>0.500000</td>\n",
       "      <td>[5880, 5938]</td>\n",
       "      <td>511.333333</td>\n",
       "      <td>414.000000</td>\n",
       "      <td>97.333333</td>\n",
       "      <td>1</td>\n",
       "      <td>0</td>\n",
       "    </tr>\n",
       "    <tr>\n",
       "      <th>1</th>\n",
       "      <td>38</td>\n",
       "      <td>3</td>\n",
       "      <td>493.0</td>\n",
       "      <td>20.0</td>\n",
       "      <td>0</td>\n",
       "      <td>1</td>\n",
       "      <td>0</td>\n",
       "      <td>0.0</td>\n",
       "      <td>492.500000</td>\n",
       "      <td>20.000000</td>\n",
       "      <td>0.0</td>\n",
       "      <td>1.0</td>\n",
       "      <td>0.000000</td>\n",
       "      <td>[323]</td>\n",
       "      <td>519.666667</td>\n",
       "      <td>402.111111</td>\n",
       "      <td>117.558440</td>\n",
       "      <td>1</td>\n",
       "      <td>0</td>\n",
       "    </tr>\n",
       "    <tr>\n",
       "      <th>2</th>\n",
       "      <td>92</td>\n",
       "      <td>3</td>\n",
       "      <td>511.0</td>\n",
       "      <td>40.0</td>\n",
       "      <td>1</td>\n",
       "      <td>0</td>\n",
       "      <td>1</td>\n",
       "      <td>0.0</td>\n",
       "      <td>511.000000</td>\n",
       "      <td>39.000000</td>\n",
       "      <td>1.0</td>\n",
       "      <td>0.0</td>\n",
       "      <td>0.000000</td>\n",
       "      <td>[9665]</td>\n",
       "      <td>535.777778</td>\n",
       "      <td>426.666667</td>\n",
       "      <td>109.060675</td>\n",
       "      <td>1</td>\n",
       "      <td>0</td>\n",
       "    </tr>\n",
       "    <tr>\n",
       "      <th>3</th>\n",
       "      <td>117</td>\n",
       "      <td>3</td>\n",
       "      <td>478.0</td>\n",
       "      <td>56.0</td>\n",
       "      <td>1</td>\n",
       "      <td>0</td>\n",
       "      <td>1</td>\n",
       "      <td>0.0</td>\n",
       "      <td>478.000000</td>\n",
       "      <td>56.000000</td>\n",
       "      <td>1.0</td>\n",
       "      <td>0.0</td>\n",
       "      <td>0.000000</td>\n",
       "      <td>[4243]</td>\n",
       "      <td>529.000000</td>\n",
       "      <td>415.000000</td>\n",
       "      <td>114.000000</td>\n",
       "      <td>1</td>\n",
       "      <td>0</td>\n",
       "    </tr>\n",
       "    <tr>\n",
       "      <th>4</th>\n",
       "      <td>119</td>\n",
       "      <td>3</td>\n",
       "      <td>470.0</td>\n",
       "      <td>57.0</td>\n",
       "      <td>1</td>\n",
       "      <td>0</td>\n",
       "      <td>1</td>\n",
       "      <td>0.0</td>\n",
       "      <td>470.666667</td>\n",
       "      <td>57.333333</td>\n",
       "      <td>1.0</td>\n",
       "      <td>0.0</td>\n",
       "      <td>0.333333</td>\n",
       "      <td>[280, 2931, 5456]</td>\n",
       "      <td>523.444444</td>\n",
       "      <td>413.111111</td>\n",
       "      <td>110.346300</td>\n",
       "      <td>1</td>\n",
       "      <td>0</td>\n",
       "    </tr>\n",
       "    <tr>\n",
       "      <th>...</th>\n",
       "      <td>...</td>\n",
       "      <td>...</td>\n",
       "      <td>...</td>\n",
       "      <td>...</td>\n",
       "      <td>...</td>\n",
       "      <td>...</td>\n",
       "      <td>...</td>\n",
       "      <td>...</td>\n",
       "      <td>...</td>\n",
       "      <td>...</td>\n",
       "      <td>...</td>\n",
       "      <td>...</td>\n",
       "      <td>...</td>\n",
       "      <td>...</td>\n",
       "      <td>...</td>\n",
       "      <td>...</td>\n",
       "      <td>...</td>\n",
       "      <td>...</td>\n",
       "      <td>...</td>\n",
       "    </tr>\n",
       "    <tr>\n",
       "      <th>4997</th>\n",
       "      <td>9992</td>\n",
       "      <td>0</td>\n",
       "      <td>456.5</td>\n",
       "      <td>34.0</td>\n",
       "      <td>0</td>\n",
       "      <td>1</td>\n",
       "      <td>0</td>\n",
       "      <td>3.0</td>\n",
       "      <td>463.000000</td>\n",
       "      <td>31.000000</td>\n",
       "      <td>0.0</td>\n",
       "      <td>1.0</td>\n",
       "      <td>0.000000</td>\n",
       "      <td>[9179]</td>\n",
       "      <td>404.888889</td>\n",
       "      <td>515.555556</td>\n",
       "      <td>-351.957566</td>\n",
       "      <td>0</td>\n",
       "      <td>1</td>\n",
       "    </tr>\n",
       "    <tr>\n",
       "      <th>4998</th>\n",
       "      <td>9993</td>\n",
       "      <td>0</td>\n",
       "      <td>503.0</td>\n",
       "      <td>64.0</td>\n",
       "      <td>1</td>\n",
       "      <td>0</td>\n",
       "      <td>1</td>\n",
       "      <td>3.0</td>\n",
       "      <td>500.500000</td>\n",
       "      <td>63.000000</td>\n",
       "      <td>1.0</td>\n",
       "      <td>0.0</td>\n",
       "      <td>1.000000</td>\n",
       "      <td>[5564]</td>\n",
       "      <td>431.888889</td>\n",
       "      <td>521.111111</td>\n",
       "      <td>-373.248147</td>\n",
       "      <td>0</td>\n",
       "      <td>1</td>\n",
       "    </tr>\n",
       "    <tr>\n",
       "      <th>4999</th>\n",
       "      <td>9994</td>\n",
       "      <td>0</td>\n",
       "      <td>480.0</td>\n",
       "      <td>67.0</td>\n",
       "      <td>1</td>\n",
       "      <td>0</td>\n",
       "      <td>0</td>\n",
       "      <td>3.0</td>\n",
       "      <td>483.000000</td>\n",
       "      <td>64.000000</td>\n",
       "      <td>1.0</td>\n",
       "      <td>0.0</td>\n",
       "      <td>0.000000</td>\n",
       "      <td>[9225]</td>\n",
       "      <td>411.444444</td>\n",
       "      <td>514.222222</td>\n",
       "      <td>-359.795854</td>\n",
       "      <td>0</td>\n",
       "      <td>1</td>\n",
       "    </tr>\n",
       "    <tr>\n",
       "      <th>5000</th>\n",
       "      <td>9996</td>\n",
       "      <td>0</td>\n",
       "      <td>453.0</td>\n",
       "      <td>27.0</td>\n",
       "      <td>0</td>\n",
       "      <td>1</td>\n",
       "      <td>1</td>\n",
       "      <td>3.0</td>\n",
       "      <td>456.000000</td>\n",
       "      <td>23.000000</td>\n",
       "      <td>0.0</td>\n",
       "      <td>1.0</td>\n",
       "      <td>1.000000</td>\n",
       "      <td>[6115]</td>\n",
       "      <td>406.888889</td>\n",
       "      <td>518.000000</td>\n",
       "      <td>-351.474394</td>\n",
       "      <td>0</td>\n",
       "      <td>1</td>\n",
       "    </tr>\n",
       "    <tr>\n",
       "      <th>5001</th>\n",
       "      <td>9997</td>\n",
       "      <td>0</td>\n",
       "      <td>461.0</td>\n",
       "      <td>46.0</td>\n",
       "      <td>1</td>\n",
       "      <td>0</td>\n",
       "      <td>1</td>\n",
       "      <td>3.0</td>\n",
       "      <td>462.500000</td>\n",
       "      <td>46.000000</td>\n",
       "      <td>1.0</td>\n",
       "      <td>0.0</td>\n",
       "      <td>0.000000</td>\n",
       "      <td>[6877]</td>\n",
       "      <td>415.111111</td>\n",
       "      <td>514.666667</td>\n",
       "      <td>-362.960770</td>\n",
       "      <td>0</td>\n",
       "      <td>1</td>\n",
       "    </tr>\n",
       "  </tbody>\n",
       "</table>\n",
       "<p>5473 rows × 19 columns</p>\n",
       "</div>"
      ],
      "text/plain": [
       "      index  signup_month  pre_spends   age  gender_F  gender_M  \\\n",
       "0        32             3       481.5  63.0         0         1   \n",
       "1        38             3       493.0  20.0         0         1   \n",
       "2        92             3       511.0  40.0         1         0   \n",
       "3       117             3       478.0  56.0         1         0   \n",
       "4       119             3       470.0  57.0         1         0   \n",
       "...     ...           ...         ...   ...       ...       ...   \n",
       "4997   9992             0       456.5  34.0         0         1   \n",
       "4998   9993             0       503.0  64.0         1         0   \n",
       "4999   9994             0       480.0  67.0         1         0   \n",
       "5000   9996             0       453.0  27.0         0         1   \n",
       "5001   9997             0       461.0  46.0         1         0   \n",
       "\n",
       "      industry_Logistics  signup_month_matched  pre_spends_matched  \\\n",
       "0                      0                   0.0          481.500000   \n",
       "1                      0                   0.0          492.500000   \n",
       "2                      1                   0.0          511.000000   \n",
       "3                      1                   0.0          478.000000   \n",
       "4                      1                   0.0          470.666667   \n",
       "...                  ...                   ...                 ...   \n",
       "4997                   0                   3.0          463.000000   \n",
       "4998                   1                   3.0          500.500000   \n",
       "4999                   0                   3.0          483.000000   \n",
       "5000                   1                   3.0          456.000000   \n",
       "5001                   1                   3.0          462.500000   \n",
       "\n",
       "      age_matched  gender_F_matched  gender_M_matched  \\\n",
       "0       63.000000               0.0               1.0   \n",
       "1       20.000000               0.0               1.0   \n",
       "2       39.000000               1.0               0.0   \n",
       "3       56.000000               1.0               0.0   \n",
       "4       57.333333               1.0               0.0   \n",
       "...           ...               ...               ...   \n",
       "4997    31.000000               0.0               1.0   \n",
       "4998    63.000000               1.0               0.0   \n",
       "4999    64.000000               1.0               0.0   \n",
       "5000    23.000000               0.0               1.0   \n",
       "5001    46.000000               1.0               0.0   \n",
       "\n",
       "      industry_Logistics_matched      index_matched  post_spends  \\\n",
       "0                       0.500000       [5880, 5938]   511.333333   \n",
       "1                       0.000000              [323]   519.666667   \n",
       "2                       0.000000             [9665]   535.777778   \n",
       "3                       0.000000             [4243]   529.000000   \n",
       "4                       0.333333  [280, 2931, 5456]   523.444444   \n",
       "...                          ...                ...          ...   \n",
       "4997                    0.000000             [9179]   404.888889   \n",
       "4998                    1.000000             [5564]   431.888889   \n",
       "4999                    0.000000             [9225]   411.444444   \n",
       "5000                    1.000000             [6115]   406.888889   \n",
       "5001                    0.000000             [6877]   415.111111   \n",
       "\n",
       "      post_spends_matched  post_spends_matched_bias  treat  treat_matched  \n",
       "0              414.000000                 97.333333      1              0  \n",
       "1              402.111111                117.558440      1              0  \n",
       "2              426.666667                109.060675      1              0  \n",
       "3              415.000000                114.000000      1              0  \n",
       "4              413.111111                110.346300      1              0  \n",
       "...                   ...                       ...    ...            ...  \n",
       "4997           515.555556               -351.957566      0              1  \n",
       "4998           521.111111               -373.248147      0              1  \n",
       "4999           514.222222               -359.795854      0              1  \n",
       "5000           518.000000               -351.474394      0              1  \n",
       "5001           514.666667               -362.960770      0              1  \n",
       "\n",
       "[5473 rows x 19 columns]"
      ]
     },
     "execution_count": 15,
     "metadata": {},
     "output_type": "execute_result"
    }
   ],
   "source": [
    "df_matched"
   ]
  },
  {
   "cell_type": "code",
   "execution_count": 16,
   "metadata": {},
   "outputs": [
    {
     "data": {
      "text/html": [
       "<div>\n",
       "<style scoped>\n",
       "    .dataframe tbody tr th:only-of-type {\n",
       "        vertical-align: middle;\n",
       "    }\n",
       "\n",
       "    .dataframe tbody tr th {\n",
       "        vertical-align: top;\n",
       "    }\n",
       "\n",
       "    .dataframe thead th {\n",
       "        text-align: right;\n",
       "    }\n",
       "</style>\n",
       "<table border=\"1\" class=\"dataframe\">\n",
       "  <thead>\n",
       "    <tr style=\"text-align: right;\">\n",
       "      <th></th>\n",
       "      <th>index</th>\n",
       "      <th>signup_month</th>\n",
       "      <th>pre_spends</th>\n",
       "      <th>age</th>\n",
       "      <th>gender_F</th>\n",
       "      <th>gender_M</th>\n",
       "      <th>industry_Logistics</th>\n",
       "      <th>signup_month_matched</th>\n",
       "      <th>pre_spends_matched</th>\n",
       "      <th>age_matched</th>\n",
       "      <th>gender_F_matched</th>\n",
       "      <th>gender_M_matched</th>\n",
       "      <th>industry_Logistics_matched</th>\n",
       "      <th>index_matched</th>\n",
       "      <th>post_spends</th>\n",
       "      <th>post_spends_matched</th>\n",
       "      <th>post_spends_matched_bias</th>\n",
       "      <th>treat</th>\n",
       "      <th>treat_matched</th>\n",
       "    </tr>\n",
       "  </thead>\n",
       "  <tbody>\n",
       "    <tr>\n",
       "      <th>0</th>\n",
       "      <td>32</td>\n",
       "      <td>3</td>\n",
       "      <td>481.5</td>\n",
       "      <td>63.0</td>\n",
       "      <td>0</td>\n",
       "      <td>1</td>\n",
       "      <td>0</td>\n",
       "      <td>0.0</td>\n",
       "      <td>481.500000</td>\n",
       "      <td>63.000000</td>\n",
       "      <td>0.0</td>\n",
       "      <td>1.0</td>\n",
       "      <td>0.500000</td>\n",
       "      <td>[5880, 5938]</td>\n",
       "      <td>511.333333</td>\n",
       "      <td>414.000000</td>\n",
       "      <td>97.333333</td>\n",
       "      <td>1</td>\n",
       "      <td>0</td>\n",
       "    </tr>\n",
       "    <tr>\n",
       "      <th>2</th>\n",
       "      <td>92</td>\n",
       "      <td>3</td>\n",
       "      <td>511.0</td>\n",
       "      <td>40.0</td>\n",
       "      <td>1</td>\n",
       "      <td>0</td>\n",
       "      <td>1</td>\n",
       "      <td>0.0</td>\n",
       "      <td>511.000000</td>\n",
       "      <td>39.000000</td>\n",
       "      <td>1.0</td>\n",
       "      <td>0.0</td>\n",
       "      <td>0.000000</td>\n",
       "      <td>[9665]</td>\n",
       "      <td>535.777778</td>\n",
       "      <td>426.666667</td>\n",
       "      <td>109.060675</td>\n",
       "      <td>1</td>\n",
       "      <td>0</td>\n",
       "    </tr>\n",
       "    <tr>\n",
       "      <th>3</th>\n",
       "      <td>117</td>\n",
       "      <td>3</td>\n",
       "      <td>478.0</td>\n",
       "      <td>56.0</td>\n",
       "      <td>1</td>\n",
       "      <td>0</td>\n",
       "      <td>1</td>\n",
       "      <td>0.0</td>\n",
       "      <td>478.000000</td>\n",
       "      <td>56.000000</td>\n",
       "      <td>1.0</td>\n",
       "      <td>0.0</td>\n",
       "      <td>0.000000</td>\n",
       "      <td>[4243]</td>\n",
       "      <td>529.000000</td>\n",
       "      <td>415.000000</td>\n",
       "      <td>114.000000</td>\n",
       "      <td>1</td>\n",
       "      <td>0</td>\n",
       "    </tr>\n",
       "    <tr>\n",
       "      <th>4</th>\n",
       "      <td>119</td>\n",
       "      <td>3</td>\n",
       "      <td>470.0</td>\n",
       "      <td>57.0</td>\n",
       "      <td>1</td>\n",
       "      <td>0</td>\n",
       "      <td>1</td>\n",
       "      <td>0.0</td>\n",
       "      <td>470.666667</td>\n",
       "      <td>57.333333</td>\n",
       "      <td>1.0</td>\n",
       "      <td>0.0</td>\n",
       "      <td>0.333333</td>\n",
       "      <td>[280, 2931, 5456]</td>\n",
       "      <td>523.444444</td>\n",
       "      <td>413.111111</td>\n",
       "      <td>110.346300</td>\n",
       "      <td>1</td>\n",
       "      <td>0</td>\n",
       "    </tr>\n",
       "    <tr>\n",
       "      <th>6</th>\n",
       "      <td>143</td>\n",
       "      <td>3</td>\n",
       "      <td>510.0</td>\n",
       "      <td>66.0</td>\n",
       "      <td>1</td>\n",
       "      <td>0</td>\n",
       "      <td>0</td>\n",
       "      <td>0.0</td>\n",
       "      <td>509.500000</td>\n",
       "      <td>66.000000</td>\n",
       "      <td>1.0</td>\n",
       "      <td>0.0</td>\n",
       "      <td>1.000000</td>\n",
       "      <td>[7607]</td>\n",
       "      <td>517.000000</td>\n",
       "      <td>437.888889</td>\n",
       "      <td>79.113995</td>\n",
       "      <td>1</td>\n",
       "      <td>0</td>\n",
       "    </tr>\n",
       "    <tr>\n",
       "      <th>...</th>\n",
       "      <td>...</td>\n",
       "      <td>...</td>\n",
       "      <td>...</td>\n",
       "      <td>...</td>\n",
       "      <td>...</td>\n",
       "      <td>...</td>\n",
       "      <td>...</td>\n",
       "      <td>...</td>\n",
       "      <td>...</td>\n",
       "      <td>...</td>\n",
       "      <td>...</td>\n",
       "      <td>...</td>\n",
       "      <td>...</td>\n",
       "      <td>...</td>\n",
       "      <td>...</td>\n",
       "      <td>...</td>\n",
       "      <td>...</td>\n",
       "      <td>...</td>\n",
       "      <td>...</td>\n",
       "    </tr>\n",
       "    <tr>\n",
       "      <th>4991</th>\n",
       "      <td>9975</td>\n",
       "      <td>0</td>\n",
       "      <td>489.5</td>\n",
       "      <td>21.0</td>\n",
       "      <td>1</td>\n",
       "      <td>0</td>\n",
       "      <td>1</td>\n",
       "      <td>3.0</td>\n",
       "      <td>489.500000</td>\n",
       "      <td>20.000000</td>\n",
       "      <td>1.0</td>\n",
       "      <td>0.0</td>\n",
       "      <td>0.000000</td>\n",
       "      <td>[7305]</td>\n",
       "      <td>418.111111</td>\n",
       "      <td>519.222222</td>\n",
       "      <td>-361.395402</td>\n",
       "      <td>0</td>\n",
       "      <td>1</td>\n",
       "    </tr>\n",
       "    <tr>\n",
       "      <th>4993</th>\n",
       "      <td>9980</td>\n",
       "      <td>0</td>\n",
       "      <td>467.5</td>\n",
       "      <td>53.0</td>\n",
       "      <td>0</td>\n",
       "      <td>1</td>\n",
       "      <td>0</td>\n",
       "      <td>3.0</td>\n",
       "      <td>468.500000</td>\n",
       "      <td>50.000000</td>\n",
       "      <td>0.0</td>\n",
       "      <td>1.0</td>\n",
       "      <td>1.000000</td>\n",
       "      <td>[1711]</td>\n",
       "      <td>415.555556</td>\n",
       "      <td>526.666667</td>\n",
       "      <td>-351.433606</td>\n",
       "      <td>0</td>\n",
       "      <td>1</td>\n",
       "    </tr>\n",
       "    <tr>\n",
       "      <th>4994</th>\n",
       "      <td>9981</td>\n",
       "      <td>0</td>\n",
       "      <td>458.0</td>\n",
       "      <td>23.0</td>\n",
       "      <td>0</td>\n",
       "      <td>1</td>\n",
       "      <td>0</td>\n",
       "      <td>3.0</td>\n",
       "      <td>456.000000</td>\n",
       "      <td>23.000000</td>\n",
       "      <td>0.0</td>\n",
       "      <td>1.0</td>\n",
       "      <td>1.000000</td>\n",
       "      <td>[6115]</td>\n",
       "      <td>422.666667</td>\n",
       "      <td>518.000000</td>\n",
       "      <td>-367.132391</td>\n",
       "      <td>0</td>\n",
       "      <td>1</td>\n",
       "    </tr>\n",
       "    <tr>\n",
       "      <th>4996</th>\n",
       "      <td>9986</td>\n",
       "      <td>0</td>\n",
       "      <td>486.5</td>\n",
       "      <td>19.0</td>\n",
       "      <td>0</td>\n",
       "      <td>1</td>\n",
       "      <td>1</td>\n",
       "      <td>3.0</td>\n",
       "      <td>485.500000</td>\n",
       "      <td>22.000000</td>\n",
       "      <td>0.0</td>\n",
       "      <td>1.0</td>\n",
       "      <td>0.000000</td>\n",
       "      <td>[4334]</td>\n",
       "      <td>418.111111</td>\n",
       "      <td>527.000000</td>\n",
       "      <td>-353.555673</td>\n",
       "      <td>0</td>\n",
       "      <td>1</td>\n",
       "    </tr>\n",
       "    <tr>\n",
       "      <th>5001</th>\n",
       "      <td>9997</td>\n",
       "      <td>0</td>\n",
       "      <td>461.0</td>\n",
       "      <td>46.0</td>\n",
       "      <td>1</td>\n",
       "      <td>0</td>\n",
       "      <td>1</td>\n",
       "      <td>3.0</td>\n",
       "      <td>462.500000</td>\n",
       "      <td>46.000000</td>\n",
       "      <td>1.0</td>\n",
       "      <td>0.0</td>\n",
       "      <td>0.000000</td>\n",
       "      <td>[6877]</td>\n",
       "      <td>415.111111</td>\n",
       "      <td>514.666667</td>\n",
       "      <td>-362.960770</td>\n",
       "      <td>0</td>\n",
       "      <td>1</td>\n",
       "    </tr>\n",
       "  </tbody>\n",
       "</table>\n",
       "<p>2811 rows × 19 columns</p>\n",
       "</div>"
      ],
      "text/plain": [
       "      index  signup_month  pre_spends   age  gender_F  gender_M  \\\n",
       "0        32             3       481.5  63.0         0         1   \n",
       "2        92             3       511.0  40.0         1         0   \n",
       "3       117             3       478.0  56.0         1         0   \n",
       "4       119             3       470.0  57.0         1         0   \n",
       "6       143             3       510.0  66.0         1         0   \n",
       "...     ...           ...         ...   ...       ...       ...   \n",
       "4991   9975             0       489.5  21.0         1         0   \n",
       "4993   9980             0       467.5  53.0         0         1   \n",
       "4994   9981             0       458.0  23.0         0         1   \n",
       "4996   9986             0       486.5  19.0         0         1   \n",
       "5001   9997             0       461.0  46.0         1         0   \n",
       "\n",
       "      industry_Logistics  signup_month_matched  pre_spends_matched  \\\n",
       "0                      0                   0.0          481.500000   \n",
       "2                      1                   0.0          511.000000   \n",
       "3                      1                   0.0          478.000000   \n",
       "4                      1                   0.0          470.666667   \n",
       "6                      0                   0.0          509.500000   \n",
       "...                  ...                   ...                 ...   \n",
       "4991                   1                   3.0          489.500000   \n",
       "4993                   0                   3.0          468.500000   \n",
       "4994                   0                   3.0          456.000000   \n",
       "4996                   1                   3.0          485.500000   \n",
       "5001                   1                   3.0          462.500000   \n",
       "\n",
       "      age_matched  gender_F_matched  gender_M_matched  \\\n",
       "0       63.000000               0.0               1.0   \n",
       "2       39.000000               1.0               0.0   \n",
       "3       56.000000               1.0               0.0   \n",
       "4       57.333333               1.0               0.0   \n",
       "6       66.000000               1.0               0.0   \n",
       "...           ...               ...               ...   \n",
       "4991    20.000000               1.0               0.0   \n",
       "4993    50.000000               0.0               1.0   \n",
       "4994    23.000000               0.0               1.0   \n",
       "4996    22.000000               0.0               1.0   \n",
       "5001    46.000000               1.0               0.0   \n",
       "\n",
       "      industry_Logistics_matched      index_matched  post_spends  \\\n",
       "0                       0.500000       [5880, 5938]   511.333333   \n",
       "2                       0.000000             [9665]   535.777778   \n",
       "3                       0.000000             [4243]   529.000000   \n",
       "4                       0.333333  [280, 2931, 5456]   523.444444   \n",
       "6                       1.000000             [7607]   517.000000   \n",
       "...                          ...                ...          ...   \n",
       "4991                    0.000000             [7305]   418.111111   \n",
       "4993                    1.000000             [1711]   415.555556   \n",
       "4994                    1.000000             [6115]   422.666667   \n",
       "4996                    0.000000             [4334]   418.111111   \n",
       "5001                    0.000000             [6877]   415.111111   \n",
       "\n",
       "      post_spends_matched  post_spends_matched_bias  treat  treat_matched  \n",
       "0              414.000000                 97.333333      1              0  \n",
       "2              426.666667                109.060675      1              0  \n",
       "3              415.000000                114.000000      1              0  \n",
       "4              413.111111                110.346300      1              0  \n",
       "6              437.888889                 79.113995      1              0  \n",
       "...                   ...                       ...    ...            ...  \n",
       "4991           519.222222               -361.395402      0              1  \n",
       "4993           526.666667               -351.433606      0              1  \n",
       "4994           518.000000               -367.132391      0              1  \n",
       "4996           527.000000               -353.555673      0              1  \n",
       "5001           514.666667               -362.960770      0              1  \n",
       "\n",
       "[2811 rows x 19 columns]"
      ]
     },
     "execution_count": 16,
     "metadata": {},
     "output_type": "execute_result"
    }
   ],
   "source": [
    "df_matched[df_matched['industry_Logistics'] != df_matched['industry_Logistics_matched']]"
   ]
  },
  {
   "cell_type": "markdown",
   "metadata": {},
   "source": [
    "### 2.2 Matching with a fixed variable  \n",
    "Used when you have categorical feature(s) that you want to compare by strict equality  \n",
    "group_col is used for strict comparison of categorical features.  \n",
    "In our case there is only one attribute  \n",
    "If there are several such attributes, you should make one of them and use it"
   ]
  },
  {
   "cell_type": "code",
   "execution_count": 17,
   "metadata": {
    "ExecuteTime": {
     "end_time": "2023-11-02T16:24:02.471575Z",
     "start_time": "2023-11-02T16:24:02.469571Z"
    }
   },
   "outputs": [],
   "source": [
    "group_col = \"industry\""
   ]
  },
  {
   "cell_type": "code",
   "execution_count": 18,
   "metadata": {
    "ExecuteTime": {
     "end_time": "2023-11-02T16:26:03.327193Z",
     "start_time": "2023-11-02T16:26:03.077664Z"
    }
   },
   "outputs": [
    {
     "name": "stderr",
     "output_type": "stream",
     "text": [
      "[23.01.2024 09:16:32 | hypex | INFO]: Number of NaN values filled with zeros: 244\n"
     ]
    }
   ],
   "source": [
    "model = Matcher(input_data=df, outcome=outcome, treatment=treatment,\n",
    "                info_col=info_col, group_col=group_col)"
   ]
  },
  {
   "cell_type": "code",
   "execution_count": 19,
   "metadata": {},
   "outputs": [
    {
     "data": {
      "text/html": [
       "<div>\n",
       "<style scoped>\n",
       "    .dataframe tbody tr th:only-of-type {\n",
       "        vertical-align: middle;\n",
       "    }\n",
       "\n",
       "    .dataframe tbody tr th {\n",
       "        vertical-align: top;\n",
       "    }\n",
       "\n",
       "    .dataframe thead th {\n",
       "        text-align: right;\n",
       "    }\n",
       "</style>\n",
       "<table border=\"1\" class=\"dataframe\">\n",
       "  <thead>\n",
       "    <tr style=\"text-align: right;\">\n",
       "      <th></th>\n",
       "      <th>rank</th>\n",
       "    </tr>\n",
       "  </thead>\n",
       "  <tbody>\n",
       "    <tr>\n",
       "      <th>signup_month</th>\n",
       "      <td>1</td>\n",
       "    </tr>\n",
       "    <tr>\n",
       "      <th>pre_spends</th>\n",
       "      <td>2</td>\n",
       "    </tr>\n",
       "    <tr>\n",
       "      <th>age</th>\n",
       "      <td>3</td>\n",
       "    </tr>\n",
       "    <tr>\n",
       "      <th>gender_F</th>\n",
       "      <td>4</td>\n",
       "    </tr>\n",
       "    <tr>\n",
       "      <th>gender_M</th>\n",
       "      <td>5</td>\n",
       "    </tr>\n",
       "  </tbody>\n",
       "</table>\n",
       "</div>"
      ],
      "text/plain": [
       "              rank\n",
       "signup_month     1\n",
       "pre_spends       2\n",
       "age              3\n",
       "gender_F         4\n",
       "gender_M         5"
      ]
     },
     "execution_count": 19,
     "metadata": {},
     "output_type": "execute_result"
    }
   ],
   "source": [
    "selected_features = model.feature_select()\n",
    "selected_features"
   ]
  },
  {
   "cell_type": "code",
   "execution_count": 20,
   "metadata": {},
   "outputs": [
    {
     "data": {
      "text/plain": [
       "Index(['signup_month', 'pre_spends', 'age', 'gender_F'], dtype='object')"
      ]
     },
     "execution_count": 20,
     "metadata": {},
     "output_type": "execute_result"
    }
   ],
   "source": [
    "chosen_features = selected_features[:4].index\n",
    "chosen_features"
   ]
  },
  {
   "cell_type": "code",
   "execution_count": 21,
   "metadata": {
    "ExecuteTime": {
     "end_time": "2023-11-02T16:22:54.783169Z",
     "start_time": "2023-11-02T16:22:53.863745Z"
    }
   },
   "outputs": [
    {
     "data": {
      "application/vnd.jupyter.widget-view+json": {
       "model_id": "545d172f0d1a4354b5c008583e7fada5",
       "version_major": 2,
       "version_minor": 0
      },
      "text/plain": [
       "  0%|          | 0/4 [00:00<?, ?it/s]"
      ]
     },
     "metadata": {},
     "output_type": "display_data"
    }
   ],
   "source": [
    "results, quality_results, df_matched = model.estimate(features=chosen_features)"
   ]
  },
  {
   "cell_type": "code",
   "execution_count": 22,
   "metadata": {},
   "outputs": [
    {
     "data": {
      "text/html": [
       "<div>\n",
       "<style scoped>\n",
       "    .dataframe tbody tr th:only-of-type {\n",
       "        vertical-align: middle;\n",
       "    }\n",
       "\n",
       "    .dataframe tbody tr th {\n",
       "        vertical-align: top;\n",
       "    }\n",
       "\n",
       "    .dataframe thead th {\n",
       "        text-align: right;\n",
       "    }\n",
       "</style>\n",
       "<table border=\"1\" class=\"dataframe\">\n",
       "  <thead>\n",
       "    <tr style=\"text-align: right;\">\n",
       "      <th></th>\n",
       "      <th>effect_size</th>\n",
       "      <th>std_err</th>\n",
       "      <th>p-val</th>\n",
       "      <th>ci_lower</th>\n",
       "      <th>ci_upper</th>\n",
       "      <th>outcome</th>\n",
       "    </tr>\n",
       "  </thead>\n",
       "  <tbody>\n",
       "    <tr>\n",
       "      <th>ATE</th>\n",
       "      <td>-316.075532</td>\n",
       "      <td>0.531084</td>\n",
       "      <td>0.0</td>\n",
       "      <td>-317.116456</td>\n",
       "      <td>-315.034609</td>\n",
       "      <td>post_spends</td>\n",
       "    </tr>\n",
       "    <tr>\n",
       "      <th>ATC</th>\n",
       "      <td>-355.282996</td>\n",
       "      <td>0.541203</td>\n",
       "      <td>0.0</td>\n",
       "      <td>-356.343754</td>\n",
       "      <td>-354.222239</td>\n",
       "      <td>post_spends</td>\n",
       "    </tr>\n",
       "    <tr>\n",
       "      <th>ATT</th>\n",
       "      <td>100.306066</td>\n",
       "      <td>0.642753</td>\n",
       "      <td>0.0</td>\n",
       "      <td>99.046271</td>\n",
       "      <td>101.565862</td>\n",
       "      <td>post_spends</td>\n",
       "    </tr>\n",
       "  </tbody>\n",
       "</table>\n",
       "</div>"
      ],
      "text/plain": [
       "     effect_size   std_err  p-val    ci_lower    ci_upper      outcome\n",
       "ATE  -316.075532  0.531084    0.0 -317.116456 -315.034609  post_spends\n",
       "ATC  -355.282996  0.541203    0.0 -356.343754 -354.222239  post_spends\n",
       "ATT   100.306066  0.642753    0.0   99.046271  101.565862  post_spends"
      ]
     },
     "execution_count": 22,
     "metadata": {},
     "output_type": "execute_result"
    }
   ],
   "source": [
    "results"
   ]
  },
  {
   "cell_type": "code",
   "execution_count": 23,
   "metadata": {},
   "outputs": [
    {
     "data": {
      "text/html": [
       "<div>\n",
       "<style scoped>\n",
       "    .dataframe tbody tr th:only-of-type {\n",
       "        vertical-align: middle;\n",
       "    }\n",
       "\n",
       "    .dataframe tbody tr th {\n",
       "        vertical-align: top;\n",
       "    }\n",
       "\n",
       "    .dataframe thead th {\n",
       "        text-align: right;\n",
       "    }\n",
       "</style>\n",
       "<table border=\"1\" class=\"dataframe\">\n",
       "  <thead>\n",
       "    <tr style=\"text-align: right;\">\n",
       "      <th></th>\n",
       "      <th>index</th>\n",
       "      <th>signup_month</th>\n",
       "      <th>pre_spends</th>\n",
       "      <th>age</th>\n",
       "      <th>gender_F</th>\n",
       "      <th>gender_M</th>\n",
       "      <th>industry</th>\n",
       "      <th>signup_month_matched</th>\n",
       "      <th>pre_spends_matched</th>\n",
       "      <th>age_matched</th>\n",
       "      <th>gender_F_matched</th>\n",
       "      <th>gender_M_matched</th>\n",
       "      <th>industry_matched</th>\n",
       "      <th>index_matched</th>\n",
       "      <th>post_spends</th>\n",
       "      <th>post_spends_matched</th>\n",
       "      <th>post_spends_matched_bias</th>\n",
       "      <th>treat</th>\n",
       "      <th>treat_matched</th>\n",
       "    </tr>\n",
       "  </thead>\n",
       "  <tbody>\n",
       "  </tbody>\n",
       "</table>\n",
       "</div>"
      ],
      "text/plain": [
       "Empty DataFrame\n",
       "Columns: [index, signup_month, pre_spends, age, gender_F, gender_M, industry, signup_month_matched, pre_spends_matched, age_matched, gender_F_matched, gender_M_matched, industry_matched, index_matched, post_spends, post_spends_matched, post_spends_matched_bias, treat, treat_matched]\n",
       "Index: []"
      ]
     },
     "execution_count": 23,
     "metadata": {},
     "output_type": "execute_result"
    }
   ],
   "source": [
    "df_matched[df_matched['industry'] != df_matched['industry_matched']]"
   ]
  },
  {
   "cell_type": "markdown",
   "metadata": {},
   "source": [
    "## 3. Results  \n",
    "### 3.1 ATE, ATT, ATC"
   ]
  },
  {
   "cell_type": "code",
   "execution_count": 24,
   "metadata": {},
   "outputs": [
    {
     "data": {
      "text/html": [
       "<div>\n",
       "<style scoped>\n",
       "    .dataframe tbody tr th:only-of-type {\n",
       "        vertical-align: middle;\n",
       "    }\n",
       "\n",
       "    .dataframe tbody tr th {\n",
       "        vertical-align: top;\n",
       "    }\n",
       "\n",
       "    .dataframe thead th {\n",
       "        text-align: right;\n",
       "    }\n",
       "</style>\n",
       "<table border=\"1\" class=\"dataframe\">\n",
       "  <thead>\n",
       "    <tr style=\"text-align: right;\">\n",
       "      <th></th>\n",
       "      <th>effect_size</th>\n",
       "      <th>std_err</th>\n",
       "      <th>p-val</th>\n",
       "      <th>ci_lower</th>\n",
       "      <th>ci_upper</th>\n",
       "      <th>outcome</th>\n",
       "    </tr>\n",
       "  </thead>\n",
       "  <tbody>\n",
       "    <tr>\n",
       "      <th>ATE</th>\n",
       "      <td>-316.075532</td>\n",
       "      <td>0.531084</td>\n",
       "      <td>0.0</td>\n",
       "      <td>-317.116456</td>\n",
       "      <td>-315.034609</td>\n",
       "      <td>post_spends</td>\n",
       "    </tr>\n",
       "    <tr>\n",
       "      <th>ATC</th>\n",
       "      <td>-355.282996</td>\n",
       "      <td>0.541203</td>\n",
       "      <td>0.0</td>\n",
       "      <td>-356.343754</td>\n",
       "      <td>-354.222239</td>\n",
       "      <td>post_spends</td>\n",
       "    </tr>\n",
       "    <tr>\n",
       "      <th>ATT</th>\n",
       "      <td>100.306066</td>\n",
       "      <td>0.642753</td>\n",
       "      <td>0.0</td>\n",
       "      <td>99.046271</td>\n",
       "      <td>101.565862</td>\n",
       "      <td>post_spends</td>\n",
       "    </tr>\n",
       "  </tbody>\n",
       "</table>\n",
       "</div>"
      ],
      "text/plain": [
       "     effect_size   std_err  p-val    ci_lower    ci_upper      outcome\n",
       "ATE  -316.075532  0.531084    0.0 -317.116456 -315.034609  post_spends\n",
       "ATC  -355.282996  0.541203    0.0 -356.343754 -354.222239  post_spends\n",
       "ATT   100.306066  0.642753    0.0   99.046271  101.565862  post_spends"
      ]
     },
     "execution_count": 24,
     "metadata": {},
     "output_type": "execute_result"
    }
   ],
   "source": [
    "results"
   ]
  },
  {
   "cell_type": "markdown",
   "metadata": {},
   "source": [
    "### 3.2 SMD, PSI, KS-test, repeats"
   ]
  },
  {
   "cell_type": "code",
   "execution_count": 25,
   "metadata": {},
   "outputs": [
    {
     "data": {
      "text/plain": [
       "dict_keys(['psi', 'ks_test', 'smd', 'repeats'])"
      ]
     },
     "execution_count": 25,
     "metadata": {},
     "output_type": "execute_result"
    }
   ],
   "source": [
    "quality_results.keys()"
   ]
  },
  {
   "cell_type": "code",
   "execution_count": 26,
   "metadata": {},
   "outputs": [
    {
     "data": {
      "text/html": [
       "<div>\n",
       "<style scoped>\n",
       "    .dataframe tbody tr th:only-of-type {\n",
       "        vertical-align: middle;\n",
       "    }\n",
       "\n",
       "    .dataframe tbody tr th {\n",
       "        vertical-align: top;\n",
       "    }\n",
       "\n",
       "    .dataframe thead th {\n",
       "        text-align: right;\n",
       "    }\n",
       "</style>\n",
       "<table border=\"1\" class=\"dataframe\">\n",
       "  <thead>\n",
       "    <tr style=\"text-align: right;\">\n",
       "      <th></th>\n",
       "      <th>column_treated</th>\n",
       "      <th>anomaly_score_treated</th>\n",
       "      <th>check_result_treated</th>\n",
       "      <th>column_untreated</th>\n",
       "      <th>anomaly_score_untreated</th>\n",
       "      <th>check_result_untreated</th>\n",
       "    </tr>\n",
       "  </thead>\n",
       "  <tbody>\n",
       "    <tr>\n",
       "      <th>0</th>\n",
       "      <td>age_treated</td>\n",
       "      <td>0.00</td>\n",
       "      <td>OK</td>\n",
       "      <td>age_untreated</td>\n",
       "      <td>0.01</td>\n",
       "      <td>OK</td>\n",
       "    </tr>\n",
       "    <tr>\n",
       "      <th>1</th>\n",
       "      <td>gender_F_treated</td>\n",
       "      <td>0.00</td>\n",
       "      <td>OK</td>\n",
       "      <td>gender_F_untreated</td>\n",
       "      <td>0.00</td>\n",
       "      <td>OK</td>\n",
       "    </tr>\n",
       "    <tr>\n",
       "      <th>2</th>\n",
       "      <td>industry_treated</td>\n",
       "      <td>0.00</td>\n",
       "      <td>OK</td>\n",
       "      <td>industry_untreated</td>\n",
       "      <td>0.00</td>\n",
       "      <td>OK</td>\n",
       "    </tr>\n",
       "    <tr>\n",
       "      <th>3</th>\n",
       "      <td>pre_spends_treated</td>\n",
       "      <td>0.01</td>\n",
       "      <td>OK</td>\n",
       "      <td>pre_spends_untreated</td>\n",
       "      <td>0.01</td>\n",
       "      <td>OK</td>\n",
       "    </tr>\n",
       "    <tr>\n",
       "      <th>4</th>\n",
       "      <td>signup_month_treated</td>\n",
       "      <td>18.42</td>\n",
       "      <td>NOK</td>\n",
       "      <td>signup_month_untreated</td>\n",
       "      <td>0.00</td>\n",
       "      <td>OK</td>\n",
       "    </tr>\n",
       "  </tbody>\n",
       "</table>\n",
       "</div>"
      ],
      "text/plain": [
       "         column_treated  anomaly_score_treated check_result_treated  \\\n",
       "0           age_treated                   0.00                   OK   \n",
       "1      gender_F_treated                   0.00                   OK   \n",
       "2      industry_treated                   0.00                   OK   \n",
       "3    pre_spends_treated                   0.01                   OK   \n",
       "4  signup_month_treated                  18.42                  NOK   \n",
       "\n",
       "         column_untreated  anomaly_score_untreated check_result_untreated  \n",
       "0           age_untreated                     0.01                     OK  \n",
       "1      gender_F_untreated                     0.00                     OK  \n",
       "2      industry_untreated                     0.00                     OK  \n",
       "3    pre_spends_untreated                     0.01                     OK  \n",
       "4  signup_month_untreated                     0.00                     OK  "
      ]
     },
     "execution_count": 26,
     "metadata": {},
     "output_type": "execute_result"
    }
   ],
   "source": [
    "quality_results['psi']"
   ]
  },
  {
   "cell_type": "code",
   "execution_count": 27,
   "metadata": {},
   "outputs": [
    {
     "data": {
      "text/html": [
       "<div>\n",
       "<style scoped>\n",
       "    .dataframe tbody tr th:only-of-type {\n",
       "        vertical-align: middle;\n",
       "    }\n",
       "\n",
       "    .dataframe tbody tr th {\n",
       "        vertical-align: top;\n",
       "    }\n",
       "\n",
       "    .dataframe thead th {\n",
       "        text-align: right;\n",
       "    }\n",
       "</style>\n",
       "<table border=\"1\" class=\"dataframe\">\n",
       "  <thead>\n",
       "    <tr style=\"text-align: right;\">\n",
       "      <th></th>\n",
       "      <th>match_control_to_treat</th>\n",
       "      <th>match_treat_to_control</th>\n",
       "    </tr>\n",
       "  </thead>\n",
       "  <tbody>\n",
       "    <tr>\n",
       "      <th>age</th>\n",
       "      <td>1.000000e+00</td>\n",
       "      <td>0.087975</td>\n",
       "    </tr>\n",
       "    <tr>\n",
       "      <th>pre_spends</th>\n",
       "      <td>1.000000e+00</td>\n",
       "      <td>0.170224</td>\n",
       "    </tr>\n",
       "    <tr>\n",
       "      <th>signup_month</th>\n",
       "      <td>2.070021e-282</td>\n",
       "      <td>0.000000</td>\n",
       "    </tr>\n",
       "  </tbody>\n",
       "</table>\n",
       "</div>"
      ],
      "text/plain": [
       "              match_control_to_treat  match_treat_to_control\n",
       "age                     1.000000e+00                0.087975\n",
       "pre_spends              1.000000e+00                0.170224\n",
       "signup_month           2.070021e-282                0.000000"
      ]
     },
     "execution_count": 27,
     "metadata": {},
     "output_type": "execute_result"
    }
   ],
   "source": [
    "quality_results['ks_test']"
   ]
  },
  {
   "cell_type": "code",
   "execution_count": 28,
   "metadata": {},
   "outputs": [
    {
     "data": {
      "text/plain": [
       "{'match_control_to_treat': 0.95, 'match_treat_to_control': 0.09}"
      ]
     },
     "execution_count": 28,
     "metadata": {},
     "output_type": "execute_result"
    }
   ],
   "source": [
    "quality_results['repeats']"
   ]
  },
  {
   "cell_type": "markdown",
   "metadata": {},
   "source": [
    "### 3.3 Validation\n",
    "Validates estimated effect:\n",
    "1. by replacing real treatment (`random_treatment`) with random placebo treatment.\n",
    " Estimated effect must be droped to zero;\n",
    "2. by adding random feature (`random_feature`). Estimated effect shouldn't change\n",
    "significantly, p-val < 0.05;\n",
    "3. estimates effect on subset of data (`subset_refuter`) (default fraction is 0.8). Estimated effect\n",
    "shouldn't change significantly, p-val < 0.05."
   ]
  },
  {
   "cell_type": "code",
   "execution_count": 29,
   "metadata": {
    "ExecuteTime": {
     "end_time": "2023-11-02T16:26:41.862026Z",
     "start_time": "2023-11-02T16:26:40.281981Z"
    }
   },
   "outputs": [
    {
     "data": {
      "application/vnd.jupyter.widget-view+json": {
       "model_id": "2f5623d0eb3c4ac1a3938df583e41277",
       "version_major": 2,
       "version_minor": 0
      },
      "text/plain": [
       "  0%|          | 0/10 [00:00<?, ?it/s]"
      ]
     },
     "metadata": {},
     "output_type": "display_data"
    },
    {
     "data": {
      "text/plain": [
       "{'post_spends': [-0.07194058875830694, 0.0]}"
      ]
     },
     "execution_count": 29,
     "metadata": {},
     "output_type": "execute_result"
    }
   ],
   "source": [
    "model.validate_result(refuter=\"random_treatment\", effect_type=\"att\", n_sim=10)"
   ]
  },
  {
   "cell_type": "markdown",
   "metadata": {},
   "source": [
    "## 4. Save model"
   ]
  },
  {
   "cell_type": "code",
   "execution_count": 30,
   "metadata": {
    "ExecuteTime": {
     "end_time": "2023-11-02T16:26:53.011066Z",
     "start_time": "2023-11-02T16:26:53.004794Z"
    }
   },
   "outputs": [],
   "source": [
    "model.save(\"test_model.pickle\")"
   ]
  },
  {
   "cell_type": "code",
   "execution_count": 31,
   "metadata": {
    "ExecuteTime": {
     "end_time": "2023-11-02T16:27:37.915684Z",
     "start_time": "2023-11-02T16:27:37.907836Z"
    }
   },
   "outputs": [],
   "source": [
    "model2 = Matcher.load(\"test_model.pickle\")"
   ]
  },
  {
   "cell_type": "code",
   "execution_count": 32,
   "metadata": {},
   "outputs": [
    {
     "data": {
      "text/html": [
       "<div>\n",
       "<style scoped>\n",
       "    .dataframe tbody tr th:only-of-type {\n",
       "        vertical-align: middle;\n",
       "    }\n",
       "\n",
       "    .dataframe tbody tr th {\n",
       "        vertical-align: top;\n",
       "    }\n",
       "\n",
       "    .dataframe thead th {\n",
       "        text-align: right;\n",
       "    }\n",
       "</style>\n",
       "<table border=\"1\" class=\"dataframe\">\n",
       "  <thead>\n",
       "    <tr style=\"text-align: right;\">\n",
       "      <th></th>\n",
       "      <th>effect_size</th>\n",
       "      <th>std_err</th>\n",
       "      <th>p-val</th>\n",
       "      <th>ci_lower</th>\n",
       "      <th>ci_upper</th>\n",
       "      <th>outcome</th>\n",
       "    </tr>\n",
       "  </thead>\n",
       "  <tbody>\n",
       "    <tr>\n",
       "      <th>ATE</th>\n",
       "      <td>-316.075532</td>\n",
       "      <td>0.531084</td>\n",
       "      <td>0.0</td>\n",
       "      <td>-317.116456</td>\n",
       "      <td>-315.034609</td>\n",
       "      <td>post_spends</td>\n",
       "    </tr>\n",
       "    <tr>\n",
       "      <th>ATC</th>\n",
       "      <td>-355.282996</td>\n",
       "      <td>0.541203</td>\n",
       "      <td>0.0</td>\n",
       "      <td>-356.343754</td>\n",
       "      <td>-354.222239</td>\n",
       "      <td>post_spends</td>\n",
       "    </tr>\n",
       "    <tr>\n",
       "      <th>ATT</th>\n",
       "      <td>100.306066</td>\n",
       "      <td>0.642753</td>\n",
       "      <td>0.0</td>\n",
       "      <td>99.046271</td>\n",
       "      <td>101.565862</td>\n",
       "      <td>post_spends</td>\n",
       "    </tr>\n",
       "  </tbody>\n",
       "</table>\n",
       "</div>"
      ],
      "text/plain": [
       "     effect_size   std_err  p-val    ci_lower    ci_upper      outcome\n",
       "ATE  -316.075532  0.531084    0.0 -317.116456 -315.034609  post_spends\n",
       "ATC  -355.282996  0.541203    0.0 -356.343754 -354.222239  post_spends\n",
       "ATT   100.306066  0.642753    0.0   99.046271  101.565862  post_spends"
      ]
     },
     "execution_count": 32,
     "metadata": {},
     "output_type": "execute_result"
    }
   ],
   "source": [
    "model2.results"
   ]
  },
  {
   "cell_type": "code",
   "execution_count": 33,
   "metadata": {},
   "outputs": [
    {
     "data": {
      "text/html": [
       "<div>\n",
       "<style scoped>\n",
       "    .dataframe tbody tr th:only-of-type {\n",
       "        vertical-align: middle;\n",
       "    }\n",
       "\n",
       "    .dataframe tbody tr th {\n",
       "        vertical-align: top;\n",
       "    }\n",
       "\n",
       "    .dataframe thead th {\n",
       "        text-align: right;\n",
       "    }\n",
       "</style>\n",
       "<table border=\"1\" class=\"dataframe\">\n",
       "  <thead>\n",
       "    <tr style=\"text-align: right;\">\n",
       "      <th></th>\n",
       "      <th>effect_size</th>\n",
       "      <th>std_err</th>\n",
       "      <th>p-val</th>\n",
       "      <th>ci_lower</th>\n",
       "      <th>ci_upper</th>\n",
       "      <th>outcome</th>\n",
       "    </tr>\n",
       "  </thead>\n",
       "  <tbody>\n",
       "    <tr>\n",
       "      <th>ATE</th>\n",
       "      <td>-316.075532</td>\n",
       "      <td>0.531084</td>\n",
       "      <td>0.0</td>\n",
       "      <td>-317.116456</td>\n",
       "      <td>-315.034609</td>\n",
       "      <td>post_spends</td>\n",
       "    </tr>\n",
       "    <tr>\n",
       "      <th>ATC</th>\n",
       "      <td>-355.282996</td>\n",
       "      <td>0.541203</td>\n",
       "      <td>0.0</td>\n",
       "      <td>-356.343754</td>\n",
       "      <td>-354.222239</td>\n",
       "      <td>post_spends</td>\n",
       "    </tr>\n",
       "    <tr>\n",
       "      <th>ATT</th>\n",
       "      <td>100.306066</td>\n",
       "      <td>0.642753</td>\n",
       "      <td>0.0</td>\n",
       "      <td>99.046271</td>\n",
       "      <td>101.565862</td>\n",
       "      <td>post_spends</td>\n",
       "    </tr>\n",
       "  </tbody>\n",
       "</table>\n",
       "</div>"
      ],
      "text/plain": [
       "     effect_size   std_err  p-val    ci_lower    ci_upper      outcome\n",
       "ATE  -316.075532  0.531084    0.0 -317.116456 -315.034609  post_spends\n",
       "ATC  -355.282996  0.541203    0.0 -356.343754 -354.222239  post_spends\n",
       "ATT   100.306066  0.642753    0.0   99.046271  101.565862  post_spends"
      ]
     },
     "execution_count": 33,
     "metadata": {},
     "output_type": "execute_result"
    }
   ],
   "source": [
    "model.results"
   ]
  }
 ],
 "metadata": {
  "kernelspec": {
   "display_name": "Python 3 (ipykernel)",
   "language": "python",
   "name": "python3"
  },
  "language_info": {
   "codemirror_mode": {
    "name": "ipython",
    "version": 3
   },
   "file_extension": ".py",
   "mimetype": "text/x-python",
   "name": "python",
   "nbconvert_exporter": "python",
   "pygments_lexer": "ipython3",
   "version": "3.9.7"
  }
 },
 "nbformat": 4,
 "nbformat_minor": 4
}
