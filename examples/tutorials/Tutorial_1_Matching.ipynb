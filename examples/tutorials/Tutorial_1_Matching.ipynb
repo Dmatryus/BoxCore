{
 "cells": [
  {
   "cell_type": "markdown",
   "metadata": {},
   "source": [
    "# Tutorial 1: Matching"
   ]
  },
  {
   "cell_type": "markdown",
   "metadata": {},
   "source": [
    "## 0. Import libraries "
   ]
  },
  {
   "cell_type": "code",
   "execution_count": 1,
   "metadata": {
    "ExecuteTime": {
     "end_time": "2024-03-05T13:37:59.927516500Z",
     "start_time": "2024-03-05T13:37:55.056727900Z"
    }
   },
   "outputs": [
    {
     "name": "stderr",
     "output_type": "stream",
     "text": [
      "C:\\Users\\User\\AppData\\Local\\Programs\\Python\\Python310\\lib\\site-packages\\tqdm\\auto.py:21: TqdmWarning: IProgress not found. Please update jupyter and ipywidgets. See https://ipywidgets.readthedocs.io/en/stable/user_install.html\n",
      "  from .autonotebook import tqdm as notebook_tqdm\n"
     ]
    }
   ],
   "source": [
    "from hypex import Matcher"
   ]
  },
  {
   "cell_type": "markdown",
   "metadata": {},
   "source": [
    "## 1. Create or upload your dataset  \n",
    "In this case we will create random dataset with known effect size  \n",
    "If you have your own dataset, go to the part 2 \n"
   ]
  },
  {
   "cell_type": "code",
   "execution_count": 2,
   "metadata": {
    "ExecuteTime": {
     "end_time": "2024-03-05T13:37:59.952659200Z",
     "start_time": "2024-03-05T13:37:59.931623200Z"
    }
   },
   "outputs": [],
   "source": [
    "from hypex.utils.tutorial_data_creation import create_test_data"
   ]
  },
  {
   "cell_type": "code",
   "execution_count": 3,
   "metadata": {
    "ExecuteTime": {
     "end_time": "2024-03-05T13:38:18.298652Z",
     "start_time": "2024-03-05T13:37:59.946835700Z"
    }
   },
   "outputs": [
    {
     "data": {
      "text/plain": "      user_id  signup_month  treat  pre_spends  post_spends   age gender  \\\n0           0             0      0       504.5   422.777778   NaN      F   \n1           1             4      1       500.0   506.333333  51.0    NaN   \n2           2             0      0       485.0   434.000000  56.0      F   \n3           3             8      1       452.0   468.111111  46.0      M   \n4           4             0      0       488.5   420.111111  56.0      M   \n...       ...           ...    ...         ...          ...   ...    ...   \n9995     9995             2      1       482.0   501.666667  31.0      M   \n9996     9996             0      0       453.0   406.888889  53.0      M   \n9997     9997             0      0       461.0   415.111111  52.0      F   \n9998     9998            10      1       491.5   439.222222  22.0      M   \n9999     9999             2      1       481.0   517.222222  53.0      M   \n\n        industry  \n0      Logistics  \n1     E-commerce  \n2      Logistics  \n3     E-commerce  \n4      Logistics  \n...          ...  \n9995   Logistics  \n9996   Logistics  \n9997  E-commerce  \n9998  E-commerce  \n9999  E-commerce  \n\n[10000 rows x 8 columns]",
      "text/html": "<div>\n<style scoped>\n    .dataframe tbody tr th:only-of-type {\n        vertical-align: middle;\n    }\n\n    .dataframe tbody tr th {\n        vertical-align: top;\n    }\n\n    .dataframe thead th {\n        text-align: right;\n    }\n</style>\n<table border=\"1\" class=\"dataframe\">\n  <thead>\n    <tr style=\"text-align: right;\">\n      <th></th>\n      <th>user_id</th>\n      <th>signup_month</th>\n      <th>treat</th>\n      <th>pre_spends</th>\n      <th>post_spends</th>\n      <th>age</th>\n      <th>gender</th>\n      <th>industry</th>\n    </tr>\n  </thead>\n  <tbody>\n    <tr>\n      <th>0</th>\n      <td>0</td>\n      <td>0</td>\n      <td>0</td>\n      <td>504.5</td>\n      <td>422.777778</td>\n      <td>NaN</td>\n      <td>F</td>\n      <td>Logistics</td>\n    </tr>\n    <tr>\n      <th>1</th>\n      <td>1</td>\n      <td>4</td>\n      <td>1</td>\n      <td>500.0</td>\n      <td>506.333333</td>\n      <td>51.0</td>\n      <td>NaN</td>\n      <td>E-commerce</td>\n    </tr>\n    <tr>\n      <th>2</th>\n      <td>2</td>\n      <td>0</td>\n      <td>0</td>\n      <td>485.0</td>\n      <td>434.000000</td>\n      <td>56.0</td>\n      <td>F</td>\n      <td>Logistics</td>\n    </tr>\n    <tr>\n      <th>3</th>\n      <td>3</td>\n      <td>8</td>\n      <td>1</td>\n      <td>452.0</td>\n      <td>468.111111</td>\n      <td>46.0</td>\n      <td>M</td>\n      <td>E-commerce</td>\n    </tr>\n    <tr>\n      <th>4</th>\n      <td>4</td>\n      <td>0</td>\n      <td>0</td>\n      <td>488.5</td>\n      <td>420.111111</td>\n      <td>56.0</td>\n      <td>M</td>\n      <td>Logistics</td>\n    </tr>\n    <tr>\n      <th>...</th>\n      <td>...</td>\n      <td>...</td>\n      <td>...</td>\n      <td>...</td>\n      <td>...</td>\n      <td>...</td>\n      <td>...</td>\n      <td>...</td>\n    </tr>\n    <tr>\n      <th>9995</th>\n      <td>9995</td>\n      <td>2</td>\n      <td>1</td>\n      <td>482.0</td>\n      <td>501.666667</td>\n      <td>31.0</td>\n      <td>M</td>\n      <td>Logistics</td>\n    </tr>\n    <tr>\n      <th>9996</th>\n      <td>9996</td>\n      <td>0</td>\n      <td>0</td>\n      <td>453.0</td>\n      <td>406.888889</td>\n      <td>53.0</td>\n      <td>M</td>\n      <td>Logistics</td>\n    </tr>\n    <tr>\n      <th>9997</th>\n      <td>9997</td>\n      <td>0</td>\n      <td>0</td>\n      <td>461.0</td>\n      <td>415.111111</td>\n      <td>52.0</td>\n      <td>F</td>\n      <td>E-commerce</td>\n    </tr>\n    <tr>\n      <th>9998</th>\n      <td>9998</td>\n      <td>10</td>\n      <td>1</td>\n      <td>491.5</td>\n      <td>439.222222</td>\n      <td>22.0</td>\n      <td>M</td>\n      <td>E-commerce</td>\n    </tr>\n    <tr>\n      <th>9999</th>\n      <td>9999</td>\n      <td>2</td>\n      <td>1</td>\n      <td>481.0</td>\n      <td>517.222222</td>\n      <td>53.0</td>\n      <td>M</td>\n      <td>E-commerce</td>\n    </tr>\n  </tbody>\n</table>\n<p>10000 rows × 8 columns</p>\n</div>"
     },
     "execution_count": 3,
     "metadata": {},
     "output_type": "execute_result"
    }
   ],
   "source": [
    "df = create_test_data(num_users=10000, rs=42, na_step=45, nan_cols=['age', 'gender'])\n",
    "df"
   ]
  },
  {
   "cell_type": "code",
   "execution_count": 4,
   "metadata": {
    "ExecuteTime": {
     "end_time": "2024-03-05T13:38:18.418303900Z",
     "start_time": "2024-03-05T13:38:18.298652Z"
    }
   },
   "outputs": [
    {
     "data": {
      "text/plain": "Index(['user_id', 'signup_month', 'treat', 'pre_spends', 'post_spends', 'age',\n       'gender', 'industry'],\n      dtype='object')"
     },
     "execution_count": 4,
     "metadata": {},
     "output_type": "execute_result"
    }
   ],
   "source": [
    "df.columns"
   ]
  },
  {
   "cell_type": "code",
   "execution_count": 5,
   "metadata": {
    "scrolled": true,
    "ExecuteTime": {
     "end_time": "2024-03-05T13:38:18.477754900Z",
     "start_time": "2024-03-05T13:38:18.336440500Z"
    }
   },
   "outputs": [
    {
     "data": {
      "text/plain": "treat\n0    5002\n1    4998\nName: count, dtype: int64"
     },
     "execution_count": 5,
     "metadata": {},
     "output_type": "execute_result"
    }
   ],
   "source": [
    "df['treat'].value_counts()"
   ]
  },
  {
   "cell_type": "code",
   "execution_count": 6,
   "metadata": {
    "ExecuteTime": {
     "end_time": "2024-03-05T13:38:18.619416200Z",
     "start_time": "2024-03-05T13:38:18.362065400Z"
    }
   },
   "outputs": [
    {
     "data": {
      "text/plain": "223"
     },
     "execution_count": 6,
     "metadata": {},
     "output_type": "execute_result"
    }
   ],
   "source": [
    "df['gender'].isna().sum()"
   ]
  },
  {
   "cell_type": "markdown",
   "metadata": {},
   "source": [
    "## 2. Matching  \n",
    "### 2.0 Init params\n",
    "info_col used to define informative attributes that should not be part of matching, such as user_id  \n",
    "But to explicitly store this column in the table, so that you can compare directly after computation"
   ]
  },
  {
   "cell_type": "code",
   "execution_count": 7,
   "metadata": {
    "ExecuteTime": {
     "end_time": "2024-03-05T13:38:18.634761700Z",
     "start_time": "2024-03-05T13:38:18.408068600Z"
    }
   },
   "outputs": [],
   "source": [
    "info_col = ['user_id']\n",
    "\n",
    "outcome = 'post_spends'\n",
    "treatment = 'treat'"
   ]
  },
  {
   "cell_type": "markdown",
   "metadata": {},
   "source": [
    "### 2.1 Simple matching\n",
    "This is the easiest way to initialize and calculate metrics on a Matching task  \n",
    "Use it when you are clear about each attribute or if you don't have any additional task conditions (Strict equality for certain features) "
   ]
  },
  {
   "cell_type": "code",
   "execution_count": 8,
   "metadata": {
    "ExecuteTime": {
     "end_time": "2024-03-05T13:38:18.660452500Z",
     "start_time": "2024-03-05T13:38:18.428454200Z"
    }
   },
   "outputs": [
    {
     "name": "stderr",
     "output_type": "stream",
     "text": [
      "[05.03.2024 16:38:18 | hypex | INFO]: Number of NaN values filled with zeros: 446\n"
     ]
    }
   ],
   "source": [
    "# Standard model with base parameters\n",
    "model = Matcher(input_data=df, outcome=outcome, treatment=treatment, info_col=info_col)"
   ]
  },
  {
   "cell_type": "markdown",
   "source": [
    "**Feature selection** models the significance of features for the accuracy of target approximation. However, it does not\n",
    "rule out the possibility of overlooked features, the complex impact of features on target description, or the\n",
    "significance of features from a business logic perspective. The algorithm will not function correctly if there are data\n",
    "leaks. \n",
    "Points to consider when selecting features:\n",
    "\n",
    "* Data leaks - these should not be present.\n",
    "* Influence on treatment distribution - features should not affect the treatment distribution.\n",
    "* The target should be describable by features.\n",
    "* All features significantly affecting the target should be included.\n",
    "* The business rationale of features.\n",
    "* The feature selection function can be useful for addressing these tasks, but it does not solve them nor does it\n",
    "  absolve the user of the responsibility for their selection, nor does it justify it.\n",
    "\n",
    "[Link to ReadTheDocs](https://hypex.readthedocs.io/en/latest/pages/modules/selectors.html#selector-classes)"
   ],
   "metadata": {
    "collapsed": false
   }
  },
  {
   "cell_type": "code",
   "execution_count": 9,
   "metadata": {
    "ExecuteTime": {
     "end_time": "2024-03-05T13:38:28.156006400Z",
     "start_time": "2024-03-05T13:38:18.489973100Z"
    }
   },
   "outputs": [
    {
     "name": "stderr",
     "output_type": "stream",
     "text": [
      "C:\\Users\\User\\PycharmProjects\\HypEx1\\hypex\\selectors\\feature_selector.py:42: UserWarning: FeatureSelector does not rule out the possibility of overlooked features, the complex impact of features on target description, or the significance of features from a business logic perspective.\n",
      "  warnings.warn(\n"
     ]
    },
    {
     "data": {
      "text/plain": "                    rank\nsignup_month           1\npre_spends             2\nage                    3\ngender_F               4\ngender_M               5\nindustry_Logistics     6",
      "text/html": "<div>\n<style scoped>\n    .dataframe tbody tr th:only-of-type {\n        vertical-align: middle;\n    }\n\n    .dataframe tbody tr th {\n        vertical-align: top;\n    }\n\n    .dataframe thead th {\n        text-align: right;\n    }\n</style>\n<table border=\"1\" class=\"dataframe\">\n  <thead>\n    <tr style=\"text-align: right;\">\n      <th></th>\n      <th>rank</th>\n    </tr>\n  </thead>\n  <tbody>\n    <tr>\n      <th>signup_month</th>\n      <td>1</td>\n    </tr>\n    <tr>\n      <th>pre_spends</th>\n      <td>2</td>\n    </tr>\n    <tr>\n      <th>age</th>\n      <td>3</td>\n    </tr>\n    <tr>\n      <th>gender_F</th>\n      <td>4</td>\n    </tr>\n    <tr>\n      <th>gender_M</th>\n      <td>5</td>\n    </tr>\n    <tr>\n      <th>industry_Logistics</th>\n      <td>6</td>\n    </tr>\n  </tbody>\n</table>\n</div>"
     },
     "execution_count": 9,
     "metadata": {},
     "output_type": "execute_result"
    }
   ],
   "source": [
    "selected_features = model.feature_select()\n",
    "selected_features"
   ]
  },
  {
   "cell_type": "code",
   "execution_count": 10,
   "metadata": {
    "ExecuteTime": {
     "end_time": "2024-03-05T13:38:28.228174700Z",
     "start_time": "2024-03-05T13:38:28.149105600Z"
    }
   },
   "outputs": [
    {
     "data": {
      "text/plain": "Index(['signup_month', 'pre_spends', 'age', 'gender_F'], dtype='object')"
     },
     "execution_count": 10,
     "metadata": {},
     "output_type": "execute_result"
    }
   ],
   "source": [
    "chosen_features = selected_features[:4].index\n",
    "chosen_features"
   ]
  },
  {
   "cell_type": "code",
   "execution_count": 11,
   "metadata": {
    "ExecuteTime": {
     "end_time": "2024-03-05T13:38:30.559294800Z",
     "start_time": "2024-03-05T13:38:28.180655600Z"
    }
   },
   "outputs": [
    {
     "name": "stderr",
     "output_type": "stream",
     "text": [
      "Get treated index: 100%|██████████| 10000/10000 [00:00<00:00, 15390.91it/s] \n",
      "[05.03.2024 16:38:30 | Faiss hypex | INFO]: The entry of bias into the ATT is 0.1%\n"
     ]
    }
   ],
   "source": [
    "results, quality_results, df_matched = model.estimate(features=chosen_features)"
   ]
  },
  {
   "cell_type": "code",
   "execution_count": 12,
   "metadata": {
    "ExecuteTime": {
     "end_time": "2024-03-05T13:38:30.633496200Z",
     "start_time": "2024-03-05T13:38:30.561295200Z"
    }
   },
   "outputs": [
    {
     "data": {
      "text/plain": "     effect_size   std_err  p-val   ci_lower    ci_upper      outcome\nATE    82.613694  2.338178    0.0  78.030866   87.196523  post_spends\nATC   101.657691  4.569680    0.0  92.701118  110.614264  post_spends\nATT    63.554457  0.691298    0.0  62.199513   64.909401  post_spends",
      "text/html": "<div>\n<style scoped>\n    .dataframe tbody tr th:only-of-type {\n        vertical-align: middle;\n    }\n\n    .dataframe tbody tr th {\n        vertical-align: top;\n    }\n\n    .dataframe thead th {\n        text-align: right;\n    }\n</style>\n<table border=\"1\" class=\"dataframe\">\n  <thead>\n    <tr style=\"text-align: right;\">\n      <th></th>\n      <th>effect_size</th>\n      <th>std_err</th>\n      <th>p-val</th>\n      <th>ci_lower</th>\n      <th>ci_upper</th>\n      <th>outcome</th>\n    </tr>\n  </thead>\n  <tbody>\n    <tr>\n      <th>ATE</th>\n      <td>82.613694</td>\n      <td>2.338178</td>\n      <td>0.0</td>\n      <td>78.030866</td>\n      <td>87.196523</td>\n      <td>post_spends</td>\n    </tr>\n    <tr>\n      <th>ATC</th>\n      <td>101.657691</td>\n      <td>4.569680</td>\n      <td>0.0</td>\n      <td>92.701118</td>\n      <td>110.614264</td>\n      <td>post_spends</td>\n    </tr>\n    <tr>\n      <th>ATT</th>\n      <td>63.554457</td>\n      <td>0.691298</td>\n      <td>0.0</td>\n      <td>62.199513</td>\n      <td>64.909401</td>\n      <td>post_spends</td>\n    </tr>\n  </tbody>\n</table>\n</div>"
     },
     "execution_count": 12,
     "metadata": {},
     "output_type": "execute_result"
    }
   ],
   "source": [
    "results"
   ]
  },
  {
   "cell_type": "code",
   "execution_count": 13,
   "metadata": {
    "ExecuteTime": {
     "end_time": "2024-03-05T13:38:30.892217300Z",
     "start_time": "2024-03-05T13:38:30.629494400Z"
    }
   },
   "outputs": [
    {
     "data": {
      "text/plain": "dict_keys(['psi', 'ks_test', 'smd', 'repeats'])"
     },
     "execution_count": 13,
     "metadata": {},
     "output_type": "execute_result"
    }
   ],
   "source": [
    "quality_results.keys()"
   ]
  },
  {
   "cell_type": "code",
   "execution_count": 14,
   "metadata": {
    "ExecuteTime": {
     "end_time": "2024-03-05T13:38:31.100377500Z",
     "start_time": "2024-03-05T13:38:30.776682700Z"
    }
   },
   "outputs": [
    {
     "data": {
      "text/plain": "              match_control_to_treat  match_treat_to_control\nage                     1.418144e-01            2.209790e-07\npre_spends             2.348715e-264            3.829212e-19\nsignup_month            0.000000e+00            0.000000e+00",
      "text/html": "<div>\n<style scoped>\n    .dataframe tbody tr th:only-of-type {\n        vertical-align: middle;\n    }\n\n    .dataframe tbody tr th {\n        vertical-align: top;\n    }\n\n    .dataframe thead th {\n        text-align: right;\n    }\n</style>\n<table border=\"1\" class=\"dataframe\">\n  <thead>\n    <tr style=\"text-align: right;\">\n      <th></th>\n      <th>match_control_to_treat</th>\n      <th>match_treat_to_control</th>\n    </tr>\n  </thead>\n  <tbody>\n    <tr>\n      <th>age</th>\n      <td>1.418144e-01</td>\n      <td>2.209790e-07</td>\n    </tr>\n    <tr>\n      <th>pre_spends</th>\n      <td>2.348715e-264</td>\n      <td>3.829212e-19</td>\n    </tr>\n    <tr>\n      <th>signup_month</th>\n      <td>0.000000e+00</td>\n      <td>0.000000e+00</td>\n    </tr>\n  </tbody>\n</table>\n</div>"
     },
     "execution_count": 14,
     "metadata": {},
     "output_type": "execute_result"
    }
   ],
   "source": [
    "quality_results['ks_test']"
   ]
  },
  {
   "cell_type": "code",
   "execution_count": 15,
   "metadata": {
    "ExecuteTime": {
     "end_time": "2024-03-05T13:38:31.164918500Z",
     "start_time": "2024-03-05T13:38:30.915062300Z"
    }
   },
   "outputs": [
    {
     "data": {
      "text/plain": "      index  signup_month  pre_spends   age  gender_F  gender_M  \\\n0         1             4       500.0  51.0         0         0   \n1         3             8       452.0  46.0         0         1   \n2         9            11       476.5  34.0         0         1   \n3        11             8       498.5  60.0         1         0   \n4        14             8       497.0  24.0         0         1   \n...     ...           ...         ...   ...       ...       ...   \n4997   9992             0       456.5  35.0         1         0   \n4998   9993             0       503.0  21.0         1         0   \n4999   9994             0       480.0  51.0         0         1   \n5000   9996             0       453.0  53.0         0         1   \n5001   9997             0       461.0  52.0         1         0   \n\n      industry_Logistics  signup_month_matched  pre_spends_matched  \\\n0                      0                   0.0               509.5   \n1                      0                   0.0               471.0   \n2                      0                   0.0               504.0   \n3                      0                   0.0               517.0   \n4                      1                   0.0               515.0   \n...                  ...                   ...                 ...   \n4997                   1                   2.0               451.0   \n4998                   1                   1.0               502.5   \n4999                   0                   2.0               476.0   \n5000                   1                   2.0               447.0   \n5001                   0                   2.0               459.5   \n\n      age_matched  gender_F_matched  gender_M_matched  \\\n0            51.0               0.0               1.0   \n1            47.0               0.0               1.0   \n2            34.0               0.0               1.0   \n3            61.0               1.0               0.0   \n4            24.0               0.0               1.0   \n...           ...               ...               ...   \n4997         39.0               1.0               0.0   \n4998         21.0               1.0               0.0   \n4999         49.0               0.0               1.0   \n5000         58.0               0.0               1.0   \n5001         54.0               1.0               0.0   \n\n      industry_Logistics_matched index_matched  post_spends  \\\n0                            0.0         [764]   506.333333   \n1                            1.0        [8031]   468.111111   \n2                            0.0        [4073]   441.888889   \n3                            0.0        [2371]   461.444444   \n4                            0.0        [1920]   461.777778   \n...                          ...           ...          ...   \n4997                         0.0        [7366]   404.888889   \n4998                         1.0        [6634]   431.888889   \n4999                         0.5  [6831, 7432]   411.444444   \n5000                         1.0        [6711]   406.888889   \n5001                         1.0        [6467]   415.111111   \n\n      post_spends_matched  post_spends_matched_bias  treat  treat_matched  \n0              421.555556                 84.816667      1              0  \n1              411.777778                 56.423533      1              0  \n2              426.666667                 15.334797      1              0  \n3              413.111111                 48.421487      1              0  \n4              419.000000                 42.851463      1              0  \n...                   ...                       ...    ...            ...  \n4997           525.111111                122.146611      0              1  \n4998           533.444444                102.555934      0              1  \n4999           517.444444                107.788727      0              1  \n5000           519.444444                114.490640      0              1  \n5001           529.777778                116.712645      0              1  \n\n[10000 rows x 19 columns]",
      "text/html": "<div>\n<style scoped>\n    .dataframe tbody tr th:only-of-type {\n        vertical-align: middle;\n    }\n\n    .dataframe tbody tr th {\n        vertical-align: top;\n    }\n\n    .dataframe thead th {\n        text-align: right;\n    }\n</style>\n<table border=\"1\" class=\"dataframe\">\n  <thead>\n    <tr style=\"text-align: right;\">\n      <th></th>\n      <th>index</th>\n      <th>signup_month</th>\n      <th>pre_spends</th>\n      <th>age</th>\n      <th>gender_F</th>\n      <th>gender_M</th>\n      <th>industry_Logistics</th>\n      <th>signup_month_matched</th>\n      <th>pre_spends_matched</th>\n      <th>age_matched</th>\n      <th>gender_F_matched</th>\n      <th>gender_M_matched</th>\n      <th>industry_Logistics_matched</th>\n      <th>index_matched</th>\n      <th>post_spends</th>\n      <th>post_spends_matched</th>\n      <th>post_spends_matched_bias</th>\n      <th>treat</th>\n      <th>treat_matched</th>\n    </tr>\n  </thead>\n  <tbody>\n    <tr>\n      <th>0</th>\n      <td>1</td>\n      <td>4</td>\n      <td>500.0</td>\n      <td>51.0</td>\n      <td>0</td>\n      <td>0</td>\n      <td>0</td>\n      <td>0.0</td>\n      <td>509.5</td>\n      <td>51.0</td>\n      <td>0.0</td>\n      <td>1.0</td>\n      <td>0.0</td>\n      <td>[764]</td>\n      <td>506.333333</td>\n      <td>421.555556</td>\n      <td>84.816667</td>\n      <td>1</td>\n      <td>0</td>\n    </tr>\n    <tr>\n      <th>1</th>\n      <td>3</td>\n      <td>8</td>\n      <td>452.0</td>\n      <td>46.0</td>\n      <td>0</td>\n      <td>1</td>\n      <td>0</td>\n      <td>0.0</td>\n      <td>471.0</td>\n      <td>47.0</td>\n      <td>0.0</td>\n      <td>1.0</td>\n      <td>1.0</td>\n      <td>[8031]</td>\n      <td>468.111111</td>\n      <td>411.777778</td>\n      <td>56.423533</td>\n      <td>1</td>\n      <td>0</td>\n    </tr>\n    <tr>\n      <th>2</th>\n      <td>9</td>\n      <td>11</td>\n      <td>476.5</td>\n      <td>34.0</td>\n      <td>0</td>\n      <td>1</td>\n      <td>0</td>\n      <td>0.0</td>\n      <td>504.0</td>\n      <td>34.0</td>\n      <td>0.0</td>\n      <td>1.0</td>\n      <td>0.0</td>\n      <td>[4073]</td>\n      <td>441.888889</td>\n      <td>426.666667</td>\n      <td>15.334797</td>\n      <td>1</td>\n      <td>0</td>\n    </tr>\n    <tr>\n      <th>3</th>\n      <td>11</td>\n      <td>8</td>\n      <td>498.5</td>\n      <td>60.0</td>\n      <td>1</td>\n      <td>0</td>\n      <td>0</td>\n      <td>0.0</td>\n      <td>517.0</td>\n      <td>61.0</td>\n      <td>1.0</td>\n      <td>0.0</td>\n      <td>0.0</td>\n      <td>[2371]</td>\n      <td>461.444444</td>\n      <td>413.111111</td>\n      <td>48.421487</td>\n      <td>1</td>\n      <td>0</td>\n    </tr>\n    <tr>\n      <th>4</th>\n      <td>14</td>\n      <td>8</td>\n      <td>497.0</td>\n      <td>24.0</td>\n      <td>0</td>\n      <td>1</td>\n      <td>1</td>\n      <td>0.0</td>\n      <td>515.0</td>\n      <td>24.0</td>\n      <td>0.0</td>\n      <td>1.0</td>\n      <td>0.0</td>\n      <td>[1920]</td>\n      <td>461.777778</td>\n      <td>419.000000</td>\n      <td>42.851463</td>\n      <td>1</td>\n      <td>0</td>\n    </tr>\n    <tr>\n      <th>...</th>\n      <td>...</td>\n      <td>...</td>\n      <td>...</td>\n      <td>...</td>\n      <td>...</td>\n      <td>...</td>\n      <td>...</td>\n      <td>...</td>\n      <td>...</td>\n      <td>...</td>\n      <td>...</td>\n      <td>...</td>\n      <td>...</td>\n      <td>...</td>\n      <td>...</td>\n      <td>...</td>\n      <td>...</td>\n      <td>...</td>\n      <td>...</td>\n    </tr>\n    <tr>\n      <th>4997</th>\n      <td>9992</td>\n      <td>0</td>\n      <td>456.5</td>\n      <td>35.0</td>\n      <td>1</td>\n      <td>0</td>\n      <td>1</td>\n      <td>2.0</td>\n      <td>451.0</td>\n      <td>39.0</td>\n      <td>1.0</td>\n      <td>0.0</td>\n      <td>0.0</td>\n      <td>[7366]</td>\n      <td>404.888889</td>\n      <td>525.111111</td>\n      <td>122.146611</td>\n      <td>0</td>\n      <td>1</td>\n    </tr>\n    <tr>\n      <th>4998</th>\n      <td>9993</td>\n      <td>0</td>\n      <td>503.0</td>\n      <td>21.0</td>\n      <td>1</td>\n      <td>0</td>\n      <td>1</td>\n      <td>1.0</td>\n      <td>502.5</td>\n      <td>21.0</td>\n      <td>1.0</td>\n      <td>0.0</td>\n      <td>1.0</td>\n      <td>[6634]</td>\n      <td>431.888889</td>\n      <td>533.444444</td>\n      <td>102.555934</td>\n      <td>0</td>\n      <td>1</td>\n    </tr>\n    <tr>\n      <th>4999</th>\n      <td>9994</td>\n      <td>0</td>\n      <td>480.0</td>\n      <td>51.0</td>\n      <td>0</td>\n      <td>1</td>\n      <td>0</td>\n      <td>2.0</td>\n      <td>476.0</td>\n      <td>49.0</td>\n      <td>0.0</td>\n      <td>1.0</td>\n      <td>0.5</td>\n      <td>[6831, 7432]</td>\n      <td>411.444444</td>\n      <td>517.444444</td>\n      <td>107.788727</td>\n      <td>0</td>\n      <td>1</td>\n    </tr>\n    <tr>\n      <th>5000</th>\n      <td>9996</td>\n      <td>0</td>\n      <td>453.0</td>\n      <td>53.0</td>\n      <td>0</td>\n      <td>1</td>\n      <td>1</td>\n      <td>2.0</td>\n      <td>447.0</td>\n      <td>58.0</td>\n      <td>0.0</td>\n      <td>1.0</td>\n      <td>1.0</td>\n      <td>[6711]</td>\n      <td>406.888889</td>\n      <td>519.444444</td>\n      <td>114.490640</td>\n      <td>0</td>\n      <td>1</td>\n    </tr>\n    <tr>\n      <th>5001</th>\n      <td>9997</td>\n      <td>0</td>\n      <td>461.0</td>\n      <td>52.0</td>\n      <td>1</td>\n      <td>0</td>\n      <td>0</td>\n      <td>2.0</td>\n      <td>459.5</td>\n      <td>54.0</td>\n      <td>1.0</td>\n      <td>0.0</td>\n      <td>1.0</td>\n      <td>[6467]</td>\n      <td>415.111111</td>\n      <td>529.777778</td>\n      <td>116.712645</td>\n      <td>0</td>\n      <td>1</td>\n    </tr>\n  </tbody>\n</table>\n<p>10000 rows × 19 columns</p>\n</div>"
     },
     "execution_count": 15,
     "metadata": {},
     "output_type": "execute_result"
    }
   ],
   "source": [
    "df_matched"
   ]
  },
  {
   "cell_type": "code",
   "execution_count": 16,
   "metadata": {
    "ExecuteTime": {
     "end_time": "2024-03-05T13:38:31.487579500Z",
     "start_time": "2024-03-05T13:38:31.046548300Z"
    }
   },
   "outputs": [
    {
     "data": {
      "text/plain": "      index  signup_month  pre_spends   age  gender_F  gender_M  \\\n1         3             8       452.0  46.0         0         1   \n4        14             8       497.0  24.0         0         1   \n6        22             2       482.0  50.0         0         1   \n10       30            11       504.5  38.0         0         1   \n21       52             4       487.0  38.0         1         0   \n...     ...           ...         ...   ...       ...       ...   \n4994   9981             0       458.0  36.0         1         0   \n4996   9986             0       486.5  53.0         0         1   \n4997   9992             0       456.5  35.0         1         0   \n4999   9994             0       480.0  51.0         0         1   \n5001   9997             0       461.0  52.0         1         0   \n\n      industry_Logistics  signup_month_matched  pre_spends_matched  \\\n1                      0                   0.0               471.0   \n4                      1                   0.0               515.0   \n6                      0                   0.0               487.0   \n10                     1                   0.0               530.0   \n21                     1                   0.0               497.0   \n...                  ...                   ...                 ...   \n4994                   1                   2.0               451.0   \n4996                   1                   2.0               481.5   \n4997                   1                   2.0               451.0   \n4999                   0                   2.0               476.0   \n5001                   0                   2.0               459.5   \n\n      age_matched  gender_F_matched  gender_M_matched  \\\n1            47.0               0.0               1.0   \n4            24.0               0.0               1.0   \n6            50.0               0.0               1.0   \n10           39.0               0.0               1.0   \n21           38.0               1.0               0.0   \n...           ...               ...               ...   \n4994         39.0               1.0               0.0   \n4996         53.0               0.0               1.0   \n4997         39.0               1.0               0.0   \n4999         49.0               0.0               1.0   \n5001         54.0               1.0               0.0   \n\n      industry_Logistics_matched index_matched  post_spends  \\\n1                            1.0        [8031]   468.111111   \n4                            0.0        [1920]   461.777778   \n6                            1.0        [9205]   519.777778   \n10                           0.0        [4514]   433.222222   \n21                           0.5   [452, 7221]   522.444444   \n...                          ...           ...          ...   \n4994                         0.0        [7366]   422.666667   \n4996                         0.0        [4106]   418.111111   \n4997                         0.0        [7366]   404.888889   \n4999                         0.5  [6831, 7432]   411.444444   \n5001                         1.0        [6467]   415.111111   \n\n      post_spends_matched  post_spends_matched_bias  treat  treat_matched  \n1              411.777778                 56.423533      1              0  \n4              419.000000                 42.851463      1              0  \n6              415.111111                104.687135      1              0  \n10             419.333333                 14.005698      1              0  \n21             432.444444                 90.040936      1              0  \n...                   ...                       ...    ...            ...  \n4994           525.111111                104.262818      0              1  \n4996           517.888889                101.587895      0              1  \n4997           525.111111                122.146611      0              1  \n4999           517.444444                107.788727      0              1  \n5001           529.777778                116.712645      0              1  \n\n[5135 rows x 19 columns]",
      "text/html": "<div>\n<style scoped>\n    .dataframe tbody tr th:only-of-type {\n        vertical-align: middle;\n    }\n\n    .dataframe tbody tr th {\n        vertical-align: top;\n    }\n\n    .dataframe thead th {\n        text-align: right;\n    }\n</style>\n<table border=\"1\" class=\"dataframe\">\n  <thead>\n    <tr style=\"text-align: right;\">\n      <th></th>\n      <th>index</th>\n      <th>signup_month</th>\n      <th>pre_spends</th>\n      <th>age</th>\n      <th>gender_F</th>\n      <th>gender_M</th>\n      <th>industry_Logistics</th>\n      <th>signup_month_matched</th>\n      <th>pre_spends_matched</th>\n      <th>age_matched</th>\n      <th>gender_F_matched</th>\n      <th>gender_M_matched</th>\n      <th>industry_Logistics_matched</th>\n      <th>index_matched</th>\n      <th>post_spends</th>\n      <th>post_spends_matched</th>\n      <th>post_spends_matched_bias</th>\n      <th>treat</th>\n      <th>treat_matched</th>\n    </tr>\n  </thead>\n  <tbody>\n    <tr>\n      <th>1</th>\n      <td>3</td>\n      <td>8</td>\n      <td>452.0</td>\n      <td>46.0</td>\n      <td>0</td>\n      <td>1</td>\n      <td>0</td>\n      <td>0.0</td>\n      <td>471.0</td>\n      <td>47.0</td>\n      <td>0.0</td>\n      <td>1.0</td>\n      <td>1.0</td>\n      <td>[8031]</td>\n      <td>468.111111</td>\n      <td>411.777778</td>\n      <td>56.423533</td>\n      <td>1</td>\n      <td>0</td>\n    </tr>\n    <tr>\n      <th>4</th>\n      <td>14</td>\n      <td>8</td>\n      <td>497.0</td>\n      <td>24.0</td>\n      <td>0</td>\n      <td>1</td>\n      <td>1</td>\n      <td>0.0</td>\n      <td>515.0</td>\n      <td>24.0</td>\n      <td>0.0</td>\n      <td>1.0</td>\n      <td>0.0</td>\n      <td>[1920]</td>\n      <td>461.777778</td>\n      <td>419.000000</td>\n      <td>42.851463</td>\n      <td>1</td>\n      <td>0</td>\n    </tr>\n    <tr>\n      <th>6</th>\n      <td>22</td>\n      <td>2</td>\n      <td>482.0</td>\n      <td>50.0</td>\n      <td>0</td>\n      <td>1</td>\n      <td>0</td>\n      <td>0.0</td>\n      <td>487.0</td>\n      <td>50.0</td>\n      <td>0.0</td>\n      <td>1.0</td>\n      <td>1.0</td>\n      <td>[9205]</td>\n      <td>519.777778</td>\n      <td>415.111111</td>\n      <td>104.687135</td>\n      <td>1</td>\n      <td>0</td>\n    </tr>\n    <tr>\n      <th>10</th>\n      <td>30</td>\n      <td>11</td>\n      <td>504.5</td>\n      <td>38.0</td>\n      <td>0</td>\n      <td>1</td>\n      <td>1</td>\n      <td>0.0</td>\n      <td>530.0</td>\n      <td>39.0</td>\n      <td>0.0</td>\n      <td>1.0</td>\n      <td>0.0</td>\n      <td>[4514]</td>\n      <td>433.222222</td>\n      <td>419.333333</td>\n      <td>14.005698</td>\n      <td>1</td>\n      <td>0</td>\n    </tr>\n    <tr>\n      <th>21</th>\n      <td>52</td>\n      <td>4</td>\n      <td>487.0</td>\n      <td>38.0</td>\n      <td>1</td>\n      <td>0</td>\n      <td>1</td>\n      <td>0.0</td>\n      <td>497.0</td>\n      <td>38.0</td>\n      <td>1.0</td>\n      <td>0.0</td>\n      <td>0.5</td>\n      <td>[452, 7221]</td>\n      <td>522.444444</td>\n      <td>432.444444</td>\n      <td>90.040936</td>\n      <td>1</td>\n      <td>0</td>\n    </tr>\n    <tr>\n      <th>...</th>\n      <td>...</td>\n      <td>...</td>\n      <td>...</td>\n      <td>...</td>\n      <td>...</td>\n      <td>...</td>\n      <td>...</td>\n      <td>...</td>\n      <td>...</td>\n      <td>...</td>\n      <td>...</td>\n      <td>...</td>\n      <td>...</td>\n      <td>...</td>\n      <td>...</td>\n      <td>...</td>\n      <td>...</td>\n      <td>...</td>\n      <td>...</td>\n    </tr>\n    <tr>\n      <th>4994</th>\n      <td>9981</td>\n      <td>0</td>\n      <td>458.0</td>\n      <td>36.0</td>\n      <td>1</td>\n      <td>0</td>\n      <td>1</td>\n      <td>2.0</td>\n      <td>451.0</td>\n      <td>39.0</td>\n      <td>1.0</td>\n      <td>0.0</td>\n      <td>0.0</td>\n      <td>[7366]</td>\n      <td>422.666667</td>\n      <td>525.111111</td>\n      <td>104.262818</td>\n      <td>0</td>\n      <td>1</td>\n    </tr>\n    <tr>\n      <th>4996</th>\n      <td>9986</td>\n      <td>0</td>\n      <td>486.5</td>\n      <td>53.0</td>\n      <td>0</td>\n      <td>1</td>\n      <td>1</td>\n      <td>2.0</td>\n      <td>481.5</td>\n      <td>53.0</td>\n      <td>0.0</td>\n      <td>1.0</td>\n      <td>0.0</td>\n      <td>[4106]</td>\n      <td>418.111111</td>\n      <td>517.888889</td>\n      <td>101.587895</td>\n      <td>0</td>\n      <td>1</td>\n    </tr>\n    <tr>\n      <th>4997</th>\n      <td>9992</td>\n      <td>0</td>\n      <td>456.5</td>\n      <td>35.0</td>\n      <td>1</td>\n      <td>0</td>\n      <td>1</td>\n      <td>2.0</td>\n      <td>451.0</td>\n      <td>39.0</td>\n      <td>1.0</td>\n      <td>0.0</td>\n      <td>0.0</td>\n      <td>[7366]</td>\n      <td>404.888889</td>\n      <td>525.111111</td>\n      <td>122.146611</td>\n      <td>0</td>\n      <td>1</td>\n    </tr>\n    <tr>\n      <th>4999</th>\n      <td>9994</td>\n      <td>0</td>\n      <td>480.0</td>\n      <td>51.0</td>\n      <td>0</td>\n      <td>1</td>\n      <td>0</td>\n      <td>2.0</td>\n      <td>476.0</td>\n      <td>49.0</td>\n      <td>0.0</td>\n      <td>1.0</td>\n      <td>0.5</td>\n      <td>[6831, 7432]</td>\n      <td>411.444444</td>\n      <td>517.444444</td>\n      <td>107.788727</td>\n      <td>0</td>\n      <td>1</td>\n    </tr>\n    <tr>\n      <th>5001</th>\n      <td>9997</td>\n      <td>0</td>\n      <td>461.0</td>\n      <td>52.0</td>\n      <td>1</td>\n      <td>0</td>\n      <td>0</td>\n      <td>2.0</td>\n      <td>459.5</td>\n      <td>54.0</td>\n      <td>1.0</td>\n      <td>0.0</td>\n      <td>1.0</td>\n      <td>[6467]</td>\n      <td>415.111111</td>\n      <td>529.777778</td>\n      <td>116.712645</td>\n      <td>0</td>\n      <td>1</td>\n    </tr>\n  </tbody>\n</table>\n<p>5135 rows × 19 columns</p>\n</div>"
     },
     "execution_count": 16,
     "metadata": {},
     "output_type": "execute_result"
    }
   ],
   "source": [
    "df_matched[df_matched['industry_Logistics'] != df_matched['industry_Logistics_matched']]"
   ]
  },
  {
   "cell_type": "markdown",
   "metadata": {},
   "source": [
    "### 2.2 Matching with a fixed variable  \n",
    "Used when you have categorical feature(s) that you want to compare by strict equality  \n",
    "group_col is used for strict comparison of categorical features.  \n",
    "In our case there is only one attribute  \n",
    "If there are several such attributes, you should make one of them and use it"
   ]
  },
  {
   "cell_type": "code",
   "execution_count": 17,
   "metadata": {
    "ExecuteTime": {
     "end_time": "2024-03-05T13:38:32.786324Z",
     "start_time": "2024-03-05T13:38:31.287765900Z"
    }
   },
   "outputs": [],
   "source": [
    "group_col = \"industry\""
   ]
  },
  {
   "cell_type": "markdown",
   "source": [
    "Also group_col might be the list. "
   ],
   "metadata": {
    "collapsed": false
   }
  },
  {
   "cell_type": "code",
   "execution_count": 18,
   "metadata": {
    "ExecuteTime": {
     "end_time": "2024-03-05T13:38:33.069805500Z",
     "start_time": "2024-03-05T13:38:31.361722200Z"
    }
   },
   "outputs": [
    {
     "name": "stderr",
     "output_type": "stream",
     "text": [
      "[05.03.2024 16:38:31 | hypex | INFO]: Number of NaN values filled with zeros: 446\n"
     ]
    }
   ],
   "source": [
    "model = Matcher(input_data=df, outcome=outcome, treatment=treatment,\n",
    "                info_col=info_col, group_col=group_col)"
   ]
  },
  {
   "cell_type": "code",
   "execution_count": 19,
   "metadata": {
    "ExecuteTime": {
     "end_time": "2024-03-05T13:38:39.817868900Z",
     "start_time": "2024-03-05T13:38:31.480582100Z"
    }
   },
   "outputs": [
    {
     "name": "stderr",
     "output_type": "stream",
     "text": [
      "C:\\Users\\User\\PycharmProjects\\HypEx1\\hypex\\selectors\\feature_selector.py:42: UserWarning: FeatureSelector does not rule out the possibility of overlooked features, the complex impact of features on target description, or the significance of features from a business logic perspective.\n",
      "  warnings.warn(\n"
     ]
    },
    {
     "data": {
      "text/plain": "              rank\nsignup_month     1\npre_spends       2\nage              3\ngender_F         4\ngender_M         5",
      "text/html": "<div>\n<style scoped>\n    .dataframe tbody tr th:only-of-type {\n        vertical-align: middle;\n    }\n\n    .dataframe tbody tr th {\n        vertical-align: top;\n    }\n\n    .dataframe thead th {\n        text-align: right;\n    }\n</style>\n<table border=\"1\" class=\"dataframe\">\n  <thead>\n    <tr style=\"text-align: right;\">\n      <th></th>\n      <th>rank</th>\n    </tr>\n  </thead>\n  <tbody>\n    <tr>\n      <th>signup_month</th>\n      <td>1</td>\n    </tr>\n    <tr>\n      <th>pre_spends</th>\n      <td>2</td>\n    </tr>\n    <tr>\n      <th>age</th>\n      <td>3</td>\n    </tr>\n    <tr>\n      <th>gender_F</th>\n      <td>4</td>\n    </tr>\n    <tr>\n      <th>gender_M</th>\n      <td>5</td>\n    </tr>\n  </tbody>\n</table>\n</div>"
     },
     "execution_count": 19,
     "metadata": {},
     "output_type": "execute_result"
    }
   ],
   "source": [
    "selected_features = model.feature_select()\n",
    "selected_features"
   ]
  },
  {
   "cell_type": "code",
   "execution_count": 20,
   "metadata": {
    "ExecuteTime": {
     "end_time": "2024-03-05T13:38:39.920722400Z",
     "start_time": "2024-03-05T13:38:39.824871400Z"
    }
   },
   "outputs": [
    {
     "data": {
      "text/plain": "Index(['signup_month', 'pre_spends', 'age', 'gender_F'], dtype='object')"
     },
     "execution_count": 20,
     "metadata": {},
     "output_type": "execute_result"
    }
   ],
   "source": [
    "chosen_features = selected_features[:4].index\n",
    "chosen_features"
   ]
  },
  {
   "cell_type": "code",
   "execution_count": 21,
   "metadata": {
    "ExecuteTime": {
     "end_time": "2024-03-05T13:38:43.485335300Z",
     "start_time": "2024-03-05T13:38:39.853989400Z"
    }
   },
   "outputs": [
    {
     "name": "stderr",
     "output_type": "stream",
     "text": [
      "C:\\Users\\User\\AppData\\Local\\Programs\\Python\\Python310\\lib\\site-packages\\numpy\\lib\\function_base.py:520: RuntimeWarning: Mean of empty slice.\n",
      "  avg = a.mean(axis, **keepdims_kw)\n",
      "C:\\Users\\User\\AppData\\Local\\Programs\\Python\\Python310\\lib\\site-packages\\numpy\\core\\_methods.py:121: RuntimeWarning: invalid value encountered in divide\n",
      "  ret = um.true_divide(\n",
      "C:\\Users\\User\\PycharmProjects\\HypEx1\\hypex\\algorithms\\faiss_matcher.py:627: RuntimeWarning: Degrees of freedom <= 0 for slice\n",
      "  cov_c = np.cov(xc, rowvar=False, ddof=0)\n",
      "C:\\Users\\User\\AppData\\Local\\Programs\\Python\\Python310\\lib\\site-packages\\numpy\\lib\\function_base.py:2748: RuntimeWarning: divide by zero encountered in divide\n",
      "  c *= np.true_divide(1, fact)\n",
      "C:\\Users\\User\\AppData\\Local\\Programs\\Python\\Python310\\lib\\site-packages\\numpy\\lib\\function_base.py:2748: RuntimeWarning: invalid value encountered in multiply\n",
      "  c *= np.true_divide(1, fact)\n",
      "C:\\Users\\User\\PycharmProjects\\HypEx1\\hypex\\algorithms\\faiss_matcher.py:628: RuntimeWarning: Degrees of freedom <= 0 for slice\n",
      "  cov_t = np.cov(xt, rowvar=False, ddof=0)\n",
      "C:\\Users\\User\\AppData\\Local\\Programs\\Python\\Python310\\lib\\site-packages\\numpy\\lib\\function_base.py:520: RuntimeWarning: Mean of empty slice.\n",
      "  avg = a.mean(axis, **keepdims_kw)\n",
      "C:\\Users\\User\\AppData\\Local\\Programs\\Python\\Python310\\lib\\site-packages\\numpy\\core\\_methods.py:121: RuntimeWarning: invalid value encountered in divide\n",
      "  ret = um.true_divide(\n",
      "C:\\Users\\User\\PycharmProjects\\HypEx1\\hypex\\algorithms\\faiss_matcher.py:627: RuntimeWarning: Degrees of freedom <= 0 for slice\n",
      "  cov_c = np.cov(xc, rowvar=False, ddof=0)\n",
      "C:\\Users\\User\\AppData\\Local\\Programs\\Python\\Python310\\lib\\site-packages\\numpy\\lib\\function_base.py:2748: RuntimeWarning: divide by zero encountered in divide\n",
      "  c *= np.true_divide(1, fact)\n",
      "C:\\Users\\User\\AppData\\Local\\Programs\\Python\\Python310\\lib\\site-packages\\numpy\\lib\\function_base.py:2748: RuntimeWarning: invalid value encountered in multiply\n",
      "  c *= np.true_divide(1, fact)\n",
      "C:\\Users\\User\\PycharmProjects\\HypEx1\\hypex\\algorithms\\faiss_matcher.py:628: RuntimeWarning: Degrees of freedom <= 0 for slice\n",
      "  cov_t = np.cov(xt, rowvar=False, ddof=0)\n",
      "Get treated index by group Logistics: 100%|██████████| 4/4 [00:00<00:00,  8.38it/s]  \n",
      "[05.03.2024 16:38:42 | Faiss hypex | INFO]: The entry of bias into the ATT is 0.2%\n"
     ]
    }
   ],
   "source": [
    "results, quality_results, df_matched = model.estimate(features=chosen_features)"
   ]
  },
  {
   "cell_type": "code",
   "execution_count": 22,
   "metadata": {
    "ExecuteTime": {
     "end_time": "2024-03-05T13:38:43.575791100Z",
     "start_time": "2024-03-05T13:38:43.487564400Z"
    }
   },
   "outputs": [
    {
     "data": {
      "text/plain": "     effect_size   std_err  p-val   ci_lower    ci_upper      outcome\nATE    81.186361  1.626949    0.0  77.997541   84.375181  post_spends\nATC    98.880907  3.108746    0.0  92.787765  104.974050  post_spends\nATT    63.477653  0.650095    0.0  62.203466   64.751840  post_spends",
      "text/html": "<div>\n<style scoped>\n    .dataframe tbody tr th:only-of-type {\n        vertical-align: middle;\n    }\n\n    .dataframe tbody tr th {\n        vertical-align: top;\n    }\n\n    .dataframe thead th {\n        text-align: right;\n    }\n</style>\n<table border=\"1\" class=\"dataframe\">\n  <thead>\n    <tr style=\"text-align: right;\">\n      <th></th>\n      <th>effect_size</th>\n      <th>std_err</th>\n      <th>p-val</th>\n      <th>ci_lower</th>\n      <th>ci_upper</th>\n      <th>outcome</th>\n    </tr>\n  </thead>\n  <tbody>\n    <tr>\n      <th>ATE</th>\n      <td>81.186361</td>\n      <td>1.626949</td>\n      <td>0.0</td>\n      <td>77.997541</td>\n      <td>84.375181</td>\n      <td>post_spends</td>\n    </tr>\n    <tr>\n      <th>ATC</th>\n      <td>98.880907</td>\n      <td>3.108746</td>\n      <td>0.0</td>\n      <td>92.787765</td>\n      <td>104.974050</td>\n      <td>post_spends</td>\n    </tr>\n    <tr>\n      <th>ATT</th>\n      <td>63.477653</td>\n      <td>0.650095</td>\n      <td>0.0</td>\n      <td>62.203466</td>\n      <td>64.751840</td>\n      <td>post_spends</td>\n    </tr>\n  </tbody>\n</table>\n</div>"
     },
     "execution_count": 22,
     "metadata": {},
     "output_type": "execute_result"
    }
   ],
   "source": [
    "results"
   ]
  },
  {
   "cell_type": "code",
   "execution_count": 23,
   "metadata": {
    "ExecuteTime": {
     "end_time": "2024-03-05T13:38:43.843138800Z",
     "start_time": "2024-03-05T13:38:43.552239500Z"
    }
   },
   "outputs": [
    {
     "data": {
      "text/plain": "Empty DataFrame\nColumns: [index, signup_month, pre_spends, age, gender_F, gender_M, industry, signup_month_matched, pre_spends_matched, age_matched, gender_F_matched, gender_M_matched, industry_matched, index_matched, post_spends, post_spends_matched, post_spends_matched_bias, treat, treat_matched]\nIndex: []",
      "text/html": "<div>\n<style scoped>\n    .dataframe tbody tr th:only-of-type {\n        vertical-align: middle;\n    }\n\n    .dataframe tbody tr th {\n        vertical-align: top;\n    }\n\n    .dataframe thead th {\n        text-align: right;\n    }\n</style>\n<table border=\"1\" class=\"dataframe\">\n  <thead>\n    <tr style=\"text-align: right;\">\n      <th></th>\n      <th>index</th>\n      <th>signup_month</th>\n      <th>pre_spends</th>\n      <th>age</th>\n      <th>gender_F</th>\n      <th>gender_M</th>\n      <th>industry</th>\n      <th>signup_month_matched</th>\n      <th>pre_spends_matched</th>\n      <th>age_matched</th>\n      <th>gender_F_matched</th>\n      <th>gender_M_matched</th>\n      <th>industry_matched</th>\n      <th>index_matched</th>\n      <th>post_spends</th>\n      <th>post_spends_matched</th>\n      <th>post_spends_matched_bias</th>\n      <th>treat</th>\n      <th>treat_matched</th>\n    </tr>\n  </thead>\n  <tbody>\n  </tbody>\n</table>\n</div>"
     },
     "execution_count": 23,
     "metadata": {},
     "output_type": "execute_result"
    }
   ],
   "source": [
    "df_matched[df_matched['industry'] != df_matched['industry_matched']]"
   ]
  },
  {
   "cell_type": "markdown",
   "metadata": {},
   "source": [
    "## 3. Results  \n",
    "### 3.1 ATE, ATT, ATC"
   ]
  },
  {
   "cell_type": "code",
   "execution_count": 24,
   "metadata": {
    "ExecuteTime": {
     "end_time": "2024-03-05T13:38:44.131617100Z",
     "start_time": "2024-03-05T13:38:43.805857500Z"
    }
   },
   "outputs": [
    {
     "data": {
      "text/plain": "     effect_size   std_err  p-val   ci_lower    ci_upper      outcome\nATE    81.186361  1.626949    0.0  77.997541   84.375181  post_spends\nATC    98.880907  3.108746    0.0  92.787765  104.974050  post_spends\nATT    63.477653  0.650095    0.0  62.203466   64.751840  post_spends",
      "text/html": "<div>\n<style scoped>\n    .dataframe tbody tr th:only-of-type {\n        vertical-align: middle;\n    }\n\n    .dataframe tbody tr th {\n        vertical-align: top;\n    }\n\n    .dataframe thead th {\n        text-align: right;\n    }\n</style>\n<table border=\"1\" class=\"dataframe\">\n  <thead>\n    <tr style=\"text-align: right;\">\n      <th></th>\n      <th>effect_size</th>\n      <th>std_err</th>\n      <th>p-val</th>\n      <th>ci_lower</th>\n      <th>ci_upper</th>\n      <th>outcome</th>\n    </tr>\n  </thead>\n  <tbody>\n    <tr>\n      <th>ATE</th>\n      <td>81.186361</td>\n      <td>1.626949</td>\n      <td>0.0</td>\n      <td>77.997541</td>\n      <td>84.375181</td>\n      <td>post_spends</td>\n    </tr>\n    <tr>\n      <th>ATC</th>\n      <td>98.880907</td>\n      <td>3.108746</td>\n      <td>0.0</td>\n      <td>92.787765</td>\n      <td>104.974050</td>\n      <td>post_spends</td>\n    </tr>\n    <tr>\n      <th>ATT</th>\n      <td>63.477653</td>\n      <td>0.650095</td>\n      <td>0.0</td>\n      <td>62.203466</td>\n      <td>64.751840</td>\n      <td>post_spends</td>\n    </tr>\n  </tbody>\n</table>\n</div>"
     },
     "execution_count": 24,
     "metadata": {},
     "output_type": "execute_result"
    }
   ],
   "source": [
    "results"
   ]
  },
  {
   "cell_type": "markdown",
   "metadata": {},
   "source": [
    "### 3.2 SMD, PSI, KS-test, repeats"
   ]
  },
  {
   "cell_type": "code",
   "execution_count": 25,
   "metadata": {
    "ExecuteTime": {
     "end_time": "2024-03-05T13:38:44.682946400Z",
     "start_time": "2024-03-05T13:38:44.007221600Z"
    }
   },
   "outputs": [
    {
     "data": {
      "text/plain": "dict_keys(['psi', 'ks_test', 'smd', 'repeats'])"
     },
     "execution_count": 25,
     "metadata": {},
     "output_type": "execute_result"
    }
   ],
   "source": [
    "quality_results.keys()"
   ]
  },
  {
   "cell_type": "code",
   "execution_count": 26,
   "metadata": {
    "ExecuteTime": {
     "end_time": "2024-03-05T13:38:44.852815200Z",
     "start_time": "2024-03-05T13:38:44.132618700Z"
    }
   },
   "outputs": [
    {
     "data": {
      "text/plain": "         column_treated  anomaly_score_treated check_result_treated  \\\n0           age_treated                   0.01                   OK   \n1      gender_F_treated                   0.00                   OK   \n2      industry_treated                   0.00                   OK   \n3    pre_spends_treated                   0.61                  NOK   \n4  signup_month_treated                  16.14                  NOK   \n\n         column_untreated  anomaly_score_untreated check_result_untreated  \n0           age_untreated                     0.08                     OK  \n1      gender_F_untreated                     0.00                     OK  \n2      industry_untreated                     0.00                     OK  \n3    pre_spends_untreated                     0.16                     OK  \n4  signup_month_untreated                     0.00                     OK  ",
      "text/html": "<div>\n<style scoped>\n    .dataframe tbody tr th:only-of-type {\n        vertical-align: middle;\n    }\n\n    .dataframe tbody tr th {\n        vertical-align: top;\n    }\n\n    .dataframe thead th {\n        text-align: right;\n    }\n</style>\n<table border=\"1\" class=\"dataframe\">\n  <thead>\n    <tr style=\"text-align: right;\">\n      <th></th>\n      <th>column_treated</th>\n      <th>anomaly_score_treated</th>\n      <th>check_result_treated</th>\n      <th>column_untreated</th>\n      <th>anomaly_score_untreated</th>\n      <th>check_result_untreated</th>\n    </tr>\n  </thead>\n  <tbody>\n    <tr>\n      <th>0</th>\n      <td>age_treated</td>\n      <td>0.01</td>\n      <td>OK</td>\n      <td>age_untreated</td>\n      <td>0.08</td>\n      <td>OK</td>\n    </tr>\n    <tr>\n      <th>1</th>\n      <td>gender_F_treated</td>\n      <td>0.00</td>\n      <td>OK</td>\n      <td>gender_F_untreated</td>\n      <td>0.00</td>\n      <td>OK</td>\n    </tr>\n    <tr>\n      <th>2</th>\n      <td>industry_treated</td>\n      <td>0.00</td>\n      <td>OK</td>\n      <td>industry_untreated</td>\n      <td>0.00</td>\n      <td>OK</td>\n    </tr>\n    <tr>\n      <th>3</th>\n      <td>pre_spends_treated</td>\n      <td>0.61</td>\n      <td>NOK</td>\n      <td>pre_spends_untreated</td>\n      <td>0.16</td>\n      <td>OK</td>\n    </tr>\n    <tr>\n      <th>4</th>\n      <td>signup_month_treated</td>\n      <td>16.14</td>\n      <td>NOK</td>\n      <td>signup_month_untreated</td>\n      <td>0.00</td>\n      <td>OK</td>\n    </tr>\n  </tbody>\n</table>\n</div>"
     },
     "execution_count": 26,
     "metadata": {},
     "output_type": "execute_result"
    }
   ],
   "source": [
    "quality_results['psi']"
   ]
  },
  {
   "cell_type": "code",
   "execution_count": 27,
   "metadata": {
    "ExecuteTime": {
     "end_time": "2024-03-05T13:38:44.968735600Z",
     "start_time": "2024-03-05T13:38:44.251169500Z"
    }
   },
   "outputs": [
    {
     "data": {
      "text/plain": "              match_control_to_treat  match_treat_to_control\nage                     1.292517e-01            2.721265e-04\npre_spends             4.164710e-263            1.725086e-24\nsignup_month            0.000000e+00            0.000000e+00",
      "text/html": "<div>\n<style scoped>\n    .dataframe tbody tr th:only-of-type {\n        vertical-align: middle;\n    }\n\n    .dataframe tbody tr th {\n        vertical-align: top;\n    }\n\n    .dataframe thead th {\n        text-align: right;\n    }\n</style>\n<table border=\"1\" class=\"dataframe\">\n  <thead>\n    <tr style=\"text-align: right;\">\n      <th></th>\n      <th>match_control_to_treat</th>\n      <th>match_treat_to_control</th>\n    </tr>\n  </thead>\n  <tbody>\n    <tr>\n      <th>age</th>\n      <td>1.292517e-01</td>\n      <td>2.721265e-04</td>\n    </tr>\n    <tr>\n      <th>pre_spends</th>\n      <td>4.164710e-263</td>\n      <td>1.725086e-24</td>\n    </tr>\n    <tr>\n      <th>signup_month</th>\n      <td>0.000000e+00</td>\n      <td>0.000000e+00</td>\n    </tr>\n  </tbody>\n</table>\n</div>"
     },
     "execution_count": 27,
     "metadata": {},
     "output_type": "execute_result"
    }
   ],
   "source": [
    "quality_results['ks_test']"
   ]
  },
  {
   "cell_type": "code",
   "execution_count": 28,
   "metadata": {
    "ExecuteTime": {
     "end_time": "2024-03-05T13:38:45.035373500Z",
     "start_time": "2024-03-05T13:38:44.332403300Z"
    }
   },
   "outputs": [
    {
     "data": {
      "text/plain": "{'match_control_to_treat': 0.44, 'match_treat_to_control': 0.07}"
     },
     "execution_count": 28,
     "metadata": {},
     "output_type": "execute_result"
    }
   ],
   "source": [
    "quality_results['repeats']"
   ]
  },
  {
   "cell_type": "markdown",
   "metadata": {},
   "source": [
    "### 3.3 Validation\n",
    "Validates estimated effect:\n",
    "1. by replacing real treatment (`random_treatment`) with random placebo treatment.\n",
    " Estimated effect must be droped to zero;\n",
    "2. by adding random feature (`random_feature`). Estimated effect shouldn't change\n",
    "significantly, p-val < 0.05;\n",
    "3. estimates effect on subset of data (`subset_refuter`) (default fraction is 0.8). Estimated effect\n",
    "shouldn't change significantly, p-val < 0.05.\n"
   ]
  },
  {
   "cell_type": "markdown",
   "source": [
    "**Random Treatment** algorithm randomly shuffles the actual treatment. It is expected that the treatment's effect on the target will be close to 0.\n",
    "\n",
    "**Random Feature** adds a feature with random values. It is expected that adding a random feature will maintain the same impact of the treatment on the target.\n",
    "\n",
    "These methods are not sufficiently accurate markers of a successful experiment.\n",
    "\n",
    "[Link to ReadTheDocs](https://hypex.readthedocs.io/en/latest/pages/modules/utils.html#validators)"
   ],
   "metadata": {
    "collapsed": false
   }
  },
  {
   "cell_type": "code",
   "execution_count": 29,
   "metadata": {
    "ExecuteTime": {
     "end_time": "2024-03-05T13:39:02.489347100Z",
     "start_time": "2024-03-05T13:38:44.360406100Z"
    }
   },
   "outputs": [
    {
     "name": "stderr",
     "output_type": "stream",
     "text": [
      "  0%|          | 0/10 [00:00<?, ?it/s]C:\\Users\\User\\AppData\\Local\\Programs\\Python\\Python310\\lib\\site-packages\\numpy\\lib\\function_base.py:520: RuntimeWarning: Mean of empty slice.\n",
      "  avg = a.mean(axis, **keepdims_kw)\n",
      "C:\\Users\\User\\AppData\\Local\\Programs\\Python\\Python310\\lib\\site-packages\\numpy\\core\\_methods.py:121: RuntimeWarning: invalid value encountered in divide\n",
      "  ret = um.true_divide(\n",
      "C:\\Users\\User\\PycharmProjects\\HypEx1\\hypex\\algorithms\\faiss_matcher.py:627: RuntimeWarning: Degrees of freedom <= 0 for slice\n",
      "  cov_c = np.cov(xc, rowvar=False, ddof=0)\n",
      "C:\\Users\\User\\AppData\\Local\\Programs\\Python\\Python310\\lib\\site-packages\\numpy\\lib\\function_base.py:2748: RuntimeWarning: divide by zero encountered in divide\n",
      "  c *= np.true_divide(1, fact)\n",
      "C:\\Users\\User\\AppData\\Local\\Programs\\Python\\Python310\\lib\\site-packages\\numpy\\lib\\function_base.py:2748: RuntimeWarning: invalid value encountered in multiply\n",
      "  c *= np.true_divide(1, fact)\n",
      "C:\\Users\\User\\PycharmProjects\\HypEx1\\hypex\\algorithms\\faiss_matcher.py:628: RuntimeWarning: Degrees of freedom <= 0 for slice\n",
      "  cov_t = np.cov(xt, rowvar=False, ddof=0)\n",
      "C:\\Users\\User\\AppData\\Local\\Programs\\Python\\Python310\\lib\\site-packages\\numpy\\lib\\function_base.py:520: RuntimeWarning: Mean of empty slice.\n",
      "  avg = a.mean(axis, **keepdims_kw)\n",
      "C:\\Users\\User\\AppData\\Local\\Programs\\Python\\Python310\\lib\\site-packages\\numpy\\core\\_methods.py:121: RuntimeWarning: invalid value encountered in divide\n",
      "  ret = um.true_divide(\n",
      "C:\\Users\\User\\PycharmProjects\\HypEx1\\hypex\\algorithms\\faiss_matcher.py:627: RuntimeWarning: Degrees of freedom <= 0 for slice\n",
      "  cov_c = np.cov(xc, rowvar=False, ddof=0)\n",
      "C:\\Users\\User\\AppData\\Local\\Programs\\Python\\Python310\\lib\\site-packages\\numpy\\lib\\function_base.py:2748: RuntimeWarning: divide by zero encountered in divide\n",
      "  c *= np.true_divide(1, fact)\n",
      "C:\\Users\\User\\AppData\\Local\\Programs\\Python\\Python310\\lib\\site-packages\\numpy\\lib\\function_base.py:2748: RuntimeWarning: invalid value encountered in multiply\n",
      "  c *= np.true_divide(1, fact)\n",
      "C:\\Users\\User\\PycharmProjects\\HypEx1\\hypex\\algorithms\\faiss_matcher.py:628: RuntimeWarning: Degrees of freedom <= 0 for slice\n",
      "  cov_t = np.cov(xt, rowvar=False, ddof=0)\n",
      " 10%|█         | 1/10 [00:03<00:29,  3.24s/it]C:\\Users\\User\\AppData\\Local\\Programs\\Python\\Python310\\lib\\site-packages\\numpy\\lib\\function_base.py:520: RuntimeWarning: Mean of empty slice.\n",
      "  avg = a.mean(axis, **keepdims_kw)\n",
      "C:\\Users\\User\\AppData\\Local\\Programs\\Python\\Python310\\lib\\site-packages\\numpy\\core\\_methods.py:121: RuntimeWarning: invalid value encountered in divide\n",
      "  ret = um.true_divide(\n",
      "C:\\Users\\User\\PycharmProjects\\HypEx1\\hypex\\algorithms\\faiss_matcher.py:627: RuntimeWarning: Degrees of freedom <= 0 for slice\n",
      "  cov_c = np.cov(xc, rowvar=False, ddof=0)\n",
      "C:\\Users\\User\\AppData\\Local\\Programs\\Python\\Python310\\lib\\site-packages\\numpy\\lib\\function_base.py:2748: RuntimeWarning: divide by zero encountered in divide\n",
      "  c *= np.true_divide(1, fact)\n",
      "C:\\Users\\User\\AppData\\Local\\Programs\\Python\\Python310\\lib\\site-packages\\numpy\\lib\\function_base.py:2748: RuntimeWarning: invalid value encountered in multiply\n",
      "  c *= np.true_divide(1, fact)\n",
      "C:\\Users\\User\\PycharmProjects\\HypEx1\\hypex\\algorithms\\faiss_matcher.py:628: RuntimeWarning: Degrees of freedom <= 0 for slice\n",
      "  cov_t = np.cov(xt, rowvar=False, ddof=0)\n",
      "C:\\Users\\User\\AppData\\Local\\Programs\\Python\\Python310\\lib\\site-packages\\numpy\\lib\\function_base.py:520: RuntimeWarning: Mean of empty slice.\n",
      "  avg = a.mean(axis, **keepdims_kw)\n",
      "C:\\Users\\User\\AppData\\Local\\Programs\\Python\\Python310\\lib\\site-packages\\numpy\\core\\_methods.py:121: RuntimeWarning: invalid value encountered in divide\n",
      "  ret = um.true_divide(\n",
      "C:\\Users\\User\\PycharmProjects\\HypEx1\\hypex\\algorithms\\faiss_matcher.py:627: RuntimeWarning: Degrees of freedom <= 0 for slice\n",
      "  cov_c = np.cov(xc, rowvar=False, ddof=0)\n",
      "C:\\Users\\User\\AppData\\Local\\Programs\\Python\\Python310\\lib\\site-packages\\numpy\\lib\\function_base.py:2748: RuntimeWarning: divide by zero encountered in divide\n",
      "  c *= np.true_divide(1, fact)\n",
      "C:\\Users\\User\\AppData\\Local\\Programs\\Python\\Python310\\lib\\site-packages\\numpy\\lib\\function_base.py:2748: RuntimeWarning: invalid value encountered in multiply\n",
      "  c *= np.true_divide(1, fact)\n",
      "C:\\Users\\User\\PycharmProjects\\HypEx1\\hypex\\algorithms\\faiss_matcher.py:628: RuntimeWarning: Degrees of freedom <= 0 for slice\n",
      "  cov_t = np.cov(xt, rowvar=False, ddof=0)\n",
      " 20%|██        | 2/10 [00:06<00:25,  3.14s/it]C:\\Users\\User\\AppData\\Local\\Programs\\Python\\Python310\\lib\\site-packages\\numpy\\lib\\function_base.py:520: RuntimeWarning: Mean of empty slice.\n",
      "  avg = a.mean(axis, **keepdims_kw)\n",
      "C:\\Users\\User\\AppData\\Local\\Programs\\Python\\Python310\\lib\\site-packages\\numpy\\core\\_methods.py:121: RuntimeWarning: invalid value encountered in divide\n",
      "  ret = um.true_divide(\n",
      "C:\\Users\\User\\PycharmProjects\\HypEx1\\hypex\\algorithms\\faiss_matcher.py:627: RuntimeWarning: Degrees of freedom <= 0 for slice\n",
      "  cov_c = np.cov(xc, rowvar=False, ddof=0)\n",
      "C:\\Users\\User\\AppData\\Local\\Programs\\Python\\Python310\\lib\\site-packages\\numpy\\lib\\function_base.py:2748: RuntimeWarning: divide by zero encountered in divide\n",
      "  c *= np.true_divide(1, fact)\n",
      "C:\\Users\\User\\AppData\\Local\\Programs\\Python\\Python310\\lib\\site-packages\\numpy\\lib\\function_base.py:2748: RuntimeWarning: invalid value encountered in multiply\n",
      "  c *= np.true_divide(1, fact)\n",
      "C:\\Users\\User\\PycharmProjects\\HypEx1\\hypex\\algorithms\\faiss_matcher.py:628: RuntimeWarning: Degrees of freedom <= 0 for slice\n",
      "  cov_t = np.cov(xt, rowvar=False, ddof=0)\n",
      "C:\\Users\\User\\AppData\\Local\\Programs\\Python\\Python310\\lib\\site-packages\\numpy\\lib\\function_base.py:520: RuntimeWarning: Mean of empty slice.\n",
      "  avg = a.mean(axis, **keepdims_kw)\n",
      "C:\\Users\\User\\AppData\\Local\\Programs\\Python\\Python310\\lib\\site-packages\\numpy\\core\\_methods.py:121: RuntimeWarning: invalid value encountered in divide\n",
      "  ret = um.true_divide(\n",
      "C:\\Users\\User\\PycharmProjects\\HypEx1\\hypex\\algorithms\\faiss_matcher.py:627: RuntimeWarning: Degrees of freedom <= 0 for slice\n",
      "  cov_c = np.cov(xc, rowvar=False, ddof=0)\n",
      "C:\\Users\\User\\AppData\\Local\\Programs\\Python\\Python310\\lib\\site-packages\\numpy\\lib\\function_base.py:2748: RuntimeWarning: divide by zero encountered in divide\n",
      "  c *= np.true_divide(1, fact)\n",
      "C:\\Users\\User\\AppData\\Local\\Programs\\Python\\Python310\\lib\\site-packages\\numpy\\lib\\function_base.py:2748: RuntimeWarning: invalid value encountered in multiply\n",
      "  c *= np.true_divide(1, fact)\n",
      "C:\\Users\\User\\PycharmProjects\\HypEx1\\hypex\\algorithms\\faiss_matcher.py:628: RuntimeWarning: Degrees of freedom <= 0 for slice\n",
      "  cov_t = np.cov(xt, rowvar=False, ddof=0)\n",
      " 30%|███       | 3/10 [00:07<00:16,  2.32s/it]C:\\Users\\User\\AppData\\Local\\Programs\\Python\\Python310\\lib\\site-packages\\numpy\\lib\\function_base.py:520: RuntimeWarning: Mean of empty slice.\n",
      "  avg = a.mean(axis, **keepdims_kw)\n",
      "C:\\Users\\User\\AppData\\Local\\Programs\\Python\\Python310\\lib\\site-packages\\numpy\\core\\_methods.py:121: RuntimeWarning: invalid value encountered in divide\n",
      "  ret = um.true_divide(\n",
      "C:\\Users\\User\\PycharmProjects\\HypEx1\\hypex\\algorithms\\faiss_matcher.py:627: RuntimeWarning: Degrees of freedom <= 0 for slice\n",
      "  cov_c = np.cov(xc, rowvar=False, ddof=0)\n",
      "C:\\Users\\User\\AppData\\Local\\Programs\\Python\\Python310\\lib\\site-packages\\numpy\\lib\\function_base.py:2748: RuntimeWarning: divide by zero encountered in divide\n",
      "  c *= np.true_divide(1, fact)\n",
      "C:\\Users\\User\\AppData\\Local\\Programs\\Python\\Python310\\lib\\site-packages\\numpy\\lib\\function_base.py:2748: RuntimeWarning: invalid value encountered in multiply\n",
      "  c *= np.true_divide(1, fact)\n",
      "C:\\Users\\User\\PycharmProjects\\HypEx1\\hypex\\algorithms\\faiss_matcher.py:628: RuntimeWarning: Degrees of freedom <= 0 for slice\n",
      "  cov_t = np.cov(xt, rowvar=False, ddof=0)\n",
      "C:\\Users\\User\\AppData\\Local\\Programs\\Python\\Python310\\lib\\site-packages\\numpy\\lib\\function_base.py:520: RuntimeWarning: Mean of empty slice.\n",
      "  avg = a.mean(axis, **keepdims_kw)\n",
      "C:\\Users\\User\\AppData\\Local\\Programs\\Python\\Python310\\lib\\site-packages\\numpy\\core\\_methods.py:121: RuntimeWarning: invalid value encountered in divide\n",
      "  ret = um.true_divide(\n",
      "C:\\Users\\User\\PycharmProjects\\HypEx1\\hypex\\algorithms\\faiss_matcher.py:627: RuntimeWarning: Degrees of freedom <= 0 for slice\n",
      "  cov_c = np.cov(xc, rowvar=False, ddof=0)\n",
      "C:\\Users\\User\\AppData\\Local\\Programs\\Python\\Python310\\lib\\site-packages\\numpy\\lib\\function_base.py:2748: RuntimeWarning: divide by zero encountered in divide\n",
      "  c *= np.true_divide(1, fact)\n",
      "C:\\Users\\User\\AppData\\Local\\Programs\\Python\\Python310\\lib\\site-packages\\numpy\\lib\\function_base.py:2748: RuntimeWarning: invalid value encountered in multiply\n",
      "  c *= np.true_divide(1, fact)\n",
      "C:\\Users\\User\\PycharmProjects\\HypEx1\\hypex\\algorithms\\faiss_matcher.py:628: RuntimeWarning: Degrees of freedom <= 0 for slice\n",
      "  cov_t = np.cov(xt, rowvar=False, ddof=0)\n",
      " 40%|████      | 4/10 [00:09<00:11,  1.98s/it]C:\\Users\\User\\AppData\\Local\\Programs\\Python\\Python310\\lib\\site-packages\\numpy\\lib\\function_base.py:520: RuntimeWarning: Mean of empty slice.\n",
      "  avg = a.mean(axis, **keepdims_kw)\n",
      "C:\\Users\\User\\AppData\\Local\\Programs\\Python\\Python310\\lib\\site-packages\\numpy\\core\\_methods.py:121: RuntimeWarning: invalid value encountered in divide\n",
      "  ret = um.true_divide(\n",
      "C:\\Users\\User\\PycharmProjects\\HypEx1\\hypex\\algorithms\\faiss_matcher.py:627: RuntimeWarning: Degrees of freedom <= 0 for slice\n",
      "  cov_c = np.cov(xc, rowvar=False, ddof=0)\n",
      "C:\\Users\\User\\AppData\\Local\\Programs\\Python\\Python310\\lib\\site-packages\\numpy\\lib\\function_base.py:2748: RuntimeWarning: divide by zero encountered in divide\n",
      "  c *= np.true_divide(1, fact)\n",
      "C:\\Users\\User\\AppData\\Local\\Programs\\Python\\Python310\\lib\\site-packages\\numpy\\lib\\function_base.py:2748: RuntimeWarning: invalid value encountered in multiply\n",
      "  c *= np.true_divide(1, fact)\n",
      "C:\\Users\\User\\PycharmProjects\\HypEx1\\hypex\\algorithms\\faiss_matcher.py:628: RuntimeWarning: Degrees of freedom <= 0 for slice\n",
      "  cov_t = np.cov(xt, rowvar=False, ddof=0)\n",
      "C:\\Users\\User\\AppData\\Local\\Programs\\Python\\Python310\\lib\\site-packages\\numpy\\lib\\function_base.py:520: RuntimeWarning: Mean of empty slice.\n",
      "  avg = a.mean(axis, **keepdims_kw)\n",
      "C:\\Users\\User\\AppData\\Local\\Programs\\Python\\Python310\\lib\\site-packages\\numpy\\core\\_methods.py:121: RuntimeWarning: invalid value encountered in divide\n",
      "  ret = um.true_divide(\n",
      "C:\\Users\\User\\PycharmProjects\\HypEx1\\hypex\\algorithms\\faiss_matcher.py:627: RuntimeWarning: Degrees of freedom <= 0 for slice\n",
      "  cov_c = np.cov(xc, rowvar=False, ddof=0)\n",
      "C:\\Users\\User\\AppData\\Local\\Programs\\Python\\Python310\\lib\\site-packages\\numpy\\lib\\function_base.py:2748: RuntimeWarning: divide by zero encountered in divide\n",
      "  c *= np.true_divide(1, fact)\n",
      "C:\\Users\\User\\AppData\\Local\\Programs\\Python\\Python310\\lib\\site-packages\\numpy\\lib\\function_base.py:2748: RuntimeWarning: invalid value encountered in multiply\n",
      "  c *= np.true_divide(1, fact)\n",
      "C:\\Users\\User\\PycharmProjects\\HypEx1\\hypex\\algorithms\\faiss_matcher.py:628: RuntimeWarning: Degrees of freedom <= 0 for slice\n",
      "  cov_t = np.cov(xt, rowvar=False, ddof=0)\n",
      " 50%|█████     | 5/10 [00:10<00:09,  1.83s/it]C:\\Users\\User\\AppData\\Local\\Programs\\Python\\Python310\\lib\\site-packages\\numpy\\lib\\function_base.py:520: RuntimeWarning: Mean of empty slice.\n",
      "  avg = a.mean(axis, **keepdims_kw)\n",
      "C:\\Users\\User\\AppData\\Local\\Programs\\Python\\Python310\\lib\\site-packages\\numpy\\core\\_methods.py:121: RuntimeWarning: invalid value encountered in divide\n",
      "  ret = um.true_divide(\n",
      "C:\\Users\\User\\PycharmProjects\\HypEx1\\hypex\\algorithms\\faiss_matcher.py:627: RuntimeWarning: Degrees of freedom <= 0 for slice\n",
      "  cov_c = np.cov(xc, rowvar=False, ddof=0)\n",
      "C:\\Users\\User\\AppData\\Local\\Programs\\Python\\Python310\\lib\\site-packages\\numpy\\lib\\function_base.py:2748: RuntimeWarning: divide by zero encountered in divide\n",
      "  c *= np.true_divide(1, fact)\n",
      "C:\\Users\\User\\AppData\\Local\\Programs\\Python\\Python310\\lib\\site-packages\\numpy\\lib\\function_base.py:2748: RuntimeWarning: invalid value encountered in multiply\n",
      "  c *= np.true_divide(1, fact)\n",
      "C:\\Users\\User\\PycharmProjects\\HypEx1\\hypex\\algorithms\\faiss_matcher.py:628: RuntimeWarning: Degrees of freedom <= 0 for slice\n",
      "  cov_t = np.cov(xt, rowvar=False, ddof=0)\n",
      "C:\\Users\\User\\AppData\\Local\\Programs\\Python\\Python310\\lib\\site-packages\\numpy\\lib\\function_base.py:520: RuntimeWarning: Mean of empty slice.\n",
      "  avg = a.mean(axis, **keepdims_kw)\n",
      "C:\\Users\\User\\AppData\\Local\\Programs\\Python\\Python310\\lib\\site-packages\\numpy\\core\\_methods.py:121: RuntimeWarning: invalid value encountered in divide\n",
      "  ret = um.true_divide(\n",
      "C:\\Users\\User\\PycharmProjects\\HypEx1\\hypex\\algorithms\\faiss_matcher.py:627: RuntimeWarning: Degrees of freedom <= 0 for slice\n",
      "  cov_c = np.cov(xc, rowvar=False, ddof=0)\n",
      "C:\\Users\\User\\AppData\\Local\\Programs\\Python\\Python310\\lib\\site-packages\\numpy\\lib\\function_base.py:2748: RuntimeWarning: divide by zero encountered in divide\n",
      "  c *= np.true_divide(1, fact)\n",
      "C:\\Users\\User\\AppData\\Local\\Programs\\Python\\Python310\\lib\\site-packages\\numpy\\lib\\function_base.py:2748: RuntimeWarning: invalid value encountered in multiply\n",
      "  c *= np.true_divide(1, fact)\n",
      "C:\\Users\\User\\PycharmProjects\\HypEx1\\hypex\\algorithms\\faiss_matcher.py:628: RuntimeWarning: Degrees of freedom <= 0 for slice\n",
      "  cov_t = np.cov(xt, rowvar=False, ddof=0)\n",
      " 60%|██████    | 6/10 [00:12<00:07,  1.83s/it]C:\\Users\\User\\AppData\\Local\\Programs\\Python\\Python310\\lib\\site-packages\\numpy\\lib\\function_base.py:520: RuntimeWarning: Mean of empty slice.\n",
      "  avg = a.mean(axis, **keepdims_kw)\n",
      "C:\\Users\\User\\AppData\\Local\\Programs\\Python\\Python310\\lib\\site-packages\\numpy\\core\\_methods.py:121: RuntimeWarning: invalid value encountered in divide\n",
      "  ret = um.true_divide(\n",
      "C:\\Users\\User\\PycharmProjects\\HypEx1\\hypex\\algorithms\\faiss_matcher.py:627: RuntimeWarning: Degrees of freedom <= 0 for slice\n",
      "  cov_c = np.cov(xc, rowvar=False, ddof=0)\n",
      "C:\\Users\\User\\AppData\\Local\\Programs\\Python\\Python310\\lib\\site-packages\\numpy\\lib\\function_base.py:2748: RuntimeWarning: divide by zero encountered in divide\n",
      "  c *= np.true_divide(1, fact)\n",
      "C:\\Users\\User\\AppData\\Local\\Programs\\Python\\Python310\\lib\\site-packages\\numpy\\lib\\function_base.py:2748: RuntimeWarning: invalid value encountered in multiply\n",
      "  c *= np.true_divide(1, fact)\n",
      "C:\\Users\\User\\PycharmProjects\\HypEx1\\hypex\\algorithms\\faiss_matcher.py:628: RuntimeWarning: Degrees of freedom <= 0 for slice\n",
      "  cov_t = np.cov(xt, rowvar=False, ddof=0)\n",
      "C:\\Users\\User\\AppData\\Local\\Programs\\Python\\Python310\\lib\\site-packages\\numpy\\lib\\function_base.py:520: RuntimeWarning: Mean of empty slice.\n",
      "  avg = a.mean(axis, **keepdims_kw)\n",
      "C:\\Users\\User\\AppData\\Local\\Programs\\Python\\Python310\\lib\\site-packages\\numpy\\core\\_methods.py:121: RuntimeWarning: invalid value encountered in divide\n",
      "  ret = um.true_divide(\n",
      "C:\\Users\\User\\PycharmProjects\\HypEx1\\hypex\\algorithms\\faiss_matcher.py:627: RuntimeWarning: Degrees of freedom <= 0 for slice\n",
      "  cov_c = np.cov(xc, rowvar=False, ddof=0)\n",
      "C:\\Users\\User\\AppData\\Local\\Programs\\Python\\Python310\\lib\\site-packages\\numpy\\lib\\function_base.py:2748: RuntimeWarning: divide by zero encountered in divide\n",
      "  c *= np.true_divide(1, fact)\n",
      "C:\\Users\\User\\AppData\\Local\\Programs\\Python\\Python310\\lib\\site-packages\\numpy\\lib\\function_base.py:2748: RuntimeWarning: invalid value encountered in multiply\n",
      "  c *= np.true_divide(1, fact)\n",
      "C:\\Users\\User\\PycharmProjects\\HypEx1\\hypex\\algorithms\\faiss_matcher.py:628: RuntimeWarning: Degrees of freedom <= 0 for slice\n",
      "  cov_t = np.cov(xt, rowvar=False, ddof=0)\n",
      " 70%|███████   | 7/10 [00:13<00:04,  1.63s/it]C:\\Users\\User\\AppData\\Local\\Programs\\Python\\Python310\\lib\\site-packages\\numpy\\lib\\function_base.py:520: RuntimeWarning: Mean of empty slice.\n",
      "  avg = a.mean(axis, **keepdims_kw)\n",
      "C:\\Users\\User\\AppData\\Local\\Programs\\Python\\Python310\\lib\\site-packages\\numpy\\core\\_methods.py:121: RuntimeWarning: invalid value encountered in divide\n",
      "  ret = um.true_divide(\n",
      "C:\\Users\\User\\PycharmProjects\\HypEx1\\hypex\\algorithms\\faiss_matcher.py:627: RuntimeWarning: Degrees of freedom <= 0 for slice\n",
      "  cov_c = np.cov(xc, rowvar=False, ddof=0)\n",
      "C:\\Users\\User\\AppData\\Local\\Programs\\Python\\Python310\\lib\\site-packages\\numpy\\lib\\function_base.py:2748: RuntimeWarning: divide by zero encountered in divide\n",
      "  c *= np.true_divide(1, fact)\n",
      "C:\\Users\\User\\AppData\\Local\\Programs\\Python\\Python310\\lib\\site-packages\\numpy\\lib\\function_base.py:2748: RuntimeWarning: invalid value encountered in multiply\n",
      "  c *= np.true_divide(1, fact)\n",
      "C:\\Users\\User\\PycharmProjects\\HypEx1\\hypex\\algorithms\\faiss_matcher.py:628: RuntimeWarning: Degrees of freedom <= 0 for slice\n",
      "  cov_t = np.cov(xt, rowvar=False, ddof=0)\n",
      "C:\\Users\\User\\AppData\\Local\\Programs\\Python\\Python310\\lib\\site-packages\\numpy\\lib\\function_base.py:520: RuntimeWarning: Mean of empty slice.\n",
      "  avg = a.mean(axis, **keepdims_kw)\n",
      "C:\\Users\\User\\AppData\\Local\\Programs\\Python\\Python310\\lib\\site-packages\\numpy\\core\\_methods.py:121: RuntimeWarning: invalid value encountered in divide\n",
      "  ret = um.true_divide(\n",
      "C:\\Users\\User\\PycharmProjects\\HypEx1\\hypex\\algorithms\\faiss_matcher.py:627: RuntimeWarning: Degrees of freedom <= 0 for slice\n",
      "  cov_c = np.cov(xc, rowvar=False, ddof=0)\n",
      "C:\\Users\\User\\AppData\\Local\\Programs\\Python\\Python310\\lib\\site-packages\\numpy\\lib\\function_base.py:2748: RuntimeWarning: divide by zero encountered in divide\n",
      "  c *= np.true_divide(1, fact)\n",
      "C:\\Users\\User\\AppData\\Local\\Programs\\Python\\Python310\\lib\\site-packages\\numpy\\lib\\function_base.py:2748: RuntimeWarning: invalid value encountered in multiply\n",
      "  c *= np.true_divide(1, fact)\n",
      "C:\\Users\\User\\PycharmProjects\\HypEx1\\hypex\\algorithms\\faiss_matcher.py:628: RuntimeWarning: Degrees of freedom <= 0 for slice\n",
      "  cov_t = np.cov(xt, rowvar=False, ddof=0)\n",
      " 80%|████████  | 8/10 [00:15<00:03,  1.54s/it]C:\\Users\\User\\AppData\\Local\\Programs\\Python\\Python310\\lib\\site-packages\\numpy\\lib\\function_base.py:520: RuntimeWarning: Mean of empty slice.\n",
      "  avg = a.mean(axis, **keepdims_kw)\n",
      "C:\\Users\\User\\AppData\\Local\\Programs\\Python\\Python310\\lib\\site-packages\\numpy\\core\\_methods.py:121: RuntimeWarning: invalid value encountered in divide\n",
      "  ret = um.true_divide(\n",
      "C:\\Users\\User\\PycharmProjects\\HypEx1\\hypex\\algorithms\\faiss_matcher.py:627: RuntimeWarning: Degrees of freedom <= 0 for slice\n",
      "  cov_c = np.cov(xc, rowvar=False, ddof=0)\n",
      "C:\\Users\\User\\AppData\\Local\\Programs\\Python\\Python310\\lib\\site-packages\\numpy\\lib\\function_base.py:2748: RuntimeWarning: divide by zero encountered in divide\n",
      "  c *= np.true_divide(1, fact)\n",
      "C:\\Users\\User\\AppData\\Local\\Programs\\Python\\Python310\\lib\\site-packages\\numpy\\lib\\function_base.py:2748: RuntimeWarning: invalid value encountered in multiply\n",
      "  c *= np.true_divide(1, fact)\n",
      "C:\\Users\\User\\PycharmProjects\\HypEx1\\hypex\\algorithms\\faiss_matcher.py:628: RuntimeWarning: Degrees of freedom <= 0 for slice\n",
      "  cov_t = np.cov(xt, rowvar=False, ddof=0)\n",
      "C:\\Users\\User\\AppData\\Local\\Programs\\Python\\Python310\\lib\\site-packages\\numpy\\lib\\function_base.py:520: RuntimeWarning: Mean of empty slice.\n",
      "  avg = a.mean(axis, **keepdims_kw)\n",
      "C:\\Users\\User\\AppData\\Local\\Programs\\Python\\Python310\\lib\\site-packages\\numpy\\core\\_methods.py:121: RuntimeWarning: invalid value encountered in divide\n",
      "  ret = um.true_divide(\n",
      "C:\\Users\\User\\PycharmProjects\\HypEx1\\hypex\\algorithms\\faiss_matcher.py:627: RuntimeWarning: Degrees of freedom <= 0 for slice\n",
      "  cov_c = np.cov(xc, rowvar=False, ddof=0)\n",
      "C:\\Users\\User\\AppData\\Local\\Programs\\Python\\Python310\\lib\\site-packages\\numpy\\lib\\function_base.py:2748: RuntimeWarning: divide by zero encountered in divide\n",
      "  c *= np.true_divide(1, fact)\n",
      "C:\\Users\\User\\AppData\\Local\\Programs\\Python\\Python310\\lib\\site-packages\\numpy\\lib\\function_base.py:2748: RuntimeWarning: invalid value encountered in multiply\n",
      "  c *= np.true_divide(1, fact)\n",
      "C:\\Users\\User\\PycharmProjects\\HypEx1\\hypex\\algorithms\\faiss_matcher.py:628: RuntimeWarning: Degrees of freedom <= 0 for slice\n",
      "  cov_t = np.cov(xt, rowvar=False, ddof=0)\n",
      " 90%|█████████ | 9/10 [00:16<00:01,  1.49s/it]C:\\Users\\User\\AppData\\Local\\Programs\\Python\\Python310\\lib\\site-packages\\numpy\\lib\\function_base.py:520: RuntimeWarning: Mean of empty slice.\n",
      "  avg = a.mean(axis, **keepdims_kw)\n",
      "C:\\Users\\User\\AppData\\Local\\Programs\\Python\\Python310\\lib\\site-packages\\numpy\\core\\_methods.py:121: RuntimeWarning: invalid value encountered in divide\n",
      "  ret = um.true_divide(\n",
      "C:\\Users\\User\\PycharmProjects\\HypEx1\\hypex\\algorithms\\faiss_matcher.py:627: RuntimeWarning: Degrees of freedom <= 0 for slice\n",
      "  cov_c = np.cov(xc, rowvar=False, ddof=0)\n",
      "C:\\Users\\User\\AppData\\Local\\Programs\\Python\\Python310\\lib\\site-packages\\numpy\\lib\\function_base.py:2748: RuntimeWarning: divide by zero encountered in divide\n",
      "  c *= np.true_divide(1, fact)\n",
      "C:\\Users\\User\\AppData\\Local\\Programs\\Python\\Python310\\lib\\site-packages\\numpy\\lib\\function_base.py:2748: RuntimeWarning: invalid value encountered in multiply\n",
      "  c *= np.true_divide(1, fact)\n",
      "C:\\Users\\User\\PycharmProjects\\HypEx1\\hypex\\algorithms\\faiss_matcher.py:628: RuntimeWarning: Degrees of freedom <= 0 for slice\n",
      "  cov_t = np.cov(xt, rowvar=False, ddof=0)\n",
      "C:\\Users\\User\\AppData\\Local\\Programs\\Python\\Python310\\lib\\site-packages\\numpy\\lib\\function_base.py:520: RuntimeWarning: Mean of empty slice.\n",
      "  avg = a.mean(axis, **keepdims_kw)\n",
      "C:\\Users\\User\\AppData\\Local\\Programs\\Python\\Python310\\lib\\site-packages\\numpy\\core\\_methods.py:121: RuntimeWarning: invalid value encountered in divide\n",
      "  ret = um.true_divide(\n",
      "C:\\Users\\User\\PycharmProjects\\HypEx1\\hypex\\algorithms\\faiss_matcher.py:627: RuntimeWarning: Degrees of freedom <= 0 for slice\n",
      "  cov_c = np.cov(xc, rowvar=False, ddof=0)\n",
      "C:\\Users\\User\\AppData\\Local\\Programs\\Python\\Python310\\lib\\site-packages\\numpy\\lib\\function_base.py:2748: RuntimeWarning: divide by zero encountered in divide\n",
      "  c *= np.true_divide(1, fact)\n",
      "C:\\Users\\User\\AppData\\Local\\Programs\\Python\\Python310\\lib\\site-packages\\numpy\\lib\\function_base.py:2748: RuntimeWarning: invalid value encountered in multiply\n",
      "  c *= np.true_divide(1, fact)\n",
      "C:\\Users\\User\\PycharmProjects\\HypEx1\\hypex\\algorithms\\faiss_matcher.py:628: RuntimeWarning: Degrees of freedom <= 0 for slice\n",
      "  cov_t = np.cov(xt, rowvar=False, ddof=0)\n",
      "100%|██████████| 10/10 [00:17<00:00,  1.80s/it]\n"
     ]
    },
    {
     "data": {
      "text/plain": "{'post_spends': [-0.008625154338610733, 0.0]}"
     },
     "execution_count": 29,
     "metadata": {},
     "output_type": "execute_result"
    }
   ],
   "source": [
    "model.validate_result(refuter=\"random_treatment\", effect_type=\"att\", n_sim=10)"
   ]
  },
  {
   "cell_type": "markdown",
   "metadata": {},
   "source": [
    "## 4. Save model"
   ]
  },
  {
   "cell_type": "code",
   "execution_count": 30,
   "metadata": {
    "ExecuteTime": {
     "end_time": "2024-03-05T13:39:02.572116900Z",
     "start_time": "2024-03-05T13:39:02.402954500Z"
    }
   },
   "outputs": [],
   "source": [
    "model.save(\"test_model.pickle\")"
   ]
  },
  {
   "cell_type": "code",
   "execution_count": 31,
   "metadata": {
    "ExecuteTime": {
     "end_time": "2024-03-05T13:39:02.657280200Z",
     "start_time": "2024-03-05T13:39:02.525218900Z"
    }
   },
   "outputs": [],
   "source": [
    "model2 = Matcher.load(\"test_model.pickle\")"
   ]
  },
  {
   "cell_type": "code",
   "execution_count": 32,
   "metadata": {
    "ExecuteTime": {
     "end_time": "2024-03-05T13:39:02.725146Z",
     "start_time": "2024-03-05T13:39:02.591885500Z"
    }
   },
   "outputs": [
    {
     "data": {
      "text/plain": "     effect_size   std_err  p-val   ci_lower    ci_upper      outcome\nATE    81.186361  1.626949    0.0  77.997541   84.375181  post_spends\nATC    98.880907  3.108746    0.0  92.787765  104.974050  post_spends\nATT    63.477653  0.650095    0.0  62.203466   64.751840  post_spends",
      "text/html": "<div>\n<style scoped>\n    .dataframe tbody tr th:only-of-type {\n        vertical-align: middle;\n    }\n\n    .dataframe tbody tr th {\n        vertical-align: top;\n    }\n\n    .dataframe thead th {\n        text-align: right;\n    }\n</style>\n<table border=\"1\" class=\"dataframe\">\n  <thead>\n    <tr style=\"text-align: right;\">\n      <th></th>\n      <th>effect_size</th>\n      <th>std_err</th>\n      <th>p-val</th>\n      <th>ci_lower</th>\n      <th>ci_upper</th>\n      <th>outcome</th>\n    </tr>\n  </thead>\n  <tbody>\n    <tr>\n      <th>ATE</th>\n      <td>81.186361</td>\n      <td>1.626949</td>\n      <td>0.0</td>\n      <td>77.997541</td>\n      <td>84.375181</td>\n      <td>post_spends</td>\n    </tr>\n    <tr>\n      <th>ATC</th>\n      <td>98.880907</td>\n      <td>3.108746</td>\n      <td>0.0</td>\n      <td>92.787765</td>\n      <td>104.974050</td>\n      <td>post_spends</td>\n    </tr>\n    <tr>\n      <th>ATT</th>\n      <td>63.477653</td>\n      <td>0.650095</td>\n      <td>0.0</td>\n      <td>62.203466</td>\n      <td>64.751840</td>\n      <td>post_spends</td>\n    </tr>\n  </tbody>\n</table>\n</div>"
     },
     "execution_count": 32,
     "metadata": {},
     "output_type": "execute_result"
    }
   ],
   "source": [
    "model2.results"
   ]
  },
  {
   "cell_type": "code",
   "execution_count": 33,
   "metadata": {
    "ExecuteTime": {
     "end_time": "2024-03-05T13:39:02.786620200Z",
     "start_time": "2024-03-05T13:39:02.626950900Z"
    }
   },
   "outputs": [
    {
     "data": {
      "text/plain": "     effect_size   std_err  p-val   ci_lower    ci_upper      outcome\nATE    81.186361  1.626949    0.0  77.997541   84.375181  post_spends\nATC    98.880907  3.108746    0.0  92.787765  104.974050  post_spends\nATT    63.477653  0.650095    0.0  62.203466   64.751840  post_spends",
      "text/html": "<div>\n<style scoped>\n    .dataframe tbody tr th:only-of-type {\n        vertical-align: middle;\n    }\n\n    .dataframe tbody tr th {\n        vertical-align: top;\n    }\n\n    .dataframe thead th {\n        text-align: right;\n    }\n</style>\n<table border=\"1\" class=\"dataframe\">\n  <thead>\n    <tr style=\"text-align: right;\">\n      <th></th>\n      <th>effect_size</th>\n      <th>std_err</th>\n      <th>p-val</th>\n      <th>ci_lower</th>\n      <th>ci_upper</th>\n      <th>outcome</th>\n    </tr>\n  </thead>\n  <tbody>\n    <tr>\n      <th>ATE</th>\n      <td>81.186361</td>\n      <td>1.626949</td>\n      <td>0.0</td>\n      <td>77.997541</td>\n      <td>84.375181</td>\n      <td>post_spends</td>\n    </tr>\n    <tr>\n      <th>ATC</th>\n      <td>98.880907</td>\n      <td>3.108746</td>\n      <td>0.0</td>\n      <td>92.787765</td>\n      <td>104.974050</td>\n      <td>post_spends</td>\n    </tr>\n    <tr>\n      <th>ATT</th>\n      <td>63.477653</td>\n      <td>0.650095</td>\n      <td>0.0</td>\n      <td>62.203466</td>\n      <td>64.751840</td>\n      <td>post_spends</td>\n    </tr>\n  </tbody>\n</table>\n</div>"
     },
     "execution_count": 33,
     "metadata": {},
     "output_type": "execute_result"
    }
   ],
   "source": [
    "model.results"
   ]
  }
 ],
 "metadata": {
  "kernelspec": {
   "display_name": "Python 3 (ipykernel)",
   "language": "python",
   "name": "python3"
  },
  "language_info": {
   "codemirror_mode": {
    "name": "ipython",
    "version": 3
   },
   "file_extension": ".py",
   "mimetype": "text/x-python",
   "name": "python",
   "nbconvert_exporter": "python",
   "pygments_lexer": "ipython3",
   "version": "3.9.7"
  }
 },
 "nbformat": 4,
 "nbformat_minor": 4
}
