{
 "cells": [
  {
   "cell_type": "markdown",
   "metadata": {},
   "source": [
    "# Tutorial 12: Matching"
   ]
  },
  {
   "cell_type": "markdown",
   "metadata": {},
   "source": [
    "## 0. Import libraries "
   ]
  },
  {
   "cell_type": "code",
   "execution_count": 1,
   "metadata": {
    "ExecuteTime": {
     "end_time": "2023-11-02T16:22:52.104157Z",
     "start_time": "2023-11-02T16:22:50.589272Z"
    }
   },
   "outputs": [],
   "source": [
    "import pandas as pd\n",
    "import warnings\n",
    "import numpy as np\n",
    "from hypex import Matcher\n",
    "\n",
    "warnings.filterwarnings('ignore')\n",
    "%config Completer.use_jedi = False"
   ]
  },
  {
   "cell_type": "markdown",
   "metadata": {},
   "source": [
    "## 1. Create or upload your dataset  \n",
    "In this case we will create random dataset with known effect size  \n",
    "If you have your own dataset, go to the part 2 \n"
   ]
  },
  {
   "cell_type": "code",
   "execution_count": 2,
   "metadata": {
    "ExecuteTime": {
     "end_time": "2023-11-02T16:22:52.132705Z",
     "start_time": "2023-11-02T16:22:52.103556Z"
    }
   },
   "outputs": [
    {
     "data": {
      "text/plain": "   user_id  signup_month  month  spend  treat\n0        0             0      1    455  False\n1        0             0      2    463  False\n2        0             0      3    485  False\n3        0             0      4    434  False\n4        0             0      5    405  False",
      "text/html": "<div>\n<style scoped>\n    .dataframe tbody tr th:only-of-type {\n        vertical-align: middle;\n    }\n\n    .dataframe tbody tr th {\n        vertical-align: top;\n    }\n\n    .dataframe thead th {\n        text-align: right;\n    }\n</style>\n<table border=\"1\" class=\"dataframe\">\n  <thead>\n    <tr style=\"text-align: right;\">\n      <th></th>\n      <th>user_id</th>\n      <th>signup_month</th>\n      <th>month</th>\n      <th>spend</th>\n      <th>treat</th>\n    </tr>\n  </thead>\n  <tbody>\n    <tr>\n      <th>0</th>\n      <td>0</td>\n      <td>0</td>\n      <td>1</td>\n      <td>455</td>\n      <td>False</td>\n    </tr>\n    <tr>\n      <th>1</th>\n      <td>0</td>\n      <td>0</td>\n      <td>2</td>\n      <td>463</td>\n      <td>False</td>\n    </tr>\n    <tr>\n      <th>2</th>\n      <td>0</td>\n      <td>0</td>\n      <td>3</td>\n      <td>485</td>\n      <td>False</td>\n    </tr>\n    <tr>\n      <th>3</th>\n      <td>0</td>\n      <td>0</td>\n      <td>4</td>\n      <td>434</td>\n      <td>False</td>\n    </tr>\n    <tr>\n      <th>4</th>\n      <td>0</td>\n      <td>0</td>\n      <td>5</td>\n      <td>405</td>\n      <td>False</td>\n    </tr>\n  </tbody>\n</table>\n</div>"
     },
     "execution_count": 2,
     "metadata": {},
     "output_type": "execute_result"
    }
   ],
   "source": [
    "# Simulating dataset with known effect size\n",
    "num_users = 10000\n",
    "num_months = 12\n",
    "\n",
    "signup_months = np.random.choice(np.arange(1, num_months), num_users) * np.random.randint(0,2, size=num_users) # signup_months == 0 means customer did not sign up\n",
    "df = pd.DataFrame({\n",
    "    'user_id': np.repeat(np.arange(num_users), num_months),\n",
    "    'signup_month': np.repeat(signup_months, num_months), # signup month == 0 means customer did not sign up\n",
    "    'month': np.tile(np.arange(1, num_months+1), num_users), # months are from 1 to 12\n",
    "    'spend': np.random.poisson(500, num_users*num_months) #np.random.beta(a=2, b=5, size=num_users * num_months)*1000 # centered at 500\n",
    "})\n",
    "# A customer is in the treatment group if and only if they signed up\n",
    "df[\"treat\"] = df[\"signup_month\"]>0\n",
    "# Simulating an effect of month (monotonically decreasing--customers buy less later in the year)\n",
    "df[\"spend\"] = df[\"spend\"] - df[\"month\"]*10\n",
    "# Simulating a simple treatment effect of 100\n",
    "after_signup = (df[\"signup_month\"] < df[\"month\"]) & (df[\"treat\"])\n",
    "df.loc[after_signup,\"spend\"] = df[after_signup][\"spend\"] + 100\n",
    "df.head()"
   ]
  },
  {
   "cell_type": "code",
   "execution_count": 3,
   "metadata": {
    "ExecuteTime": {
     "end_time": "2023-11-02T16:22:53.835588Z",
     "start_time": "2023-11-02T16:22:52.129809Z"
    }
   },
   "outputs": [
    {
     "data": {
      "text/plain": "      user_id  signup_month  treat  pre_spends  post_spends\n0           0             0  False       459.0   415.000000\n1           2             0  False       490.0   418.000000\n2           3             0  False       499.0   412.666667\n3           6             0  False       476.5   414.222222\n4           7             0  False       482.0   417.888889\n...       ...           ...    ...         ...          ...\n5416     9995             0  False       506.5   418.000000\n5417     9996             0  False       494.5   421.222222\n5418     9997             0  False       496.5   417.444444\n5419     9998             0  False       484.0   424.888889\n5420     9999             0  False       494.5   418.888889\n\n[5421 rows x 5 columns]",
      "text/html": "<div>\n<style scoped>\n    .dataframe tbody tr th:only-of-type {\n        vertical-align: middle;\n    }\n\n    .dataframe tbody tr th {\n        vertical-align: top;\n    }\n\n    .dataframe thead th {\n        text-align: right;\n    }\n</style>\n<table border=\"1\" class=\"dataframe\">\n  <thead>\n    <tr style=\"text-align: right;\">\n      <th></th>\n      <th>user_id</th>\n      <th>signup_month</th>\n      <th>treat</th>\n      <th>pre_spends</th>\n      <th>post_spends</th>\n    </tr>\n  </thead>\n  <tbody>\n    <tr>\n      <th>0</th>\n      <td>0</td>\n      <td>0</td>\n      <td>False</td>\n      <td>459.0</td>\n      <td>415.000000</td>\n    </tr>\n    <tr>\n      <th>1</th>\n      <td>2</td>\n      <td>0</td>\n      <td>False</td>\n      <td>490.0</td>\n      <td>418.000000</td>\n    </tr>\n    <tr>\n      <th>2</th>\n      <td>3</td>\n      <td>0</td>\n      <td>False</td>\n      <td>499.0</td>\n      <td>412.666667</td>\n    </tr>\n    <tr>\n      <th>3</th>\n      <td>6</td>\n      <td>0</td>\n      <td>False</td>\n      <td>476.5</td>\n      <td>414.222222</td>\n    </tr>\n    <tr>\n      <th>4</th>\n      <td>7</td>\n      <td>0</td>\n      <td>False</td>\n      <td>482.0</td>\n      <td>417.888889</td>\n    </tr>\n    <tr>\n      <th>...</th>\n      <td>...</td>\n      <td>...</td>\n      <td>...</td>\n      <td>...</td>\n      <td>...</td>\n    </tr>\n    <tr>\n      <th>5416</th>\n      <td>9995</td>\n      <td>0</td>\n      <td>False</td>\n      <td>506.5</td>\n      <td>418.000000</td>\n    </tr>\n    <tr>\n      <th>5417</th>\n      <td>9996</td>\n      <td>0</td>\n      <td>False</td>\n      <td>494.5</td>\n      <td>421.222222</td>\n    </tr>\n    <tr>\n      <th>5418</th>\n      <td>9997</td>\n      <td>0</td>\n      <td>False</td>\n      <td>496.5</td>\n      <td>417.444444</td>\n    </tr>\n    <tr>\n      <th>5419</th>\n      <td>9998</td>\n      <td>0</td>\n      <td>False</td>\n      <td>484.0</td>\n      <td>424.888889</td>\n    </tr>\n    <tr>\n      <th>5420</th>\n      <td>9999</td>\n      <td>0</td>\n      <td>False</td>\n      <td>494.5</td>\n      <td>418.888889</td>\n    </tr>\n  </tbody>\n</table>\n<p>5421 rows × 5 columns</p>\n</div>"
     },
     "execution_count": 3,
     "metadata": {},
     "output_type": "execute_result"
    }
   ],
   "source": [
    "# Setting the signup month (for ease of analysis)\n",
    "i = 3\n",
    "df_i_signupmonth = (\n",
    "    df[df.signup_month.isin([0, i])]\n",
    "    .groupby([\"user_id\", \"signup_month\", \"treat\"])\n",
    "    .apply(\n",
    "        lambda x: pd.Series(\n",
    "            {\n",
    "                \"pre_spends\": x.loc[x.month < i, \"spend\"].mean(),\n",
    "                \"post_spends\": x.loc[x.month > i, \"spend\"].mean(),\n",
    "            }\n",
    "        )\n",
    "    )\n",
    "    .reset_index()\n",
    ")\n",
    "df_i_signupmonth"
   ]
  },
  {
   "cell_type": "code",
   "execution_count": 4,
   "metadata": {
    "ExecuteTime": {
     "end_time": "2023-11-02T16:22:53.861181Z",
     "start_time": "2023-11-02T16:22:53.833791Z"
    }
   },
   "outputs": [
    {
     "data": {
      "text/plain": "   user_id  signup_month  treat  pre_spends  post_spends  age  is_male  \\\n0        0             0      0       459.0   415.000000   39        1   \n1        2             0      0       490.0   418.000000   55        1   \n2        3             0      0       499.0   412.666667   68        1   \n3        6             0      0       476.5   414.222222   22        1   \n4        7             0      0       482.0   417.888889   43        1   \n\n  industry  \n0        2  \n1        2  \n2        1  \n3        1  \n4        2  ",
      "text/html": "<div>\n<style scoped>\n    .dataframe tbody tr th:only-of-type {\n        vertical-align: middle;\n    }\n\n    .dataframe tbody tr th {\n        vertical-align: top;\n    }\n\n    .dataframe thead th {\n        text-align: right;\n    }\n</style>\n<table border=\"1\" class=\"dataframe\">\n  <thead>\n    <tr style=\"text-align: right;\">\n      <th></th>\n      <th>user_id</th>\n      <th>signup_month</th>\n      <th>treat</th>\n      <th>pre_spends</th>\n      <th>post_spends</th>\n      <th>age</th>\n      <th>is_male</th>\n      <th>industry</th>\n    </tr>\n  </thead>\n  <tbody>\n    <tr>\n      <th>0</th>\n      <td>0</td>\n      <td>0</td>\n      <td>0</td>\n      <td>459.0</td>\n      <td>415.000000</td>\n      <td>39</td>\n      <td>1</td>\n      <td>2</td>\n    </tr>\n    <tr>\n      <th>1</th>\n      <td>2</td>\n      <td>0</td>\n      <td>0</td>\n      <td>490.0</td>\n      <td>418.000000</td>\n      <td>55</td>\n      <td>1</td>\n      <td>2</td>\n    </tr>\n    <tr>\n      <th>2</th>\n      <td>3</td>\n      <td>0</td>\n      <td>0</td>\n      <td>499.0</td>\n      <td>412.666667</td>\n      <td>68</td>\n      <td>1</td>\n      <td>1</td>\n    </tr>\n    <tr>\n      <th>3</th>\n      <td>6</td>\n      <td>0</td>\n      <td>0</td>\n      <td>476.5</td>\n      <td>414.222222</td>\n      <td>22</td>\n      <td>1</td>\n      <td>1</td>\n    </tr>\n    <tr>\n      <th>4</th>\n      <td>7</td>\n      <td>0</td>\n      <td>0</td>\n      <td>482.0</td>\n      <td>417.888889</td>\n      <td>43</td>\n      <td>1</td>\n      <td>2</td>\n    </tr>\n  </tbody>\n</table>\n</div>"
     },
     "execution_count": 4,
     "metadata": {},
     "output_type": "execute_result"
    }
   ],
   "source": [
    "# Additional category features\n",
    "gender = np.random.choice(a=[0,1], size=df_i_signupmonth.user_id.nunique())\n",
    "age = np.random.choice(a=range(18, 70), size=df_i_signupmonth.user_id.nunique())\n",
    "industry = np.random.choice(a=range(1, 3), size=df_i_signupmonth.user_id.nunique())\n",
    "df_i_signupmonth['age'] = age\n",
    "df_i_signupmonth['is_male'] =  gender\n",
    "df_i_signupmonth['industry'] =  industry\n",
    "df_i_signupmonth['industry'] = df_i_signupmonth['industry'].astype('str')\n",
    "df_i_signupmonth['treat'] = df_i_signupmonth['treat'].astype(int)\n",
    "df_i_signupmonth.head()"
   ]
  },
  {
   "cell_type": "code",
   "execution_count": 5,
   "metadata": {
    "ExecuteTime": {
     "end_time": "2023-11-02T16:22:53.925161Z",
     "start_time": "2023-11-02T16:22:53.852469Z"
    }
   },
   "outputs": [
    {
     "data": {
      "text/plain": "Index(['user_id', 'signup_month', 'treat', 'pre_spends', 'post_spends', 'age',\n       'is_male', 'industry'],\n      dtype='object')"
     },
     "execution_count": 5,
     "metadata": {},
     "output_type": "execute_result"
    }
   ],
   "source": [
    "df_i_signupmonth.columns"
   ]
  },
  {
   "cell_type": "markdown",
   "metadata": {},
   "source": [
    "## 2. Matching  \n",
    "### 2.0 Init params\n",
    "info_col used to define informative attributes that should not be part of matching, such as user_id  \n",
    "But to explicitly store this column in the table, so that you can compare directly after computation"
   ]
  },
  {
   "cell_type": "code",
   "execution_count": 6,
   "metadata": {
    "ExecuteTime": {
     "end_time": "2023-11-02T16:22:53.926634Z",
     "start_time": "2023-11-02T16:22:53.857908Z"
    }
   },
   "outputs": [],
   "source": [
    "info_col = ['user_id', 'signup_month']\n",
    "\n",
    "outcome = 'post_spends'\n",
    "treatment = 'treat'\n",
    "weights = {'pre_spends': 10} # additional weight to feature pre_spends"
   ]
  },
  {
   "cell_type": "markdown",
   "metadata": {},
   "source": [
    "### 2.1 Simple matching\n",
    "This is the easiest way to initialize and calculate metrics on a Matching task  \n",
    "Use it when you are clear about each attribute or if you don't have any additional task conditions (Strict equality for certain features) "
   ]
  },
  {
   "cell_type": "code",
   "execution_count": 7,
   "metadata": {
    "ExecuteTime": {
     "end_time": "2023-11-02T16:22:54.783169Z",
     "start_time": "2023-11-02T16:22:53.863745Z"
    }
   },
   "outputs": [
    {
     "data": {
      "text/plain": "  0%|          | 0/5421 [00:00<?, ?it/s]",
      "application/vnd.jupyter.widget-view+json": {
       "version_major": 2,
       "version_minor": 0,
       "model_id": "f70691596c3c45f887170d848e306cf1"
      }
     },
     "metadata": {},
     "output_type": "display_data"
    }
   ],
   "source": [
    "# Standard model with base parameters\n",
    "model = Matcher(input_data=df_i_signupmonth, outcome=outcome, treatment=treatment, info_col=info_col, weights=weights)\n",
    "results, quality_results, df_matched = model.estimate()"
   ]
  },
  {
   "cell_type": "markdown",
   "metadata": {},
   "source": [
    "### 2.2 Matching with a fixed variable  \n",
    "Used when you have categorical feature(s) that you want to compare by strict equality  \n",
    "group_col is used for strict comparison of categorical features.  \n",
    "In our case there is only one attribute  \n",
    "If there are several such attributes, you should make one of them and use it"
   ]
  },
  {
   "cell_type": "code",
   "execution_count": 8,
   "metadata": {
    "ExecuteTime": {
     "end_time": "2023-11-02T16:24:02.471575Z",
     "start_time": "2023-11-02T16:24:02.469571Z"
    }
   },
   "outputs": [],
   "source": [
    "# group_col is used for strict comparison of categorical features.  \n",
    "# In our case there is only one attribute  \n",
    "# If there are several such attributes, you should make one of them and use it\n",
    "\n",
    "group_col = \"industry\""
   ]
  },
  {
   "cell_type": "code",
   "execution_count": 11,
   "metadata": {
    "ExecuteTime": {
     "end_time": "2023-11-02T16:26:03.327193Z",
     "start_time": "2023-11-02T16:26:03.077664Z"
    }
   },
   "outputs": [
    {
     "data": {
      "text/plain": "  0%|          | 0/4 [00:00<?, ?it/s]",
      "application/vnd.jupyter.widget-view+json": {
       "version_major": 2,
       "version_minor": 0,
       "model_id": "66fa9dab6f464b2eb05e7c1412cd524e"
      }
     },
     "metadata": {},
     "output_type": "display_data"
    }
   ],
   "source": [
    "model = Matcher(input_data=df_i_signupmonth, outcome=outcome, treatment=treatment,\n",
    "                info_col=info_col, group_col=group_col)\n",
    "results, quality_results, df_matched = model.estimate()"
   ]
  },
  {
   "cell_type": "markdown",
   "metadata": {},
   "source": [
    "### 2.3 Matching but you don't know which features are better to use  \n",
    "This is the easiest way to initialize and calculate metrics on a Matching task  \n",
    "Use this method when you want to select the most important features and make matching based on them. "
   ]
  },
  {
   "cell_type": "code",
   "execution_count": 10,
   "metadata": {
    "ExecuteTime": {
     "end_time": "2023-11-02T16:26:00.579411Z",
     "start_time": "2023-11-02T16:26:00.539524Z"
    }
   },
   "outputs": [],
   "source": [
    "model = Matcher(input_data=df_i_signupmonth, outcome=outcome, treatment=treatment,\n",
    "                info_col=info_col, group_col=group_col)"
   ]
  },
  {
   "cell_type": "code",
   "execution_count": 11,
   "metadata": {
    "scrolled": true
   },
   "outputs": [
    {
     "data": {
      "text/html": [
       "<div>\n",
       "<style scoped>\n",
       "    .dataframe tbody tr th:only-of-type {\n",
       "        vertical-align: middle;\n",
       "    }\n",
       "\n",
       "    .dataframe tbody tr th {\n",
       "        vertical-align: top;\n",
       "    }\n",
       "\n",
       "    .dataframe thead th {\n",
       "        text-align: right;\n",
       "    }\n",
       "</style>\n",
       "<table border=\"1\" class=\"dataframe\">\n",
       "  <thead>\n",
       "    <tr style=\"text-align: right;\">\n",
       "      <th></th>\n",
       "      <th>Feature</th>\n",
       "      <th>Importance</th>\n",
       "    </tr>\n",
       "  </thead>\n",
       "  <tbody>\n",
       "    <tr>\n",
       "      <th>0</th>\n",
       "      <td>pre_spends</td>\n",
       "      <td>38600.570068</td>\n",
       "    </tr>\n",
       "    <tr>\n",
       "      <th>3</th>\n",
       "      <td>industry</td>\n",
       "      <td>38600.570068</td>\n",
       "    </tr>\n",
       "    <tr>\n",
       "      <th>1</th>\n",
       "      <td>age</td>\n",
       "      <td>29652.719604</td>\n",
       "    </tr>\n",
       "    <tr>\n",
       "      <th>2</th>\n",
       "      <td>is_male</td>\n",
       "      <td>2970.189941</td>\n",
       "    </tr>\n",
       "  </tbody>\n",
       "</table>\n",
       "</div>"
      ],
      "text/plain": [
       "      Feature    Importance\n",
       "0  pre_spends  38600.570068\n",
       "3    industry  38600.570068\n",
       "1         age  29652.719604\n",
       "2     is_male   2970.189941"
      ]
     },
     "execution_count": 11,
     "metadata": {},
     "output_type": "execute_result"
    }
   ],
   "source": [
    "features_importance = model.lama_feature_select()\n",
    "features_importance"
   ]
  },
  {
   "cell_type": "code",
   "execution_count": 12,
   "metadata": {},
   "outputs": [],
   "source": [
    "features = features_importance['Feature'].to_list()"
   ]
  },
  {
   "cell_type": "code",
   "execution_count": 13,
   "metadata": {},
   "outputs": [
    {
     "data": {
      "application/vnd.jupyter.widget-view+json": {
       "model_id": "a7c9cf58da6f4c9d8ed44879ad142e1f",
       "version_major": 2,
       "version_minor": 0
      },
      "text/plain": [
       "  0%|          | 0/4 [00:00<?, ?it/s]"
      ]
     },
     "metadata": {},
     "output_type": "display_data"
    }
   ],
   "source": [
    "# You can use both variant that you like. So you can just list the features to be matched\n",
    "\n",
    "#results, quality_results = model.estimate(features=features_importance[:3])\n",
    "results, quality_results, df_matched = model.estimate(features=features[:3])"
   ]
  },
  {
   "cell_type": "code",
   "execution_count": 14,
   "metadata": {},
   "outputs": [
    {
     "data": {
      "text/html": [
       "<div>\n",
       "<style scoped>\n",
       "    .dataframe tbody tr th:only-of-type {\n",
       "        vertical-align: middle;\n",
       "    }\n",
       "\n",
       "    .dataframe tbody tr th {\n",
       "        vertical-align: top;\n",
       "    }\n",
       "\n",
       "    .dataframe thead th {\n",
       "        text-align: right;\n",
       "    }\n",
       "</style>\n",
       "<table border=\"1\" class=\"dataframe\">\n",
       "  <thead>\n",
       "    <tr style=\"text-align: right;\">\n",
       "      <th></th>\n",
       "      <th>index</th>\n",
       "      <th>pre_spends</th>\n",
       "      <th>age</th>\n",
       "      <th>is_male</th>\n",
       "      <th>industry</th>\n",
       "      <th>pre_spends_matched</th>\n",
       "      <th>age_matched</th>\n",
       "      <th>is_male_matched</th>\n",
       "      <th>index_matched</th>\n",
       "      <th>industry_matched</th>\n",
       "      <th>post_spends</th>\n",
       "      <th>post_spends_matched</th>\n",
       "      <th>post_spends_matched_bias</th>\n",
       "      <th>treat</th>\n",
       "      <th>treat_matched</th>\n",
       "    </tr>\n",
       "  </thead>\n",
       "  <tbody>\n",
       "    <tr>\n",
       "      <th>0</th>\n",
       "      <td>4985</td>\n",
       "      <td>472.0</td>\n",
       "      <td>48</td>\n",
       "      <td>0</td>\n",
       "      <td>1</td>\n",
       "      <td>471.5</td>\n",
       "      <td>48.0</td>\n",
       "      <td>0.0</td>\n",
       "      <td>[1864]</td>\n",
       "      <td>1</td>\n",
       "      <td>522.444444</td>\n",
       "      <td>421.888889</td>\n",
       "      <td>100.549753</td>\n",
       "      <td>1</td>\n",
       "      <td>0</td>\n",
       "    </tr>\n",
       "    <tr>\n",
       "      <th>1</th>\n",
       "      <td>4986</td>\n",
       "      <td>494.0</td>\n",
       "      <td>38</td>\n",
       "      <td>0</td>\n",
       "      <td>1</td>\n",
       "      <td>493.5</td>\n",
       "      <td>38.0</td>\n",
       "      <td>0.0</td>\n",
       "      <td>[1784]</td>\n",
       "      <td>1</td>\n",
       "      <td>515.444444</td>\n",
       "      <td>423.222222</td>\n",
       "      <td>92.216419</td>\n",
       "      <td>1</td>\n",
       "      <td>0</td>\n",
       "    </tr>\n",
       "    <tr>\n",
       "      <th>2</th>\n",
       "      <td>4987</td>\n",
       "      <td>492.5</td>\n",
       "      <td>41</td>\n",
       "      <td>0</td>\n",
       "      <td>1</td>\n",
       "      <td>493.0</td>\n",
       "      <td>41.0</td>\n",
       "      <td>0.0</td>\n",
       "      <td>[927]</td>\n",
       "      <td>1</td>\n",
       "      <td>529.666667</td>\n",
       "      <td>424.111111</td>\n",
       "      <td>105.561359</td>\n",
       "      <td>1</td>\n",
       "      <td>0</td>\n",
       "    </tr>\n",
       "    <tr>\n",
       "      <th>3</th>\n",
       "      <td>4988</td>\n",
       "      <td>479.0</td>\n",
       "      <td>59</td>\n",
       "      <td>1</td>\n",
       "      <td>1</td>\n",
       "      <td>478.0</td>\n",
       "      <td>59.0</td>\n",
       "      <td>0.0</td>\n",
       "      <td>[1128]</td>\n",
       "      <td>1</td>\n",
       "      <td>513.333333</td>\n",
       "      <td>417.777778</td>\n",
       "      <td>95.543950</td>\n",
       "      <td>1</td>\n",
       "      <td>0</td>\n",
       "    </tr>\n",
       "    <tr>\n",
       "      <th>4</th>\n",
       "      <td>4989</td>\n",
       "      <td>490.5</td>\n",
       "      <td>52</td>\n",
       "      <td>0</td>\n",
       "      <td>1</td>\n",
       "      <td>490.0</td>\n",
       "      <td>52.0</td>\n",
       "      <td>0.0</td>\n",
       "      <td>[2196]</td>\n",
       "      <td>1</td>\n",
       "      <td>515.555556</td>\n",
       "      <td>413.333333</td>\n",
       "      <td>102.216419</td>\n",
       "      <td>1</td>\n",
       "      <td>0</td>\n",
       "    </tr>\n",
       "    <tr>\n",
       "      <th>...</th>\n",
       "      <td>...</td>\n",
       "      <td>...</td>\n",
       "      <td>...</td>\n",
       "      <td>...</td>\n",
       "      <td>...</td>\n",
       "      <td>...</td>\n",
       "      <td>...</td>\n",
       "      <td>...</td>\n",
       "      <td>...</td>\n",
       "      <td>...</td>\n",
       "      <td>...</td>\n",
       "      <td>...</td>\n",
       "      <td>...</td>\n",
       "      <td>...</td>\n",
       "      <td>...</td>\n",
       "    </tr>\n",
       "    <tr>\n",
       "      <th>4980</th>\n",
       "      <td>4980</td>\n",
       "      <td>502.5</td>\n",
       "      <td>45</td>\n",
       "      <td>0</td>\n",
       "      <td>2</td>\n",
       "      <td>501.5</td>\n",
       "      <td>42.0</td>\n",
       "      <td>1.0</td>\n",
       "      <td>[310]</td>\n",
       "      <td>2</td>\n",
       "      <td>420.333333</td>\n",
       "      <td>523.666667</td>\n",
       "      <td>103.206430</td>\n",
       "      <td>0</td>\n",
       "      <td>1</td>\n",
       "    </tr>\n",
       "    <tr>\n",
       "      <th>4981</th>\n",
       "      <td>4981</td>\n",
       "      <td>477.5</td>\n",
       "      <td>49</td>\n",
       "      <td>1</td>\n",
       "      <td>2</td>\n",
       "      <td>478.0</td>\n",
       "      <td>48.0</td>\n",
       "      <td>1.0</td>\n",
       "      <td>[244]</td>\n",
       "      <td>2</td>\n",
       "      <td>421.555556</td>\n",
       "      <td>521.222222</td>\n",
       "      <td>99.642777</td>\n",
       "      <td>0</td>\n",
       "      <td>1</td>\n",
       "    </tr>\n",
       "    <tr>\n",
       "      <th>4982</th>\n",
       "      <td>4982</td>\n",
       "      <td>488.0</td>\n",
       "      <td>69</td>\n",
       "      <td>1</td>\n",
       "      <td>2</td>\n",
       "      <td>488.5</td>\n",
       "      <td>69.0</td>\n",
       "      <td>0.0</td>\n",
       "      <td>[233]</td>\n",
       "      <td>2</td>\n",
       "      <td>403.222222</td>\n",
       "      <td>519.555556</td>\n",
       "      <td>116.344380</td>\n",
       "      <td>0</td>\n",
       "      <td>1</td>\n",
       "    </tr>\n",
       "    <tr>\n",
       "      <th>4983</th>\n",
       "      <td>4983</td>\n",
       "      <td>505.5</td>\n",
       "      <td>40</td>\n",
       "      <td>1</td>\n",
       "      <td>2</td>\n",
       "      <td>503.0</td>\n",
       "      <td>39.0</td>\n",
       "      <td>1.0</td>\n",
       "      <td>[376]</td>\n",
       "      <td>2</td>\n",
       "      <td>424.000000</td>\n",
       "      <td>533.222222</td>\n",
       "      <td>109.132051</td>\n",
       "      <td>0</td>\n",
       "      <td>1</td>\n",
       "    </tr>\n",
       "    <tr>\n",
       "      <th>4984</th>\n",
       "      <td>4984</td>\n",
       "      <td>504.5</td>\n",
       "      <td>26</td>\n",
       "      <td>1</td>\n",
       "      <td>2</td>\n",
       "      <td>504.5</td>\n",
       "      <td>28.0</td>\n",
       "      <td>0.0</td>\n",
       "      <td>[347]</td>\n",
       "      <td>2</td>\n",
       "      <td>402.777778</td>\n",
       "      <td>504.444444</td>\n",
       "      <td>101.736540</td>\n",
       "      <td>0</td>\n",
       "      <td>1</td>\n",
       "    </tr>\n",
       "  </tbody>\n",
       "</table>\n",
       "<p>5414 rows × 15 columns</p>\n",
       "</div>"
      ],
      "text/plain": [
       "      index  pre_spends  age  is_male industry  pre_spends_matched  \\\n",
       "0      4985       472.0   48        0        1               471.5   \n",
       "1      4986       494.0   38        0        1               493.5   \n",
       "2      4987       492.5   41        0        1               493.0   \n",
       "3      4988       479.0   59        1        1               478.0   \n",
       "4      4989       490.5   52        0        1               490.0   \n",
       "...     ...         ...  ...      ...      ...                 ...   \n",
       "4980   4980       502.5   45        0        2               501.5   \n",
       "4981   4981       477.5   49        1        2               478.0   \n",
       "4982   4982       488.0   69        1        2               488.5   \n",
       "4983   4983       505.5   40        1        2               503.0   \n",
       "4984   4984       504.5   26        1        2               504.5   \n",
       "\n",
       "      age_matched  is_male_matched index_matched industry_matched  \\\n",
       "0            48.0              0.0        [1864]                1   \n",
       "1            38.0              0.0        [1784]                1   \n",
       "2            41.0              0.0         [927]                1   \n",
       "3            59.0              0.0        [1128]                1   \n",
       "4            52.0              0.0        [2196]                1   \n",
       "...           ...              ...           ...              ...   \n",
       "4980         42.0              1.0         [310]                2   \n",
       "4981         48.0              1.0         [244]                2   \n",
       "4982         69.0              0.0         [233]                2   \n",
       "4983         39.0              1.0         [376]                2   \n",
       "4984         28.0              0.0         [347]                2   \n",
       "\n",
       "      post_spends  post_spends_matched  post_spends_matched_bias  treat  \\\n",
       "0      522.444444           421.888889                100.549753      1   \n",
       "1      515.444444           423.222222                 92.216419      1   \n",
       "2      529.666667           424.111111                105.561359      1   \n",
       "3      513.333333           417.777778                 95.543950      1   \n",
       "4      515.555556           413.333333                102.216419      1   \n",
       "...           ...                  ...                       ...    ...   \n",
       "4980   420.333333           523.666667                103.206430      0   \n",
       "4981   421.555556           521.222222                 99.642777      0   \n",
       "4982   403.222222           519.555556                116.344380      0   \n",
       "4983   424.000000           533.222222                109.132051      0   \n",
       "4984   402.777778           504.444444                101.736540      0   \n",
       "\n",
       "      treat_matched  \n",
       "0                 0  \n",
       "1                 0  \n",
       "2                 0  \n",
       "3                 0  \n",
       "4                 0  \n",
       "...             ...  \n",
       "4980              1  \n",
       "4981              1  \n",
       "4982              1  \n",
       "4983              1  \n",
       "4984              1  \n",
       "\n",
       "[5414 rows x 15 columns]"
      ]
     },
     "execution_count": 14,
     "metadata": {},
     "output_type": "execute_result"
    }
   ],
   "source": [
    "df_matched"
   ]
  },
  {
   "cell_type": "markdown",
   "metadata": {},
   "source": [
    "## 3. Results  \n",
    "### 3.1 ATE, ATT, ATC"
   ]
  },
  {
   "cell_type": "code",
   "execution_count": 15,
   "metadata": {},
   "outputs": [
    {
     "data": {
      "text/html": [
       "<div>\n",
       "<style scoped>\n",
       "    .dataframe tbody tr th:only-of-type {\n",
       "        vertical-align: middle;\n",
       "    }\n",
       "\n",
       "    .dataframe tbody tr th {\n",
       "        vertical-align: top;\n",
       "    }\n",
       "\n",
       "    .dataframe thead th {\n",
       "        text-align: right;\n",
       "    }\n",
       "</style>\n",
       "<table border=\"1\" class=\"dataframe\">\n",
       "  <thead>\n",
       "    <tr style=\"text-align: right;\">\n",
       "      <th></th>\n",
       "      <th>effect_size</th>\n",
       "      <th>std_err</th>\n",
       "      <th>p-val</th>\n",
       "      <th>ci_lower</th>\n",
       "      <th>ci_upper</th>\n",
       "    </tr>\n",
       "  </thead>\n",
       "  <tbody>\n",
       "    <tr>\n",
       "      <th>ATE</th>\n",
       "      <td>100.972968</td>\n",
       "      <td>0.580032</td>\n",
       "      <td>0.0</td>\n",
       "      <td>99.836106</td>\n",
       "      <td>102.109830</td>\n",
       "    </tr>\n",
       "    <tr>\n",
       "      <th>ATC</th>\n",
       "      <td>100.963662</td>\n",
       "      <td>0.589903</td>\n",
       "      <td>0.0</td>\n",
       "      <td>99.807452</td>\n",
       "      <td>102.119872</td>\n",
       "    </tr>\n",
       "    <tr>\n",
       "      <th>ATT</th>\n",
       "      <td>101.081102</td>\n",
       "      <td>0.693178</td>\n",
       "      <td>0.0</td>\n",
       "      <td>99.722472</td>\n",
       "      <td>102.439732</td>\n",
       "    </tr>\n",
       "  </tbody>\n",
       "</table>\n",
       "</div>"
      ],
      "text/plain": [
       "     effect_size   std_err  p-val   ci_lower    ci_upper\n",
       "ATE   100.972968  0.580032    0.0  99.836106  102.109830\n",
       "ATC   100.963662  0.589903    0.0  99.807452  102.119872\n",
       "ATT   101.081102  0.693178    0.0  99.722472  102.439732"
      ]
     },
     "execution_count": 15,
     "metadata": {},
     "output_type": "execute_result"
    }
   ],
   "source": [
    "# model.matcher.results\n",
    "results"
   ]
  },
  {
   "cell_type": "markdown",
   "metadata": {},
   "source": [
    "### 3.2 SMD, PSI, KS-test, repeats"
   ]
  },
  {
   "cell_type": "code",
   "execution_count": 9,
   "metadata": {},
   "outputs": [
    {
     "data": {
      "text/plain": [
       "{'psi':        column_treated  anomaly_score_treated check_result_treated  \\\n",
       " 0         age_treated                   0.01                   OK   \n",
       " 1    industry_treated                   0.00                   OK   \n",
       " 2     is_male_treated                   0.00                   OK   \n",
       " 3  pre_spends_treated                   0.01                   OK   \n",
       " \n",
       "        column_untreated  anomaly_score_untreated check_result_untreated  \n",
       " 0         age_untreated                     0.01                     OK  \n",
       " 1    industry_untreated                     0.00                     OK  \n",
       " 2     is_male_untreated                     0.00                     OK  \n",
       " 3  pre_spends_untreated                     0.01                     OK  ,\n",
       " 'ks_test':             match_control_to_treat  match_treat_to_control\n",
       " age                            1.0                0.440581\n",
       " is_male                        1.0                1.000000\n",
       " pre_spends                     1.0                0.308095,\n",
       " 'smd':             match_control_to_treat  match_treat_to_control\n",
       " age                       0.000203                0.001464\n",
       " is_male                   0.000000                0.000000\n",
       " pre_spends                0.002945                0.000311,\n",
       " 'repeats': {'match_control_to_treat': 0.94, 'match_treat_to_control': 0.08}}"
      ]
     },
     "execution_count": 9,
     "metadata": {},
     "output_type": "execute_result"
    }
   ],
   "source": [
    "# matching quality result - SMD\n",
    "model.quality_result"
   ]
  },
  {
   "cell_type": "code",
   "execution_count": 10,
   "metadata": {},
   "outputs": [
    {
     "data": {
      "text/html": [
       "<div>\n",
       "<style scoped>\n",
       "    .dataframe tbody tr th:only-of-type {\n",
       "        vertical-align: middle;\n",
       "    }\n",
       "\n",
       "    .dataframe tbody tr th {\n",
       "        vertical-align: top;\n",
       "    }\n",
       "\n",
       "    .dataframe thead th {\n",
       "        text-align: right;\n",
       "    }\n",
       "</style>\n",
       "<table border=\"1\" class=\"dataframe\">\n",
       "  <thead>\n",
       "    <tr style=\"text-align: right;\">\n",
       "      <th></th>\n",
       "      <th>column_treated</th>\n",
       "      <th>anomaly_score_treated</th>\n",
       "      <th>check_result_treated</th>\n",
       "      <th>column_untreated</th>\n",
       "      <th>anomaly_score_untreated</th>\n",
       "      <th>check_result_untreated</th>\n",
       "    </tr>\n",
       "  </thead>\n",
       "  <tbody>\n",
       "    <tr>\n",
       "      <th>0</th>\n",
       "      <td>age_treated</td>\n",
       "      <td>0.01</td>\n",
       "      <td>OK</td>\n",
       "      <td>age_untreated</td>\n",
       "      <td>0.01</td>\n",
       "      <td>OK</td>\n",
       "    </tr>\n",
       "    <tr>\n",
       "      <th>1</th>\n",
       "      <td>industry_treated</td>\n",
       "      <td>0.00</td>\n",
       "      <td>OK</td>\n",
       "      <td>industry_untreated</td>\n",
       "      <td>0.00</td>\n",
       "      <td>OK</td>\n",
       "    </tr>\n",
       "    <tr>\n",
       "      <th>2</th>\n",
       "      <td>is_male_treated</td>\n",
       "      <td>0.00</td>\n",
       "      <td>OK</td>\n",
       "      <td>is_male_untreated</td>\n",
       "      <td>0.00</td>\n",
       "      <td>OK</td>\n",
       "    </tr>\n",
       "    <tr>\n",
       "      <th>3</th>\n",
       "      <td>pre_spends_treated</td>\n",
       "      <td>0.01</td>\n",
       "      <td>OK</td>\n",
       "      <td>pre_spends_untreated</td>\n",
       "      <td>0.01</td>\n",
       "      <td>OK</td>\n",
       "    </tr>\n",
       "  </tbody>\n",
       "</table>\n",
       "</div>"
      ],
      "text/plain": [
       "       column_treated  anomaly_score_treated check_result_treated  \\\n",
       "0         age_treated                   0.01                   OK   \n",
       "1    industry_treated                   0.00                   OK   \n",
       "2     is_male_treated                   0.00                   OK   \n",
       "3  pre_spends_treated                   0.01                   OK   \n",
       "\n",
       "       column_untreated  anomaly_score_untreated check_result_untreated  \n",
       "0         age_untreated                     0.01                     OK  \n",
       "1    industry_untreated                     0.00                     OK  \n",
       "2     is_male_untreated                     0.00                     OK  \n",
       "3  pre_spends_untreated                     0.01                     OK  "
      ]
     },
     "execution_count": 10,
     "metadata": {},
     "output_type": "execute_result"
    }
   ],
   "source": [
    "# matching quality result - PSI\n",
    "model.quality_result['psi']"
   ]
  },
  {
   "cell_type": "code",
   "execution_count": 18,
   "metadata": {},
   "outputs": [
    {
     "data": {
      "text/html": [
       "<div>\n",
       "<style scoped>\n",
       "    .dataframe tbody tr th:only-of-type {\n",
       "        vertical-align: middle;\n",
       "    }\n",
       "\n",
       "    .dataframe tbody tr th {\n",
       "        vertical-align: top;\n",
       "    }\n",
       "\n",
       "    .dataframe thead th {\n",
       "        text-align: right;\n",
       "    }\n",
       "</style>\n",
       "<table border=\"1\" class=\"dataframe\">\n",
       "  <thead>\n",
       "    <tr style=\"text-align: right;\">\n",
       "      <th></th>\n",
       "      <th>match_control_to_treat</th>\n",
       "      <th>match_treat_to_control</th>\n",
       "    </tr>\n",
       "  </thead>\n",
       "  <tbody>\n",
       "    <tr>\n",
       "      <th>age</th>\n",
       "      <td>1.000000</td>\n",
       "      <td>0.419063</td>\n",
       "    </tr>\n",
       "    <tr>\n",
       "      <th>is_male</th>\n",
       "      <td>0.320575</td>\n",
       "      <td>0.070995</td>\n",
       "    </tr>\n",
       "    <tr>\n",
       "      <th>pre_spends</th>\n",
       "      <td>1.000000</td>\n",
       "      <td>0.510057</td>\n",
       "    </tr>\n",
       "  </tbody>\n",
       "</table>\n",
       "</div>"
      ],
      "text/plain": [
       "            match_control_to_treat  match_treat_to_control\n",
       "age                       1.000000                0.419063\n",
       "is_male                   0.320575                0.070995\n",
       "pre_spends                1.000000                0.510057"
      ]
     },
     "execution_count": 18,
     "metadata": {},
     "output_type": "execute_result"
    }
   ],
   "source": [
    "# matching quality result - KS-test\n",
    "\n",
    "model.quality_result['ks_test']"
   ]
  },
  {
   "cell_type": "code",
   "execution_count": 11,
   "metadata": {},
   "outputs": [
    {
     "data": {
      "text/plain": [
       "{'match_control_to_treat': 0.94, 'match_treat_to_control': 0.08}"
      ]
     },
     "execution_count": 11,
     "metadata": {},
     "output_type": "execute_result"
    }
   ],
   "source": [
    "# matching quality result - repeats\n",
    "model.quality_result['repeats']"
   ]
  },
  {
   "cell_type": "markdown",
   "metadata": {},
   "source": [
    "### 3.3 Validation\n",
    "validate result with placebo treatment or random feature or random subset\n",
    "our new effect size is close to zero (it should be)"
   ]
  },
  {
   "cell_type": "code",
   "execution_count": 17,
   "metadata": {
    "ExecuteTime": {
     "end_time": "2023-11-02T16:26:41.862026Z",
     "start_time": "2023-11-02T16:26:40.281981Z"
    }
   },
   "outputs": [
    {
     "data": {
      "text/plain": "  0%|          | 0/10 [00:00<?, ?it/s]",
      "application/vnd.jupyter.widget-view+json": {
       "version_major": 2,
       "version_minor": 0,
       "model_id": "2a727c6008504ebf9733087e6700c1b6"
      }
     },
     "metadata": {},
     "output_type": "display_data"
    },
    {
     "data": {
      "text/plain": "{'post_spends': [0.861394669561712, 0.0]}"
     },
     "execution_count": 17,
     "metadata": {},
     "output_type": "execute_result"
    }
   ],
   "source": [
    "model.validate_result(\"random_feature\", \"att\")"
   ]
  },
  {
   "cell_type": "markdown",
   "metadata": {},
   "source": [
    "## 4. No replacemet matching:\n",
    "\n",
    "    In order you need to just match groups with no replacement you may use additional method match_no_rep()."
   ]
  },
  {
   "cell_type": "code",
   "execution_count": 18,
   "metadata": {
    "ExecuteTime": {
     "end_time": "2023-11-02T16:26:44.377258Z",
     "start_time": "2023-11-02T16:26:44.369864Z"
    }
   },
   "outputs": [],
   "source": [
    "info_col = ['user_id', 'signup_month']\n",
    "\n",
    "treatment = 'treat'\n",
    "weights = {'pre_spends': 10} # additional weight to feature pre_spends"
   ]
  },
  {
   "cell_type": "code",
   "execution_count": 19,
   "metadata": {
    "ExecuteTime": {
     "end_time": "2023-11-02T16:26:45.484017Z",
     "start_time": "2023-11-02T16:26:45.476636Z"
    }
   },
   "outputs": [],
   "source": [
    "model = Matcher(input_data=df_i_signupmonth, outcome=outcome, treatment=treatment, info_col=info_col, weights=weights)"
   ]
  },
  {
   "cell_type": "code",
   "execution_count": 20,
   "metadata": {
    "ExecuteTime": {
     "end_time": "2023-11-02T16:26:47.439142Z",
     "start_time": "2023-11-02T16:26:46.440669Z"
    }
   },
   "outputs": [],
   "source": [
    "# you may specify threshold in order to receive only pair with 5% difference in post_spends\n",
    "no_replacemet_df = model.match_no_rep(threshold=0.05) "
   ]
  },
  {
   "cell_type": "code",
   "execution_count": 21,
   "metadata": {
    "ExecuteTime": {
     "end_time": "2023-11-02T16:26:48.225561Z",
     "start_time": "2023-11-02T16:26:48.203710Z"
    }
   },
   "outputs": [
    {
     "data": {
      "text/plain": "    treat  pre_spends  post_spends  age  is_male  industry_2  user_id  \\\n24      1       494.5   512.444444   47        1           1       46   \n28      1       466.0   513.333333   60        0           0       50   \n31      1       487.5   528.000000   34        0           0       53   \n37      1       468.0   513.444444   43        0           0       64   \n65      1       511.5   529.111111   68        1           1      114   \n\n    signup_month  \n24             3  \n28             3  \n31             3  \n37             3  \n65             3  ",
      "text/html": "<div>\n<style scoped>\n    .dataframe tbody tr th:only-of-type {\n        vertical-align: middle;\n    }\n\n    .dataframe tbody tr th {\n        vertical-align: top;\n    }\n\n    .dataframe thead th {\n        text-align: right;\n    }\n</style>\n<table border=\"1\" class=\"dataframe\">\n  <thead>\n    <tr style=\"text-align: right;\">\n      <th></th>\n      <th>treat</th>\n      <th>pre_spends</th>\n      <th>post_spends</th>\n      <th>age</th>\n      <th>is_male</th>\n      <th>industry_2</th>\n      <th>user_id</th>\n      <th>signup_month</th>\n    </tr>\n  </thead>\n  <tbody>\n    <tr>\n      <th>24</th>\n      <td>1</td>\n      <td>494.5</td>\n      <td>512.444444</td>\n      <td>47</td>\n      <td>1</td>\n      <td>1</td>\n      <td>46</td>\n      <td>3</td>\n    </tr>\n    <tr>\n      <th>28</th>\n      <td>1</td>\n      <td>466.0</td>\n      <td>513.333333</td>\n      <td>60</td>\n      <td>0</td>\n      <td>0</td>\n      <td>50</td>\n      <td>3</td>\n    </tr>\n    <tr>\n      <th>31</th>\n      <td>1</td>\n      <td>487.5</td>\n      <td>528.000000</td>\n      <td>34</td>\n      <td>0</td>\n      <td>0</td>\n      <td>53</td>\n      <td>3</td>\n    </tr>\n    <tr>\n      <th>37</th>\n      <td>1</td>\n      <td>468.0</td>\n      <td>513.444444</td>\n      <td>43</td>\n      <td>0</td>\n      <td>0</td>\n      <td>64</td>\n      <td>3</td>\n    </tr>\n    <tr>\n      <th>65</th>\n      <td>1</td>\n      <td>511.5</td>\n      <td>529.111111</td>\n      <td>68</td>\n      <td>1</td>\n      <td>1</td>\n      <td>114</td>\n      <td>3</td>\n    </tr>\n  </tbody>\n</table>\n</div>"
     },
     "execution_count": 21,
     "metadata": {},
     "output_type": "execute_result"
    }
   ],
   "source": [
    "no_replacemet_df.head()"
   ]
  },
  {
   "cell_type": "code",
   "execution_count": 22,
   "metadata": {
    "ExecuteTime": {
     "end_time": "2023-11-02T16:26:49.762350Z",
     "start_time": "2023-11-02T16:26:49.748369Z"
    }
   },
   "outputs": [
    {
     "data": {
      "text/plain": "(822, 8)"
     },
     "execution_count": 22,
     "metadata": {},
     "output_type": "execute_result"
    }
   ],
   "source": [
    "no_replacemet_df.shape"
   ]
  },
  {
   "cell_type": "markdown",
   "metadata": {},
   "source": [
    "## 5. Save model"
   ]
  },
  {
   "cell_type": "code",
   "execution_count": 23,
   "metadata": {
    "ExecuteTime": {
     "end_time": "2023-11-02T16:26:53.011066Z",
     "start_time": "2023-11-02T16:26:53.004794Z"
    }
   },
   "outputs": [],
   "source": [
    "model.save(\"test_model.pickle\")"
   ]
  },
  {
   "cell_type": "code",
   "execution_count": 26,
   "metadata": {
    "ExecuteTime": {
     "end_time": "2023-11-02T16:27:37.915684Z",
     "start_time": "2023-11-02T16:27:37.907836Z"
    }
   },
   "outputs": [],
   "source": [
    "model2 = Matcher.load(\"test_model.pickle\")"
   ]
  },
  {
   "cell_type": "code",
   "execution_count": 27,
   "metadata": {
    "ExecuteTime": {
     "end_time": "2023-11-02T16:27:39.998198Z",
     "start_time": "2023-11-02T16:27:38.478603Z"
    }
   },
   "outputs": [
    {
     "data": {
      "text/plain": "  0%|          | 0/10 [00:00<?, ?it/s]",
      "application/vnd.jupyter.widget-view+json": {
       "version_major": 2,
       "version_minor": 0,
       "model_id": "dec2288f8c5346269173cc3a41b1f092"
      }
     },
     "metadata": {},
     "output_type": "display_data"
    },
    {
     "ename": "AttributeError",
     "evalue": "'Matcher' object has no attribute 'results'",
     "output_type": "error",
     "traceback": [
      "\u001B[0;31m---------------------------------------------------------------------------\u001B[0m",
      "\u001B[0;31mAttributeError\u001B[0m                            Traceback (most recent call last)",
      "Cell \u001B[0;32mIn[27], line 1\u001B[0m\n\u001B[0;32m----> 1\u001B[0m \u001B[43mmodel2\u001B[49m\u001B[38;5;241;43m.\u001B[39;49m\u001B[43mvalidate_result\u001B[49m\u001B[43m(\u001B[49m\u001B[43m)\u001B[49m\n",
      "File \u001B[0;32m~/PycharmProjects/Sber/HypEx/hypex/matcher.py:527\u001B[0m, in \u001B[0;36mMatcher.validate_result\u001B[0;34m(self, refuter, effect_type, n_sim, fraction)\u001B[0m\n\u001B[1;32m    523\u001B[0m \u001B[38;5;28;01mfor\u001B[39;00m outcome \u001B[38;5;129;01min\u001B[39;00m \u001B[38;5;28mself\u001B[39m\u001B[38;5;241m.\u001B[39moutcomes:\n\u001B[1;32m    524\u001B[0m     \u001B[38;5;28mself\u001B[39m\u001B[38;5;241m.\u001B[39mpval_dict\u001B[38;5;241m.\u001B[39mupdate({outcome: [np\u001B[38;5;241m.\u001B[39mmean(\u001B[38;5;28mself\u001B[39m\u001B[38;5;241m.\u001B[39mval_dict[outcome])]})\n\u001B[1;32m    525\u001B[0m     \u001B[38;5;28mself\u001B[39m\u001B[38;5;241m.\u001B[39mpval_dict[outcome]\u001B[38;5;241m.\u001B[39mappend(\n\u001B[1;32m    526\u001B[0m         test_significance(\n\u001B[0;32m--> 527\u001B[0m             \u001B[38;5;28;43mself\u001B[39;49m\u001B[38;5;241;43m.\u001B[39;49m\u001B[43mresults\u001B[49m\u001B[38;5;241m.\u001B[39mquery(\u001B[38;5;124m\"\u001B[39m\u001B[38;5;124moutcome==@outcome\u001B[39m\u001B[38;5;124m\"\u001B[39m)\u001B[38;5;241m.\u001B[39mloc[effect_type\u001B[38;5;241m.\u001B[39mupper()][\u001B[38;5;124m\"\u001B[39m\u001B[38;5;124meffect_size\u001B[39m\u001B[38;5;124m\"\u001B[39m],\n\u001B[1;32m    528\u001B[0m             \u001B[38;5;28mself\u001B[39m\u001B[38;5;241m.\u001B[39mval_dict[outcome],\n\u001B[1;32m    529\u001B[0m         )\n\u001B[1;32m    530\u001B[0m     )\n\u001B[1;32m    531\u001B[0m \u001B[38;5;28;01mif\u001B[39;00m refuter \u001B[38;5;241m==\u001B[39m \u001B[38;5;124m\"\u001B[39m\u001B[38;5;124mrandom_treatment\u001B[39m\u001B[38;5;124m\"\u001B[39m:\n\u001B[1;32m    532\u001B[0m     \u001B[38;5;28mself\u001B[39m\u001B[38;5;241m.\u001B[39minput_data[\u001B[38;5;28mself\u001B[39m\u001B[38;5;241m.\u001B[39mtreatment] \u001B[38;5;241m=\u001B[39m orig_treatment\n",
      "\u001B[0;31mAttributeError\u001B[0m: 'Matcher' object has no attribute 'results'"
     ]
    }
   ],
   "source": [
    "model2.validate_result()"
   ]
  },
  {
   "cell_type": "code",
   "execution_count": null,
   "metadata": {},
   "outputs": [],
   "source": []
  },
  {
   "cell_type": "code",
   "execution_count": null,
   "metadata": {},
   "outputs": [],
   "source": []
  },
  {
   "cell_type": "code",
   "execution_count": null,
   "metadata": {},
   "outputs": [],
   "source": []
  }
 ],
 "metadata": {
  "kernelspec": {
   "display_name": "Python 3",
   "language": "python",
   "name": "python3"
  },
  "language_info": {
   "codemirror_mode": {
    "name": "ipython",
    "version": 3
   },
   "file_extension": ".py",
   "mimetype": "text/x-python",
   "name": "python",
   "nbconvert_exporter": "python",
   "pygments_lexer": "ipython3",
   "version": "3.9.7"
  }
 },
 "nbformat": 4,
 "nbformat_minor": 1
}
