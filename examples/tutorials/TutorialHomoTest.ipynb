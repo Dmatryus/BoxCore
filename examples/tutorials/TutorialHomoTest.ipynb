{
 "cells": [
  {
   "cell_type": "code",
   "execution_count": 1,
   "id": "initial_id",
   "metadata": {
    "collapsed": true,
    "ExecuteTime": {
     "end_time": "2024-05-17T08:12:42.559347800Z",
     "start_time": "2024-05-17T08:12:39.985393200Z"
    }
   },
   "outputs": [],
   "source": [
    "from hypex.experiments.homogeneity import HOMOGENEITY_TEST\n",
    "from hypex.dataset import Dataset, ExperimentData, InfoRole, TreatmentRole, TargetRole"
   ]
  },
  {
   "cell_type": "code",
   "outputs": [
    {
     "data": {
      "text/plain": "      user_id  signup_month  treat  pre_spends  post_spends   age gender  \\\n0           0             0      0       488.0   414.444444   NaN      M   \n1           1             8      1       512.5   462.222222  26.0    NaN   \n2           2             7      1       483.0   479.444444  25.0      M   \n3           3             0      0       501.5   424.333333  39.0      M   \n4           4             1      1       543.0   514.555556  18.0      F   \n...       ...           ...    ...         ...          ...   ...    ...   \n9995     9995            10      1       538.5   450.444444  42.0      M   \n9996     9996             0      0       500.5   430.888889  26.0      F   \n9997     9997             3      1       473.0   534.111111  22.0      F   \n9998     9998             2      1       495.0   523.222222  67.0      F   \n9999     9999             7      1       508.0   475.888889  38.0      F   \n\n        industry  \n0     E-commerce  \n1     E-commerce  \n2      Logistics  \n3     E-commerce  \n4     E-commerce  \n...          ...  \n9995   Logistics  \n9996   Logistics  \n9997  E-commerce  \n9998  E-commerce  \n9999  E-commerce  \n\n[10000 rows x 8 columns]"
     },
     "execution_count": 2,
     "metadata": {},
     "output_type": "execute_result"
    }
   ],
   "source": [
    "data = Dataset(\n",
    "    roles={\n",
    "        \"user_id\": InfoRole(int),\n",
    "        \"treat\": TreatmentRole(int),\n",
    "        \"pre_spends\": TargetRole(),\n",
    "        \"post_spends\": TargetRole()\n",
    "    }, data=\"data.csv\",\n",
    ")\n",
    "data"
   ],
   "metadata": {
    "collapsed": false,
    "ExecuteTime": {
     "end_time": "2024-05-17T08:12:42.633663Z",
     "start_time": "2024-05-17T08:12:42.563082900Z"
    }
   },
   "id": "e5ff36358b012e1",
   "execution_count": 2
  },
  {
   "cell_type": "code",
   "outputs": [
    {
     "name": "stderr",
     "output_type": "stream",
     "text": [
      "C:\\Users\\User\\PycharmProjects\\HypEx\\hypex\\dataset\\backends\\pandas_backend.py:189: SettingWithCopyWarning: \n",
      "A value is trying to be set on a copy of a slice from a DataFrame.\n",
      "Try using .loc[row_indexer,col_indexer] = value instead\n",
      "\n",
      "See the caveats in the documentation: https://pandas.pydata.org/pandas-docs/stable/user_guide/indexing.html#returning-a-view-versus-a-copy\n",
      "  self.data[column_name] = self.data[column_name].astype(type_name)\n",
      "C:\\Users\\User\\PycharmProjects\\HypEx\\hypex\\dataset\\backends\\pandas_backend.py:189: SettingWithCopyWarning: \n",
      "A value is trying to be set on a copy of a slice from a DataFrame.\n",
      "Try using .loc[row_indexer,col_indexer] = value instead\n",
      "\n",
      "See the caveats in the documentation: https://pandas.pydata.org/pandas-docs/stable/user_guide/indexing.html#returning-a-view-versus-a-copy\n",
      "  self.data[column_name] = self.data[column_name].astype(type_name)\n",
      "C:\\Users\\User\\PycharmProjects\\HypEx\\hypex\\dataset\\backends\\pandas_backend.py:189: SettingWithCopyWarning: \n",
      "A value is trying to be set on a copy of a slice from a DataFrame.\n",
      "Try using .loc[row_indexer,col_indexer] = value instead\n",
      "\n",
      "See the caveats in the documentation: https://pandas.pydata.org/pandas-docs/stable/user_guide/indexing.html#returning-a-view-versus-a-copy\n",
      "  self.data[column_name] = self.data[column_name].astype(type_name)\n",
      "C:\\Users\\User\\PycharmProjects\\HypEx\\hypex\\dataset\\backends\\pandas_backend.py:189: SettingWithCopyWarning: \n",
      "A value is trying to be set on a copy of a slice from a DataFrame.\n",
      "Try using .loc[row_indexer,col_indexer] = value instead\n",
      "\n",
      "See the caveats in the documentation: https://pandas.pydata.org/pandas-docs/stable/user_guide/indexing.html#returning-a-view-versus-a-copy\n",
      "  self.data[column_name] = self.data[column_name].astype(type_name)\n",
      "C:\\Users\\User\\PycharmProjects\\HypEx\\hypex\\dataset\\backends\\pandas_backend.py:189: SettingWithCopyWarning: \n",
      "A value is trying to be set on a copy of a slice from a DataFrame.\n",
      "Try using .loc[row_indexer,col_indexer] = value instead\n",
      "\n",
      "See the caveats in the documentation: https://pandas.pydata.org/pandas-docs/stable/user_guide/indexing.html#returning-a-view-versus-a-copy\n",
      "  self.data[column_name] = self.data[column_name].astype(type_name)\n",
      "C:\\Users\\User\\PycharmProjects\\HypEx\\hypex\\dataset\\backends\\pandas_backend.py:189: SettingWithCopyWarning: \n",
      "A value is trying to be set on a copy of a slice from a DataFrame.\n",
      "Try using .loc[row_indexer,col_indexer] = value instead\n",
      "\n",
      "See the caveats in the documentation: https://pandas.pydata.org/pandas-docs/stable/user_guide/indexing.html#returning-a-view-versus-a-copy\n",
      "  self.data[column_name] = self.data[column_name].astype(type_name)\n",
      "C:\\Users\\User\\PycharmProjects\\HypEx\\hypex\\dataset\\backends\\pandas_backend.py:189: SettingWithCopyWarning: \n",
      "A value is trying to be set on a copy of a slice from a DataFrame.\n",
      "Try using .loc[row_indexer,col_indexer] = value instead\n",
      "\n",
      "See the caveats in the documentation: https://pandas.pydata.org/pandas-docs/stable/user_guide/indexing.html#returning-a-view-versus-a-copy\n",
      "  self.data[column_name] = self.data[column_name].astype(type_name)\n",
      "C:\\Users\\User\\PycharmProjects\\HypEx\\hypex\\dataset\\backends\\pandas_backend.py:189: SettingWithCopyWarning: \n",
      "A value is trying to be set on a copy of a slice from a DataFrame.\n",
      "Try using .loc[row_indexer,col_indexer] = value instead\n",
      "\n",
      "See the caveats in the documentation: https://pandas.pydata.org/pandas-docs/stable/user_guide/indexing.html#returning-a-view-versus-a-copy\n",
      "  self.data[column_name] = self.data[column_name].astype(type_name)\n",
      "C:\\Users\\User\\PycharmProjects\\HypEx\\hypex\\dataset\\backends\\pandas_backend.py:189: SettingWithCopyWarning: \n",
      "A value is trying to be set on a copy of a slice from a DataFrame.\n",
      "Try using .loc[row_indexer,col_indexer] = value instead\n",
      "\n",
      "See the caveats in the documentation: https://pandas.pydata.org/pandas-docs/stable/user_guide/indexing.html#returning-a-view-versus-a-copy\n",
      "  self.data[column_name] = self.data[column_name].astype(type_name)\n",
      "C:\\Users\\User\\PycharmProjects\\HypEx\\hypex\\dataset\\backends\\pandas_backend.py:189: SettingWithCopyWarning: \n",
      "A value is trying to be set on a copy of a slice from a DataFrame.\n",
      "Try using .loc[row_indexer,col_indexer] = value instead\n",
      "\n",
      "See the caveats in the documentation: https://pandas.pydata.org/pandas-docs/stable/user_guide/indexing.html#returning-a-view-versus-a-copy\n",
      "  self.data[column_name] = self.data[column_name].astype(type_name)\n",
      "C:\\Users\\User\\PycharmProjects\\HypEx\\hypex\\dataset\\backends\\pandas_backend.py:189: SettingWithCopyWarning: \n",
      "A value is trying to be set on a copy of a slice from a DataFrame.\n",
      "Try using .loc[row_indexer,col_indexer] = value instead\n",
      "\n",
      "See the caveats in the documentation: https://pandas.pydata.org/pandas-docs/stable/user_guide/indexing.html#returning-a-view-versus-a-copy\n",
      "  self.data[column_name] = self.data[column_name].astype(type_name)\n",
      "C:\\Users\\User\\PycharmProjects\\HypEx\\hypex\\dataset\\backends\\pandas_backend.py:189: SettingWithCopyWarning: \n",
      "A value is trying to be set on a copy of a slice from a DataFrame.\n",
      "Try using .loc[row_indexer,col_indexer] = value instead\n",
      "\n",
      "See the caveats in the documentation: https://pandas.pydata.org/pandas-docs/stable/user_guide/indexing.html#returning-a-view-versus-a-copy\n",
      "  self.data[column_name] = self.data[column_name].astype(type_name)\n",
      "C:\\Users\\User\\PycharmProjects\\HypEx\\hypex\\dataset\\backends\\pandas_backend.py:189: SettingWithCopyWarning: \n",
      "A value is trying to be set on a copy of a slice from a DataFrame.\n",
      "Try using .loc[row_indexer,col_indexer] = value instead\n",
      "\n",
      "See the caveats in the documentation: https://pandas.pydata.org/pandas-docs/stable/user_guide/indexing.html#returning-a-view-versus-a-copy\n",
      "  self.data[column_name] = self.data[column_name].astype(type_name)\n",
      "C:\\Users\\User\\PycharmProjects\\HypEx\\hypex\\dataset\\backends\\pandas_backend.py:189: SettingWithCopyWarning: \n",
      "A value is trying to be set on a copy of a slice from a DataFrame.\n",
      "Try using .loc[row_indexer,col_indexer] = value instead\n",
      "\n",
      "See the caveats in the documentation: https://pandas.pydata.org/pandas-docs/stable/user_guide/indexing.html#returning-a-view-versus-a-copy\n",
      "  self.data[column_name] = self.data[column_name].astype(type_name)\n",
      "C:\\Users\\User\\PycharmProjects\\HypEx\\hypex\\dataset\\backends\\pandas_backend.py:189: SettingWithCopyWarning: \n",
      "A value is trying to be set on a copy of a slice from a DataFrame.\n",
      "Try using .loc[row_indexer,col_indexer] = value instead\n",
      "\n",
      "See the caveats in the documentation: https://pandas.pydata.org/pandas-docs/stable/user_guide/indexing.html#returning-a-view-versus-a-copy\n",
      "  self.data[column_name] = self.data[column_name].astype(type_name)\n",
      "C:\\Users\\User\\PycharmProjects\\HypEx\\hypex\\dataset\\backends\\pandas_backend.py:189: SettingWithCopyWarning: \n",
      "A value is trying to be set on a copy of a slice from a DataFrame.\n",
      "Try using .loc[row_indexer,col_indexer] = value instead\n",
      "\n",
      "See the caveats in the documentation: https://pandas.pydata.org/pandas-docs/stable/user_guide/indexing.html#returning-a-view-versus-a-copy\n",
      "  self.data[column_name] = self.data[column_name].astype(type_name)\n"
     ]
    }
   ],
   "source": [
    "test = HOMOGENEITY_TEST\n",
    "ed = ExperimentData(data)\n",
    "result = test.execute(ed)"
   ],
   "metadata": {
    "collapsed": false,
    "ExecuteTime": {
     "end_time": "2024-05-17T08:12:42.964821500Z",
     "start_time": "2024-05-17T08:12:42.635183900Z"
    }
   },
   "id": "d189239c9e91906a",
   "execution_count": 3
  },
  {
   "cell_type": "code",
   "outputs": [
    {
     "data": {
      "text/plain": "{'GroupSizes┴┴':                       1\n control size    4936.00\n control size %    49.36\n test size       5064.00\n test size %       50.64,\n 'GroupDifference┴┴':                                    1\n post_spends control mean  420.046619\n post_spends difference     63.424045\n post_spends difference %   15.099287\n post_spends test mean     483.470664,\n 'TTest┴┴':    group   statistic  p-value  pass\n 0      1 -135.560001      0.0  True,\n 'KSTest┴┴':    group  statistic  p-value  pass\n 0      1     0.8959      0.0  True,\n 'OneAAStatAnalyzer┴┴':    TTest p-value  TTest pass  KSTest p-value  KSTest pass  mean test score\n 0            0.0         1.0             0.0          1.0              0.0}"
     },
     "execution_count": 4,
     "metadata": {},
     "output_type": "execute_result"
    }
   ],
   "source": [
    "result.analysis_tables"
   ],
   "metadata": {
    "collapsed": false,
    "ExecuteTime": {
     "end_time": "2024-05-17T08:12:43.023049600Z",
     "start_time": "2024-05-17T08:12:42.964821500Z"
    }
   },
   "id": "7aed86e8d7adc8b7",
   "execution_count": 4
  },
  {
   "cell_type": "code",
   "outputs": [
    {
     "data": {
      "text/plain": "{'1 post_spends control mean': 420.04661894471457,\n '1 post_spends difference': 63.42404544004944,\n '1 post_spends difference %': 15.099287217068902,\n '1 post_spends test mean': 483.470664384764,\n '1 control size': 4936.0,\n '1 control size %': 49.36,\n '1 test size': 5064.0,\n '1 test size %': 50.63999999999999,\n 'TTest p-value': 0.0,\n 'TTest pass': 1.0,\n 'KSTest p-value': 0.0,\n 'KSTest pass': 1.0,\n 'mean test score': 0.0}"
     },
     "execution_count": 5,
     "metadata": {},
     "output_type": "execute_result"
    }
   ],
   "source": [
    "from hypex.reporters.homo import HomoReporter\n",
    "\n",
    "HomoReporter().report(result)"
   ],
   "metadata": {
    "collapsed": false,
    "ExecuteTime": {
     "end_time": "2024-05-17T08:12:43.070024300Z",
     "start_time": "2024-05-17T08:12:43.003483600Z"
    }
   },
   "id": "9eb77e1762ac427",
   "execution_count": 5
  }
 ],
 "metadata": {
  "kernelspec": {
   "display_name": "Python 3",
   "language": "python",
   "name": "python3"
  },
  "language_info": {
   "codemirror_mode": {
    "name": "ipython",
    "version": 2
   },
   "file_extension": ".py",
   "mimetype": "text/x-python",
   "name": "python",
   "nbconvert_exporter": "python",
   "pygments_lexer": "ipython2",
   "version": "2.7.6"
  }
 },
 "nbformat": 4,
 "nbformat_minor": 5
}
