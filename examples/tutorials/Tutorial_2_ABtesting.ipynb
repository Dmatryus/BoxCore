{
 "cells": [
  {
   "cell_type": "markdown",
   "id": "64e2de80",
   "metadata": {},
   "source": [
    "# Tutorial 3: How to perform AB test\n"
   ]
  },
  {
   "cell_type": "markdown",
   "id": "9f52ff79",
   "metadata": {},
   "source": [
    "## 0. Import libraries"
   ]
  },
  {
   "cell_type": "code",
   "execution_count": 9,
   "id": "6c2c62f0",
   "metadata": {
    "ExecuteTime": {
     "end_time": "2023-12-13T11:40:55.761186100Z",
     "start_time": "2023-12-13T11:40:55.723126500Z"
    }
   },
   "outputs": [],
   "source": [
    "import pandas as pd\n",
    "import numpy as np\n",
    "from hypex.ab_test import ABTest\n",
    "from hypex.utils.tutorial_data_creation import create_test_data\n",
    "\n",
    "pd.options.display.float_format = '{:,.2f}'.format\n",
    "\n",
    "np.random.seed(52) # needed to create example data"
   ]
  },
  {
   "cell_type": "markdown",
   "id": "2dca3eaa",
   "metadata": {},
   "source": [
    "## 1. Create or upload your dataset\n",
    "In this case we will create random dataset with known effect size  \n",
    "If you have your own dataset, go to the part 2 "
   ]
  },
  {
   "cell_type": "code",
   "execution_count": 3,
   "id": "7b655d2d",
   "metadata": {
    "ExecuteTime": {
     "end_time": "2023-12-13T11:35:09.212190200Z",
     "start_time": "2023-12-13T11:35:00.289613700Z"
    }
   },
   "outputs": [
    {
     "data": {
      "text/plain": "      user_id  signup_month  treat  pre_spends  post_spends   age gender  \\\n0           0             0      0      488.00       414.44   NaN      M   \n1           3             0      0      501.50       424.33 31.00    NaN   \n2          10             0      0      522.50       416.22 64.00      M   \n3          12             0      0      472.00       423.78 43.00      M   \n4          13             0      0      508.50       424.22 36.00      F   \n...       ...           ...    ...         ...          ...   ...    ...   \n5365     9991             0      0      482.50       421.89 23.00      F   \n5366     9992             0      0      491.50       424.00 44.00      M   \n5367     9994             0      0      486.00       423.78 27.00      F   \n5368     9996             0      0      500.50       430.89 56.00      F   \n5369     9997             3      1      473.00       534.11 56.00      M   \n\n        industry  \n0     E-commerce  \n1      Logistics  \n2     E-commerce  \n3     E-commerce  \n4     E-commerce  \n...          ...  \n5365  E-commerce  \n5366  E-commerce  \n5367   Logistics  \n5368  E-commerce  \n5369   Logistics  \n\n[5370 rows x 8 columns]",
      "text/html": "<div>\n<style scoped>\n    .dataframe tbody tr th:only-of-type {\n        vertical-align: middle;\n    }\n\n    .dataframe tbody tr th {\n        vertical-align: top;\n    }\n\n    .dataframe thead th {\n        text-align: right;\n    }\n</style>\n<table border=\"1\" class=\"dataframe\">\n  <thead>\n    <tr style=\"text-align: right;\">\n      <th></th>\n      <th>user_id</th>\n      <th>signup_month</th>\n      <th>treat</th>\n      <th>pre_spends</th>\n      <th>post_spends</th>\n      <th>age</th>\n      <th>gender</th>\n      <th>industry</th>\n    </tr>\n  </thead>\n  <tbody>\n    <tr>\n      <th>0</th>\n      <td>0</td>\n      <td>0</td>\n      <td>0</td>\n      <td>488.00</td>\n      <td>414.44</td>\n      <td>NaN</td>\n      <td>M</td>\n      <td>E-commerce</td>\n    </tr>\n    <tr>\n      <th>1</th>\n      <td>3</td>\n      <td>0</td>\n      <td>0</td>\n      <td>501.50</td>\n      <td>424.33</td>\n      <td>31.00</td>\n      <td>NaN</td>\n      <td>Logistics</td>\n    </tr>\n    <tr>\n      <th>2</th>\n      <td>10</td>\n      <td>0</td>\n      <td>0</td>\n      <td>522.50</td>\n      <td>416.22</td>\n      <td>64.00</td>\n      <td>M</td>\n      <td>E-commerce</td>\n    </tr>\n    <tr>\n      <th>3</th>\n      <td>12</td>\n      <td>0</td>\n      <td>0</td>\n      <td>472.00</td>\n      <td>423.78</td>\n      <td>43.00</td>\n      <td>M</td>\n      <td>E-commerce</td>\n    </tr>\n    <tr>\n      <th>4</th>\n      <td>13</td>\n      <td>0</td>\n      <td>0</td>\n      <td>508.50</td>\n      <td>424.22</td>\n      <td>36.00</td>\n      <td>F</td>\n      <td>E-commerce</td>\n    </tr>\n    <tr>\n      <th>...</th>\n      <td>...</td>\n      <td>...</td>\n      <td>...</td>\n      <td>...</td>\n      <td>...</td>\n      <td>...</td>\n      <td>...</td>\n      <td>...</td>\n    </tr>\n    <tr>\n      <th>5365</th>\n      <td>9991</td>\n      <td>0</td>\n      <td>0</td>\n      <td>482.50</td>\n      <td>421.89</td>\n      <td>23.00</td>\n      <td>F</td>\n      <td>E-commerce</td>\n    </tr>\n    <tr>\n      <th>5366</th>\n      <td>9992</td>\n      <td>0</td>\n      <td>0</td>\n      <td>491.50</td>\n      <td>424.00</td>\n      <td>44.00</td>\n      <td>M</td>\n      <td>E-commerce</td>\n    </tr>\n    <tr>\n      <th>5367</th>\n      <td>9994</td>\n      <td>0</td>\n      <td>0</td>\n      <td>486.00</td>\n      <td>423.78</td>\n      <td>27.00</td>\n      <td>F</td>\n      <td>Logistics</td>\n    </tr>\n    <tr>\n      <th>5368</th>\n      <td>9996</td>\n      <td>0</td>\n      <td>0</td>\n      <td>500.50</td>\n      <td>430.89</td>\n      <td>56.00</td>\n      <td>F</td>\n      <td>E-commerce</td>\n    </tr>\n    <tr>\n      <th>5369</th>\n      <td>9997</td>\n      <td>3</td>\n      <td>1</td>\n      <td>473.00</td>\n      <td>534.11</td>\n      <td>56.00</td>\n      <td>M</td>\n      <td>Logistics</td>\n    </tr>\n  </tbody>\n</table>\n<p>5370 rows × 8 columns</p>\n</div>"
     },
     "execution_count": 3,
     "metadata": {},
     "output_type": "execute_result"
    }
   ],
   "source": [
    "data = create_test_data(rs=52, na_step=10, nan_cols=['age', 'gender'])\n",
    "data"
   ]
  },
  {
   "cell_type": "markdown",
   "id": "d87c9442",
   "metadata": {},
   "source": [
    "## 2. AB-test"
   ]
  },
  {
   "cell_type": "markdown",
   "id": "0bb6fece",
   "metadata": {},
   "source": [
    "### 2.0 Data\n",
    "Let's correct data to see how AB-test works"
   ]
  },
  {
   "cell_type": "code",
   "execution_count": 4,
   "id": "6f5a8a1f",
   "metadata": {
    "ExecuteTime": {
     "end_time": "2023-12-13T11:35:09.346227100Z",
     "start_time": "2023-12-13T11:35:09.209189200Z"
    }
   },
   "outputs": [
    {
     "data": {
      "text/plain": "   user_id  signup_month  treat  pre_spends  post_spends   age gender  \\\n0        0             0      0      488.00       414.44   NaN      M   \n1        3             0      0      501.50       424.33 31.00    NaN   \n2       10             0      0      522.50       416.22 64.00      M   \n\n     industry group  \n0  E-commerce  test  \n1   Logistics  test  \n2  E-commerce  test  ",
      "text/html": "<div>\n<style scoped>\n    .dataframe tbody tr th:only-of-type {\n        vertical-align: middle;\n    }\n\n    .dataframe tbody tr th {\n        vertical-align: top;\n    }\n\n    .dataframe thead th {\n        text-align: right;\n    }\n</style>\n<table border=\"1\" class=\"dataframe\">\n  <thead>\n    <tr style=\"text-align: right;\">\n      <th></th>\n      <th>user_id</th>\n      <th>signup_month</th>\n      <th>treat</th>\n      <th>pre_spends</th>\n      <th>post_spends</th>\n      <th>age</th>\n      <th>gender</th>\n      <th>industry</th>\n      <th>group</th>\n    </tr>\n  </thead>\n  <tbody>\n    <tr>\n      <th>0</th>\n      <td>0</td>\n      <td>0</td>\n      <td>0</td>\n      <td>488.00</td>\n      <td>414.44</td>\n      <td>NaN</td>\n      <td>M</td>\n      <td>E-commerce</td>\n      <td>test</td>\n    </tr>\n    <tr>\n      <th>1</th>\n      <td>3</td>\n      <td>0</td>\n      <td>0</td>\n      <td>501.50</td>\n      <td>424.33</td>\n      <td>31.00</td>\n      <td>NaN</td>\n      <td>Logistics</td>\n      <td>test</td>\n    </tr>\n    <tr>\n      <th>2</th>\n      <td>10</td>\n      <td>0</td>\n      <td>0</td>\n      <td>522.50</td>\n      <td>416.22</td>\n      <td>64.00</td>\n      <td>M</td>\n      <td>E-commerce</td>\n      <td>test</td>\n    </tr>\n  </tbody>\n</table>\n</div>"
     },
     "execution_count": 4,
     "metadata": {},
     "output_type": "execute_result"
    }
   ],
   "source": [
    "data_ab = data.copy()\n",
    "\n",
    "half_data = int(data.shape[0]/2)\n",
    "data_ab['group'] = ['test']*half_data + ['control']*half_data\n",
    "data_ab.head(3)"
   ]
  },
  {
   "cell_type": "markdown",
   "id": "690ceec5",
   "metadata": {},
   "source": [
    "### 3.1 Full AB-test\n",
    "\n",
    "Full (basic) version of test includes calculation of all available metrics, which are: \"diff in means\", \"diff in diff\" and \"cuped\"<br>\n",
    "Pay attention, that for \"cuped\" and \"diff in diff\" metrics required target before pilot."
   ]
  },
  {
   "cell_type": "code",
   "execution_count": 5,
   "id": "4108a137",
   "metadata": {
    "ExecuteTime": {
     "end_time": "2023-12-13T11:35:09.416148900Z",
     "start_time": "2023-12-13T11:35:09.263942100Z"
    }
   },
   "outputs": [
    {
     "data": {
      "text/plain": "{'size': {'test': 2685, 'control': 2685},\n 'difference': {'ate': 0.9805090006207325,\n  'cuped': 0.9764245308837758,\n  'diff_in_diff': 0.39224084419618066},\n 'p-value': {'t-test': 0.20533212744131019,\n  'mann_whitney': 0.08089945933651932}}"
     },
     "execution_count": 5,
     "metadata": {},
     "output_type": "execute_result"
    }
   ],
   "source": [
    "model = ABTest()\n",
    "results = model.execute(\n",
    "    data=data_ab, \n",
    "    target_field='post_spends', \n",
    "    target_field_before='pre_spends', \n",
    "    group_field='group'\n",
    ")\n",
    "results"
   ]
  },
  {
   "cell_type": "markdown",
   "id": "05487531",
   "metadata": {},
   "source": [
    "To see results in more convenient way `show_beautiful_result` can be used"
   ]
  },
  {
   "cell_type": "code",
   "execution_count": 6,
   "id": "9dd905e8",
   "metadata": {
    "ExecuteTime": {
     "end_time": "2023-12-13T11:35:18.171334Z",
     "start_time": "2023-12-13T11:35:18.128751700Z"
    }
   },
   "outputs": [
    {
     "data": {
      "text/plain": "         size\ntest     2685\ncontrol  2685",
      "text/html": "<div>\n<style scoped>\n    .dataframe tbody tr th:only-of-type {\n        vertical-align: middle;\n    }\n\n    .dataframe tbody tr th {\n        vertical-align: top;\n    }\n\n    .dataframe thead th {\n        text-align: right;\n    }\n</style>\n<table border=\"1\" class=\"dataframe\">\n  <thead>\n    <tr style=\"text-align: right;\">\n      <th></th>\n      <th>size</th>\n    </tr>\n  </thead>\n  <tbody>\n    <tr>\n      <th>test</th>\n      <td>2685</td>\n    </tr>\n    <tr>\n      <th>control</th>\n      <td>2685</td>\n    </tr>\n  </tbody>\n</table>\n</div>"
     },
     "metadata": {},
     "output_type": "display_data"
    },
    {
     "data": {
      "text/plain": "              difference\nate                 0.98\ncuped               0.98\ndiff_in_diff        0.39",
      "text/html": "<div>\n<style scoped>\n    .dataframe tbody tr th:only-of-type {\n        vertical-align: middle;\n    }\n\n    .dataframe tbody tr th {\n        vertical-align: top;\n    }\n\n    .dataframe thead th {\n        text-align: right;\n    }\n</style>\n<table border=\"1\" class=\"dataframe\">\n  <thead>\n    <tr style=\"text-align: right;\">\n      <th></th>\n      <th>difference</th>\n    </tr>\n  </thead>\n  <tbody>\n    <tr>\n      <th>ate</th>\n      <td>0.98</td>\n    </tr>\n    <tr>\n      <th>cuped</th>\n      <td>0.98</td>\n    </tr>\n    <tr>\n      <th>diff_in_diff</th>\n      <td>0.39</td>\n    </tr>\n  </tbody>\n</table>\n</div>"
     },
     "metadata": {},
     "output_type": "display_data"
    },
    {
     "data": {
      "text/plain": "              p-value\nt-test           0.21\nmann_whitney     0.08",
      "text/html": "<div>\n<style scoped>\n    .dataframe tbody tr th:only-of-type {\n        vertical-align: middle;\n    }\n\n    .dataframe tbody tr th {\n        vertical-align: top;\n    }\n\n    .dataframe thead th {\n        text-align: right;\n    }\n</style>\n<table border=\"1\" class=\"dataframe\">\n  <thead>\n    <tr style=\"text-align: right;\">\n      <th></th>\n      <th>p-value</th>\n    </tr>\n  </thead>\n  <tbody>\n    <tr>\n      <th>t-test</th>\n      <td>0.21</td>\n    </tr>\n    <tr>\n      <th>mann_whitney</th>\n      <td>0.08</td>\n    </tr>\n  </tbody>\n</table>\n</div>"
     },
     "metadata": {},
     "output_type": "display_data"
    }
   ],
   "source": [
    "model.show_beautiful_result()"
   ]
  },
  {
   "cell_type": "markdown",
   "id": "ea252142",
   "metadata": {},
   "source": [
    "### 2.2 Simple AB-test\n",
    "To estimate effect without target data before pilot `calc_difference_method='ate'` can be used - effect will be estimated with \"diff in means\" method"
   ]
  },
  {
   "cell_type": "code",
   "execution_count": 7,
   "id": "0ab77779",
   "metadata": {
    "ExecuteTime": {
     "end_time": "2023-12-13T11:35:26.105236Z",
     "start_time": "2023-12-13T11:35:25.985615800Z"
    }
   },
   "outputs": [
    {
     "data": {
      "text/plain": "         size\ntest     2685\ncontrol  2685",
      "text/html": "<div>\n<style scoped>\n    .dataframe tbody tr th:only-of-type {\n        vertical-align: middle;\n    }\n\n    .dataframe tbody tr th {\n        vertical-align: top;\n    }\n\n    .dataframe thead th {\n        text-align: right;\n    }\n</style>\n<table border=\"1\" class=\"dataframe\">\n  <thead>\n    <tr style=\"text-align: right;\">\n      <th></th>\n      <th>size</th>\n    </tr>\n  </thead>\n  <tbody>\n    <tr>\n      <th>test</th>\n      <td>2685</td>\n    </tr>\n    <tr>\n      <th>control</th>\n      <td>2685</td>\n    </tr>\n  </tbody>\n</table>\n</div>"
     },
     "metadata": {},
     "output_type": "display_data"
    },
    {
     "data": {
      "text/plain": "     difference\nate        0.98",
      "text/html": "<div>\n<style scoped>\n    .dataframe tbody tr th:only-of-type {\n        vertical-align: middle;\n    }\n\n    .dataframe tbody tr th {\n        vertical-align: top;\n    }\n\n    .dataframe thead th {\n        text-align: right;\n    }\n</style>\n<table border=\"1\" class=\"dataframe\">\n  <thead>\n    <tr style=\"text-align: right;\">\n      <th></th>\n      <th>difference</th>\n    </tr>\n  </thead>\n  <tbody>\n    <tr>\n      <th>ate</th>\n      <td>0.98</td>\n    </tr>\n  </tbody>\n</table>\n</div>"
     },
     "metadata": {},
     "output_type": "display_data"
    },
    {
     "data": {
      "text/plain": "              p-value\nt-test           0.21\nmann_whitney     0.08",
      "text/html": "<div>\n<style scoped>\n    .dataframe tbody tr th:only-of-type {\n        vertical-align: middle;\n    }\n\n    .dataframe tbody tr th {\n        vertical-align: top;\n    }\n\n    .dataframe thead th {\n        text-align: right;\n    }\n</style>\n<table border=\"1\" class=\"dataframe\">\n  <thead>\n    <tr style=\"text-align: right;\">\n      <th></th>\n      <th>p-value</th>\n    </tr>\n  </thead>\n  <tbody>\n    <tr>\n      <th>t-test</th>\n      <td>0.21</td>\n    </tr>\n    <tr>\n      <th>mann_whitney</th>\n      <td>0.08</td>\n    </tr>\n  </tbody>\n</table>\n</div>"
     },
     "metadata": {},
     "output_type": "display_data"
    }
   ],
   "source": [
    "model = ABTest(calc_difference_method='ate')\n",
    "model.execute(data=data_ab, target_field='post_spends', group_field='group')\n",
    "\n",
    "model.show_beautiful_result()"
   ]
  }
 ],
 "metadata": {
  "kernelspec": {
   "display_name": "Python 3 (ipykernel)",
   "language": "python",
   "name": "python3"
  },
  "language_info": {
   "codemirror_mode": {
    "name": "ipython",
    "version": 3
   },
   "file_extension": ".py",
   "mimetype": "text/x-python",
   "name": "python",
   "nbconvert_exporter": "python",
   "pygments_lexer": "ipython3",
   "version": "3.10.11"
  }
 },
 "nbformat": 4,
 "nbformat_minor": 5
}
