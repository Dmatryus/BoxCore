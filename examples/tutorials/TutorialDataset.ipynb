{
 "cells": [
  {
   "cell_type": "code",
   "execution_count": 1,
   "id": "initial_id",
   "metadata": {
    "collapsed": true,
    "ExecuteTime": {
     "end_time": "2024-05-03T12:15:32.085770800Z",
     "start_time": "2024-05-03T12:15:31.426109100Z"
    }
   },
   "outputs": [],
   "source": [
    "import pandas as pd\n",
    "\n",
    "from hypex.dataset.dataset import Dataset, ExperimentData\n",
    "from hypex.dataset.roles import *"
   ]
  },
  {
   "cell_type": "markdown",
   "id": "17fbe750",
   "metadata": {},
   "source": [
    "# Dataset\n",
    "\n"
   ]
  },
  {
   "cell_type": "code",
   "execution_count": 2,
   "id": "522c2e109efc0c17",
   "metadata": {
    "ExecuteTime": {
     "end_time": "2024-05-03T12:15:32.186171400Z",
     "start_time": "2024-05-03T12:15:32.090781700Z"
    }
   },
   "outputs": [
    {
     "data": {
      "text/plain": "   a  b\n0  1  4\n1  2  5\n2  3  6"
     },
     "execution_count": 2,
     "metadata": {},
     "output_type": "execute_result"
    }
   ],
   "source": [
    "df = pd.DataFrame({'a': [1, 2, 3], 'b': [4, 5, 6]})\n",
    "\n",
    "ds = Dataset({'a': TargetRole(), 'b': PreTargetRole()}, data=df)\n",
    "ds"
   ]
  },
  {
   "cell_type": "code",
   "execution_count": 3,
   "id": "37b558e38a543a26",
   "metadata": {
    "ExecuteTime": {
     "end_time": "2024-05-03T12:15:32.189446900Z",
     "start_time": "2024-05-03T12:15:32.127328900Z"
    }
   },
   "outputs": [
    {
     "data": {
      "text/plain": "   a\n0  1\n1  2\n2  3"
     },
     "execution_count": 3,
     "metadata": {},
     "output_type": "execute_result"
    }
   ],
   "source": [
    "ExperimentData.from_dict({'a': [1, 2, 3]}, {'a': TargetRole()})"
   ]
  },
  {
   "cell_type": "code",
   "outputs": [
    {
     "data": {
      "text/plain": "{'a': Target(<class 'int'>), 'b': PreTarget(<class 'int'>)}"
     },
     "execution_count": 4,
     "metadata": {},
     "output_type": "execute_result"
    }
   ],
   "source": [
    "ds.roles"
   ],
   "metadata": {
    "collapsed": false,
    "ExecuteTime": {
     "end_time": "2024-05-03T12:15:32.291715500Z",
     "start_time": "2024-05-03T12:15:32.154426300Z"
    }
   },
   "id": "97e2c6fb26889ad5",
   "execution_count": 4
  },
  {
   "cell_type": "code",
   "execution_count": 5,
   "id": "7f22c159be791753",
   "metadata": {
    "ExecuteTime": {
     "end_time": "2024-05-03T12:15:32.358843700Z",
     "start_time": "2024-05-03T12:15:32.178079300Z"
    }
   },
   "outputs": [
    {
     "data": {
      "text/plain": "   a\n0  1\n1  2\n2  3"
     },
     "execution_count": 5,
     "metadata": {},
     "output_type": "execute_result"
    }
   ],
   "source": [
    "ds['a']"
   ]
  },
  {
   "cell_type": "code",
   "outputs": [
    {
     "data": {
      "text/plain": "     a  b\nmin  1  4"
     },
     "execution_count": 6,
     "metadata": {},
     "output_type": "execute_result"
    }
   ],
   "source": [
    "ds.min()"
   ],
   "metadata": {
    "collapsed": false,
    "ExecuteTime": {
     "end_time": "2024-05-03T12:15:32.389780200Z",
     "start_time": "2024-05-03T12:15:32.192802Z"
    }
   },
   "id": "f9b16547f83f3c67",
   "execution_count": 6
  },
  {
   "cell_type": "code",
   "execution_count": 7,
   "id": "86544b832e1c6601",
   "metadata": {
    "ExecuteTime": {
     "end_time": "2024-05-03T12:15:32.493261700Z",
     "start_time": "2024-05-03T12:15:32.241057600Z"
    }
   },
   "outputs": [
    {
     "data": {
      "text/plain": "   1\na  2\nb  5"
     },
     "execution_count": 7,
     "metadata": {},
     "output_type": "execute_result"
    }
   ],
   "source": [
    "ds[1]"
   ]
  },
  {
   "cell_type": "code",
   "execution_count": 8,
   "id": "6e6fcf0c4100061",
   "metadata": {
    "ExecuteTime": {
     "end_time": "2024-05-03T12:15:32.526860200Z",
     "start_time": "2024-05-03T12:15:32.271467500Z"
    }
   },
   "outputs": [
    {
     "data": {
      "text/plain": "   1\na  2"
     },
     "execution_count": 8,
     "metadata": {},
     "output_type": "execute_result"
    }
   ],
   "source": [
    "ds['a'][1]"
   ]
  },
  {
   "cell_type": "code",
   "outputs": [
    {
     "data": {
      "text/plain": "   a  b  c\n0  1  4  7\n1  2  5  8\n2  3  6  9"
     },
     "execution_count": 9,
     "metadata": {},
     "output_type": "execute_result"
    }
   ],
   "source": [
    "ds.add_column([7, 8, 9], {'c': TargetRole(int)})\n",
    "ds"
   ],
   "metadata": {
    "collapsed": false,
    "ExecuteTime": {
     "end_time": "2024-05-03T12:15:32.564681100Z",
     "start_time": "2024-05-03T12:15:32.306964800Z"
    }
   },
   "id": "3195bc0a0edad5b1",
   "execution_count": 9
  },
  {
   "cell_type": "code",
   "outputs": [
    {
     "data": {
      "text/plain": "   a\n0  2\n1  4\n2  6"
     },
     "execution_count": 10,
     "metadata": {},
     "output_type": "execute_result"
    }
   ],
   "source": [
    "ds['a'].map(lambda x: x * 2)"
   ],
   "metadata": {
    "collapsed": false,
    "ExecuteTime": {
     "end_time": "2024-05-03T12:15:32.595632300Z",
     "start_time": "2024-05-03T12:15:32.340983200Z"
    }
   },
   "id": "92e4adcdd645c65e",
   "execution_count": 10
  },
  {
   "cell_type": "code",
   "outputs": [
    {
     "data": {
      "text/plain": "[('a', array([1, 2, 3])),\n ('b', array([4, 5, 6])),\n ('c', array([7, 8, 9], dtype=int64))]"
     },
     "execution_count": 11,
     "metadata": {},
     "output_type": "execute_result"
    }
   ],
   "source": [
    "ds.unique()"
   ],
   "metadata": {
    "collapsed": false,
    "ExecuteTime": {
     "end_time": "2024-05-03T12:15:32.627707600Z",
     "start_time": "2024-05-03T12:15:32.365745700Z"
    }
   },
   "id": "4d33df616d3992a7",
   "execution_count": 11
  },
  {
   "cell_type": "code",
   "outputs": [
    {
     "data": {
      "text/plain": "   new\n0   15\n1   17\n2   19"
     },
     "execution_count": 12,
     "metadata": {},
     "output_type": "execute_result"
    }
   ],
   "source": [
    "ds.apply(func=lambda x: x['a'] + x['c'] + 7, role={\"new\": InfoRole()}, axis=1)"
   ],
   "metadata": {
    "collapsed": false,
    "ExecuteTime": {
     "end_time": "2024-05-03T12:15:32.769730900Z",
     "start_time": "2024-05-03T12:15:32.394627800Z"
    }
   },
   "id": "982af7e32259e293",
   "execution_count": 12
  },
  {
   "cell_type": "code",
   "outputs": [
    {
     "name": "stdout",
     "output_type": "stream",
     "text": [
      "{'a': Target(<class 'int'>), 'b': PreTarget(<class 'int'>), 'c': Target(<class 'int'>)}\n"
     ]
    }
   ],
   "source": [
    "print(ds.roles)"
   ],
   "metadata": {
    "collapsed": false,
    "ExecuteTime": {
     "end_time": "2024-05-03T12:15:32.773273400Z",
     "start_time": "2024-05-03T12:15:32.443339400Z"
    }
   },
   "id": "97529b0fa1c80368",
   "execution_count": 13
  },
  {
   "cell_type": "code",
   "outputs": [
    {
     "data": {
      "text/plain": "   a  b  c  new\n0  1  4  7   15\n1  2  5  8   17\n2  3  6  9   19"
     },
     "execution_count": 14,
     "metadata": {},
     "output_type": "execute_result"
    }
   ],
   "source": [
    "ds.add_column(ds.apply(func=lambda x: x['a'] + x['c'] + 7, role={\"new\": InfoRole()}, axis=1))\n",
    "ds"
   ],
   "metadata": {
    "collapsed": false,
    "ExecuteTime": {
     "end_time": "2024-05-03T12:15:32.870832800Z",
     "start_time": "2024-05-03T12:15:32.471715900Z"
    }
   },
   "id": "9c2299476750f8",
   "execution_count": 14
  },
  {
   "cell_type": "code",
   "outputs": [
    {
     "data": {
      "text/plain": "{'a': Target(<class 'int'>),\n 'b': PreTarget(<class 'int'>),\n 'c': Target(<class 'int'>),\n 'new': Info(<class 'int'>)}"
     },
     "execution_count": 15,
     "metadata": {},
     "output_type": "execute_result"
    }
   ],
   "source": [
    "ds.roles"
   ],
   "metadata": {
    "collapsed": false,
    "ExecuteTime": {
     "end_time": "2024-05-03T12:15:32.909602100Z",
     "start_time": "2024-05-03T12:15:32.505852700Z"
    }
   },
   "id": "3a0fe3e476ec0675",
   "execution_count": 15
  },
  {
   "cell_type": "code",
   "outputs": [],
   "source": [
    "ds.add_column([7, 8, 9], {'f': TargetRole(int)}, index=[2, 0, 1])"
   ],
   "metadata": {
    "collapsed": false,
    "ExecuteTime": {
     "end_time": "2024-05-03T12:15:32.915877600Z",
     "start_time": "2024-05-03T12:15:32.541441600Z"
    }
   },
   "id": "e022d46391e83503",
   "execution_count": 16
  },
  {
   "cell_type": "code",
   "outputs": [
    {
     "data": {
      "text/plain": "   a  b  c  new  f\n0  1  4  7   15  8\n1  2  5  8   17  9\n2  3  6  9   19  7"
     },
     "execution_count": 17,
     "metadata": {},
     "output_type": "execute_result"
    }
   ],
   "source": [
    "ds"
   ],
   "metadata": {
    "collapsed": false,
    "ExecuteTime": {
     "end_time": "2024-05-03T12:15:32.947108Z",
     "start_time": "2024-05-03T12:15:32.564681100Z"
    }
   },
   "id": "1fe33a91ff7e247f",
   "execution_count": 17
  },
  {
   "cell_type": "code",
   "outputs": [
    {
     "name": "stderr",
     "output_type": "stream",
     "text": [
      "C:\\Users\\User\\PycharmProjects\\HypEx\\hypex\\dataset\\dataset.py:81: SyntaxWarning: Column must be added by add_column\n",
      "  warnings.warn(\"Column must be added by add_column\", category=SyntaxWarning)\n"
     ]
    },
    {
     "data": {
      "text/plain": "   a  b  c  new  f  e\n0  1  4  7   15  8  1\n1  2  5  8   17  9  2\n2  3  6  9   19  7  3"
     },
     "execution_count": 18,
     "metadata": {},
     "output_type": "execute_result"
    }
   ],
   "source": [
    "ds['e'] = [1, 2, 3]\n",
    "ds"
   ],
   "metadata": {
    "collapsed": false,
    "ExecuteTime": {
     "end_time": "2024-05-03T12:15:32.979693800Z",
     "start_time": "2024-05-03T12:15:32.594516400Z"
    }
   },
   "id": "55eaa1d07e6541d4",
   "execution_count": 18
  },
  {
   "cell_type": "code",
   "outputs": [
    {
     "data": {
      "text/plain": "   a  b  c  new  f  e\n0  1  4  7   15  8  1\n1  2  5  8   17  9  2\n2  3  6  9   19  7  3"
     },
     "execution_count": 19,
     "metadata": {},
     "output_type": "execute_result"
    }
   ],
   "source": [
    "ds['a'][1] = 1\n",
    "ds"
   ],
   "metadata": {
    "collapsed": false,
    "ExecuteTime": {
     "end_time": "2024-05-03T12:15:33.011733200Z",
     "start_time": "2024-05-03T12:15:32.624900400Z"
    }
   },
   "id": "33a3e6dbe408808e",
   "execution_count": 19
  },
  {
   "cell_type": "code",
   "outputs": [
    {
     "data": {
      "text/plain": "       a      b      c    new      f      e\n0  False  False  False  False   True  False\n1  False  False   True  False  False  False\n2   True  False  False  False  False   True"
     },
     "execution_count": 40,
     "metadata": {},
     "output_type": "execute_result"
    }
   ],
   "source": [
    "ds.isin([3, 8])"
   ],
   "metadata": {
    "collapsed": false,
    "ExecuteTime": {
     "end_time": "2024-05-03T12:16:08.152254800Z",
     "start_time": "2024-05-03T12:16:08.105403900Z"
    }
   },
   "id": "24738ec2c91c2169",
   "execution_count": 40
  },
  {
   "cell_type": "code",
   "outputs": [
    {
     "data": {
      "text/plain": "{'a': Target(<class 'int'>),\n 'b': PreTarget(<class 'int'>),\n 'c': Target(<class 'int'>),\n 'new': Info(<class 'int'>),\n 'f': Target(<class 'int'>),\n 'e': Info(None)}"
     },
     "execution_count": 21,
     "metadata": {},
     "output_type": "execute_result"
    }
   ],
   "source": [
    "ds.roles"
   ],
   "metadata": {
    "collapsed": false,
    "ExecuteTime": {
     "end_time": "2024-05-03T12:15:33.222333700Z",
     "start_time": "2024-05-03T12:15:32.687793700Z"
    }
   },
   "id": "d91ae2042d25f671",
   "execution_count": 21
  },
  {
   "cell_type": "code",
   "outputs": [
    {
     "name": "stdout",
     "output_type": "stream",
     "text": [
      "[(1,         a    b    c   new    f    e\n",
      "mean  1.0  4.0  7.0  15.0  8.0  1.0), (2,         a    b    c   new    f    e\n",
      "mean  2.0  5.0  8.0  17.0  9.0  2.0), (3,         a    b    c   new    f    e\n",
      "mean  3.0  6.0  9.0  19.0  7.0  3.0)]\n"
     ]
    }
   ],
   "source": [
    "groups_func = ds.groupby('a', func='mean')\n",
    "print(groups_func)"
   ],
   "metadata": {
    "collapsed": false,
    "ExecuteTime": {
     "end_time": "2024-05-03T12:15:33.403649400Z",
     "start_time": "2024-05-03T12:15:32.719318200Z"
    }
   },
   "id": "1fa206cbf2ceb2de",
   "execution_count": 22
  },
  {
   "cell_type": "code",
   "outputs": [
    {
     "name": "stdout",
     "output_type": "stream",
     "text": [
      "[(1,    a  b  c  new  f  e\n",
      "0  1  4  7   15  8  1), (2,    a  b  c  new  f  e\n",
      "1  2  5  8   17  9  2), (3,    a  b  c  new  f  e\n",
      "2  3  6  9   19  7  3)]\n"
     ]
    }
   ],
   "source": [
    "groups = ds.groupby('a')\n",
    "print(groups)"
   ],
   "metadata": {
    "collapsed": false,
    "ExecuteTime": {
     "end_time": "2024-05-03T12:15:33.438071100Z",
     "start_time": "2024-05-03T12:15:32.881937900Z"
    }
   },
   "id": "70b1e4c4f436512",
   "execution_count": 23
  },
  {
   "cell_type": "code",
   "outputs": [
    {
     "name": "stdout",
     "output_type": "stream",
     "text": [
      "[(1,      new  e\n",
      "sum   15  1\n",
      "min   15  1), (2,      new  e\n",
      "sum   17  2\n",
      "min   17  2), (3,      new  e\n",
      "sum   19  3\n",
      "min   19  3)]\n"
     ]
    },
    {
     "name": "stderr",
     "output_type": "stream",
     "text": [
      "C:\\Users\\User\\PycharmProjects\\HypEx\\hypex\\dataset\\backends\\pandas_backend.py:81: SettingWithCopyWarning: \n",
      "A value is trying to be set on a copy of a slice from a DataFrame.\n",
      "Try using .loc[row_indexer,col_indexer] = value instead\n",
      "\n",
      "See the caveats in the documentation: https://pandas.pydata.org/pandas-docs/stable/user_guide/indexing.html#returning-a-view-versus-a-copy\n",
      "  self.data[column_name] = self.data[column_name].astype(type_name)\n",
      "C:\\Users\\User\\PycharmProjects\\HypEx\\hypex\\dataset\\backends\\pandas_backend.py:81: SettingWithCopyWarning: \n",
      "A value is trying to be set on a copy of a slice from a DataFrame.\n",
      "Try using .loc[row_indexer,col_indexer] = value instead\n",
      "\n",
      "See the caveats in the documentation: https://pandas.pydata.org/pandas-docs/stable/user_guide/indexing.html#returning-a-view-versus-a-copy\n",
      "  self.data[column_name] = self.data[column_name].astype(type_name)\n",
      "C:\\Users\\User\\PycharmProjects\\HypEx\\hypex\\dataset\\backends\\pandas_backend.py:81: SettingWithCopyWarning: \n",
      "A value is trying to be set on a copy of a slice from a DataFrame.\n",
      "Try using .loc[row_indexer,col_indexer] = value instead\n",
      "\n",
      "See the caveats in the documentation: https://pandas.pydata.org/pandas-docs/stable/user_guide/indexing.html#returning-a-view-versus-a-copy\n",
      "  self.data[column_name] = self.data[column_name].astype(type_name)\n",
      "C:\\Users\\User\\PycharmProjects\\HypEx\\hypex\\dataset\\backends\\pandas_backend.py:81: SettingWithCopyWarning: \n",
      "A value is trying to be set on a copy of a slice from a DataFrame.\n",
      "Try using .loc[row_indexer,col_indexer] = value instead\n",
      "\n",
      "See the caveats in the documentation: https://pandas.pydata.org/pandas-docs/stable/user_guide/indexing.html#returning-a-view-versus-a-copy\n",
      "  self.data[column_name] = self.data[column_name].astype(type_name)\n",
      "C:\\Users\\User\\PycharmProjects\\HypEx\\hypex\\dataset\\backends\\pandas_backend.py:81: SettingWithCopyWarning: \n",
      "A value is trying to be set on a copy of a slice from a DataFrame.\n",
      "Try using .loc[row_indexer,col_indexer] = value instead\n",
      "\n",
      "See the caveats in the documentation: https://pandas.pydata.org/pandas-docs/stable/user_guide/indexing.html#returning-a-view-versus-a-copy\n",
      "  self.data[column_name] = self.data[column_name].astype(type_name)\n",
      "C:\\Users\\User\\PycharmProjects\\HypEx\\hypex\\dataset\\backends\\pandas_backend.py:81: SettingWithCopyWarning: \n",
      "A value is trying to be set on a copy of a slice from a DataFrame.\n",
      "Try using .loc[row_indexer,col_indexer] = value instead\n",
      "\n",
      "See the caveats in the documentation: https://pandas.pydata.org/pandas-docs/stable/user_guide/indexing.html#returning-a-view-versus-a-copy\n",
      "  self.data[column_name] = self.data[column_name].astype(type_name)\n"
     ]
    }
   ],
   "source": [
    "groups_func_fields = ds.groupby('a', func=['sum', 'min'], fields_list=['new', 'e'])\n",
    "print(groups_func_fields)"
   ],
   "metadata": {
    "collapsed": false,
    "ExecuteTime": {
     "end_time": "2024-05-03T12:15:33.512418900Z",
     "start_time": "2024-05-03T12:15:32.941610800Z"
    }
   },
   "id": "2046ae2f89c1102d",
   "execution_count": 24
  },
  {
   "cell_type": "code",
   "outputs": [
    {
     "data": {
      "text/plain": "        a     b     c   new     f    e\nsum   6.0  15.0  24.0  51.0  24.0  6.0\nmean  2.0   5.0   8.0  17.0   8.0  2.0"
     },
     "execution_count": 25,
     "metadata": {},
     "output_type": "execute_result"
    }
   ],
   "source": [
    "ds.agg(['sum', 'mean'])"
   ],
   "metadata": {
    "collapsed": false,
    "ExecuteTime": {
     "end_time": "2024-05-03T12:15:33.521166200Z",
     "start_time": "2024-05-03T12:15:33.002324500Z"
    }
   },
   "id": "d38e12aa12d36ab7",
   "execution_count": 25
  },
  {
   "cell_type": "code",
   "outputs": [
    {
     "data": {
      "text/plain": "        a    b    c   new    f    e\nmean  2.0  5.0  8.0  17.0  8.0  2.0"
     },
     "execution_count": 26,
     "metadata": {},
     "output_type": "execute_result"
    }
   ],
   "source": [
    "ds.mean()"
   ],
   "metadata": {
    "collapsed": false,
    "ExecuteTime": {
     "end_time": "2024-05-03T12:15:33.670461Z",
     "start_time": "2024-05-03T12:15:33.049909400Z"
    }
   },
   "id": "3ef763e65ccc52e7",
   "execution_count": 26
  },
  {
   "cell_type": "code",
   "outputs": [],
   "source": [
    "ds_empty = Dataset(pd.DataFrame())._create_empty()"
   ],
   "metadata": {
    "collapsed": false,
    "ExecuteTime": {
     "end_time": "2024-05-03T12:15:33.674321200Z",
     "start_time": "2024-05-03T12:15:33.097002500Z"
    }
   },
   "id": "d9f59b67ef932e42",
   "execution_count": 27
  },
  {
   "cell_type": "code",
   "outputs": [
    {
     "data": {
      "text/plain": "Index([], dtype='object')"
     },
     "execution_count": 28,
     "metadata": {},
     "output_type": "execute_result"
    }
   ],
   "source": [
    "ds_empty.columns"
   ],
   "metadata": {
    "collapsed": false,
    "ExecuteTime": {
     "end_time": "2024-05-03T12:15:33.703064700Z",
     "start_time": "2024-05-03T12:15:33.118891500Z"
    }
   },
   "id": "8e65e8bf25bcb53b",
   "execution_count": 28
  },
  {
   "cell_type": "code",
   "outputs": [
    {
     "data": {
      "text/plain": "Empty DataFrame\nColumns: []\nIndex: []"
     },
     "execution_count": 29,
     "metadata": {},
     "output_type": "execute_result"
    }
   ],
   "source": [
    "ds_empty._backend"
   ],
   "metadata": {
    "collapsed": false,
    "ExecuteTime": {
     "end_time": "2024-05-03T12:15:33.727375Z",
     "start_time": "2024-05-03T12:15:33.144821700Z"
    }
   },
   "id": "f5578fea81e79c4c",
   "execution_count": 29
  },
  {
   "cell_type": "code",
   "outputs": [],
   "source": [
    "ds_from_dict = Dataset.from_dict({'a': [1, 2], 'b': [3, 4]}, {'a': TargetRole(), 'b': InfoRole()})"
   ],
   "metadata": {
    "collapsed": false,
    "ExecuteTime": {
     "end_time": "2024-05-03T12:15:33.731979Z",
     "start_time": "2024-05-03T12:15:33.180219600Z"
    }
   },
   "id": "c1af9da76c0d1092",
   "execution_count": 30
  },
  {
   "cell_type": "code",
   "outputs": [
    {
     "data": {
      "text/plain": "   a  b\n0  1  3\n1  2  4"
     },
     "execution_count": 31,
     "metadata": {},
     "output_type": "execute_result"
    }
   ],
   "source": [
    "ds_from_dict"
   ],
   "metadata": {
    "collapsed": false,
    "ExecuteTime": {
     "end_time": "2024-05-03T12:15:33.775747500Z",
     "start_time": "2024-05-03T12:15:33.221212500Z"
    }
   },
   "id": "f741a7a185949c1f",
   "execution_count": 31
  },
  {
   "cell_type": "code",
   "outputs": [
    {
     "data": {
      "text/plain": "{'a': Target(None), 'b': Info(None)}"
     },
     "execution_count": 32,
     "metadata": {},
     "output_type": "execute_result"
    }
   ],
   "source": [
    "ds_from_dict.roles"
   ],
   "metadata": {
    "collapsed": false,
    "ExecuteTime": {
     "end_time": "2024-05-03T12:15:33.779038200Z",
     "start_time": "2024-05-03T12:15:33.253005Z"
    }
   },
   "id": "b1819a6579d2216a",
   "execution_count": 32
  },
  {
   "cell_type": "code",
   "outputs": [
    {
     "data": {
      "text/plain": "   a  b  c  new  f  e\n0  1  4  7   15  8  1\n1  2  5  8   17  9  2\n2  3  6  9   19  7  3"
     },
     "execution_count": 33,
     "metadata": {},
     "output_type": "execute_result"
    }
   ],
   "source": [
    "ds"
   ],
   "metadata": {
    "collapsed": false,
    "ExecuteTime": {
     "end_time": "2024-05-03T12:15:33.796111600Z",
     "start_time": "2024-05-03T12:15:33.292384600Z"
    }
   },
   "id": "5a33f7b721b7191",
   "execution_count": 33
  },
  {
   "cell_type": "code",
   "outputs": [
    {
     "data": {
      "text/plain": "   a  b  c  new  f  e\n0  1  4  7   15  8  1\n1  2  5  8   17  9  2\n2  3  6  9   19  7  3\n0  1  4  7   15  8  1\n1  2  5  8   17  9  2\n2  3  6  9   19  7  3"
     },
     "execution_count": 34,
     "metadata": {},
     "output_type": "execute_result"
    }
   ],
   "source": [
    "ds.append(ds)"
   ],
   "metadata": {
    "collapsed": false,
    "ExecuteTime": {
     "end_time": "2024-05-03T12:15:33.801164600Z",
     "start_time": "2024-05-03T12:15:33.314337500Z"
    }
   },
   "id": "ca058bb6efc5083f",
   "execution_count": 34
  },
  {
   "cell_type": "code",
   "outputs": [
    {
     "data": {
      "text/plain": "{'a': Target(None), 'b': Info(None)}"
     },
     "execution_count": 35,
     "metadata": {},
     "output_type": "execute_result"
    }
   ],
   "source": [
    "ds_from_dict.roles"
   ],
   "metadata": {
    "collapsed": false,
    "ExecuteTime": {
     "end_time": "2024-05-03T12:15:33.803372700Z",
     "start_time": "2024-05-03T12:15:33.362586600Z"
    }
   },
   "id": "dd6a39a2ddd38217",
   "execution_count": 35
  },
  {
   "cell_type": "markdown",
   "source": [
    "# Eperiment Data"
   ],
   "metadata": {
    "collapsed": false
   },
   "id": "46249c33e39f1d63"
  },
  {
   "cell_type": "code",
   "outputs": [],
   "source": [
    "ed = ExperimentData(ds)._create_empty()"
   ],
   "metadata": {
    "collapsed": false,
    "ExecuteTime": {
     "end_time": "2024-05-03T12:15:33.823715500Z",
     "start_time": "2024-05-03T12:15:33.394177400Z"
    }
   },
   "id": "9481bf629070a745",
   "execution_count": 36
  },
  {
   "cell_type": "code",
   "outputs": [
    {
     "data": {
      "text/plain": "Empty DataFrame\nColumns: []\nIndex: []"
     },
     "execution_count": 37,
     "metadata": {},
     "output_type": "execute_result"
    }
   ],
   "source": [
    "ed.additional_fields"
   ],
   "metadata": {
    "collapsed": false,
    "ExecuteTime": {
     "end_time": "2024-05-03T12:15:33.846090100Z",
     "start_time": "2024-05-03T12:15:33.422781200Z"
    }
   },
   "id": "bda9d8e1a98f0d32",
   "execution_count": 37
  },
  {
   "cell_type": "code",
   "outputs": [
    {
     "data": {
      "text/plain": "Empty DataFrame\nColumns: []\nIndex: []"
     },
     "execution_count": 38,
     "metadata": {},
     "output_type": "execute_result"
    }
   ],
   "source": [
    "ed.additional_fields.loc[:, :]"
   ],
   "metadata": {
    "collapsed": false,
    "ExecuteTime": {
     "end_time": "2024-05-03T12:15:33.847198500Z",
     "start_time": "2024-05-03T12:15:33.471555500Z"
    }
   },
   "id": "60d26bb9b16cdc69",
   "execution_count": 38
  }
 ],
 "metadata": {
  "hide_input": false,
  "kernelspec": {
   "display_name": "Python 3 (ipykernel)",
   "language": "python",
   "name": "python3"
  },
  "language_info": {
   "codemirror_mode": {
    "name": "ipython",
    "version": 3
   },
   "file_extension": ".py",
   "mimetype": "text/x-python",
   "name": "python",
   "nbconvert_exporter": "python",
   "pygments_lexer": "ipython3",
   "version": "3.10.11"
  },
  "nbTranslate": {
   "displayLangs": [
    "*"
   ],
   "hotkey": "alt-t",
   "langInMainMenu": true,
   "sourceLang": "en",
   "targetLang": "fr",
   "useGoogleTranslate": true
  },
  "toc": {
   "base_numbering": 1,
   "nav_menu": {},
   "number_sections": true,
   "sideBar": true,
   "skip_h1_title": false,
   "title_cell": "Table of Contents",
   "title_sidebar": "Contents",
   "toc_cell": false,
   "toc_position": {},
   "toc_section_display": true,
   "toc_window_display": false
  },
  "varInspector": {
   "cols": {
    "lenName": 16,
    "lenType": 16,
    "lenVar": 40
   },
   "kernels_config": {
    "python": {
     "delete_cmd_postfix": "",
     "delete_cmd_prefix": "del ",
     "library": "var_list.py",
     "varRefreshCmd": "print(var_dic_list())"
    },
    "r": {
     "delete_cmd_postfix": ") ",
     "delete_cmd_prefix": "rm(",
     "library": "var_list.r",
     "varRefreshCmd": "cat(var_dic_list()) "
    }
   },
   "types_to_exclude": [
    "module",
    "function",
    "builtin_function_or_method",
    "instance",
    "_Feature"
   ],
   "window_display": false
  }
 },
 "nbformat": 4,
 "nbformat_minor": 5
}
